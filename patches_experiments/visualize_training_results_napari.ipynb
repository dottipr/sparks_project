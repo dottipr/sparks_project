{
 "cells": [
  {
   "cell_type": "markdown",
   "metadata": {},
   "source": [
    "## Visualise Trained Models Results\n",
    "\n",
    "**Author**: Prisca Dotti\n",
    "\n",
    "**Last Edit**: 18.06.2024"
   ]
  },
  {
   "cell_type": "code",
   "execution_count": 1,
   "metadata": {},
   "outputs": [],
   "source": [
    "# autoreload is used to reload modules automatically before entering the\n",
    "# execution of code typed at the IPython prompt.\n",
    "%load_ext autoreload\n",
    "%autoreload 2\n",
    "# To import modules from parent directory in Jupyter Notebook\n",
    "import sys\n",
    "\n",
    "sys.path.append(\"..\")"
   ]
  },
  {
   "cell_type": "code",
   "execution_count": 2,
   "metadata": {},
   "outputs": [],
   "source": [
    "import logging\n",
    "import os\n",
    "import time\n",
    "\n",
    "import torch\n",
    "from torch import nn\n",
    "\n",
    "# from torch.cuda.amp import GradScaler\n",
    "from torch.utils.data import DataLoader\n",
    "\n",
    "from config import TrainingConfig, config\n",
    "from data.datasets import PatchSparksDataset\n",
    "from data.data_processing_tools import masks_to_instances_dict, process_raw_predictions\n",
    "from utils.training_script_utils import (\n",
    "    get_sample_ids,\n",
    "    init_model,\n",
    ")\n",
    "\n",
    "\n",
    "logger = logging.getLogger(__name__)\n",
    "logger.setLevel(logging.DEBUG)"
   ]
  },
  {
   "cell_type": "code",
   "execution_count": 3,
   "metadata": {},
   "outputs": [
    {
     "name": "stdout",
     "output_type": "stream",
     "text": [
      "[17:56:13] [  INFO  ] [   config   ] <318 > -- Loading C:\\Users\\prisc\\Code\\sparks_project\\config_files\\config_sparks_patches.ini\n"
     ]
    }
   ],
   "source": [
    "####################### Get training-specific parameters #######################\n",
    "\n",
    "run_name = \"sparks_patches\"\n",
    "# run_name = \"TEMP_new_annotated_peaks_physio\"  # TEMP local (run on laptop)\n",
    "config_filename = os.path.join(\"config_files\", \"config_sparks_patches.ini\")\n",
    "load_epoch = 100000\n",
    "\n",
    "use_train_data = False\n",
    "# custom_ids = []\n",
    "custom_ids = [\n",
    "    \"05\",\n",
    "    # \"10\",\n",
    "    # \"15\",\n",
    "    # \"20\",\n",
    "    # \"25\",\n",
    "    # \"32\",\n",
    "    # \"34\",\n",
    "    # \"40\",\n",
    "    # \"45\",\n",
    "]  # override sample_ids if needed\n",
    "\n",
    "testing = True  # set to False to only generate unet predictions\n",
    "# set to True to also compute processed outputs and metrics\n",
    "\n",
    "# Initialize general parameters\n",
    "params = TrainingConfig(training_config_file=config_filename)\n",
    "\n",
    "if run_name:\n",
    "    params.run_name = run_name\n",
    "model_filename = f\"network_{load_epoch:06d}.pth\"\n",
    "\n",
    "# Print parameters to console if needed\n",
    "# params.print_params()\n",
    "\n",
    "debug = True if config.verbosity == 3 else False"
   ]
  },
  {
   "cell_type": "code",
   "execution_count": 4,
   "metadata": {},
   "outputs": [
    {
     "name": "stdout",
     "output_type": "stream",
     "text": [
      "[17:56:14] [  INFO  ] [   config   ] <566 > -- Using cuda\n"
     ]
    }
   ],
   "source": [
    "########################### Detect GPU, if available ###########################\n",
    "\n",
    "params.set_device(device=\"auto\")\n",
    "# params.set_device(device=\"cpu\")  # temporary\n",
    "params.display_device_info()"
   ]
  },
  {
   "cell_type": "code",
   "execution_count": 5,
   "metadata": {},
   "outputs": [
    {
     "name": "stdout",
     "output_type": "stream",
     "text": [
      "[17:56:14] [  INFO  ] [  __main__  ] < 14 > -- Annotations and predictions will be saved on 'C:\\Users\\prisc\\Code\\sparks_project\\results_visualisation\\sparks_patches'\n"
     ]
    }
   ],
   "source": [
    "########################### Configure output folder ############################\n",
    "\n",
    "output_folder = \"results_visualisation\"  # Same folder for train and test preds\n",
    "os.makedirs(output_folder, exist_ok=True)\n",
    "\n",
    "# Subdirectory of output_folder where predictions are saved.\n",
    "# Change this to save results for same model with different inference\n",
    "# approaches.\n",
    "# output_name = training_name + \"_step=2\"\n",
    "output_name = params.run_name\n",
    "\n",
    "save_folder = os.path.join(config.basedir, output_folder, output_name)\n",
    "os.makedirs(save_folder, exist_ok=True)\n",
    "logger.info(f\"Annotations and predictions will be saved on '{save_folder}'\")"
   ]
  },
  {
   "cell_type": "code",
   "execution_count": 6,
   "metadata": {},
   "outputs": [
    {
     "name": "stdout",
     "output_type": "stream",
     "text": [
      "[17:56:14] [  INFO  ] [  __main__  ] < 3  > -- Processing training 'sparks_patches'...\n",
      "[17:56:14] [  INFO  ] [  __main__  ] < 11 > -- Predicting outputs for samples ['05'].\n",
      "[17:56:14] [  INFO  ] [  __main__  ] < 12 > -- Using C:\\Users\\prisc\\Code\\sparks_project\\data\\sparks_dataset as dataset root path.\n",
      "[17:56:26] [  INFO  ] [  __main__  ] < 23 > -- Samples in dataset (patches): 45\n"
     ]
    }
   ],
   "source": [
    "############################ Configure datasets ############################\n",
    "\n",
    "logger.info(f\"Processing training '{params.run_name}'...\")\n",
    "\n",
    "# Define the sample IDs based on dataset size and usage\n",
    "sample_ids = get_sample_ids(\n",
    "    train_data=use_train_data,\n",
    "    dataset_size=params.dataset_size,\n",
    "    custom_ids=custom_ids,\n",
    ")\n",
    "logger.info(f\"Predicting outputs for samples {sample_ids}.\")\n",
    "logger.info(f\"Using {params.dataset_dir} as dataset root path.\")\n",
    "\n",
    "# Initialize training dataset\n",
    "dataset = PatchSparksDataset(\n",
    "    params=params,\n",
    "    base_path=params.dataset_dir,\n",
    "    sample_ids=sample_ids,\n",
    "    load_instances=True,  # this is needed to detect patches wrt spark peaks\n",
    "    inference=None,\n",
    ")\n",
    "\n",
    "logger.info(f\"Samples in dataset (patches): {len(dataset)}\")\n",
    "\n",
    "# Create a dataloader\n",
    "dataset_loader = DataLoader(\n",
    "    dataset,\n",
    "    batch_size=params.inference_batch_size,\n",
    "    shuffle=False,\n",
    "    num_workers=params.num_workers,\n",
    "    pin_memory=params.pin_memory,\n",
    ")"
   ]
  },
  {
   "cell_type": "code",
   "execution_count": 7,
   "metadata": {},
   "outputs": [],
   "source": [
    "############################## Configure UNet ##############################\n",
    "\n",
    "# Initialize the UNet model\n",
    "network = init_model(params=params)\n",
    "\n",
    "# Move the model to the GPU if available\n",
    "if params.device.type != \"cpu\":\n",
    "    network = nn.DataParallel(network).to(params.device, non_blocking=True)\n",
    "    # cudnn.benchmark = True"
   ]
  },
  {
   "cell_type": "markdown",
   "metadata": {},
   "source": [
    "Can't run this on laptop"
   ]
  },
  {
   "cell_type": "code",
   "execution_count": 8,
   "metadata": {},
   "outputs": [],
   "source": [
    "### Load UNet model ###\n",
    "\n",
    "# Path to the saved model checkpoint\n",
    "models_relative_path = os.path.join(\n",
    "    \"models\", \"saved_models\", params.run_name, model_filename\n",
    ")\n",
    "model_dir = os.path.realpath(os.path.join(config.basedir, models_relative_path))\n",
    "\n",
    "# Load the model state dictionary\n",
    "logger.info(f\"Loading trained model '{run_name}' at epoch {load_epoch}...\")\n",
    "try:\n",
    "    network.load_state_dict(torch.load(model_dir, map_location=params.device))\n",
    "except RuntimeError as e:\n",
    "    if \"module\" in str(e):\n",
    "        # The error message contains \"module,\" so handle the DataParallel loading\n",
    "        logger.warning(\n",
    "            \"Failed to load the model, as it was trained with DataParallel. Wrapping it in DataParallel and retrying...\"\n",
    "        )\n",
    "        # Get current device of the object (model)\n",
    "        temp_device = next(iter(network.parameters())).device\n",
    "\n",
    "        network = nn.DataParallel(network)\n",
    "        network.load_state_dict(torch.load(model_dir, map_location=params.device))\n",
    "\n",
    "        logger.info(\"Network should be on CPU, removing DataParallel wrapper...\")\n",
    "        network = network.module.to(temp_device)\n",
    "    else:\n",
    "        # Handle other exceptions or re-raise the exception if it's unrelated\n",
    "        raise"
   ]
  },
  {
   "cell_type": "code",
   "execution_count": 20,
   "metadata": {},
   "outputs": [
    {
     "name": "stdout",
     "output_type": "stream",
     "text": [
      "[18:09:17] [ DEBUG  ] [  __main__  ] < 25 > -- Time to run testing dataset in UNet: 0.57 s\n"
     ]
    }
   ],
   "source": [
    "########################### Run samples in UNet ############################\n",
    "\n",
    "xs_list = []\n",
    "ys_list = []\n",
    "ys_instances_list = []\n",
    "\n",
    "# get U-Net's raw predictions\n",
    "network.eval()\n",
    "raw_preds_list = []\n",
    "start = time.time()\n",
    "with torch.no_grad():\n",
    "    for batch in dataset_loader:\n",
    "        x = batch[\"data\"]\n",
    "        y = batch[\"labels\"]\n",
    "        y_instances = batch[\"instances\"]\n",
    "\n",
    "        raw_pred = network(x.to(params.device).unsqueeze(1))\n",
    "        raw_pred = torch.exp(raw_pred).cpu()\n",
    "\n",
    "        raw_preds_list.extend(raw_pred.numpy())\n",
    "        xs_list.extend(x.numpy())\n",
    "        ys_list.extend(y.numpy())\n",
    "        ys_instances_list.extend(y_instances.numpy())\n",
    "\n",
    "logger.debug(f\"Time to run testing dataset in UNet: {time.time() - start:.2f} s\")"
   ]
  },
  {
   "cell_type": "code",
   "execution_count": 21,
   "metadata": {},
   "outputs": [
    {
     "name": "stdout",
     "output_type": "stream",
     "text": [
      "[18:09:21] [ DEBUG  ] [  __main__  ] < 3  > -- Getting processed output (segmentation and instances)\n",
      "[18:09:21] [ DEBUG  ] [  __main__  ] < 8  > -- Processing patch 1/45...\n",
      "[18:09:21] [ DEBUG  ] [  __main__  ] < 8  > -- Processing patch 2/45...\n",
      "[18:09:22] [ DEBUG  ] [  __main__  ] < 8  > -- Processing patch 3/45...\n",
      "[18:09:22] [ DEBUG  ] [  __main__  ] < 8  > -- Processing patch 4/45...\n",
      "[18:09:22] [ DEBUG  ] [  __main__  ] < 8  > -- Processing patch 5/45...\n",
      "[18:09:22] [ DEBUG  ] [  __main__  ] < 8  > -- Processing patch 6/45...\n",
      "[18:09:22] [ DEBUG  ] [  __main__  ] < 8  > -- Processing patch 7/45...\n",
      "[18:09:22] [ DEBUG  ] [  __main__  ] < 8  > -- Processing patch 8/45...\n",
      "[18:09:22] [ DEBUG  ] [  __main__  ] < 8  > -- Processing patch 9/45...\n",
      "[18:09:22] [ DEBUG  ] [  __main__  ] < 8  > -- Processing patch 10/45...\n",
      "[18:09:22] [ DEBUG  ] [  __main__  ] < 8  > -- Processing patch 11/45...\n",
      "[18:09:22] [ DEBUG  ] [  __main__  ] < 8  > -- Processing patch 12/45...\n",
      "[18:09:22] [ DEBUG  ] [  __main__  ] < 8  > -- Processing patch 13/45...\n",
      "[18:09:23] [ DEBUG  ] [  __main__  ] < 8  > -- Processing patch 14/45...\n",
      "[18:09:23] [ DEBUG  ] [  __main__  ] < 8  > -- Processing patch 15/45...\n",
      "[18:09:23] [ DEBUG  ] [  __main__  ] < 8  > -- Processing patch 16/45...\n",
      "[18:09:23] [ DEBUG  ] [  __main__  ] < 8  > -- Processing patch 17/45...\n",
      "[18:09:23] [ DEBUG  ] [  __main__  ] < 8  > -- Processing patch 18/45...\n",
      "[18:09:23] [ DEBUG  ] [  __main__  ] < 8  > -- Processing patch 19/45...\n",
      "[18:09:23] [ DEBUG  ] [  __main__  ] < 8  > -- Processing patch 20/45...\n",
      "[18:09:23] [ DEBUG  ] [  __main__  ] < 8  > -- Processing patch 21/45...\n",
      "[18:09:23] [ DEBUG  ] [  __main__  ] < 8  > -- Processing patch 22/45...\n",
      "[18:09:23] [ DEBUG  ] [  __main__  ] < 8  > -- Processing patch 23/45...\n",
      "[18:09:23] [ DEBUG  ] [  __main__  ] < 8  > -- Processing patch 24/45...\n",
      "[18:09:24] [ DEBUG  ] [  __main__  ] < 8  > -- Processing patch 25/45...\n",
      "[18:09:24] [ DEBUG  ] [  __main__  ] < 8  > -- Processing patch 26/45...\n",
      "[18:09:24] [ DEBUG  ] [  __main__  ] < 8  > -- Processing patch 27/45...\n",
      "[18:09:24] [ DEBUG  ] [  __main__  ] < 8  > -- Processing patch 28/45...\n",
      "[18:09:24] [ DEBUG  ] [  __main__  ] < 8  > -- Processing patch 29/45...\n",
      "[18:09:24] [ DEBUG  ] [  __main__  ] < 8  > -- Processing patch 30/45...\n",
      "[18:09:24] [ DEBUG  ] [  __main__  ] < 8  > -- Processing patch 31/45...\n",
      "[18:09:24] [ DEBUG  ] [  __main__  ] < 8  > -- Processing patch 32/45...\n",
      "[18:09:24] [ DEBUG  ] [  __main__  ] < 8  > -- Processing patch 33/45...\n",
      "[18:09:24] [ DEBUG  ] [  __main__  ] < 8  > -- Processing patch 34/45...\n",
      "[18:09:24] [ DEBUG  ] [  __main__  ] < 8  > -- Processing patch 35/45...\n",
      "[18:09:24] [ DEBUG  ] [  __main__  ] < 8  > -- Processing patch 36/45...\n",
      "[18:09:25] [ DEBUG  ] [  __main__  ] < 8  > -- Processing patch 37/45...\n",
      "[18:09:25] [ DEBUG  ] [  __main__  ] < 8  > -- Processing patch 38/45...\n",
      "[18:09:25] [ DEBUG  ] [  __main__  ] < 8  > -- Processing patch 39/45...\n",
      "[18:09:25] [ DEBUG  ] [  __main__  ] < 8  > -- Processing patch 40/45...\n",
      "[18:09:25] [ DEBUG  ] [  __main__  ] < 8  > -- Processing patch 41/45...\n",
      "[18:09:25] [ DEBUG  ] [  __main__  ] < 8  > -- Processing patch 42/45...\n",
      "[18:09:25] [ DEBUG  ] [  __main__  ] < 8  > -- Processing patch 43/45...\n",
      "[18:09:25] [ DEBUG  ] [  __main__  ] < 8  > -- Processing patch 44/45...\n",
      "[18:09:25] [ DEBUG  ] [  __main__  ] < 8  > -- Processing patch 45/45...\n"
     ]
    }
   ],
   "source": [
    "#################### Get processed output (if required) ####################\n",
    "\n",
    "logger.debug(\"Getting processed output (segmentation and instances)\")\n",
    "\n",
    "preds_list = []\n",
    "preds_instances_list = []\n",
    "for i in range(len(raw_preds_list)):\n",
    "    logger.debug(f\"Processing patch {i+1}/{len(dataset)}...\")\n",
    "\n",
    "    # transform raw predictions into a dictionary\n",
    "    raw_preds_dict = {\n",
    "        event_type: raw_preds_list[i][event_label]\n",
    "        for event_type, event_label in config.classes_dict.items()\n",
    "        if event_type in config.event_types\n",
    "    }\n",
    "\n",
    "    preds_instances, preds_segmentation, _ = process_raw_predictions(\n",
    "        raw_preds_dict=raw_preds_dict,\n",
    "        input_movie=xs_list[i],\n",
    "        training_mode=False,\n",
    "    )\n",
    "\n",
    "    preds_list.append(preds_segmentation[\"sparks\"])\n",
    "    preds_instances_list.append(preds_instances[\"sparks\"])"
   ]
  },
  {
   "cell_type": "markdown",
   "metadata": {},
   "source": [
    "### Visualise Preds with Napari"
   ]
  },
  {
   "cell_type": "code",
   "execution_count": 48,
   "metadata": {},
   "outputs": [],
   "source": [
    "import napari\n",
    "from utils.visualization_tools import (\n",
    "    get_discrete_cmap,\n",
    "    get_labels_cmap,\n",
    "    get_annotations_contour,\n",
    ")\n",
    "\n",
    "cmap = get_discrete_cmap(name=\"gray\", lut=16)"
   ]
  },
  {
   "cell_type": "code",
   "execution_count": 49,
   "metadata": {},
   "outputs": [],
   "source": [
    "# Initialize the napari viewer\n",
    "viewer = napari.Viewer()\n",
    "\n",
    "for i in range(len(dataset)):\n",
    "    # get contours of annotations, for visualization\n",
    "    y_contours = get_annotations_contour(annotations=ys_list[i], contour_val=2)\n",
    "\n",
    "    viewer.add_image(xs_list[i], colormap=\"gray\", name=\"Patches\", blending=\"additive\")\n",
    "    viewer.add_labels(\n",
    "        y_contours,\n",
    "        name=\"Ground Truth\",\n",
    "        blending=\"additive\",\n",
    "        opacity=0.3,\n",
    "        color=get_labels_cmap(),\n",
    "    )\n",
    "    viewer.add_labels(\n",
    "        preds_list[i],\n",
    "        name=\"Predictions\",\n",
    "        blending=\"additive\",\n",
    "        opacity=0.3,\n",
    "        color=get_labels_cmap(),\n",
    "    )\n",
    "\n",
    "# Enable grid mode\n",
    "viewer.grid.enabled = True\n",
    "viewer.grid.stride = 3\n",
    "# n_cols = 5\n",
    "# n_rows = len(dataset) // n_cols\n",
    "# viewer.grid.shape = (n_rows, n_cols)"
   ]
  },
  {
   "cell_type": "code",
   "execution_count": null,
   "metadata": {},
   "outputs": [],
   "source": []
  }
 ],
 "metadata": {
  "kernelspec": {
   "display_name": "sparks",
   "language": "python",
   "name": "python3"
  },
  "language_info": {
   "codemirror_mode": {
    "name": "ipython",
    "version": 3
   },
   "file_extension": ".py",
   "mimetype": "text/x-python",
   "name": "python",
   "nbconvert_exporter": "python",
   "pygments_lexer": "ipython3",
   "version": "3.9.19"
  }
 },
 "nbformat": 4,
 "nbformat_minor": 2
}
