{
 "cells": [
  {
   "cell_type": "markdown",
   "metadata": {},
   "source": [
    "## Visualise Trained Models Results\n",
    "\n",
    "**Author**: Prisca Dotti\n",
    "\n",
    "**Last Edit**: 18.06.2024"
   ]
  },
  {
   "cell_type": "code",
   "execution_count": 1,
   "metadata": {},
   "outputs": [],
   "source": [
    "# autoreload is used to reload modules automatically before entering the\n",
    "# execution of code typed at the IPython prompt.\n",
    "%load_ext autoreload\n",
    "%autoreload 2\n",
    "# To import modules from parent directory in Jupyter Notebook\n",
    "import sys\n",
    "\n",
    "sys.path.append(\"..\")"
   ]
  },
  {
   "cell_type": "code",
   "execution_count": 2,
   "metadata": {},
   "outputs": [],
   "source": [
    "import logging\n",
    "import os\n",
    "import time\n",
    "\n",
    "import torch\n",
    "from torch import nn\n",
    "\n",
    "# from torch.cuda.amp import GradScaler\n",
    "from torch.utils.data import DataLoader\n",
    "\n",
    "from config import TrainingConfig, config\n",
    "from data.datasets import PatchSparksDataset\n",
    "from data.data_processing_tools import masks_to_instances_dict, process_raw_predictions\n",
    "from utils.training_script_utils import (\n",
    "    get_sample_ids,\n",
    "    init_model,\n",
    ")\n",
    "\n",
    "\n",
    "logger = logging.getLogger(__name__)\n",
    "logger.setLevel(logging.DEBUG)"
   ]
  },
  {
   "cell_type": "code",
   "execution_count": 3,
   "metadata": {},
   "outputs": [
    {
     "name": "stdout",
     "output_type": "stream",
     "text": [
      "[04:35:21] [  INFO  ] [   config   ] <318 > -- Loading C:\\Users\\dotti\\Code\\sparks_project\\config_files\\config_sparks_patches_64x64x64.ini\n",
      "[04:35:21] [ ERROR  ] [wandb.jupyter] <224 > -- Failed to detect the name of this notebook, you can set it manually with the WANDB_NOTEBOOK_NAME environment variable to enable code saving.\n"
     ]
    },
    {
     "name": "stderr",
     "output_type": "stream",
     "text": [
      "\u001b[34m\u001b[1mwandb\u001b[0m: Currently logged in as: \u001b[33mdottip\u001b[0m. Use \u001b[1m`wandb login --relogin`\u001b[0m to force relogin\n"
     ]
    },
    {
     "data": {
      "text/html": [
       "wandb version 0.17.2 is available!  To upgrade, please run:\n",
       " $ pip install wandb --upgrade"
      ],
      "text/plain": [
       "<IPython.core.display.HTML object>"
      ]
     },
     "metadata": {},
     "output_type": "display_data"
    },
    {
     "data": {
      "text/html": [
       "Tracking run with wandb version 0.15.10"
      ],
      "text/plain": [
       "<IPython.core.display.HTML object>"
      ]
     },
     "metadata": {},
     "output_type": "display_data"
    },
    {
     "data": {
      "text/html": [
       "Run data is saved locally in <code>c:\\Users\\dotti\\Code\\sparks_project\\patches_experiments\\wandb\\run-20240620_043523-sparks_patches_64x64x64</code>"
      ],
      "text/plain": [
       "<IPython.core.display.HTML object>"
      ]
     },
     "metadata": {},
     "output_type": "display_data"
    },
    {
     "data": {
      "text/html": [
       "Syncing run <strong><a href='https://wandb.ai/dottip/patches/runs/sparks_patches_64x64x64' target=\"_blank\">sparks_patches_64x64x64</a></strong> to <a href='https://wandb.ai/dottip/patches' target=\"_blank\">Weights & Biases</a> (<a href='https://wandb.me/run' target=\"_blank\">docs</a>)<br/>"
      ],
      "text/plain": [
       "<IPython.core.display.HTML object>"
      ]
     },
     "metadata": {},
     "output_type": "display_data"
    },
    {
     "data": {
      "text/html": [
       " View project at <a href='https://wandb.ai/dottip/patches' target=\"_blank\">https://wandb.ai/dottip/patches</a>"
      ],
      "text/plain": [
       "<IPython.core.display.HTML object>"
      ]
     },
     "metadata": {},
     "output_type": "display_data"
    },
    {
     "data": {
      "text/html": [
       " View run at <a href='https://wandb.ai/dottip/patches/runs/sparks_patches_64x64x64' target=\"_blank\">https://wandb.ai/dottip/patches/runs/sparks_patches_64x64x64</a>"
      ],
      "text/plain": [
       "<IPython.core.display.HTML object>"
      ]
     },
     "metadata": {},
     "output_type": "display_data"
    }
   ],
   "source": [
    "####################### Get training-specific parameters #######################\n",
    "\n",
    "run_name = \"sparks_patches_64x64x64\"\n",
    "# run_name = \"TEMP_new_annotated_peaks_physio\"  # TEMP local (run on laptop)\n",
    "config_filename = os.path.join(\"config_files\", \"config_sparks_patches_64x64x64.ini\")\n",
    "load_epoch = 100000\n",
    "\n",
    "use_train_data = False\n",
    "# custom_ids = []\n",
    "custom_ids = [\n",
    "    \"01\",\n",
    "    # \"05\",\n",
    "    # \"10\",\n",
    "    # \"15\",\n",
    "    # \"20\",\n",
    "    # \"25\",\n",
    "    # \"32\",\n",
    "    # \"34\",\n",
    "    # \"40\",\n",
    "    # \"45\",\n",
    "]  # override sample_ids if needed\n",
    "\n",
    "testing = True  # set to False to only generate unet predictions\n",
    "# set to True to also compute processed outputs and metrics\n",
    "\n",
    "# Initialize general parameters\n",
    "params = TrainingConfig(training_config_file=config_filename)\n",
    "\n",
    "if run_name:\n",
    "    params.run_name = run_name\n",
    "model_filename = f\"network_{load_epoch:06d}.pth\"\n",
    "\n",
    "# Print parameters to console if needed\n",
    "# params.print_params()\n",
    "\n",
    "debug = True if config.verbosity == 3 else False"
   ]
  },
  {
   "cell_type": "code",
   "execution_count": 4,
   "metadata": {},
   "outputs": [
    {
     "name": "stdout",
     "output_type": "stream",
     "text": [
      "[04:35:29] [  INFO  ] [   config   ] <566 > -- Using cuda\n"
     ]
    }
   ],
   "source": [
    "########################### Detect GPU, if available ###########################\n",
    "\n",
    "params.set_device(device=\"auto\")\n",
    "# params.set_device(device=\"cpu\")  # temporary\n",
    "params.display_device_info()"
   ]
  },
  {
   "cell_type": "code",
   "execution_count": 5,
   "metadata": {},
   "outputs": [
    {
     "name": "stdout",
     "output_type": "stream",
     "text": [
      "[04:35:29] [  INFO  ] [  __main__  ] < 14 > -- Annotations and predictions will be saved on 'C:\\Users\\dotti\\Code\\sparks_project\\results_visualisation\\sparks_patches_64x64x64'\n"
     ]
    }
   ],
   "source": [
    "########################### Configure output folder ############################\n",
    "\n",
    "output_folder = \"results_visualisation\"  # Same folder for train and test preds\n",
    "os.makedirs(output_folder, exist_ok=True)\n",
    "\n",
    "# Subdirectory of output_folder where predictions are saved.\n",
    "# Change this to save results for same model with different inference\n",
    "# approaches.\n",
    "# output_name = training_name + \"_step=2\"\n",
    "output_name = params.run_name\n",
    "\n",
    "save_folder = os.path.join(config.basedir, output_folder, output_name)\n",
    "os.makedirs(save_folder, exist_ok=True)\n",
    "logger.info(f\"Annotations and predictions will be saved on '{save_folder}'\")"
   ]
  },
  {
   "cell_type": "code",
   "execution_count": 6,
   "metadata": {},
   "outputs": [
    {
     "name": "stdout",
     "output_type": "stream",
     "text": [
      "[04:35:29] [  INFO  ] [  __main__  ] < 3  > -- Processing training 'sparks_patches_64x64x64'...\n",
      "[04:35:29] [  INFO  ] [  __main__  ] < 11 > -- Predicting outputs for samples ['01'].\n",
      "[04:35:29] [  INFO  ] [  __main__  ] < 12 > -- Using C:\\Users\\dotti\\Code\\sparks_project\\data\\sparks_dataset as dataset root path.\n",
      "[04:35:32] [  INFO  ] [  __main__  ] < 23 > -- Samples in dataset (patches): 8\n"
     ]
    }
   ],
   "source": [
    "############################ Configure datasets ############################\n",
    "\n",
    "logger.info(f\"Processing training '{params.run_name}'...\")\n",
    "\n",
    "# Define the sample IDs based on dataset size and usage\n",
    "sample_ids = get_sample_ids(\n",
    "    train_data=use_train_data,\n",
    "    dataset_size=params.dataset_size,\n",
    "    custom_ids=custom_ids,\n",
    ")\n",
    "logger.info(f\"Predicting outputs for samples {sample_ids}.\")\n",
    "logger.info(f\"Using {params.dataset_dir} as dataset root path.\")\n",
    "\n",
    "# Initialize training dataset\n",
    "dataset = PatchSparksDataset(\n",
    "    params=params,\n",
    "    base_path=params.dataset_dir,\n",
    "    sample_ids=sample_ids,\n",
    "    load_instances=True,  # this is needed to detect patches wrt spark peaks\n",
    "    inference=None,\n",
    ")\n",
    "\n",
    "logger.info(f\"Samples in dataset (patches): {len(dataset)}\")\n",
    "\n",
    "# Create a dataloader\n",
    "dataset_loader = DataLoader(\n",
    "    dataset,\n",
    "    batch_size=params.inference_batch_size,\n",
    "    shuffle=False,\n",
    "    num_workers=params.num_workers,\n",
    "    pin_memory=params.pin_memory,\n",
    ")"
   ]
  },
  {
   "cell_type": "code",
   "execution_count": 7,
   "metadata": {},
   "outputs": [],
   "source": [
    "############################## Configure UNet ##############################\n",
    "\n",
    "# Initialize the UNet model\n",
    "network = init_model(params=params)\n",
    "\n",
    "# Move the model to the GPU if available\n",
    "if params.device.type != \"cpu\":\n",
    "    network = nn.DataParallel(network).to(params.device, non_blocking=True)\n",
    "    # cudnn.benchmark = True"
   ]
  },
  {
   "cell_type": "markdown",
   "metadata": {},
   "source": [
    "Can't run this on laptop"
   ]
  },
  {
   "cell_type": "code",
   "execution_count": 8,
   "metadata": {},
   "outputs": [
    {
     "name": "stdout",
     "output_type": "stream",
     "text": [
      "[04:35:32] [  INFO  ] [  __main__  ] < 10 > -- Loading trained model 'sparks_patches_64x64x64' at epoch 100000...\n"
     ]
    }
   ],
   "source": [
    "### Load UNet model ###\n",
    "\n",
    "# Path to the saved model checkpoint\n",
    "models_relative_path = os.path.join(\n",
    "    \"models\", \"saved_models\", params.run_name, model_filename\n",
    ")\n",
    "model_dir = os.path.realpath(os.path.join(config.basedir, models_relative_path))\n",
    "\n",
    "# Load the model state dictionary\n",
    "logger.info(f\"Loading trained model '{run_name}' at epoch {load_epoch}...\")\n",
    "try:\n",
    "    network.load_state_dict(torch.load(model_dir, map_location=params.device))\n",
    "except RuntimeError as e:\n",
    "    if \"module\" in str(e):\n",
    "        # The error message contains \"module,\" so handle the DataParallel loading\n",
    "        logger.warning(\n",
    "            \"Failed to load the model, as it was trained with DataParallel. Wrapping it in DataParallel and retrying...\"\n",
    "        )\n",
    "        # Get current device of the object (model)\n",
    "        temp_device = next(iter(network.parameters())).device\n",
    "\n",
    "        network = nn.DataParallel(network)\n",
    "        network.load_state_dict(torch.load(model_dir, map_location=params.device))\n",
    "\n",
    "        logger.info(\"Network should be on CPU, removing DataParallel wrapper...\")\n",
    "        network = network.module.to(temp_device)\n",
    "    else:\n",
    "        # Handle other exceptions or re-raise the exception if it's unrelated\n",
    "        raise"
   ]
  },
  {
   "cell_type": "code",
   "execution_count": 9,
   "metadata": {},
   "outputs": [
    {
     "name": "stdout",
     "output_type": "stream",
     "text": [
      "[04:35:33] [ DEBUG  ] [  __main__  ] < 25 > -- Time to run testing dataset in UNet: 0.23 s\n"
     ]
    }
   ],
   "source": [
    "########################### Run samples in UNet ############################\n",
    "\n",
    "xs_list = []\n",
    "ys_list = []\n",
    "ys_instances_list = []\n",
    "\n",
    "# get U-Net's raw predictions\n",
    "network.eval()\n",
    "raw_preds_list = []\n",
    "start = time.time()\n",
    "with torch.no_grad():\n",
    "    for batch in dataset_loader:\n",
    "        x = batch[\"data\"]\n",
    "        y = batch[\"labels\"]\n",
    "        y_instances = batch[\"instances\"]\n",
    "\n",
    "        raw_pred = network(x.to(params.device).unsqueeze(1))\n",
    "        raw_pred = torch.exp(raw_pred).cpu()\n",
    "\n",
    "        raw_preds_list.extend(raw_pred.numpy())\n",
    "        xs_list.extend(x.numpy())\n",
    "        ys_list.extend(y.numpy())\n",
    "        ys_instances_list.extend(y_instances.numpy())\n",
    "\n",
    "logger.debug(f\"Time to run testing dataset in UNet: {time.time() - start:.2f} s\")"
   ]
  },
  {
   "cell_type": "code",
   "execution_count": 10,
   "metadata": {},
   "outputs": [
    {
     "name": "stdout",
     "output_type": "stream",
     "text": [
      "[04:35:33] [ DEBUG  ] [  __main__  ] < 3  > -- Getting processed output (segmentation and instances)\n",
      "[04:35:33] [ DEBUG  ] [  __main__  ] < 8  > -- Processing patch 1/8...\n",
      "[04:35:33] [ DEBUG  ] [  __main__  ] < 8  > -- Processing patch 2/8...\n",
      "[04:35:33] [ DEBUG  ] [  __main__  ] < 8  > -- Processing patch 3/8...\n",
      "[04:35:33] [ DEBUG  ] [  __main__  ] < 8  > -- Processing patch 4/8...\n",
      "[04:35:33] [ DEBUG  ] [  __main__  ] < 8  > -- Processing patch 5/8...\n",
      "[04:35:33] [ DEBUG  ] [  __main__  ] < 8  > -- Processing patch 6/8...\n",
      "[04:35:33] [ DEBUG  ] [  __main__  ] < 8  > -- Processing patch 7/8...\n",
      "[04:35:33] [ DEBUG  ] [  __main__  ] < 8  > -- Processing patch 8/8...\n"
     ]
    }
   ],
   "source": [
    "#################### Get processed output (if required) ####################\n",
    "\n",
    "logger.debug(\"Getting processed output (segmentation and instances)\")\n",
    "\n",
    "preds_list = []\n",
    "preds_instances_list = []\n",
    "for i in range(len(raw_preds_list)):\n",
    "    logger.debug(f\"Processing patch {i+1}/{len(dataset)}...\")\n",
    "\n",
    "    # transform raw predictions into a dictionary\n",
    "    raw_preds_dict = {\n",
    "        event_type: raw_preds_list[i][event_label]\n",
    "        for event_type, event_label in config.classes_dict.items()\n",
    "        if event_type in config.event_types\n",
    "    }\n",
    "\n",
    "    preds_instances, preds_segmentation, _ = process_raw_predictions(\n",
    "        raw_preds_dict=raw_preds_dict,\n",
    "        input_movie=xs_list[i],\n",
    "        training_mode=False,\n",
    "    )\n",
    "\n",
    "    preds_list.append(preds_segmentation[\"sparks\"])\n",
    "    preds_instances_list.append(preds_instances[\"sparks\"])"
   ]
  },
  {
   "cell_type": "markdown",
   "metadata": {},
   "source": [
    "### Visualise Preds with Napari"
   ]
  },
  {
   "cell_type": "code",
   "execution_count": 16,
   "metadata": {},
   "outputs": [
    {
     "data": {
      "text/plain": [
       "(8, (2, 64, 64, 64), 8, (64, 64, 64))"
      ]
     },
     "execution_count": 16,
     "metadata": {},
     "output_type": "execute_result"
    }
   ],
   "source": [
    "len(raw_preds_list), raw_preds_list[0].shape, len(preds_list), preds_list[0].shape"
   ]
  },
  {
   "cell_type": "code",
   "execution_count": 11,
   "metadata": {},
   "outputs": [],
   "source": [
    "import napari\n",
    "from utils.visualization_tools import (\n",
    "    get_discrete_cmap,\n",
    "    get_labels_cmap,\n",
    "    get_annotations_contour,\n",
    ")\n",
    "\n",
    "cmap = get_discrete_cmap(name=\"gray\", lut=16)"
   ]
  },
  {
   "cell_type": "code",
   "execution_count": 18,
   "metadata": {},
   "outputs": [],
   "source": [
    "# Initialize the napari viewer\n",
    "viewer = napari.Viewer()\n",
    "\n",
    "for i in range(len(dataset)):\n",
    "    # get contours of annotations, for visualization\n",
    "    y_contours = get_annotations_contour(annotations=ys_list[i], contour_val=2)\n",
    "    raw_pred = raw_preds_list[i][1]\n",
    "\n",
    "    viewer.add_image(xs_list[i], colormap=\"gray\", name=\"Patches\", blending=\"additive\")\n",
    "    viewer.add_labels(\n",
    "        y_contours,\n",
    "        name=\"Ground Truth\",\n",
    "        blending=\"additive\",\n",
    "        opacity=0.3,\n",
    "        color=get_labels_cmap(),\n",
    "    )\n",
    "    viewer.add_labels(\n",
    "        preds_list[i],\n",
    "        name=\"Predictions\",\n",
    "        blending=\"additive\",\n",
    "        opacity=0.3,\n",
    "        color=get_labels_cmap(),\n",
    "        visible=False,\n",
    "    )\n",
    "    viewer.add_image(\n",
    "        raw_pred, colormap=cmap, name=\"Raw Predictions\", blending=\"additive\"\n",
    "    )\n",
    "\n",
    "# Enable grid mode\n",
    "viewer.grid.enabled = True\n",
    "viewer.grid.stride = 4\n",
    "# n_cols = 5\n",
    "# n_rows = len(dataset) // n_cols\n",
    "# viewer.grid.shape = (n_rows, n_cols)"
   ]
  },
  {
   "cell_type": "code",
   "execution_count": null,
   "metadata": {},
   "outputs": [],
   "source": []
  }
 ],
 "metadata": {
  "kernelspec": {
   "display_name": "sparks",
   "language": "python",
   "name": "python3"
  },
  "language_info": {
   "codemirror_mode": {
    "name": "ipython",
    "version": 3
   },
   "file_extension": ".py",
   "mimetype": "text/x-python",
   "name": "python",
   "nbconvert_exporter": "python",
   "pygments_lexer": "ipython3",
   "version": "3.10.12"
  }
 },
 "nbformat": 4,
 "nbformat_minor": 2
}
