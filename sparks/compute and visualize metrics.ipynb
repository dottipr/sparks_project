{
 "cells": [
  {
   "cell_type": "markdown",
   "id": "02ec728a-618c-4d0f-8183-63e231e99640",
   "metadata": {
    "tags": []
   },
   "source": [
    "25.04.2022\n",
    "\n",
    "# Compute and visualize metrics from .json files\n",
    "\n",
    "Load results stored in .json files located in folders `training_validation\\<training name>\\<metrics type>` where `metrics_type` can be **per_pixel_results** or **spark_peaks_results**. Each folder contain a dict for each class.\n",
    "\n",
    "In per_pixel_results, dicts have keys `[t/argmax][min radius][exclusion radius][result type]`.\n",
    "\n",
    "In spark_peaks_results, dicts have keys `[t/argmax][min radius][result type]`."
   ]
  },
  {
   "cell_type": "code",
   "execution_count": 1,
   "id": "28005a75-0a3c-41e5-a174-51a91fe55a51",
   "metadata": {
    "tags": []
   },
   "outputs": [],
   "source": [
    "%load_ext autoreload\n",
    "%autoreload 2"
   ]
  },
  {
   "cell_type": "code",
   "execution_count": 2,
   "id": "71278f15-91a4-4a5f-bfde-72a86de47f2a",
   "metadata": {},
   "outputs": [],
   "source": [
    "import glob\n",
    "import os\n",
    "import imageio\n",
    "from collections import defaultdict\n",
    "import pprint\n",
    "import json\n",
    "\n",
    "import numpy as np\n",
    "import pandas as pd\n",
    "import matplotlib.pyplot as plt\n",
    "import matplotlib.gridspec as gridspec\n",
    "from matplotlib.pyplot import cm\n",
    "import seaborn as sns\n",
    "\n",
    "from metrics_tools import compute_f_score"
   ]
  },
  {
   "cell_type": "code",
   "execution_count": 3,
   "id": "1267630a-7bc2-43cb-ad98-1db50e770046",
   "metadata": {
    "tags": []
   },
   "outputs": [
    {
     "data": {
      "text/plain": [
       "'C:\\\\Users\\\\dotti\\\\sparks_project\\\\sparks'"
      ]
     },
     "execution_count": 3,
     "metadata": {},
     "output_type": "execute_result"
    }
   ],
   "source": [
    "BASEDIR = os.path.abspath('')\n",
    "BASEDIR"
   ]
  },
  {
   "cell_type": "markdown",
   "id": "2f3c6be0-da72-4bb9-95d7-2ebc40d1e4c7",
   "metadata": {},
   "source": [
    "## Set working directories"
   ]
  },
  {
   "cell_type": "code",
   "execution_count": 4,
   "id": "a7dd377d-42fd-4429-96f7-189ef7bca86c",
   "metadata": {},
   "outputs": [],
   "source": [
    "use_training_data = False\n",
    "training_name = \"raw_sparks_lovasz_physio\"\n",
    "ignore_frames = 6 # first and last 6 frames not used for computing metrics"
   ]
  },
  {
   "cell_type": "code",
   "execution_count": 6,
   "id": "1e0da0a5-675a-4f6f-93ec-3bb4d949bad5",
   "metadata": {},
   "outputs": [],
   "source": [
    "if not use_training_data:\n",
    "    metrics_dir = os.path.join(\"trainings_validation\", training_name)\n",
    "else:\n",
    "    metrics_dir = os.path.join(\"trainings_validation\", \"train_samples\", training_name)\n",
    "    "
   ]
  },
  {
   "cell_type": "code",
   "execution_count": 7,
   "id": "1d1ad499-08b6-4f04-aafd-26c9a0e4b575",
   "metadata": {},
   "outputs": [],
   "source": [
    "per_pixel_res_dir = os.path.join(metrics_dir, 'per_pixel_results')\n",
    "\n",
    "spark_peaks_res_dir = os.path.join(metrics_dir, 'spark_peaks_results')"
   ]
  },
  {
   "cell_type": "markdown",
   "id": "c2115b0e-cce8-4467-a46a-3355618eb14e",
   "metadata": {},
   "source": [
    "## Compute per pixel metrics"
   ]
  },
  {
   "cell_type": "code",
   "execution_count": null,
   "id": "c2f40254-29cc-400e-8d83-b24bb1dd6df2",
   "metadata": {},
   "outputs": [],
   "source": []
  }
 ],
 "metadata": {
  "kernelspec": {
   "display_name": "Python 3 (ipykernel)",
   "language": "python",
   "name": "python3"
  },
  "language_info": {
   "codemirror_mode": {
    "name": "ipython",
    "version": 3
   },
   "file_extension": ".py",
   "mimetype": "text/x-python",
   "name": "python",
   "nbconvert_exporter": "python",
   "pygments_lexer": "ipython3",
   "version": "3.8.8"
  }
 },
 "nbformat": 4,
 "nbformat_minor": 5
}
