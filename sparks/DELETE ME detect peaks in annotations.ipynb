{
 "cells": [
  {
   "cell_type": "markdown",
   "id": "ab5f67f0-2e91-4c6f-a916-65a0fd4a7c02",
   "metadata": {},
   "source": [
    "11.08.2022\n",
    "\n",
    "# Find spark peaks / process sparks in annotations\n",
    "\n",
    "Creo e testo una funzione per trovare i peaks nelle annotazioni degli sparks. Dopodiché la aggiungo alla Dataset class e i peaks saranno un attributo della classe e verranno usati per calcolare le metrics degli sparks.\n",
    "\n",
    "Creo e testo anche una funzione per rimpicciolire gli sparks nelle annotazioni. Se funziona, la aggiungo alla Dataset class e creo un opzione da scegliere durante il training (se usare le raw annotations oppure quelle con gli sparks rimpiccioliti).\n",
    "\n",
    "Quando ho finito e aggiunto le opzioni ai datasets, elimino questo script."
   ]
  },
  {
   "cell_type": "code",
   "execution_count": 1,
   "id": "1e23d0ad-d39a-4046-bebf-d87d3e2567d8",
   "metadata": {},
   "outputs": [],
   "source": [
    "%load_ext autoreload\n",
    "%autoreload 2"
   ]
  },
  {
   "cell_type": "code",
   "execution_count": 1,
   "id": "a71e7297-a16d-42a9-b142-59f41383e1fa",
   "metadata": {},
   "outputs": [],
   "source": [
    "import os\n",
    "import imageio\n",
    "import napari\n",
    "from matplotlib import cm\n",
    "import pandas as pd\n",
    "\n",
    "import numpy as np\n",
    "import cc3d\n",
    "\n",
    "from dataset_tools import (load_movies_ids, \n",
    "                           load_annotations_ids, \n",
    "                           load_rgb_annotations_ids)"
   ]
  },
  {
   "cell_type": "markdown",
   "id": "a930308c-b6c2-4626-bc12-27ff973375bc",
   "metadata": {},
   "source": [
    "### load annotations and smooth movies\n",
    "\n",
    "load movies and annotations from dataset folder"
   ]
  },
  {
   "cell_type": "code",
   "execution_count": 2,
   "id": "66ecdb5e-374b-4bf9-9421-220d4dab766d",
   "metadata": {},
   "outputs": [],
   "source": [
    "movie_ids = [\"01\",\"02\",\"03\",\"04\",\"05\",\"06\",\"07\",\"08\",\"09\",\n",
    "             \"10\",\"11\",\"12\",\"13\",\"14\",\"15\",\"16\",\"17\",\"18\",\"19\",\n",
    "             \"20\",\"21\",\"22\",\"23\",\"24\",\"25\",\"27\",\"28\",\"29\",\n",
    "             \"30\",\"32\",\"33\",\"34\",\"35\",\"36\",\"38\",\"39\",\n",
    "             \"40\",\"41\",\"42\",\"43\",\"44\",\"45\",\"46\"\n",
    "            ]\n",
    "#movie_ids = ['07']"
   ]
  },
  {
   "cell_type": "code",
   "execution_count": 3,
   "id": "0f9366ae-4d8e-4c05-b08a-b1ac8a7c0b4c",
   "metadata": {},
   "outputs": [],
   "source": [
    "# directory containing dataset\n",
    "base_path = \"../data/sparks_dataset\""
   ]
  },
  {
   "cell_type": "code",
   "execution_count": null,
   "id": "78334da3-0beb-4a11-8747-55a688e0a5d9",
   "metadata": {},
   "outputs": [],
   "source": [
    "# load videos\n"
   ]
  },
  {
   "cell_type": "code",
   "execution_count": null,
   "id": "2a00a5e9-adfd-465e-a6e3-ad8b36467d3f",
   "metadata": {},
   "outputs": [],
   "source": []
  },
  {
   "cell_type": "code",
   "execution_count": null,
   "id": "4ead6f78-8782-4ef2-8879-3e4c1afaf70f",
   "metadata": {},
   "outputs": [],
   "source": []
  },
  {
   "cell_type": "markdown",
   "id": "53dfc529-1d09-47cb-a147-c52d7b521263",
   "metadata": {},
   "source": [
    "### define function to detect peaks\n",
    "\n",
    "function returns a list of locations [t,y,x]"
   ]
  },
  {
   "cell_type": "code",
   "execution_count": null,
   "id": "395f90a0-c020-4cdb-9318-aa33f4adea73",
   "metadata": {},
   "outputs": [],
   "source": []
  },
  {
   "cell_type": "markdown",
   "id": "43447ada-adb7-4cff-9663-a92844e70bcc",
   "metadata": {},
   "source": [
    "### visualise resulting peaks using napari"
   ]
  },
  {
   "cell_type": "code",
   "execution_count": null,
   "id": "9c07643a-e57e-4d9f-ab0d-cbdf9233dca1",
   "metadata": {},
   "outputs": [],
   "source": []
  },
  {
   "cell_type": "markdown",
   "id": "31c3b87c-5af0-452a-a356-fda28b888775",
   "metadata": {
    "tags": []
   },
   "source": [
    "### define function to reduce sparks size\n",
    "\n",
    "the spark ROI that is removed will be the undefined region of the event"
   ]
  },
  {
   "cell_type": "code",
   "execution_count": null,
   "id": "0171db4e-1eb6-4c5c-b71f-e4cbdfef3a49",
   "metadata": {},
   "outputs": [],
   "source": []
  },
  {
   "cell_type": "markdown",
   "id": "8e2109f6-d9b0-4076-b0bb-a8edbb453945",
   "metadata": {},
   "source": [
    "### visualise result using napari"
   ]
  },
  {
   "cell_type": "code",
   "execution_count": null,
   "id": "67a36388-a03b-4693-85bf-bb626515c230",
   "metadata": {},
   "outputs": [],
   "source": []
  },
  {
   "cell_type": "code",
   "execution_count": null,
   "id": "0bbfdd9f-eef7-41a1-9de6-5273d4ed19c8",
   "metadata": {},
   "outputs": [],
   "source": []
  }
 ],
 "metadata": {
  "kernelspec": {
   "display_name": "Python 3 (ipykernel)",
   "language": "python",
   "name": "python3"
  },
  "language_info": {
   "codemirror_mode": {
    "name": "ipython",
    "version": 3
   },
   "file_extension": ".py",
   "mimetype": "text/x-python",
   "name": "python",
   "nbconvert_exporter": "python",
   "pygments_lexer": "ipython3",
   "version": "3.8.8"
  }
 },
 "nbformat": 4,
 "nbformat_minor": 5
}
