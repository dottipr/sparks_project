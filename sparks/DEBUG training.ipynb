{
 "cells": [
  {
   "cell_type": "code",
   "execution_count": 1,
   "metadata": {},
   "outputs": [],
   "source": [
    "%load_ext autoreload\n",
    "%autoreload 2"
   ]
  },
  {
   "cell_type": "code",
   "execution_count": 2,
   "metadata": {},
   "outputs": [],
   "source": [
    "import argparse\n",
    "import configparser\n",
    "import logging\n",
    "import os\n",
    "import sys\n",
    "\n",
    "import numpy as np\n",
    "import torch\n",
    "import wandb\n",
    "from architectures import TempRedUNet\n",
    "from custom_losses import FocalLoss, LovaszSoftmax3d, SumFocalLovasz\n",
    "from datasets import SparkDataset\n",
    "from new_unet import UNet\n",
    "from torch import nn, optim\n",
    "from torch.utils.data import DataLoader\n",
    "from torch.utils.tensorboard import SummaryWriter\n",
    "from training_inference_tools import (\n",
    "    compute_class_weights,\n",
    "    random_flip,\n",
    "    random_flip_noise,\n",
    "    sampler,\n",
    "    test_function,\n",
    "    training_step,\n",
    "    weights_init,\n",
    "    myTrainingManager\n",
    ")\n",
    "\n",
    "import unet\n",
    "\n",
    "logger = logging.getLogger(__name__)"
   ]
  },
  {
   "cell_type": "code",
   "execution_count": null,
   "metadata": {},
   "outputs": [],
   "source": []
  },
  {
   "cell_type": "code",
   "execution_count": 12,
   "metadata": {},
   "outputs": [
    {
     "name": "stdout",
     "output_type": "stream",
     "text": [
      "[14:31:02] [  INFO  ] [  __main__  ] < 3  > -- [[1.1111 2.2222 3.3333]\n",
      " [4.4444 5.5555 6.6666]\n",
      " [7.7777 8.8888 9.9999]]\n"
     ]
    }
   ],
   "source": [
    "a = np.array([[1.1111,2.2222,3.3333],[4.4444,5.5555,6.6666],[7.7777,8.8888,9.9999]])\n",
    "with np.printoptions(precision=88, suppress=True):\n",
    "    logger.info(f\"{a}\")"
   ]
  },
  {
   "cell_type": "code",
   "execution_count": 6,
   "metadata": {},
   "outputs": [],
   "source": [
    "############################# fixed parameters #############################\n",
    "\n",
    "# General params\n",
    "logfile = None  # change this when publishing finished project on github\n",
    "wandb_project_name = \"TEST\"\n",
    "output_relative_path = \"runs\"  # directory where output, saved params and\n",
    "# testing results are saved\n",
    "\n",
    "# Dataset parameters\n",
    "ignore_index = 4  # label ignored during training\n",
    "num_classes = 4  # i.e., BG, sparks, waves, puffs\n",
    "ndims = 3  # using 3D data"
   ]
  },
  {
   "cell_type": "code",
   "execution_count": 9,
   "metadata": {},
   "outputs": [],
   "source": [
    "############################# configure logger #############################\n",
    "\n",
    "# set verbosity\n",
    "debug_mode = True#c.getboolean(\"general\", \"debug_mode\", fallback=False)\n",
    "verbosity = 3 if debug_mode else 2\n",
    "\n",
    "level_map = {\n",
    "    3: logging.DEBUG,\n",
    "    2: logging.INFO,\n",
    "    1: logging.WARNING,\n",
    "    0: logging.ERROR,\n",
    "}\n",
    "log_level = level_map[verbosity]\n",
    "log_handlers = (logging.StreamHandler(sys.stdout),)\n",
    "\n",
    "logging.basicConfig(\n",
    "    level=log_level,\n",
    "    format=\"[{asctime}] [{levelname:^8s}] [{name:^12s}] <{lineno:^4d}> -- {message:s}\",\n",
    "    style=\"{\",\n",
    "    datefmt=\"%H:%M:%S\",\n",
    "    handlers=log_handlers,\n",
    ")"
   ]
  },
  {
   "cell_type": "code",
   "execution_count": 7,
   "metadata": {},
   "outputs": [],
   "source": [
    "############################# load config file #############################\n",
    "\n",
    "#CONFIG_FILE = os.path.join(\"config_files\", \"config.ini\") # provare anche con nuovo training per vedere se ci mette tanto\n",
    "CONFIG_FILE = os.path.join(\"config_files\", \"config_focal_loss_updated_physio.ini\")\n",
    "c = configparser.ConfigParser()\n",
    "if os.path.isfile(CONFIG_FILE):\n",
    "    logger.info(f\"Loading {CONFIG_FILE}\")\n",
    "    c.read(CONFIG_FILE)\n",
    "else:\n",
    "    logger.warning(\n",
    "        f\"No config file found at {CONFIG_FILE}, trying to use fallback values.\"\n",
    "    )"
   ]
  },
  {
   "cell_type": "code",
   "execution_count": 8,
   "metadata": {},
   "outputs": [],
   "source": [
    "############################## set parameters ##############################\n",
    "\n",
    "params = {}\n",
    "\n",
    "# training params\n",
    "params[\"run_name\"] = c.get(\"training\", \"run_name\", fallback=\"TEST\")  # Run name\n",
    "params[\"load_run_name\"] = c.get(\"training\", \"load_run_name\", fallback=None)\n",
    "params[\"load_epoch\"] = c.getint(\"training\", \"load_epoch\", fallback=0)\n",
    "params[\"train_epochs\"] = c.getint(\"training\", \"train_epochs\", fallback=5000)\n",
    "params[\"criterion\"] = c.get(\"training\", \"criterion\", fallback=\"nll_loss\")\n",
    "params[\"lr_start\"] = c.getfloat(\"training\", \"lr_start\", fallback=1e-4)\n",
    "params[\"ignore_frames_loss\"] = c.getint(\"training\", \"ignore_frames_loss\")\n",
    "if (params[\"criterion\"] == \"focal_loss\") or (params[\"criterion\"] == \"sum_losses\"):\n",
    "    params[\"gamma\"] = c.getfloat(\"training\", \"gamma\", fallback=2.0)\n",
    "if params[\"criterion\"] == \"sum_losses\":\n",
    "    params[\"w\"] = c.getfloat(\"training\", \"w\", fallback=0.5)\n",
    "params[\"cuda\"] = c.getboolean(\"training\", \"cuda\")\n",
    "\n",
    "# dataset params\n",
    "params[\"relative_path\"] = c.get(\"dataset\", \"relative_path\")\n",
    "params[\"dataset_size\"] = c.get(\"dataset\", \"dataset_size\", fallback=\"full\")\n",
    "params[\"batch_size\"] = c.getint(\"dataset\", \"batch_size\", fallback=1)\n",
    "params[\"num_workers\"] = 0#c.getint(\"dataset\", \"num_workers\", fallback=1)\n",
    "params[\"data_duration\"] = c.getint(\"dataset\", \"data_duration\")\n",
    "params[\"data_step\"] = c.getint(\"dataset\", \"data_step\")\n",
    "params[\"data_smoothing\"] = c.get(\"dataset\", \"data_smoothing\", fallback=\"2d\")\n",
    "params[\"norm_video\"] = c.get(\"dataset\", \"norm_video\", fallback=\"chunk\")\n",
    "params[\"remove_background\"] = c.get(\n",
    "    \"dataset\", \"remove_background\", fallback=\"average\"\n",
    ")\n",
    "params[\"only_sparks\"] = c.getboolean(\"dataset\", \"only_sparks\", fallback=False)\n",
    "params[\"noise_data_augmentation\"] = c.getboolean(\n",
    "    \"dataset\", \"noise_data_augmentation\", fallback=False\n",
    ")\n",
    "params[\"sparks_type\"] = c.get(\"dataset\", \"sparks_type\", fallback=\"peaks\")\n",
    "params[\"inference\"] = c.get(\"dataset\", \"inference\", fallback=\"overlap\")\n",
    "\n",
    "# UNet params\n",
    "params[\"nn_architecture\"] = c.get(\n",
    "    \"network\", \"nn_architecture\", fallback=\"pablos_unet\"\n",
    ")\n",
    "params[\"unet_steps\"] = c.getint(\"network\", \"unet_steps\")\n",
    "params[\"first_layer_channels\"] = c.getint(\"network\", \"first_layer_channels\")\n",
    "params[\"num_channels\"] = c.getint(\"network\", \"num_channels\", fallback=1)\n",
    "params[\"dilation\"] = c.getboolean(\"network\", \"dilation\", fallback=1)\n",
    "params[\"border_mode\"] = c.get(\"network\", \"border_mode\")\n",
    "params[\"batch_normalization\"] = c.get(\n",
    "    \"network\", \"batch_normalization\", fallback=\"none\"\n",
    ")\n",
    "params[\"temporal_reduction\"] = c.getboolean(\n",
    "    \"network\", \"temporal_reduction\", fallback=False\n",
    ")\n",
    "params[\"initialize_weights\"] = c.getboolean(\n",
    "    \"network\", \"initialize_weights\", fallback=False\n",
    ")\n",
    "if params[\"nn_architecture\"] == \"github_unet\":\n",
    "    params[\"attention\"] = c.getboolean(\"network\", \"attention\")\n",
    "    params[\"up_mode\"] = c.get(\"network\", \"up_mode\")"
   ]
  },
  {
   "cell_type": "code",
   "execution_count": 10,
   "metadata": {},
   "outputs": [
    {
     "name": "stdout",
     "output_type": "stream",
     "text": [
      "[14:28:42] [ ERROR  ] [wandb.jupyter] <224 > -- Failed to detect the name of this notebook, you can set it manually with the WANDB_NOTEBOOK_NAME environment variable to enable code saving.\n",
      "[14:28:44] [ DEBUG  ] [urllib3.connectionpool] <1003> -- Starting new HTTPS connection (1): api.wandb.ai:443\n",
      "[14:28:44] [ DEBUG  ] [urllib3.connectionpool] <456 > -- https://api.wandb.ai:443 \"POST /graphql HTTP/1.1\" 200 1550\n",
      "[14:28:44] [ DEBUG  ] [urllib3.connectionpool] <1003> -- Starting new HTTPS connection (1): api.wandb.ai:443\n",
      "[14:28:44] [ DEBUG  ] [urllib3.connectionpool] <456 > -- https://api.wandb.ai:443 \"POST /graphql HTTP/1.1\" 200 335\n"
     ]
    },
    {
     "name": "stderr",
     "output_type": "stream",
     "text": [
      "wandb: Currently logged in as: dottip. Use `wandb login --relogin` to force relogin\n"
     ]
    },
    {
     "name": "stdout",
     "output_type": "stream",
     "text": [
      "[14:28:44] [ DEBUG  ] [  git.cmd   ] <976 > -- Popen(['git', 'cat-file', '--batch-check'], cwd=c:\\Users\\dotti\\sparks_project, universal_newlines=False, shell=None, istream=<valid stream>)\n"
     ]
    },
    {
     "data": {
      "text/html": [
       "Tracking run with wandb version 0.14.0"
      ],
      "text/plain": [
       "<IPython.core.display.HTML object>"
      ]
     },
     "metadata": {},
     "output_type": "display_data"
    },
    {
     "data": {
      "text/html": [
       "Run data is saved locally in <code>c:\\Users\\dotti\\sparks_project\\sparks\\wandb\\run-20230324_142844-focal_loss_updated_physio</code>"
      ],
      "text/plain": [
       "<IPython.core.display.HTML object>"
      ]
     },
     "metadata": {},
     "output_type": "display_data"
    },
    {
     "data": {
      "text/html": [
       "Syncing run <strong><a href='https://wandb.ai/dottip/TEST/runs/focal_loss_updated_physio' target=\"_blank\">focal_loss_updated_physio</a></strong> to <a href='https://wandb.ai/dottip/TEST' target=\"_blank\">Weights & Biases</a> (<a href='https://wandb.me/run' target=\"_blank\">docs</a>)<br/>"
      ],
      "text/plain": [
       "<IPython.core.display.HTML object>"
      ]
     },
     "metadata": {},
     "output_type": "display_data"
    },
    {
     "data": {
      "text/html": [
       " View project at <a href='https://wandb.ai/dottip/TEST' target=\"_blank\">https://wandb.ai/dottip/TEST</a>"
      ],
      "text/plain": [
       "<IPython.core.display.HTML object>"
      ]
     },
     "metadata": {},
     "output_type": "display_data"
    },
    {
     "data": {
      "text/html": [
       " View run at <a href='https://wandb.ai/dottip/TEST/runs/focal_loss_updated_physio' target=\"_blank\">https://wandb.ai/dottip/TEST/runs/focal_loss_updated_physio</a>"
      ],
      "text/plain": [
       "<IPython.core.display.HTML object>"
      ]
     },
     "metadata": {},
     "output_type": "display_data"
    }
   ],
   "source": [
    "############################# configure wandb ##############################\n",
    "\n",
    "wandb_log = c.getboolean(\"general\", \"wandb_enable\", fallback=False)\n",
    "if wandb_log:\n",
    "    resume = \"must\" if params[\"load_epoch\"] > 0 else None\n",
    "\n",
    "    wandb.init(\n",
    "        project=wandb_project_name,\n",
    "        #name=params[\"run_name\"],\n",
    "        notes=c.get(\"general\", \"wandb_notes\", fallback=None),\n",
    "        id=params[\"run_name\"],\n",
    "        resume=resume\n",
    "    )\n",
    "    logging.getLogger(\"wandb\").setLevel(logging.DEBUG)\n",
    "    # wandb.save(CONFIG_FILE)"
   ]
  },
  {
   "cell_type": "code",
   "execution_count": 8,
   "metadata": {},
   "outputs": [
    {
     "name": "stdout",
     "output_type": "stream",
     "text": [
      "[14:01:32] [  INFO  ] [  __main__  ] < 3  > -- Command parameters:\n",
      "[14:01:32] [  INFO  ] [  __main__  ] < 5  > --           run_name: focal_loss_updated_physio\n",
      "[14:01:32] [  INFO  ] [  __main__  ] < 5  > --      load_run_name: None\n",
      "[14:01:32] [  INFO  ] [  __main__  ] < 5  > --         load_epoch: 0\n",
      "[14:01:32] [  INFO  ] [  __main__  ] < 5  > --       train_epochs: 100000\n",
      "[14:01:32] [  INFO  ] [  __main__  ] < 5  > --          criterion: focal_loss\n",
      "[14:01:32] [  INFO  ] [  __main__  ] < 5  > --           lr_start: 0.0001\n",
      "[14:01:32] [  INFO  ] [  __main__  ] < 5  > -- ignore_frames_loss: 6\n",
      "[14:01:32] [  INFO  ] [  __main__  ] < 5  > --              gamma: 5.0\n",
      "[14:01:32] [  INFO  ] [  __main__  ] < 5  > --               cuda: True\n",
      "[14:01:32] [  INFO  ] [  __main__  ] < 5  > --      relative_path: ../data/sparks_dataset\n",
      "[14:01:32] [  INFO  ] [  __main__  ] < 5  > --       dataset_size: full\n",
      "[14:01:32] [  INFO  ] [  __main__  ] < 5  > --         batch_size: 4\n",
      "[14:01:32] [  INFO  ] [  __main__  ] < 5  > --        num_workers: 0\n",
      "[14:01:32] [  INFO  ] [  __main__  ] < 5  > --      data_duration: 256\n",
      "[14:01:32] [  INFO  ] [  __main__  ] < 5  > --          data_step: 32\n",
      "[14:01:32] [  INFO  ] [  __main__  ] < 5  > --     data_smoothing: no\n",
      "[14:01:32] [  INFO  ] [  __main__  ] < 5  > --         norm_video: abs_max\n",
      "[14:01:32] [  INFO  ] [  __main__  ] < 5  > --  remove_background: no\n",
      "[14:01:32] [  INFO  ] [  __main__  ] < 5  > --        only_sparks: False\n",
      "[14:01:32] [  INFO  ] [  __main__  ] < 5  > -- noise_data_augmentation: False\n",
      "[14:01:32] [  INFO  ] [  __main__  ] < 5  > --        sparks_type: raw\n",
      "[14:01:32] [  INFO  ] [  __main__  ] < 5  > --          inference: overlap\n",
      "[14:01:32] [  INFO  ] [  __main__  ] < 5  > --    nn_architecture: pablos_unet\n",
      "[14:01:32] [  INFO  ] [  __main__  ] < 5  > --         unet_steps: 6\n",
      "[14:01:32] [  INFO  ] [  __main__  ] < 5  > -- first_layer_channels: 8\n",
      "[14:01:32] [  INFO  ] [  __main__  ] < 5  > --       num_channels: 1\n",
      "[14:01:32] [  INFO  ] [  __main__  ] < 5  > --           dilation: 1\n",
      "[14:01:32] [  INFO  ] [  __main__  ] < 5  > --        border_mode: same\n",
      "[14:01:32] [  INFO  ] [  __main__  ] < 5  > -- batch_normalization: none\n",
      "[14:01:32] [  INFO  ] [  __main__  ] < 5  > -- temporal_reduction: False\n",
      "[14:01:32] [  INFO  ] [  __main__  ] < 5  > -- initialize_weights: False\n"
     ]
    }
   ],
   "source": [
    "############################# print parameters #############################\n",
    "\n",
    "logger.info(\"Command parameters:\")\n",
    "for k, v in params.items():\n",
    "    logger.info(f\"{k:>18s}: {v}\")\n",
    "    # load parameters to wandb\n",
    "    if wandb_log:\n",
    "        wandb.config[k] = v\n",
    "    # TODO: AGGIUNGERE TUTTI I PARAMS NECESSARI DA PRINTARE"
   ]
  },
  {
   "cell_type": "code",
   "execution_count": 9,
   "metadata": {},
   "outputs": [
    {
     "name": "stdout",
     "output_type": "stream",
     "text": [
      "[14:01:32] [  INFO  ] [  __main__  ] < 26 > -- Using torch device cuda, with 1 GPUs\n",
      "[14:01:32] [  INFO  ] [  __main__  ] < 38 > -- Normalizing whole video using 16-bit absolute max\n",
      "[14:01:32] [  INFO  ] [  __main__  ] < 43 > -- Using C:\\Users\\dotti\\sparks_project\\data\\sparks_dataset as dataset root path\n",
      "[14:01:34] [WARNING ] [tifffile.tifffile] <16549> -- TiffPage 0: TypeError: read_bytes() missing 3 required positional arguments: 'dtype', 'count', and 'offsetsize'\n",
      "[14:01:34] [WARNING ] [tifffile.tifffile] <16549> -- TiffPage 0: TypeError: read_bytes() missing 3 required positional arguments: 'dtype', 'count', and 'offsetsize'\n",
      "[14:01:35] [WARNING ] [tifffile.tifffile] <16549> -- TiffPage 0: TypeError: read_bytes() missing 3 required positional arguments: 'dtype', 'count', and 'offsetsize'\n",
      "[14:01:35] [WARNING ] [tifffile.tifffile] <16549> -- TiffPage 0: TypeError: read_bytes() missing 3 required positional arguments: 'dtype', 'count', and 'offsetsize'\n",
      "[14:01:35] [WARNING ] [tifffile.tifffile] <16549> -- TiffPage 0: TypeError: read_bytes() missing 3 required positional arguments: 'dtype', 'count', and 'offsetsize'\n",
      "[14:01:35] [WARNING ] [tifffile.tifffile] <16549> -- TiffPage 0: TypeError: read_bytes() missing 3 required positional arguments: 'dtype', 'count', and 'offsetsize'\n",
      "[14:01:43] [  INFO  ] [  datasets  ] <296 > -- Added padding of 12 frames to video with unsuitable duration\n",
      "[14:01:43] [  INFO  ] [  datasets  ] <296 > -- Added padding of 12 frames to video with unsuitable duration\n",
      "[14:01:43] [  INFO  ] [  datasets  ] <296 > -- Added padding of 12 frames to video with unsuitable duration\n",
      "[14:01:43] [  INFO  ] [  datasets  ] <296 > -- Added padding of 12 frames to video with unsuitable duration\n",
      "[14:01:43] [  INFO  ] [  datasets  ] <296 > -- Added padding of 12 frames to video with unsuitable duration\n",
      "[14:01:43] [  INFO  ] [  datasets  ] <296 > -- Added padding of 12 frames to video with unsuitable duration\n",
      "[14:01:43] [  INFO  ] [  datasets  ] <296 > -- Added padding of 12 frames to video with unsuitable duration\n",
      "[14:01:43] [  INFO  ] [  datasets  ] <296 > -- Added padding of 12 frames to video with unsuitable duration\n",
      "[14:01:43] [  INFO  ] [  datasets  ] <296 > -- Added padding of 12 frames to video with unsuitable duration\n",
      "[14:01:43] [  INFO  ] [  datasets  ] <296 > -- Added padding of 12 frames to video with unsuitable duration\n",
      "[14:01:43] [  INFO  ] [  datasets  ] <296 > -- Added padding of 12 frames to video with unsuitable duration\n",
      "[14:01:43] [  INFO  ] [  datasets  ] <296 > -- Added padding of 12 frames to video with unsuitable duration\n",
      "[14:01:43] [  INFO  ] [  datasets  ] <296 > -- Added padding of 12 frames to video with unsuitable duration\n",
      "[14:01:43] [  INFO  ] [  datasets  ] <296 > -- Added padding of 20 frames to video with unsuitable duration\n",
      "[14:01:44] [  INFO  ] [  datasets  ] <296 > -- Added padding of 24 frames to video with unsuitable duration\n",
      "[14:01:44] [  INFO  ] [  datasets  ] <296 > -- Added padding of 8 frames to video with unsuitable duration\n",
      "[14:01:44] [  INFO  ] [  datasets  ] <296 > -- Added padding of 4 frames to video with unsuitable duration\n",
      "[14:01:44] [  INFO  ] [  datasets  ] <296 > -- Added padding of 12 frames to video with unsuitable duration\n",
      "[14:01:44] [  INFO  ] [  datasets  ] <296 > -- Added padding of 24 frames to video with unsuitable duration\n",
      "[14:01:44] [  INFO  ] [  datasets  ] <296 > -- Added padding of 24 frames to video with unsuitable duration\n",
      "[14:01:44] [  INFO  ] [  datasets  ] <296 > -- Added padding of 24 frames to video with unsuitable duration\n",
      "[14:01:44] [  INFO  ] [  datasets  ] <296 > -- Added padding of 24 frames to video with unsuitable duration\n",
      "[14:01:44] [  INFO  ] [  datasets  ] <296 > -- Added padding of 24 frames to video with unsuitable duration\n",
      "[14:01:44] [  INFO  ] [  datasets  ] <296 > -- Added padding of 24 frames to video with unsuitable duration\n",
      "[14:01:44] [  INFO  ] [  datasets  ] <296 > -- Added padding of 16 frames to video with unsuitable duration\n",
      "[14:01:44] [  INFO  ] [  datasets  ] <296 > -- Added padding of 5 frames to video with unsuitable duration\n",
      "[14:01:44] [  INFO  ] [  datasets  ] <296 > -- Added padding of 24 frames to video with unsuitable duration\n",
      "[14:01:44] [  INFO  ] [  datasets  ] <296 > -- Added padding of 24 frames to video with unsuitable duration\n",
      "[14:01:44] [  INFO  ] [  datasets  ] <296 > -- Added padding of 24 frames to video with unsuitable duration\n",
      "[14:01:44] [  INFO  ] [  datasets  ] <296 > -- Added padding of 24 frames to video with unsuitable duration\n",
      "[14:01:44] [  INFO  ] [  datasets  ] <296 > -- Added padding of 24 frames to video with unsuitable duration\n",
      "[14:01:44] [  INFO  ] [  datasets  ] <296 > -- Added padding of 24 frames to video with unsuitable duration\n",
      "[14:01:44] [  INFO  ] [  datasets  ] <296 > -- Added padding of 24 frames to video with unsuitable duration\n",
      "[14:01:44] [  INFO  ] [  datasets  ] <296 > -- Added padding of 24 frames to video with unsuitable duration\n",
      "[14:01:45] [  INFO  ] [  __main__  ] < 67 > -- Samples in training dataset: 672\n",
      "[14:01:45] [  INFO  ] [  datasets  ] <192 > -- Computing spark peaks...\n",
      "[14:01:55] [  INFO  ] [  datasets  ] <199 > -- Sample 05 contains 71 sparks.\n",
      "[14:01:55] [  INFO  ] [  datasets  ] <296 > -- Added padding of 12 frames to video with unsuitable duration\n",
      "[14:01:56] [  INFO  ] [  datasets  ] <192 > -- Computing spark peaks...\n",
      "[14:01:58] [  INFO  ] [  datasets  ] <199 > -- Sample 10 contains 22 sparks.\n",
      "[14:01:58] [  INFO  ] [  datasets  ] <296 > -- Added padding of 12 frames to video with unsuitable duration\n",
      "[14:01:59] [  INFO  ] [  datasets  ] <192 > -- Computing spark peaks...\n",
      "[14:02:03] [  INFO  ] [  datasets  ] <199 > -- Sample 15 contains 42 sparks.\n",
      "[14:02:03] [  INFO  ] [  datasets  ] <296 > -- Added padding of 12 frames to video with unsuitable duration\n",
      "[14:02:04] [  INFO  ] [  datasets  ] <192 > -- Computing spark peaks...\n",
      "[14:02:11] [  INFO  ] [  datasets  ] <199 > -- Sample 20 contains 70 sparks.\n",
      "[14:02:11] [  INFO  ] [  datasets  ] <296 > -- Added padding of 12 frames to video with unsuitable duration\n",
      "[14:02:12] [  INFO  ] [  datasets  ] <192 > -- Computing spark peaks...\n",
      "[14:02:19] [  INFO  ] [  datasets  ] <199 > -- Sample 25 contains 31 sparks.\n",
      "[14:02:19] [  INFO  ] [  datasets  ] <296 > -- Added padding of 24 frames to video with unsuitable duration\n",
      "[14:02:19] [  INFO  ] [  datasets  ] <192 > -- Computing spark peaks...\n",
      "[14:02:21] [  INFO  ] [  datasets  ] <199 > -- Sample 32 contains 7 sparks.\n",
      "[14:02:21] [  INFO  ] [  datasets  ] <296 > -- Added padding of 24 frames to video with unsuitable duration\n",
      "[14:02:21] [WARNING ] [tifffile.tifffile] <16549> -- TiffPage 0: TypeError: read_bytes() missing 3 required positional arguments: 'dtype', 'count', and 'offsetsize'\n",
      "[14:02:21] [WARNING ] [tifffile.tifffile] <16549> -- TiffPage 0: TypeError: read_bytes() missing 3 required positional arguments: 'dtype', 'count', and 'offsetsize'\n",
      "[14:02:22] [  INFO  ] [  datasets  ] <192 > -- Computing spark peaks...\n",
      "[14:02:25] [  INFO  ] [  datasets  ] <199 > -- Sample 34 contains 16 sparks.\n",
      "[14:02:26] [  INFO  ] [  datasets  ] <296 > -- Added padding of 24 frames to video with unsuitable duration\n",
      "[14:02:26] [  INFO  ] [  datasets  ] <192 > -- Computing spark peaks...\n",
      "[14:02:28] [  INFO  ] [  datasets  ] <199 > -- Sample 40 contains 6 sparks.\n",
      "[14:02:28] [  INFO  ] [  datasets  ] <296 > -- Added padding of 24 frames to video with unsuitable duration\n",
      "[14:02:29] [  INFO  ] [  datasets  ] <192 > -- Computing spark peaks...\n",
      "[14:02:29] [  INFO  ] [  datasets  ] <199 > -- Sample 45 contains 0 sparks.\n",
      "[14:02:29] [  INFO  ] [  datasets  ] <296 > -- Added padding of 24 frames to video with unsuitable duration\n",
      "[14:02:29] [  INFO  ] [  __main__  ] < 96 > -- Testing dataset 0 contains 9 samples\n",
      "[14:02:29] [  INFO  ] [  __main__  ] < 96 > -- Testing dataset 1 contains 9 samples\n",
      "[14:02:29] [  INFO  ] [  __main__  ] < 96 > -- Testing dataset 2 contains 9 samples\n",
      "[14:02:29] [  INFO  ] [  __main__  ] < 96 > -- Testing dataset 3 contains 9 samples\n",
      "[14:02:29] [  INFO  ] [  __main__  ] < 96 > -- Testing dataset 4 contains 25 samples\n",
      "[14:02:29] [  INFO  ] [  __main__  ] < 96 > -- Testing dataset 5 contains 25 samples\n",
      "[14:02:29] [  INFO  ] [  __main__  ] < 96 > -- Testing dataset 6 contains 22 samples\n",
      "[14:02:29] [  INFO  ] [  __main__  ] < 96 > -- Testing dataset 7 contains 25 samples\n",
      "[14:02:29] [  INFO  ] [  __main__  ] < 96 > -- Testing dataset 8 contains 25 samples\n"
     ]
    }
   ],
   "source": [
    "############################ configure datasets ############################\n",
    "\n",
    "# select samples that are used for training and testing\n",
    "if params[\"dataset_size\"] == \"full\":\n",
    "    train_sample_ids = [\"01\",\"02\",\"03\",\"04\",\"06\",\"07\",\"08\",\"09\",\n",
    "                        \"11\",\"12\",\"13\",\"14\",\"16\",\"17\",\"18\",\"19\",\n",
    "                        \"21\",\"22\",\"23\",\"24\",\"27\",\"28\",\"29\",\"30\",\n",
    "                        \"33\",\"35\",\"36\",\"38\",\"39\",\"41\",\"42\",\"43\",\n",
    "                        \"44\",\"46\"]\n",
    "    test_sample_ids = [\"05\", \"10\", \"15\", \"20\", \"25\", \"32\", \"34\", \"40\", \"45\"]\n",
    "elif params[\"dataset_size\"] == \"minimal\":\n",
    "    train_sample_ids = [\"01\"]\n",
    "    test_sample_ids = [\"34\"]\n",
    "else:\n",
    "    logger.error(f\"{params['dataset_size']} is not a valid dataset size.\")\n",
    "    exit()\n",
    "\n",
    "# detect CUDA devices\n",
    "if params[\"cuda\"]:\n",
    "    device = torch.device(\"cuda\" if torch.cuda.is_available() else \"cpu\")\n",
    "    pin_memory = True\n",
    "else:\n",
    "    device = \"cpu\"\n",
    "    pin_memory = False\n",
    "n_gpus = torch.cuda.device_count()\n",
    "logger.info(f\"Using torch device {device}, with {n_gpus} GPUs\")\n",
    "\n",
    "# set if temporal reduction is used\n",
    "if params[\"temporal_reduction\"]:\n",
    "    logger.info(f\"Using temporal reduction with {params['num_channels']} channels\")\n",
    "\n",
    "# normalize whole videos or chunks individually\n",
    "if params[\"norm_video\"] == \"chunk\":\n",
    "    logger.info(\"Normalizing each chunk using min and max\")\n",
    "elif params[\"norm_video\"] == \"movie\":\n",
    "    logger.info(\"Normalizing whole video using min and max\")\n",
    "elif params[\"norm_video\"] == \"abs_max\":\n",
    "    logger.info(\"Normalizing whole video using 16-bit absolute max\")\n",
    "\n",
    "# initialize training dataset\n",
    "dataset_path = os.path.realpath(f\"{params['relative_path']}\")\n",
    "assert os.path.isdir(dataset_path), f'\"{dataset_path}\" is not a directory'\n",
    "logger.info(f\"Using {dataset_path} as dataset root path\")\n",
    "dataset = SparkDataset(\n",
    "    base_path=dataset_path,\n",
    "    sample_ids=train_sample_ids,\n",
    "    testing=False,\n",
    "    smoothing=params[\"data_smoothing\"],\n",
    "    step=params[\"data_step\"],\n",
    "    duration=params[\"data_duration\"],\n",
    "    remove_background=params[\"remove_background\"],\n",
    "    temporal_reduction=params[\"temporal_reduction\"],\n",
    "    num_channels=params[\"num_channels\"],\n",
    "    normalize_video=params[\"norm_video\"],\n",
    "    only_sparks=params[\"only_sparks\"],\n",
    "    sparks_type=params[\"sparks_type\"],\n",
    "    ignore_index=ignore_index,\n",
    "    inference=None,\n",
    ")\n",
    "\n",
    "# transforms are applied when getting a sample from the dataset\n",
    "if params[\"noise_data_augmentation\"]:\n",
    "    dataset = unet.TransformedDataset(dataset, random_flip_noise)\n",
    "else:\n",
    "    dataset = unet.TransformedDataset(dataset, random_flip)\n",
    "\n",
    "logger.info(f\"Samples in training dataset: {len(dataset)}\")\n",
    "\n",
    "# initialize testing dataset\n",
    "pattern_test_filenames = os.path.join(\n",
    "    f\"{dataset_path}\", \"videos_test\", \"[0-9][0-9]_video.tif\"\n",
    ")\n",
    "\n",
    "testing_datasets = [\n",
    "    SparkDataset(\n",
    "        base_path=dataset_path,\n",
    "        sample_ids=[sample_id],\n",
    "        testing=True,\n",
    "        smoothing=params[\"data_smoothing\"],\n",
    "        step=params[\"data_step\"],\n",
    "        duration=params[\"data_duration\"],\n",
    "        remove_background=params[\"remove_background\"],\n",
    "        temporal_reduction=params[\"temporal_reduction\"],\n",
    "        num_channels=params[\"num_channels\"],\n",
    "        normalize_video=params[\"norm_video\"],\n",
    "        only_sparks=params[\"only_sparks\"],\n",
    "        sparks_type=params[\"sparks_type\"],\n",
    "        ignore_frames=params[\"ignore_frames_loss\"],\n",
    "        ignore_index=ignore_index,\n",
    "        inference=params[\"inference\"],\n",
    "    )\n",
    "    for sample_id in test_sample_ids\n",
    "]\n",
    "\n",
    "for i, tds in enumerate(testing_datasets):\n",
    "    logger.info(f\"Testing dataset {i} contains {len(tds)} samples\")\n",
    "\n",
    "# initialize data loaders\n",
    "dataset_loader = DataLoader(\n",
    "    dataset,\n",
    "    batch_size=params[\"batch_size\"],\n",
    "    shuffle=True,\n",
    "    num_workers=params[\"num_workers\"],\n",
    "    pin_memory=pin_memory,\n",
    ")"
   ]
  },
  {
   "cell_type": "code",
   "execution_count": 10,
   "metadata": {},
   "outputs": [],
   "source": [
    "############################## configure UNet ##############################\n",
    "\n",
    "if params[\"nn_architecture\"] == \"pablos_unet\":\n",
    "\n",
    "    batch_norm = {\"batch\": True, \"none\": False}\n",
    "\n",
    "    unet_config = unet.UNetConfig(\n",
    "        steps=params[\"unet_steps\"],\n",
    "        first_layer_channels=params[\"first_layer_channels\"],\n",
    "        num_classes=num_classes,\n",
    "        ndims=ndims,\n",
    "        dilation=params[\"dilation\"],\n",
    "        border_mode=params[\"border_mode\"],\n",
    "        batch_normalization=batch_norm[params[\"batch_normalization\"]],\n",
    "        num_input_channels=params[\"num_channels\"],\n",
    "    )\n",
    "\n",
    "    if not params[\"temporal_reduction\"]:\n",
    "        network = unet.UNetClassifier(unet_config)\n",
    "    else:\n",
    "        assert (\n",
    "            params[\"data_duration\"] % params[\"num_channels\"] == 0\n",
    "        ), \"using temporal reduction chunks_duration must be a multiple of num_channels\"\n",
    "        network = TempRedUNet(unet_config)\n",
    "\n",
    "elif params[\"nn_architecture\"] == \"github_unet\":\n",
    "    network = UNet(\n",
    "        in_channels=params[\"num_channels\"],\n",
    "        out_channels=num_classes,\n",
    "        n_blocks=params[\"unet_steps\"] + 1,\n",
    "        start_filts=params[\"first_layer_channels\"],\n",
    "        # up_mode = 'transpose', # TESTARE DIVERSE POSSIBILTÀ\n",
    "        # up_mode='resizeconv_nearest',  # Enable to avoid checkerboard artifacts\n",
    "        merge_mode=\"concat\",  # Default, dicono che funziona meglio\n",
    "        # planar_blocks=(0,), # magari capire cos'è e testarlo ??\n",
    "        activation=\"relu\",\n",
    "        normalization=params[\n",
    "            \"batch_normalization\"\n",
    "        ],  # Penso che nell'implementazione di Pablo è 'none'\n",
    "        attention=params[\"attention\"],  # magari da testare con 'True' ??\n",
    "        # full_norm=False,  # Uncomment to restore old sparse normalization scheme\n",
    "        dim=ndims,\n",
    "        conv_mode=params[\"border_mode\"],  # 'valid' ha dei vantaggi a quanto pare...\n",
    "    )\n",
    "\n",
    "if device != \"cpu\":\n",
    "    network = nn.DataParallel(network).to(device)\n",
    "    torch.backends.cudnn.benchmark = True\n",
    "\n",
    "if wandb_log:\n",
    "    wandb.watch(network)\n",
    "\n",
    "if params[\"initialize_weights\"]:\n",
    "    logger.info(\"Initializing UNet weights...\")\n",
    "    network.apply(weights_init)"
   ]
  },
  {
   "cell_type": "code",
   "execution_count": 11,
   "metadata": {},
   "outputs": [
    {
     "name": "stdout",
     "output_type": "stream",
     "text": [
      "[14:02:30] [  INFO  ] [  __main__  ] < 7  > -- Output directory: runs\\focal_loss_updated_physio\n",
      "[14:02:31] [ DEBUG  ] [urllib3.connectionpool] <1003> -- Starting new HTTPS connection (1): o151352.ingest.sentry.io:443\n",
      "[14:02:31] [ DEBUG  ] [urllib3.connectionpool] <456 > -- https://o151352.ingest.sentry.io:443 \"POST /api/5288891/envelope/ HTTP/1.1\" 200 2\n",
      "[14:02:54] [  INFO  ] [  __main__  ] < 20 > -- Using class weights: 0.2560105323791504, 163.60488891601562, 15.518952369689941, 42.805931091308594\n"
     ]
    }
   ],
   "source": [
    "########################### initialize training ############################\n",
    "\n",
    "optimizer = optim.Adam(network.parameters(), lr=params[\"lr_start\"])\n",
    "network.train()\n",
    "\n",
    "output_path = os.path.join(output_relative_path, params[\"run_name\"])\n",
    "logger.info(f\"Output directory: {output_path}\")\n",
    "\n",
    "summary_writer = SummaryWriter(os.path.join(output_path, \"summary\"), purge_step=0)\n",
    "\n",
    "if params[\"load_run_name\"] != None:\n",
    "    load_path = os.path.join(output_relative_path, params[\"load_run_name\"])\n",
    "    logger.info(f\"Model loaded from directory: {load_path}\")\n",
    "else:\n",
    "    load_path = None\n",
    "\n",
    "# class weights\n",
    "if params[\"criterion\"] in [\"nll_loss\", \"focal_loss\", \"sum_losses\"]:\n",
    "    class_weights = compute_class_weights(dataset)\n",
    "    logger.info(\n",
    "        \"Using class weights: {}\".format(\n",
    "            \", \".join(str(w.item()) for w in class_weights)\n",
    "        )\n",
    "    )\n",
    "\n",
    "if params[\"criterion\"] == \"nll_loss\":\n",
    "    criterion = nn.NLLLoss(\n",
    "        ignore_index=ignore_index, weight=class_weights.to(device)\n",
    "    )\n",
    "elif params[\"criterion\"] == \"focal_loss\":\n",
    "    criterion = FocalLoss(\n",
    "        reduction=\"mean\",\n",
    "        ignore_index=ignore_index,\n",
    "        alpha=class_weights,\n",
    "        gamma=params[\"gamma\"],\n",
    "    )\n",
    "elif params[\"criterion\"] == \"lovasz_softmax\":\n",
    "    criterion = LovaszSoftmax3d(\n",
    "        classes=\"present\", per_image=False, ignore=ignore_index\n",
    "    )\n",
    "elif params[\"criterion\"] == \"sum_losses\":\n",
    "    criterion = SumFocalLovasz(\n",
    "        classes=\"present\",\n",
    "        per_image=False,\n",
    "        ignore=ignore_index,\n",
    "        alpha=class_weights,\n",
    "        gamma=params[\"gamma\"],\n",
    "        reduction=\"mean\",\n",
    "        w=params[\"w\"],\n",
    "    )\n",
    "\n",
    "# directory where predicted class movies are saved\n",
    "preds_output_dir = os.path.join(output_path, \"predictions\")\n",
    "os.makedirs(preds_output_dir, exist_ok=True)\n",
    "\n",
    "trainer = myTrainingManager(\n",
    "    # training items\n",
    "    training_step=lambda _: training_step(\n",
    "        sampler=sampler,\n",
    "        network=network,\n",
    "        optimizer=optimizer,\n",
    "        device=device,\n",
    "        criterion=criterion,\n",
    "        dataset_loader=dataset_loader,\n",
    "        ignore_frames=params[\"ignore_frames_loss\"],\n",
    "    ),\n",
    "    save_every=c.getint(\"training\", \"save_every\", fallback=5000),\n",
    "    # load_path=load_path,\n",
    "    save_path=output_path,\n",
    "    managed_objects=unet.managed_objects(\n",
    "        {\"network\": network, \"optimizer\": optimizer}\n",
    "    ),\n",
    "    # testing items\n",
    "    test_function=lambda _: test_function(\n",
    "        network=network,\n",
    "        device=device,\n",
    "        criterion=criterion,\n",
    "        testing_datasets=testing_datasets,\n",
    "        ignore_frames=params[\"ignore_frames_loss\"],\n",
    "        training_name=params[\"run_name\"],\n",
    "        output_dir=preds_output_dir,\n",
    "        training_mode=True,\n",
    "        debug=debug_mode,\n",
    "    ),\n",
    "    test_every=c.getint(\"training\", \"test_every\", fallback=1000),\n",
    "    plot_every=c.getint(\"training\", \"test_every\", fallback=1000),\n",
    "    summary_writer=summary_writer,\n",
    ")"
   ]
  },
  {
   "cell_type": "code",
   "execution_count": 12,
   "metadata": {},
   "outputs": [],
   "source": [
    "############################ init random seeds #############################\n",
    "import random\n",
    "\n",
    "torch.manual_seed(0)\n",
    "random.seed(0)\n",
    "np.random.seed(0)"
   ]
  },
  {
   "cell_type": "code",
   "execution_count": 13,
   "metadata": {},
   "outputs": [
    {
     "name": "stdout",
     "output_type": "stream",
     "text": [
      "[14:02:55] [  INFO  ] [  __main__  ] < 7  > -- Validate network before training\n",
      "[14:02:55] [  INFO  ] [training_inference_tools] < 45 > -- Validating network at iteration 0...\n",
      "[14:02:55] [ DEBUG  ] [training_inference_tools] <520 > -- Testing function: running sample 05 in UNet\n",
      "[14:03:04] [ DEBUG  ] [in_out_tools] <278 > -- Writing videos on directory c:\\Users\\dotti\\sparks_project\\sparks\\runs\\focal_loss_updated_physio\\predictions ..\n",
      "[14:03:05] [ DEBUG  ] [training_inference_tools] <550 > -- Time to run sample 05 in UNet: 10.35 s\n",
      "[14:03:05] [ DEBUG  ] [training_inference_tools] <557 > -- Testing function: re-organising annotations\n",
      "[14:03:08] [ DEBUG  ] [training_inference_tools] <586 > -- Time to re-organise annotations: 2.79 s\n",
      "[14:03:08] [ DEBUG  ] [training_inference_tools] <592 > -- Testing function: getting processed output (segmentation and instances)\n",
      "[14:03:08] [ DEBUG  ] [data_processing_tools] <448 > -- Events detection threshold: 0.718\n",
      "[14:03:13] [ DEBUG  ] [data_processing_tools] <514 > -- Number of sparks detected by nonmaxima suppression: 1569\n",
      "[14:06:40] [ DEBUG  ] [data_processing_tools] <875 > -- Time for removing small events: 74.58 s\n",
      "[14:06:41] [ DEBUG  ] [training_inference_tools] <642 > -- Time to process predictions: 215.56 s\n",
      "[14:06:41] [ DEBUG  ] [training_inference_tools] <659 > -- Testing function: computing pairwise scores between 97 annotated events and 1566 predicted events\n",
      "[14:06:57] [ DEBUG  ] [training_inference_tools] <669 > -- Time to compute pairwise scores: 16.80 s\n",
      "[14:06:57] [ DEBUG  ] [training_inference_tools] <676 > -- Testing function: getting confusion matrix\n"
     ]
    },
    {
     "ename": "KeyboardInterrupt",
     "evalue": "",
     "output_type": "error",
     "traceback": [
      "\u001b[1;31m---------------------------------------------------------------------------\u001b[0m",
      "\u001b[1;31mKeyboardInterrupt\u001b[0m                         Traceback (most recent call last)",
      "Cell \u001b[1;32mIn[13], line 8\u001b[0m\n\u001b[0;32m      6\u001b[0m \u001b[39mif\u001b[39;00m c\u001b[39m.\u001b[39mgetboolean(\u001b[39m\"\u001b[39m\u001b[39mgeneral\u001b[39m\u001b[39m\"\u001b[39m, \u001b[39m\"\u001b[39m\u001b[39mtraining\u001b[39m\u001b[39m\"\u001b[39m, fallback\u001b[39m=\u001b[39m\u001b[39mFalse\u001b[39;00m):  \u001b[39m# Run training procedure on data\u001b[39;00m\n\u001b[0;32m      7\u001b[0m     logger\u001b[39m.\u001b[39minfo(\u001b[39m\"\u001b[39m\u001b[39mValidate network before training\u001b[39m\u001b[39m\"\u001b[39m)\n\u001b[1;32m----> 8\u001b[0m     trainer\u001b[39m.\u001b[39;49mrun_validation(wandb_log\u001b[39m=\u001b[39;49mwandb_log)\n\u001b[0;32m      9\u001b[0m     logger\u001b[39m.\u001b[39minfo(\u001b[39m\"\u001b[39m\u001b[39mStarting training\u001b[39m\u001b[39m\"\u001b[39m)\n\u001b[0;32m     10\u001b[0m     trainer\u001b[39m.\u001b[39mtrain(\n\u001b[0;32m     11\u001b[0m         params[\u001b[39m\"\u001b[39m\u001b[39mtrain_epochs\u001b[39m\u001b[39m\"\u001b[39m],\n\u001b[0;32m     12\u001b[0m         print_every\u001b[39m=\u001b[39mc\u001b[39m.\u001b[39mgetint(\u001b[39m\"\u001b[39m\u001b[39mtraining\u001b[39m\u001b[39m\"\u001b[39m, \u001b[39m\"\u001b[39m\u001b[39mprint_every\u001b[39m\u001b[39m\"\u001b[39m, fallback\u001b[39m=\u001b[39m\u001b[39m100\u001b[39m),\n\u001b[0;32m     13\u001b[0m         wandb_log\u001b[39m=\u001b[39mwandb_log,\n\u001b[0;32m     14\u001b[0m     )\n",
      "File \u001b[1;32mc:\\Users\\dotti\\sparks_project\\sparks\\training_inference_tools.py:47\u001b[0m, in \u001b[0;36mmyTrainingManager.run_validation\u001b[1;34m(self, wandb_log)\u001b[0m\n\u001b[0;32m     43\u001b[0m     \u001b[39mreturn\u001b[39;00m\n\u001b[0;32m     45\u001b[0m logger\u001b[39m.\u001b[39minfo(\u001b[39m\"\u001b[39m\u001b[39mValidating network at iteration \u001b[39m\u001b[39m{}\u001b[39;00m\u001b[39m...\u001b[39m\u001b[39m\"\u001b[39m\u001b[39m.\u001b[39mformat(\u001b[39mself\u001b[39m\u001b[39m.\u001b[39miter))\n\u001b[1;32m---> 47\u001b[0m test_output \u001b[39m=\u001b[39m \u001b[39mself\u001b[39;49m\u001b[39m.\u001b[39;49mtest_function(\u001b[39mself\u001b[39;49m\u001b[39m.\u001b[39;49miter)\n\u001b[0;32m     49\u001b[0m \u001b[39mif\u001b[39;00m wandb_log:\n\u001b[0;32m     50\u001b[0m     wandb\u001b[39m.\u001b[39mlog({m: val \u001b[39mfor\u001b[39;00m m, val \u001b[39min\u001b[39;00m test_output\u001b[39m.\u001b[39mitems()\n\u001b[0;32m     51\u001b[0m                \u001b[39mif\u001b[39;00m \u001b[39m'\u001b[39m\u001b[39mconfusion_matrix\u001b[39m\u001b[39m'\u001b[39m \u001b[39mnot\u001b[39;00m \u001b[39min\u001b[39;00m m})\n",
      "Cell \u001b[1;32mIn[11], line 74\u001b[0m, in \u001b[0;36m<lambda>\u001b[1;34m(_)\u001b[0m\n\u001b[0;32m     53\u001b[0m preds_output_dir \u001b[39m=\u001b[39m os\u001b[39m.\u001b[39mpath\u001b[39m.\u001b[39mjoin(output_path, \u001b[39m\"\u001b[39m\u001b[39mpredictions\u001b[39m\u001b[39m\"\u001b[39m)\n\u001b[0;32m     54\u001b[0m os\u001b[39m.\u001b[39mmakedirs(preds_output_dir, exist_ok\u001b[39m=\u001b[39m\u001b[39mTrue\u001b[39;00m)\n\u001b[0;32m     56\u001b[0m trainer \u001b[39m=\u001b[39m myTrainingManager(\n\u001b[0;32m     57\u001b[0m     \u001b[39m# training items\u001b[39;00m\n\u001b[0;32m     58\u001b[0m     training_step\u001b[39m=\u001b[39m\u001b[39mlambda\u001b[39;00m _: training_step(\n\u001b[0;32m     59\u001b[0m         sampler\u001b[39m=\u001b[39msampler,\n\u001b[0;32m     60\u001b[0m         network\u001b[39m=\u001b[39mnetwork,\n\u001b[0;32m     61\u001b[0m         optimizer\u001b[39m=\u001b[39moptimizer,\n\u001b[0;32m     62\u001b[0m         device\u001b[39m=\u001b[39mdevice,\n\u001b[0;32m     63\u001b[0m         criterion\u001b[39m=\u001b[39mcriterion,\n\u001b[0;32m     64\u001b[0m         dataset_loader\u001b[39m=\u001b[39mdataset_loader,\n\u001b[0;32m     65\u001b[0m         ignore_frames\u001b[39m=\u001b[39mparams[\u001b[39m\"\u001b[39m\u001b[39mignore_frames_loss\u001b[39m\u001b[39m\"\u001b[39m],\n\u001b[0;32m     66\u001b[0m     ),\n\u001b[0;32m     67\u001b[0m     save_every\u001b[39m=\u001b[39mc\u001b[39m.\u001b[39mgetint(\u001b[39m\"\u001b[39m\u001b[39mtraining\u001b[39m\u001b[39m\"\u001b[39m, \u001b[39m\"\u001b[39m\u001b[39msave_every\u001b[39m\u001b[39m\"\u001b[39m, fallback\u001b[39m=\u001b[39m\u001b[39m5000\u001b[39m),\n\u001b[0;32m     68\u001b[0m     \u001b[39m# load_path=load_path,\u001b[39;00m\n\u001b[0;32m     69\u001b[0m     save_path\u001b[39m=\u001b[39moutput_path,\n\u001b[0;32m     70\u001b[0m     managed_objects\u001b[39m=\u001b[39munet\u001b[39m.\u001b[39mmanaged_objects(\n\u001b[0;32m     71\u001b[0m         {\u001b[39m\"\u001b[39m\u001b[39mnetwork\u001b[39m\u001b[39m\"\u001b[39m: network, \u001b[39m\"\u001b[39m\u001b[39moptimizer\u001b[39m\u001b[39m\"\u001b[39m: optimizer}\n\u001b[0;32m     72\u001b[0m     ),\n\u001b[0;32m     73\u001b[0m     \u001b[39m# testing items\u001b[39;00m\n\u001b[1;32m---> 74\u001b[0m     test_function\u001b[39m=\u001b[39m\u001b[39mlambda\u001b[39;00m _: test_function(\n\u001b[0;32m     75\u001b[0m         network\u001b[39m=\u001b[39;49mnetwork,\n\u001b[0;32m     76\u001b[0m         device\u001b[39m=\u001b[39;49mdevice,\n\u001b[0;32m     77\u001b[0m         criterion\u001b[39m=\u001b[39;49mcriterion,\n\u001b[0;32m     78\u001b[0m         testing_datasets\u001b[39m=\u001b[39;49mtesting_datasets,\n\u001b[0;32m     79\u001b[0m         ignore_frames\u001b[39m=\u001b[39;49mparams[\u001b[39m\"\u001b[39;49m\u001b[39mignore_frames_loss\u001b[39;49m\u001b[39m\"\u001b[39;49m],\n\u001b[0;32m     80\u001b[0m         training_name\u001b[39m=\u001b[39;49mparams[\u001b[39m\"\u001b[39;49m\u001b[39mrun_name\u001b[39;49m\u001b[39m\"\u001b[39;49m],\n\u001b[0;32m     81\u001b[0m         output_dir\u001b[39m=\u001b[39;49mpreds_output_dir,\n\u001b[0;32m     82\u001b[0m         training_mode\u001b[39m=\u001b[39;49m\u001b[39mTrue\u001b[39;49;00m,\n\u001b[0;32m     83\u001b[0m         debug\u001b[39m=\u001b[39;49mdebug_mode,\n\u001b[0;32m     84\u001b[0m     ),\n\u001b[0;32m     85\u001b[0m     test_every\u001b[39m=\u001b[39mc\u001b[39m.\u001b[39mgetint(\u001b[39m\"\u001b[39m\u001b[39mtraining\u001b[39m\u001b[39m\"\u001b[39m, \u001b[39m\"\u001b[39m\u001b[39mtest_every\u001b[39m\u001b[39m\"\u001b[39m, fallback\u001b[39m=\u001b[39m\u001b[39m1000\u001b[39m),\n\u001b[0;32m     86\u001b[0m     plot_every\u001b[39m=\u001b[39mc\u001b[39m.\u001b[39mgetint(\u001b[39m\"\u001b[39m\u001b[39mtraining\u001b[39m\u001b[39m\"\u001b[39m, \u001b[39m\"\u001b[39m\u001b[39mtest_every\u001b[39m\u001b[39m\"\u001b[39m, fallback\u001b[39m=\u001b[39m\u001b[39m1000\u001b[39m),\n\u001b[0;32m     87\u001b[0m     summary_writer\u001b[39m=\u001b[39msummary_writer,\n\u001b[0;32m     88\u001b[0m )\n",
      "File \u001b[1;32mc:\\Users\\dotti\\sparks_project\\sparks\\training_inference_tools.py:678\u001b[0m, in \u001b[0;36mtest_function\u001b[1;34m(network, device, criterion, ignore_frames, testing_datasets, training_name, output_dir, training_mode, debug)\u001b[0m\n\u001b[0;32m    674\u001b[0m start \u001b[39m=\u001b[39m time\u001b[39m.\u001b[39mtime()\n\u001b[0;32m    676\u001b[0m logger\u001b[39m.\u001b[39mdebug(\u001b[39m\"\u001b[39m\u001b[39mTesting function: getting confusion matrix\u001b[39m\u001b[39m\"\u001b[39m)\n\u001b[1;32m--> 678\u001b[0m confusion_matrix_res \u001b[39m=\u001b[39m get_confusion_matrix(\n\u001b[0;32m    679\u001b[0m     ys_instances\u001b[39m=\u001b[39;49mys_instances,\n\u001b[0;32m    680\u001b[0m     preds_instances\u001b[39m=\u001b[39;49mpreds_instances,\n\u001b[0;32m    681\u001b[0m     scores\u001b[39m=\u001b[39;49miomin_scores,\n\u001b[0;32m    682\u001b[0m     t\u001b[39m=\u001b[39;49miomin_t,\n\u001b[0;32m    683\u001b[0m     ignore_mask\u001b[39m=\u001b[39;49mignore_mask,\n\u001b[0;32m    684\u001b[0m )\n\u001b[0;32m    686\u001b[0m \u001b[39m# confusion matrix cols and rows indices: {background, sparks, puffs, waves}\u001b[39;00m\n\u001b[0;32m    687\u001b[0m confusion_matrix[video_name] \u001b[39m=\u001b[39m confusion_matrix_res[\u001b[39m0\u001b[39m]\n",
      "File \u001b[1;32mc:\\Users\\dotti\\sparks_project\\sparks\\metrics_tools.py:771\u001b[0m, in \u001b[0;36mget_confusion_matrix\u001b[1;34m(ys_instances, preds_instances, scores, t, ignore_mask)\u001b[0m\n\u001b[0;32m    768\u001b[0m pred_roi \u001b[39m=\u001b[39m preds_instances[pred_class] \u001b[39m==\u001b[39m pred_id\n\u001b[0;32m    769\u001b[0m pred_roi_size \u001b[39m=\u001b[39m np\u001b[39m.\u001b[39mcount_nonzero(pred_roi)\n\u001b[1;32m--> 771\u001b[0m ignored_roi \u001b[39m=\u001b[39m np\u001b[39m.\u001b[39;49mlogical_and(pred_roi, ignore_mask)\n\u001b[0;32m    772\u001b[0m ignored_roi_size \u001b[39m=\u001b[39m np\u001b[39m.\u001b[39mcount_nonzero(ignored_roi)\n\u001b[0;32m    774\u001b[0m overlap \u001b[39m=\u001b[39m ignored_roi_size \u001b[39m/\u001b[39m pred_roi_size\n",
      "\u001b[1;31mKeyboardInterrupt\u001b[0m: "
     ]
    }
   ],
   "source": [
    "############################## start training ##############################\n",
    "\n",
    "if params[\"load_epoch\"] != 0:\n",
    "    trainer.load(params[\"load_epoch\"])\n",
    "\n",
    "if c.getboolean(\"general\", \"training\", fallback=False):  # Run training procedure on data\n",
    "    logger.info(\"Validate network before training\")\n",
    "    trainer.run_validation(wandb_log=wandb_log)\n",
    "    logger.info(\"Starting training\")\n",
    "    trainer.train(\n",
    "        params[\"train_epochs\"],\n",
    "        print_every=c.getint(\"training\", \"print_every\", fallback=100),\n",
    "        wandb_log=wandb_log,\n",
    "    )\n"
   ]
  },
  {
   "cell_type": "code",
   "execution_count": 14,
   "metadata": {},
   "outputs": [
    {
     "name": "stdout",
     "output_type": "stream",
     "text": [
      "[12:43:49] [  INFO  ] [  __main__  ] < 2  > -- Starting final validation\n",
      "[12:43:49] [  INFO  ] [training_inference_tools] < 45 > -- Validating network at iteration 300...\n",
      "[12:43:49] [ DEBUG  ] [training_inference_tools] <519 > -- Testing function: running sample 34 in UNet\n",
      "[12:44:17] [ DEBUG  ] [in_out_tools] <278 > -- Writing videos on directory c:\\Users\\dotti\\sparks_project\\sparks\\runs\\TEST4\\predictions ..\n",
      "[12:44:18] [ DEBUG  ] [training_inference_tools] <549 > -- Time to run sample 34 in UNet: 28.15 s\n",
      "[12:44:18] [ DEBUG  ] [training_inference_tools] <556 > -- Testing function: re-organising annotations\n",
      "[12:44:24] [ DEBUG  ] [training_inference_tools] <585 > -- Time to re-organise annotations: 6.61 s\n",
      "[12:44:24] [ DEBUG  ] [training_inference_tools] <591 > -- Testing function: getting processed output (segmentation and instances)\n",
      "[12:44:25] [ DEBUG  ] [data_processing_tools] <448 > -- Events detection threshold: 0.735\n",
      "[12:44:39] [ DEBUG  ] [data_processing_tools] <514 > -- Number of sparks detected by nonmaxima suppression: 4673\n",
      "[13:00:52] [ DEBUG  ] [data_processing_tools] <875 > -- Time for removing small events: 773.39 s\n",
      "[13:00:52] [ DEBUG  ] [training_inference_tools] <641 > -- Time to process predictions: 994.46 s\n",
      "[13:00:52] [ DEBUG  ] [training_inference_tools] <658 > -- Testing function: computing pairwise scores between 25 annotated events and 5041 predicted events\n",
      "[13:01:05] [ DEBUG  ] [training_inference_tools] <668 > -- Time to compute pairwise scores: 12.52 s\n",
      "[13:01:05] [ DEBUG  ] [training_inference_tools] <675 > -- Testing function: getting confusion matrix\n",
      "[13:12:36] [ DEBUG  ] [training_inference_tools] <703 > -- Confusion matrix for video 34:\n",
      "[[0.000e+00 4.534e+03 0.000e+00 1.000e+02]\n",
      " [1.600e+01 0.000e+00 0.000e+00 0.000e+00]\n",
      " [0.000e+00 1.200e+02 0.000e+00 2.770e+02]\n",
      " [1.000e+00 1.000e+01 0.000e+00 0.000e+00]]\n",
      "[13:12:36] [ DEBUG  ] [training_inference_tools] <707 > -- Time to compute confusion matrix: 690.93 s\n",
      "[13:12:36] [ DEBUG  ] [training_inference_tools] <714 > -- Testing function: reducing metrics\n",
      "[13:12:38] [ DEBUG  ] [training_inference_tools] <782 > -- Time to reduce metrics: 2.29 s\n",
      "[13:12:38] [  INFO  ] [training_inference_tools] < 53 > -- Metrics:\n",
      "[13:12:38] [  INFO  ] [training_inference_tools] < 55 > -- \tvalidation_loss: 3.2668728828430176\n",
      "[13:12:38] [  INFO  ] [training_inference_tools] < 55 > -- \tevents_confusion_matrix: [[0.000e+00 4.534e+03 0.000e+00 1.000e+02]\n",
      " [1.600e+01 0.000e+00 0.000e+00 0.000e+00]\n",
      " [0.000e+00 1.200e+02 0.000e+00 2.770e+02]\n",
      " [1.000e+00 1.000e+01 0.000e+00 0.000e+00]]\n",
      "[13:12:38] [  INFO  ] [training_inference_tools] < 55 > -- \tsparks/precision: 0.0\n",
      "[13:12:38] [  INFO  ] [training_inference_tools] < 55 > -- \tsparks/recall: 0.0\n",
      "[13:12:38] [  INFO  ] [training_inference_tools] < 55 > -- \tsparks/correctly_classified: 0.0\n",
      "[13:12:38] [  INFO  ] [training_inference_tools] < 55 > -- \tsparks/detected: 0.0\n",
      "[13:12:38] [  INFO  ] [training_inference_tools] < 55 > -- \tpuffs/precision: 0.0\n",
      "[13:12:38] [  INFO  ] [training_inference_tools] < 55 > -- \tpuffs/recall: 0.0\n",
      "[13:12:38] [  INFO  ] [training_inference_tools] < 55 > -- \tpuffs/correctly_classified: 0.0\n",
      "[13:12:38] [  INFO  ] [training_inference_tools] < 55 > -- \tpuffs/detected: 0.6666666666666667\n",
      "[13:12:38] [  INFO  ] [training_inference_tools] < 55 > -- \twaves/precision: 0\n",
      "[13:12:38] [  INFO  ] [training_inference_tools] < 55 > -- \twaves/recall: 0.0\n",
      "[13:12:38] [  INFO  ] [training_inference_tools] < 55 > -- \twaves/correctly_classified: 0\n",
      "[13:12:38] [  INFO  ] [training_inference_tools] < 55 > -- \twaves/detected: 1.0\n",
      "[13:12:38] [  INFO  ] [training_inference_tools] < 55 > -- \taverage/precision: 0.0\n",
      "[13:12:38] [  INFO  ] [training_inference_tools] < 55 > -- \taverage/recall: 0.0\n",
      "[13:12:38] [  INFO  ] [training_inference_tools] < 55 > -- \taverage/correctly_classified: 0.0\n",
      "[13:12:38] [  INFO  ] [training_inference_tools] < 55 > -- \taverage/detected: 0.5555555555555556\n",
      "[13:12:38] [  INFO  ] [training_inference_tools] < 55 > -- \tsegmentation/sparks_IoU: 0.0005792202761667591\n",
      "[13:12:38] [  INFO  ] [training_inference_tools] < 55 > -- \tsegmentation/puffs_IoU: 0.0\n",
      "[13:12:38] [  INFO  ] [training_inference_tools] < 55 > -- \tsegmentation/waves_IoU: 0.0\n",
      "[13:12:38] [  INFO  ] [training_inference_tools] < 55 > -- \tsegmentation/average_IoU: 0.0001930734253889197\n",
      "[13:12:38] [  INFO  ] [training_inference_tools] < 55 > -- \tsegmentation_confusion_matrix: [[15353909 11658138        0    12977]\n",
      " [   11964     7372        0        0]\n",
      " [ 1298627  1002906        0   153417]\n",
      " [   72241    47075        0        0]]\n"
     ]
    }
   ],
   "source": [
    "if c.getboolean(\"general\", \"testing\", fallback=False):  # Run final validation\n",
    "    logger.info(\"Starting final validation\")\n",
    "    trainer.run_validation(wandb_log=wandb_log)"
   ]
  },
  {
   "cell_type": "code",
   "execution_count": 15,
   "metadata": {},
   "outputs": [
    {
     "data": {
      "text/html": [
       "Waiting for W&B process to finish... <strong style=\"color:green\">(success).</strong>"
      ],
      "text/plain": [
       "<IPython.core.display.HTML object>"
      ]
     },
     "metadata": {},
     "output_type": "display_data"
    },
    {
     "data": {
      "application/vnd.jupyter.widget-view+json": {
       "model_id": "2817a3812f0e42f78ababf584aaf050f",
       "version_major": 2,
       "version_minor": 0
      },
      "text/plain": [
       "VBox(children=(Label(value='0.000 MB of 0.037 MB uploaded (0.000 MB deduped)\\r'), FloatProgress(value=0.0, max…"
      ]
     },
     "metadata": {},
     "output_type": "display_data"
    },
    {
     "data": {
      "text/html": [
       "<style>\n",
       "    table.wandb td:nth-child(1) { padding: 0 10px; text-align: left ; width: auto;} td:nth-child(2) {text-align: left ; width: 100%}\n",
       "    .wandb-row { display: flex; flex-direction: row; flex-wrap: wrap; justify-content: flex-start; width: 100% }\n",
       "    .wandb-col { display: flex; flex-direction: column; flex-basis: 100%; flex: 1; padding: 10px; }\n",
       "    </style>\n",
       "<div class=\"wandb-row\"><div class=\"wandb-col\"><h3>Run history:</h3><br/><table class=\"wandb\"><tr><td>Step_</td><td>▁▁▂▂▂▃▃▄▄▄▅▅▅▆▆▇▇▇██</td></tr><tr><td>U-Net training loss</td><td>▁████████████▇██████</td></tr><tr><td>average/correctly_classified</td><td>▁</td></tr><tr><td>average/detected</td><td>▁</td></tr><tr><td>average/precision</td><td>▁</td></tr><tr><td>average/recall</td><td>▁</td></tr><tr><td>puffs/correctly_classified</td><td>▁</td></tr><tr><td>puffs/detected</td><td>▁</td></tr><tr><td>puffs/precision</td><td>▁</td></tr><tr><td>puffs/recall</td><td>▁</td></tr><tr><td>segmentation/average_IoU</td><td>▁</td></tr><tr><td>segmentation/puffs_IoU</td><td>▁</td></tr><tr><td>segmentation/sparks_IoU</td><td>▁</td></tr><tr><td>segmentation/waves_IoU</td><td>▁</td></tr><tr><td>sparks/correctly_classified</td><td>▁</td></tr><tr><td>sparks/detected</td><td>▁</td></tr><tr><td>sparks/precision</td><td>▁</td></tr><tr><td>sparks/recall</td><td>▁</td></tr><tr><td>validation_loss</td><td>▁</td></tr><tr><td>waves/correctly_classified</td><td>▁</td></tr><tr><td>waves/detected</td><td>▁</td></tr><tr><td>waves/precision</td><td>▁</td></tr><tr><td>waves/recall</td><td>▁</td></tr></table><br/></div><div class=\"wandb-col\"><h3>Run summary:</h3><br/><table class=\"wandb\"><tr><td>Step_</td><td>290</td></tr><tr><td>U-Net training loss</td><td>1.95385</td></tr><tr><td>average/correctly_classified</td><td>0.0</td></tr><tr><td>average/detected</td><td>0.55556</td></tr><tr><td>average/precision</td><td>0.0</td></tr><tr><td>average/recall</td><td>0.0</td></tr><tr><td>puffs/correctly_classified</td><td>0.0</td></tr><tr><td>puffs/detected</td><td>0.66667</td></tr><tr><td>puffs/precision</td><td>0.0</td></tr><tr><td>puffs/recall</td><td>0.0</td></tr><tr><td>segmentation/average_IoU</td><td>0.00019</td></tr><tr><td>segmentation/puffs_IoU</td><td>0.0</td></tr><tr><td>segmentation/sparks_IoU</td><td>0.00058</td></tr><tr><td>segmentation/waves_IoU</td><td>0.0</td></tr><tr><td>sparks/correctly_classified</td><td>0.0</td></tr><tr><td>sparks/detected</td><td>0.0</td></tr><tr><td>sparks/precision</td><td>0.0</td></tr><tr><td>sparks/recall</td><td>0.0</td></tr><tr><td>validation_loss</td><td>3.26687</td></tr><tr><td>waves/correctly_classified</td><td>0</td></tr><tr><td>waves/detected</td><td>1.0</td></tr><tr><td>waves/precision</td><td>0</td></tr><tr><td>waves/recall</td><td>0.0</td></tr></table><br/></div></div>"
      ],
      "text/plain": [
       "<IPython.core.display.HTML object>"
      ]
     },
     "metadata": {},
     "output_type": "display_data"
    },
    {
     "data": {
      "text/html": [
       " View run <strong style=\"color:#cdcd00\">TEST4</strong> at: <a href='https://wandb.ai/dottip/TEST/runs/TEST4' target=\"_blank\">https://wandb.ai/dottip/TEST/runs/TEST4</a><br/>Synced 3 W&B file(s), 0 media file(s), 0 artifact file(s) and 0 other file(s)"
      ],
      "text/plain": [
       "<IPython.core.display.HTML object>"
      ]
     },
     "metadata": {},
     "output_type": "display_data"
    },
    {
     "data": {
      "text/html": [
       "Find logs at: <code>.\\wandb\\run-20230323_123121-TEST4\\logs</code>"
      ],
      "text/plain": [
       "<IPython.core.display.HTML object>"
      ]
     },
     "metadata": {},
     "output_type": "display_data"
    }
   ],
   "source": [
    "if wandb_log:\n",
    "    wandb.finish()\n"
   ]
  },
  {
   "cell_type": "code",
   "execution_count": null,
   "metadata": {},
   "outputs": [],
   "source": []
  },
  {
   "cell_type": "code",
   "execution_count": null,
   "metadata": {},
   "outputs": [],
   "source": []
  },
  {
   "cell_type": "code",
   "execution_count": null,
   "metadata": {},
   "outputs": [],
   "source": []
  },
  {
   "attachments": {},
   "cell_type": "markdown",
   "metadata": {},
   "source": [
    "# Visualize UNet architecture"
   ]
  },
  {
   "cell_type": "code",
   "execution_count": null,
   "metadata": {},
   "outputs": [],
   "source": [
    "# get number of trainable parameters\n",
    "num_params = sum(p.numel() for p in network.parameters() if p.requires_grad)\n",
    "logger.debug(f\"Number of trainable parameters: {num_params}\")"
   ]
  },
  {
   "cell_type": "code",
   "execution_count": null,
   "metadata": {},
   "outputs": [],
   "source": [
    "# get dummy unet input\n",
    "batch = next(iter(dataset_loader))\n",
    "x = batch[0].to(device)\n",
    "yhat = network(x[:,None]) # Give dummy batch to forward()"
   ]
  },
  {
   "cell_type": "code",
   "execution_count": null,
   "metadata": {},
   "outputs": [],
   "source": [
    "from torchviz import make_dot"
   ]
  },
  {
   "cell_type": "code",
   "execution_count": null,
   "metadata": {},
   "outputs": [],
   "source": [
    "make_dot(yhat, params=dict(list(network.named_parameters()))).render(\"unet_model\", format=\"png\")"
   ]
  },
  {
   "cell_type": "code",
   "execution_count": null,
   "metadata": {},
   "outputs": [],
   "source": [
    "from torchview import draw_graph"
   ]
  },
  {
   "cell_type": "code",
   "execution_count": null,
   "metadata": {},
   "outputs": [],
   "source": []
  }
 ],
 "metadata": {
  "kernelspec": {
   "display_name": "sparks",
   "language": "python",
   "name": "python3"
  },
  "language_info": {
   "codemirror_mode": {
    "name": "ipython",
    "version": 3
   },
   "file_extension": ".py",
   "mimetype": "text/x-python",
   "name": "python",
   "nbconvert_exporter": "python",
   "pygments_lexer": "ipython3",
   "version": "3.8.16"
  },
  "orig_nbformat": 4,
  "vscode": {
   "interpreter": {
    "hash": "d33eb8e81965b779f2871c6ab1ae98a760df4ff814358c9a5efa0a44482010f7"
   }
  }
 },
 "nbformat": 4,
 "nbformat_minor": 2
}
