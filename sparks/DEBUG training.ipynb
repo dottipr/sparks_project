{
 "cells": [
  {
   "cell_type": "code",
   "execution_count": 14,
   "metadata": {},
   "outputs": [
    {
     "name": "stdout",
     "output_type": "stream",
     "text": [
      "The autoreload extension is already loaded. To reload it, use:\n",
      "  %reload_ext autoreload\n"
     ]
    }
   ],
   "source": [
    "%load_ext autoreload\n",
    "%autoreload 2"
   ]
  },
  {
   "cell_type": "code",
   "execution_count": 15,
   "metadata": {},
   "outputs": [],
   "source": [
    "import configparser\n",
    "import logging\n",
    "import os\n",
    "import sys\n",
    "\n",
    "import numpy as np\n",
    "import torch\n",
    "import wandb\n",
    "from architectures import TempRedUNet\n",
    "from custom_losses import FocalLoss, LovaszSoftmax3d, SumFocalLovasz\n",
    "from datasets import SparkDataset\n",
    "from new_unet import UNet\n",
    "from torch import nn, optim\n",
    "from torch.utils.data import DataLoader\n",
    "from torch.utils.tensorboard import SummaryWriter\n",
    "from training_inference_tools import (\n",
    "    compute_class_weights,\n",
    "    random_flip,\n",
    "    random_flip_noise,\n",
    "    sampler,\n",
    "    test_function,\n",
    "    training_step,\n",
    "    weights_init,\n",
    "    myTrainingManager\n",
    ")\n",
    "\n",
    "import unet\n",
    "\n",
    "logger = logging.getLogger(__name__)"
   ]
  },
  {
   "cell_type": "code",
   "execution_count": 16,
   "metadata": {},
   "outputs": [],
   "source": [
    "############################# fixed parameters #############################\n",
    "\n",
    "# General params\n",
    "logfile = None  # change this when publishing finished project on github\n",
    "wandb_project_name = \"TEST\"\n",
    "output_relative_path = \"runs\"  # directory where output, saved params and\n",
    "# testing results are saved\n",
    "\n",
    "# Dataset parameters\n",
    "ignore_index = 4  # label ignored during training\n",
    "num_classes = 4  # i.e., BG, sparks, waves, puffs\n",
    "ndims = 3  # using 3D data"
   ]
  },
  {
   "cell_type": "code",
   "execution_count": 17,
   "metadata": {},
   "outputs": [],
   "source": [
    "############################# configure logger #############################\n",
    "\n",
    "# set verbosity\n",
    "debug_mode = True#c.getboolean(\"general\", \"debug_mode\", fallback=False)\n",
    "verbosity = 3 if debug_mode else 2\n",
    "\n",
    "level_map = {\n",
    "    3: logging.DEBUG,\n",
    "    2: logging.INFO,\n",
    "    1: logging.WARNING,\n",
    "    0: logging.ERROR,\n",
    "}\n",
    "log_level = level_map[verbosity]\n",
    "log_handlers = (logging.StreamHandler(sys.stdout),)\n",
    "\n",
    "logging.basicConfig(\n",
    "    level=log_level,\n",
    "    format=\"[{asctime}] [{levelname:^8s}] [{name:^12s}] <{lineno:^4d}> -- {message:s}\",\n",
    "    style=\"{\",\n",
    "    datefmt=\"%H:%M:%S\",\n",
    "    handlers=log_handlers,\n",
    ")"
   ]
  },
  {
   "cell_type": "code",
   "execution_count": 18,
   "metadata": {},
   "outputs": [
    {
     "name": "stdout",
     "output_type": "stream",
     "text": [
      "[14:39:10] [  INFO  ] [  __main__  ] < 7  > -- Loading config_files\\config_focal_loss_updated_physio.ini\n"
     ]
    }
   ],
   "source": [
    "############################# load config file #############################\n",
    "\n",
    "#CONFIG_FILE = os.path.join(\"config_files\", \"config.ini\") # provare anche con nuovo training per vedere se ci mette tanto\n",
    "CONFIG_FILE = os.path.join(\"config_files\", \"config_focal_loss_updated_physio.ini\")\n",
    "c = configparser.ConfigParser()\n",
    "if os.path.isfile(CONFIG_FILE):\n",
    "    logger.info(f\"Loading {CONFIG_FILE}\")\n",
    "    c.read(CONFIG_FILE)\n",
    "else:\n",
    "    logger.warning(\n",
    "        f\"No config file found at {CONFIG_FILE}, trying to use fallback values.\"\n",
    "    )"
   ]
  },
  {
   "cell_type": "code",
   "execution_count": 19,
   "metadata": {},
   "outputs": [],
   "source": [
    "############################## set parameters ##############################\n",
    "\n",
    "params = {}\n",
    "\n",
    "# training params\n",
    "params[\"run_name\"] = c.get(\"training\", \"run_name\", fallback=\"TEST\")  # Run name\n",
    "params[\"load_run_name\"] = c.get(\"training\", \"load_run_name\", fallback=None)\n",
    "params[\"load_epoch\"] = c.getint(\"training\", \"load_epoch\", fallback=0)\n",
    "params[\"train_epochs\"] = c.getint(\"training\", \"train_epochs\", fallback=5000)\n",
    "params[\"criterion\"] = c.get(\"training\", \"criterion\", fallback=\"nll_loss\")\n",
    "params[\"lr_start\"] = c.getfloat(\"training\", \"lr_start\", fallback=1e-4)\n",
    "params[\"ignore_frames_loss\"] = c.getint(\"training\", \"ignore_frames_loss\")\n",
    "if (params[\"criterion\"] == \"focal_loss\") or (params[\"criterion\"] == \"sum_losses\"):\n",
    "    params[\"gamma\"] = c.getfloat(\"training\", \"gamma\", fallback=2.0)\n",
    "if params[\"criterion\"] == \"sum_losses\":\n",
    "    params[\"w\"] = c.getfloat(\"training\", \"w\", fallback=0.5)\n",
    "params[\"cuda\"] = c.getboolean(\"training\", \"cuda\")\n",
    "\n",
    "# dataset params\n",
    "params[\"relative_path\"] = c.get(\"dataset\", \"relative_path\")\n",
    "params[\"dataset_size\"] = c.get(\"dataset\", \"dataset_size\", fallback=\"full\")\n",
    "params[\"batch_size\"] = c.getint(\"dataset\", \"batch_size\", fallback=1)\n",
    "params[\"num_workers\"] = 0#c.getint(\"dataset\", \"num_workers\", fallback=1)\n",
    "params[\"data_duration\"] = c.getint(\"dataset\", \"data_duration\")\n",
    "params[\"data_step\"] = c.getint(\"dataset\", \"data_step\")\n",
    "params[\"data_smoothing\"] = c.get(\"dataset\", \"data_smoothing\", fallback=\"2d\")\n",
    "params[\"norm_video\"] = c.get(\"dataset\", \"norm_video\", fallback=\"chunk\")\n",
    "params[\"remove_background\"] = c.get(\n",
    "    \"dataset\", \"remove_background\", fallback=\"average\"\n",
    ")\n",
    "params[\"only_sparks\"] = c.getboolean(\"dataset\", \"only_sparks\", fallback=False)\n",
    "params[\"noise_data_augmentation\"] = c.getboolean(\n",
    "    \"dataset\", \"noise_data_augmentation\", fallback=False\n",
    ")\n",
    "params[\"sparks_type\"] = c.get(\"dataset\", \"sparks_type\", fallback=\"peaks\")\n",
    "params[\"inference\"] = c.get(\"dataset\", \"inference\", fallback=\"overlap\")\n",
    "\n",
    "# UNet params\n",
    "params[\"nn_architecture\"] = c.get(\n",
    "    \"network\", \"nn_architecture\", fallback=\"pablos_unet\"\n",
    ")\n",
    "params[\"unet_steps\"] = c.getint(\"network\", \"unet_steps\")\n",
    "params[\"first_layer_channels\"] = c.getint(\"network\", \"first_layer_channels\")\n",
    "params[\"num_channels\"] = c.getint(\"network\", \"num_channels\", fallback=1)\n",
    "params[\"dilation\"] = c.getboolean(\"network\", \"dilation\", fallback=1)\n",
    "params[\"border_mode\"] = c.get(\"network\", \"border_mode\")\n",
    "params[\"batch_normalization\"] = c.get(\n",
    "    \"network\", \"batch_normalization\", fallback=\"none\"\n",
    ")\n",
    "params[\"temporal_reduction\"] = c.getboolean(\n",
    "    \"network\", \"temporal_reduction\", fallback=False\n",
    ")\n",
    "params[\"initialize_weights\"] = c.getboolean(\n",
    "    \"network\", \"initialize_weights\", fallback=False\n",
    ")\n",
    "if params[\"nn_architecture\"] == \"github_unet\":\n",
    "    params[\"attention\"] = c.getboolean(\"network\", \"attention\")\n",
    "    params[\"up_mode\"] = c.get(\"network\", \"up_mode\")"
   ]
  },
  {
   "cell_type": "code",
   "execution_count": 20,
   "metadata": {},
   "outputs": [
    {
     "data": {
      "text/html": [
       "Finishing last run (ID:TEST5) before initializing another..."
      ],
      "text/plain": [
       "<IPython.core.display.HTML object>"
      ]
     },
     "metadata": {},
     "output_type": "display_data"
    },
    {
     "data": {
      "text/html": [
       "Waiting for W&B process to finish... <strong style=\"color:green\">(success).</strong>"
      ],
      "text/plain": [
       "<IPython.core.display.HTML object>"
      ]
     },
     "metadata": {},
     "output_type": "display_data"
    },
    {
     "data": {
      "application/vnd.jupyter.widget-view+json": {
       "model_id": "fe41a605fd7f43d2a347b8be3a18c2d3",
       "version_major": 2,
       "version_minor": 0
      },
      "text/plain": [
       "VBox(children=(Label(value='0.001 MB of 0.001 MB uploaded (0.000 MB deduped)\\r'), FloatProgress(value=1.0, max…"
      ]
     },
     "metadata": {},
     "output_type": "display_data"
    },
    {
     "data": {
      "text/html": [
       "<style>\n",
       "    table.wandb td:nth-child(1) { padding: 0 10px; text-align: left ; width: auto;} td:nth-child(2) {text-align: left ; width: 100%}\n",
       "    .wandb-row { display: flex; flex-direction: row; flex-wrap: wrap; justify-content: flex-start; width: 100% }\n",
       "    .wandb-col { display: flex; flex-direction: column; flex-basis: 100%; flex: 1; padding: 10px; }\n",
       "    </style>\n",
       "<div class=\"wandb-row\"><div class=\"wandb-col\"><h3>Run history:</h3><br/><table class=\"wandb\"><tr><td>U-Net training loss</td><td>▁█</td></tr></table><br/></div><div class=\"wandb-col\"><h3>Run summary:</h3><br/><table class=\"wandb\"><tr><td>U-Net training loss</td><td>2.37781</td></tr></table><br/></div></div>"
      ],
      "text/plain": [
       "<IPython.core.display.HTML object>"
      ]
     },
     "metadata": {},
     "output_type": "display_data"
    },
    {
     "data": {
      "text/html": [
       " View run <strong style=\"color:#cdcd00\">TEST5</strong> at: <a href='https://wandb.ai/dottip/TEST/runs/TEST5' target=\"_blank\">https://wandb.ai/dottip/TEST/runs/TEST5</a><br/>Synced 5 W&B file(s), 0 media file(s), 0 artifact file(s) and 0 other file(s)"
      ],
      "text/plain": [
       "<IPython.core.display.HTML object>"
      ]
     },
     "metadata": {},
     "output_type": "display_data"
    },
    {
     "data": {
      "text/html": [
       "Find logs at: <code>.\\wandb\\run-20230327_143644-TEST5\\logs</code>"
      ],
      "text/plain": [
       "<IPython.core.display.HTML object>"
      ]
     },
     "metadata": {},
     "output_type": "display_data"
    },
    {
     "data": {
      "text/html": [
       "Successfully finished last run (ID:TEST5). Initializing new run:<br/>"
      ],
      "text/plain": [
       "<IPython.core.display.HTML object>"
      ]
     },
     "metadata": {},
     "output_type": "display_data"
    },
    {
     "name": "stdout",
     "output_type": "stream",
     "text": [
      "[14:39:14] [ DEBUG  ] [  git.cmd   ] <976 > -- Popen(['git', 'cat-file', '--batch-check'], cwd=c:\\Users\\dotti\\sparks_project, universal_newlines=False, shell=None, istream=<valid stream>)\n"
     ]
    },
    {
     "data": {
      "application/vnd.jupyter.widget-view+json": {
       "model_id": "710ff16c61c74b799f2b54a0aacc20f5",
       "version_major": 2,
       "version_minor": 0
      },
      "text/plain": [
       "VBox(children=(Label(value='Waiting for wandb.init()...\\r'), FloatProgress(value=0.01693333333338766, max=1.0)…"
      ]
     },
     "metadata": {},
     "output_type": "display_data"
    },
    {
     "data": {
      "text/html": [
       "Tracking run with wandb version 0.14.0"
      ],
      "text/plain": [
       "<IPython.core.display.HTML object>"
      ]
     },
     "metadata": {},
     "output_type": "display_data"
    },
    {
     "data": {
      "text/html": [
       "Run data is saved locally in <code>c:\\Users\\dotti\\sparks_project\\sparks\\wandb\\run-20230327_143910-focal_loss_updated_physio</code>"
      ],
      "text/plain": [
       "<IPython.core.display.HTML object>"
      ]
     },
     "metadata": {},
     "output_type": "display_data"
    },
    {
     "data": {
      "text/html": [
       "Resuming run <strong><a href='https://wandb.ai/dottip/TEST/runs/focal_loss_updated_physio' target=\"_blank\">focal_loss_updated_physio</a></strong> to <a href='https://wandb.ai/dottip/TEST' target=\"_blank\">Weights & Biases</a> (<a href='https://wandb.me/run' target=\"_blank\">docs</a>)<br/>"
      ],
      "text/plain": [
       "<IPython.core.display.HTML object>"
      ]
     },
     "metadata": {},
     "output_type": "display_data"
    },
    {
     "data": {
      "text/html": [
       " View project at <a href='https://wandb.ai/dottip/TEST' target=\"_blank\">https://wandb.ai/dottip/TEST</a>"
      ],
      "text/plain": [
       "<IPython.core.display.HTML object>"
      ]
     },
     "metadata": {},
     "output_type": "display_data"
    },
    {
     "data": {
      "text/html": [
       " View run at <a href='https://wandb.ai/dottip/TEST/runs/focal_loss_updated_physio' target=\"_blank\">https://wandb.ai/dottip/TEST/runs/focal_loss_updated_physio</a>"
      ],
      "text/plain": [
       "<IPython.core.display.HTML object>"
      ]
     },
     "metadata": {},
     "output_type": "display_data"
    }
   ],
   "source": [
    "############################# configure wandb ##############################\n",
    "\n",
    "wandb_log = c.getboolean(\"general\", \"wandb_enable\", fallback=False)\n",
    "if wandb_log:\n",
    "    resume = \"must\" if params[\"load_epoch\"] > 0 else None\n",
    "\n",
    "    wandb.init(\n",
    "        project=wandb_project_name,\n",
    "        #name=params[\"run_name\"],\n",
    "        notes=c.get(\"general\", \"wandb_notes\", fallback=None),\n",
    "        id=params[\"run_name\"],\n",
    "        resume=resume\n",
    "    )\n",
    "    logging.getLogger(\"wandb\").setLevel(logging.DEBUG)\n",
    "    # wandb.save(CONFIG_FILE)"
   ]
  },
  {
   "cell_type": "code",
   "execution_count": 21,
   "metadata": {},
   "outputs": [
    {
     "name": "stdout",
     "output_type": "stream",
     "text": [
      "[14:39:16] [  INFO  ] [  __main__  ] < 3  > -- Command parameters:\n",
      "[14:39:16] [  INFO  ] [  __main__  ] < 5  > --           run_name: focal_loss_updated_physio\n",
      "[14:39:16] [  INFO  ] [  __main__  ] < 5  > --      load_run_name: None\n",
      "[14:39:16] [  INFO  ] [  __main__  ] < 5  > --         load_epoch: 100000\n",
      "[14:39:16] [  INFO  ] [  __main__  ] < 5  > --       train_epochs: 100000\n",
      "[14:39:16] [  INFO  ] [  __main__  ] < 5  > --          criterion: focal_loss\n",
      "[14:39:16] [  INFO  ] [  __main__  ] < 5  > --           lr_start: 0.0001\n",
      "[14:39:16] [  INFO  ] [  __main__  ] < 5  > -- ignore_frames_loss: 6\n",
      "[14:39:16] [  INFO  ] [  __main__  ] < 5  > --              gamma: 5.0\n",
      "[14:39:16] [  INFO  ] [  __main__  ] < 5  > --               cuda: True\n",
      "[14:39:16] [  INFO  ] [  __main__  ] < 5  > --      relative_path: ../data/sparks_dataset\n",
      "[14:39:16] [  INFO  ] [  __main__  ] < 5  > --       dataset_size: full\n",
      "[14:39:16] [  INFO  ] [  __main__  ] < 5  > --         batch_size: 2\n",
      "[14:39:16] [  INFO  ] [  __main__  ] < 5  > --        num_workers: 0\n",
      "[14:39:16] [  INFO  ] [  __main__  ] < 5  > --      data_duration: 256\n",
      "[14:39:16] [  INFO  ] [  __main__  ] < 5  > --          data_step: 32\n",
      "[14:39:16] [  INFO  ] [  __main__  ] < 5  > --     data_smoothing: no\n",
      "[14:39:16] [  INFO  ] [  __main__  ] < 5  > --         norm_video: abs_max\n",
      "[14:39:16] [  INFO  ] [  __main__  ] < 5  > --  remove_background: no\n",
      "[14:39:16] [  INFO  ] [  __main__  ] < 5  > --        only_sparks: False\n",
      "[14:39:16] [  INFO  ] [  __main__  ] < 5  > -- noise_data_augmentation: False\n",
      "[14:39:16] [  INFO  ] [  __main__  ] < 5  > --        sparks_type: raw\n",
      "[14:39:16] [  INFO  ] [  __main__  ] < 5  > --          inference: overlap\n",
      "[14:39:16] [  INFO  ] [  __main__  ] < 5  > --    nn_architecture: pablos_unet\n",
      "[14:39:16] [  INFO  ] [  __main__  ] < 5  > --         unet_steps: 6\n",
      "[14:39:16] [  INFO  ] [  __main__  ] < 5  > -- first_layer_channels: 8\n",
      "[14:39:16] [  INFO  ] [  __main__  ] < 5  > --       num_channels: 1\n",
      "[14:39:16] [  INFO  ] [  __main__  ] < 5  > --           dilation: 1\n",
      "[14:39:16] [  INFO  ] [  __main__  ] < 5  > --        border_mode: same\n",
      "[14:39:16] [  INFO  ] [  __main__  ] < 5  > -- batch_normalization: none\n",
      "[14:39:16] [  INFO  ] [  __main__  ] < 5  > -- temporal_reduction: False\n",
      "[14:39:16] [  INFO  ] [  __main__  ] < 5  > -- initialize_weights: False\n"
     ]
    }
   ],
   "source": [
    "############################# print parameters #############################\n",
    "\n",
    "logger.info(\"Command parameters:\")\n",
    "for k, v in params.items():\n",
    "    logger.info(f\"{k:>18s}: {v}\")\n",
    "    # load parameters to wandb\n",
    "    if wandb_log:\n",
    "        wandb.config[k] = v\n",
    "    # TODO: AGGIUNGERE TUTTI I PARAMS NECESSARI DA PRINTARE"
   ]
  },
  {
   "cell_type": "code",
   "execution_count": 22,
   "metadata": {},
   "outputs": [
    {
     "name": "stdout",
     "output_type": "stream",
     "text": [
      "[14:39:16] [  INFO  ] [  __main__  ] < 26 > -- Using torch device cuda, with 1 GPUs\n",
      "[14:39:16] [  INFO  ] [  __main__  ] < 38 > -- Normalizing whole video using 16-bit absolute max\n",
      "[14:39:16] [  INFO  ] [  __main__  ] < 43 > -- Using C:\\Users\\dotti\\sparks_project\\data\\sparks_dataset as dataset root path\n",
      "[14:39:17] [WARNING ] [tifffile.tifffile] <16549> -- TiffPage 0: TypeError: read_bytes() missing 3 required positional arguments: 'dtype', 'count', and 'offsetsize'\n",
      "[14:39:17] [WARNING ] [tifffile.tifffile] <16549> -- TiffPage 0: TypeError: read_bytes() missing 3 required positional arguments: 'dtype', 'count', and 'offsetsize'\n",
      "[14:39:18] [WARNING ] [tifffile.tifffile] <16549> -- TiffPage 0: TypeError: read_bytes() missing 3 required positional arguments: 'dtype', 'count', and 'offsetsize'\n",
      "[14:39:18] [WARNING ] [tifffile.tifffile] <16549> -- TiffPage 0: TypeError: read_bytes() missing 3 required positional arguments: 'dtype', 'count', and 'offsetsize'\n",
      "[14:39:18] [WARNING ] [tifffile.tifffile] <16549> -- TiffPage 0: TypeError: read_bytes() missing 3 required positional arguments: 'dtype', 'count', and 'offsetsize'\n",
      "[14:39:18] [WARNING ] [tifffile.tifffile] <16549> -- TiffPage 0: TypeError: read_bytes() missing 3 required positional arguments: 'dtype', 'count', and 'offsetsize'\n",
      "[14:39:24] [ DEBUG  ] [  datasets  ] <296 > -- Added padding of 12 frames to video with unsuitable duration\n",
      "[14:39:24] [ DEBUG  ] [  datasets  ] <296 > -- Added padding of 12 frames to video with unsuitable duration\n",
      "[14:39:24] [ DEBUG  ] [  datasets  ] <296 > -- Added padding of 12 frames to video with unsuitable duration\n",
      "[14:39:24] [ DEBUG  ] [  datasets  ] <296 > -- Added padding of 12 frames to video with unsuitable duration\n",
      "[14:39:24] [ DEBUG  ] [  datasets  ] <296 > -- Added padding of 12 frames to video with unsuitable duration\n",
      "[14:39:24] [ DEBUG  ] [  datasets  ] <296 > -- Added padding of 12 frames to video with unsuitable duration\n",
      "[14:39:24] [ DEBUG  ] [  datasets  ] <296 > -- Added padding of 12 frames to video with unsuitable duration\n",
      "[14:39:24] [ DEBUG  ] [  datasets  ] <296 > -- Added padding of 12 frames to video with unsuitable duration\n",
      "[14:39:24] [ DEBUG  ] [  datasets  ] <296 > -- Added padding of 12 frames to video with unsuitable duration\n",
      "[14:39:24] [ DEBUG  ] [  datasets  ] <296 > -- Added padding of 12 frames to video with unsuitable duration\n",
      "[14:39:24] [ DEBUG  ] [  datasets  ] <296 > -- Added padding of 12 frames to video with unsuitable duration\n",
      "[14:39:24] [ DEBUG  ] [  datasets  ] <296 > -- Added padding of 12 frames to video with unsuitable duration\n",
      "[14:39:24] [ DEBUG  ] [  datasets  ] <296 > -- Added padding of 12 frames to video with unsuitable duration\n",
      "[14:39:24] [ DEBUG  ] [  datasets  ] <296 > -- Added padding of 20 frames to video with unsuitable duration\n",
      "[14:39:24] [ DEBUG  ] [  datasets  ] <296 > -- Added padding of 24 frames to video with unsuitable duration\n",
      "[14:39:24] [ DEBUG  ] [  datasets  ] <296 > -- Added padding of 8 frames to video with unsuitable duration\n",
      "[14:39:24] [ DEBUG  ] [  datasets  ] <296 > -- Added padding of 4 frames to video with unsuitable duration\n",
      "[14:39:24] [ DEBUG  ] [  datasets  ] <296 > -- Added padding of 12 frames to video with unsuitable duration\n",
      "[14:39:24] [ DEBUG  ] [  datasets  ] <296 > -- Added padding of 24 frames to video with unsuitable duration\n",
      "[14:39:24] [ DEBUG  ] [  datasets  ] <296 > -- Added padding of 24 frames to video with unsuitable duration\n",
      "[14:39:24] [ DEBUG  ] [  datasets  ] <296 > -- Added padding of 24 frames to video with unsuitable duration\n",
      "[14:39:24] [ DEBUG  ] [  datasets  ] <296 > -- Added padding of 24 frames to video with unsuitable duration\n",
      "[14:39:24] [ DEBUG  ] [  datasets  ] <296 > -- Added padding of 24 frames to video with unsuitable duration\n",
      "[14:39:24] [ DEBUG  ] [  datasets  ] <296 > -- Added padding of 24 frames to video with unsuitable duration\n",
      "[14:39:24] [ DEBUG  ] [  datasets  ] <296 > -- Added padding of 16 frames to video with unsuitable duration\n",
      "[14:39:24] [ DEBUG  ] [  datasets  ] <296 > -- Added padding of 5 frames to video with unsuitable duration\n",
      "[14:39:24] [ DEBUG  ] [  datasets  ] <296 > -- Added padding of 24 frames to video with unsuitable duration\n",
      "[14:39:24] [ DEBUG  ] [  datasets  ] <296 > -- Added padding of 24 frames to video with unsuitable duration\n",
      "[14:39:24] [ DEBUG  ] [  datasets  ] <296 > -- Added padding of 24 frames to video with unsuitable duration\n",
      "[14:39:24] [ DEBUG  ] [  datasets  ] <296 > -- Added padding of 24 frames to video with unsuitable duration\n",
      "[14:39:24] [ DEBUG  ] [  datasets  ] <296 > -- Added padding of 24 frames to video with unsuitable duration\n",
      "[14:39:24] [ DEBUG  ] [  datasets  ] <296 > -- Added padding of 24 frames to video with unsuitable duration\n",
      "[14:39:24] [ DEBUG  ] [  datasets  ] <296 > -- Added padding of 24 frames to video with unsuitable duration\n",
      "[14:39:24] [ DEBUG  ] [  datasets  ] <296 > -- Added padding of 24 frames to video with unsuitable duration\n",
      "[14:39:26] [  INFO  ] [  __main__  ] < 67 > -- Samples in training dataset: 672\n",
      "[14:39:26] [ DEBUG  ] [  datasets  ] <192 > -- Computing spark peaks...\n",
      "[14:39:33] [ DEBUG  ] [  datasets  ] <199 > -- Sample 05 contains 71 sparks.\n",
      "[14:39:33] [ DEBUG  ] [  datasets  ] <296 > -- Added padding of 12 frames to video with unsuitable duration\n",
      "[14:39:33] [ DEBUG  ] [  datasets  ] <192 > -- Computing spark peaks...\n",
      "[14:39:36] [ DEBUG  ] [  datasets  ] <199 > -- Sample 10 contains 22 sparks.\n",
      "[14:39:36] [ DEBUG  ] [  datasets  ] <296 > -- Added padding of 12 frames to video with unsuitable duration\n",
      "[14:39:36] [ DEBUG  ] [  datasets  ] <192 > -- Computing spark peaks...\n",
      "[14:39:40] [ DEBUG  ] [  datasets  ] <199 > -- Sample 15 contains 42 sparks.\n",
      "[14:39:40] [ DEBUG  ] [  datasets  ] <296 > -- Added padding of 12 frames to video with unsuitable duration\n",
      "[14:39:40] [ DEBUG  ] [  datasets  ] <192 > -- Computing spark peaks...\n",
      "[14:39:44] [ DEBUG  ] [urllib3.connectionpool] <456 > -- https://o151352.ingest.sentry.io:443 \"POST /api/5288891/envelope/ HTTP/1.1\" 200 2\n",
      "[14:39:48] [ DEBUG  ] [  datasets  ] <199 > -- Sample 20 contains 70 sparks.\n",
      "[14:39:48] [ DEBUG  ] [  datasets  ] <296 > -- Added padding of 12 frames to video with unsuitable duration\n",
      "[14:39:48] [ DEBUG  ] [  datasets  ] <192 > -- Computing spark peaks...\n",
      "[14:39:55] [ DEBUG  ] [  datasets  ] <199 > -- Sample 25 contains 31 sparks.\n",
      "[14:39:55] [ DEBUG  ] [  datasets  ] <296 > -- Added padding of 24 frames to video with unsuitable duration\n",
      "[14:39:55] [ DEBUG  ] [  datasets  ] <192 > -- Computing spark peaks...\n",
      "[14:39:57] [ DEBUG  ] [  datasets  ] <199 > -- Sample 32 contains 7 sparks.\n",
      "[14:39:57] [ DEBUG  ] [  datasets  ] <296 > -- Added padding of 24 frames to video with unsuitable duration\n",
      "[14:39:57] [WARNING ] [tifffile.tifffile] <16549> -- TiffPage 0: TypeError: read_bytes() missing 3 required positional arguments: 'dtype', 'count', and 'offsetsize'\n",
      "[14:39:57] [WARNING ] [tifffile.tifffile] <16549> -- TiffPage 0: TypeError: read_bytes() missing 3 required positional arguments: 'dtype', 'count', and 'offsetsize'\n",
      "[14:39:58] [ DEBUG  ] [  datasets  ] <192 > -- Computing spark peaks...\n",
      "[14:40:01] [ DEBUG  ] [  datasets  ] <199 > -- Sample 34 contains 16 sparks.\n",
      "[14:40:01] [ DEBUG  ] [  datasets  ] <296 > -- Added padding of 24 frames to video with unsuitable duration\n",
      "[14:40:02] [ DEBUG  ] [  datasets  ] <192 > -- Computing spark peaks...\n",
      "[14:40:04] [ DEBUG  ] [  datasets  ] <199 > -- Sample 40 contains 6 sparks.\n",
      "[14:40:04] [ DEBUG  ] [  datasets  ] <296 > -- Added padding of 24 frames to video with unsuitable duration\n",
      "[14:40:04] [ DEBUG  ] [  datasets  ] <192 > -- Computing spark peaks...\n",
      "[14:40:05] [ DEBUG  ] [  datasets  ] <199 > -- Sample 45 contains 0 sparks.\n",
      "[14:40:05] [ DEBUG  ] [  datasets  ] <296 > -- Added padding of 24 frames to video with unsuitable duration\n",
      "[14:40:05] [  INFO  ] [  __main__  ] < 96 > -- Testing dataset 0 contains 9 samples\n",
      "[14:40:05] [  INFO  ] [  __main__  ] < 96 > -- Testing dataset 1 contains 9 samples\n",
      "[14:40:05] [  INFO  ] [  __main__  ] < 96 > -- Testing dataset 2 contains 9 samples\n",
      "[14:40:05] [  INFO  ] [  __main__  ] < 96 > -- Testing dataset 3 contains 9 samples\n",
      "[14:40:05] [  INFO  ] [  __main__  ] < 96 > -- Testing dataset 4 contains 25 samples\n",
      "[14:40:05] [  INFO  ] [  __main__  ] < 96 > -- Testing dataset 5 contains 25 samples\n",
      "[14:40:05] [  INFO  ] [  __main__  ] < 96 > -- Testing dataset 6 contains 22 samples\n",
      "[14:40:05] [  INFO  ] [  __main__  ] < 96 > -- Testing dataset 7 contains 25 samples\n",
      "[14:40:05] [  INFO  ] [  __main__  ] < 96 > -- Testing dataset 8 contains 25 samples\n"
     ]
    }
   ],
   "source": [
    "############################ configure datasets ############################\n",
    "\n",
    "# select samples that are used for training and testing\n",
    "if params[\"dataset_size\"] == \"full\":\n",
    "    train_sample_ids = [\"01\",\"02\",\"03\",\"04\",\"06\",\"07\",\"08\",\"09\",\n",
    "                        \"11\",\"12\",\"13\",\"14\",\"16\",\"17\",\"18\",\"19\",\n",
    "                        \"21\",\"22\",\"23\",\"24\",\"27\",\"28\",\"29\",\"30\",\n",
    "                        \"33\",\"35\",\"36\",\"38\",\"39\",\"41\",\"42\",\"43\",\n",
    "                        \"44\",\"46\"]\n",
    "    test_sample_ids = [\"05\", \"10\", \"15\", \"20\", \"25\", \"32\", \"34\", \"40\", \"45\"]\n",
    "elif params[\"dataset_size\"] == \"minimal\":\n",
    "    train_sample_ids = [\"01\"]\n",
    "    test_sample_ids = [\"34\"]\n",
    "else:\n",
    "    logger.error(f\"{params['dataset_size']} is not a valid dataset size.\")\n",
    "    exit()\n",
    "\n",
    "# detect CUDA devices\n",
    "if params[\"cuda\"]:\n",
    "    device = torch.device(\"cuda\" if torch.cuda.is_available() else \"cpu\")\n",
    "    pin_memory = True\n",
    "else:\n",
    "    device = \"cpu\"\n",
    "    pin_memory = False\n",
    "n_gpus = torch.cuda.device_count()\n",
    "logger.info(f\"Using torch device {device}, with {n_gpus} GPUs\")\n",
    "\n",
    "# set if temporal reduction is used\n",
    "if params[\"temporal_reduction\"]:\n",
    "    logger.info(f\"Using temporal reduction with {params['num_channels']} channels\")\n",
    "\n",
    "# normalize whole videos or chunks individually\n",
    "if params[\"norm_video\"] == \"chunk\":\n",
    "    logger.info(\"Normalizing each chunk using min and max\")\n",
    "elif params[\"norm_video\"] == \"movie\":\n",
    "    logger.info(\"Normalizing whole video using min and max\")\n",
    "elif params[\"norm_video\"] == \"abs_max\":\n",
    "    logger.info(\"Normalizing whole video using 16-bit absolute max\")\n",
    "\n",
    "# initialize training dataset\n",
    "dataset_path = os.path.realpath(f\"{params['relative_path']}\")\n",
    "assert os.path.isdir(dataset_path), f'\"{dataset_path}\" is not a directory'\n",
    "logger.info(f\"Using {dataset_path} as dataset root path\")\n",
    "dataset = SparkDataset(\n",
    "    base_path=dataset_path,\n",
    "    sample_ids=train_sample_ids,\n",
    "    testing=False,\n",
    "    smoothing=params[\"data_smoothing\"],\n",
    "    step=params[\"data_step\"],\n",
    "    duration=params[\"data_duration\"],\n",
    "    remove_background=params[\"remove_background\"],\n",
    "    temporal_reduction=params[\"temporal_reduction\"],\n",
    "    num_channels=params[\"num_channels\"],\n",
    "    normalize_video=params[\"norm_video\"],\n",
    "    only_sparks=params[\"only_sparks\"],\n",
    "    sparks_type=params[\"sparks_type\"],\n",
    "    ignore_index=ignore_index,\n",
    "    inference=None,\n",
    ")\n",
    "\n",
    "# transforms are applied when getting a sample from the dataset\n",
    "if params[\"noise_data_augmentation\"]:\n",
    "    dataset = unet.TransformedDataset(dataset, random_flip_noise)\n",
    "else:\n",
    "    dataset = unet.TransformedDataset(dataset, random_flip)\n",
    "\n",
    "logger.info(f\"Samples in training dataset: {len(dataset)}\")\n",
    "\n",
    "# initialize testing dataset\n",
    "pattern_test_filenames = os.path.join(\n",
    "    f\"{dataset_path}\", \"videos_test\", \"[0-9][0-9]_video.tif\"\n",
    ")\n",
    "\n",
    "testing_datasets = [\n",
    "    SparkDataset(\n",
    "        base_path=dataset_path,\n",
    "        sample_ids=[sample_id],\n",
    "        testing=True,\n",
    "        smoothing=params[\"data_smoothing\"],\n",
    "        step=params[\"data_step\"],\n",
    "        duration=params[\"data_duration\"],\n",
    "        remove_background=params[\"remove_background\"],\n",
    "        temporal_reduction=params[\"temporal_reduction\"],\n",
    "        num_channels=params[\"num_channels\"],\n",
    "        normalize_video=params[\"norm_video\"],\n",
    "        only_sparks=params[\"only_sparks\"],\n",
    "        sparks_type=params[\"sparks_type\"],\n",
    "        ignore_frames=params[\"ignore_frames_loss\"],\n",
    "        ignore_index=ignore_index,\n",
    "        inference=params[\"inference\"],\n",
    "    )\n",
    "    for sample_id in test_sample_ids\n",
    "]\n",
    "\n",
    "for i, tds in enumerate(testing_datasets):\n",
    "    logger.info(f\"Testing dataset {i} contains {len(tds)} samples\")\n",
    "\n",
    "# initialize data loaders\n",
    "dataset_loader = DataLoader(\n",
    "    dataset,\n",
    "    batch_size=params[\"batch_size\"],\n",
    "    shuffle=True,\n",
    "    num_workers=params[\"num_workers\"],\n",
    "    pin_memory=pin_memory,\n",
    ")"
   ]
  },
  {
   "cell_type": "code",
   "execution_count": 23,
   "metadata": {},
   "outputs": [],
   "source": [
    "############################## configure UNet ##############################\n",
    "\n",
    "if params[\"nn_architecture\"] == \"pablos_unet\":\n",
    "\n",
    "    batch_norm = {\"batch\": True, \"none\": False}\n",
    "\n",
    "    unet_config = unet.UNetConfig(\n",
    "        steps=params[\"unet_steps\"],\n",
    "        first_layer_channels=params[\"first_layer_channels\"],\n",
    "        num_classes=num_classes,\n",
    "        ndims=ndims,\n",
    "        dilation=params[\"dilation\"],\n",
    "        border_mode=params[\"border_mode\"],\n",
    "        batch_normalization=batch_norm[params[\"batch_normalization\"]],\n",
    "        num_input_channels=params[\"num_channels\"],\n",
    "    )\n",
    "\n",
    "    if not params[\"temporal_reduction\"]:\n",
    "        network = unet.UNetClassifier(unet_config)\n",
    "    else:\n",
    "        assert (\n",
    "            params[\"data_duration\"] % params[\"num_channels\"] == 0\n",
    "        ), \"using temporal reduction chunks_duration must be a multiple of num_channels\"\n",
    "        network = TempRedUNet(unet_config)\n",
    "\n",
    "elif params[\"nn_architecture\"] == \"github_unet\":\n",
    "    network = UNet(\n",
    "        in_channels=params[\"num_channels\"],\n",
    "        out_channels=num_classes,\n",
    "        n_blocks=params[\"unet_steps\"] + 1,\n",
    "        start_filts=params[\"first_layer_channels\"],\n",
    "        # up_mode = 'transpose', # TESTARE DIVERSE POSSIBILTÀ\n",
    "        # up_mode='resizeconv_nearest',  # Enable to avoid checkerboard artifacts\n",
    "        merge_mode=\"concat\",  # Default, dicono che funziona meglio\n",
    "        # planar_blocks=(0,), # magari capire cos'è e testarlo ??\n",
    "        activation=\"relu\",\n",
    "        normalization=params[\n",
    "            \"batch_normalization\"\n",
    "        ],  # Penso che nell'implementazione di Pablo è 'none'\n",
    "        attention=params[\"attention\"],  # magari da testare con 'True' ??\n",
    "        # full_norm=False,  # Uncomment to restore old sparse normalization scheme\n",
    "        dim=ndims,\n",
    "        conv_mode=params[\"border_mode\"],  # 'valid' ha dei vantaggi a quanto pare...\n",
    "    )\n",
    "\n",
    "if device != \"cpu\":\n",
    "    network = nn.DataParallel(network).to(device)\n",
    "    torch.backends.cudnn.benchmark = True\n",
    "\n",
    "if wandb_log:\n",
    "    wandb.watch(network)\n",
    "\n",
    "if params[\"initialize_weights\"]:\n",
    "    logger.info(\"Initializing UNet weights...\")\n",
    "    network.apply(weights_init)"
   ]
  },
  {
   "cell_type": "code",
   "execution_count": 24,
   "metadata": {},
   "outputs": [
    {
     "name": "stdout",
     "output_type": "stream",
     "text": [
      "[14:40:05] [  INFO  ] [  __main__  ] < 7  > -- Output directory: runs\\focal_loss_updated_physio\n",
      "[14:40:28] [  INFO  ] [  __main__  ] < 20 > -- Using class weights: 0.2560105323791504, 163.60488891601562, 15.518952369689941, 42.805931091308594\n"
     ]
    }
   ],
   "source": [
    "########################### initialize training ############################\n",
    "\n",
    "optimizer = optim.Adam(network.parameters(), lr=params[\"lr_start\"])\n",
    "network.train()\n",
    "\n",
    "output_path = os.path.join(output_relative_path, params[\"run_name\"])\n",
    "logger.info(f\"Output directory: {output_path}\")\n",
    "\n",
    "summary_writer = SummaryWriter(os.path.join(output_path, \"summary\"), purge_step=0)\n",
    "\n",
    "if params[\"load_run_name\"] != None:\n",
    "    load_path = os.path.join(output_relative_path, params[\"load_run_name\"])\n",
    "    logger.info(f\"Model loaded from directory: {load_path}\")\n",
    "else:\n",
    "    load_path = None\n",
    "\n",
    "# class weights\n",
    "if params[\"criterion\"] in [\"nll_loss\", \"focal_loss\", \"sum_losses\"]:\n",
    "    class_weights = compute_class_weights(dataset)\n",
    "    logger.info(\n",
    "        \"Using class weights: {}\".format(\n",
    "            \", \".join(str(w.item()) for w in class_weights)\n",
    "        )\n",
    "    )\n",
    "\n",
    "if params[\"criterion\"] == \"nll_loss\":\n",
    "    criterion = nn.NLLLoss(\n",
    "        ignore_index=ignore_index, weight=class_weights.to(device)\n",
    "    )\n",
    "elif params[\"criterion\"] == \"focal_loss\":\n",
    "    criterion = FocalLoss(\n",
    "        reduction=\"mean\",\n",
    "        ignore_index=ignore_index,\n",
    "        alpha=class_weights,\n",
    "        gamma=params[\"gamma\"],\n",
    "    )\n",
    "elif params[\"criterion\"] == \"lovasz_softmax\":\n",
    "    criterion = LovaszSoftmax3d(\n",
    "        classes=\"present\", per_image=False, ignore=ignore_index\n",
    "    )\n",
    "elif params[\"criterion\"] == \"sum_losses\":\n",
    "    criterion = SumFocalLovasz(\n",
    "        classes=\"present\",\n",
    "        per_image=False,\n",
    "        ignore=ignore_index,\n",
    "        alpha=class_weights,\n",
    "        gamma=params[\"gamma\"],\n",
    "        reduction=\"mean\",\n",
    "        w=params[\"w\"],\n",
    "    )\n",
    "\n",
    "# directory where predicted class movies are saved\n",
    "preds_output_dir = os.path.join(output_path, \"predictions\")\n",
    "os.makedirs(preds_output_dir, exist_ok=True)\n",
    "\n",
    "trainer = myTrainingManager(\n",
    "    # training items\n",
    "    training_step=lambda _: training_step(\n",
    "        sampler=sampler,\n",
    "        network=network,\n",
    "        optimizer=optimizer,\n",
    "        device=device,\n",
    "        criterion=criterion,\n",
    "        dataset_loader=dataset_loader,\n",
    "        ignore_frames=params[\"ignore_frames_loss\"],\n",
    "    ),\n",
    "    save_every=c.getint(\"training\", \"save_every\", fallback=5000),\n",
    "    # load_path=load_path,\n",
    "    save_path=output_path,\n",
    "    managed_objects=unet.managed_objects(\n",
    "        {\"network\": network, \"optimizer\": optimizer}\n",
    "    ),\n",
    "    # testing items\n",
    "    test_function=lambda _: test_function(\n",
    "        network=network,\n",
    "        device=device,\n",
    "        criterion=criterion,\n",
    "        testing_datasets=testing_datasets,\n",
    "        ignore_frames=params[\"ignore_frames_loss\"],\n",
    "        training_name=params[\"run_name\"],\n",
    "        output_dir=preds_output_dir,\n",
    "        training_mode=True,\n",
    "        debug=debug_mode,\n",
    "    ),\n",
    "    test_every=c.getint(\"training\", \"test_every\", fallback=1000),\n",
    "    plot_every=c.getint(\"training\", \"test_every\", fallback=1000),\n",
    "    summary_writer=summary_writer,\n",
    ")"
   ]
  },
  {
   "cell_type": "code",
   "execution_count": 25,
   "metadata": {},
   "outputs": [],
   "source": [
    "############################ init random seeds #############################\n",
    "import random\n",
    "\n",
    "torch.manual_seed(0)\n",
    "random.seed(0)\n",
    "np.random.seed(0)"
   ]
  },
  {
   "cell_type": "code",
   "execution_count": 26,
   "metadata": {},
   "outputs": [
    {
     "name": "stdout",
     "output_type": "stream",
     "text": [
      "[14:40:29] [  INFO  ] [unet.trainer] <131 > -- Loading 'runs\\focal_loss_updated_physio\\network_100000.pth'...\n",
      "[14:40:29] [  INFO  ] [unet.trainer] <131 > -- Loading 'runs\\focal_loss_updated_physio\\optimizer_100000.pth'...\n",
      "[14:40:29] [  INFO  ] [  __main__  ] < 7  > -- Validate network before training\n",
      "[14:40:29] [  INFO  ] [training_inference_tools] < 45 > -- Validating network at iteration 100000...\n",
      "[14:40:29] [ DEBUG  ] [training_inference_tools] <526 > -- Testing function: running sample 05 in UNet\n",
      "[14:40:33] [ DEBUG  ] [in_out_tools] <278 > -- Writing videos on directory c:\\Users\\dotti\\sparks_project\\sparks\\runs\\focal_loss_updated_physio\\predictions ..\n",
      "[14:40:34] [ DEBUG  ] [training_inference_tools] <556 > -- Time to run sample 05 in UNet: 4.66 s\n",
      "[14:40:34] [ DEBUG  ] [training_inference_tools] <563 > -- Testing function: re-organising annotations\n",
      "[14:40:36] [ DEBUG  ] [training_inference_tools] <592 > -- Time to re-organise annotations: 2.64 s\n",
      "[14:40:36] [ DEBUG  ] [training_inference_tools] <598 > -- Testing function: getting processed output (segmentation and instances)\n",
      "[14:40:36] [ DEBUG  ] [data_processing_tools] <448 > -- Events detection threshold: 0.352\n",
      "[14:40:41] [ DEBUG  ] [data_processing_tools] <514 > -- Number of sparks detected by nonmaxima suppression: 196\n",
      "[14:41:01] [ DEBUG  ] [data_processing_tools] <875 > -- Time for removing small events: 15.54 s\n",
      "[14:41:01] [ DEBUG  ] [training_inference_tools] <648 > -- Time to process predictions: 27.29 s\n",
      "[14:41:01] [ DEBUG  ] [training_inference_tools] <665 > -- Testing function: computing pairwise scores between 97 annotated events and 241 predicted events\n",
      "[14:41:15] [ DEBUG  ] [training_inference_tools] <675 > -- Time to compute pairwise scores: 13.77 s\n",
      "[14:41:15] [ DEBUG  ] [training_inference_tools] <682 > -- Testing function: getting confusion matrix\n",
      "[14:41:23] [ DEBUG  ] [training_inference_tools] <710 > -- Confusion matrix for video 05:\n",
      "[[  0. 134.   0.  48.]\n",
      " [ 26.  38.   0.   3.]\n",
      " [  0.   0.   0.   0.]\n",
      " [  7.  11.   0.   4.]]\n",
      "[14:41:23] [ DEBUG  ] [training_inference_tools] <714 > -- Time to compute confusion matrix: 8.50 s\n",
      "[14:41:23] [ DEBUG  ] [training_inference_tools] <526 > -- Testing function: running sample 10 in UNet\n",
      "[14:41:26] [ DEBUG  ] [in_out_tools] <278 > -- Writing videos on directory c:\\Users\\dotti\\sparks_project\\sparks\\runs\\focal_loss_updated_physio\\predictions ..\n",
      "[14:41:26] [ DEBUG  ] [training_inference_tools] <556 > -- Time to run sample 10 in UNet: 2.73 s\n",
      "[14:41:26] [ DEBUG  ] [training_inference_tools] <563 > -- Testing function: re-organising annotations\n",
      "[14:41:28] [ DEBUG  ] [training_inference_tools] <592 > -- Time to re-organise annotations: 1.65 s\n",
      "[14:41:28] [ DEBUG  ] [training_inference_tools] <598 > -- Testing function: getting processed output (segmentation and instances)\n",
      "[14:41:28] [ DEBUG  ] [data_processing_tools] <448 > -- Events detection threshold: 0.347\n",
      "[14:41:32] [ DEBUG  ] [data_processing_tools] <514 > -- Number of sparks detected by nonmaxima suppression: 23\n",
      "[14:41:42] [ DEBUG  ] [data_processing_tools] <875 > -- Time for removing small events: 8.85 s\n",
      "[14:41:42] [ DEBUG  ] [training_inference_tools] <648 > -- Time to process predictions: 16.57 s\n",
      "[14:41:42] [ DEBUG  ] [training_inference_tools] <665 > -- Testing function: computing pairwise scores between 29 annotated events and 47 predicted events\n",
      "[14:41:47] [ DEBUG  ] [training_inference_tools] <675 > -- Time to compute pairwise scores: 4.20 s\n",
      "[14:41:47] [ DEBUG  ] [training_inference_tools] <682 > -- Testing function: getting confusion matrix\n",
      "[14:41:50] [ DEBUG  ] [training_inference_tools] <710 > -- Confusion matrix for video 10:\n",
      "[[ 0.  7.  1. 19.]\n",
      " [10.  8.  0.  4.]\n",
      " [ 0.  0.  0.  0.]\n",
      " [ 0.  4.  0.  3.]]\n",
      "[14:41:50] [ DEBUG  ] [training_inference_tools] <714 > -- Time to compute confusion matrix: 3.72 s\n",
      "[14:41:50] [ DEBUG  ] [training_inference_tools] <526 > -- Testing function: running sample 15 in UNet\n",
      "[14:41:53] [ DEBUG  ] [in_out_tools] <278 > -- Writing videos on directory c:\\Users\\dotti\\sparks_project\\sparks\\runs\\focal_loss_updated_physio\\predictions ..\n",
      "[14:41:53] [ DEBUG  ] [training_inference_tools] <556 > -- Time to run sample 15 in UNet: 2.71 s\n",
      "[14:41:53] [ DEBUG  ] [training_inference_tools] <563 > -- Testing function: re-organising annotations\n",
      "[14:41:55] [ DEBUG  ] [training_inference_tools] <592 > -- Time to re-organise annotations: 2.36 s\n",
      "[14:41:55] [ DEBUG  ] [training_inference_tools] <598 > -- Testing function: getting processed output (segmentation and instances)\n",
      "[14:41:56] [ DEBUG  ] [data_processing_tools] <448 > -- Events detection threshold: 0.274\n",
      "[14:42:01] [ DEBUG  ] [data_processing_tools] <514 > -- Number of sparks detected by nonmaxima suppression: 109\n",
      "[14:42:09] [ DEBUG  ] [data_processing_tools] <875 > -- Time for removing small events: 7.32 s\n",
      "[14:42:10] [ DEBUG  ] [training_inference_tools] <648 > -- Time to process predictions: 16.49 s\n",
      "[14:42:10] [ DEBUG  ] [training_inference_tools] <665 > -- Testing function: computing pairwise scores between 54 annotated events and 113 predicted events\n",
      "[14:42:18] [ DEBUG  ] [training_inference_tools] <675 > -- Time to compute pairwise scores: 8.00 s\n",
      "[14:42:18] [ DEBUG  ] [training_inference_tools] <682 > -- Testing function: getting confusion matrix\n",
      "[14:42:25] [ DEBUG  ] [training_inference_tools] <710 > -- Confusion matrix for video 15:\n",
      "[[ 0. 58.  0.  4.]\n",
      " [14. 27.  0.  0.]\n",
      " [ 0.  0.  0.  0.]\n",
      " [ 3. 17.  0.  7.]]\n",
      "[14:42:25] [ DEBUG  ] [training_inference_tools] <714 > -- Time to compute confusion matrix: 7.24 s\n",
      "[14:42:25] [ DEBUG  ] [training_inference_tools] <526 > -- Testing function: running sample 20 in UNet\n",
      "[14:42:28] [ DEBUG  ] [in_out_tools] <278 > -- Writing videos on directory c:\\Users\\dotti\\sparks_project\\sparks\\runs\\focal_loss_updated_physio\\predictions ..\n",
      "[14:42:28] [ DEBUG  ] [training_inference_tools] <556 > -- Time to run sample 20 in UNet: 3.13 s\n",
      "[14:42:28] [ DEBUG  ] [training_inference_tools] <563 > -- Testing function: re-organising annotations\n",
      "[14:42:31] [ DEBUG  ] [training_inference_tools] <592 > -- Time to re-organise annotations: 2.60 s\n",
      "[14:42:31] [ DEBUG  ] [training_inference_tools] <598 > -- Testing function: getting processed output (segmentation and instances)\n",
      "[14:42:31] [ DEBUG  ] [data_processing_tools] <448 > -- Events detection threshold: 0.330\n",
      "[14:42:36] [ DEBUG  ] [data_processing_tools] <514 > -- Number of sparks detected by nonmaxima suppression: 258\n",
      "[14:42:56] [ DEBUG  ] [data_processing_tools] <875 > -- Time for removing small events: 14.45 s\n",
      "[14:42:56] [ DEBUG  ] [training_inference_tools] <648 > -- Time to process predictions: 28.20 s\n",
      "[14:42:56] [ DEBUG  ] [training_inference_tools] <665 > -- Testing function: computing pairwise scores between 87 annotated events and 256 predicted events\n",
      "[14:43:09] [ DEBUG  ] [training_inference_tools] <675 > -- Time to compute pairwise scores: 12.77 s\n",
      "[14:43:09] [ DEBUG  ] [training_inference_tools] <682 > -- Testing function: getting confusion matrix\n",
      "[14:43:22] [ DEBUG  ] [training_inference_tools] <710 > -- Confusion matrix for video 20:\n",
      "[[  0. 148.   0.   7.]\n",
      " [  7.  59.   0.   3.]\n",
      " [  0.   0.   0.   0.]\n",
      " [  3.  27.   0.   8.]]\n",
      "[14:43:22] [ DEBUG  ] [training_inference_tools] <714 > -- Time to compute confusion matrix: 12.74 s\n",
      "[14:43:22] [ DEBUG  ] [training_inference_tools] <526 > -- Testing function: running sample 25 in UNet\n",
      "[14:43:29] [ DEBUG  ] [in_out_tools] <278 > -- Writing videos on directory c:\\Users\\dotti\\sparks_project\\sparks\\runs\\focal_loss_updated_physio\\predictions ..\n",
      "[14:43:29] [ DEBUG  ] [training_inference_tools] <556 > -- Time to run sample 25 in UNet: 7.53 s\n",
      "[14:43:29] [ DEBUG  ] [training_inference_tools] <563 > -- Testing function: re-organising annotations\n",
      "[14:43:33] [ DEBUG  ] [training_inference_tools] <592 > -- Time to re-organise annotations: 3.97 s\n",
      "[14:43:33] [ DEBUG  ] [training_inference_tools] <598 > -- Testing function: getting processed output (segmentation and instances)\n",
      "[14:43:34] [ DEBUG  ] [data_processing_tools] <448 > -- Events detection threshold: 0.118\n",
      "[14:43:43] [ DEBUG  ] [data_processing_tools] <514 > -- Number of sparks detected by nonmaxima suppression: 260\n",
      "[14:44:15] [ DEBUG  ] [data_processing_tools] <875 > -- Time for removing small events: 27.98 s\n",
      "[14:44:15] [ DEBUG  ] [training_inference_tools] <648 > -- Time to process predictions: 45.73 s\n",
      "[14:44:15] [ DEBUG  ] [training_inference_tools] <665 > -- Testing function: computing pairwise scores between 32 annotated events and 242 predicted events\n",
      "[14:44:25] [ DEBUG  ] [training_inference_tools] <675 > -- Time to compute pairwise scores: 9.56 s\n",
      "[14:44:25] [ DEBUG  ] [training_inference_tools] <682 > -- Testing function: getting confusion matrix\n",
      "[14:44:38] [ DEBUG  ] [training_inference_tools] <710 > -- Confusion matrix for video 25:\n",
      "[[  0. 208.   2.   0.]\n",
      " [  4.  27.   0.   0.]\n",
      " [  0.   0.   0.   0.]\n",
      " [  0.   2.   0.   0.]]\n",
      "[14:44:38] [ DEBUG  ] [training_inference_tools] <714 > -- Time to compute confusion matrix: 13.10 s\n",
      "[14:44:38] [ DEBUG  ] [training_inference_tools] <526 > -- Testing function: running sample 32 in UNet\n",
      "[14:44:45] [ DEBUG  ] [in_out_tools] <278 > -- Writing videos on directory c:\\Users\\dotti\\sparks_project\\sparks\\runs\\focal_loss_updated_physio\\predictions ..\n",
      "[14:44:45] [ DEBUG  ] [training_inference_tools] <556 > -- Time to run sample 32 in UNet: 7.49 s\n",
      "[14:44:45] [ DEBUG  ] [training_inference_tools] <563 > -- Testing function: re-organising annotations\n",
      "[14:44:48] [ DEBUG  ] [training_inference_tools] <592 > -- Time to re-organise annotations: 3.18 s\n",
      "[14:44:48] [ DEBUG  ] [training_inference_tools] <598 > -- Testing function: getting processed output (segmentation and instances)\n",
      "[14:44:49] [ DEBUG  ] [data_processing_tools] <448 > -- Events detection threshold: 0.117\n",
      "[14:44:59] [ DEBUG  ] [data_processing_tools] <514 > -- Number of sparks detected by nonmaxima suppression: 90\n",
      "[14:45:16] [ DEBUG  ] [data_processing_tools] <875 > -- Time for removing small events: 14.67 s\n",
      "[14:45:16] [ DEBUG  ] [training_inference_tools] <648 > -- Time to process predictions: 30.76 s\n",
      "[14:45:16] [ DEBUG  ] [training_inference_tools] <665 > -- Testing function: computing pairwise scores between 9 annotated events and 70 predicted events\n",
      "[14:45:19] [ DEBUG  ] [training_inference_tools] <675 > -- Time to compute pairwise scores: 3.24 s\n",
      "[14:45:19] [ DEBUG  ] [training_inference_tools] <682 > -- Testing function: getting confusion matrix\n",
      "[14:45:25] [ DEBUG  ] [training_inference_tools] <710 > -- Confusion matrix for video 32:\n",
      "[[ 0. 62.  0.  0.]\n",
      " [ 1.  6.  0.  0.]\n",
      " [ 0.  0.  0.  0.]\n",
      " [ 0.  1.  0.  1.]]\n",
      "[14:45:25] [ DEBUG  ] [training_inference_tools] <714 > -- Time to compute confusion matrix: 5.86 s\n",
      "[14:45:25] [ DEBUG  ] [training_inference_tools] <526 > -- Testing function: running sample 34 in UNet\n",
      "[14:45:31] [ DEBUG  ] [in_out_tools] <278 > -- Writing videos on directory c:\\Users\\dotti\\sparks_project\\sparks\\runs\\focal_loss_updated_physio\\predictions ..\n",
      "[14:45:31] [ DEBUG  ] [training_inference_tools] <556 > -- Time to run sample 34 in UNet: 6.37 s\n",
      "[14:45:31] [ DEBUG  ] [training_inference_tools] <563 > -- Testing function: re-organising annotations\n",
      "[14:45:35] [ DEBUG  ] [training_inference_tools] <592 > -- Time to re-organise annotations: 3.90 s\n",
      "[14:45:35] [ DEBUG  ] [training_inference_tools] <598 > -- Testing function: getting processed output (segmentation and instances)\n",
      "[14:45:36] [ DEBUG  ] [data_processing_tools] <448 > -- Events detection threshold: 0.386\n",
      "[14:45:45] [ DEBUG  ] [data_processing_tools] <514 > -- Number of sparks detected by nonmaxima suppression: 150\n",
      "[14:46:38] [ DEBUG  ] [data_processing_tools] <875 > -- Time for removing small events: 50.52 s\n",
      "[14:46:39] [ DEBUG  ] [training_inference_tools] <648 > -- Time to process predictions: 67.35 s\n",
      "[14:46:39] [ DEBUG  ] [training_inference_tools] <665 > -- Testing function: computing pairwise scores between 25 annotated events and 185 predicted events\n",
      "[14:46:47] [ DEBUG  ] [training_inference_tools] <675 > -- Time to compute pairwise scores: 8.10 s\n",
      "[14:46:47] [ DEBUG  ] [training_inference_tools] <682 > -- Testing function: getting confusion matrix\n",
      "[14:47:19] [ DEBUG  ] [training_inference_tools] <710 > -- Confusion matrix for video 34:\n",
      "[[ 0. 97.  1. 18.]\n",
      " [ 2. 12.  0.  2.]\n",
      " [ 0. 27.  2. 23.]\n",
      " [ 0.  2.  0.  2.]]\n",
      "[14:47:19] [ DEBUG  ] [training_inference_tools] <714 > -- Time to compute confusion matrix: 32.65 s\n",
      "[14:47:19] [ DEBUG  ] [training_inference_tools] <526 > -- Testing function: running sample 40 in UNet\n",
      "[14:47:25] [ DEBUG  ] [in_out_tools] <278 > -- Writing videos on directory c:\\Users\\dotti\\sparks_project\\sparks\\runs\\focal_loss_updated_physio\\predictions ..\n",
      "[14:47:25] [ DEBUG  ] [training_inference_tools] <556 > -- Time to run sample 40 in UNet: 5.81 s\n",
      "[14:47:25] [ DEBUG  ] [training_inference_tools] <563 > -- Testing function: re-organising annotations\n",
      "[14:47:29] [ DEBUG  ] [training_inference_tools] <592 > -- Time to re-organise annotations: 3.93 s\n",
      "[14:47:29] [ DEBUG  ] [training_inference_tools] <598 > -- Testing function: getting processed output (segmentation and instances)\n",
      "[14:47:30] [ DEBUG  ] [data_processing_tools] <448 > -- Events detection threshold: 0.249\n",
      "[14:47:39] [ DEBUG  ] [data_processing_tools] <514 > -- Number of sparks detected by nonmaxima suppression: 223\n",
      "[14:48:12] [ DEBUG  ] [data_processing_tools] <875 > -- Time for removing small events: 29.77 s\n",
      "[14:48:12] [ DEBUG  ] [training_inference_tools] <648 > -- Time to process predictions: 47.10 s\n",
      "[14:48:12] [ DEBUG  ] [training_inference_tools] <665 > -- Testing function: computing pairwise scores between 13 annotated events and 224 predicted events\n",
      "[14:48:17] [ DEBUG  ] [training_inference_tools] <675 > -- Time to compute pairwise scores: 4.18 s\n",
      "[14:48:17] [ DEBUG  ] [training_inference_tools] <682 > -- Testing function: getting confusion matrix\n",
      "[14:48:43] [ DEBUG  ] [training_inference_tools] <710 > -- Confusion matrix for video 40:\n",
      "[[  0. 158.   0.  22.]\n",
      " [  0.   6.   0.   0.]\n",
      " [  0.  23.   1.   4.]\n",
      " [  5.   0.   0.   1.]]\n",
      "[14:48:43] [ DEBUG  ] [training_inference_tools] <714 > -- Time to compute confusion matrix: 26.36 s\n",
      "[14:48:43] [ DEBUG  ] [training_inference_tools] <526 > -- Testing function: running sample 45 in UNet\n",
      "[14:48:48] [ DEBUG  ] [in_out_tools] <278 > -- Writing videos on directory c:\\Users\\dotti\\sparks_project\\sparks\\runs\\focal_loss_updated_physio\\predictions ..\n",
      "[14:48:49] [ DEBUG  ] [training_inference_tools] <556 > -- Time to run sample 45 in UNet: 6.09 s\n",
      "[14:48:49] [ DEBUG  ] [training_inference_tools] <563 > -- Testing function: re-organising annotations\n",
      "[14:48:51] [ DEBUG  ] [training_inference_tools] <592 > -- Time to re-organise annotations: 1.87 s\n",
      "[14:48:51] [ DEBUG  ] [training_inference_tools] <598 > -- Testing function: getting processed output (segmentation and instances)\n",
      "[14:48:51] [ DEBUG  ] [data_processing_tools] <448 > -- Events detection threshold: 0.373\n",
      "[14:49:01] [ DEBUG  ] [data_processing_tools] <514 > -- Number of sparks detected by nonmaxima suppression: 246\n",
      "[14:50:29] [ DEBUG  ] [data_processing_tools] <875 > -- Time for removing small events: 84.72 s\n",
      "[14:50:29] [ DEBUG  ] [training_inference_tools] <648 > -- Time to process predictions: 99.99 s\n",
      "[14:50:29] [ DEBUG  ] [training_inference_tools] <665 > -- Testing function: computing pairwise scores between 1 annotated events and 228 predicted events\n",
      "[14:50:30] [ DEBUG  ] [training_inference_tools] <675 > -- Time to compute pairwise scores: 1.01 s\n",
      "[14:50:30] [ DEBUG  ] [training_inference_tools] <682 > -- Testing function: getting confusion matrix\n",
      "[14:50:42] [ DEBUG  ] [training_inference_tools] <710 > -- Confusion matrix for video 45:\n",
      "[[  0. 223.   2.   2.]\n",
      " [  0.   0.   0.   0.]\n",
      " [  0.   0.   1.   0.]\n",
      " [  0.   0.   0.   0.]]\n",
      "[14:50:42] [ DEBUG  ] [training_inference_tools] <714 > -- Time to compute confusion matrix: 12.30 s\n",
      "[14:50:42] [ DEBUG  ] [training_inference_tools] <721 > -- Testing function: reducing metrics\n",
      "[14:50:55] [ DEBUG  ] [training_inference_tools] <789 > -- Time to reduce metrics: 12.37 s\n",
      "[14:50:55] [  INFO  ] [training_inference_tools] < 54 > -- Metrics:\n",
      "[14:50:55] [  INFO  ] [training_inference_tools] < 60 > -- \tvalidation_loss: 1.357\n",
      "[14:50:55] [  INFO  ] [training_inference_tools] < 58 > -- \tevents_confusion_matrix:\n",
      "[[   0. 1095.    6.  120.]\n",
      " [  64.  183.    0.   12.]\n",
      " [   0.   50.    4.   27.]\n",
      " [  18.   64.    0.   26.]]\n",
      "[14:50:55] [  INFO  ] [training_inference_tools] < 60 > -- \tsparks/precision: 0.1315\n",
      "[14:50:55] [  INFO  ] [training_inference_tools] < 60 > -- \tsparks/recall: 0.717\n",
      "[14:50:55] [  INFO  ] [training_inference_tools] < 60 > -- \tsparks/correctly_classified: 0.6162\n",
      "[14:50:55] [  INFO  ] [training_inference_tools] < 60 > -- \tsparks/detected: 0.7585\n",
      "[14:50:55] [  INFO  ] [training_inference_tools] < 60 > -- \tpuffs/precision: 0.1405\n",
      "[14:50:55] [  INFO  ] [training_inference_tools] < 60 > -- \tpuffs/recall: 0.4459\n",
      "[14:50:55] [  INFO  ] [training_inference_tools] < 60 > -- \tpuffs/correctly_classified: 0.4\n",
      "[14:50:55] [  INFO  ] [training_inference_tools] < 60 > -- \tpuffs/detected: 0.7568\n",
      "[14:50:55] [  INFO  ] [training_inference_tools] < 60 > -- \twaves/precision: 0.4\n",
      "[14:50:55] [  INFO  ] [training_inference_tools] < 60 > -- \twaves/recall: 0.5\n",
      "[14:50:55] [  INFO  ] [training_inference_tools] < 60 > -- \twaves/correctly_classified: 1\n",
      "[14:50:55] [  INFO  ] [training_inference_tools] < 60 > -- \twaves/detected: 1\n",
      "[14:50:55] [  INFO  ] [training_inference_tools] < 60 > -- \taverage/precision: 0.224\n",
      "[14:50:55] [  INFO  ] [training_inference_tools] < 60 > -- \taverage/recall: 0.5543\n",
      "[14:50:55] [  INFO  ] [training_inference_tools] < 60 > -- \taverage/correctly_classified: 0.6721\n",
      "[14:50:55] [  INFO  ] [training_inference_tools] < 60 > -- \taverage/detected: 0.8384\n",
      "[14:50:55] [  INFO  ] [training_inference_tools] < 60 > -- \tsegmentation/sparks_IoU: 0.06632\n",
      "[14:50:55] [  INFO  ] [training_inference_tools] < 60 > -- \tsegmentation/puffs_IoU: 0.1205\n",
      "[14:50:55] [  INFO  ] [training_inference_tools] < 60 > -- \tsegmentation/waves_IoU: 0.2037\n",
      "[14:50:55] [  INFO  ] [training_inference_tools] < 60 > -- \tsegmentation/average_IoU: 0.1302\n",
      "[14:50:55] [  INFO  ] [training_inference_tools] < 58 > -- \tsegmentation_confusion_matrix:\n",
      "[[213120502   1560566   2048541   2690344]\n",
      " [    42341    137782         0     35303]\n",
      " [  1508469    173029   1331857   1449407]\n",
      " [   743970    128544     27586    695228]]\n",
      "[14:50:55] [  INFO  ] [  __main__  ] < 9  > -- Starting training\n",
      "[14:51:09] [  INFO  ] [training_inference_tools] <101 > -- Iteration 100000...\n",
      "[14:51:09] [  INFO  ] [training_inference_tools] <102 > -- \tTraining loss: 0.004322\n",
      "[14:51:09] [  INFO  ] [training_inference_tools] <103 > -- \tTime elapsed: 6.97s\n"
     ]
    },
    {
     "ename": "KeyboardInterrupt",
     "evalue": "",
     "output_type": "error",
     "traceback": [
      "\u001b[1;31m---------------------------------------------------------------------------\u001b[0m",
      "\u001b[1;31mKeyboardInterrupt\u001b[0m                         Traceback (most recent call last)",
      "Cell \u001b[1;32mIn[26], line 10\u001b[0m\n\u001b[0;32m      8\u001b[0m trainer\u001b[39m.\u001b[39mrun_validation(wandb_log\u001b[39m=\u001b[39mwandb_log)\n\u001b[0;32m      9\u001b[0m logger\u001b[39m.\u001b[39minfo(\u001b[39m\"\u001b[39m\u001b[39mStarting training\u001b[39m\u001b[39m\"\u001b[39m)\n\u001b[1;32m---> 10\u001b[0m trainer\u001b[39m.\u001b[39;49mtrain(\n\u001b[0;32m     11\u001b[0m     params[\u001b[39m\"\u001b[39;49m\u001b[39mtrain_epochs\u001b[39;49m\u001b[39m\"\u001b[39;49m],\n\u001b[0;32m     12\u001b[0m     print_every\u001b[39m=\u001b[39;49mc\u001b[39m.\u001b[39;49mgetint(\u001b[39m\"\u001b[39;49m\u001b[39mtraining\u001b[39;49m\u001b[39m\"\u001b[39;49m, \u001b[39m\"\u001b[39;49m\u001b[39mprint_every\u001b[39;49m\u001b[39m\"\u001b[39;49m, fallback\u001b[39m=\u001b[39;49m\u001b[39m100\u001b[39;49m),\n\u001b[0;32m     13\u001b[0m     wandb_log\u001b[39m=\u001b[39;49mwandb_log,\n\u001b[0;32m     14\u001b[0m )\n",
      "File \u001b[1;32mc:\\Users\\dotti\\sparks_project\\sparks\\training_inference_tools.py:78\u001b[0m, in \u001b[0;36mmyTrainingManager.train\u001b[1;34m(self, num_iters, print_every, maxtime, wandb_log)\u001b[0m\n\u001b[0;32m     74\u001b[0m     loss_sum \u001b[39m=\u001b[39m \u001b[39m0\u001b[39m\n\u001b[0;32m     76\u001b[0m \u001b[39mfor\u001b[39;00m _ \u001b[39min\u001b[39;00m \u001b[39mrange\u001b[39m(num_iters):\n\u001b[1;32m---> 78\u001b[0m     step_output \u001b[39m=\u001b[39m \u001b[39mself\u001b[39;49m\u001b[39m.\u001b[39;49mtraining_step(\u001b[39mself\u001b[39;49m\u001b[39m.\u001b[39;49miter)\n\u001b[0;32m     80\u001b[0m     \u001b[39mif\u001b[39;00m wandb_log:\n\u001b[0;32m     81\u001b[0m         loss_sum \u001b[39m+\u001b[39m\u001b[39m=\u001b[39m step_output[\u001b[39m\"\u001b[39m\u001b[39mloss\u001b[39m\u001b[39m\"\u001b[39m]\n",
      "Cell \u001b[1;32mIn[24], line 58\u001b[0m, in \u001b[0;36m<lambda>\u001b[1;34m(_)\u001b[0m\n\u001b[0;32m     53\u001b[0m preds_output_dir \u001b[39m=\u001b[39m os\u001b[39m.\u001b[39mpath\u001b[39m.\u001b[39mjoin(output_path, \u001b[39m\"\u001b[39m\u001b[39mpredictions\u001b[39m\u001b[39m\"\u001b[39m)\n\u001b[0;32m     54\u001b[0m os\u001b[39m.\u001b[39mmakedirs(preds_output_dir, exist_ok\u001b[39m=\u001b[39m\u001b[39mTrue\u001b[39;00m)\n\u001b[0;32m     56\u001b[0m trainer \u001b[39m=\u001b[39m myTrainingManager(\n\u001b[0;32m     57\u001b[0m     \u001b[39m# training items\u001b[39;00m\n\u001b[1;32m---> 58\u001b[0m     training_step\u001b[39m=\u001b[39m\u001b[39mlambda\u001b[39;00m _: training_step(\n\u001b[0;32m     59\u001b[0m         sampler\u001b[39m=\u001b[39;49msampler,\n\u001b[0;32m     60\u001b[0m         network\u001b[39m=\u001b[39;49mnetwork,\n\u001b[0;32m     61\u001b[0m         optimizer\u001b[39m=\u001b[39;49moptimizer,\n\u001b[0;32m     62\u001b[0m         device\u001b[39m=\u001b[39;49mdevice,\n\u001b[0;32m     63\u001b[0m         criterion\u001b[39m=\u001b[39;49mcriterion,\n\u001b[0;32m     64\u001b[0m         dataset_loader\u001b[39m=\u001b[39;49mdataset_loader,\n\u001b[0;32m     65\u001b[0m         ignore_frames\u001b[39m=\u001b[39;49mparams[\u001b[39m\"\u001b[39;49m\u001b[39mignore_frames_loss\u001b[39;49m\u001b[39m\"\u001b[39;49m],\n\u001b[0;32m     66\u001b[0m     ),\n\u001b[0;32m     67\u001b[0m     save_every\u001b[39m=\u001b[39mc\u001b[39m.\u001b[39mgetint(\u001b[39m\"\u001b[39m\u001b[39mtraining\u001b[39m\u001b[39m\"\u001b[39m, \u001b[39m\"\u001b[39m\u001b[39msave_every\u001b[39m\u001b[39m\"\u001b[39m, fallback\u001b[39m=\u001b[39m\u001b[39m5000\u001b[39m),\n\u001b[0;32m     68\u001b[0m     \u001b[39m# load_path=load_path,\u001b[39;00m\n\u001b[0;32m     69\u001b[0m     save_path\u001b[39m=\u001b[39moutput_path,\n\u001b[0;32m     70\u001b[0m     managed_objects\u001b[39m=\u001b[39munet\u001b[39m.\u001b[39mmanaged_objects(\n\u001b[0;32m     71\u001b[0m         {\u001b[39m\"\u001b[39m\u001b[39mnetwork\u001b[39m\u001b[39m\"\u001b[39m: network, \u001b[39m\"\u001b[39m\u001b[39moptimizer\u001b[39m\u001b[39m\"\u001b[39m: optimizer}\n\u001b[0;32m     72\u001b[0m     ),\n\u001b[0;32m     73\u001b[0m     \u001b[39m# testing items\u001b[39;00m\n\u001b[0;32m     74\u001b[0m     test_function\u001b[39m=\u001b[39m\u001b[39mlambda\u001b[39;00m _: test_function(\n\u001b[0;32m     75\u001b[0m         network\u001b[39m=\u001b[39mnetwork,\n\u001b[0;32m     76\u001b[0m         device\u001b[39m=\u001b[39mdevice,\n\u001b[0;32m     77\u001b[0m         criterion\u001b[39m=\u001b[39mcriterion,\n\u001b[0;32m     78\u001b[0m         testing_datasets\u001b[39m=\u001b[39mtesting_datasets,\n\u001b[0;32m     79\u001b[0m         ignore_frames\u001b[39m=\u001b[39mparams[\u001b[39m\"\u001b[39m\u001b[39mignore_frames_loss\u001b[39m\u001b[39m\"\u001b[39m],\n\u001b[0;32m     80\u001b[0m         training_name\u001b[39m=\u001b[39mparams[\u001b[39m\"\u001b[39m\u001b[39mrun_name\u001b[39m\u001b[39m\"\u001b[39m],\n\u001b[0;32m     81\u001b[0m         output_dir\u001b[39m=\u001b[39mpreds_output_dir,\n\u001b[0;32m     82\u001b[0m         training_mode\u001b[39m=\u001b[39m\u001b[39mTrue\u001b[39;00m,\n\u001b[0;32m     83\u001b[0m         debug\u001b[39m=\u001b[39mdebug_mode,\n\u001b[0;32m     84\u001b[0m     ),\n\u001b[0;32m     85\u001b[0m     test_every\u001b[39m=\u001b[39mc\u001b[39m.\u001b[39mgetint(\u001b[39m\"\u001b[39m\u001b[39mtraining\u001b[39m\u001b[39m\"\u001b[39m, \u001b[39m\"\u001b[39m\u001b[39mtest_every\u001b[39m\u001b[39m\"\u001b[39m, fallback\u001b[39m=\u001b[39m\u001b[39m1000\u001b[39m),\n\u001b[0;32m     86\u001b[0m     plot_every\u001b[39m=\u001b[39mc\u001b[39m.\u001b[39mgetint(\u001b[39m\"\u001b[39m\u001b[39mtraining\u001b[39m\u001b[39m\"\u001b[39m, \u001b[39m\"\u001b[39m\u001b[39mtest_every\u001b[39m\u001b[39m\"\u001b[39m, fallback\u001b[39m=\u001b[39m\u001b[39m1000\u001b[39m),\n\u001b[0;32m     87\u001b[0m     summary_writer\u001b[39m=\u001b[39msummary_writer,\n\u001b[0;32m     88\u001b[0m )\n",
      "File \u001b[1;32mc:\\Users\\dotti\\sparks_project\\sparks\\training_inference_tools.py:161\u001b[0m, in \u001b[0;36mtraining_step\u001b[1;34m(sampler, network, optimizer, device, criterion, dataset_loader, ignore_frames)\u001b[0m\n\u001b[0;32m    158\u001b[0m y_pred \u001b[39m=\u001b[39m network(x[:, \u001b[39mNone\u001b[39;00m])  \u001b[39m# [1, 4, 256, 64, 512]\u001b[39;00m\n\u001b[0;32m    160\u001b[0m \u001b[39m# Compute loss\u001b[39;00m\n\u001b[1;32m--> 161\u001b[0m loss \u001b[39m=\u001b[39m criterion(\n\u001b[0;32m    162\u001b[0m     y_pred[\u001b[39m.\u001b[39;49m\u001b[39m.\u001b[39;49m\u001b[39m.\u001b[39;49m, ignore_frames:\u001b[39m-\u001b[39;49mignore_frames],\n\u001b[0;32m    163\u001b[0m     y[\u001b[39m.\u001b[39;49m\u001b[39m.\u001b[39;49m\u001b[39m.\u001b[39;49m, ignore_frames:\u001b[39m-\u001b[39;49mignore_frames]\u001b[39m.\u001b[39;49mlong(),\n\u001b[0;32m    164\u001b[0m )\n\u001b[0;32m    166\u001b[0m optimizer\u001b[39m.\u001b[39mzero_grad(set_to_none\u001b[39m=\u001b[39m\u001b[39mTrue\u001b[39;00m)\n\u001b[0;32m    167\u001b[0m loss\u001b[39m.\u001b[39mbackward()\n",
      "File \u001b[1;32mc:\\Users\\dotti\\.conda\\envs\\sparks\\lib\\site-packages\\torch\\nn\\modules\\module.py:1110\u001b[0m, in \u001b[0;36mModule._call_impl\u001b[1;34m(self, *input, **kwargs)\u001b[0m\n\u001b[0;32m   1106\u001b[0m \u001b[39m# If we don't have any hooks, we want to skip the rest of the logic in\u001b[39;00m\n\u001b[0;32m   1107\u001b[0m \u001b[39m# this function, and just call forward.\u001b[39;00m\n\u001b[0;32m   1108\u001b[0m \u001b[39mif\u001b[39;00m \u001b[39mnot\u001b[39;00m (\u001b[39mself\u001b[39m\u001b[39m.\u001b[39m_backward_hooks \u001b[39mor\u001b[39;00m \u001b[39mself\u001b[39m\u001b[39m.\u001b[39m_forward_hooks \u001b[39mor\u001b[39;00m \u001b[39mself\u001b[39m\u001b[39m.\u001b[39m_forward_pre_hooks \u001b[39mor\u001b[39;00m _global_backward_hooks\n\u001b[0;32m   1109\u001b[0m         \u001b[39mor\u001b[39;00m _global_forward_hooks \u001b[39mor\u001b[39;00m _global_forward_pre_hooks):\n\u001b[1;32m-> 1110\u001b[0m     \u001b[39mreturn\u001b[39;00m forward_call(\u001b[39m*\u001b[39;49m\u001b[39minput\u001b[39;49m, \u001b[39m*\u001b[39;49m\u001b[39m*\u001b[39;49mkwargs)\n\u001b[0;32m   1111\u001b[0m \u001b[39m# Do not call functions when jit is used\u001b[39;00m\n\u001b[0;32m   1112\u001b[0m full_backward_hooks, non_full_backward_hooks \u001b[39m=\u001b[39m [], []\n",
      "File \u001b[1;32mc:\\Users\\dotti\\sparks_project\\sparks\\custom_losses.py:339\u001b[0m, in \u001b[0;36mFocalLoss.forward\u001b[1;34m(self, input, target)\u001b[0m\n\u001b[0;32m    338\u001b[0m \u001b[39mdef\u001b[39;00m \u001b[39mforward\u001b[39m(\u001b[39mself\u001b[39m, \u001b[39minput\u001b[39m: torch\u001b[39m.\u001b[39mTensor, target: torch\u001b[39m.\u001b[39mTensor) \u001b[39m-\u001b[39m\u001b[39m>\u001b[39m torch\u001b[39m.\u001b[39mTensor:\n\u001b[1;32m--> 339\u001b[0m     \u001b[39mreturn\u001b[39;00m focal_loss(\u001b[39minput\u001b[39;49m, target, \u001b[39mself\u001b[39;49m\u001b[39m.\u001b[39;49malpha, \u001b[39mself\u001b[39;49m\u001b[39m.\u001b[39;49mgamma, \u001b[39mself\u001b[39;49m\u001b[39m.\u001b[39;49mreduction,\n\u001b[0;32m    340\u001b[0m                       \u001b[39mself\u001b[39;49m\u001b[39m.\u001b[39;49mignore_index, \u001b[39mself\u001b[39;49m\u001b[39m.\u001b[39;49meps)\n",
      "File \u001b[1;32mc:\\Users\\dotti\\sparks_project\\sparks\\custom_losses.py:161\u001b[0m, in \u001b[0;36mfocal_loss\u001b[1;34m(input, target, alpha, gamma, reduction, ignore_index, eps)\u001b[0m\n\u001b[0;32m    159\u001b[0m     alpha_mask \u001b[39m=\u001b[39m torch\u001b[39m.\u001b[39mzeros(target\u001b[39m.\u001b[39mshape)\n\u001b[0;32m    160\u001b[0m     \u001b[39mfor\u001b[39;00m idx, alpha_t \u001b[39min\u001b[39;00m \u001b[39menumerate\u001b[39m(alpha):\n\u001b[1;32m--> 161\u001b[0m         alpha_mask[target \u001b[39m==\u001b[39m idx] \u001b[39m=\u001b[39m alpha_t\n\u001b[0;32m    162\u001b[0m     \u001b[39m# print(alpha_mask)\u001b[39;00m\n\u001b[0;32m    164\u001b[0m alpha_mask \u001b[39m=\u001b[39m alpha_mask\u001b[39m.\u001b[39mto(target\u001b[39m.\u001b[39mdevice)\n",
      "\u001b[1;31mKeyboardInterrupt\u001b[0m: "
     ]
    }
   ],
   "source": [
    "############################## start training ##############################\n",
    "\n",
    "if params[\"load_epoch\"] != 0:\n",
    "    trainer.load(params[\"load_epoch\"])\n",
    "\n",
    "if c.getboolean(\"general\", \"training\", fallback=False):  # Run training procedure on data\n",
    "    logger.info(\"Validate network before training\")\n",
    "    trainer.run_validation(wandb_log=wandb_log)\n",
    "    logger.info(\"Starting training\")\n",
    "    trainer.train(\n",
    "        params[\"train_epochs\"],\n",
    "        print_every=c.getint(\"training\", \"print_every\", fallback=100),\n",
    "        wandb_log=wandb_log,\n",
    "    )\n"
   ]
  },
  {
   "cell_type": "code",
   "execution_count": 14,
   "metadata": {},
   "outputs": [
    {
     "name": "stdout",
     "output_type": "stream",
     "text": [
      "[14:29:19] [  INFO  ] [  __main__  ] < 2  > -- Starting final validation\n",
      "[14:29:19] [  INFO  ] [training_inference_tools] < 45 > -- Validating network at iteration 40...\n",
      "[14:29:19] [ DEBUG  ] [training_inference_tools] <525 > -- Testing function: running sample 34 in UNet\n",
      "[14:29:34] [ DEBUG  ] [in_out_tools] <278 > -- Writing videos on directory c:\\Users\\dotti\\sparks_project\\sparks\\runs\\TEST5\\predictions ..\n",
      "[14:29:35] [ DEBUG  ] [training_inference_tools] <555 > -- Time to run sample 34 in UNet: 15.32 s\n",
      "[14:29:35] [ DEBUG  ] [training_inference_tools] <562 > -- Testing function: re-organising annotations\n",
      "[14:29:39] [ DEBUG  ] [training_inference_tools] <591 > -- Time to re-organise annotations: 3.89 s\n",
      "[14:29:39] [ DEBUG  ] [training_inference_tools] <597 > -- Testing function: getting processed output (segmentation and instances)\n",
      "[14:29:39] [ DEBUG  ] [data_processing_tools] <448 > -- Events detection threshold: 0.804\n",
      "[14:29:48] [ DEBUG  ] [data_processing_tools] <514 > -- Number of sparks detected by nonmaxima suppression: 4745\n"
     ]
    },
    {
     "ename": "KeyboardInterrupt",
     "evalue": "",
     "output_type": "error",
     "traceback": [
      "\u001b[1;31m---------------------------------------------------------------------------\u001b[0m",
      "\u001b[1;31mKeyboardInterrupt\u001b[0m                         Traceback (most recent call last)",
      "Cell \u001b[1;32mIn[14], line 3\u001b[0m\n\u001b[0;32m      1\u001b[0m \u001b[39mif\u001b[39;00m c\u001b[39m.\u001b[39mgetboolean(\u001b[39m\"\u001b[39m\u001b[39mgeneral\u001b[39m\u001b[39m\"\u001b[39m, \u001b[39m\"\u001b[39m\u001b[39mtesting\u001b[39m\u001b[39m\"\u001b[39m, fallback\u001b[39m=\u001b[39m\u001b[39mFalse\u001b[39;00m):  \u001b[39m# Run final validation\u001b[39;00m\n\u001b[0;32m      2\u001b[0m     logger\u001b[39m.\u001b[39minfo(\u001b[39m\"\u001b[39m\u001b[39mStarting final validation\u001b[39m\u001b[39m\"\u001b[39m)\n\u001b[1;32m----> 3\u001b[0m     trainer\u001b[39m.\u001b[39;49mrun_validation(wandb_log\u001b[39m=\u001b[39;49mwandb_log)\n",
      "File \u001b[1;32mc:\\Users\\dotti\\sparks_project\\sparks\\training_inference_tools.py:47\u001b[0m, in \u001b[0;36mmyTrainingManager.run_validation\u001b[1;34m(self, wandb_log)\u001b[0m\n\u001b[0;32m     43\u001b[0m     \u001b[39mreturn\u001b[39;00m\n\u001b[0;32m     45\u001b[0m logger\u001b[39m.\u001b[39minfo(\u001b[39m\"\u001b[39m\u001b[39mValidating network at iteration \u001b[39m\u001b[39m{}\u001b[39;00m\u001b[39m...\u001b[39m\u001b[39m\"\u001b[39m\u001b[39m.\u001b[39mformat(\u001b[39mself\u001b[39m\u001b[39m.\u001b[39miter))\n\u001b[1;32m---> 47\u001b[0m test_output \u001b[39m=\u001b[39m \u001b[39mself\u001b[39;49m\u001b[39m.\u001b[39;49mtest_function(\u001b[39mself\u001b[39;49m\u001b[39m.\u001b[39;49miter)\n\u001b[0;32m     49\u001b[0m \u001b[39mif\u001b[39;00m wandb_log:\n\u001b[0;32m     50\u001b[0m     wandb\u001b[39m.\u001b[39mlog({m: val \u001b[39mfor\u001b[39;00m m, val \u001b[39min\u001b[39;00m test_output\u001b[39m.\u001b[39mitems()\n\u001b[0;32m     51\u001b[0m                \u001b[39mif\u001b[39;00m \u001b[39m'\u001b[39m\u001b[39mconfusion_matrix\u001b[39m\u001b[39m'\u001b[39m \u001b[39mnot\u001b[39;00m \u001b[39min\u001b[39;00m m}, step\u001b[39m=\u001b[39m\u001b[39mself\u001b[39m\u001b[39m.\u001b[39miter)\n",
      "Cell \u001b[1;32mIn[11], line 74\u001b[0m, in \u001b[0;36m<lambda>\u001b[1;34m(_)\u001b[0m\n\u001b[0;32m     53\u001b[0m preds_output_dir \u001b[39m=\u001b[39m os\u001b[39m.\u001b[39mpath\u001b[39m.\u001b[39mjoin(output_path, \u001b[39m\"\u001b[39m\u001b[39mpredictions\u001b[39m\u001b[39m\"\u001b[39m)\n\u001b[0;32m     54\u001b[0m os\u001b[39m.\u001b[39mmakedirs(preds_output_dir, exist_ok\u001b[39m=\u001b[39m\u001b[39mTrue\u001b[39;00m)\n\u001b[0;32m     56\u001b[0m trainer \u001b[39m=\u001b[39m myTrainingManager(\n\u001b[0;32m     57\u001b[0m     \u001b[39m# training items\u001b[39;00m\n\u001b[0;32m     58\u001b[0m     training_step\u001b[39m=\u001b[39m\u001b[39mlambda\u001b[39;00m _: training_step(\n\u001b[0;32m     59\u001b[0m         sampler\u001b[39m=\u001b[39msampler,\n\u001b[0;32m     60\u001b[0m         network\u001b[39m=\u001b[39mnetwork,\n\u001b[0;32m     61\u001b[0m         optimizer\u001b[39m=\u001b[39moptimizer,\n\u001b[0;32m     62\u001b[0m         device\u001b[39m=\u001b[39mdevice,\n\u001b[0;32m     63\u001b[0m         criterion\u001b[39m=\u001b[39mcriterion,\n\u001b[0;32m     64\u001b[0m         dataset_loader\u001b[39m=\u001b[39mdataset_loader,\n\u001b[0;32m     65\u001b[0m         ignore_frames\u001b[39m=\u001b[39mparams[\u001b[39m\"\u001b[39m\u001b[39mignore_frames_loss\u001b[39m\u001b[39m\"\u001b[39m],\n\u001b[0;32m     66\u001b[0m     ),\n\u001b[0;32m     67\u001b[0m     save_every\u001b[39m=\u001b[39mc\u001b[39m.\u001b[39mgetint(\u001b[39m\"\u001b[39m\u001b[39mtraining\u001b[39m\u001b[39m\"\u001b[39m, \u001b[39m\"\u001b[39m\u001b[39msave_every\u001b[39m\u001b[39m\"\u001b[39m, fallback\u001b[39m=\u001b[39m\u001b[39m5000\u001b[39m),\n\u001b[0;32m     68\u001b[0m     \u001b[39m# load_path=load_path,\u001b[39;00m\n\u001b[0;32m     69\u001b[0m     save_path\u001b[39m=\u001b[39moutput_path,\n\u001b[0;32m     70\u001b[0m     managed_objects\u001b[39m=\u001b[39munet\u001b[39m.\u001b[39mmanaged_objects(\n\u001b[0;32m     71\u001b[0m         {\u001b[39m\"\u001b[39m\u001b[39mnetwork\u001b[39m\u001b[39m\"\u001b[39m: network, \u001b[39m\"\u001b[39m\u001b[39moptimizer\u001b[39m\u001b[39m\"\u001b[39m: optimizer}\n\u001b[0;32m     72\u001b[0m     ),\n\u001b[0;32m     73\u001b[0m     \u001b[39m# testing items\u001b[39;00m\n\u001b[1;32m---> 74\u001b[0m     test_function\u001b[39m=\u001b[39m\u001b[39mlambda\u001b[39;00m _: test_function(\n\u001b[0;32m     75\u001b[0m         network\u001b[39m=\u001b[39;49mnetwork,\n\u001b[0;32m     76\u001b[0m         device\u001b[39m=\u001b[39;49mdevice,\n\u001b[0;32m     77\u001b[0m         criterion\u001b[39m=\u001b[39;49mcriterion,\n\u001b[0;32m     78\u001b[0m         testing_datasets\u001b[39m=\u001b[39;49mtesting_datasets,\n\u001b[0;32m     79\u001b[0m         ignore_frames\u001b[39m=\u001b[39;49mparams[\u001b[39m\"\u001b[39;49m\u001b[39mignore_frames_loss\u001b[39;49m\u001b[39m\"\u001b[39;49m],\n\u001b[0;32m     80\u001b[0m         training_name\u001b[39m=\u001b[39;49mparams[\u001b[39m\"\u001b[39;49m\u001b[39mrun_name\u001b[39;49m\u001b[39m\"\u001b[39;49m],\n\u001b[0;32m     81\u001b[0m         output_dir\u001b[39m=\u001b[39;49mpreds_output_dir,\n\u001b[0;32m     82\u001b[0m         training_mode\u001b[39m=\u001b[39;49m\u001b[39mTrue\u001b[39;49;00m,\n\u001b[0;32m     83\u001b[0m         debug\u001b[39m=\u001b[39;49mdebug_mode,\n\u001b[0;32m     84\u001b[0m     ),\n\u001b[0;32m     85\u001b[0m     test_every\u001b[39m=\u001b[39mc\u001b[39m.\u001b[39mgetint(\u001b[39m\"\u001b[39m\u001b[39mtraining\u001b[39m\u001b[39m\"\u001b[39m, \u001b[39m\"\u001b[39m\u001b[39mtest_every\u001b[39m\u001b[39m\"\u001b[39m, fallback\u001b[39m=\u001b[39m\u001b[39m1000\u001b[39m),\n\u001b[0;32m     86\u001b[0m     plot_every\u001b[39m=\u001b[39mc\u001b[39m.\u001b[39mgetint(\u001b[39m\"\u001b[39m\u001b[39mtraining\u001b[39m\u001b[39m\"\u001b[39m, \u001b[39m\"\u001b[39m\u001b[39mtest_every\u001b[39m\u001b[39m\"\u001b[39m, fallback\u001b[39m=\u001b[39m\u001b[39m1000\u001b[39m),\n\u001b[0;32m     87\u001b[0m     summary_writer\u001b[39m=\u001b[39msummary_writer,\n\u001b[0;32m     88\u001b[0m )\n",
      "File \u001b[1;32mc:\\Users\\dotti\\sparks_project\\sparks\\training_inference_tools.py:601\u001b[0m, in \u001b[0;36mtest_function\u001b[1;34m(network, device, criterion, ignore_frames, testing_datasets, training_name, output_dir, training_mode, debug)\u001b[0m\n\u001b[0;32m    597\u001b[0m logger\u001b[39m.\u001b[39mdebug(\n\u001b[0;32m    598\u001b[0m     \u001b[39m\"\u001b[39m\u001b[39mTesting function: getting processed output (segmentation and instances)\u001b[39m\u001b[39m\"\u001b[39m)\n\u001b[0;32m    600\u001b[0m \u001b[39m# get predicted segmentation and event instances\u001b[39;00m\n\u001b[1;32m--> 601\u001b[0m preds_instances, preds_segmentation, _ \u001b[39m=\u001b[39m get_processed_result(\n\u001b[0;32m    602\u001b[0m     sparks\u001b[39m=\u001b[39;49mpreds[\u001b[39m1\u001b[39;49m],\n\u001b[0;32m    603\u001b[0m     puffs\u001b[39m=\u001b[39;49mpreds[\u001b[39m3\u001b[39;49m],\n\u001b[0;32m    604\u001b[0m     waves\u001b[39m=\u001b[39;49mpreds[\u001b[39m2\u001b[39;49m],\n\u001b[0;32m    605\u001b[0m     xs\u001b[39m=\u001b[39;49mxs,\n\u001b[0;32m    606\u001b[0m     conn_mask\u001b[39m=\u001b[39;49mconn_mask,\n\u001b[0;32m    607\u001b[0m     connectivity\u001b[39m=\u001b[39;49mconnectivity,\n\u001b[0;32m    608\u001b[0m     max_gap\u001b[39m=\u001b[39;49mmax_gap,\n\u001b[0;32m    609\u001b[0m     sigma\u001b[39m=\u001b[39;49msigma,\n\u001b[0;32m    610\u001b[0m     wave_min_width\u001b[39m=\u001b[39;49mwave_min_width,\n\u001b[0;32m    611\u001b[0m     puff_min_t\u001b[39m=\u001b[39;49mpuff_min_t,\n\u001b[0;32m    612\u001b[0m     spark_min_t\u001b[39m=\u001b[39;49mspark_min_t,\n\u001b[0;32m    613\u001b[0m     spark_min_width\u001b[39m=\u001b[39;49mspark_min_width,\n\u001b[0;32m    614\u001b[0m     training_mode\u001b[39m=\u001b[39;49mtraining_mode,\n\u001b[0;32m    615\u001b[0m     debug\u001b[39m=\u001b[39;49mdebug\n\u001b[0;32m    616\u001b[0m )\n\u001b[0;32m    618\u001b[0m \u001b[39m# get number of predicted events per class\u001b[39;00m\n\u001b[0;32m    619\u001b[0m \u001b[39m# for ca_event in ca_release_events:\u001b[39;00m\n\u001b[0;32m    620\u001b[0m \u001b[39m#     # n_preds_per_class[ca_event] += (\u001b[39;00m\n\u001b[1;32m   (...)\u001b[0m\n\u001b[0;32m    633\u001b[0m \n\u001b[0;32m    634\u001b[0m \u001b[39m# stack annotations and remove marginal frames\u001b[39;00m\n\u001b[0;32m    635\u001b[0m ys_concat\u001b[39m.\u001b[39mappend(empty_marginal_frames(\n\u001b[0;32m    636\u001b[0m     video\u001b[39m=\u001b[39mys, n_frames\u001b[39m=\u001b[39mignore_frames))\n",
      "File \u001b[1;32mc:\\Users\\dotti\\sparks_project\\sparks\\data_processing_tools.py:850\u001b[0m, in \u001b[0;36mget_processed_result\u001b[1;34m(sparks, puffs, waves, xs, conn_mask, connectivity, max_gap, sigma, wave_min_width, puff_min_t, spark_min_t, spark_min_width, training_mode, debug)\u001b[0m\n\u001b[0;32m    847\u001b[0m preds_segmentation[\u001b[39m\"\u001b[39m\u001b[39mpuffs\u001b[39m\u001b[39m\"\u001b[39m] \u001b[39m=\u001b[39m preds_instances[\u001b[39m\"\u001b[39m\u001b[39mpuffs\u001b[39m\u001b[39m\"\u001b[39m]\u001b[39m.\u001b[39mastype(\u001b[39mbool\u001b[39m)\n\u001b[0;32m    849\u001b[0m \u001b[39m# Sparks\u001b[39;00m\n\u001b[1;32m--> 850\u001b[0m preds_instances[\u001b[39m\"\u001b[39m\u001b[39msparks\u001b[39m\u001b[39m\"\u001b[39m] \u001b[39m=\u001b[39m remove_small_events(\n\u001b[0;32m    851\u001b[0m     class_instances\u001b[39m=\u001b[39;49mpreds_instances[\u001b[39m\"\u001b[39;49m\u001b[39msparks\u001b[39;49m\u001b[39m\"\u001b[39;49m],\n\u001b[0;32m    852\u001b[0m     class_type\u001b[39m=\u001b[39;49m\u001b[39m\"\u001b[39;49m\u001b[39msparks\u001b[39;49m\u001b[39m\"\u001b[39;49m,\n\u001b[0;32m    853\u001b[0m     min_t\u001b[39m=\u001b[39;49mspark_min_t,\n\u001b[0;32m    854\u001b[0m     min_width\u001b[39m=\u001b[39;49mspark_min_width,\n\u001b[0;32m    855\u001b[0m )\n\u001b[0;32m    857\u001b[0m \u001b[39m# update segmented predicted mask accordingly\u001b[39;00m\n\u001b[0;32m    858\u001b[0m preds_segmentation[\u001b[39m\"\u001b[39m\u001b[39msparks\u001b[39m\u001b[39m\"\u001b[39m] \u001b[39m=\u001b[39m preds_instances[\u001b[39m\"\u001b[39m\u001b[39msparks\u001b[39m\u001b[39m\"\u001b[39m]\u001b[39m.\u001b[39mastype(\u001b[39mbool\u001b[39m)\n",
      "File \u001b[1;32mc:\\Users\\dotti\\sparks_project\\sparks\\data_processing_tools.py:739\u001b[0m, in \u001b[0;36mremove_small_events\u001b[1;34m(class_instances, class_type, min_t, min_width, max_gap)\u001b[0m\n\u001b[0;32m    737\u001b[0m \u001b[39mfor\u001b[39;00m idx \u001b[39min\u001b[39;00m events_ids:\n\u001b[0;32m    738\u001b[0m     event_roi \u001b[39m=\u001b[39m class_instances \u001b[39m==\u001b[39m idx\n\u001b[1;32m--> 739\u001b[0m     slices \u001b[39m=\u001b[39m ndi\u001b[39m.\u001b[39;49mmeasurements\u001b[39m.\u001b[39;49mfind_objects(event_roi)[\u001b[39m0\u001b[39m]\n\u001b[0;32m    741\u001b[0m     \u001b[39mif\u001b[39;00m class_type \u001b[39min\u001b[39;00m [\u001b[39m\"\u001b[39m\u001b[39msparks\u001b[39m\u001b[39m\"\u001b[39m, \u001b[39m\"\u001b[39m\u001b[39mwaves\u001b[39m\u001b[39m\"\u001b[39m]:\n\u001b[0;32m    742\u001b[0m         \u001b[39massert\u001b[39;00m min_width \u001b[39mis\u001b[39;00m \u001b[39mnot\u001b[39;00m \u001b[39mNone\u001b[39;00m, \u001b[39m\"\u001b[39m\u001b[39mProvide \u001b[39m\u001b[39m'\u001b[39m\u001b[39mmin_width\u001b[39m\u001b[39m'\u001b[39m\u001b[39m with sparks and waves.\u001b[39m\u001b[39m\"\u001b[39m\n",
      "File \u001b[1;32mc:\\Users\\dotti\\.conda\\envs\\sparks\\lib\\site-packages\\scipy\\ndimage\\_measurements.py:307\u001b[0m, in \u001b[0;36mfind_objects\u001b[1;34m(input, max_label)\u001b[0m\n\u001b[0;32m    304\u001b[0m \u001b[39mif\u001b[39;00m max_label \u001b[39m<\u001b[39m \u001b[39m1\u001b[39m:\n\u001b[0;32m    305\u001b[0m     max_label \u001b[39m=\u001b[39m \u001b[39minput\u001b[39m\u001b[39m.\u001b[39mmax()\n\u001b[1;32m--> 307\u001b[0m \u001b[39mreturn\u001b[39;00m _nd_image\u001b[39m.\u001b[39;49mfind_objects(\u001b[39minput\u001b[39;49m, max_label)\n",
      "\u001b[1;31mKeyboardInterrupt\u001b[0m: "
     ]
    }
   ],
   "source": [
    "if c.getboolean(\"general\", \"testing\", fallback=False):  # Run final validation\n",
    "    logger.info(\"Starting final validation\")\n",
    "    trainer.run_validation(wandb_log=wandb_log)"
   ]
  },
  {
   "cell_type": "code",
   "execution_count": 27,
   "metadata": {},
   "outputs": [
    {
     "data": {
      "text/html": [
       "Waiting for W&B process to finish... <strong style=\"color:green\">(success).</strong>"
      ],
      "text/plain": [
       "<IPython.core.display.HTML object>"
      ]
     },
     "metadata": {},
     "output_type": "display_data"
    },
    {
     "data": {
      "application/vnd.jupyter.widget-view+json": {
       "model_id": "a3e742859e5a43aaa3636a961db3b8ca",
       "version_major": 2,
       "version_minor": 0
      },
      "text/plain": [
       "VBox(children=(Label(value='0.000 MB of 0.000 MB uploaded (0.000 MB deduped)\\r'), FloatProgress(value=1.0, max…"
      ]
     },
     "metadata": {},
     "output_type": "display_data"
    },
    {
     "data": {
      "text/html": [
       "<style>\n",
       "    table.wandb td:nth-child(1) { padding: 0 10px; text-align: left ; width: auto;} td:nth-child(2) {text-align: left ; width: 100%}\n",
       "    .wandb-row { display: flex; flex-direction: row; flex-wrap: wrap; justify-content: flex-start; width: 100% }\n",
       "    .wandb-col { display: flex; flex-direction: column; flex-basis: 100%; flex: 1; padding: 10px; }\n",
       "    </style>\n",
       "<div class=\"wandb-row\"><div class=\"wandb-col\"><h3>Run history:</h3><br/><table class=\"wandb\"><tr><td>U-Net training loss</td><td>▁</td></tr><tr><td>average/correctly_classified</td><td>▁</td></tr><tr><td>average/detected</td><td>▁</td></tr><tr><td>average/precision</td><td>▁</td></tr><tr><td>average/recall</td><td>▁</td></tr><tr><td>puffs/correctly_classified</td><td>▁</td></tr><tr><td>puffs/detected</td><td>▁</td></tr><tr><td>puffs/precision</td><td>▁</td></tr><tr><td>puffs/recall</td><td>▁</td></tr><tr><td>segmentation/average_IoU</td><td>▁</td></tr><tr><td>segmentation/puffs_IoU</td><td>▁</td></tr><tr><td>segmentation/sparks_IoU</td><td>▁</td></tr><tr><td>segmentation/waves_IoU</td><td>▁</td></tr><tr><td>sparks/correctly_classified</td><td>▁</td></tr><tr><td>sparks/detected</td><td>▁</td></tr><tr><td>sparks/precision</td><td>▁</td></tr><tr><td>sparks/recall</td><td>▁</td></tr><tr><td>validation_loss</td><td>▁</td></tr><tr><td>waves/correctly_classified</td><td>▁</td></tr><tr><td>waves/detected</td><td>▁</td></tr><tr><td>waves/precision</td><td>▁</td></tr><tr><td>waves/recall</td><td>▁</td></tr></table><br/></div><div class=\"wandb-col\"><h3>Run summary:</h3><br/><table class=\"wandb\"><tr><td>U-Net training loss</td><td>0.0</td></tr><tr><td>average/correctly_classified</td><td>0.67205</td></tr><tr><td>average/detected</td><td>0.83842</td></tr><tr><td>average/precision</td><td>0.224</td></tr><tr><td>average/recall</td><td>0.55431</td></tr><tr><td>puffs/correctly_classified</td><td>0.4</td></tr><tr><td>puffs/detected</td><td>0.75676</td></tr><tr><td>puffs/precision</td><td>0.14054</td></tr><tr><td>puffs/recall</td><td>0.44595</td></tr><tr><td>segmentation/average_IoU</td><td>0.13016</td></tr><tr><td>segmentation/puffs_IoU</td><td>0.12048</td></tr><tr><td>segmentation/sparks_IoU</td><td>0.06632</td></tr><tr><td>segmentation/waves_IoU</td><td>0.20368</td></tr><tr><td>sparks/correctly_classified</td><td>0.61616</td></tr><tr><td>sparks/detected</td><td>0.75849</td></tr><tr><td>sparks/precision</td><td>0.13147</td></tr><tr><td>sparks/recall</td><td>0.71698</td></tr><tr><td>validation_loss</td><td>1.35673</td></tr><tr><td>waves/correctly_classified</td><td>1.0</td></tr><tr><td>waves/detected</td><td>1.0</td></tr><tr><td>waves/precision</td><td>0.4</td></tr><tr><td>waves/recall</td><td>0.5</td></tr></table><br/></div></div>"
      ],
      "text/plain": [
       "<IPython.core.display.HTML object>"
      ]
     },
     "metadata": {},
     "output_type": "display_data"
    },
    {
     "data": {
      "text/html": [
       " View run <strong style=\"color:#cdcd00\">focal_loss_updated_physio</strong> at: <a href='https://wandb.ai/dottip/TEST/runs/focal_loss_updated_physio' target=\"_blank\">https://wandb.ai/dottip/TEST/runs/focal_loss_updated_physio</a><br/>Synced 3 W&B file(s), 0 media file(s), 0 artifact file(s) and 0 other file(s)"
      ],
      "text/plain": [
       "<IPython.core.display.HTML object>"
      ]
     },
     "metadata": {},
     "output_type": "display_data"
    },
    {
     "data": {
      "text/html": [
       "Find logs at: <code>.\\wandb\\run-20230327_143910-focal_loss_updated_physio\\logs</code>"
      ],
      "text/plain": [
       "<IPython.core.display.HTML object>"
      ]
     },
     "metadata": {},
     "output_type": "display_data"
    }
   ],
   "source": [
    "if wandb_log:\n",
    "    wandb.finish()\n"
   ]
  },
  {
   "cell_type": "code",
   "execution_count": null,
   "metadata": {},
   "outputs": [],
   "source": []
  },
  {
   "cell_type": "code",
   "execution_count": null,
   "metadata": {},
   "outputs": [],
   "source": []
  },
  {
   "cell_type": "code",
   "execution_count": null,
   "metadata": {},
   "outputs": [],
   "source": []
  },
  {
   "attachments": {},
   "cell_type": "markdown",
   "metadata": {},
   "source": [
    "# Visualize UNet architecture"
   ]
  },
  {
   "cell_type": "code",
   "execution_count": null,
   "metadata": {},
   "outputs": [],
   "source": [
    "# get number of trainable parameters\n",
    "num_params = sum(p.numel() for p in network.parameters() if p.requires_grad)\n",
    "logger.debug(f\"Number of trainable parameters: {num_params}\")"
   ]
  },
  {
   "cell_type": "code",
   "execution_count": null,
   "metadata": {},
   "outputs": [],
   "source": [
    "# get dummy unet input\n",
    "batch = next(iter(dataset_loader))\n",
    "x = batch[0].to(device)\n",
    "yhat = network(x[:,None]) # Give dummy batch to forward()"
   ]
  },
  {
   "cell_type": "code",
   "execution_count": null,
   "metadata": {},
   "outputs": [],
   "source": [
    "from torchviz import make_dot"
   ]
  },
  {
   "cell_type": "code",
   "execution_count": null,
   "metadata": {},
   "outputs": [],
   "source": [
    "make_dot(yhat, params=dict(list(network.named_parameters()))).render(\"unet_model\", format=\"png\")"
   ]
  },
  {
   "cell_type": "code",
   "execution_count": null,
   "metadata": {},
   "outputs": [],
   "source": []
  }
 ],
 "metadata": {
  "kernelspec": {
   "display_name": "sparks",
   "language": "python",
   "name": "python3"
  },
  "language_info": {
   "codemirror_mode": {
    "name": "ipython",
    "version": 3
   },
   "file_extension": ".py",
   "mimetype": "text/x-python",
   "name": "python",
   "nbconvert_exporter": "python",
   "pygments_lexer": "ipython3",
   "version": "3.8.16"
  },
  "orig_nbformat": 4,
  "vscode": {
   "interpreter": {
    "hash": "d33eb8e81965b779f2871c6ab1ae98a760df4ff814358c9a5efa0a44482010f7"
   }
  }
 },
 "nbformat": 4,
 "nbformat_minor": 2
}
