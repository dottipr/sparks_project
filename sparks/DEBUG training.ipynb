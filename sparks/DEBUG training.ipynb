{
 "cells": [
  {
   "cell_type": "code",
   "execution_count": 1,
   "metadata": {},
   "outputs": [],
   "source": [
    "%load_ext autoreload\n",
    "%autoreload 2"
   ]
  },
  {
   "cell_type": "code",
   "execution_count": 2,
   "metadata": {},
   "outputs": [
    {
     "name": "stdout",
     "output_type": "stream",
     "text": [
      "\n",
      "\n",
      "Please cite the following paper when using nnUNet:\n",
      "\n",
      "Isensee, F., Jaeger, P.F., Kohl, S.A.A. et al. \"nnU-Net: a self-configuring method for deep learning-based biomedical image segmentation.\" Nat Methods (2020). https://doi.org/10.1038/s41592-020-01008-z\n",
      "\n",
      "\n",
      "If you have questions or suggestions, feel free to open an issue at https://github.com/MIC-DKFZ/nnUNet\n",
      "\n"
     ]
    }
   ],
   "source": [
    "import logging\n",
    "import os\n",
    "\n",
    "import numpy as np\n",
    "import torch\n",
    "import wandb\n",
    "from torch import nn, optim\n",
    "# from torch.cuda.amp import GradScaler\n",
    "from torch.utils.data import DataLoader\n",
    "from torch.utils.tensorboard import SummaryWriter\n",
    "from training_inference_tools import (\n",
    "    sampler,\n",
    "    test_function,\n",
    "    training_step,\n",
    "    weights_init,\n",
    "    myTrainingManager\n",
    ")\n",
    "from training_script_utils import (\n",
    "    init_param_config_logs,\n",
    "    init_training_dataset,\n",
    "    init_testing_dataset,\n",
    "    init_model,\n",
    "    init_criterion\n",
    ")\n",
    "import unet\n",
    "\n",
    "logger = logging.getLogger(__name__)\n",
    "torch.set_float32_matmul_precision('high')"
   ]
  },
  {
   "cell_type": "code",
   "execution_count": 3,
   "metadata": {},
   "outputs": [],
   "source": [
    "############################# fixed parameters #############################\n",
    "\n",
    "# General params\n",
    "logfile = None  # change this when publishing finished project on github\n",
    "#wandb_project_name = \"sparks2\"\n",
    "output_relative_path = \"runs\"  # directory where output, saved params and\n",
    "# testing results are saved\n",
    "\n",
    "# Dataset parameters\n",
    "ignore_index = 4  # label ignored during training\n",
    "num_classes = 4  # i.e., BG, sparks, waves, puffs\n",
    "ndims = 3  # using 3D data\n",
    "\n",
    "debug_mode = True"
   ]
  },
  {
   "cell_type": "code",
   "execution_count": 4,
   "metadata": {},
   "outputs": [
    {
     "name": "stdout",
     "output_type": "stream",
     "text": [
      "[14:58:22] [  INFO  ] [training_script_utils] < 97 > -- Loading config_files\\config_final_model_blur_frames_nll_loss.ini\n",
      "[14:58:22] [  INFO  ] [training_script_utils] <203 > -- Command parameters:\n",
      "[14:58:22] [  INFO  ] [training_script_utils] <205 > --                 run_name: final_model_blur_frames_nll_loss\n",
      "[14:58:22] [  INFO  ] [training_script_utils] <205 > --            load_run_name: None\n",
      "[14:58:22] [  INFO  ] [training_script_utils] <205 > --               load_epoch: 0\n",
      "[14:58:22] [  INFO  ] [training_script_utils] <205 > --             train_epochs: 100000\n",
      "[14:58:22] [  INFO  ] [training_script_utils] <205 > --                criterion: nll_loss\n",
      "[14:58:22] [  INFO  ] [training_script_utils] <205 > --                 lr_start: 0.0001\n",
      "[14:58:22] [  INFO  ] [training_script_utils] <205 > --       ignore_frames_loss: 6\n",
      "[14:58:22] [  INFO  ] [training_script_utils] <205 > --                     cuda: True\n",
      "[14:58:22] [  INFO  ] [training_script_utils] <205 > --                scheduler: None\n",
      "[14:58:22] [  INFO  ] [training_script_utils] <205 > --                optimizer: adam\n",
      "[14:58:22] [  INFO  ] [training_script_utils] <205 > --            relative_path: ../data/sparks_dataset\n",
      "[14:58:22] [  INFO  ] [training_script_utils] <205 > --             dataset_size: minimal\n",
      "[14:58:22] [  INFO  ] [training_script_utils] <205 > --               batch_size: 4\n",
      "[14:58:22] [  INFO  ] [training_script_utils] <205 > --              num_workers: 0\n",
      "[14:58:22] [  INFO  ] [training_script_utils] <205 > --            data_duration: 256\n",
      "[14:58:22] [  INFO  ] [training_script_utils] <205 > --                data_step: 32\n",
      "[14:58:22] [  INFO  ] [training_script_utils] <205 > --        testing_data_step: 32\n",
      "[14:58:22] [  INFO  ] [training_script_utils] <205 > --           data_smoothing: 2d\n",
      "[14:58:22] [  INFO  ] [training_script_utils] <205 > --               norm_video: abs_max\n",
      "[14:58:22] [  INFO  ] [training_script_utils] <205 > --        remove_background: no\n",
      "[14:58:22] [  INFO  ] [training_script_utils] <205 > --              only_sparks: False\n",
      "[14:58:22] [  INFO  ] [training_script_utils] <205 > --  noise_data_augmentation: False\n",
      "[14:58:22] [  INFO  ] [training_script_utils] <205 > --              sparks_type: raw\n",
      "[14:58:22] [  INFO  ] [training_script_utils] <205 > --                inference: overlap\n",
      "[14:58:22] [  INFO  ] [training_script_utils] <205 > --          nn_architecture: pablos_unet\n",
      "[14:58:22] [  INFO  ] [training_script_utils] <205 > --               unet_steps: 6\n",
      "[14:58:22] [  INFO  ] [training_script_utils] <205 > --     first_layer_channels: 8\n",
      "[14:58:22] [  INFO  ] [training_script_utils] <205 > --             num_channels: 1\n",
      "[14:58:22] [  INFO  ] [training_script_utils] <205 > --                 dilation: 1\n",
      "[14:58:22] [  INFO  ] [training_script_utils] <205 > --              border_mode: same\n",
      "[14:58:22] [  INFO  ] [training_script_utils] <205 > --      batch_normalization: none\n",
      "[14:58:22] [  INFO  ] [training_script_utils] <205 > --       temporal_reduction: False\n",
      "[14:58:22] [  INFO  ] [training_script_utils] <205 > --       initialize_weights: False\n"
     ]
    }
   ],
   "source": [
    "############################## get parameters ##############################\n",
    "\n",
    "c, params, wandb_log = init_param_config_logs(\n",
    "    basedir=None,\n",
    "    verbosity=3 if debug_mode else 2,\n",
    "    wandb_project_name=\"TEST\",\n",
    "    config_file=\"config_final_model_blur_frames_nll_loss.ini\"\n",
    "    #config_file=\"config_final_model.ini\"\n",
    "    )"
   ]
  },
  {
   "cell_type": "code",
   "execution_count": 5,
   "metadata": {},
   "outputs": [
    {
     "name": "stdout",
     "output_type": "stream",
     "text": [
      "[14:58:22] [  INFO  ] [  __main__  ] < 27 > -- Using torch device cuda, with 1 GPUs\n",
      "[14:58:22] [  INFO  ] [  __main__  ] < 39 > -- Normalizing whole video using 16-bit absolute max\n",
      "[14:58:22] [  INFO  ] [  datasets  ] <206 > -- Applying 2d gaussian blur to videos...\n",
      "[14:58:22] [ DEBUG  ] [  datasets  ] <293 > -- Added padding of 12 frames to video with unsuitable duration\n"
     ]
    }
   ],
   "source": [
    "############################ configure datasets ############################\n",
    "\n",
    "# select samples that are used for training and testing\n",
    "if params[\"dataset_size\"] == \"full\":\n",
    "    train_sample_ids = [\"01\",\"02\",\"03\",\"04\",\"06\",\"07\",\"08\",\"09\",\n",
    "                        \"11\",\"12\",\"13\",\"14\",\"16\",\"17\",\"18\",\"19\",\n",
    "                        \"21\",\"22\",\"23\",\"24\",\"27\",\"28\",\"29\",\"30\",\n",
    "                        \"33\",\"35\",\"36\",\"38\",\"39\",\"41\",\"42\",\"43\",\n",
    "                        \"44\",\"46\"]\n",
    "    test_sample_ids = [\"05\", \"10\", \"15\", \"20\", \"25\", \"32\", \"34\", \"40\", \"45\"]\n",
    "elif params[\"dataset_size\"] == \"minimal\":\n",
    "    train_sample_ids = [\"01\"]\n",
    "    test_sample_ids = [\"34\"]\n",
    "else:\n",
    "    logger.error(f\"{params['dataset_size']} is not a valid dataset size.\")\n",
    "    exit()\n",
    "\n",
    "# detect CUDA devices\n",
    "if params[\"cuda\"]:\n",
    "#if False:\n",
    "    device = torch.device(\"cuda\" if torch.cuda.is_available() else \"cpu\")\n",
    "    pin_memory = True\n",
    "else:\n",
    "    device = \"cpu\"\n",
    "    pin_memory = False\n",
    "n_gpus = torch.cuda.device_count()\n",
    "logger.info(f\"Using torch device {device}, with {n_gpus} GPUs\")\n",
    "\n",
    "# set if temporal reduction is used\n",
    "if params[\"temporal_reduction\"]:\n",
    "    logger.info(f\"Using temporal reduction with {params['num_channels']} channels\")\n",
    "\n",
    "# normalize whole videos or chunks individually\n",
    "if params[\"norm_video\"] == \"chunk\":\n",
    "    logger.info(\"Normalizing each chunk using min and max\")\n",
    "elif params[\"norm_video\"] == \"movie\":\n",
    "    logger.info(\"Normalizing whole video using min and max\")\n",
    "elif params[\"norm_video\"] == \"abs_max\":\n",
    "    logger.info(\"Normalizing whole video using 16-bit absolute max\")\n",
    "\n",
    "dataset_path = os.path.realpath(f\"{params['relative_path']}\")\n",
    "\n",
    "# initialize training dataset\n",
    "dataset = init_training_dataset(\n",
    "    params=params, train_sample_ids=train_sample_ids, ignore_index=ignore_index,\n",
    "    dataset_path=dataset_path\n",
    "    )\n"
   ]
  },
  {
   "cell_type": "code",
   "execution_count": 6,
   "metadata": {},
   "outputs": [],
   "source": [
    "# train with only one batch\n",
    "# ids = np.arange(0, params[\"batch_size\"], 1, dtype=np.int64)\n",
    "# dataset = torch.utils.data.Subset(dataset, ids)"
   ]
  },
  {
   "cell_type": "code",
   "execution_count": 7,
   "metadata": {},
   "outputs": [
    {
     "name": "stdout",
     "output_type": "stream",
     "text": [
      "[14:58:22] [  INFO  ] [  __main__  ] < 1  > -- Samples in training dataset: 9\n",
      "[14:58:22] [WARNING ] [tifffile.tifffile] <16549> -- TiffPage 0: TypeError: read_bytes() missing 3 required positional arguments: 'dtype', 'count', and 'offsetsize'\n",
      "[14:58:22] [WARNING ] [tifffile.tifffile] <16549> -- TiffPage 0: TypeError: read_bytes() missing 3 required positional arguments: 'dtype', 'count', and 'offsetsize'\n",
      "[14:58:23] [ DEBUG  ] [  datasets  ] <190 > -- Computing spark peaks...\n",
      "[14:58:26] [ DEBUG  ] [  datasets  ] <197 > -- Sample 34 contains 16 sparks.\n",
      "[14:58:26] [  INFO  ] [  datasets  ] <206 > -- Applying 2d gaussian blur to videos...\n",
      "[14:58:26] [ DEBUG  ] [  datasets  ] <293 > -- Added padding of 24 frames to video with unsuitable duration\n",
      "[14:58:26] [  INFO  ] [  __main__  ] < 10 > -- Testing dataset 0 contains 22 samples\n"
     ]
    }
   ],
   "source": [
    "logger.info(f\"Samples in training dataset: {len(dataset)}\")\n",
    "\n",
    "# initialize testing dataset\n",
    "testing_datasets = init_testing_dataset(\n",
    "    params=params, test_sample_ids=test_sample_ids, ignore_index=ignore_index,\n",
    "    dataset_path=dataset_path\n",
    "    )\n",
    "\n",
    "for i, tds in enumerate(testing_datasets):\n",
    "    logger.info(f\"Testing dataset {i} contains {len(tds)} samples\")\n",
    "\n",
    "# initialize data loaders\n",
    "dataset_loader = DataLoader(\n",
    "    dataset,\n",
    "    batch_size=params[\"batch_size\"],\n",
    "    shuffle=True,\n",
    "    num_workers=params[\"num_workers\"],\n",
    "    pin_memory=pin_memory,\n",
    ")"
   ]
  },
  {
   "cell_type": "code",
   "execution_count": 8,
   "metadata": {},
   "outputs": [],
   "source": [
    "############################## configure UNet ##############################\n",
    "\n",
    "network = init_model(params=params, num_classes=num_classes, ndims=ndims)\n",
    "\n",
    "if device != \"cpu\":\n",
    "    network = nn.DataParallel(network).to(device)\n",
    "    torch.backends.cudnn.benchmark = True\n",
    "\n",
    "if wandb_log:\n",
    "    wandb.watch(network)\n",
    "\n",
    "if params[\"initialize_weights\"]:\n",
    "    logger.info(\"Initializing UNet weights...\")\n",
    "    network.apply(weights_init)\n",
    "\n",
    "#torch.compile(network, mode=\"default\", backend=\"inductor\")\n",
    "# does not work on windows"
   ]
  },
  {
   "cell_type": "code",
   "execution_count": 9,
   "metadata": {},
   "outputs": [
    {
     "name": "stdout",
     "output_type": "stream",
     "text": [
      "[14:58:27] [ DEBUG  ] [  __main__  ] < 4  > -- Number of trainable parameters: 22631764\n"
     ]
    }
   ],
   "source": [
    "if debug_mode:\n",
    "    model_parameters = filter(lambda p: p.requires_grad, network.parameters())\n",
    "    model_parameters = sum([np.prod(p.size()) for p in model_parameters])\n",
    "    logger.debug(f\"Number of trainable parameters: {model_parameters}\")"
   ]
  },
  {
   "cell_type": "code",
   "execution_count": 10,
   "metadata": {},
   "outputs": [
    {
     "name": "stdout",
     "output_type": "stream",
     "text": [
      "[14:58:27] [  INFO  ] [  __main__  ] < 23 > -- Output directory: runs\\final_model_blur_frames_nll_loss\n",
      "[14:58:27] [  INFO  ] [training_script_utils] <429 > -- Using class weights: 0.2512798607349396, 312.7631530761719, 0.0, 58.220359802246094\n"
     ]
    }
   ],
   "source": [
    "########################### initialize training ############################\n",
    "\n",
    "if params[\"optimizer\"] == \"adam\":\n",
    "    optimizer = optim.Adam(network.parameters(), lr=params[\"lr_start\"])\n",
    "elif params[\"optimizer\"] == \"adadelta\":\n",
    "    optimizer = optim.Adadelta(network.parameters(), lr=params[\"lr_start\"])\n",
    "else:\n",
    "    logger.error(f\"{params['optimizer']} is not a valid optimizer.\")\n",
    "    exit()\n",
    "\n",
    "if params[\"scheduler\"] == \"step\":\n",
    "    scheduler = optim.lr_scheduler.StepLR(\n",
    "        optimizer,\n",
    "        step_size=params[\"scheduler_step_size\"],\n",
    "        gamma=params[\"scheduler_gamma\"],\n",
    "    )\n",
    "else:\n",
    "    scheduler = None\n",
    "\n",
    "network.train()\n",
    "\n",
    "output_path = os.path.join(output_relative_path, params[\"run_name\"])\n",
    "logger.info(f\"Output directory: {output_path}\")\n",
    "\n",
    "summary_writer = SummaryWriter(os.path.join(output_path, \"summary\"), purge_step=0)\n",
    "\n",
    "if params[\"load_run_name\"] != None:\n",
    "    load_path = os.path.join(output_relative_path, params[\"load_run_name\"])\n",
    "    logger.info(f\"Model loaded from directory: {load_path}\")\n",
    "else:\n",
    "    load_path = None\n",
    "\n",
    "# initialize loss function\n",
    "criterion = init_criterion(\n",
    "    params=params,\n",
    "    dataset=dataset,\n",
    "    ignore_index=ignore_index,\n",
    "    device=device\n",
    ")\n",
    "\n",
    "# directory where predicted class movies are saved\n",
    "preds_output_dir = os.path.join(output_path, \"predictions\")\n",
    "os.makedirs(preds_output_dir, exist_ok=True)\n",
    "\n",
    "# generate dict of managed objects\n",
    "managed_objects = {\"network\": network, \"optimizer\": optimizer}\n",
    "if scheduler is not None:\n",
    "    managed_objects[\"scheduler\"] = scheduler\n",
    "\n",
    "trainer = myTrainingManager(\n",
    "    # training items\n",
    "    training_step=lambda _: training_step(\n",
    "        sampler=sampler,\n",
    "        network=network,\n",
    "        optimizer=optimizer,\n",
    "        # scaler=GradScaler(),\n",
    "        scheduler=scheduler,\n",
    "        device=device,\n",
    "        criterion=criterion,\n",
    "        dataset_loader=dataset_loader,\n",
    "        ignore_frames=params[\"ignore_frames_loss\"],\n",
    "    ),\n",
    "    save_every=c.getint(\"training\", \"save_every\", fallback=5000),\n",
    "    load_path=load_path,\n",
    "    save_path=output_path,\n",
    "    managed_objects=unet.managed_objects(managed_objects),\n",
    "    # testing items\n",
    "    test_function=lambda _: test_function(\n",
    "        network=network,\n",
    "        device=device,\n",
    "        criterion=criterion,\n",
    "        testing_datasets=testing_datasets,\n",
    "        ignore_frames=params[\"ignore_frames_loss\"],\n",
    "        training_name=params[\"run_name\"],\n",
    "        output_dir=preds_output_dir,\n",
    "        batch_size=params[\"batch_size\"],\n",
    "        training_mode=True,\n",
    "        debug=debug_mode,\n",
    "    ),\n",
    "    test_every=c.getint(\"training\", \"test_every\", fallback=1000),\n",
    "    plot_every=c.getint(\"training\", \"test_every\", fallback=1000),\n",
    "    summary_writer=summary_writer,\n",
    ")"
   ]
  },
  {
   "cell_type": "code",
   "execution_count": 11,
   "metadata": {},
   "outputs": [],
   "source": [
    "############################ init random seeds #############################\n",
    "import random\n",
    "\n",
    "torch.manual_seed(0)\n",
    "random.seed(0)\n",
    "np.random.seed(0)"
   ]
  },
  {
   "cell_type": "code",
   "execution_count": 12,
   "metadata": {},
   "outputs": [],
   "source": [
    "#for load_epoch in [10000,20000,30000,40000,50000,60000,70000,80000,90000,100000]:\n",
    "# for load_epoch in [100000]:\n",
    "#     trainer.load(load_epoch)\n",
    "#     logger.info(\"Starting final validation\")\n",
    "#     trainer.run_validation(wandb_log=wandb_log)\n",
    "# if wandb_log:\n",
    "#     wandb.finish()"
   ]
  },
  {
   "cell_type": "code",
   "execution_count": 13,
   "metadata": {},
   "outputs": [],
   "source": [
    "############################## load model ##############################\n",
    "if params[\"load_epoch\"] != 0:\n",
    "    # trainer.load(10000)\n",
    "    trainer.load(params[\"load_epoch\"])\n"
   ]
  },
  {
   "cell_type": "code",
   "execution_count": 14,
   "metadata": {},
   "outputs": [
    {
     "name": "stdout",
     "output_type": "stream",
     "text": [
      "[14:58:29] [  INFO  ] [  __main__  ] < 6  > -- Starting training\n",
      "[14:58:52] [  INFO  ] [training_inference_tools] <102 > -- Iteration 0...\n",
      "[14:58:52] [  INFO  ] [training_inference_tools] <103 > -- \tTraining loss: 1.395\n",
      "[14:58:52] [  INFO  ] [training_inference_tools] <104 > -- \tTime elapsed: 25.72s\n"
     ]
    },
    {
     "ename": "",
     "evalue": "",
     "output_type": "error",
     "traceback": [
      "\u001b[1;31mCannot execute code, session has been disposed. Please try restarting the Kernel."
     ]
    },
    {
     "ename": "",
     "evalue": "",
     "output_type": "error",
     "traceback": [
      "\u001b[1;31mThe Kernel crashed while executing code in the the current cell or a previous cell. Please review the code in the cell(s) to identify a possible cause of the failure. Click <a href='https://aka.ms/vscodeJupyterKernelCrash'>here</a> for more info. View Jupyter <a href='command:jupyter.viewOutput'>log</a> for further details."
     ]
    }
   ],
   "source": [
    "############################## start training ##############################\n",
    "\n",
    "if c.getboolean(\"general\", \"training\", fallback=False):  # Run training procedure on data\n",
    "    # logger.info(\"Validate network before training\")\n",
    "    # trainer.run_validation(wandb_log=wandb_log)\n",
    "    logger.info(\"Starting training\")\n",
    "    trainer.train(\n",
    "        params[\"train_epochs\"],\n",
    "        print_every=c.getint(\"training\", \"print_every\", fallback=100),\n",
    "        wandb_log=wandb_log,\n",
    "    )\n"
   ]
  },
  {
   "cell_type": "code",
   "execution_count": null,
   "metadata": {},
   "outputs": [],
   "source": [
    "############################## run final validation ##############################\n",
    "\n",
    "if c.getboolean(\"general\", \"testing\", fallback=False):  \n",
    "    logger.info(\"Starting final validation\")\n",
    "    trainer.run_validation(wandb_log=wandb_log)"
   ]
  },
  {
   "cell_type": "code",
   "execution_count": null,
   "metadata": {},
   "outputs": [
    {
     "data": {
      "text/html": [
       "Waiting for W&B process to finish... <strong style=\"color:green\">(success).</strong>"
      ],
      "text/plain": [
       "<IPython.core.display.HTML object>"
      ]
     },
     "metadata": {},
     "output_type": "display_data"
    },
    {
     "data": {
      "application/vnd.jupyter.widget-view+json": {
       "model_id": "f4f7ad7d4bca44828752c391a96a84af",
       "version_major": 2,
       "version_minor": 0
      },
      "text/plain": [
       "VBox(children=(Label(value='0.001 MB of 0.657 MB uploaded (0.000 MB deduped)\\r'), FloatProgress(value=0.001939…"
      ]
     },
     "metadata": {},
     "output_type": "display_data"
    },
    {
     "data": {
      "text/html": [
       "<style>\n",
       "    table.wandb td:nth-child(1) { padding: 0 10px; text-align: left ; width: auto;} td:nth-child(2) {text-align: left ; width: 100%}\n",
       "    .wandb-row { display: flex; flex-direction: row; flex-wrap: wrap; justify-content: flex-start; width: 100% }\n",
       "    .wandb-col { display: flex; flex-direction: column; flex-basis: 100%; flex: 1; padding: 10px; }\n",
       "    </style>\n",
       "<div class=\"wandb-row\"><div class=\"wandb-col\"><h3>Run history:</h3><br/><table class=\"wandb\"><tr><td>U-Net training loss</td><td>▇▃▂▂▂▁▁▁▁▁▁▁▁▁▁▁▁▁▁▁▁▁▁▁████▅▃▂▂▁▁▁▁▁▁▁▁</td></tr><tr><td>average/correctly_classified</td><td>▃▆▄▆▅▅▅█▇▇▆▅▅▆▆▆▆▇█▇▇▇▇▇▁▁▁▁▅▁▁█▄▄▄▄▄▄▃▄</td></tr><tr><td>average/detected</td><td>▇███████████████████████▇▁▁▁▆▄▄▄▆▆▆▆▆▆▇▆</td></tr><tr><td>average/precision</td><td>▂▆▄▆▅▅▅█▇▆▆▅▄▅▄▄▄▇▇▇▇▇▇▇▁▁▁▁▅▁▁█▄▄▄▄▄▄▃▄</td></tr><tr><td>average/recall</td><td>▅█▅█████████████████████▁▁▁▁▅▁▁▅▅▅▅▅▅▅▅▅</td></tr><tr><td>puffs/correctly_classified</td><td>▃▆▄▆▅▅▅█▇▇▆▅▅▆▆▆▆▇█▇▇▇▇▇▁▁▁▁▅▁▁█▄▄▄▄▄▄▃▄</td></tr><tr><td>puffs/detected</td><td>▅███████████████████████▅▁▁▁▅▁▁▅████████</td></tr><tr><td>puffs/precision</td><td>▂▆▄▆▅▅▅█▇▆▆▅▄▅▄▄▄▇▇▇▇▇▇▇▁▁▁▁▅▁▁█▄▄▄▄▄▄▃▄</td></tr><tr><td>puffs/recall</td><td>▅█▅█████████████████████▁▁▁▁▅▁▁▅▅▅▅▅▅▅▅▅</td></tr><tr><td>segmentation/average_IoU</td><td>▁▄▃▄▄▄▆▆▆█▇█▇▇▇▇▇▆▆▆▆▅▅▅▁▁▁▁▆▁▁▂▂▃▄▄▄▄▄▄</td></tr><tr><td>segmentation/puffs_IoU</td><td>▁▄▃▄▄▄▆▆▆█▇█▇▇▇▇▇▆▆▆▆▅▅▅▁▁▁▁▆▁▁▂▂▃▄▄▄▄▄▄</td></tr><tr><td>segmentation/sparks_IoU</td><td>▁▁▁▁▁▁▁▁▁▁▁▁▁▁▁▁▁▁▁▁▁▁▁▁▁▁▁▁▁▁▁▁▁▁▁▁▁▁▁▁</td></tr><tr><td>segmentation/waves_IoU</td><td>▁▁▁▁▁▁▁▁▁▁▁▁▁▁▁▁▁▁▁▁▁▁▁▁▁▁▁▁▁▁▁▁▁▁▁▁▁▁▁▁</td></tr><tr><td>sparks/correctly_classified</td><td>▁▁▁▁▁▁▁▁▁▁▁▁▁▁▁▁▁▁▁▁▁▁▁▁▁▁▁▁▁▁▁▁▁▁▁▁▁▁▁▁</td></tr><tr><td>sparks/detected</td><td>▁▁▁▁▁▁▁▁▁▁▁▁▁▁▁▁▁▁▁▁▁▁▁▁▁▁▁▁▁▁▁▁▁▁▁▁▁▁▁▁</td></tr><tr><td>sparks/precision</td><td>▁▁▁▁▁▁▁▁▁▁▁▁▁▁▁▁▁▁▁▁▁▁▁▁▁▁▁▁▁▁▁▁▁▁▁▁▁▁▁▁</td></tr><tr><td>sparks/recall</td><td>▁▁▁▁▁▁▁▁▁▁▁▁▁▁▁▁▁▁▁▁▁▁▁▁▁▁▁▁▁▁▁▁▁▁▁▁▁▁▁▁</td></tr><tr><td>validation_loss</td><td>▅▄▃▃▃▃▃▂▂▁▁▁▂▂▂▂▂▃▃▃▃▃▃▃▅▅▅▅▂▅▅▄▄▄▄▄▄▆▅█</td></tr><tr><td>waves/correctly_classified</td><td>▁▁▁▁▁▁▁▁▁▁▁▁▁▁▁▁▁▁▁▁▁▁▁▁▁▁▁▁▁▁▁▁▁▁▁▁▁▁▁▁</td></tr><tr><td>waves/detected</td><td>█████████████████████████▁▁▁▇▇▅▄▅▅▅▅▅▅▇▅</td></tr><tr><td>waves/precision</td><td>▁▁▁▁▁▁▁▁▁▁▁▁▁▁▁▁▁▁▁▁▁▁▁▁▁▁▁▁▁▁▁▁▁▁▁▁▁▁▁▁</td></tr><tr><td>waves/recall</td><td>▁▁▁▁▁▁▁▁▁▁▁▁▁▁▁▁▁▁▁▁▁▁▁▁▁▁▁▁▁▁▁▁▁▁▁▁▁▁▁▁</td></tr></table><br/></div><div class=\"wandb-col\"><h3>Run summary:</h3><br/><table class=\"wandb\"><tr><td>U-Net training loss</td><td>0.01339</td></tr><tr><td>average/correctly_classified</td><td>0.01961</td></tr><tr><td>average/detected</td><td>0.42222</td></tr><tr><td>average/precision</td><td>0.01961</td></tr><tr><td>average/recall</td><td>0.11111</td></tr><tr><td>puffs/correctly_classified</td><td>0.05882</td></tr><tr><td>puffs/detected</td><td>0.66667</td></tr><tr><td>puffs/precision</td><td>0.05882</td></tr><tr><td>puffs/recall</td><td>0.33333</td></tr><tr><td>segmentation/average_IoU</td><td>0.00271</td></tr><tr><td>segmentation/puffs_IoU</td><td>0.00812</td></tr><tr><td>segmentation/sparks_IoU</td><td>0.0</td></tr><tr><td>segmentation/waves_IoU</td><td>0.0</td></tr><tr><td>sparks/correctly_classified</td><td>0.0</td></tr><tr><td>sparks/detected</td><td>0.0</td></tr><tr><td>sparks/precision</td><td>0.0</td></tr><tr><td>sparks/recall</td><td>0.0</td></tr><tr><td>validation_loss</td><td>0.77758</td></tr><tr><td>waves/correctly_classified</td><td>0</td></tr><tr><td>waves/detected</td><td>0.6</td></tr><tr><td>waves/precision</td><td>0</td></tr><tr><td>waves/recall</td><td>0.0</td></tr></table><br/></div></div>"
      ],
      "text/plain": [
       "<IPython.core.display.HTML object>"
      ]
     },
     "metadata": {},
     "output_type": "display_data"
    },
    {
     "data": {
      "text/html": [
       " View run <strong style=\"color:#cdcd00\">openai_unet_TEST</strong> at: <a href='https://wandb.ai/dottip/TEST/runs/openai_unet_TEST' target=\"_blank\">https://wandb.ai/dottip/TEST/runs/openai_unet_TEST</a><br/>Synced 5 W&B file(s), 0 media file(s), 0 artifact file(s) and 0 other file(s)"
      ],
      "text/plain": [
       "<IPython.core.display.HTML object>"
      ]
     },
     "metadata": {},
     "output_type": "display_data"
    },
    {
     "data": {
      "text/html": [
       "Find logs at: <code>.\\wandb\\run-20230705_131358-openai_unet_TEST\\logs</code>"
      ],
      "text/plain": [
       "<IPython.core.display.HTML object>"
      ]
     },
     "metadata": {},
     "output_type": "display_data"
    },
    {
     "name": "stdout",
     "output_type": "stream",
     "text": [
      "[19:28:03] [ DEBUG  ] [urllib3.connectionpool] <1003> -- Starting new HTTPS connection (1): o151352.ingest.sentry.io:443\n",
      "[19:28:03] [ DEBUG  ] [urllib3.connectionpool] <456 > -- https://o151352.ingest.sentry.io:443 \"POST /api/4504800232407040/envelope/ HTTP/1.1\" 200 2\n"
     ]
    }
   ],
   "source": [
    "if wandb_log:\n",
    "    wandb.finish()\n"
   ]
  },
  {
   "attachments": {},
   "cell_type": "markdown",
   "metadata": {},
   "source": [
    "# Visualize UNet architecture"
   ]
  },
  {
   "cell_type": "code",
   "execution_count": null,
   "metadata": {},
   "outputs": [],
   "source": [
    "# # get number of trainable parameters\n",
    "# num_params = sum(p.numel() for p in network.parameters() if p.requires_grad)\n",
    "# logger.debug(f\"Number of trainable parameters: {num_params}\")\n",
    "# # get dummy unet input\n",
    "# batch = next(iter(dataset_loader))\n",
    "# x = batch[0].to(device)\n",
    "# yhat = network(x[:,None]) # Give dummy batch to forward()\n",
    "# from torchviz import make_dot\n",
    "# make_dot(yhat, params=dict(list(network.named_parameters()))).render(\"unet_model\", format=\"png\")\n",
    "# a = [0,1,2,3,4,5,6,7,8,9,10,11,12,13]\n",
    "\n",
    "# len(a[0:4])"
   ]
  },
  {
   "cell_type": "code",
   "execution_count": null,
   "metadata": {},
   "outputs": [],
   "source": []
  }
 ],
 "metadata": {
  "kernelspec": {
   "display_name": "sparks",
   "language": "python",
   "name": "python3"
  },
  "language_info": {
   "codemirror_mode": {
    "name": "ipython",
    "version": 3
   },
   "file_extension": ".py",
   "mimetype": "text/x-python",
   "name": "python",
   "nbconvert_exporter": "python",
   "pygments_lexer": "ipython3",
   "version": "3.8.16"
  },
  "orig_nbformat": 4,
  "vscode": {
   "interpreter": {
    "hash": "d33eb8e81965b779f2871c6ab1ae98a760df4ff814358c9a5efa0a44482010f7"
   }
  }
 },
 "nbformat": 4,
 "nbformat_minor": 2
}
