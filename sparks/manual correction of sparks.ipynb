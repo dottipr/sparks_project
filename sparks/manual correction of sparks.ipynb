{
 "cells": [
  {
   "cell_type": "markdown",
   "id": "05effa19-f13c-4995-a858-316ea5802ca2",
   "metadata": {
    "tags": []
   },
   "source": [
    "13.07.2022\n",
    "\n",
    "# Correzione manuale degli sparks\n",
    "\n",
    "- generare automaticamente file excel/csv che contiene lista # events per ogni video con params:\n",
    "    - `Movie ID`; `# event`; `duration`; `radius`; `# pixels`\n",
    "    - File salvato in  `data/raw_data_and_processing/manual_corr_separated_events_masks/sparks_analysis.xlsx`\n",
    "- ordinare gli eventi dal più grande al più piccolo e correggerli manualmente partendo dal più grande\n",
    "- Load **XX_corrected_rgb_mask_V4.tif** and **XX_corrected_label_mask_V3.tif** and save as **XX_corrected_rgb_mask_SPARKS.tif** and **XX_corrected_label_mask_SPARKS.tif**"
   ]
  },
  {
   "cell_type": "code",
   "execution_count": 2,
   "id": "ec8c2a98-25be-4d95-abc8-91c324e6b4da",
   "metadata": {},
   "outputs": [],
   "source": [
    "%load_ext autoreload\n",
    "%autoreload 2"
   ]
  },
  {
   "cell_type": "code",
   "execution_count": 3,
   "id": "7139a784-690b-456a-855f-16db08aa81ae",
   "metadata": {},
   "outputs": [],
   "source": [
    "import os\n",
    "import datetime\n",
    "import imageio\n",
    "import itertools\n",
    "import napari\n",
    "from matplotlib import cm\n",
    "import pandas as pd\n",
    "\n",
    "import numpy as np\n",
    "import math\n",
    "from PIL import Image\n",
    "from scipy import spatial, optimize\n",
    "import cc3d\n",
    "\n",
    "from metrics_tools import (correspondences_precision_recall, \n",
    "                           nonmaxima_suppression, \n",
    "                           compute_filtered_butter, \n",
    "                           get_sparks_locations_from_mask,\n",
    "                           process_spark_prediction\n",
    "                          )\n",
    "from dataset_tools import load_movies_ids, load_annotations_ids, load_rgb_annotations_ids"
   ]
  },
  {
   "cell_type": "code",
   "execution_count": 1,
   "id": "66ecdb5e-374b-4bf9-9421-220d4dab766d",
   "metadata": {},
   "outputs": [],
   "source": [
    "#movie_ids = [\"01\",\"02\",\"03\",\"04\",\"05\",\"06\",\"07\",\"08\",\"09\",\n",
    "#             \"10\",\"11\",\"12\",\"13\",\"14\",\"15\",\"16\",\"17\",\"18\",\"19\",\n",
    "#             \"20\",\"21\",\"22\",\"23\",\"24\",\"25\",\"27\",\"28\",\"29\",\n",
    "#             \"30\",\"32\",\"33\",\"34\",\"35\",\"36\",\"38\",\"39\",\n",
    "#             \"40\",\"41\",\"42\",\"43\",\"44\",\"45\",\"46\"\n",
    "#            ]\n",
    "movie_ids = ['07']"
   ]
  },
  {
   "cell_type": "code",
   "execution_count": 4,
   "id": "9fda6015-4a7e-4609-814d-49d19a6e2147",
   "metadata": {},
   "outputs": [],
   "source": [
    "data_dir = os.path.join(\"..\", \"data\", \"raw_data_and_processing\")"
   ]
  },
  {
   "cell_type": "markdown",
   "id": "13d3ac2d-0eef-4a39-9037-39d3a81277d6",
   "metadata": {
    "tags": []
   },
   "source": [
    "### directory where corrected masks are saved"
   ]
  },
  {
   "cell_type": "code",
   "execution_count": 5,
   "id": "4f27e7e9-1938-4077-9e45-c01547edf703",
   "metadata": {},
   "outputs": [],
   "source": [
    "# directory where corrected movies are saved\n",
    "corr_dir = os.path.join(data_dir, \"manual_corr_separated_event_masks\")\n",
    "os.makedirs(corr_dir, exist_ok=True)"
   ]
  },
  {
   "cell_type": "markdown",
   "id": "c36876dd-ecd6-4f66-9da4-3f187c6d1633",
   "metadata": {
    "tags": []
   },
   "source": [
    "## Save sparks list to excel file"
   ]
  },
  {
   "cell_type": "markdown",
   "id": "41b25e81-864b-447d-b787-30cb5263e62e",
   "metadata": {
    "tags": []
   },
   "source": [
    "### sparks list filename"
   ]
  },
  {
   "cell_type": "code",
   "execution_count": 6,
   "id": "4cb32027-fd05-4232-803b-a3e24955d756",
   "metadata": {},
   "outputs": [],
   "source": [
    "#filename = 'sparks_analysis.xlsx'\n",
    "filename = 'sparks_analysis_07.xlsx'"
   ]
  },
  {
   "cell_type": "markdown",
   "id": "7b98fb3e-9e62-4699-b3a7-f8ed4574b2a4",
   "metadata": {},
   "source": [
    "### function to analyse given spark"
   ]
  },
  {
   "cell_type": "code",
   "execution_count": 7,
   "id": "5c1d2d53-0b4c-4e02-a032-0919f5f250ea",
   "metadata": {},
   "outputs": [],
   "source": [
    "from scipy import ndimage"
   ]
  },
  {
   "cell_type": "code",
   "execution_count": 8,
   "id": "b3bd8092-01b3-4598-9392-d6bd88219b3a",
   "metadata": {},
   "outputs": [],
   "source": [
    "def analyse_spark_roi(spark_mask):\n",
    "    '''\n",
    "    spark_mask is the ROI denoting a spark event in the movie\n",
    "    returns sparks duration, sparks max radius and number of pixels in the ROI\n",
    "    '''\n",
    "    # pixels\n",
    "    locations = np.where(spark_mask)\n",
    "    n_pixels = len(locations[0])\n",
    "    \n",
    "    # duration\n",
    "    frames = np.unique(locations[0])\n",
    "    duration = len(frames)\n",
    "    \n",
    "    # radius\n",
    "    r = 0\n",
    "    for f in frames:\n",
    "        # calculate the distance of each foreground point to the closest background point\n",
    "        dt = ndimage.distance_transform_edt(spark_mask[f])\n",
    "        temp_r = np.amax(dt)\n",
    "        if temp_r > r:\n",
    "            r = temp_r\n",
    "            \n",
    "    return duration, r, n_pixels            "
   ]
  },
  {
   "cell_type": "markdown",
   "id": "b519dea7-5163-4cef-be26-053ee0006aa6",
   "metadata": {},
   "source": [
    "### for each movie, add list of file in pandas dataframe"
   ]
  },
  {
   "cell_type": "code",
   "execution_count": 9,
   "id": "5f6c1e3a-2bfb-4ef9-997a-8da5dacb96bc",
   "metadata": {},
   "outputs": [
    {
     "name": "stdout",
     "output_type": "stream",
     "text": [
      "07\n"
     ]
    }
   ],
   "source": [
    "# create pandas dataframe\n",
    "cols = ['Movie ID','# event','duration','radius','# pixels']\n",
    "sparks_df = pd.DataFrame(columns=cols)\n",
    "\n",
    "for movie_id in movie_ids:\n",
    "    print(movie_id)\n",
    "    # open events mask and label mask\n",
    "    events_mask = load_annotations_ids(data_folder=corr_dir, \n",
    "                                       ids=[movie_id], \n",
    "                                       mask_names=\"corrected_rgb_mask_V4\")[movie_id]\n",
    "    classes_mask = load_annotations_ids(data_folder=corr_dir, \n",
    "                                        ids=[movie_id], \n",
    "                                        mask_names=\"corrected_label_mask_V3\")[movie_id]\n",
    "    \n",
    "    # get sparks mask\n",
    "    sparks_event_mask = np.where(classes_mask==1, events_mask, 0)\n",
    "    \n",
    "    # get list of spark IDs\n",
    "    spark_events_ids = list(np.unique(sparks_event_mask))\n",
    "    spark_events_ids.remove(0)\n",
    "    \n",
    "    # add each spark to the dataframe\n",
    "    for spark_id in spark_events_ids:\n",
    "        spark_mask = sparks_event_mask == spark_id\n",
    "        duration, radius, n_pixels = analyse_spark_roi(spark_mask)\n",
    "        \n",
    "        df = pd.DataFrame([[movie_id, spark_id, duration, radius, n_pixels]], \n",
    "                          columns=cols)\n",
    "        sparks_df = sparks_df.append(df)\n",
    "    \n",
    "    "
   ]
  },
  {
   "cell_type": "markdown",
   "id": "04733e1d-3dc0-434b-be52-49a9167f0dc2",
   "metadata": {},
   "source": [
    "### save dataframe to excel file"
   ]
  },
  {
   "cell_type": "code",
   "execution_count": 10,
   "id": "54396da0-1bb0-4c57-8433-eae7e6f8be1c",
   "metadata": {},
   "outputs": [],
   "source": [
    "sparks_df.to_excel(os.path.join(corr_dir,filename), index = False)"
   ]
  },
  {
   "cell_type": "markdown",
   "id": "74ba51d9-9c72-47ec-9361-7c080956ab11",
   "metadata": {},
   "source": [
    "## REMARK: Filter out events that cannot be more than one spark\n",
    "\n",
    "### Physiological params\n",
    "- 1 pixel = 0.2 um x 0.2 um\n",
    "- min distance in space between event centroids: 1.8 um\n",
    "- 1 frame = 6.8 ms\n",
    "- min distance in time between events: 20 ms"
   ]
  },
  {
   "cell_type": "markdown",
   "id": "271cdc23-b547-4237-bade-1eb4e5554597",
   "metadata": {
    "tags": []
   },
   "source": [
    "14.07.2022\n",
    "\n",
    "## Correct manually events from largest to smallest\n",
    "\n",
    "Starting from biggest event (in # pixels), correct them until it seems that the events contain only one spark.\n",
    "\n",
    "Le modifiche sono registrate in  `data/raw_data_and_processing/manual_corr_separated_events_masks/sparks_analysis_PROCESSED.xlsx`"
   ]
  },
  {
   "cell_type": "code",
   "execution_count": 37,
   "id": "9d6c0fd2-c41c-4983-b619-221b5178e310",
   "metadata": {},
   "outputs": [
    {
     "data": {
      "text/plain": [
       "43"
      ]
     },
     "execution_count": 37,
     "metadata": {},
     "output_type": "execute_result"
    }
   ],
   "source": [
    "modified = ['01','02','03','04','05','06','07','08','09',\n",
    "            '10','11','12','13','14','15','16','17','18','19',\n",
    "            '20','21','22','23','24','25','27','28','29',\n",
    "            '30','32','33','34','35','36','38','39',\n",
    "            '40','41','42','43', '44','45','46']\n",
    "len(modified)"
   ]
  },
  {
   "cell_type": "code",
   "execution_count": 12,
   "id": "bdb891d3-e204-49b5-91dd-c6ee09cdae4d",
   "metadata": {},
   "outputs": [],
   "source": [
    "# set smooth movies directory\n",
    "smooth_movies_dir = os.path.join(data_dir, \"smoothed_movies\")"
   ]
  },
  {
   "cell_type": "markdown",
   "id": "2656383f-a615-4f3f-a6f2-1ac17a1468ca",
   "metadata": {
    "jp-MarkdownHeadingCollapsed": true,
    "tags": []
   },
   "source": [
    "### General tools "
   ]
  },
  {
   "cell_type": "markdown",
   "id": "a9ab5b4c-a690-418b-aea5-b33b2db6f0b5",
   "metadata": {
    "tags": []
   },
   "source": [
    "#### Create LUT for smooth movie"
   ]
  },
  {
   "cell_type": "code",
   "execution_count": 13,
   "id": "1784b293-cd2b-4b3b-8b92-4020278ac3f9",
   "metadata": {},
   "outputs": [],
   "source": [
    "import vispy.color\n",
    "\n",
    "# define function to obtain discrete Colormap instance that can be used by Napari\n",
    "\n",
    "def get_discrete_cmap(name='viridis', lut=16):\n",
    "    # create original cmap\n",
    "    segmented_cmap = cm.get_cmap(name=name, lut=16)\n",
    "    \n",
    "    # get colors\n",
    "    colors = segmented_cmap(np.arange(0,segmented_cmap.N)) \n",
    "    \n",
    "    # get new discrete cmap\n",
    "    cmap = vispy.color.Colormap(colors, interpolation='zero')\n",
    "    \n",
    "    return cmap"
   ]
  },
  {
   "cell_type": "code",
   "execution_count": 14,
   "id": "275d23bc-5d2d-47e2-9132-92d83374d9da",
   "metadata": {},
   "outputs": [],
   "source": [
    "cmap = get_discrete_cmap(name='gray', lut=16)"
   ]
  },
  {
   "cell_type": "markdown",
   "id": "3bfe42c1-4842-492f-979c-7028d9fb736c",
   "metadata": {},
   "source": [
    "#### Function to compute moving average"
   ]
  },
  {
   "cell_type": "code",
   "execution_count": 15,
   "id": "62c081c0-0467-4edb-948b-f243c8434efc",
   "metadata": {},
   "outputs": [],
   "source": [
    "# Copied code from `\"DEBUG Generate UNet masks.ipyinb\"`.\n",
    "\n",
    "def rolling_average(movie, k=3):\n",
    "    '''\n",
    "    movie: input movie\n",
    "    k:     window size (must be an odd number)\n",
    "    \n",
    "    Return rolling average of movie along first axis (frames)\n",
    "    '''\n",
    "    \n",
    "    # assert that k is an odd number\n",
    "    assert k%2 == 1\n",
    "    \n",
    "    # compute number of frames to be considered on each side of given frame\n",
    "    diff = k // 2\n",
    "    \n",
    "    # compute rolling average of input movie\n",
    "    avg_movie = np.zeros_like(movie, dtype=float)\n",
    "    avg_movie[:diff] = movie[:diff]\n",
    "    avg_movie[-diff:] = movie[-diff:]\n",
    "\n",
    "    for frame_idx in range(diff,len(movie)-diff):\n",
    "        avg_movie[frame_idx] = np.sum(movie[frame_idx-diff : frame_idx+diff+1], axis=0)/k\n",
    "    \n",
    "    return avg_movie"
   ]
  },
  {
   "cell_type": "markdown",
   "id": "b13275fb-2d96-4729-8560-cd8b978cbf1a",
   "metadata": {},
   "source": [
    "#### General tools for wathershed algo"
   ]
  },
  {
   "cell_type": "code",
   "execution_count": 16,
   "id": "94632ec0-6002-407b-af87-b98f627c1702",
   "metadata": {},
   "outputs": [],
   "source": [
    "from scipy import ndimage as ndi\n",
    "\n",
    "from skimage.feature import peak_local_max\n",
    "from skimage.segmentation import watershed"
   ]
  },
  {
   "cell_type": "code",
   "execution_count": 17,
   "id": "50cc44b8-8c09-4874-b79d-a2fef62a932a",
   "metadata": {},
   "outputs": [],
   "source": [
    "# physiological params\n",
    "PIXEL_SIZE = 0.2 # 1 pixel = 0.2 um x 0.2 um\n",
    "global MIN_DIST_XY\n",
    "MIN_DIST_XY = round(1.8 / PIXEL_SIZE) # min distance in space between sparks\n",
    "TIME_FRAME = 6.8 # 1 frame = 6.8 ms\n",
    "global MIN_DIST_T\n",
    "MIN_DIST_T = round(20 / TIME_FRAME) # min distance in time between sparks\n",
    "\n",
    "import math\n",
    "\n",
    "# compute shape for maximum filter -> min distance between peaks\n",
    "#min_dist = ellipsoid(MIN_DIST_T/2, MIN_DIST_XY/2, MIN_DIST_XY/2)\n",
    "radius = math.ceil(MIN_DIST_XY/2)\n",
    "y,x = np.ogrid[-radius: radius+1, -radius: radius+1]\n",
    "disk = x**2+y**2 <= radius**2\n",
    "min_dist_filter = np.stack([disk]*(MIN_DIST_T+1), axis=0)"
   ]
  },
  {
   "cell_type": "code",
   "execution_count": 18,
   "id": "57eb44b5-eeb2-48f5-8803-d36ac963b744",
   "metadata": {},
   "outputs": [],
   "source": [
    "def nonmaxima_suppression(img, min_dist, maxima_mask=None,\n",
    "                          return_mask=False, threshold=0.5, sigma=2):\n",
    "    '''\n",
    "    Extract local maxima from input array (t,x,y).\n",
    "    img :           input array\n",
    "    maxima_mask :   if not None, look for local maxima only inside the mask\n",
    "    min_dist :      mask representing minimal distance between local maxima\n",
    "    return_mask :   if True return both masks with maxima and locations, if\n",
    "                    False only returns locations\n",
    "    threshold :     minimal value of maximum points\n",
    "    sigma :         sigma parameter of gaussian filter\n",
    "    '''\n",
    "    img = img.astype(np.float64)\n",
    "    \n",
    "    if sigma > 0:\n",
    "        if maxima_mask is not None:\n",
    "            # keep only region inside mask\n",
    "            masked_img = np.where(maxima_mask, img, 0.)\n",
    "\n",
    "            # smooth masked input image\n",
    "            smooth_img = ndi.gaussian_filter(masked_img, sigma=sigma)\n",
    "        else:\n",
    "            smooth_img = ndi.gaussian_filter(img, sigma=sigma)\n",
    "    else:\n",
    "        smooth_img = img\n",
    "    \n",
    "    if maxima_mask is not None:\n",
    "        # hypothesis: maxima belong to maxima mask\n",
    "        smooth_img = np.where(maxima_mask, smooth_img, 0.)\n",
    "\n",
    "    # search for local maxima\n",
    "    dilated = ndi.maximum_filter(smooth_img,\n",
    "                                 footprint=min_dist)\n",
    "    argmaxima = np.logical_and(smooth_img == dilated, smooth_img > threshold)\n",
    "\n",
    "    argwhere = np.argwhere(argmaxima)\n",
    "\n",
    "    if not return_mask:\n",
    "        return argwhere\n",
    "\n",
    "    return argwhere, argmaxima"
   ]
  },
  {
   "cell_type": "code",
   "execution_count": 19,
   "id": "9b3b3c83-f5e4-45e4-a497-0eb3e6b46783",
   "metadata": {},
   "outputs": [],
   "source": [
    "# define function to split given spark DA VEDERE SE DA USARE O NO\n",
    "\n",
    "def split_spark_event(movie, events_mask, event_id, n_sparks):\n",
    "    \n",
    "    # compute distance from edge of event\n",
    "    event_mask = events_mask==event_id\n",
    "    distances = ndi.distance_transform_edt(event_mask.astype(bool))\n",
    "    \n",
    "    coords = peak_local_max(distances, \n",
    "                            footprint=np.ones((3, 3, 3)), \n",
    "                            labels=events_mask.astype(bool))\n",
    "    \n",
    "    mask = np.zeros(distances.shape, dtype=bool)\n",
    "    mask[tuple(coords.T)] = True\n",
    "    \n",
    "    markers, _ = ndi.label(mask)\n",
    "    \n",
    "    split_sparks_mask = watershed(#image=-movie,\n",
    "                                  image=-distances,\n",
    "                                  markers=markers,\n",
    "                                  mask=events_mask==event_id,\n",
    "                                  #markers=n_sparks\n",
    "                                 )\n",
    "    \n",
    "    return split_sparks_mask"
   ]
  },
  {
   "cell_type": "markdown",
   "id": "7800cf0e-71ff-4b2f-85b2-5bfbba500e80",
   "metadata": {},
   "source": [
    "### Correct single event interactively on Napari\n",
    "\n",
    "!!!! IF MOVIE HAS ALREADY BEEN PROCESSED, LOAD `_SPARK` VERSION OF MASKS !!!!"
   ]
  },
  {
   "cell_type": "code",
   "execution_count": 20,
   "id": "02ba4f1f-f023-487d-8e58-93f5d2729a3e",
   "metadata": {},
   "outputs": [],
   "source": [
    "# select movie to be opened\n",
    "movie_id = '07'"
   ]
  },
  {
   "cell_type": "code",
   "execution_count": 21,
   "id": "ea179e0c-b4b2-4190-8ba4-967d4db1cfc9",
   "metadata": {},
   "outputs": [],
   "source": [
    "# open smooth movie, class and event labels\n",
    "event_mask_name = \"corrected_rgb_mask_\"+(\"V4\" if movie_id not in modified else \"SPARKS\")\n",
    "classes_mask_name = \"corrected_label_mask_\"+(\"V3\" if movie_id not in modified else \"SPARKS\")\n",
    "\n",
    "movie = load_movies_ids(data_folder=smooth_movies_dir,\n",
    "                        ids=[movie_id],\n",
    "                        names_available=True,\n",
    "                        movie_names=\"smoothed_video\")[movie_id]\n",
    "\n",
    "events_mask = load_annotations_ids(data_folder=corr_dir, \n",
    "                                   ids=[movie_id], \n",
    "                                   mask_names=event_mask_name\n",
    "                                  )[movie_id]\n",
    "\n",
    "classes_mask = load_annotations_ids(data_folder=corr_dir, \n",
    "                                    ids=[movie_id], \n",
    "                                    mask_names=classes_mask_name\n",
    "                                   )[movie_id]"
   ]
  },
  {
   "cell_type": "code",
   "execution_count": 397,
   "id": "a9cd2065-40c2-4044-8720-f5a1799b7087",
   "metadata": {},
   "outputs": [],
   "source": [
    "spark_ids = [4429331,\n",
    "15758091,\n",
    "16062453,\n",
    "12225612,\n",
    "4975264,\n",
    "2934275,\n",
    "13597925,\n",
    "3623206]"
   ]
  },
  {
   "cell_type": "code",
   "execution_count": 34,
   "id": "d2e8eef5-afb2-4370-89b2-3b76ec273af7",
   "metadata": {},
   "outputs": [],
   "source": [
    "# select event(s) to be opened\n",
    "spark_id = 14726463\n",
    "spark_ids = [spark_id]"
   ]
  },
  {
   "cell_type": "markdown",
   "id": "ee4b0e6f-0afd-46f9-bd2d-fe211f2d65ef",
   "metadata": {},
   "source": [
    "#### Visualise smooth movie and event\n",
    "Corrections have to be done on `events_mask` and `classes_mask`"
   ]
  },
  {
   "cell_type": "code",
   "execution_count": 35,
   "id": "cf101326-53be-4f39-bb97-b2d925094b43",
   "metadata": {
    "tags": []
   },
   "outputs": [
    {
     "name": "stderr",
     "output_type": "stream",
     "text": [
      "WARNING: DirectWrite: CreateFontFaceFromHDC() failed (Indicates an error in an input file such as a font file.) for QFontDef(Family=\"\", pointsize=12, pixelsize=16, styleHint=5, weight=50, stretch=100, hintingPreference=0) LOGFONT(\"MS Sans Serif\", lfWidth=0, lfHeight=-16) dpi=96\n"
     ]
    },
    {
     "name": "stdout",
     "output_type": "stream",
     "text": [
      "frames containing event 14726463: [434, 435, 436]\n"
     ]
    },
    {
     "data": {
      "text/plain": [
       "<Labels layer 'event to analyse' at 0x13c916efca0>"
      ]
     },
     "execution_count": 35,
     "metadata": {},
     "output_type": "execute_result"
    }
   ],
   "source": [
    "# get sparks mask\n",
    "sparks_event_mask = np.where(classes_mask==1, events_mask, 0)\n",
    "\n",
    "# get list of spark IDs\n",
    "spark_events_ids = list(np.unique(sparks_event_mask))\n",
    "spark_events_ids.remove(0)\n",
    "\n",
    "# get mask with sparks to be analised\n",
    "spark_mask = np.zeros_like(sparks_event_mask)\n",
    "for spark_id in spark_ids:\n",
    "    spark_mask += np.where(sparks_event_mask == spark_id, sparks_event_mask, 0)\n",
    "\n",
    "    print(f\"frames containing event {spark_id}: {list(np.unique((np.where(sparks_event_mask == spark_id)[0])))}\")\n",
    "\n",
    "viewer = napari.Viewer()\n",
    "viewer.add_image(movie, \n",
    "                 name='smooth movie', \n",
    "                 colormap=('colors',cmap))\n",
    "\n",
    "viewer.add_labels(events_mask, \n",
    "                  name='events labels', \n",
    "                  opacity=0.5, \n",
    "                  visible=False)\n",
    "\n",
    "viewer.add_labels(classes_mask, \n",
    "                  name='classes labels', \n",
    "                  opacity=0.5, \n",
    "                  visible=False)\n",
    "\n",
    "viewer.add_labels(sparks_event_mask, \n",
    "                  name='sparks event mask', \n",
    "                  opacity=0.2, \n",
    "                  visible=True)\n",
    "\n",
    "viewer.add_labels(spark_mask, \n",
    "                  name='event to analyse', opacity=0.6, \n",
    "                  visible=True)"
   ]
  },
  {
   "cell_type": "markdown",
   "id": "ecbf16a8-2b1a-47fd-ab90-8a5c9bad9654",
   "metadata": {},
   "source": [
    "#### Run this to save new masks"
   ]
  },
  {
   "cell_type": "code",
   "execution_count": 36,
   "id": "9c5546f9-de5f-471e-a557-eaa74936d55b",
   "metadata": {},
   "outputs": [
    {
     "name": "stdout",
     "output_type": "stream",
     "text": [
      "Modified movies: ['01', '02', '03', '04', '05', '06', '08', '09', '10', '11', '12', '13', '14', '15', '16', '17', '18', '19', '20', '21', '22', '23', '24', '25', '27', '28', '29', '30', '32', '33', '34', '35', '36', '38', '39', '40', '41', '42', '43', '44', '45', '46', '07']\n"
     ]
    }
   ],
   "source": [
    "imageio.volwrite(os.path.join(corr_dir, movie_id+\"_corrected_rgb_mask_SPARKS.tif\"), \n",
    "                 events_mask)\n",
    "imageio.volwrite(os.path.join(corr_dir, movie_id+\"_corrected_label_mask_SPARKS.tif\"), \n",
    "                 classes_mask)\n",
    "\n",
    "modified.append(movie_id)\n",
    "print(\"Modified movies:\", modified)"
   ]
  },
  {
   "cell_type": "markdown",
   "id": "1ea53dde-acec-4dc9-99a9-89f76ddfd625",
   "metadata": {
    "tags": []
   },
   "source": [
    "#### Run this to change class of a # event"
   ]
  },
  {
   "cell_type": "code",
   "execution_count": 314,
   "id": "e08fb17b-e491-48a7-9074-47ec5574dfb3",
   "metadata": {},
   "outputs": [],
   "source": [
    "n_event = 8\n",
    "new_class = 4\n",
    "\n",
    "classes_mask = np.where(events_mask == n_event , new_class, classes_mask)"
   ]
  },
  {
   "cell_type": "markdown",
   "id": "d7e9e0ca-c46b-4fb6-85c2-c948e870d2be",
   "metadata": {},
   "source": [
    "#### Run this to get list of events"
   ]
  },
  {
   "cell_type": "code",
   "execution_count": 399,
   "id": "d5f7f3d3-35b7-4385-a35c-b88ea44f4dc5",
   "metadata": {},
   "outputs": [
    {
     "name": "stdout",
     "output_type": "stream",
     "text": [
      "Movie ID 11\n",
      "[5, 6, 7, 2294, 161952, 1132609, 1693437, 2934275, 2936115, 3623206, 4383668, 4429331, 4975264, 5176013, 5549575, 5873836, 7266172, 7547622, 7564447, 8864374, 8906090, 9725835, 10776718, 12225612, 12864277, 12995516, 13208235, 13597925, 15326058, 15758091, 16062453, 16376841]\n"
     ]
    }
   ],
   "source": [
    "print(\"Movie ID\", movie_id)\n",
    "list_events = list(np.unique(events_mask))\n",
    "list_events.remove(0)\n",
    "print(list_events)"
   ]
  },
  {
   "cell_type": "markdown",
   "id": "8fb91100-6ce7-4e0f-8e55-5eefbae23d1c",
   "metadata": {
    "tags": []
   },
   "source": [
    "#### Run this to get smoother version of smooth movie"
   ]
  },
  {
   "cell_type": "code",
   "execution_count": 402,
   "id": "bb20ba42-32f3-47e3-88d5-31b1c6cbb537",
   "metadata": {},
   "outputs": [],
   "source": [
    "smoother_movie = rolling_average(movie, k=3)"
   ]
  },
  {
   "cell_type": "code",
   "execution_count": 297,
   "id": "cca44240-0949-44e6-ad9a-ee42fea9bef8",
   "metadata": {},
   "outputs": [],
   "source": [
    "imageio.volwrite(\"TEST_SMOOTH.tif\", smoother_movie)"
   ]
  },
  {
   "cell_type": "code",
   "execution_count": 403,
   "id": "f2b178e5-5bff-4bd6-8d39-bc3412d01793",
   "metadata": {},
   "outputs": [
    {
     "data": {
      "text/plain": [
       "<Image layer 'smoother movie' at 0x11ad3bc1910>"
      ]
     },
     "execution_count": 403,
     "metadata": {},
     "output_type": "execute_result"
    }
   ],
   "source": [
    "viewer.add_image(smoother_movie, \n",
    "                 name='smoother movie', \n",
    "                 colormap=('colors',cmap))\n"
   ]
  },
  {
   "cell_type": "markdown",
   "id": "b69b65e9-0c03-4997-bae0-963679ddbfc4",
   "metadata": {},
   "source": [
    "### Run this to separate given event using watershed segmentation"
   ]
  },
  {
   "cell_type": "markdown",
   "id": "7bc36133-a379-4f3c-8c7c-6eb97c47d595",
   "metadata": {
    "tags": []
   },
   "source": [
    "#### Compute distance from event edge"
   ]
  },
  {
   "cell_type": "code",
   "execution_count": 575,
   "id": "325f6eef-66a6-4033-adb2-b8a5a80f1864",
   "metadata": {},
   "outputs": [],
   "source": [
    "distances = ndi.distance_transform_edt(spark_mask.astype(bool))"
   ]
  },
  {
   "cell_type": "markdown",
   "id": "ed8d3f02-9b8f-4b81-bafa-1b36cba13ebf",
   "metadata": {},
   "source": [
    "#### Compute markers with nonmaxima suppression"
   ]
  },
  {
   "cell_type": "code",
   "execution_count": 570,
   "id": "eebeedd0-2594-4799-9bf0-87c9a48b31f6",
   "metadata": {},
   "outputs": [],
   "source": [
    "# can try this instead of nonmaxima_suppression\n",
    "# need first to smooth movie\n",
    "'''coords = peak_local_max(distances, \n",
    "                        footprint=min_dist_filter, \n",
    "                        labels=spark_mask.astype(bool))''';"
   ]
  },
  {
   "cell_type": "code",
   "execution_count": 355,
   "id": "3bd43845-855d-4c10-8be6-7b5216c40d0f",
   "metadata": {},
   "outputs": [
    {
     "name": "stdout",
     "output_type": "stream",
     "text": [
      "Sparks peaks found: [[428  36 349]\n",
      " [434  35 346]\n",
      " [438  35 344]]\n"
     ]
    }
   ],
   "source": [
    "coords, max_mask = nonmaxima_suppression(img=movie,\n",
    "                                         #img=smoother_movie,\n",
    "                                         min_dist=min_dist_filter,\n",
    "                                         maxima_mask=spark_mask,\n",
    "                                         return_mask=True,\n",
    "                                         threshold=0.,\n",
    "                                         sigma=1)\n",
    "\n",
    "print(\"Sparks peaks found:\", coords)\n",
    "\n",
    "markers, _ = ndi.label(max_mask)"
   ]
  },
  {
   "cell_type": "markdown",
   "id": "0f391f16-90d3-4d5e-9702-938ad6122d9c",
   "metadata": {
    "tags": []
   },
   "source": [
    "#### Select markers manually"
   ]
  },
  {
   "cell_type": "code",
   "execution_count": 358,
   "id": "ea96718d-43c4-4c27-9c50-8eb91aaa20c2",
   "metadata": {},
   "outputs": [],
   "source": [
    "coords = np.array([[428,  36, 349],\n",
    "                   [438,  35, 344],\n",
    "                  ]) # [z,y,x]\n",
    "\n",
    "mask = np.zeros(movie.shape, dtype=bool)\n",
    "mask[tuple(coords.T)] = True\n",
    "markers, _ = ndi.label(mask)"
   ]
  },
  {
   "cell_type": "markdown",
   "id": "d4d4dd70-6bad-4215-8868-3d3c9879d657",
   "metadata": {},
   "source": [
    "#### Apply watershed fct"
   ]
  },
  {
   "cell_type": "code",
   "execution_count": 359,
   "id": "a66e74c5-56b6-4b7e-9c1c-15c483d3a98c",
   "metadata": {},
   "outputs": [],
   "source": [
    "watershed_mask = watershed(image=-movie, # use input movie\n",
    "                           #image=-smoother_movie, # use smoother input movie\n",
    "                           #image=movie.astype(bool), # use binary image\n",
    "                           #image=-distances, # use distance from edge\n",
    "                           markers=markers,\n",
    "                           mask=spark_mask)"
   ]
  },
  {
   "cell_type": "markdown",
   "id": "5e185ee8-ce09-426e-8a85-6f3f48010e4a",
   "metadata": {},
   "source": [
    "#### Visualise separated event"
   ]
  },
  {
   "cell_type": "code",
   "execution_count": 360,
   "id": "006432a5-6f8b-4ee5-a8a2-135c210063d4",
   "metadata": {},
   "outputs": [
    {
     "data": {
      "text/plain": [
       "<Labels layer 'watershed mask [1]' at 0x119bee7a370>"
      ]
     },
     "execution_count": 360,
     "metadata": {},
     "output_type": "execute_result"
    }
   ],
   "source": [
    "viewer.add_labels(watershed_mask, \n",
    "                  name='watershed mask', opacity=0.5, \n",
    "                  visible=True)"
   ]
  },
  {
   "cell_type": "markdown",
   "id": "5f9cfced-df1f-40c9-9f8b-0269c951e13b",
   "metadata": {},
   "source": [
    "#### Run this to assign separated events in watershed mask to `events_mask`"
   ]
  },
  {
   "cell_type": "code",
   "execution_count": 363,
   "id": "e0d5aa9f-ffc0-4719-87cc-bfe620d0735a",
   "metadata": {},
   "outputs": [],
   "source": [
    "n_watershed_event = 2\n",
    "new_event = 7\n",
    "\n",
    "events_mask = np.where(watershed_mask == n_watershed_event , new_event, events_mask)"
   ]
  },
  {
   "cell_type": "markdown",
   "id": "1c6bb7d3-4be9-45ff-9343-742059b15867",
   "metadata": {},
   "source": [
    "#### Run this to change # to an event"
   ]
  },
  {
   "cell_type": "code",
   "execution_count": 323,
   "id": "70db778c-6c12-43ac-9fcd-79cecc11c78b",
   "metadata": {},
   "outputs": [],
   "source": [
    "old_event = 16\n",
    "new_event = 5472814\n",
    "\n",
    "events_mask = np.where(events_mask == old_event , \n",
    "                       new_event, \n",
    "                       events_mask)"
   ]
  },
  {
   "cell_type": "code",
   "execution_count": null,
   "id": "e0f1f3a3-6f49-455f-b676-602c2233156e",
   "metadata": {},
   "outputs": [],
   "source": []
  }
 ],
 "metadata": {
  "kernelspec": {
   "display_name": "Python 3 (ipykernel)",
   "language": "python",
   "name": "python3"
  },
  "language_info": {
   "codemirror_mode": {
    "name": "ipython",
    "version": 3
   },
   "file_extension": ".py",
   "mimetype": "text/x-python",
   "name": "python",
   "nbconvert_exporter": "python",
   "pygments_lexer": "ipython3",
   "version": "3.8.8"
  }
 },
 "nbformat": 4,
 "nbformat_minor": 5
}
