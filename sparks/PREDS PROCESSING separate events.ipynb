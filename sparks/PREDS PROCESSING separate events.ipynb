{
 "cells": [
  {
   "cell_type": "markdown",
   "id": "6b70ded7-5a6f-45af-bd11-e22e9d8449a1",
   "metadata": {},
   "source": [
    "# Separate events in predictions\n",
    "\n",
    "01.09.2022\n",
    "\n",
    "Uso questo script per separare gli eventi nelle predictions, così da poter poi calcolare le metrics sulla instance segmentation.\n",
    "\n",
    "Due idee:\n",
    "- prima separare le classi e poi gli eventi\n",
    "- sommare le preds delle classi, separare gli eventi e poi separare le classi\n",
    "\n",
    "Una volta fatto, includere le funzioni in uno script normale di Python (.py) e usarle per la validation dei modelli (magari anche durante il training). A quel punto si potrà eliminare questo notebook."
   ]
  },
  {
   "cell_type": "code",
   "execution_count": 1,
   "id": "0d1a639c-ec6f-44bd-86eb-119f1edb2ef8",
   "metadata": {},
   "outputs": [],
   "source": [
    "%load_ext autoreload\n",
    "%autoreload 2"
   ]
  },
  {
   "cell_type": "code",
   "execution_count": 2,
   "id": "b6495095-5423-400f-97a8-581e97f6763a",
   "metadata": {},
   "outputs": [],
   "source": [
    "import numpy as np\n",
    "import glob\n",
    "import os\n",
    "import imageio\n",
    "import napari\n",
    "import matplotlib.pyplot as plt\n",
    "\n",
    "import cc3d\n",
    "import skimage\n",
    "from scipy import ndimage as ndi"
   ]
  },
  {
   "cell_type": "code",
   "execution_count": 3,
   "id": "598cadb5-068f-4b57-855b-388035d7e074",
   "metadata": {},
   "outputs": [
    {
     "data": {
      "text/plain": [
       "'C:\\\\Users\\\\dotti\\\\sparks_project\\\\sparks'"
      ]
     },
     "execution_count": 3,
     "metadata": {},
     "output_type": "execute_result"
    }
   ],
   "source": [
    "BASEDIR = os.path.abspath('')\n",
    "BASEDIR"
   ]
  },
  {
   "cell_type": "markdown",
   "id": "0e5ae02c-555e-43ae-8317-96fabea4fa81",
   "metadata": {},
   "source": [
    "## Load predictions\n",
    "\n",
    "Load predictions from files generated when running the test function during training.\n",
    "\n",
    "They are saved in `runs\\<training_name>\\predictions` and the filename template is `<training_name>_<movie_id>_<preds class/xs/ys/...>.tif`.\n",
    "\n",
    "The epoch is not explicitly mentionned, but it depends on the last epoch of the last model that has been run."
   ]
  },
  {
   "cell_type": "code",
   "execution_count": 4,
   "id": "aecf1c0e-2298-47b3-a36a-ba5c024d8cd6",
   "metadata": {},
   "outputs": [],
   "source": [
    "# assuming these are the number IDs whose predictions are available...\n",
    "movie_ids = [\"05\",\"10\",\"15\",\"20\",\"25\",\"32\",\"34\",\"40\",\"45\"]"
   ]
  },
  {
   "cell_type": "markdown",
   "id": "7fc53bf9-d8d0-4717-a3fb-0d44fe636ab3",
   "metadata": {
    "tags": []
   },
   "source": [
    "### Select training name to load"
   ]
  },
  {
   "cell_type": "code",
   "execution_count": 5,
   "id": "2c9494c8-3a8e-46ad-9d42-20b373608c69",
   "metadata": {},
   "outputs": [],
   "source": [
    "training_name = 'TEMP_new_annotated_peaks_physio'"
   ]
  },
  {
   "cell_type": "markdown",
   "id": "a65ff227-e593-44a5-b615-1367b1f14650",
   "metadata": {},
   "source": [
    "### Configure input & output directory"
   ]
  },
  {
   "cell_type": "code",
   "execution_count": 6,
   "id": "6219e8e8-a840-4e55-9806-147ebe7748f3",
   "metadata": {},
   "outputs": [],
   "source": [
    "data_dir = os.path.join(\"runs\", training_name, \"predictions\")\n",
    "out_dir = \"trainings_validation\""
   ]
  },
  {
   "cell_type": "markdown",
   "id": "7a5eaa93-8e3b-4522-9c79-440d8156d572",
   "metadata": {},
   "source": [
    "### Load movies"
   ]
  },
  {
   "cell_type": "code",
   "execution_count": 7,
   "id": "713a567e-07c7-42db-a952-cc2342f2cbc7",
   "metadata": {},
   "outputs": [],
   "source": [
    "xs_filenames = {movie_id: os.path.join(data_dir, training_name+\"_\"+movie_id+\"_xs.tif\") for movie_id in movie_ids}"
   ]
  },
  {
   "cell_type": "code",
   "execution_count": 8,
   "id": "936277c7-c182-4ae2-a8d5-a37667f9d6d1",
   "metadata": {},
   "outputs": [],
   "source": [
    "xs = {movie_id: np.asarray(imageio.volread(f)) for movie_id, f in xs_filenames.items()}"
   ]
  },
  {
   "cell_type": "markdown",
   "id": "339af7ac-aff3-4b96-aeee-9f7945767a31",
   "metadata": {},
   "source": [
    "### Load annotations\n",
    "Annotations used during training (from predictions folder)"
   ]
  },
  {
   "cell_type": "code",
   "execution_count": 9,
   "id": "d026c21d-023d-4bda-b509-2c1788db9d4f",
   "metadata": {},
   "outputs": [],
   "source": [
    "ys_filenames = {movie_id: os.path.join(data_dir, training_name+\"_\"+movie_id+\"_ys.tif\") for movie_id in movie_ids}"
   ]
  },
  {
   "cell_type": "code",
   "execution_count": 10,
   "id": "71f28710-50b2-46e1-86d5-86d63b688f22",
   "metadata": {},
   "outputs": [],
   "source": [
    "ys = {movie_id: np.asarray(imageio.volread(f)).astype('int') for movie_id, f in ys_filenames.items()}"
   ]
  },
  {
   "cell_type": "markdown",
   "id": "3113139a-8f3f-41c2-b2e2-fca8e3d31e99",
   "metadata": {},
   "source": [
    "### Load predictions\n",
    "Predictions created from selected model"
   ]
  },
  {
   "cell_type": "code",
   "execution_count": 11,
   "id": "f0c72423-857b-4f05-9de5-bfdac41fe380",
   "metadata": {},
   "outputs": [],
   "source": [
    "sparks_filenames = {movie_id: os.path.join(data_dir, training_name+\"_\"+movie_id+\"_sparks.tif\") for movie_id in movie_ids}\n",
    "puffs_filenames = {movie_id: os.path.join(data_dir, training_name+\"_\"+movie_id+\"_puffs.tif\") for movie_id in movie_ids}\n",
    "waves_filenames = {movie_id: os.path.join(data_dir, training_name+\"_\"+movie_id+\"_waves.tif\") for movie_id in movie_ids}"
   ]
  },
  {
   "cell_type": "code",
   "execution_count": 12,
   "id": "0640f734-96c2-44da-9756-7002071cbd4a",
   "metadata": {},
   "outputs": [],
   "source": [
    "sparks = {movie_id: np.asarray(imageio.volread(f)) for movie_id, f in sparks_filenames.items()}\n",
    "puffs = {movie_id: np.asarray(imageio.volread(f)) for movie_id, f in puffs_filenames.items()}\n",
    "waves = {movie_id: np.asarray(imageio.volread(f)) for movie_id, f in waves_filenames.items()}"
   ]
  },
  {
   "cell_type": "markdown",
   "id": "c016204d-f846-4737-bbd6-84e2f63e8f05",
   "metadata": {},
   "source": [
    "### Configure Napari cmap"
   ]
  },
  {
   "cell_type": "code",
   "execution_count": 13,
   "id": "86f80d35-47c2-4d39-b1ad-a18cc56cde1e",
   "metadata": {},
   "outputs": [],
   "source": [
    "from matplotlib import cm\n",
    "import vispy.color\n",
    "\n",
    "# define function to obtain discrete Colormap instance that can be used by Napari\n",
    "\n",
    "def get_discrete_cmap(name='viridis', lut=16):\n",
    "    # create original cmap\n",
    "    segmented_cmap = cm.get_cmap(name=name, lut=16)\n",
    "    \n",
    "    # get colors\n",
    "    colors = segmented_cmap(np.arange(0,segmented_cmap.N)) \n",
    "    \n",
    "    # get new discrete cmap\n",
    "    cmap = vispy.color.Colormap(colors, interpolation='zero')\n",
    "    \n",
    "    return cmap"
   ]
  },
  {
   "cell_type": "code",
   "execution_count": 14,
   "id": "8c3bc0bd-ff17-472e-b946-59479a9cc430",
   "metadata": {
    "tags": []
   },
   "outputs": [],
   "source": [
    "cmap = get_discrete_cmap(name='gray', lut=16)"
   ]
  },
  {
   "cell_type": "markdown",
   "id": "5bda0405-7923-4eeb-8282-2ab5943ae9c7",
   "metadata": {
    "tags": []
   },
   "source": [
    "## Process sample video"
   ]
  },
  {
   "cell_type": "code",
   "execution_count": 15,
   "id": "a4a3c56e-9e62-4957-ad60-28252eabff48",
   "metadata": {},
   "outputs": [
    {
     "name": "stdout",
     "output_type": "stream",
     "text": [
      "05 10 15 20 25 32 34 40 45\n"
     ]
    }
   ],
   "source": [
    "# all video indices:\n",
    "print(*movie_ids)"
   ]
  },
  {
   "cell_type": "code",
   "execution_count": 16,
   "id": "4d986866-c623-443b-bf4d-6887694945df",
   "metadata": {},
   "outputs": [],
   "source": [
    "sample_id = '05'"
   ]
  },
  {
   "cell_type": "code",
   "execution_count": 17,
   "id": "49b48106-e783-4f6f-a6cf-ac3f16656414",
   "metadata": {},
   "outputs": [],
   "source": [
    "sample = {'xs' : xs[sample_id],\n",
    "          'ys' : ys[sample_id]}\n",
    "\n",
    "preds = {'sparks' : sparks[sample_id],\n",
    "         'puffs' : puffs[sample_id],\n",
    "         'waves' : waves[sample_id],\n",
    "         'background' : 1-sparks[sample_id]-puffs[sample_id]-waves[sample_id]}\n"
   ]
  },
  {
   "cell_type": "markdown",
   "id": "451cd849-7646-4b47-a13b-72a5ea97bf81",
   "metadata": {},
   "source": [
    "#### Visualize % of preds that belongs to each class"
   ]
  },
  {
   "cell_type": "code",
   "execution_count": 18,
   "id": "7ea871ae-016f-47af-b42a-ff0fbc1bd77e",
   "metadata": {},
   "outputs": [],
   "source": [
    "stacked_sample_preds = np.array([preds['sparks'], preds['waves'], preds['puffs']])"
   ]
  },
  {
   "cell_type": "code",
   "execution_count": 19,
   "id": "456f62a5-26f4-43be-a859-794a2a5d39d3",
   "metadata": {},
   "outputs": [
    {
     "name": "stderr",
     "output_type": "stream",
     "text": [
      "C:\\Users\\dotti\\.conda\\envs\\sparks\\lib\\site-packages\\napari\\_qt\\__init__.py:54: UserWarning: \n",
      "\n",
      "IMPORTANT:\n",
      "You are using QT version 5.9.7, but version 5.15.6 was also found in your environment.\n",
      "This usually happens when you 'conda install' something that also depends on PyQt\n",
      "*after* you have pip installed napari (such as jupyter notebook).\n",
      "You will likely run into problems and should create a fresh environment.\n",
      "If you want to install conda packages into the same environment as napari,\n",
      "please add conda-forge to your channels: https://conda-forge.org\n",
      "\n",
      "  warn(message=warn_message)\n",
      "WARNING: DirectWrite: CreateFontFaceFromHDC() failed (Indicates an error in an input file such as a font file.) for QFontDef(Family=\"\", pointsize=12, pixelsize=16, styleHint=5, weight=50, stretch=100, hintingPreference=0) LOGFONT(\"MS Sans Serif\", lfWidth=0, lfHeight=-16) dpi=96\n"
     ]
    },
    {
     "data": {
      "text/plain": [
       "[<Image layer 'sparks' at 0x2200fb313a0>,\n",
       " <Image layer 'waves' at 0x22134371280>,\n",
       " <Image layer 'puffs' at 0x22135c0fbb0>]"
      ]
     },
     "execution_count": 19,
     "metadata": {},
     "output_type": "execute_result"
    }
   ],
   "source": [
    "viewer = napari.Viewer()\n",
    "viewer.add_image(stacked_sample_preds, \n",
    "                 name=['sparks','waves','puffs'],\n",
    "                 channel_axis=0\n",
    "                )"
   ]
  },
  {
   "cell_type": "markdown",
   "id": "ccf49cb2-7d6a-41b2-9ecf-a6ff7b0f8808",
   "metadata": {},
   "source": [
    "### Extract events from summed predictions"
   ]
  },
  {
   "cell_type": "code",
   "execution_count": 20,
   "id": "6794b114-c788-4ee8-8a7a-9a7cd0bf8e3d",
   "metadata": {},
   "outputs": [],
   "source": [
    "sum_preds = 1 - preds['background']"
   ]
  },
  {
   "cell_type": "code",
   "execution_count": 61,
   "id": "127b10db-0dd4-4959-9212-7cf8c5005d57",
   "metadata": {},
   "outputs": [
    {
     "data": {
      "text/plain": [
       "(0.0, 1.0)"
      ]
     },
     "execution_count": 61,
     "metadata": {},
     "output_type": "execute_result"
    },
    {
     "data": {
      "image/png": "[encoded data removed]",
      "text/plain": [
       "<Figure size 864x432 with 1 Axes>"
      ]
     },
     "metadata": {
      "needs_background": "light"
     },
     "output_type": "display_data"
    }
   ],
   "source": [
    "# plot sum of preds histogram\n",
    "histogram, bin_edges = np.histogram(sum_preds, bins=256, range=(0.0, 1.0))\n",
    "\n",
    "fig, ax = plt.subplots(figsize=(12, 6))\n",
    "\n",
    "plt.plot(bin_edges[0:-1], histogram)\n",
    "plt.title(\"Sum of Preds Histogram\")\n",
    "plt.xlabel(\"value\")\n",
    "plt.ylabel(\"pixels\")\n",
    "plt.xlim(0.0, 1.0)\n"
   ]
  },
  {
   "cell_type": "markdown",
   "id": "240b53b3-454c-47e6-b62d-f716708f9a2c",
   "metadata": {},
   "source": [
    "#### Get binary preds"
   ]
  },
  {
   "cell_type": "code",
   "execution_count": 22,
   "id": "5593a9bd-0852-4baa-8a64-4c6eaa044cd1",
   "metadata": {},
   "outputs": [
    {
     "name": "stdout",
     "output_type": "stream",
     "text": [
      "Events detection threshold: 0.77835023\n"
     ]
    }
   ],
   "source": [
    "from skimage.filters import threshold_otsu\n",
    "\n",
    "t_otsu = threshold_otsu(sum_preds)\n",
    "print(\"Events detection threshold:\",t_otsu)"
   ]
  },
  {
   "cell_type": "code",
   "execution_count": 23,
   "id": "94691629-7026-4bc9-8b55-549f1d27677a",
   "metadata": {},
   "outputs": [],
   "source": [
    "binary_sum_preds = sum_preds > t_otsu"
   ]
  },
  {
   "cell_type": "markdown",
   "id": "60701b5e-33ff-4882-9210-c3f5614fb9cf",
   "metadata": {
    "tags": []
   },
   "source": [
    "#### Get connected components in sum of all preds"
   ]
  },
  {
   "cell_type": "code",
   "execution_count": 45,
   "id": "57ecf208-16fa-4a13-9050-5ed8b6c4cf36",
   "metadata": {},
   "outputs": [],
   "source": [
    "connectivity=26\n",
    "ccs_events, n_ccs_events = cc3d.connected_components(binary_sum_preds,\n",
    "                                                     connectivity=connectivity,\n",
    "                                                     return_N=True\n",
    "                                                    )\n",
    "# much faster than ndi.label"
   ]
  },
  {
   "cell_type": "code",
   "execution_count": 27,
   "id": "7e2af06b-cffa-4db6-83f5-abe065ec7631",
   "metadata": {},
   "outputs": [
    {
     "name": "stdout",
     "output_type": "stream",
     "text": [
      "Number of detected events: 121\n"
     ]
    }
   ],
   "source": [
    "print(\"Number of detected events:\", n_ccs_events)"
   ]
  },
  {
   "cell_type": "code",
   "execution_count": 30,
   "id": "961c9fcd-4d73-49f6-899b-9bc20a88b8cc",
   "metadata": {},
   "outputs": [
    {
     "name": "stderr",
     "output_type": "stream",
     "text": [
      "WARNING: DirectWrite: CreateFontFaceFromHDC() failed (Indicates an error in an input file such as a font file.) for QFontDef(Family=\"\", pointsize=12, pixelsize=16, styleHint=5, weight=50, stretch=100, hintingPreference=0) LOGFONT(\"MS Sans Serif\", lfWidth=0, lfHeight=-16) dpi=96\n"
     ]
    },
    {
     "data": {
      "text/plain": [
       "<Labels layer 'predicted separated events' at 0x2214a6ce1c0>"
      ]
     },
     "execution_count": 30,
     "metadata": {},
     "output_type": "execute_result"
    }
   ],
   "source": [
    "viewer = napari.Viewer()\n",
    "viewer.add_image(sample['xs'], \n",
    "                 name='movie', \n",
    "                 colormap=('colors',cmap)\n",
    "                )\n",
    "\n",
    "viewer.add_image(sum_preds,\n",
    "                 name='sum of preds'\n",
    "                 )\n",
    "\n",
    "viewer.add_labels(binary_sum_preds,\n",
    "                  name='binary sum of preds',\n",
    "                  opacity=0.5,\n",
    "                  visible=False\n",
    "                 )\n",
    "\n",
    "viewer.add_labels(ccs_events,\n",
    "                  name='predicted separated events',\n",
    "                  opacity=0.5\n",
    "                 )"
   ]
  },
  {
   "cell_type": "markdown",
   "id": "348432ad-4832-407e-98eb-55751e5dd80e",
   "metadata": {},
   "source": [
    "#### Get argmax class in binary predictions\n",
    "\n",
    "Select argmax class inside binary prediction mask"
   ]
  },
  {
   "cell_type": "code",
   "execution_count": 31,
   "id": "e83a709c-8c04-4a43-bc24-335742eddc7e",
   "metadata": {},
   "outputs": [],
   "source": [
    "from metrics_tools import get_argmax_segmented_output"
   ]
  },
  {
   "cell_type": "code",
   "execution_count": 32,
   "id": "be9f191f-f4af-45c1-9948-a86ef9172f07",
   "metadata": {},
   "outputs": [],
   "source": [
    "# get mask containing network output for each class in binary preds\n",
    "masked_class_preds = binary_sum_preds * [preds['background'], preds['sparks'], preds['waves'], preds['puffs']]"
   ]
  },
  {
   "cell_type": "code",
   "execution_count": 33,
   "id": "b87603dd-f446-437d-a20e-6df30b91a849",
   "metadata": {},
   "outputs": [],
   "source": [
    "# get argmax of classes inside binary preds\n",
    "# argmax_preds is a dict with keys 'sparks', 'waves' and 'puffs'\n",
    "argmax_preds, classes_preds = get_argmax_segmented_output(preds=masked_class_preds,\n",
    "                                                          get_classes=True)"
   ]
  },
  {
   "cell_type": "code",
   "execution_count": 64,
   "id": "6f49c241-e5f4-4352-9f28-eaa21afb5dd8",
   "metadata": {},
   "outputs": [
    {
     "name": "stderr",
     "output_type": "stream",
     "text": [
      "WARNING: DirectWrite: CreateFontFaceFromHDC() failed (Indicates an error in an input file such as a font file.) for QFontDef(Family=\"\", pointsize=12, pixelsize=16, styleHint=5, weight=50, stretch=100, hintingPreference=0) LOGFONT(\"MS Sans Serif\", lfWidth=0, lfHeight=-16) dpi=96\n"
     ]
    },
    {
     "data": {
      "text/plain": [
       "<Labels layer 'class of predicted events' at 0x2217a6bd760>"
      ]
     },
     "execution_count": 64,
     "metadata": {},
     "output_type": "execute_result"
    }
   ],
   "source": [
    "viewer = napari.Viewer()\n",
    "viewer.add_image(sample['xs'], \n",
    "                 name='movie', \n",
    "                 colormap=('colors',cmap)\n",
    "                )\n",
    "\n",
    "viewer.add_labels(sample['ys'],\n",
    "                  name='annotated class of events',\n",
    "                  opacity=0.5\n",
    "                 )\n",
    "\n",
    "viewer.add_labels(classes_preds,\n",
    "                  name='class of predicted events',\n",
    "                  opacity=0.5\n",
    "                 )"
   ]
  },
  {
   "cell_type": "markdown",
   "id": "f2cc603d-2077-43bc-8dcc-d78fa566eabe",
   "metadata": {},
   "source": [
    "#### Get connected components for each class"
   ]
  },
  {
   "cell_type": "code",
   "execution_count": 47,
   "id": "0b4587bc-660b-40bc-97f9-bc37b55af932",
   "metadata": {},
   "outputs": [],
   "source": [
    "# separate CCs in each class\n",
    "connectivity = 26\n",
    "   \n",
    "ccs_class_preds = {class_name: cc3d.connected_components(class_argmax_preds,\n",
    "                                                         connectivity=connectivity,\n",
    "                                                         return_N=False\n",
    "                                                        )\n",
    "                  for class_name, class_argmax_preds in argmax_preds.items()}"
   ]
  },
  {
   "cell_type": "code",
   "execution_count": 49,
   "id": "0f3cccd0-4987-4b22-9534-5c7f16c0c316",
   "metadata": {},
   "outputs": [],
   "source": [
    "viewer = napari.Viewer()\n",
    "viewer.add_image(sample['xs'], \n",
    "                 name='movie', \n",
    "                 colormap=('colors',cmap)\n",
    "                )\n",
    "\n",
    "for class_name, class_events in ccs_class_preds.items():\n",
    "    viewer.add_labels(class_events,\n",
    "                      name=class_name,\n",
    "                      opacity=0.5\n",
    "                     )"
   ]
  },
  {
   "cell_type": "markdown",
   "id": "36be1c90-13cc-47cb-b5f1-8fe1226f2fae",
   "metadata": {},
   "source": [
    "#### Watershed separation of spark preds\n",
    "\n",
    "Only separate spark preds.\n",
    "\n",
    "Using directly the argmax prediction of the sparks class."
   ]
  },
  {
   "cell_type": "code",
   "execution_count": 65,
   "id": "c55d126c-2b26-49f6-91bc-afd99ccf6297",
   "metadata": {},
   "outputs": [],
   "source": [
    "from skimage.feature import peak_local_max\n",
    "from skimage.segmentation import watershed"
   ]
  },
  {
   "cell_type": "code",
   "execution_count": 66,
   "id": "1562666c-83fb-44ef-99e6-3caa13679f80",
   "metadata": {},
   "outputs": [],
   "source": [
    "# compute distance from border of binary mask\n",
    "distances = ndi.distance_transform_edt(argmax_preds['sparks'])"
   ]
  },
  {
   "cell_type": "code",
   "execution_count": 86,
   "id": "3954ae3b-f412-4fc9-8e2f-c4ded571cdad",
   "metadata": {},
   "outputs": [],
   "source": [
    "# use peaks of distance metrics to select spark centres\n",
    "coords = peak_local_max(distances,\n",
    "                        footprint=np.ones((3, 3, 3)),\n",
    "                        labels=argmax_preds['sparks'])\n",
    "\n",
    "mask = np.zeros(distances.shape, dtype=bool)\n",
    "mask[tuple(coords.T)] = True\n",
    "\n",
    "markers, _ = ndi.label(mask)\n",
    "\n",
    "split_event_mask = watershed(image=argmax_preds['sparks'],\n",
    "                             markers=markers,\n",
    "                             mask=argmax_preds['sparks'],\n",
    "                             #markers=n_sparks\n",
    "                            )"
   ]
  },
  {
   "cell_type": "code",
   "execution_count": 85,
   "id": "c91c601c-0493-447e-8f50-c079533765fd",
   "metadata": {},
   "outputs": [],
   "source": [
    "# apply watershed using distance matrix minima\n",
    "split_event_mask = watershed(image=-distances,\n",
    "                             mask=argmax_preds['sparks'],\n",
    "                             #markers=n_sparks\n",
    "                            )"
   ]
  },
  {
   "cell_type": "code",
   "execution_count": 87,
   "id": "f21a75b4-5d30-41db-bbfc-96787eeea98a",
   "metadata": {},
   "outputs": [],
   "source": [
    "# use peaks of distance metrics to select spark centres and spark preds as input\n",
    "coords = peak_local_max(distances,\n",
    "                        footprint=np.ones((3, 3, 3)),\n",
    "                        labels=argmax_preds['sparks'])\n",
    "\n",
    "mask = np.zeros(distances.shape, dtype=bool)\n",
    "mask[tuple(coords.T)] = True\n",
    "\n",
    "markers, _ = ndi.label(mask)\n",
    "\n",
    "split_event_mask = watershed(image=preds['sparks'],\n",
    "                             markers=markers,\n",
    "                             mask=argmax_preds['sparks'],\n",
    "                             #markers=n_sparks\n",
    "                            )"
   ]
  },
  {
   "cell_type": "code",
   "execution_count": 88,
   "id": "469b3c9e-57c5-4580-858a-71b43e3e2f50",
   "metadata": {},
   "outputs": [],
   "source": [
    "clip_distances = np.where(distances>0, distances, 0)"
   ]
  },
  {
   "cell_type": "code",
   "execution_count": 89,
   "id": "6421fe21-2f01-4e58-aded-ae01a3eaefbc",
   "metadata": {},
   "outputs": [
    {
     "data": {
      "text/plain": [
       "<Labels layer 'split sparks' at 0x2214ae34f40>"
      ]
     },
     "execution_count": 89,
     "metadata": {},
     "output_type": "execute_result"
    }
   ],
   "source": [
    "viewer = napari.Viewer()\n",
    "viewer.add_image(sample['xs'], \n",
    "                 name='movie', \n",
    "                 colormap=('colors',cmap)\n",
    "                )\n",
    "\n",
    "viewer.add_labels(argmax_preds['sparks'],\n",
    "                  name='binary spark preds',\n",
    "                  opacity=0.5,\n",
    "                  visible=False\n",
    "                 )\n",
    "\n",
    "viewer.add_image(clip_distances,\n",
    "                 name='distances from sparks borders',\n",
    "                 visible=False\n",
    "                 )\n",
    "\n",
    "viewer.add_labels(split_event_mask,\n",
    "                  name='split sparks',\n",
    "                  opacity=0.5\n",
    "                 )"
   ]
  },
  {
   "cell_type": "code",
   "execution_count": null,
   "id": "01526007-6c8d-4442-8a43-d642065ae378",
   "metadata": {},
   "outputs": [],
   "source": []
  }
 ],
 "metadata": {
  "kernelspec": {
   "display_name": "Python 3 (ipykernel)",
   "language": "python",
   "name": "python3"
  },
  "language_info": {
   "codemirror_mode": {
    "name": "ipython",
    "version": 3
   },
   "file_extension": ".py",
   "mimetype": "text/x-python",
   "name": "python",
   "nbconvert_exporter": "python",
   "pygments_lexer": "ipython3",
   "version": "3.8.8"
  }
 },
 "nbformat": 4,
 "nbformat_minor": 5
}
