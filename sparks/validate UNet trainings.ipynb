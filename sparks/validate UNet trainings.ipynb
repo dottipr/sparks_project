{
 "cells": [
  {
   "cell_type": "markdown",
   "metadata": {},
   "source": [
    "15.12.2021\n",
    "\n",
    "Load a bunch of UNet predictions in folder `trainings_validation` and compute some metrics, plots, etc.\n",
    "\n",
    "Predictions are saved as:\n",
    "`{training_name}_{epoch}_{video_id}_{class}.tif`\n",
    "\n",
    "**Idea**: Use predictions to produce plots and tables to visualize the results."
   ]
  },
  {
   "cell_type": "code",
   "execution_count": 4,
   "metadata": {
    "tags": []
   },
   "outputs": [],
   "source": [
    "%load_ext autoreload\n",
    "%autoreload 2"
   ]
  },
  {
   "cell_type": "code",
   "execution_count": 1,
   "metadata": {
    "tags": []
   },
   "outputs": [],
   "source": [
    "import numpy as np\n",
    "import glob\n",
    "import os\n",
    "import imageio\n",
    "from collections import defaultdict\n",
    "import pprint\n",
    "\n",
    "from scipy.ndimage.morphology import binary_dilation, binary_erosion\n",
    "from sklearn.metrics import jaccard_score, f1_score\n",
    "\n",
    "import pandas as pd\n",
    "import matplotlib.pyplot as plt\n",
    "\n",
    "import unet\n",
    "from metrics_tools import (correspondences_precision_recall, \n",
    "                           Metrics, \n",
    "                           reduce_metrics, \n",
    "                           empty_marginal_frames,\n",
    "                           process_spark_prediction,\n",
    "                           process_puff_prediction,\n",
    "                           process_wave_prediction,\n",
    "                           jaccard_score_exclusion_zone,\n",
    "                           write_videos_on_disk,\n",
    "                           get_sparks_locations_from_mask,\n",
    "                           compute_prec_rec,\n",
    "                           reduce_metrics_thresholds\n",
    "                          )"
   ]
  },
  {
   "cell_type": "code",
   "execution_count": 2,
   "metadata": {},
   "outputs": [
    {
     "data": {
      "text/plain": [
       "'C:\\\\Users\\\\dotti\\\\sparks_project\\\\sparks'"
      ]
     },
     "execution_count": 2,
     "metadata": {},
     "output_type": "execute_result"
    }
   ],
   "source": [
    "BASEDIR = os.path.abspath('')\n",
    "BASEDIR"
   ]
  },
  {
   "cell_type": "markdown",
   "metadata": {
    "tags": []
   },
   "source": [
    "### Select predictions to load"
   ]
  },
  {
   "cell_type": "code",
   "execution_count": 3,
   "metadata": {},
   "outputs": [],
   "source": [
    "training_names = [#\"256_long_chunks_ubelix\",\n",
    "                  \"focal_loss_gamma_5_ubelix\"\n",
    "                  ]\n",
    "\n",
    "epoch = 100000"
   ]
  },
  {
   "cell_type": "markdown",
   "metadata": {},
   "source": [
    "### Configure input/output folder"
   ]
  },
  {
   "cell_type": "code",
   "execution_count": 4,
   "metadata": {},
   "outputs": [],
   "source": [
    "metrics_folder = \"trainings_validation\""
   ]
  },
  {
   "cell_type": "markdown",
   "metadata": {},
   "source": [
    "### Load annotations\n",
    "open and process annotations (original version, sparks not processed)\n"
   ]
  },
  {
   "cell_type": "code",
   "execution_count": 5,
   "metadata": {},
   "outputs": [],
   "source": [
    "ys_all_trainings = {}\n",
    "\n",
    "ys_filenames = sorted(glob.glob(os.path.join(metrics_folder, \"[0-9]*_video_mask.tif\")))\n",
    "\n",
    "for f in ys_filenames:\n",
    "    video_id = os.path.split(f)[1][:2]\n",
    "    ys_all_trainings[video_id] = np.asarray(imageio.volread(f)).astype('int')"
   ]
  },
  {
   "cell_type": "code",
   "execution_count": 6,
   "metadata": {},
   "outputs": [
    {
     "data": {
      "text/plain": [
       "dict_keys(['05', '10', '15', '20', '25', '32', '34', '40', '45'])"
      ]
     },
     "execution_count": 6,
     "metadata": {},
     "output_type": "execute_result"
    }
   ],
   "source": [
    "ys_all_trainings.keys()"
   ]
  },
  {
   "cell_type": "markdown",
   "metadata": {},
   "source": [
    "### Load predictions"
   ]
  },
  {
   "cell_type": "code",
   "execution_count": 7,
   "metadata": {},
   "outputs": [],
   "source": [
    "ys = {} # contains annotations for each training\n",
    "sparks = {} # contains sparks for each training\n",
    "puffs = {} # contains puffs for each training\n",
    "waves = {} # contains waves for each training\n",
    "\n",
    "for training_name in training_names:\n",
    "    # Import .tif files as numpy array\n",
    "    base_name = os.path.join(metrics_folder,training_name+\"_\"+str(epoch)+\"_\")\n",
    "    \n",
    "    if training_name == \"temporal_reduction\": # need to use annotations from another training\n",
    "        if training_names[-1] != \"temporal_reduction\":\n",
    "            base_name_ys = os.path.join(metrics_folder,training_names[-1]+\"_\"+str(epoch)+\"_\")\n",
    "            ys_filenames = sorted(glob.glob(base_name_ys+\"[0-9]*_ys.tif\"))\n",
    "        else:\n",
    "            print(\"SELECT TRAINING NAME DIFFERENT FROM temporal_reduction\")\n",
    "            break\n",
    "    else:    \n",
    "        ys_filenames = sorted(glob.glob(base_name+\"*_ys.tif\"))\n",
    "        \n",
    "    sparks_filenames = sorted(glob.glob(base_name+\"[0-9]*_sparks.tif\"))\n",
    "    puffs_filenames = sorted(glob.glob(base_name+\"[0-9]*_puffs.tif\"))\n",
    "    waves_filenames = sorted(glob.glob(base_name+\"[0-9]*_waves.tif\"))\n",
    "        \n",
    "    training_ys = {}\n",
    "    training_sparks = {}\n",
    "    training_puffs = {}\n",
    "    training_waves = {}\n",
    "    \n",
    "    for idx,y,s,p,w in zip(ys_all_trainings.keys(),ys_filenames,sparks_filenames,puffs_filenames,waves_filenames):\n",
    "        ys_loaded = np.asarray(imageio.volread(y)).astype('int')\n",
    "        training_ys[idx] = ys_loaded\n",
    "        \n",
    "        if training_name == \"temporal_reduction\": # repeat each frame 4 times\n",
    "            s_preds = np.asarray(imageio.volread(s))\n",
    "            p_preds = np.asarray(imageio.volread(p))\n",
    "            w_preds = np.asarray(imageio.volread(w))\n",
    "                        \n",
    "            # repeat predicted frames x4\n",
    "            s_preds = np.repeat(s_preds,4,0)\n",
    "            p_preds = np.repeat(p_preds,4,0)\n",
    "            w_preds = np.repeat(w_preds,4,0)\n",
    "            \n",
    "            # if original length %4 != 0, crop preds\n",
    "            if ys_loaded.shape != s_preds.shape:\n",
    "                duration = ys_loaded.shape[0]\n",
    "                s_preds = s_preds[:duration]\n",
    "                p_preds = p_preds[:duration]\n",
    "                w_preds = w_preds[:duration]\n",
    "            \n",
    "            assert ys_loaded.shape == s_preds.shape\n",
    "            assert ys_loaded.shape == p_preds.shape\n",
    "            assert ys_loaded.shape == w_preds.shape\n",
    "            \n",
    "            training_sparks[idx] = s_preds\n",
    "            training_puffs[idx] = p_preds\n",
    "            training_waves[idx] = w_preds\n",
    "        else:\n",
    "            training_sparks[idx] = np.asarray(imageio.volread(s))\n",
    "            training_puffs[idx] = np.asarray(imageio.volread(p))\n",
    "            training_waves[idx] = np.asarray(imageio.volread(w))\n",
    "\n",
    "    ys[training_name] = training_ys\n",
    "    sparks[training_name] = training_sparks\n",
    "    puffs[training_name] = training_puffs\n",
    "    waves[training_name] = training_waves       "
   ]
  },
  {
   "cell_type": "markdown",
   "metadata": {
    "jp-MarkdownHeadingCollapsed": true,
    "tags": []
   },
   "source": [
    "## Jaccard index for puffs and waves\n",
    "12.05.2021\n",
    "Seguendo il consiglio di Pablo:\n",
    "erosion & dilation delle annotations -> creazione di una exclusion region che viene ignorata dal supporto del Jaccard index"
   ]
  },
  {
   "cell_type": "code",
   "execution_count": 78,
   "metadata": {
    "tags": []
   },
   "outputs": [],
   "source": [
    "# Define function\n",
    "\n",
    "'''def jaccard_score_exclusion_zone(ys,preds,exclusion_radius,ignore_mask=None,sparks=False):\n",
    "    \n",
    "    # Compute intersection and union\n",
    "    intersection = np.logical_and(ys, preds)\n",
    "    union = np.logical_or(ys, preds)\n",
    "    \n",
    "    if exclusion_radius != 0:\n",
    "        # Compute exclusion zone: 1 where Jaccard index has to be computed, 0 otherwise\n",
    "        dilated = binary_dilation(ys, iterations=exclusion_radius)\n",
    "        \n",
    "        if not sparks:\n",
    "            eroded = binary_erosion(ys, iterations=exclusion_radius)\n",
    "            exclusion_mask = 1 - np.logical_xor(eroded,dilated)\n",
    "        else:\n",
    "            # Erosion is not computed for spark class\n",
    "            exclusion_mask = 1 - np.logical_xor(ys,dilated)\n",
    "        \n",
    "        # If ignore mask is given, don't compute values where it is 1\n",
    "        if ignore_mask is not None:\n",
    "            # Compute dilation for ignore mask too (erosion not necessary)\n",
    "            ignore_mask = binary_dilation(ignore_mask, iterations=exclusion_radius)\n",
    "            \n",
    "            # Ignore regions where ignore mask is 1\n",
    "            exclusion_mask = np.logical_and(1 - ignore_mask, exclusion_mask)\n",
    "        \n",
    "        # Compute intersecion of exclusion mask with intersection and union\n",
    "        intersection = np.logical_and(intersection, exclusion_mask)\n",
    "        union = np.logical_and(union, exclusion_mask)    \n",
    "        \n",
    "    #print(\"Pixels in intersection:\", np.count_nonzero(intersection))\n",
    "    #print(\"Pixels in union:\", np.count_nonzero(union))\n",
    "        \n",
    "    if np.count_nonzero(union) != 0:\n",
    "        iou = np.count_nonzero(intersection)/np.count_nonzero(union)\n",
    "    else:\n",
    "        iou = 1.\n",
    "    \n",
    "    return iou''';"
   ]
  },
  {
   "cell_type": "markdown",
   "metadata": {
    "jp-MarkdownHeadingCollapsed": true,
    "tags": []
   },
   "source": [
    "## Compute metrics for sample video"
   ]
  },
  {
   "cell_type": "code",
   "execution_count": 12,
   "metadata": {
    "tags": []
   },
   "outputs": [],
   "source": [
    "# results for a sample movie in sample dataset\n",
    "name = \"256_long_chunks_64_step_physio\"\n",
    "idx = 0"
   ]
  },
  {
   "cell_type": "code",
   "execution_count": 13,
   "metadata": {
    "tags": []
   },
   "outputs": [],
   "source": [
    "ignore_frames = 6"
   ]
  },
  {
   "cell_type": "markdown",
   "metadata": {},
   "source": [
    "### Get binary preds and remove ignored frames"
   ]
  },
  {
   "cell_type": "code",
   "execution_count": 14,
   "metadata": {
    "tags": []
   },
   "outputs": [
    {
     "ename": "KeyError",
     "evalue": "'256_long_chunks_64_step_physio'",
     "output_type": "error",
     "traceback": [
      "\u001b[1;31m---------------------------------------------------------------------------\u001b[0m",
      "\u001b[1;31mKeyError\u001b[0m                                  Traceback (most recent call last)",
      "\u001b[1;32m~\\AppData\\Local\\Temp/ipykernel_494564/756685758.py\u001b[0m in \u001b[0;36m<module>\u001b[1;34m\u001b[0m\n\u001b[0;32m      1\u001b[0m \u001b[1;31m# get predictions\u001b[0m\u001b[1;33m\u001b[0m\u001b[1;33m\u001b[0m\u001b[1;33m\u001b[0m\u001b[0m\n\u001b[1;32m----> 2\u001b[1;33m \u001b[0msparks_sample\u001b[0m \u001b[1;33m=\u001b[0m \u001b[0msparks\u001b[0m\u001b[1;33m[\u001b[0m\u001b[0mname\u001b[0m\u001b[1;33m]\u001b[0m\u001b[1;33m[\u001b[0m\u001b[0midx\u001b[0m\u001b[1;33m]\u001b[0m\u001b[1;33m\u001b[0m\u001b[1;33m\u001b[0m\u001b[0m\n\u001b[0m\u001b[0;32m      3\u001b[0m \u001b[0mpuffs_sample\u001b[0m \u001b[1;33m=\u001b[0m \u001b[0mpuffs\u001b[0m\u001b[1;33m[\u001b[0m\u001b[0mname\u001b[0m\u001b[1;33m]\u001b[0m\u001b[1;33m[\u001b[0m\u001b[0midx\u001b[0m\u001b[1;33m]\u001b[0m\u001b[1;33m\u001b[0m\u001b[1;33m\u001b[0m\u001b[0m\n\u001b[0;32m      4\u001b[0m \u001b[0mwaves_sample\u001b[0m \u001b[1;33m=\u001b[0m \u001b[0mwaves\u001b[0m\u001b[1;33m[\u001b[0m\u001b[0mname\u001b[0m\u001b[1;33m]\u001b[0m\u001b[1;33m[\u001b[0m\u001b[0midx\u001b[0m\u001b[1;33m]\u001b[0m\u001b[1;33m\u001b[0m\u001b[1;33m\u001b[0m\u001b[0m\n",
      "\u001b[1;31mKeyError\u001b[0m: '256_long_chunks_64_step_physio'"
     ]
    }
   ],
   "source": [
    "# get predictions\n",
    "sparks_sample = sparks[name][idx]\n",
    "puffs_sample = puffs[name][idx]\n",
    "waves_sample = waves[name][idx]"
   ]
  },
  {
   "cell_type": "code",
   "execution_count": null,
   "metadata": {
    "tags": []
   },
   "outputs": [],
   "source": [
    "t_detection = 0.5\n",
    "min_radius_puffs = 4\n",
    "min_radius_waves = 10\n",
    "\n",
    "puffs_binary = process_puff_prediction(puffs_sample, \n",
    "                                       t_detection, \n",
    "                                       min_radius_puffs, \n",
    "                                       ignore_frames)\n",
    "\n",
    "waves_binary = process_wave_prediction(waves_sample, \n",
    "                                       t_detection, \n",
    "                                       min_radius_waves, \n",
    "                                       ignore_frames)"
   ]
  },
  {
   "cell_type": "markdown",
   "metadata": {},
   "source": [
    "### Get binary ys and remove ignored frames"
   ]
  },
  {
   "cell_type": "code",
   "execution_count": null,
   "metadata": {
    "tags": []
   },
   "outputs": [],
   "source": [
    "# get binary ys\n",
    "ys_sample = ys_all_trainings[idx]\n",
    "\n",
    "ys_puffs_sample = np.where(ys_sample==3,1,0)\n",
    "ys_waves_sample = np.where(ys_sample==2,1,0)\n",
    "ignore_mask = np.where(ys_sample==4,1,0)"
   ]
  },
  {
   "cell_type": "code",
   "execution_count": null,
   "metadata": {
    "tags": []
   },
   "outputs": [],
   "source": [
    "ys_puffs_sample = empty_marginal_frames(ys_puffs_sample, ignore_frames)\n",
    "ys_waves_sample = empty_marginal_frames(ys_waves_sample, ignore_frames)\n",
    "ignore_mask = empty_marginal_frames(ignore_mask, ignore_frames)"
   ]
  },
  {
   "cell_type": "markdown",
   "metadata": {},
   "source": [
    "### Plot a sample frame"
   ]
  },
  {
   "cell_type": "code",
   "execution_count": null,
   "metadata": {
    "tags": []
   },
   "outputs": [],
   "source": [
    "sparks_sample.shape, puffs_sample.shape, waves_sample.shape, ys_sample.shape"
   ]
  },
  {
   "cell_type": "code",
   "execution_count": null,
   "metadata": {
    "tags": []
   },
   "outputs": [],
   "source": [
    "sample_frame = 199 # 346"
   ]
  },
  {
   "cell_type": "code",
   "execution_count": null,
   "metadata": {
    "tags": []
   },
   "outputs": [],
   "source": [
    "# Plot annotations and preds of sample frame\n",
    "\n",
    "#plt.rcParams.update({'font.size': 8})\n",
    "\n",
    "plt.figure(figsize=(20,8))\n",
    "plt.suptitle(f\"Annotations and preds of sample frame {sample_frame}\", fontsize=12)\n",
    "\n",
    "\n",
    "ax = plt.subplot(4,2,1)\n",
    "ax.set_title(\"Puffs annotations\")\n",
    "plt.imshow(ys_puffs_sample[sample_frame])\n",
    "\n",
    "ax = plt.subplot(4,2,2)\n",
    "ax.set_title(\"Waves annotations\")\n",
    "plt.imshow(ys_waves_sample[sample_frame])\n",
    "\n",
    "ax = plt.subplot(4,2,3)\n",
    "ax.set_title(\"Puffs binary preds\")\n",
    "plt.imshow(puffs_binary[sample_frame])\n",
    "\n",
    "ax = plt.subplot(4,2,4)\n",
    "ax.set_title(\"Waves binary preds\")\n",
    "plt.imshow(waves_binary[sample_frame])\n",
    "\n",
    "ax = plt.subplot(4,2,5)\n",
    "ax.set_title(\"Puffs original preds\")\n",
    "plt.imshow(puffs_sample[sample_frame])\n",
    "\n",
    "ax = plt.subplot(4,2,6)\n",
    "ax.set_title(\"Waves original preds\")\n",
    "plt.imshow(waves_sample[sample_frame])\n",
    "\n",
    "ax = plt.subplot(4,2,7)\n",
    "ax.set_title(\"Ignore mask (annotations)\")\n",
    "plt.imshow(ignore_mask[sample_frame])\n",
    "\n",
    "\n",
    "plt.show()"
   ]
  },
  {
   "cell_type": "markdown",
   "metadata": {
    "tags": []
   },
   "source": [
    "### Save sample binary preds on disk"
   ]
  },
  {
   "cell_type": "code",
   "execution_count": null,
   "metadata": {
    "tags": []
   },
   "outputs": [],
   "source": [
    "imageio.volwrite(os.path.join(metrics_folder, \"binary_preds_puffs.tif\"), np.uint8(puffs_binary))\n",
    "imageio.volwrite(os.path.join(metrics_folder, \"binary_preds_waves.tif\"), np.uint8(waves_binary))"
   ]
  },
  {
   "cell_type": "markdown",
   "metadata": {},
   "source": [
    "### Save sample annotations on disk"
   ]
  },
  {
   "cell_type": "code",
   "execution_count": null,
   "metadata": {
    "tags": []
   },
   "outputs": [],
   "source": [
    "imageio.volwrite(os.path.join(metrics_folder, \"annotations_puffs.tif\"), np.uint8(ys_puffs_sample))\n",
    "imageio.volwrite(os.path.join(metrics_folder, \"annotations_waves.tif\"), np.uint8(ys_waves_sample))"
   ]
  },
  {
   "cell_type": "markdown",
   "metadata": {
    "tags": []
   },
   "source": [
    "### Save ignore mask on disk"
   ]
  },
  {
   "cell_type": "code",
   "execution_count": null,
   "metadata": {},
   "outputs": [],
   "source": [
    "imageio.volwrite(os.path.join(metrics_folder, \"ignore_mask.tif\"), np.uint8(ignore_mask))"
   ]
  },
  {
   "cell_type": "markdown",
   "metadata": {},
   "source": [
    "### Compute Jaccard score (without exclusion zone)"
   ]
  },
  {
   "cell_type": "code",
   "execution_count": 21,
   "metadata": {
    "tags": []
   },
   "outputs": [
    {
     "name": "stdout",
     "output_type": "stream",
     "text": [
      "Jaccard score puffs: 0.16206809118779245\n",
      "Jaccard score waves: 0.0\n"
     ]
    },
    {
     "name": "stderr",
     "output_type": "stream",
     "text": [
      "C:\\Users\\dotti\\.conda\\envs\\sparks\\lib\\site-packages\\sklearn\\metrics\\_classification.py:1248: UndefinedMetricWarning: Jaccard is ill-defined and being set to 0.0 due to no true or predicted samples. Use `zero_division` parameter to control this behavior.\n",
      "  _warn_prf(average, modifier, msg_start, len(result))\n"
     ]
    }
   ],
   "source": [
    "iou_puffs = jaccard_score(ys_puffs_sample.ravel(), puffs_binary.ravel())\n",
    "iou_waves = jaccard_score(ys_waves_sample.ravel(), waves_binary.ravel())\n",
    "\n",
    "print(f\"Jaccard score puffs: {iou_puffs}\")\n",
    "print(f\"Jaccard score waves: {iou_waves}\")"
   ]
  },
  {
   "cell_type": "code",
   "execution_count": 22,
   "metadata": {
    "tags": []
   },
   "outputs": [],
   "source": [
    "# Compute exclusion zone\n",
    "\n",
    "exclusion_radius = 2"
   ]
  },
  {
   "cell_type": "code",
   "execution_count": 23,
   "metadata": {
    "tags": []
   },
   "outputs": [],
   "source": [
    "# Just for puffs\n",
    "puffs_eroded = binary_erosion(ys_puffs_sample, iterations=exclusion_radius)\n",
    "puffs_dilated = binary_dilation(ys_puffs_sample, iterations=exclusion_radius)\n",
    "\n",
    "exclusion_mask = 1 - np.logical_xor(puffs_eroded, puffs_dilated)\n",
    "# 1 where Jaccard index has to be computed, 0 otherwise"
   ]
  },
  {
   "cell_type": "code",
   "execution_count": 24,
   "metadata": {},
   "outputs": [],
   "source": [
    "# Compute dilation for ignore mask\n",
    "ignore_mask_dilated = binary_dilation(ignore_mask, iterations=exclusion_radius)\n",
    "\n",
    "# Ignore regions in ignore mask too\n",
    "exclusion_mask_ignore_roi = np.logical_and(1 - ignore_mask_dilated, exclusion_mask)"
   ]
  },
  {
   "cell_type": "code",
   "execution_count": 25,
   "metadata": {
    "tags": []
   },
   "outputs": [
    {
     "data": {
      "image/png": "[encoded data removed]",
      "text/plain": [
       "<Figure size 1440x432 with 6 Axes>"
      ]
     },
     "metadata": {
      "needs_background": "light"
     },
     "output_type": "display_data"
    }
   ],
   "source": [
    "# Plot annotations eroded and dilated\n",
    "#plt.rcParams.update({'font.size': 8})\n",
    "\n",
    "plt.figure(figsize=(20,6))\n",
    "plt.suptitle(f\"Plot annotations eroded and dilated of sample frame {sample_frame}\", fontsize=12)\n",
    "\n",
    "\n",
    "ax = plt.subplot(3,2,1)\n",
    "ax.set_title(\"Puffs original annotations\")\n",
    "plt.imshow(ys_puffs_sample[sample_frame])\n",
    "\n",
    "ax = plt.subplot(3,2,2)\n",
    "ax.set_title(\"Difference\")\n",
    "plt.imshow(exclusion_mask[sample_frame])\n",
    "\n",
    "ax = plt.subplot(3,2,3)\n",
    "ax.set_title(\"Puffs eroded annotations\")\n",
    "plt.imshow(puffs_eroded[sample_frame])\n",
    "\n",
    "ax = plt.subplot(3,2,4)\n",
    "ax.set_title(\"Puffs dilated annotations\")\n",
    "plt.imshow(puffs_dilated[sample_frame])\n",
    "\n",
    "ax = plt.subplot(3,2,5)\n",
    "ax.set_title(\"Dilated ignore mask\")\n",
    "plt.imshow(ignore_mask_dilated[sample_frame])\n",
    "\n",
    "ax = plt.subplot(3,2,6)\n",
    "ax.set_title(\"Region to compute IoU\")\n",
    "plt.imshow(exclusion_mask_ignore_roi[sample_frame])\n",
    "\n",
    "\n",
    "plt.show()"
   ]
  },
  {
   "cell_type": "code",
   "execution_count": 26,
   "metadata": {
    "tags": []
   },
   "outputs": [],
   "source": [
    "# Compute intersection and union of annotations with preds\n",
    "\n",
    "intersection = np.logical_and(ys_puffs_sample, puffs_binary)\n",
    "union = np.logical_or(ys_puffs_sample, puffs_binary)\n",
    "\n",
    "# Compute intersection and union only in exclusion mask\n",
    "\n",
    "intersection_mask = np.logical_and(intersection, exclusion_mask_ignore_roi)\n",
    "union_mask = np.logical_and(union, exclusion_mask_ignore_roi)"
   ]
  },
  {
   "cell_type": "code",
   "execution_count": 27,
   "metadata": {
    "tags": []
   },
   "outputs": [
    {
     "data": {
      "image/png": "[encoded data removed]",
      "text/plain": [
       "<Figure size 1440x432 with 6 Axes>"
      ]
     },
     "metadata": {
      "needs_background": "light"
     },
     "output_type": "display_data"
    }
   ],
   "source": [
    "# Plot intersection and union\n",
    "#plt.rcParams.update({'font.size': 8})\n",
    "\n",
    "plt.figure(figsize=(20,6))\n",
    "plt.suptitle(f\"Intersection and union of annotations with preds of sample frame {sample_frame}\", fontsize=12)\n",
    "\n",
    "\n",
    "ax = plt.subplot(3,2,1)\n",
    "ax.set_title(\"Intersecion of annotations and preds\")\n",
    "plt.imshow(intersection[sample_frame])\n",
    "\n",
    "ax = plt.subplot(3,2,2)\n",
    "ax.set_title(\"Union of annotations and preds\")\n",
    "plt.imshow(union[sample_frame])\n",
    "\n",
    "ax = plt.subplot(3,2,3)\n",
    "ax.set_title(\"Same intersection with respect to exclusion mask\")\n",
    "plt.imshow(intersection_mask[sample_frame])\n",
    "\n",
    "ax = plt.subplot(3,2,4)\n",
    "ax.set_title(\"Same union with respect to exclusion mask\")\n",
    "plt.imshow(union_mask[sample_frame])\n",
    "\n",
    "ax = plt.subplot(3,2,5)\n",
    "ax.set_title(\"Exclusion mask\")\n",
    "plt.imshow(exclusion_mask[sample_frame])\n",
    "\n",
    "ax = plt.subplot(3,2,6)\n",
    "ax.set_title(\"Exclusion mask with ignore mask\")\n",
    "plt.imshow(exclusion_mask_ignore_roi[sample_frame])\n",
    "\n",
    "\n",
    "plt.show()"
   ]
  },
  {
   "cell_type": "code",
   "execution_count": 28,
   "metadata": {
    "tags": []
   },
   "outputs": [
    {
     "name": "stdout",
     "output_type": "stream",
     "text": [
      "Pixels in intersection: 16943\n",
      "Pixels in union: 136282\n",
      "IoU wrt to wave class: 0.12432309475939596\n"
     ]
    }
   ],
   "source": [
    "# Compute Jaccard index\n",
    "\n",
    "print(f\"Pixels in intersection: {np.count_nonzero(intersection_mask)}\")\n",
    "print(f\"Pixels in union: {np.count_nonzero(union_mask)}\")\n",
    "\n",
    "new_iou_puffs = np.count_nonzero(intersection_mask)/np.count_nonzero(union_mask)\n",
    "\n",
    "print(f\"IoU wrt to wave class: {new_iou_puffs}\")"
   ]
  },
  {
   "cell_type": "code",
   "execution_count": 29,
   "metadata": {
    "tags": []
   },
   "outputs": [],
   "source": [
    "new_iou_puffs = jaccard_score_exclusion_zone(ys_puffs_sample, puffs_binary, exclusion_radius, ignore_mask)\n",
    "new_iou_waves = jaccard_score_exclusion_zone(ys_waves_sample, waves_binary, exclusion_radius, ignore_mask)"
   ]
  },
  {
   "cell_type": "code",
   "execution_count": 30,
   "metadata": {
    "tags": []
   },
   "outputs": [
    {
     "name": "stdout",
     "output_type": "stream",
     "text": [
      "0.12432309475939596\n",
      "1.0\n"
     ]
    }
   ],
   "source": [
    "print(new_iou_puffs)\n",
    "print(new_iou_waves)"
   ]
  },
  {
   "cell_type": "markdown",
   "metadata": {},
   "source": [
    "### Jaccard index for sparks"
   ]
  },
  {
   "cell_type": "code",
   "execution_count": 73,
   "metadata": {
    "tags": []
   },
   "outputs": [],
   "source": [
    "# get sparks annotations\n",
    "ys_sparks_sample = np.where(ys_sample==1,1,0)\n",
    "\n",
    "# get sparks predictions\n",
    "t_detection_sparks = 0.9\n",
    "min_radius_sparks = 3\n",
    "sparks_binary = (process_spark_prediction(sparks_sample, \n",
    "                                          t_detection=t_detection_sparks,\n",
    "                                          min_radius=min_radius_sparks,\n",
    "                                          ignore_frames=ignore_frames,\n",
    "                                          return_clean_pred=True)) != 0 "
   ]
  },
  {
   "cell_type": "markdown",
   "metadata": {},
   "source": [
    "### Comparison with original implementation (when radius = 0)"
   ]
  },
  {
   "cell_type": "code",
   "execution_count": 76,
   "metadata": {
    "collapsed": true,
    "jupyter": {
     "outputs_hidden": true
    },
    "tags": []
   },
   "outputs": [
    {
     "name": "stdout",
     "output_type": "stream",
     "text": [
      "Jaccard index with new method:\n",
      "Puffs: 0.20890103174317864\n",
      "Waves: 1.0\n",
      "Sparks: 0.04723618090452261\n",
      "\n",
      "Jaccard index with sklearn metrics method\n",
      "Puffs: 0.20890103174317864\n",
      "Waves: 0.0\n",
      "Sparks: 0.04723618090452261\n"
     ]
    }
   ],
   "source": [
    "print(\"Jaccard index with new method:\")\n",
    "print(f\"Puffs: {jaccard_score_exclusion_zone(ys_puffs_sample, puffs_binary, 0)}\") # ! not considering ignore mask\n",
    "print(f\"Waves: {jaccard_score_exclusion_zone(ys_waves_sample, waves_binary, 0)}\") # ! not considering ignore mask\n",
    "print(f\"Sparks: {jaccard_score_exclusion_zone(ys_sparks_sample, sparks_binary, 0, sparks=True)}\") # ! not considering ignore mask\n",
    "print()\n",
    "print(\"Jaccard index with sklearn metrics method\")\n",
    "print(f\"Puffs: {jaccard_score(ys_puffs_sample.ravel(), puffs_binary.ravel())}\")\n",
    "print(f\"Waves: {jaccard_score(ys_waves_sample.ravel(), waves_binary.ravel())}\")\n",
    "print(f\"Sparks: {jaccard_score(ys_sparks_sample.ravel(), sparks_binary.ravel())}\")"
   ]
  },
  {
   "cell_type": "markdown",
   "metadata": {
    "tags": []
   },
   "source": [
    "### Plot IoU with respect to different exclusion radius"
   ]
  },
  {
   "cell_type": "code",
   "execution_count": 77,
   "metadata": {
    "tags": []
   },
   "outputs": [],
   "source": [
    "exclusion_radius_list = [0,1,2,3,4,5,6,7,8,9,10]\n",
    "\n",
    "# puffs\n",
    "ious_puffs = []\n",
    "for radius in exclusion_radius_list:\n",
    "    ious_puffs.append(jaccard_score_exclusion_zone(ys_puffs_sample, puffs_binary, radius)) # ! not considering ignore mask\n",
    "    \n",
    "# waves\n",
    "ious_waves = []\n",
    "for radius in exclusion_radius_list:\n",
    "    ious_waves.append(jaccard_score_exclusion_zone(ys_waves_sample, waves_binary, radius)) # ! not considering ignore mask\n",
    "    \n",
    "# sparks\n",
    "ious_sparks = []\n",
    "for radius in exclusion_radius_list:\n",
    "    ious_sparks.append(jaccard_score_exclusion_zone(ys_sparks_sample, sparks_binary, radius, sparks=True)) # ! not considering ignore mask"
   ]
  },
  {
   "cell_type": "code",
   "execution_count": 78,
   "metadata": {
    "collapsed": true,
    "jupyter": {
     "outputs_hidden": true
    },
    "tags": []
   },
   "outputs": [
    {
     "data": {
      "image/png": "[encoded data removed]",
      "text/plain": [
       "<Figure size 1440x288 with 3 Axes>"
      ]
     },
     "metadata": {
      "needs_background": "light"
     },
     "output_type": "display_data"
    }
   ],
   "source": [
    "# Plot Jaccard index wrt different exclusion radius\n",
    "#plt.rcParams.update({'font.size': 8})\n",
    "\n",
    "plt.figure(figsize=(20,4))\n",
    "plt.suptitle(f\"Jaccard index with respect to different exclusion radius\", fontsize=12)\n",
    "\n",
    "\n",
    "ax = plt.subplot(1,3,1)\n",
    "ax.set_title(\"Puff class\")\n",
    "plt.ylim([0, 1])\n",
    "plt.plot(exclusion_radius_list, ious_puffs)\n",
    "\n",
    "ax = plt.subplot(1,3,2)\n",
    "ax.set_title(\"Waves class\")\n",
    "plt.ylim([0, 1])\n",
    "plt.plot(exclusion_radius_list, ious_waves)\n",
    "\n",
    "ax = plt.subplot(1,3,3)\n",
    "ax.set_title(\"Sparks class\")\n",
    "plt.ylim([0, 1])\n",
    "plt.plot(exclusion_radius_list, ious_sparks)\n",
    "\n",
    "\n",
    "plt.show()"
   ]
  },
  {
   "cell_type": "code",
   "execution_count": 79,
   "metadata": {
    "collapsed": true,
    "jupyter": {
     "outputs_hidden": true
    },
    "tags": []
   },
   "outputs": [
    {
     "name": "stdout",
     "output_type": "stream",
     "text": [
      "IoUs puffs: [0.20890103174317864, 0.14459408432976714, 0.08126801152737752, 0.037353441136730156, 0.013306755737528283, 0.0021321961620469083, 7.474400179385604e-05, 0.0, 0.0, 0.0, 0.0]\n",
      "IoUs puffs: [1.0, 1.0, 1.0, 1.0, 1.0, 1.0, 1.0, 1.0, 1.0, 1.0, 1.0]\n",
      "IoUs puffs: [0.04723618090452261, 0.05264336917562724, 0.05791030064070971, 0.06230116648992577, 0.06536856745479833, 0.06762589928057554, 0.06909732431637754, 0.07004470938897168, 0.07078313253012049, 0.07219662058371736, 0.07413249211356467]\n"
     ]
    }
   ],
   "source": [
    "print(f\"IoUs puffs: {ious_puffs}\")\n",
    "print(f\"IoUs puffs: {ious_waves}\")\n",
    "print(f\"IoUs puffs: {ious_sparks}\")"
   ]
  },
  {
   "cell_type": "markdown",
   "metadata": {
    "tags": []
   },
   "source": [
    "## Evaluate all trainings on all videos"
   ]
  },
  {
   "cell_type": "code",
   "execution_count": 8,
   "metadata": {
    "tags": []
   },
   "outputs": [
    {
     "name": "stdout",
     "output_type": "stream",
     "text": [
      "focal_loss_gamma_5_ubelix\n"
     ]
    }
   ],
   "source": [
    "# parameters\n",
    "ignore_frames = 6\n",
    "'''\n",
    "t_detection = 0.5\n",
    "t_detection_sparks = 0.9\n",
    "\n",
    "min_radius_puffs = 8\n",
    "min_radius_waves = 12\n",
    "min_radius_sparks = 2'''\n",
    "\n",
    "# for focal_loss_gamma_5_ubelix\n",
    "# sparks params\n",
    "t_detection_sparks = 0.7\n",
    "min_radius_sparks = 2\n",
    "\n",
    "# puffs and waves params\n",
    "t_detection = 0.65\n",
    "min_radius_puffs = 6\n",
    "min_radius_waves = 8\n",
    "\n",
    "exclusion_radius_list = [0,1,2,3,4,5,6,7,8,9,10]\n",
    "\n",
    "# each dictionary contains, for every training name, a list of IoU scores for all videos for all exclusion radius\n",
    "ious_sparks_all_trainings = {} # num trainings x num video x num exclusion radius\n",
    "ious_puffs_all_trainings = {}\n",
    "ious_waves_all_trainings = {}\n",
    "\n",
    "for training_name in training_names:\n",
    "    print(training_name)\n",
    "    # get predictions\n",
    "    sparks_training = sparks[training_name]\n",
    "    puffs_training = puffs[training_name]\n",
    "    waves_training = waves[training_name]\n",
    "        \n",
    "    ious_puffs_all_video = {}\n",
    "    ious_waves_all_video = {}\n",
    "    ious_sparks_all_video = {}\n",
    "    \n",
    "    for video_id in ys_all_trainings.keys():\n",
    "        ys_sample = ys_all_trainings[video_id]\n",
    "        sparks_sample = sparks_training[video_id]\n",
    "        puffs_sample = puffs_training[video_id]\n",
    "        waves_sample = waves_training[video_id]\n",
    "        \n",
    "        # get binary predictions and remove ignored frames\n",
    "        puffs_binary = process_puff_prediction(puffs_sample, \n",
    "                                               t_detection, \n",
    "                                               min_radius_puffs, \n",
    "                                               ignore_frames)\n",
    "        waves_binary = process_wave_prediction(waves_sample, \n",
    "                                               t_detection, \n",
    "                                               min_radius_waves, \n",
    "                                               ignore_frames)\n",
    "        sparks_binary = (process_spark_prediction(sparks_sample, \n",
    "                                                  t_detection=t_detection_sparks,\n",
    "                                                  min_radius=min_radius_sparks,\n",
    "                                                  ignore_frames=ignore_frames,\n",
    "                                                  return_clean_pred=True)) != 0 \n",
    "        \n",
    "        # get binary ys and remove ignored frames\n",
    "        ys_sparks_sample = empty_marginal_frames(np.where(ys_sample==1,1,0), ignore_frames)\n",
    "        ys_puffs_sample = empty_marginal_frames(np.where(ys_sample==3,1,0), ignore_frames)\n",
    "        ys_waves_sample = empty_marginal_frames(np.where(ys_sample==2,1,0), ignore_frames)\n",
    "        \n",
    "        # get ignore mask (events labelled with 4)\n",
    "        ignore_mask = empty_marginal_frames(np.where(ys_sample==4,1,0), ignore_frames)\n",
    "        \n",
    "        # compute IoU for some exclusion radius values\n",
    "        # puffs\n",
    "        ious_puffs = {}\n",
    "        for radius in exclusion_radius_list:\n",
    "            ious_puffs[radius] = jaccard_score_exclusion_zone(ys_puffs_sample, puffs_binary, radius, ignore_mask)\n",
    "            \n",
    "        ious_puffs_all_video[video_id] = ious_puffs\n",
    "\n",
    "        # waves\n",
    "        ious_waves = {}\n",
    "        for radius in exclusion_radius_list:\n",
    "            ious_waves[radius] = jaccard_score_exclusion_zone(ys_waves_sample, waves_binary, radius, ignore_mask)\n",
    "            \n",
    "        ious_waves_all_video[video_id] = ious_waves\n",
    "\n",
    "        # sparks\n",
    "        ious_sparks = {}\n",
    "        for radius in exclusion_radius_list:\n",
    "            ious_sparks[radius] = jaccard_score_exclusion_zone(ys_sparks_sample, sparks_binary, radius, ignore_mask, sparks=True)\n",
    "            \n",
    "        ious_sparks_all_video[video_id] = ious_sparks\n",
    "        \n",
    "    ious_sparks_all_trainings[training_name] = ious_sparks_all_video\n",
    "    ious_puffs_all_trainings[training_name] = ious_puffs_all_video\n",
    "    ious_waves_all_trainings[training_name] = ious_waves_all_video"
   ]
  },
  {
   "cell_type": "code",
   "execution_count": 9,
   "metadata": {},
   "outputs": [
    {
     "name": "stdout",
     "output_type": "stream",
     "text": [
      "{'focal_loss_gamma_5_ubelix': {'05': {0: 0.14759088314881752,\n",
      "                                      1: 0.139164530721454,\n",
      "                                      2: 0.10952007091300493,\n",
      "                                      3: 0.07999067768081415,\n",
      "                                      4: 0.05123214434884304,\n",
      "                                      5: 0.027663039375343767,\n",
      "                                      6: 0.011261883705505196,\n",
      "                                      7: 0.0029556478954048367,\n",
      "                                      8: 0.0003009199552918924,\n",
      "                                      9: 0.0,\n",
      "                                      10: 0.0},\n",
      "                               '10': {0: 0.5663674907955643,\n",
      "                                      1: 0.6396018813866267,\n",
      "                                      2: 0.6982539775311736,\n",
      "                                      3: 0.7583326657752198,\n",
      "                                      4: 0.8181698381740551,\n",
      "                                      5: 0.8755733041778239,\n",
      "                                      6: 0.9264887556907873,\n",
      "                                      7: 0.9639263631253513,\n",
      "                                      8: 0.9878216123499143,\n",
      "                                      9: 0.9971351463566536,\n",
      "                                      10: 0.9994726334425735},\n",
      "                               '15': {0: 0.3342710057345936,\n",
      "                                      1: 0.36440037261546354,\n",
      "                                      2: 0.3934118083724383,\n",
      "                                      3: 0.4241684612032763,\n",
      "                                      4: 0.45633979714171535,\n",
      "                                      5: 0.4881790709441425,\n",
      "                                      6: 0.5170319438475863,\n",
      "                                      7: 0.5435037093959394,\n",
      "                                      8: 0.5696781826352523,\n",
      "                                      9: 0.5941935483870968,\n",
      "                                      10: 0.6170651932298117},\n",
      "                               '20': {0: 0.18171370985564386,\n",
      "                                      1: 0.19623800948730705,\n",
      "                                      2: 0.2007435403898229,\n",
      "                                      3: 0.19382459404846705,\n",
      "                                      4: 0.17486772187036176,\n",
      "                                      5: 0.14830894746161766,\n",
      "                                      6: 0.11903570548390228,\n",
      "                                      7: 0.09079069301475193,\n",
      "                                      8: 0.06454186189380255,\n",
      "                                      9: 0.04204284469786965,\n",
      "                                      10: 0.022957439872119803},\n",
      "                               '25': {0: 0.027497879207961765,\n",
      "                                      1: 0.021364456325661255,\n",
      "                                      2: 0.013570957695892342,\n",
      "                                      3: 0.0065841078177366836,\n",
      "                                      4: 0.0020368116446012074,\n",
      "                                      5: 0.00020722704312912835,\n",
      "                                      6: 0.0,\n",
      "                                      7: 0.0,\n",
      "                                      8: 0.0,\n",
      "                                      9: 0.0,\n",
      "                                      10: 0.0},\n",
      "                               '32': {0: 0.3869572881777741,\n",
      "                                      1: 0.4017916718151489,\n",
      "                                      2: 0.40818109140437625,\n",
      "                                      3: 0.40058547382325116,\n",
      "                                      4: 0.3780730897009967,\n",
      "                                      5: 0.3403068340306834,\n",
      "                                      6: 0.29145846805008524,\n",
      "                                      7: 0.23624313830499397,\n",
      "                                      8: 0.17828322636339752,\n",
      "                                      9: 0.12049142904578093,\n",
      "                                      10: 0.06949841843651153},\n",
      "                               '34': {0: 0.12246332556777764,\n",
      "                                      1: 0.11605850195160936,\n",
      "                                      2: 0.10614178270438322,\n",
      "                                      3: 0.09481739409598425,\n",
      "                                      4: 0.08286497666424149,\n",
      "                                      5: 0.07087442450613127,\n",
      "                                      6: 0.05909931502276581,\n",
      "                                      7: 0.04788163447423186,\n",
      "                                      8: 0.03755098928748427,\n",
      "                                      9: 0.02844045411848313,\n",
      "                                      10: 0.020707955454728526},\n",
      "                               '40': {0: 0.0,\n",
      "                                      1: 0.0,\n",
      "                                      2: 0.0,\n",
      "                                      3: 0.0,\n",
      "                                      4: 0.0,\n",
      "                                      5: 0.0,\n",
      "                                      6: 0.0,\n",
      "                                      7: 0.0,\n",
      "                                      8: 0.0,\n",
      "                                      9: 0.0,\n",
      "                                      10: 0.0},\n",
      "                               '45': {0: 1.0,\n",
      "                                      1: 1.0,\n",
      "                                      2: 1.0,\n",
      "                                      3: 1.0,\n",
      "                                      4: 1.0,\n",
      "                                      5: 1.0,\n",
      "                                      6: 1.0,\n",
      "                                      7: 1.0,\n",
      "                                      8: 1.0,\n",
      "                                      9: 1.0,\n",
      "                                      10: 1.0}}}\n"
     ]
    }
   ],
   "source": [
    "pprint.pprint(ious_puffs_all_trainings)"
   ]
  },
  {
   "cell_type": "markdown",
   "metadata": {
    "tags": []
   },
   "source": [
    "### Compute average along videos of IoU for each exclusion radius for each training name"
   ]
  },
  {
   "cell_type": "code",
   "execution_count": 10,
   "metadata": {},
   "outputs": [],
   "source": [
    "ious_sparks_avg = {} # num training x num exclusion radius\n",
    "ious_puffs_avg = {}\n",
    "ious_waves_avg = {}\n",
    "\n",
    "for training_name in training_names:\n",
    "    num_videos = len(ious_sparks_all_trainings[training_name])\n",
    "    \n",
    "    ious_sparks_all_video = ious_sparks_all_trainings[training_name] # num videos x num exclusion radius\n",
    "    ious_puffs_all_video = ious_puffs_all_trainings[training_name] \n",
    "    ious_waves_all_video = ious_waves_all_trainings[training_name]\n",
    "    \n",
    "    ious_sparks_avg[training_name] = np.sum(np.array([list(res.values()) for res in ious_sparks_all_video.values()]),0)/num_videos\n",
    "    ious_puffs_avg[training_name] = np.sum(np.array([list(res.values()) for res in ious_puffs_all_video.values()]),0)/num_videos\n",
    "    ious_waves_avg[training_name] = np.sum(np.array([list(res.values()) for res in ious_waves_all_video.values()]),0)/num_videos"
   ]
  },
  {
   "cell_type": "markdown",
   "metadata": {
    "tags": []
   },
   "source": [
    "### Plot average IoU for all trainings and all classes wrt to exclusion radius"
   ]
  },
  {
   "cell_type": "code",
   "execution_count": 11,
   "metadata": {},
   "outputs": [],
   "source": [
    "cols = pd.Index(exclusion_radius_list, name='Exclusion radius')\n",
    "classes = ['Sparks', 'Puffs', 'Waves']\n",
    "rows = pd.MultiIndex.from_product([classes, training_names], names=['Class', 'Training name'])\n",
    "\n",
    "data = [*ious_sparks_avg.values(),\n",
    "        *ious_puffs_avg.values(),\n",
    "        *ious_waves_avg.values()\n",
    "       ]\n",
    "\n",
    "df = pd.DataFrame(data, rows, cols)"
   ]
  },
  {
   "cell_type": "code",
   "execution_count": 12,
   "metadata": {},
   "outputs": [
    {
     "data": {
      "text/html": [
       "<div>\n",
       "<style scoped>\n",
       "    .dataframe tbody tr th:only-of-type {\n",
       "        vertical-align: middle;\n",
       "    }\n",
       "\n",
       "    .dataframe tbody tr th {\n",
       "        vertical-align: top;\n",
       "    }\n",
       "\n",
       "    .dataframe thead th {\n",
       "        text-align: right;\n",
       "    }\n",
       "</style>\n",
       "<table border=\"1\" class=\"dataframe\">\n",
       "  <thead>\n",
       "    <tr style=\"text-align: right;\">\n",
       "      <th></th>\n",
       "      <th>Exclusion radius</th>\n",
       "      <th>0</th>\n",
       "      <th>1</th>\n",
       "      <th>2</th>\n",
       "      <th>3</th>\n",
       "      <th>4</th>\n",
       "      <th>5</th>\n",
       "      <th>6</th>\n",
       "      <th>7</th>\n",
       "      <th>8</th>\n",
       "      <th>9</th>\n",
       "      <th>10</th>\n",
       "    </tr>\n",
       "    <tr>\n",
       "      <th>Class</th>\n",
       "      <th>Training name</th>\n",
       "      <th></th>\n",
       "      <th></th>\n",
       "      <th></th>\n",
       "      <th></th>\n",
       "      <th></th>\n",
       "      <th></th>\n",
       "      <th></th>\n",
       "      <th></th>\n",
       "      <th></th>\n",
       "      <th></th>\n",
       "      <th></th>\n",
       "    </tr>\n",
       "  </thead>\n",
       "  <tbody>\n",
       "    <tr>\n",
       "      <th>Sparks</th>\n",
       "      <th>focal_loss_gamma_5_ubelix</th>\n",
       "      <td>0.078807</td>\n",
       "      <td>0.038895</td>\n",
       "      <td>0.001854</td>\n",
       "      <td>0.000000</td>\n",
       "      <td>0.000000</td>\n",
       "      <td>0.000000</td>\n",
       "      <td>0.000000</td>\n",
       "      <td>0.000000</td>\n",
       "      <td>0.000000</td>\n",
       "      <td>0.000000</td>\n",
       "      <td>0.00000</td>\n",
       "    </tr>\n",
       "    <tr>\n",
       "      <th>Puffs</th>\n",
       "      <th>focal_loss_gamma_5_ubelix</th>\n",
       "      <td>0.307429</td>\n",
       "      <td>0.319847</td>\n",
       "      <td>0.325536</td>\n",
       "      <td>0.328700</td>\n",
       "      <td>0.329287</td>\n",
       "      <td>0.327901</td>\n",
       "      <td>0.324931</td>\n",
       "      <td>0.320589</td>\n",
       "      <td>0.315353</td>\n",
       "      <td>0.309145</td>\n",
       "      <td>0.30330</td>\n",
       "    </tr>\n",
       "    <tr>\n",
       "      <th>Waves</th>\n",
       "      <th>focal_loss_gamma_5_ubelix</th>\n",
       "      <td>0.788636</td>\n",
       "      <td>0.800115</td>\n",
       "      <td>0.802833</td>\n",
       "      <td>0.805084</td>\n",
       "      <td>0.806883</td>\n",
       "      <td>0.808389</td>\n",
       "      <td>0.809572</td>\n",
       "      <td>0.810546</td>\n",
       "      <td>0.811265</td>\n",
       "      <td>0.811798</td>\n",
       "      <td>0.81208</td>\n",
       "    </tr>\n",
       "  </tbody>\n",
       "</table>\n",
       "</div>"
      ],
      "text/plain": [
       "Exclusion radius                        0         1         2         3   \\\n",
       "Class  Training name                                                       \n",
       "Sparks focal_loss_gamma_5_ubelix  0.078807  0.038895  0.001854  0.000000   \n",
       "Puffs  focal_loss_gamma_5_ubelix  0.307429  0.319847  0.325536  0.328700   \n",
       "Waves  focal_loss_gamma_5_ubelix  0.788636  0.800115  0.802833  0.805084   \n",
       "\n",
       "Exclusion radius                        4         5         6         7   \\\n",
       "Class  Training name                                                       \n",
       "Sparks focal_loss_gamma_5_ubelix  0.000000  0.000000  0.000000  0.000000   \n",
       "Puffs  focal_loss_gamma_5_ubelix  0.329287  0.327901  0.324931  0.320589   \n",
       "Waves  focal_loss_gamma_5_ubelix  0.806883  0.808389  0.809572  0.810546   \n",
       "\n",
       "Exclusion radius                        8         9        10  \n",
       "Class  Training name                                           \n",
       "Sparks focal_loss_gamma_5_ubelix  0.000000  0.000000  0.00000  \n",
       "Puffs  focal_loss_gamma_5_ubelix  0.315353  0.309145  0.30330  \n",
       "Waves  focal_loss_gamma_5_ubelix  0.811265  0.811798  0.81208  "
      ]
     },
     "metadata": {},
     "output_type": "display_data"
    }
   ],
   "source": [
    "display(df)"
   ]
  },
  {
   "cell_type": "code",
   "execution_count": 13,
   "metadata": {},
   "outputs": [],
   "source": [
    "df.to_csv(\"average_IoU_all_trainings_excl_radius.csv\")"
   ]
  },
  {
   "cell_type": "code",
   "execution_count": 14,
   "metadata": {
    "tags": []
   },
   "outputs": [
    {
     "data": {
      "text/plain": [
       "Text(0.5, 0, 'Exclusion radius')"
      ]
     },
     "execution_count": 14,
     "metadata": {},
     "output_type": "execute_result"
    },
    {
     "data": {
      "image/png": "[encoded data removed]",
      "text/plain": [
       "<Figure size 1440x864 with 4 Axes>"
      ]
     },
     "metadata": {
      "needs_background": "light"
     },
     "output_type": "display_data"
    }
   ],
   "source": [
    "fig, axs = plt.subplots(1, 3, sharex=True, figsize=(20,12))\n",
    "fig.add_subplot(111, frameon=False)\n",
    "\n",
    "for training_name in training_names:\n",
    "    axs[0].plot(exclusion_radius_list, ious_sparks_avg[training_name], label=training_name)\n",
    "           \n",
    "axs[0].set_title('Sparks IoU')\n",
    "axs[0].set_ylim([0,1])\n",
    "axs[0].legend(shadow=True, fancybox=True)\n",
    "\n",
    "for training_name in training_names:\n",
    "    axs[1].plot(exclusion_radius_list, ious_puffs_avg[training_name], label=training_name)\n",
    "\n",
    "axs[1].set_title('Puffs IoU')\n",
    "axs[1].set_ylim([0,1])\n",
    "axs[1].legend(shadow=True, fancybox=True)\n",
    "\n",
    "for training_name in training_names:\n",
    "    axs[2].plot(exclusion_radius_list, ious_waves_avg[training_name], label=training_name)\n",
    "\n",
    "axs[2].set_title('Waves IoU')\n",
    "axs[2].set_ylim([0,1])\n",
    "axs[2].legend(shadow=True, fancybox=True)\n",
    "\n",
    "plt.tick_params(labelcolor='none', which='both', top=False, bottom=False, left=False, right=False)\n",
    "plt.xlabel(\"Exclusion radius\")"
   ]
  },
  {
   "cell_type": "code",
   "execution_count": 15,
   "metadata": {},
   "outputs": [],
   "source": [
    "fig.savefig(\"average_IoU_all_trainings_excl_radius.png\")"
   ]
  },
  {
   "cell_type": "markdown",
   "metadata": {
    "jp-MarkdownHeadingCollapsed": true,
    "tags": []
   },
   "source": [
    "## Plot average IoU for different minimal event radius (just for one training)"
   ]
  },
  {
   "cell_type": "code",
   "execution_count": 38,
   "metadata": {},
   "outputs": [
    {
     "ename": "ValueError",
     "evalue": "operands could not be broadcast together with remapped shapes [original->remapped]: (3,1)  and requested shape (0,2)",
     "output_type": "error",
     "traceback": [
      "\u001b[1;31m---------------------------------------------------------------------------\u001b[0m",
      "\u001b[1;31mValueError\u001b[0m                                Traceback (most recent call last)",
      "\u001b[1;32m~\\AppData\\Local\\Temp/ipykernel_494564/278258154.py\u001b[0m in \u001b[0;36m<module>\u001b[1;34m\u001b[0m\n\u001b[0;32m     29\u001b[0m     \u001b[1;32mfor\u001b[0m \u001b[0msparks_sample\u001b[0m\u001b[1;33m,\u001b[0m \u001b[0mpuffs_sample\u001b[0m\u001b[1;33m,\u001b[0m \u001b[0mwaves_sample\u001b[0m\u001b[1;33m,\u001b[0m \u001b[0mys_sample\u001b[0m \u001b[1;32min\u001b[0m \u001b[0mzip\u001b[0m\u001b[1;33m(\u001b[0m\u001b[0msparks_training\u001b[0m\u001b[1;33m,\u001b[0m \u001b[0mpuffs_training\u001b[0m\u001b[1;33m,\u001b[0m \u001b[0mwaves_training\u001b[0m\u001b[1;33m,\u001b[0m \u001b[0mys_all_trainings\u001b[0m\u001b[1;33m)\u001b[0m\u001b[1;33m:\u001b[0m\u001b[1;33m\u001b[0m\u001b[1;33m\u001b[0m\u001b[0m\n\u001b[0;32m     30\u001b[0m         \u001b[1;31m# get binary predictions and remove ignored frames\u001b[0m\u001b[1;33m\u001b[0m\u001b[1;33m\u001b[0m\u001b[1;33m\u001b[0m\u001b[0m\n\u001b[1;32m---> 31\u001b[1;33m         puffs_binary = process_puff_prediction(puffs_sample, \n\u001b[0m\u001b[0;32m     32\u001b[0m                                                \u001b[0mt_detection\u001b[0m\u001b[1;33m,\u001b[0m\u001b[1;33m\u001b[0m\u001b[1;33m\u001b[0m\u001b[0m\n\u001b[0;32m     33\u001b[0m                                                \u001b[0mr\u001b[0m\u001b[1;33m,\u001b[0m\u001b[1;33m\u001b[0m\u001b[1;33m\u001b[0m\u001b[0m\n",
      "\u001b[1;32m~\\sparks_project\\sparks\\metrics_tools.py\u001b[0m in \u001b[0;36mprocess_puff_prediction\u001b[1;34m(pred, t_detection, min_radius, ignore_frames)\u001b[0m\n\u001b[0;32m    367\u001b[0m     \u001b[1;31m# set first and last frames to 0 according to ignore_frames\u001b[0m\u001b[1;33m\u001b[0m\u001b[1;33m\u001b[0m\u001b[1;33m\u001b[0m\u001b[0m\n\u001b[0;32m    368\u001b[0m     \u001b[1;32mif\u001b[0m \u001b[0mignore_frames\u001b[0m \u001b[1;33m!=\u001b[0m \u001b[1;36m0\u001b[0m\u001b[1;33m:\u001b[0m\u001b[1;33m\u001b[0m\u001b[1;33m\u001b[0m\u001b[0m\n\u001b[1;32m--> 369\u001b[1;33m         \u001b[0mpred_puffs\u001b[0m \u001b[1;33m=\u001b[0m \u001b[0mempty_marginal_frames\u001b[0m\u001b[1;33m(\u001b[0m\u001b[0mpred\u001b[0m\u001b[1;33m,\u001b[0m \u001b[0mignore_frames\u001b[0m\u001b[1;33m)\u001b[0m\u001b[1;33m\u001b[0m\u001b[1;33m\u001b[0m\u001b[0m\n\u001b[0m\u001b[0;32m    370\u001b[0m \u001b[1;33m\u001b[0m\u001b[0m\n\u001b[0;32m    371\u001b[0m     \u001b[1;31m# remove small objects\u001b[0m\u001b[1;33m\u001b[0m\u001b[1;33m\u001b[0m\u001b[1;33m\u001b[0m\u001b[0m\n",
      "\u001b[1;32m~\\sparks_project\\sparks\\metrics_tools.py\u001b[0m in \u001b[0;36mempty_marginal_frames\u001b[1;34m(video, n_frames)\u001b[0m\n\u001b[0;32m     42\u001b[0m     \u001b[1;32mif\u001b[0m \u001b[0mn_frames\u001b[0m \u001b[1;33m!=\u001b[0m \u001b[1;36m0\u001b[0m\u001b[1;33m:\u001b[0m\u001b[1;33m\u001b[0m\u001b[1;33m\u001b[0m\u001b[0m\n\u001b[0;32m     43\u001b[0m         \u001b[0mnew_video\u001b[0m \u001b[1;33m=\u001b[0m \u001b[0mvideo\u001b[0m\u001b[1;33m[\u001b[0m\u001b[0mn_frames\u001b[0m\u001b[1;33m:\u001b[0m\u001b[1;33m-\u001b[0m\u001b[0mn_frames\u001b[0m\u001b[1;33m]\u001b[0m\u001b[1;33m\u001b[0m\u001b[1;33m\u001b[0m\u001b[0m\n\u001b[1;32m---> 44\u001b[1;33m         \u001b[0mnew_video\u001b[0m \u001b[1;33m=\u001b[0m \u001b[0mnp\u001b[0m\u001b[1;33m.\u001b[0m\u001b[0mpad\u001b[0m\u001b[1;33m(\u001b[0m\u001b[0mnew_video\u001b[0m\u001b[1;33m,\u001b[0m\u001b[1;33m(\u001b[0m\u001b[1;33m(\u001b[0m\u001b[0mn_frames\u001b[0m\u001b[1;33m,\u001b[0m\u001b[1;33m)\u001b[0m\u001b[1;33m,\u001b[0m\u001b[1;33m(\u001b[0m\u001b[1;36m0\u001b[0m\u001b[1;33m,\u001b[0m\u001b[1;33m)\u001b[0m\u001b[1;33m,\u001b[0m\u001b[1;33m(\u001b[0m\u001b[1;36m0\u001b[0m\u001b[1;33m,\u001b[0m\u001b[1;33m)\u001b[0m\u001b[1;33m)\u001b[0m\u001b[1;33m,\u001b[0m \u001b[0mmode\u001b[0m\u001b[1;33m=\u001b[0m\u001b[1;34m'constant'\u001b[0m\u001b[1;33m)\u001b[0m\u001b[1;33m\u001b[0m\u001b[1;33m\u001b[0m\u001b[0m\n\u001b[0m\u001b[0;32m     45\u001b[0m     \u001b[1;32melse\u001b[0m\u001b[1;33m:\u001b[0m \u001b[0mnew_video\u001b[0m \u001b[1;33m=\u001b[0m \u001b[0mvideo\u001b[0m\u001b[1;33m\u001b[0m\u001b[1;33m\u001b[0m\u001b[0m\n\u001b[0;32m     46\u001b[0m \u001b[1;33m\u001b[0m\u001b[0m\n",
      "\u001b[1;32m<__array_function__ internals>\u001b[0m in \u001b[0;36mpad\u001b[1;34m(*args, **kwargs)\u001b[0m\n",
      "\u001b[1;32m~\\.conda\\envs\\sparks\\lib\\site-packages\\numpy\\lib\\arraypad.py\u001b[0m in \u001b[0;36mpad\u001b[1;34m(array, pad_width, mode, **kwargs)\u001b[0m\n\u001b[0;32m    741\u001b[0m \u001b[1;33m\u001b[0m\u001b[0m\n\u001b[0;32m    742\u001b[0m     \u001b[1;31m# Broadcast to shape (array.ndim, 2)\u001b[0m\u001b[1;33m\u001b[0m\u001b[1;33m\u001b[0m\u001b[1;33m\u001b[0m\u001b[0m\n\u001b[1;32m--> 743\u001b[1;33m     \u001b[0mpad_width\u001b[0m \u001b[1;33m=\u001b[0m \u001b[0m_as_pairs\u001b[0m\u001b[1;33m(\u001b[0m\u001b[0mpad_width\u001b[0m\u001b[1;33m,\u001b[0m \u001b[0marray\u001b[0m\u001b[1;33m.\u001b[0m\u001b[0mndim\u001b[0m\u001b[1;33m,\u001b[0m \u001b[0mas_index\u001b[0m\u001b[1;33m=\u001b[0m\u001b[1;32mTrue\u001b[0m\u001b[1;33m)\u001b[0m\u001b[1;33m\u001b[0m\u001b[1;33m\u001b[0m\u001b[0m\n\u001b[0m\u001b[0;32m    744\u001b[0m \u001b[1;33m\u001b[0m\u001b[0m\n\u001b[0;32m    745\u001b[0m     \u001b[1;32mif\u001b[0m \u001b[0mcallable\u001b[0m\u001b[1;33m(\u001b[0m\u001b[0mmode\u001b[0m\u001b[1;33m)\u001b[0m\u001b[1;33m:\u001b[0m\u001b[1;33m\u001b[0m\u001b[1;33m\u001b[0m\u001b[0m\n",
      "\u001b[1;32m~\\.conda\\envs\\sparks\\lib\\site-packages\\numpy\\lib\\arraypad.py\u001b[0m in \u001b[0;36m_as_pairs\u001b[1;34m(x, ndim, as_index)\u001b[0m\n\u001b[0;32m    516\u001b[0m     \u001b[1;31m# Converting the array with `tolist` seems to improve performance\u001b[0m\u001b[1;33m\u001b[0m\u001b[1;33m\u001b[0m\u001b[1;33m\u001b[0m\u001b[0m\n\u001b[0;32m    517\u001b[0m     \u001b[1;31m# when iterating and indexing the result (see usage in `pad`)\u001b[0m\u001b[1;33m\u001b[0m\u001b[1;33m\u001b[0m\u001b[1;33m\u001b[0m\u001b[0m\n\u001b[1;32m--> 518\u001b[1;33m     \u001b[1;32mreturn\u001b[0m \u001b[0mnp\u001b[0m\u001b[1;33m.\u001b[0m\u001b[0mbroadcast_to\u001b[0m\u001b[1;33m(\u001b[0m\u001b[0mx\u001b[0m\u001b[1;33m,\u001b[0m \u001b[1;33m(\u001b[0m\u001b[0mndim\u001b[0m\u001b[1;33m,\u001b[0m \u001b[1;36m2\u001b[0m\u001b[1;33m)\u001b[0m\u001b[1;33m)\u001b[0m\u001b[1;33m.\u001b[0m\u001b[0mtolist\u001b[0m\u001b[1;33m(\u001b[0m\u001b[1;33m)\u001b[0m\u001b[1;33m\u001b[0m\u001b[1;33m\u001b[0m\u001b[0m\n\u001b[0m\u001b[0;32m    519\u001b[0m \u001b[1;33m\u001b[0m\u001b[0m\n\u001b[0;32m    520\u001b[0m \u001b[1;33m\u001b[0m\u001b[0m\n",
      "\u001b[1;32m<__array_function__ internals>\u001b[0m in \u001b[0;36mbroadcast_to\u001b[1;34m(*args, **kwargs)\u001b[0m\n",
      "\u001b[1;32m~\\.conda\\envs\\sparks\\lib\\site-packages\\numpy\\lib\\stride_tricks.py\u001b[0m in \u001b[0;36mbroadcast_to\u001b[1;34m(array, shape, subok)\u001b[0m\n\u001b[0;32m    409\u001b[0m            [1, 2, 3]])\n\u001b[0;32m    410\u001b[0m     \"\"\"\n\u001b[1;32m--> 411\u001b[1;33m     \u001b[1;32mreturn\u001b[0m \u001b[0m_broadcast_to\u001b[0m\u001b[1;33m(\u001b[0m\u001b[0marray\u001b[0m\u001b[1;33m,\u001b[0m \u001b[0mshape\u001b[0m\u001b[1;33m,\u001b[0m \u001b[0msubok\u001b[0m\u001b[1;33m=\u001b[0m\u001b[0msubok\u001b[0m\u001b[1;33m,\u001b[0m \u001b[0mreadonly\u001b[0m\u001b[1;33m=\u001b[0m\u001b[1;32mTrue\u001b[0m\u001b[1;33m)\u001b[0m\u001b[1;33m\u001b[0m\u001b[1;33m\u001b[0m\u001b[0m\n\u001b[0m\u001b[0;32m    412\u001b[0m \u001b[1;33m\u001b[0m\u001b[0m\n\u001b[0;32m    413\u001b[0m \u001b[1;33m\u001b[0m\u001b[0m\n",
      "\u001b[1;32m~\\.conda\\envs\\sparks\\lib\\site-packages\\numpy\\lib\\stride_tricks.py\u001b[0m in \u001b[0;36m_broadcast_to\u001b[1;34m(array, shape, subok, readonly)\u001b[0m\n\u001b[0;32m    346\u001b[0m                          'negative')\n\u001b[0;32m    347\u001b[0m     \u001b[0mextras\u001b[0m \u001b[1;33m=\u001b[0m \u001b[1;33m[\u001b[0m\u001b[1;33m]\u001b[0m\u001b[1;33m\u001b[0m\u001b[1;33m\u001b[0m\u001b[0m\n\u001b[1;32m--> 348\u001b[1;33m     it = np.nditer(\n\u001b[0m\u001b[0;32m    349\u001b[0m         \u001b[1;33m(\u001b[0m\u001b[0marray\u001b[0m\u001b[1;33m,\u001b[0m\u001b[1;33m)\u001b[0m\u001b[1;33m,\u001b[0m \u001b[0mflags\u001b[0m\u001b[1;33m=\u001b[0m\u001b[1;33m[\u001b[0m\u001b[1;34m'multi_index'\u001b[0m\u001b[1;33m,\u001b[0m \u001b[1;34m'refs_ok'\u001b[0m\u001b[1;33m,\u001b[0m \u001b[1;34m'zerosize_ok'\u001b[0m\u001b[1;33m]\u001b[0m \u001b[1;33m+\u001b[0m \u001b[0mextras\u001b[0m\u001b[1;33m,\u001b[0m\u001b[1;33m\u001b[0m\u001b[1;33m\u001b[0m\u001b[0m\n\u001b[0;32m    350\u001b[0m         op_flags=['readonly'], itershape=shape, order='C')\n",
      "\u001b[1;31mValueError\u001b[0m: operands could not be broadcast together with remapped shapes [original->remapped]: (3,1)  and requested shape (0,2)"
     ]
    }
   ],
   "source": [
    "# set sample training\n",
    "training_name = training_names[0]\n",
    "\n",
    "# parameters\n",
    "ignore_frames = 6\n",
    "\n",
    "t_detection = 0.5\n",
    "t_detection_sparks = 0.9\n",
    "\n",
    "min_radius = [0,1,2,3,4]#,5,6,7,8,9,10]\n",
    "\n",
    "exclusion_radius_list = [0,1,2,3,4,5,6,7,8,9,10]\n",
    "\n",
    "# each dictionary contains, for every minimal event radius, a list of IoU scores averaged on all videos for all exclusion radius\n",
    "ious_sparks_all_radius = {} # num min event radius x num ious_sparks_avg_radiususion radius\n",
    "ious_puffs_all_radius = {}\n",
    "ious_waves_all_radius = {}\n",
    "\n",
    "for r in min_radius:\n",
    "    # get predictions\n",
    "    sparks_training = sparks[training_name]\n",
    "    puffs_training = puffs[training_name]\n",
    "    waves_training = waves[training_name]\n",
    "    \n",
    "    ious_puffs_all_video = []\n",
    "    ious_waves_all_video = []\n",
    "    ious_sparks_all_video = []\n",
    "    \n",
    "    for sparks_sample, puffs_sample, waves_sample, ys_sample in zip(sparks_training, puffs_training, waves_training, ys_all_trainings):\n",
    "        # get binary predictions and remove ignored frames\n",
    "        puffs_binary = process_puff_prediction(puffs_sample, \n",
    "                                               t_detection, \n",
    "                                               r, \n",
    "                                               ignore_frames)\n",
    "        waves_binary = process_wave_prediction(waves_sample, \n",
    "                                               t_detection, \n",
    "                                               r, \n",
    "                                               ignore_frames)\n",
    "        sparks_binary = (process_spark_prediction(sparks_sample, \n",
    "                                                  t_detection=t_detection_sparks,\n",
    "                                                  min_radius=r,\n",
    "                                                  ignore_frames=ignore_frames,\n",
    "                                                  return_clean_pred=True)) != 0 \n",
    "        \n",
    "        # get binary ys and remove ignored frames\n",
    "        ys_sparks_sample = empty_marginal_frames(np.where(ys_sample==1,1,0), ignore_frames)\n",
    "        ys_puffs_sample = empty_marginal_frames(np.where(ys_sample==3,1,0), ignore_frames)\n",
    "        ys_waves_sample = empty_marginal_frames(np.where(ys_sample==2,1,0), ignore_frames)\n",
    "        \n",
    "        # get ignore regions during training\n",
    "        ignore_mask =  empty_marginal_frames(np.where(ys_sample==4,1,0), ignore_frames)\n",
    "        \n",
    "        \n",
    "        # compute IoU for some exclusion radius values\n",
    "        # puffs\n",
    "        ious_puffs = []\n",
    "        for radius in exclusion_radius_list:\n",
    "            ious_puffs.append(jaccard_score_exclusion_zone(ys_puffs_sample, puffs_binary, radius, ignore_mask))\n",
    "            \n",
    "        ious_puffs_all_video.append(ious_puffs)\n",
    "\n",
    "        # waves\n",
    "        ious_waves = []\n",
    "        for radius in exclusion_radius_list:\n",
    "            ious_waves.append(jaccard_score_exclusion_zone(ys_waves_sample, waves_binary, radius, ignore_mask))\n",
    "            \n",
    "        ious_waves_all_video.append(ious_waves)\n",
    "\n",
    "        # sparks\n",
    "        ious_sparks = []\n",
    "        for radius in exclusion_radius_list:\n",
    "            ious_sparks.append(jaccard_score_exclusion_zone(ys_sparks_sample, sparks_binary, radius, ignore_mask, sparks=True))\n",
    "            \n",
    "        ious_sparks_all_video.append(ious_sparks)\n",
    "        \n",
    "    ious_sparks_all_radius[r] = ious_sparks_all_video\n",
    "    ious_puffs_all_radius[r] = ious_puffs_all_video\n",
    "    ious_waves_all_radius[r] = ious_waves_all_video"
   ]
  },
  {
   "cell_type": "markdown",
   "metadata": {
    "tags": []
   },
   "source": [
    "### Compute average along videos of IoU for each exclusion radius for each minimal event radius"
   ]
  },
  {
   "cell_type": "code",
   "execution_count": 27,
   "metadata": {},
   "outputs": [],
   "source": [
    "ious_sparks_avg_radius = {} # num min event radius x num exclusion radius\n",
    "ious_puffs_avg_radius = {}\n",
    "ious_waves_avg_radius = {}\n",
    "\n",
    "for r in min_radius:\n",
    "    num_videos = len(ious_sparks_all_radius[r])\n",
    "    \n",
    "    ious_sparks_all_video = ious_sparks_all_radius[r] # num videos x num exclusion radius\n",
    "    ious_puffs_all_video = ious_puffs_all_radius[r] \n",
    "    ious_waves_all_video = ious_waves_all_radius[r] \n",
    "    \n",
    "    ious_sparks_avg_radius[r] = np.sum(np.asarray(ious_sparks_all_video),0)/num_videos\n",
    "    ious_puffs_avg_radius[r] = np.sum(np.asarray(ious_puffs_all_video),0)/num_videos\n",
    "    ious_waves_avg_radius[r] = np.sum(np.asarray(ious_waves_all_video),0)/num_videos"
   ]
  },
  {
   "cell_type": "markdown",
   "metadata": {
    "tags": []
   },
   "source": [
    "### Plot average IoU for all minimal event radius and all classes wrt to exclusion radius"
   ]
  },
  {
   "cell_type": "code",
   "execution_count": 28,
   "metadata": {},
   "outputs": [],
   "source": [
    "cols = pd.Index(exclusion_radius_list, name='Exclusion radius')\n",
    "classes = ['Sparks', 'Puffs', 'Waves']\n",
    "rows = pd.MultiIndex.from_product([classes, min_radius], names=['Class', 'Minimal event radius'])\n",
    "\n",
    "data = [*ious_sparks_avg_radius.values(),\n",
    "        *ious_puffs_avg_radius.values(),\n",
    "        *ious_waves_avg_radius.values()\n",
    "       ]\n",
    "\n",
    "df = pd.DataFrame(data, rows, cols)"
   ]
  },
  {
   "cell_type": "code",
   "execution_count": 29,
   "metadata": {},
   "outputs": [
    {
     "data": {
      "text/html": [
       "<div>\n",
       "<style scoped>\n",
       "    .dataframe tbody tr th:only-of-type {\n",
       "        vertical-align: middle;\n",
       "    }\n",
       "\n",
       "    .dataframe tbody tr th {\n",
       "        vertical-align: top;\n",
       "    }\n",
       "\n",
       "    .dataframe thead th {\n",
       "        text-align: right;\n",
       "    }\n",
       "</style>\n",
       "<table border=\"1\" class=\"dataframe\">\n",
       "  <thead>\n",
       "    <tr style=\"text-align: right;\">\n",
       "      <th></th>\n",
       "      <th>Exclusion radius</th>\n",
       "      <th>0</th>\n",
       "      <th>1</th>\n",
       "      <th>2</th>\n",
       "      <th>3</th>\n",
       "      <th>4</th>\n",
       "      <th>5</th>\n",
       "      <th>6</th>\n",
       "      <th>7</th>\n",
       "      <th>8</th>\n",
       "      <th>9</th>\n",
       "      <th>10</th>\n",
       "    </tr>\n",
       "    <tr>\n",
       "      <th>Class</th>\n",
       "      <th>Minimal event radius</th>\n",
       "      <th></th>\n",
       "      <th></th>\n",
       "      <th></th>\n",
       "      <th></th>\n",
       "      <th></th>\n",
       "      <th></th>\n",
       "      <th></th>\n",
       "      <th></th>\n",
       "      <th></th>\n",
       "      <th></th>\n",
       "      <th></th>\n",
       "    </tr>\n",
       "  </thead>\n",
       "  <tbody>\n",
       "    <tr>\n",
       "      <th rowspan=\"5\" valign=\"top\">Sparks</th>\n",
       "      <th>0</th>\n",
       "      <td>0.116289</td>\n",
       "      <td>0.121549</td>\n",
       "      <td>0.124016</td>\n",
       "      <td>0.125769</td>\n",
       "      <td>0.126827</td>\n",
       "      <td>0.127459</td>\n",
       "      <td>0.127829</td>\n",
       "      <td>0.128049</td>\n",
       "      <td>0.128149</td>\n",
       "      <td>0.128194</td>\n",
       "      <td>0.128251</td>\n",
       "    </tr>\n",
       "    <tr>\n",
       "      <th>1</th>\n",
       "      <td>0.116353</td>\n",
       "      <td>0.121615</td>\n",
       "      <td>0.124085</td>\n",
       "      <td>0.125840</td>\n",
       "      <td>0.126898</td>\n",
       "      <td>0.127530</td>\n",
       "      <td>0.127900</td>\n",
       "      <td>0.128119</td>\n",
       "      <td>0.128220</td>\n",
       "      <td>0.128264</td>\n",
       "      <td>0.128320</td>\n",
       "    </tr>\n",
       "    <tr>\n",
       "      <th>2</th>\n",
       "      <td>0.116751</td>\n",
       "      <td>0.122073</td>\n",
       "      <td>0.124606</td>\n",
       "      <td>0.126406</td>\n",
       "      <td>0.127487</td>\n",
       "      <td>0.128136</td>\n",
       "      <td>0.128517</td>\n",
       "      <td>0.128742</td>\n",
       "      <td>0.128843</td>\n",
       "      <td>0.128886</td>\n",
       "      <td>0.128937</td>\n",
       "    </tr>\n",
       "    <tr>\n",
       "      <th>3</th>\n",
       "      <td>0.103926</td>\n",
       "      <td>0.108681</td>\n",
       "      <td>0.110933</td>\n",
       "      <td>0.112574</td>\n",
       "      <td>0.113627</td>\n",
       "      <td>0.114285</td>\n",
       "      <td>0.114670</td>\n",
       "      <td>0.114889</td>\n",
       "      <td>0.114978</td>\n",
       "      <td>0.115004</td>\n",
       "      <td>0.115034</td>\n",
       "    </tr>\n",
       "    <tr>\n",
       "      <th>4</th>\n",
       "      <td>0.076986</td>\n",
       "      <td>0.080729</td>\n",
       "      <td>0.082704</td>\n",
       "      <td>0.084224</td>\n",
       "      <td>0.085273</td>\n",
       "      <td>0.085928</td>\n",
       "      <td>0.086289</td>\n",
       "      <td>0.086464</td>\n",
       "      <td>0.086526</td>\n",
       "      <td>0.086543</td>\n",
       "      <td>0.086592</td>\n",
       "    </tr>\n",
       "    <tr>\n",
       "      <th rowspan=\"5\" valign=\"top\">Puffs</th>\n",
       "      <th>0</th>\n",
       "      <td>0.195051</td>\n",
       "      <td>0.205668</td>\n",
       "      <td>0.210015</td>\n",
       "      <td>0.212122</td>\n",
       "      <td>0.213422</td>\n",
       "      <td>0.215477</td>\n",
       "      <td>0.218401</td>\n",
       "      <td>0.221077</td>\n",
       "      <td>0.223142</td>\n",
       "      <td>0.224177</td>\n",
       "      <td>0.223890</td>\n",
       "    </tr>\n",
       "    <tr>\n",
       "      <th>1</th>\n",
       "      <td>0.195059</td>\n",
       "      <td>0.205676</td>\n",
       "      <td>0.210027</td>\n",
       "      <td>0.212133</td>\n",
       "      <td>0.213432</td>\n",
       "      <td>0.215484</td>\n",
       "      <td>0.218405</td>\n",
       "      <td>0.221079</td>\n",
       "      <td>0.223143</td>\n",
       "      <td>0.224178</td>\n",
       "      <td>0.223891</td>\n",
       "    </tr>\n",
       "    <tr>\n",
       "      <th>2</th>\n",
       "      <td>0.195131</td>\n",
       "      <td>0.205738</td>\n",
       "      <td>0.210082</td>\n",
       "      <td>0.212183</td>\n",
       "      <td>0.213470</td>\n",
       "      <td>0.215500</td>\n",
       "      <td>0.218409</td>\n",
       "      <td>0.221071</td>\n",
       "      <td>0.223128</td>\n",
       "      <td>0.224159</td>\n",
       "      <td>0.223877</td>\n",
       "    </tr>\n",
       "    <tr>\n",
       "      <th>3</th>\n",
       "      <td>0.195202</td>\n",
       "      <td>0.205803</td>\n",
       "      <td>0.210151</td>\n",
       "      <td>0.212229</td>\n",
       "      <td>0.213474</td>\n",
       "      <td>0.215464</td>\n",
       "      <td>0.218364</td>\n",
       "      <td>0.221037</td>\n",
       "      <td>0.223125</td>\n",
       "      <td>0.224159</td>\n",
       "      <td>0.223877</td>\n",
       "    </tr>\n",
       "    <tr>\n",
       "      <th>4</th>\n",
       "      <td>0.195353</td>\n",
       "      <td>0.205897</td>\n",
       "      <td>0.210204</td>\n",
       "      <td>0.212282</td>\n",
       "      <td>0.213591</td>\n",
       "      <td>0.215688</td>\n",
       "      <td>0.218741</td>\n",
       "      <td>0.221614</td>\n",
       "      <td>0.223923</td>\n",
       "      <td>0.225162</td>\n",
       "      <td>0.225099</td>\n",
       "    </tr>\n",
       "    <tr>\n",
       "      <th rowspan=\"5\" valign=\"top\">Waves</th>\n",
       "      <th>0</th>\n",
       "      <td>0.787339</td>\n",
       "      <td>0.799457</td>\n",
       "      <td>0.802117</td>\n",
       "      <td>0.804287</td>\n",
       "      <td>0.806003</td>\n",
       "      <td>0.807289</td>\n",
       "      <td>0.808214</td>\n",
       "      <td>0.808830</td>\n",
       "      <td>0.809212</td>\n",
       "      <td>0.809271</td>\n",
       "      <td>0.808954</td>\n",
       "    </tr>\n",
       "    <tr>\n",
       "      <th>1</th>\n",
       "      <td>0.787339</td>\n",
       "      <td>0.799457</td>\n",
       "      <td>0.802117</td>\n",
       "      <td>0.804288</td>\n",
       "      <td>0.806003</td>\n",
       "      <td>0.807289</td>\n",
       "      <td>0.808214</td>\n",
       "      <td>0.808831</td>\n",
       "      <td>0.809213</td>\n",
       "      <td>0.809273</td>\n",
       "      <td>0.808955</td>\n",
       "    </tr>\n",
       "    <tr>\n",
       "      <th>2</th>\n",
       "      <td>0.787344</td>\n",
       "      <td>0.799462</td>\n",
       "      <td>0.802123</td>\n",
       "      <td>0.804294</td>\n",
       "      <td>0.806010</td>\n",
       "      <td>0.807297</td>\n",
       "      <td>0.808223</td>\n",
       "      <td>0.808841</td>\n",
       "      <td>0.809224</td>\n",
       "      <td>0.809285</td>\n",
       "      <td>0.808968</td>\n",
       "    </tr>\n",
       "    <tr>\n",
       "      <th>3</th>\n",
       "      <td>0.787349</td>\n",
       "      <td>0.799467</td>\n",
       "      <td>0.802127</td>\n",
       "      <td>0.804299</td>\n",
       "      <td>0.806015</td>\n",
       "      <td>0.807302</td>\n",
       "      <td>0.808228</td>\n",
       "      <td>0.808846</td>\n",
       "      <td>0.809229</td>\n",
       "      <td>0.809289</td>\n",
       "      <td>0.808972</td>\n",
       "    </tr>\n",
       "    <tr>\n",
       "      <th>4</th>\n",
       "      <td>0.787358</td>\n",
       "      <td>0.799477</td>\n",
       "      <td>0.802138</td>\n",
       "      <td>0.804309</td>\n",
       "      <td>0.806025</td>\n",
       "      <td>0.807312</td>\n",
       "      <td>0.808238</td>\n",
       "      <td>0.808856</td>\n",
       "      <td>0.809239</td>\n",
       "      <td>0.809299</td>\n",
       "      <td>0.808982</td>\n",
       "    </tr>\n",
       "  </tbody>\n",
       "</table>\n",
       "</div>"
      ],
      "text/plain": [
       "Exclusion radius                   0         1         2         3         4   \\\n",
       "Class  Minimal event radius                                                     \n",
       "Sparks 0                     0.116289  0.121549  0.124016  0.125769  0.126827   \n",
       "       1                     0.116353  0.121615  0.124085  0.125840  0.126898   \n",
       "       2                     0.116751  0.122073  0.124606  0.126406  0.127487   \n",
       "       3                     0.103926  0.108681  0.110933  0.112574  0.113627   \n",
       "       4                     0.076986  0.080729  0.082704  0.084224  0.085273   \n",
       "Puffs  0                     0.195051  0.205668  0.210015  0.212122  0.213422   \n",
       "       1                     0.195059  0.205676  0.210027  0.212133  0.213432   \n",
       "       2                     0.195131  0.205738  0.210082  0.212183  0.213470   \n",
       "       3                     0.195202  0.205803  0.210151  0.212229  0.213474   \n",
       "       4                     0.195353  0.205897  0.210204  0.212282  0.213591   \n",
       "Waves  0                     0.787339  0.799457  0.802117  0.804287  0.806003   \n",
       "       1                     0.787339  0.799457  0.802117  0.804288  0.806003   \n",
       "       2                     0.787344  0.799462  0.802123  0.804294  0.806010   \n",
       "       3                     0.787349  0.799467  0.802127  0.804299  0.806015   \n",
       "       4                     0.787358  0.799477  0.802138  0.804309  0.806025   \n",
       "\n",
       "Exclusion radius                   5         6         7         8         9   \\\n",
       "Class  Minimal event radius                                                     \n",
       "Sparks 0                     0.127459  0.127829  0.128049  0.128149  0.128194   \n",
       "       1                     0.127530  0.127900  0.128119  0.128220  0.128264   \n",
       "       2                     0.128136  0.128517  0.128742  0.128843  0.128886   \n",
       "       3                     0.114285  0.114670  0.114889  0.114978  0.115004   \n",
       "       4                     0.085928  0.086289  0.086464  0.086526  0.086543   \n",
       "Puffs  0                     0.215477  0.218401  0.221077  0.223142  0.224177   \n",
       "       1                     0.215484  0.218405  0.221079  0.223143  0.224178   \n",
       "       2                     0.215500  0.218409  0.221071  0.223128  0.224159   \n",
       "       3                     0.215464  0.218364  0.221037  0.223125  0.224159   \n",
       "       4                     0.215688  0.218741  0.221614  0.223923  0.225162   \n",
       "Waves  0                     0.807289  0.808214  0.808830  0.809212  0.809271   \n",
       "       1                     0.807289  0.808214  0.808831  0.809213  0.809273   \n",
       "       2                     0.807297  0.808223  0.808841  0.809224  0.809285   \n",
       "       3                     0.807302  0.808228  0.808846  0.809229  0.809289   \n",
       "       4                     0.807312  0.808238  0.808856  0.809239  0.809299   \n",
       "\n",
       "Exclusion radius                   10  \n",
       "Class  Minimal event radius            \n",
       "Sparks 0                     0.128251  \n",
       "       1                     0.128320  \n",
       "       2                     0.128937  \n",
       "       3                     0.115034  \n",
       "       4                     0.086592  \n",
       "Puffs  0                     0.223890  \n",
       "       1                     0.223891  \n",
       "       2                     0.223877  \n",
       "       3                     0.223877  \n",
       "       4                     0.225099  \n",
       "Waves  0                     0.808954  \n",
       "       1                     0.808955  \n",
       "       2                     0.808968  \n",
       "       3                     0.808972  \n",
       "       4                     0.808982  "
      ]
     },
     "metadata": {},
     "output_type": "display_data"
    }
   ],
   "source": [
    "display(df)"
   ]
  },
  {
   "cell_type": "code",
   "execution_count": 30,
   "metadata": {},
   "outputs": [],
   "source": [
    "df.to_csv(\"average_IoU_different_min_event_size_excl_radius.csv\")"
   ]
  },
  {
   "cell_type": "code",
   "execution_count": 31,
   "metadata": {
    "tags": []
   },
   "outputs": [
    {
     "data": {
      "text/plain": [
       "Text(0.5, 0, 'Exclusion radius')"
      ]
     },
     "execution_count": 31,
     "metadata": {},
     "output_type": "execute_result"
    },
    {
     "data": {
      "image/png": "[encoded data removed]",
      "text/plain": [
       "<Figure size 1440x864 with 4 Axes>"
      ]
     },
     "metadata": {
      "needs_background": "light"
     },
     "output_type": "display_data"
    }
   ],
   "source": [
    "fig, axs = plt.subplots(1, 3, sharex=True, figsize=(20,12))\n",
    "fig.add_subplot(111, frameon=False)\n",
    "\n",
    "for r in min_radius:\n",
    "    axs[0].plot(exclusion_radius_list, ious_sparks_avg_radius[r], label=r)\n",
    "           \n",
    "axs[0].set_title('Sparks IoU')\n",
    "#axs[0].set_ylim([0,1])\n",
    "axs[0].legend(shadow=True, fancybox=True)\n",
    "\n",
    "for r in min_radius:\n",
    "    axs[1].plot(exclusion_radius_list, ious_puffs_avg_radius[r], label=r)\n",
    "\n",
    "axs[1].set_title('Puffs IoU')\n",
    "#axs[1].set_ylim([0,1])\n",
    "axs[1].legend(shadow=True, fancybox=True)\n",
    "\n",
    "for r in min_radius:\n",
    "    axs[2].plot(exclusion_radius_list, ious_waves_avg_radius[r], label=r)\n",
    "\n",
    "axs[2].set_title('Waves IoU')\n",
    "#axs[2].set_ylim([0,1])\n",
    "axs[2].legend(shadow=True, fancybox=True)\n",
    "\n",
    "plt.tick_params(labelcolor='none', which='both', top=False, bottom=False, left=False, right=False)\n",
    "plt.xlabel(\"Exclusion radius\")"
   ]
  },
  {
   "cell_type": "code",
   "execution_count": 32,
   "metadata": {},
   "outputs": [],
   "source": [
    "fig.savefig(\"average_IoU_different_min_event_size_excl_radius.png\")"
   ]
  },
  {
   "cell_type": "markdown",
   "metadata": {
    "tags": []
   },
   "source": [
    "## Sparks metrics (TODO)"
   ]
  },
  {
   "cell_type": "code",
   "execution_count": 16,
   "metadata": {},
   "outputs": [],
   "source": [
    "from metrics_tools import nonmaxima_suppression\n",
    "\n",
    "def compute_prec_rec(annotations, preds, thresholds, ignore_frames=0,\n",
    "                     min_radius=3, match_distance=6, ignore_mask=None):\n",
    "    # annotations: video of sparks segmentation w/ values in {0,1}\n",
    "    # preds: video of sparks preds w/ values in [0,1]\n",
    "    # thresholds : list of thresholds applied to the preds over which events are kept\n",
    "    # min_radius : minimal \"radius\" of a valid event\n",
    "    # match_distance : maximal distance between annotation and pred\n",
    "    # ignore_mask: binary mask indicating where to ignore the values\n",
    "    # returns a list of Metrics tuples corresponding to thresholds and AUC\n",
    "\n",
    "    if ignore_frames != 0:\n",
    "        annotations = empty_marginal_frames(annotations, ignore_frames)\n",
    "        preds = empty_marginal_frames(preds, ignore_frames)\n",
    "    \n",
    "    # if using an ignore mask, remove predictions inside ignore regions\n",
    "    if ignore_mask is not None:\n",
    "        preds = preds * (1 - ignore_mask)\n",
    "\n",
    "    metrics = {} # list of 'Metrics' tuples: precision, recall, tp, tp_fp, tp_fn\n",
    "                 # indexed by threshold value\n",
    "\n",
    "    coords_true = nonmaxima_suppression(annotations)\n",
    "\n",
    "    # compute prec and rec for every threshold\n",
    "    for t in thresholds:\n",
    "        coords_preds = process_spark_prediction(preds,\n",
    "                                                t_detection=t,\n",
    "                                                min_radius=min_radius)\n",
    "\n",
    "        prec_rec = Metrics(*correspondences_precision_recall(coords_true,\n",
    "                                                             coords_preds,\n",
    "                                                             match_distance))\n",
    "\n",
    "        metrics[t] = prec_rec\n",
    "        #print(\"threshold\", t)\n",
    "        #prec.append(prec_rec.precision)\n",
    "        #rec.append(prec_rec.recall)\n",
    "\n",
    "\n",
    "    # compute AUC for this sample\n",
    "    #area_under_curve = auc(rec, prec)\n",
    "\n",
    "    return metrics#, area_under_curve\n",
    "\n",
    "def reduce_metrics_thresholds(results):\n",
    "    # apply metrics reduction to results corresponding to different thresholds\n",
    "    # results is a dict of dicts (# videos x # thresholds)\n",
    "    # thresholds is the list of used thresholds\n",
    "    # returns dicts of reduced 'Metrics' instances for every threshold (# thresholds x # metrics)\n",
    "\n",
    "    # revert nested dictionaires \n",
    "    results_t = defaultdict(dict)\n",
    "    for video_id, video_metrics in results.items():\n",
    "        for t, t_metrics in video_metrics.items():\n",
    "            results_t[t][video_id] = t_metrics\n",
    "\n",
    "    reduced_metrics = {}\n",
    "    prec = {}\n",
    "    rec = {}\n",
    "\n",
    "    for t, res in results_t.items():\n",
    "        # res is a dict of 'Metrics' for all videos\n",
    "        reduced_res = reduce_metrics(list(res.values()))\n",
    "\n",
    "        reduced_metrics[t] = reduced_res\n",
    "        prec[t] = reduced_res.precision\n",
    "        rec[t] = reduced_res.recall\n",
    "\n",
    "    # compute area under the curve for reduced metrics\n",
    "    #print(\"REC\",rec)\n",
    "    #print(\"PREC\",prec)\n",
    "    #area_under_curve = roc_auc_score(rec, prec)\n",
    "    #print(\"AREA UNDER CURVE\", area_under_curve)\n",
    "\n",
    "    return reduced_metrics, prec, rec, None"
   ]
  },
  {
   "cell_type": "code",
   "execution_count": 24,
   "metadata": {},
   "outputs": [
    {
     "name": "stdout",
     "output_type": "stream",
     "text": [
      "focal_loss_gamma_5_ubelix\n",
      "05\n",
      "{0.5: Metrics(precision=0.19487179487179487, recall=0.5428571428571428, tp=38, tp_fp=195, tp_fn=70),\n",
      " 0.55: Metrics(precision=0.21468926553672316, recall=0.5428571428571428, tp=38, tp_fp=177, tp_fn=70),\n",
      " 0.6: Metrics(precision=0.21875, recall=0.5, tp=35, tp_fp=160, tp_fn=70),\n",
      " 0.65: Metrics(precision=0.22535211267605634, recall=0.45714285714285713, tp=32, tp_fp=142, tp_fn=70),\n",
      " 0.7: Metrics(precision=0.24603174603174602, recall=0.44285714285714284, tp=31, tp_fp=126, tp_fn=70),\n",
      " 0.75: Metrics(precision=0.2978723404255319, recall=0.4, tp=28, tp_fp=94, tp_fn=70),\n",
      " 0.8: Metrics(precision=0.4, recall=0.2571428571428571, tp=18, tp_fp=45, tp_fn=70),\n",
      " 0.85: Metrics(precision=0.6666666666666666, recall=0.08571428571428572, tp=6, tp_fp=9, tp_fn=70),\n",
      " 0.9: Metrics(precision=1.0, recall=0.014285714285714285, tp=1, tp_fp=1, tp_fn=70),\n",
      " 0.95: Metrics(precision=1.0, recall=0.0, tp=0, tp_fp=0, tp_fn=70)}\n",
      "10\n",
      "{0.5: Metrics(precision=0.09782608695652174, recall=0.45, tp=9, tp_fp=92, tp_fn=20),\n",
      " 0.55: Metrics(precision=0.14666666666666667, recall=0.55, tp=11, tp_fp=75, tp_fn=20),\n",
      " 0.6: Metrics(precision=0.19117647058823528, recall=0.65, tp=13, tp_fp=68, tp_fn=20),\n",
      " 0.65: Metrics(precision=0.25, recall=0.75, tp=15, tp_fp=60, tp_fn=20),\n",
      " 0.7: Metrics(precision=0.2564102564102564, recall=0.5, tp=10, tp_fp=39, tp_fn=20),\n",
      " 0.75: Metrics(precision=0.3076923076923077, recall=0.4, tp=8, tp_fp=26, tp_fn=20),\n",
      " 0.8: Metrics(precision=0.2727272727272727, recall=0.15, tp=3, tp_fp=11, tp_fn=20),\n",
      " 0.85: Metrics(precision=1.0, recall=0.05, tp=1, tp_fp=1, tp_fn=20),\n",
      " 0.9: Metrics(precision=1.0, recall=0.0, tp=0, tp_fp=0, tp_fn=20),\n",
      " 0.95: Metrics(precision=1.0, recall=0.0, tp=0, tp_fp=0, tp_fn=20)}\n",
      "15\n",
      "{0.5: Metrics(precision=0.23157894736842105, recall=0.5, tp=22, tp_fp=95, tp_fn=44),\n",
      " 0.55: Metrics(precision=0.2876712328767123, recall=0.4772727272727273, tp=21, tp_fp=73, tp_fn=44),\n",
      " 0.6: Metrics(precision=0.35185185185185186, recall=0.4318181818181818, tp=19, tp_fp=54, tp_fn=44),\n",
      " 0.65: Metrics(precision=0.391304347826087, recall=0.4090909090909091, tp=18, tp_fp=46, tp_fn=44),\n",
      " 0.7: Metrics(precision=0.34210526315789475, recall=0.29545454545454547, tp=13, tp_fp=38, tp_fn=44),\n",
      " 0.75: Metrics(precision=0.45454545454545453, recall=0.22727272727272727, tp=10, tp_fp=22, tp_fn=44),\n",
      " 0.8: Metrics(precision=0.625, recall=0.11363636363636363, tp=5, tp_fp=8, tp_fn=44),\n",
      " 0.85: Metrics(precision=1.0, recall=0.0, tp=0, tp_fp=0, tp_fn=44),\n",
      " 0.9: Metrics(precision=1.0, recall=0.0, tp=0, tp_fp=0, tp_fn=44),\n",
      " 0.95: Metrics(precision=1.0, recall=0.0, tp=0, tp_fp=0, tp_fn=44)}\n",
      "20\n",
      "{0.5: Metrics(precision=0.35772357723577236, recall=0.6567164179104478, tp=44, tp_fp=123, tp_fn=67),\n",
      " 0.55: Metrics(precision=0.3611111111111111, recall=0.582089552238806, tp=39, tp_fp=108, tp_fn=67),\n",
      " 0.6: Metrics(precision=0.42, recall=0.6268656716417911, tp=42, tp_fp=100, tp_fn=67),\n",
      " 0.65: Metrics(precision=0.4819277108433735, recall=0.5970149253731343, tp=40, tp_fp=83, tp_fn=67),\n",
      " 0.7: Metrics(precision=0.5342465753424658, recall=0.582089552238806, tp=39, tp_fp=73, tp_fn=67),\n",
      " 0.75: Metrics(precision=0.62, recall=0.4626865671641791, tp=31, tp_fp=50, tp_fn=67),\n",
      " 0.8: Metrics(precision=0.7894736842105263, recall=0.22388059701492538, tp=15, tp_fp=19, tp_fn=67),\n",
      " 0.85: Metrics(precision=1.0, recall=0.0, tp=0, tp_fp=0, tp_fn=67),\n",
      " 0.9: Metrics(precision=1.0, recall=0.0, tp=0, tp_fp=0, tp_fn=67),\n",
      " 0.95: Metrics(precision=1.0, recall=0.0, tp=0, tp_fp=0, tp_fn=67)}\n",
      "25\n",
      "{0.5: Metrics(precision=0.1015625, recall=0.8387096774193549, tp=26, tp_fp=256, tp_fn=31),\n",
      " 0.55: Metrics(precision=0.1152073732718894, recall=0.8064516129032258, tp=25, tp_fp=217, tp_fn=31),\n",
      " 0.6: Metrics(precision=0.12903225806451613, recall=0.7741935483870968, tp=24, tp_fp=186, tp_fn=31),\n",
      " 0.65: Metrics(precision=0.16560509554140126, recall=0.8387096774193549, tp=26, tp_fp=157, tp_fn=31),\n",
      " 0.7: Metrics(precision=0.16153846153846155, recall=0.6774193548387096, tp=21, tp_fp=130, tp_fn=31),\n",
      " 0.75: Metrics(precision=0.20618556701030927, recall=0.6451612903225806, tp=20, tp_fp=97, tp_fn=31),\n",
      " 0.8: Metrics(precision=0.24, recall=0.3870967741935484, tp=12, tp_fp=50, tp_fn=31),\n",
      " 0.85: Metrics(precision=0.0, recall=0.0, tp=0, tp_fp=1, tp_fn=31),\n",
      " 0.9: Metrics(precision=1.0, recall=0.0, tp=0, tp_fp=0, tp_fn=31),\n",
      " 0.95: Metrics(precision=1.0, recall=0.0, tp=0, tp_fp=0, tp_fn=31)}\n",
      "32\n",
      "{0.5: Metrics(precision=0.03125, recall=0.7142857142857143, tp=5, tp_fp=160, tp_fn=7),\n",
      " 0.55: Metrics(precision=0.04807692307692308, recall=0.7142857142857143, tp=5, tp_fp=104, tp_fn=7),\n",
      " 0.6: Metrics(precision=0.06349206349206349, recall=0.5714285714285714, tp=4, tp_fp=63, tp_fn=7),\n",
      " 0.65: Metrics(precision=0.046511627906976744, recall=0.2857142857142857, tp=2, tp_fp=43, tp_fn=7),\n",
      " 0.7: Metrics(precision=0.10526315789473684, recall=0.2857142857142857, tp=2, tp_fp=19, tp_fn=7),\n",
      " 0.75: Metrics(precision=0.5, recall=0.5714285714285714, tp=4, tp_fp=8, tp_fn=7),\n",
      " 0.8: Metrics(precision=1.0, recall=0.14285714285714285, tp=1, tp_fp=1, tp_fn=7),\n",
      " 0.85: Metrics(precision=1.0, recall=0.0, tp=0, tp_fp=0, tp_fn=7),\n",
      " 0.9: Metrics(precision=1.0, recall=0.0, tp=0, tp_fp=0, tp_fn=7),\n",
      " 0.95: Metrics(precision=1.0, recall=0.0, tp=0, tp_fp=0, tp_fn=7)}\n",
      "34\n",
      "{0.5: Metrics(precision=0.06097560975609756, recall=0.3125, tp=5, tp_fp=82, tp_fn=16),\n",
      " 0.55: Metrics(precision=0.09375, recall=0.375, tp=6, tp_fp=64, tp_fn=16),\n",
      " 0.6: Metrics(precision=0.09433962264150944, recall=0.3125, tp=5, tp_fp=53, tp_fn=16),\n",
      " 0.65: Metrics(precision=0.13953488372093023, recall=0.375, tp=6, tp_fp=43, tp_fn=16),\n",
      " 0.7: Metrics(precision=0.25, recall=0.4375, tp=7, tp_fp=28, tp_fn=16),\n",
      " 0.75: Metrics(precision=0.375, recall=0.375, tp=6, tp_fp=16, tp_fn=16),\n",
      " 0.8: Metrics(precision=0.42857142857142855, recall=0.1875, tp=3, tp_fp=7, tp_fn=16),\n",
      " 0.85: Metrics(precision=1.0, recall=0.0625, tp=1, tp_fp=1, tp_fn=16),\n",
      " 0.9: Metrics(precision=1.0, recall=0.0, tp=0, tp_fp=0, tp_fn=16),\n",
      " 0.95: Metrics(precision=1.0, recall=0.0, tp=0, tp_fp=0, tp_fn=16)}\n",
      "40\n",
      "{0.5: Metrics(precision=0.05454545454545454, recall=0.5, tp=3, tp_fp=55, tp_fn=6),\n",
      " 0.55: Metrics(precision=0.08823529411764706, recall=0.5, tp=3, tp_fp=34, tp_fn=6),\n",
      " 0.6: Metrics(precision=0.17391304347826086, recall=0.6666666666666666, tp=4, tp_fp=23, tp_fn=6),\n",
      " 0.65: Metrics(precision=0.2857142857142857, recall=0.6666666666666666, tp=4, tp_fp=14, tp_fn=6),\n",
      " 0.7: Metrics(precision=0.375, recall=0.5, tp=3, tp_fp=8, tp_fn=6),\n",
      " 0.75: Metrics(precision=0.25, recall=0.16666666666666666, tp=1, tp_fp=4, tp_fn=6),\n",
      " 0.8: Metrics(precision=0.5, recall=0.16666666666666666, tp=1, tp_fp=2, tp_fn=6),\n",
      " 0.85: Metrics(precision=1.0, recall=0.0, tp=0, tp_fp=0, tp_fn=6),\n",
      " 0.9: Metrics(precision=1.0, recall=0.0, tp=0, tp_fp=0, tp_fn=6),\n",
      " 0.95: Metrics(precision=1.0, recall=0.0, tp=0, tp_fp=0, tp_fn=6)}\n",
      "45\n",
      "{0.5: Metrics(precision=0.0, recall=1.0, tp=0, tp_fp=228, tp_fn=0),\n",
      " 0.55: Metrics(precision=0.0, recall=1.0, tp=0, tp_fp=178, tp_fn=0),\n",
      " 0.6: Metrics(precision=0.0, recall=1.0, tp=0, tp_fp=127, tp_fn=0),\n",
      " 0.65: Metrics(precision=0.0, recall=1.0, tp=0, tp_fp=84, tp_fn=0),\n",
      " 0.7: Metrics(precision=0.0, recall=1.0, tp=0, tp_fp=43, tp_fn=0),\n",
      " 0.75: Metrics(precision=0.0, recall=1.0, tp=0, tp_fp=20, tp_fn=0),\n",
      " 0.8: Metrics(precision=0.0, recall=1.0, tp=0, tp_fp=2, tp_fn=0),\n",
      " 0.85: Metrics(precision=1.0, recall=1.0, tp=0, tp_fp=0, tp_fn=0),\n",
      " 0.9: Metrics(precision=1.0, recall=1.0, tp=0, tp_fp=0, tp_fn=0),\n",
      " 0.95: Metrics(precision=1.0, recall=1.0, tp=0, tp_fp=0, tp_fn=0)}\n"
     ]
    }
   ],
   "source": [
    "# parameters\n",
    "ignore_frames = 6\n",
    "\n",
    "t_detection_sparks = [0.5,0.55,0.6,0.65,0.7,0.75,0.8,0.85,0.9,0.95]\n",
    "\n",
    "min_radius_sparks = 2\n",
    "match_distance = 6\n",
    "\n",
    "# each dictionary contains, for every training name, a list of prec rec scores for all videos for all thresholds\n",
    "prec_rec_sparks_all_trainings = {} # num trainings x num video x num thresholds\n",
    "\n",
    "for training_name in training_names:\n",
    "    print(training_name)\n",
    "    # get predictions\n",
    "    sparks_training = sparks[training_name]\n",
    "    \n",
    "    # get annotations\n",
    "    ys_training = ys[training_name]\n",
    "    \n",
    "    prec_rec_sparks_all_video = {}\n",
    "    \n",
    "    for video_id in ys_all_trainings.keys():\n",
    "        print(video_id)\n",
    "        sparks_sample = sparks_training[video_id]\n",
    "        ys_sample = ys_training[video_id]\n",
    "        ys_raw = ys_all_trainings[video_id]\n",
    "        \n",
    "        # get binary ys \n",
    "        ys_sparks_sample = np.where(ys_sample==1,1.0,0.0)\n",
    "        \n",
    "        # get ignore mask\n",
    "        ignore_mask =  np.where(ys_raw==4,1,0)\n",
    "            \n",
    "        # compute precision and recall for some thresholds and remove ignored frames\n",
    "        prec_rec_all_t = compute_prec_rec(ys_sparks_sample, sparks_sample, \n",
    "                                          t_detection_sparks, ignore_frames,\n",
    "                                          min_radius_sparks, match_distance,\n",
    "                                          ignore_mask\n",
    "                                         ) # dict indexed by threshold value\n",
    "        pprint.pprint(dict(prec_rec_all_t))\n",
    "        prec_rec_sparks_all_video[video_id] = prec_rec_all_t\n",
    "        \n",
    "    prec_rec_sparks_all_trainings[training_name] = prec_rec_sparks_all_video"
   ]
  },
  {
   "cell_type": "markdown",
   "metadata": {},
   "source": [
    "### Average over all videos"
   ]
  },
  {
   "cell_type": "code",
   "execution_count": 25,
   "metadata": {},
   "outputs": [],
   "source": [
    "prec_rec_sparks_avg = {} # num training x num thresholds\n",
    "prec_avg = {}\n",
    "rec_avg = {}\n",
    "\n",
    "for training_name in training_names:\n",
    "    prec_rec_all_videos = prec_rec_sparks_all_trainings[training_name]\n",
    "    prec_rec_sparks_avg[training_name] = reduce_metrics_thresholds(prec_rec_all_videos)\n",
    "    prec_avg[training_name] = prec_rec_sparks_avg[training_name][1]\n",
    "    rec_avg[training_name] = prec_rec_sparks_avg[training_name][2]"
   ]
  },
  {
   "cell_type": "markdown",
   "metadata": {
    "tags": []
   },
   "source": [
    "### Dataframe and plots of results"
   ]
  },
  {
   "cell_type": "code",
   "execution_count": 26,
   "metadata": {},
   "outputs": [],
   "source": [
    "cols = pd.Index(t_detection_sparks, name='Detection threshold')\n",
    "metrics = ['Precision', 'Recall']\n",
    "rows = pd.MultiIndex.from_product([metrics, training_names], names=['Class', 'Training name'])\n",
    "\n",
    "data = [*prec_avg.values(),\n",
    "        *rec_avg.values()\n",
    "       ]\n",
    "\n",
    "df = pd.DataFrame(data, rows, cols)"
   ]
  },
  {
   "cell_type": "code",
   "execution_count": 27,
   "metadata": {},
   "outputs": [
    {
     "data": {
      "text/html": [
       "<div>\n",
       "<style scoped>\n",
       "    .dataframe tbody tr th:only-of-type {\n",
       "        vertical-align: middle;\n",
       "    }\n",
       "\n",
       "    .dataframe tbody tr th {\n",
       "        vertical-align: top;\n",
       "    }\n",
       "\n",
       "    .dataframe thead th {\n",
       "        text-align: right;\n",
       "    }\n",
       "</style>\n",
       "<table border=\"1\" class=\"dataframe\">\n",
       "  <thead>\n",
       "    <tr style=\"text-align: right;\">\n",
       "      <th></th>\n",
       "      <th>Detection threshold</th>\n",
       "      <th>0.50</th>\n",
       "      <th>0.55</th>\n",
       "      <th>0.60</th>\n",
       "      <th>0.65</th>\n",
       "      <th>0.70</th>\n",
       "      <th>0.75</th>\n",
       "      <th>0.80</th>\n",
       "      <th>0.85</th>\n",
       "      <th>0.90</th>\n",
       "      <th>0.95</th>\n",
       "    </tr>\n",
       "    <tr>\n",
       "      <th>Class</th>\n",
       "      <th>Training name</th>\n",
       "      <th></th>\n",
       "      <th></th>\n",
       "      <th></th>\n",
       "      <th></th>\n",
       "      <th></th>\n",
       "      <th></th>\n",
       "      <th></th>\n",
       "      <th></th>\n",
       "      <th></th>\n",
       "      <th></th>\n",
       "    </tr>\n",
       "  </thead>\n",
       "  <tbody>\n",
       "    <tr>\n",
       "      <th>Precision</th>\n",
       "      <th>focal_loss_gamma_5_ubelix</th>\n",
       "      <td>0.118196</td>\n",
       "      <td>0.143689</td>\n",
       "      <td>0.175060</td>\n",
       "      <td>0.212798</td>\n",
       "      <td>0.250000</td>\n",
       "      <td>0.320475</td>\n",
       "      <td>0.400000</td>\n",
       "      <td>0.666667</td>\n",
       "      <td>1.000000</td>\n",
       "      <td>1.0</td>\n",
       "    </tr>\n",
       "    <tr>\n",
       "      <th>Recall</th>\n",
       "      <th>focal_loss_gamma_5_ubelix</th>\n",
       "      <td>0.582375</td>\n",
       "      <td>0.567050</td>\n",
       "      <td>0.559387</td>\n",
       "      <td>0.547893</td>\n",
       "      <td>0.482759</td>\n",
       "      <td>0.413793</td>\n",
       "      <td>0.222222</td>\n",
       "      <td>0.030651</td>\n",
       "      <td>0.003831</td>\n",
       "      <td>0.0</td>\n",
       "    </tr>\n",
       "  </tbody>\n",
       "</table>\n",
       "</div>"
      ],
      "text/plain": [
       "Detection threshold                      0.50      0.55      0.60      0.65  \\\n",
       "Class     Training name                                                       \n",
       "Precision focal_loss_gamma_5_ubelix  0.118196  0.143689  0.175060  0.212798   \n",
       "Recall    focal_loss_gamma_5_ubelix  0.582375  0.567050  0.559387  0.547893   \n",
       "\n",
       "Detection threshold                      0.70      0.75      0.80      0.85  \\\n",
       "Class     Training name                                                       \n",
       "Precision focal_loss_gamma_5_ubelix  0.250000  0.320475  0.400000  0.666667   \n",
       "Recall    focal_loss_gamma_5_ubelix  0.482759  0.413793  0.222222  0.030651   \n",
       "\n",
       "Detection threshold                      0.90  0.95  \n",
       "Class     Training name                              \n",
       "Precision focal_loss_gamma_5_ubelix  1.000000   1.0  \n",
       "Recall    focal_loss_gamma_5_ubelix  0.003831   0.0  "
      ]
     },
     "metadata": {},
     "output_type": "display_data"
    }
   ],
   "source": [
    "display(df)"
   ]
  },
  {
   "cell_type": "code",
   "execution_count": 28,
   "metadata": {},
   "outputs": [],
   "source": [
    "df.to_csv(\"sparks_precision_recall.csv\")"
   ]
  },
  {
   "cell_type": "code",
   "execution_count": 29,
   "metadata": {},
   "outputs": [
    {
     "data": {
      "text/plain": [
       "Text(0.5, 0, 'Detection threshold')"
      ]
     },
     "execution_count": 29,
     "metadata": {},
     "output_type": "execute_result"
    },
    {
     "data": {
      "image/png": "[encoded data removed]",
      "text/plain": [
       "<Figure size 1440x864 with 3 Axes>"
      ]
     },
     "metadata": {
      "needs_background": "light"
     },
     "output_type": "display_data"
    }
   ],
   "source": [
    "fig, axs = plt.subplots(1, 2, sharex=True, figsize=(20,12))\n",
    "fig.add_subplot(111, frameon=False)\n",
    "\n",
    "for training_name in training_names:\n",
    "    axs[0].plot(t_detection_sparks, prec_avg[training_name].values(), label=training_name)\n",
    "           \n",
    "axs[0].set_title('Precision')\n",
    "axs[0].set_ylim([0,1])\n",
    "axs[0].legend(shadow=True, fancybox=True)\n",
    "\n",
    "for training_name in training_names:\n",
    "    axs[1].plot(t_detection_sparks, rec_avg[training_name].values(), label=training_name)\n",
    "\n",
    "axs[1].set_title('Recall')\n",
    "axs[1].set_ylim([0,1])\n",
    "axs[1].legend(shadow=True, fancybox=True)\n",
    "\n",
    "plt.tick_params(labelcolor='none', which='both', top=False, bottom=False, left=False, right=False)\n",
    "plt.xlabel(\"Detection threshold\")"
   ]
  },
  {
   "cell_type": "code",
   "execution_count": 30,
   "metadata": {},
   "outputs": [],
   "source": [
    "fig.savefig(\"sparks_precision_recall.png\")"
   ]
  },
  {
   "cell_type": "code",
   "execution_count": null,
   "metadata": {},
   "outputs": [],
   "source": []
  },
  {
   "cell_type": "code",
   "execution_count": null,
   "metadata": {},
   "outputs": [],
   "source": []
  }
 ],
 "metadata": {
  "kernelspec": {
   "display_name": "Python 3 (ipykernel)",
   "language": "python",
   "name": "python3"
  },
  "language_info": {
   "codemirror_mode": {
    "name": "ipython",
    "version": 3
   },
   "file_extension": ".py",
   "mimetype": "text/x-python",
   "name": "python",
   "nbconvert_exporter": "python",
   "pygments_lexer": "ipython3",
   "version": "3.8.8"
  }
 },
 "nbformat": 4,
 "nbformat_minor": 4
}
