{
 "cells": [
  {
   "cell_type": "markdown",
   "metadata": {},
   "source": [
    "15.12.2021\n",
    "\n",
    "Load a bunch of UNet predictions in folder `trainings_validation` and compute some metrics, plots, etc.\n",
    "\n",
    "Predictions are saved as:\n",
    "`{training_name}_{epoch}_{video_id}_{class}.tif`\n",
    "\n",
    "**Idea**: Use predictions to produce plots and tables to visualize the results."
   ]
  },
  {
   "cell_type": "code",
   "execution_count": 1,
   "metadata": {
    "tags": []
   },
   "outputs": [],
   "source": [
    "%load_ext autoreload\n",
    "%autoreload 2"
   ]
  },
  {
   "cell_type": "code",
   "execution_count": 2,
   "metadata": {
    "tags": []
   },
   "outputs": [],
   "source": [
    "import numpy as np\n",
    "import glob\n",
    "import os\n",
    "import imageio\n",
    "\n",
    "from scipy.ndimage.morphology import binary_dilation, binary_erosion\n",
    "from sklearn.metrics import jaccard_score, f1_score\n",
    "\n",
    "import pandas as pd\n",
    "import matplotlib.pyplot as plt\n",
    "\n",
    "import unet\n",
    "from metrics_tools import (correspondences_precision_recall, \n",
    "                           Metrics, \n",
    "                           reduce_metrics, \n",
    "                           empty_marginal_frames,\n",
    "                           process_spark_prediction,\n",
    "                           process_puff_prediction,\n",
    "                           process_wave_prediction,\n",
    "                           write_videos_on_disk,\n",
    "                           get_sparks_locations_from_mask,\n",
    "                           compute_prec_rec,\n",
    "                           reduce_metrics_thresholds\n",
    "                          )"
   ]
  },
  {
   "cell_type": "code",
   "execution_count": 3,
   "metadata": {},
   "outputs": [
    {
     "data": {
      "text/plain": [
       "'C:\\\\Users\\\\dotti\\\\sparks_project\\\\sparks'"
      ]
     },
     "execution_count": 3,
     "metadata": {},
     "output_type": "execute_result"
    }
   ],
   "source": [
    "BASEDIR = os.path.abspath('')\n",
    "BASEDIR"
   ]
  },
  {
   "cell_type": "markdown",
   "metadata": {},
   "source": [
    "### Select predictions to load"
   ]
  },
  {
   "cell_type": "code",
   "execution_count": 4,
   "metadata": {},
   "outputs": [],
   "source": [
    "training_names = [\"temporal_reduction\",\n",
    "                  \"normalize_whole_video\",\n",
    "                  \"reduce_first_layer_channels_64\",\n",
    "                  \"256_long_chunks_physio\",\n",
    "                  \"256_long_chunks_64_step_physio\"\n",
    "                  ]\n",
    "\n",
    "epoch = 100000"
   ]
  },
  {
   "cell_type": "markdown",
   "metadata": {},
   "source": [
    "### Configure input/output folder"
   ]
  },
  {
   "cell_type": "code",
   "execution_count": 5,
   "metadata": {},
   "outputs": [],
   "source": [
    "metrics_folder = \"trainings_validation\""
   ]
  },
  {
   "cell_type": "markdown",
   "metadata": {},
   "source": [
    "### Load annotations\n",
    "open and process annotations (original version, sparks not processed)\n"
   ]
  },
  {
   "cell_type": "code",
   "execution_count": 6,
   "metadata": {},
   "outputs": [
    {
     "name": "stderr",
     "output_type": "stream",
     "text": [
      "TiffPage 0: TypeError: read_bytes() missing 3 required positional arguments: 'dtype', 'count', and 'offsetsize'\n"
     ]
    }
   ],
   "source": [
    "ys_all_trainings = []\n",
    "\n",
    "ys_filenames = sorted(glob.glob(os.path.join(metrics_folder, \"[0-9]*_mask.tif\")))\n",
    "\n",
    "for f in ys_filenames:\n",
    "    ys_all_trainings.append(np.asarray(imageio.volread(f)).astype('int'))"
   ]
  },
  {
   "cell_type": "markdown",
   "metadata": {},
   "source": [
    "### Load predictions"
   ]
  },
  {
   "cell_type": "code",
   "execution_count": 7,
   "metadata": {},
   "outputs": [],
   "source": [
    "ys = {} # contains annotations for each training\n",
    "sparks = {} # contains sparks for each training\n",
    "puffs = {} # contains puffs for each training\n",
    "waves = {} # contains waves for each training\n",
    "\n",
    "for training_name in training_names:\n",
    "    # Import .tif files as numpy array\n",
    "    base_name = os.path.join(metrics_folder,training_name+\"_\"+str(epoch)+\"_\")\n",
    "    \n",
    "    if training_name == \"temporal_reduction\": # need to use annotations from another training\n",
    "        if training_names[-1] != \"temporal_reduction\":\n",
    "            base_name_ys = os.path.join(metrics_folder,training_names[-1]+\"_\"+str(epoch)+\"_\")\n",
    "            ys_filenames = sorted(glob.glob(base_name_ys+\"[0-9]*_ys.tif\"))\n",
    "        else:\n",
    "            print(\"SELECT TRAINING NAME DIFFERENT FROM temporal_reduction\")\n",
    "            break\n",
    "    else:    \n",
    "        ys_filenames = sorted(glob.glob(base_name+\"*_ys.tif\"))\n",
    "        \n",
    "    sparks_filenames = sorted(glob.glob(base_name+\"[0-9]*_sparks.tif\"))\n",
    "    puffs_filenames = sorted(glob.glob(base_name+\"[0-9]*_puffs.tif\"))\n",
    "    waves_filenames = sorted(glob.glob(base_name+\"[0-9]*_waves.tif\"))\n",
    "        \n",
    "    training_ys = []\n",
    "    training_sparks = []\n",
    "    training_puffs = []\n",
    "    training_waves = []\n",
    "    \n",
    "    for y,s,p,w in zip(ys_filenames,sparks_filenames,puffs_filenames,waves_filenames):\n",
    "        ys_loaded = np.asarray(imageio.volread(y)).astype('int')\n",
    "        training_ys.append(ys_loaded)\n",
    "        \n",
    "        if training_name == \"temporal_reduction\": # repeat each frame 4 times\n",
    "            s_preds = np.asarray(imageio.volread(s))\n",
    "            p_preds = np.asarray(imageio.volread(p))\n",
    "            w_preds = np.asarray(imageio.volread(w))\n",
    "                        \n",
    "            # repeat predicted frames x4\n",
    "            s_preds = np.repeat(s_preds,4,0)\n",
    "            p_preds = np.repeat(p_preds,4,0)\n",
    "            w_preds = np.repeat(w_preds,4,0)\n",
    "            \n",
    "            # if original length %4 != 0, crop preds\n",
    "            if ys_loaded.shape != s_preds.shape:\n",
    "                duration = ys_loaded.shape[0]\n",
    "                s_preds = s_preds[:duration]\n",
    "                p_preds = p_preds[:duration]\n",
    "                w_preds = w_preds[:duration]\n",
    "            \n",
    "            assert ys_loaded.shape == s_preds.shape\n",
    "            assert ys_loaded.shape == p_preds.shape\n",
    "            assert ys_loaded.shape == w_preds.shape\n",
    "            \n",
    "            training_sparks.append(s_preds)\n",
    "            training_puffs.append(p_preds)\n",
    "            training_waves.append(w_preds)\n",
    "        else:\n",
    "            training_sparks.append(np.asarray(imageio.volread(s)))\n",
    "            training_puffs.append(np.asarray(imageio.volread(p)))\n",
    "            training_waves.append(np.asarray(imageio.volread(w)))\n",
    "\n",
    "    ys[training_name] = training_ys\n",
    "    sparks[training_name] = training_sparks\n",
    "    puffs[training_name] = training_puffs\n",
    "    waves[training_name] = training_waves        "
   ]
  },
  {
   "cell_type": "markdown",
   "metadata": {},
   "source": [
    "## Jaccard index for puffs and waves\n",
    "12.05.2021\n",
    "Seguendo il consiglio di Pablo:\n",
    "erosion & dilation delle annotations -> creazione di una exclusion region che viene ignorata dal supporto del Jaccard index"
   ]
  },
  {
   "cell_type": "code",
   "execution_count": 8,
   "metadata": {
    "tags": []
   },
   "outputs": [],
   "source": [
    "# Define function\n",
    "\n",
    "def jaccard_score_exclusion_zone(ys,preds,exclusion_radius,ignore_mask=None,sparks=False):\n",
    "    \n",
    "    # Compute intersection and union\n",
    "    intersection = np.logical_and(ys, preds)\n",
    "    union = np.logical_or(ys, preds)\n",
    "    \n",
    "    if exclusion_radius != 0:\n",
    "        # Compute exclusion zone: 1 where Jaccard index has to be computed, 0 otherwise\n",
    "        dilated = binary_dilation(ys, iterations=exclusion_radius)\n",
    "        \n",
    "        if not sparks:\n",
    "            eroded = binary_erosion(ys, iterations=exclusion_radius)\n",
    "            exclusion_mask = 1 - np.logical_xor(eroded,dilated)\n",
    "        else:\n",
    "            # Erosion is not computed for spark class\n",
    "            exclusion_mask = 1 - np.logical_xor(ys,dilated)\n",
    "        \n",
    "        # If ignore mask is given, don't compute values where it is 1\n",
    "        if ignore_mask is not None:\n",
    "            # Compute dilation for ignore mask too (erosion not necessary)\n",
    "            ignore_mask = binary_dilation(ignore_mask, iterations=exclusion_radius)\n",
    "            \n",
    "            # Ignore regions where ignore mask is 1\n",
    "            exclusion_mask = np.logical_and(1 - ignore_mask, exclusion_mask)\n",
    "        \n",
    "        # Compute intersecion of exclusion mask with intersection and union\n",
    "        intersection = np.logical_and(intersection, exclusion_mask)\n",
    "        union = np.logical_and(union, exclusion_mask)    \n",
    "        \n",
    "    #print(\"Pixels in intersection:\", np.count_nonzero(intersection))\n",
    "    #print(\"Pixels in union:\", np.count_nonzero(union))\n",
    "        \n",
    "    if np.count_nonzero(union) != 0:\n",
    "        iou = np.count_nonzero(intersection)/np.count_nonzero(union)\n",
    "    else:\n",
    "        iou = 1.\n",
    "    \n",
    "    return iou"
   ]
  },
  {
   "cell_type": "markdown",
   "metadata": {
    "jp-MarkdownHeadingCollapsed": true,
    "tags": []
   },
   "source": [
    "## Compute metrics for sample video"
   ]
  },
  {
   "cell_type": "code",
   "execution_count": 9,
   "metadata": {
    "tags": []
   },
   "outputs": [],
   "source": [
    "# results for a sample movie in sample dataset\n",
    "name = \"256_long_chunks_64_step_physio\"\n",
    "idx = 0"
   ]
  },
  {
   "cell_type": "code",
   "execution_count": 10,
   "metadata": {
    "tags": []
   },
   "outputs": [],
   "source": [
    "ignore_frames = 6"
   ]
  },
  {
   "cell_type": "markdown",
   "metadata": {},
   "source": [
    "### Get binary preds and remove ignored frames"
   ]
  },
  {
   "cell_type": "code",
   "execution_count": 11,
   "metadata": {
    "tags": []
   },
   "outputs": [],
   "source": [
    "# get predictions\n",
    "sparks_sample = sparks[name][idx]\n",
    "puffs_sample = puffs[name][idx]\n",
    "waves_sample = waves[name][idx]"
   ]
  },
  {
   "cell_type": "code",
   "execution_count": 12,
   "metadata": {
    "tags": []
   },
   "outputs": [],
   "source": [
    "t_detection = 0.5\n",
    "min_radius_puffs = 4\n",
    "min_radius_waves = 10\n",
    "\n",
    "puffs_binary = process_puff_prediction(puffs_sample, \n",
    "                                       t_detection, \n",
    "                                       min_radius_puffs, \n",
    "                                       ignore_frames)\n",
    "\n",
    "waves_binary = process_wave_prediction(waves_sample, \n",
    "                                       t_detection, \n",
    "                                       min_radius_waves, \n",
    "                                       ignore_frames)"
   ]
  },
  {
   "cell_type": "markdown",
   "metadata": {},
   "source": [
    "### Get binary ys and remove ignored frames"
   ]
  },
  {
   "cell_type": "code",
   "execution_count": 13,
   "metadata": {
    "tags": []
   },
   "outputs": [],
   "source": [
    "# get binary ys\n",
    "ys_sample = ys_all_trainings[idx]\n",
    "\n",
    "ys_puffs_sample = np.where(ys_sample==3,1,0)\n",
    "ys_waves_sample = np.where(ys_sample==2,1,0)\n",
    "ignore_mask = np.where(ys_sample==4,1,0)"
   ]
  },
  {
   "cell_type": "code",
   "execution_count": 14,
   "metadata": {
    "tags": []
   },
   "outputs": [],
   "source": [
    "ys_puffs_sample = empty_marginal_frames(ys_puffs_sample, ignore_frames)\n",
    "ys_waves_sample = empty_marginal_frames(ys_waves_sample, ignore_frames)\n",
    "ignore_mask = empty_marginal_frames(ignore_mask, ignore_frames)"
   ]
  },
  {
   "cell_type": "markdown",
   "metadata": {},
   "source": [
    "### Plot a sample frame"
   ]
  },
  {
   "cell_type": "code",
   "execution_count": 15,
   "metadata": {
    "tags": []
   },
   "outputs": [
    {
     "data": {
      "text/plain": [
       "((500, 64, 512), (500, 64, 512), (500, 64, 512), (500, 64, 512))"
      ]
     },
     "execution_count": 15,
     "metadata": {},
     "output_type": "execute_result"
    }
   ],
   "source": [
    "sparks_sample.shape, puffs_sample.shape, waves_sample.shape, ys_sample.shape"
   ]
  },
  {
   "cell_type": "code",
   "execution_count": 16,
   "metadata": {
    "tags": []
   },
   "outputs": [],
   "source": [
    "sample_frame = 199 # 346"
   ]
  },
  {
   "cell_type": "code",
   "execution_count": 17,
   "metadata": {
    "tags": []
   },
   "outputs": [
    {
     "data": {
      "image/png": "[encoded data removed]",
      "text/plain": [
       "<Figure size 1440x576 with 7 Axes>"
      ]
     },
     "metadata": {
      "needs_background": "light"
     },
     "output_type": "display_data"
    }
   ],
   "source": [
    "# Plot annotations and preds of sample frame\n",
    "\n",
    "#plt.rcParams.update({'font.size': 8})\n",
    "\n",
    "plt.figure(figsize=(20,8))\n",
    "plt.suptitle(f\"Annotations and preds of sample frame {sample_frame}\", fontsize=12)\n",
    "\n",
    "\n",
    "ax = plt.subplot(4,2,1)\n",
    "ax.set_title(\"Puffs annotations\")\n",
    "plt.imshow(ys_puffs_sample[sample_frame])\n",
    "\n",
    "ax = plt.subplot(4,2,2)\n",
    "ax.set_title(\"Waves annotations\")\n",
    "plt.imshow(ys_waves_sample[sample_frame])\n",
    "\n",
    "ax = plt.subplot(4,2,3)\n",
    "ax.set_title(\"Puffs binary preds\")\n",
    "plt.imshow(puffs_binary[sample_frame])\n",
    "\n",
    "ax = plt.subplot(4,2,4)\n",
    "ax.set_title(\"Waves binary preds\")\n",
    "plt.imshow(waves_binary[sample_frame])\n",
    "\n",
    "ax = plt.subplot(4,2,5)\n",
    "ax.set_title(\"Puffs original preds\")\n",
    "plt.imshow(puffs_sample[sample_frame])\n",
    "\n",
    "ax = plt.subplot(4,2,6)\n",
    "ax.set_title(\"Waves original preds\")\n",
    "plt.imshow(waves_sample[sample_frame])\n",
    "\n",
    "ax = plt.subplot(4,2,7)\n",
    "ax.set_title(\"Ignore mask (annotations)\")\n",
    "plt.imshow(ignore_mask[sample_frame])\n",
    "\n",
    "\n",
    "plt.show()"
   ]
  },
  {
   "cell_type": "markdown",
   "metadata": {
    "tags": []
   },
   "source": [
    "### Save sample binary preds on disk"
   ]
  },
  {
   "cell_type": "code",
   "execution_count": 18,
   "metadata": {
    "tags": []
   },
   "outputs": [],
   "source": [
    "imageio.volwrite(os.path.join(metrics_folder, \"binary_preds_puffs.tif\"), np.uint8(puffs_binary))\n",
    "imageio.volwrite(os.path.join(metrics_folder, \"binary_preds_waves.tif\"), np.uint8(waves_binary))"
   ]
  },
  {
   "cell_type": "markdown",
   "metadata": {},
   "source": [
    "### Save sample annotations on disk"
   ]
  },
  {
   "cell_type": "code",
   "execution_count": 19,
   "metadata": {
    "tags": []
   },
   "outputs": [],
   "source": [
    "imageio.volwrite(os.path.join(metrics_folder, \"annotations_puffs.tif\"), np.uint8(ys_puffs_sample))\n",
    "imageio.volwrite(os.path.join(metrics_folder, \"annotations_waves.tif\"), np.uint8(ys_waves_sample))"
   ]
  },
  {
   "cell_type": "markdown",
   "metadata": {
    "tags": []
   },
   "source": [
    "### Save ignore mask on disk"
   ]
  },
  {
   "cell_type": "code",
   "execution_count": 20,
   "metadata": {},
   "outputs": [],
   "source": [
    "imageio.volwrite(os.path.join(metrics_folder, \"ignore_mask.tif\"), np.uint8(ignore_mask))"
   ]
  },
  {
   "cell_type": "markdown",
   "metadata": {},
   "source": [
    "### Compute Jaccard score (without exclusion zone)"
   ]
  },
  {
   "cell_type": "code",
   "execution_count": 21,
   "metadata": {
    "tags": []
   },
   "outputs": [
    {
     "name": "stdout",
     "output_type": "stream",
     "text": [
      "Jaccard score puffs: 0.16206809118779245\n",
      "Jaccard score waves: 0.0\n"
     ]
    },
    {
     "name": "stderr",
     "output_type": "stream",
     "text": [
      "C:\\Users\\dotti\\.conda\\envs\\sparks\\lib\\site-packages\\sklearn\\metrics\\_classification.py:1248: UndefinedMetricWarning: Jaccard is ill-defined and being set to 0.0 due to no true or predicted samples. Use `zero_division` parameter to control this behavior.\n",
      "  _warn_prf(average, modifier, msg_start, len(result))\n"
     ]
    }
   ],
   "source": [
    "iou_puffs = jaccard_score(ys_puffs_sample.ravel(), puffs_binary.ravel())\n",
    "iou_waves = jaccard_score(ys_waves_sample.ravel(), waves_binary.ravel())\n",
    "\n",
    "print(f\"Jaccard score puffs: {iou_puffs}\")\n",
    "print(f\"Jaccard score waves: {iou_waves}\")"
   ]
  },
  {
   "cell_type": "code",
   "execution_count": 22,
   "metadata": {
    "tags": []
   },
   "outputs": [],
   "source": [
    "# Compute exclusion zone\n",
    "\n",
    "exclusion_radius = 2"
   ]
  },
  {
   "cell_type": "code",
   "execution_count": 23,
   "metadata": {
    "tags": []
   },
   "outputs": [],
   "source": [
    "# Just for puffs\n",
    "puffs_eroded = binary_erosion(ys_puffs_sample, iterations=exclusion_radius)\n",
    "puffs_dilated = binary_dilation(ys_puffs_sample, iterations=exclusion_radius)\n",
    "\n",
    "exclusion_mask = 1 - np.logical_xor(puffs_eroded, puffs_dilated)\n",
    "# 1 where Jaccard index has to be computed, 0 otherwise"
   ]
  },
  {
   "cell_type": "code",
   "execution_count": 24,
   "metadata": {},
   "outputs": [],
   "source": [
    "# Compute dilation for ignore mask\n",
    "ignore_mask_dilated = binary_dilation(ignore_mask, iterations=exclusion_radius)\n",
    "\n",
    "# Ignore regions in ignore mask too\n",
    "exclusion_mask_ignore_roi = np.logical_and(1 - ignore_mask_dilated, exclusion_mask)"
   ]
  },
  {
   "cell_type": "code",
   "execution_count": 25,
   "metadata": {
    "tags": []
   },
   "outputs": [
    {
     "data": {
      "image/png": "[encoded data removed]",
      "text/plain": [
       "<Figure size 1440x432 with 6 Axes>"
      ]
     },
     "metadata": {
      "needs_background": "light"
     },
     "output_type": "display_data"
    }
   ],
   "source": [
    "# Plot annotations eroded and dilated\n",
    "#plt.rcParams.update({'font.size': 8})\n",
    "\n",
    "plt.figure(figsize=(20,6))\n",
    "plt.suptitle(f\"Plot annotations eroded and dilated of sample frame {sample_frame}\", fontsize=12)\n",
    "\n",
    "\n",
    "ax = plt.subplot(3,2,1)\n",
    "ax.set_title(\"Puffs original annotations\")\n",
    "plt.imshow(ys_puffs_sample[sample_frame])\n",
    "\n",
    "ax = plt.subplot(3,2,2)\n",
    "ax.set_title(\"Difference\")\n",
    "plt.imshow(exclusion_mask[sample_frame])\n",
    "\n",
    "ax = plt.subplot(3,2,3)\n",
    "ax.set_title(\"Puffs eroded annotations\")\n",
    "plt.imshow(puffs_eroded[sample_frame])\n",
    "\n",
    "ax = plt.subplot(3,2,4)\n",
    "ax.set_title(\"Puffs dilated annotations\")\n",
    "plt.imshow(puffs_dilated[sample_frame])\n",
    "\n",
    "ax = plt.subplot(3,2,5)\n",
    "ax.set_title(\"Dilated ignore mask\")\n",
    "plt.imshow(ignore_mask_dilated[sample_frame])\n",
    "\n",
    "ax = plt.subplot(3,2,6)\n",
    "ax.set_title(\"Region to compute IoU\")\n",
    "plt.imshow(exclusion_mask_ignore_roi[sample_frame])\n",
    "\n",
    "\n",
    "plt.show()"
   ]
  },
  {
   "cell_type": "code",
   "execution_count": 26,
   "metadata": {
    "tags": []
   },
   "outputs": [],
   "source": [
    "# Compute intersection and union of annotations with preds\n",
    "\n",
    "intersection = np.logical_and(ys_puffs_sample, puffs_binary)\n",
    "union = np.logical_or(ys_puffs_sample, puffs_binary)\n",
    "\n",
    "# Compute intersection and union only in exclusion mask\n",
    "\n",
    "intersection_mask = np.logical_and(intersection, exclusion_mask_ignore_roi)\n",
    "union_mask = np.logical_and(union, exclusion_mask_ignore_roi)"
   ]
  },
  {
   "cell_type": "code",
   "execution_count": 27,
   "metadata": {
    "tags": []
   },
   "outputs": [
    {
     "data": {
      "image/png": "[encoded data removed]",
      "text/plain": [
       "<Figure size 1440x432 with 6 Axes>"
      ]
     },
     "metadata": {
      "needs_background": "light"
     },
     "output_type": "display_data"
    }
   ],
   "source": [
    "# Plot intersection and union\n",
    "#plt.rcParams.update({'font.size': 8})\n",
    "\n",
    "plt.figure(figsize=(20,6))\n",
    "plt.suptitle(f\"Intersection and union of annotations with preds of sample frame {sample_frame}\", fontsize=12)\n",
    "\n",
    "\n",
    "ax = plt.subplot(3,2,1)\n",
    "ax.set_title(\"Intersecion of annotations and preds\")\n",
    "plt.imshow(intersection[sample_frame])\n",
    "\n",
    "ax = plt.subplot(3,2,2)\n",
    "ax.set_title(\"Union of annotations and preds\")\n",
    "plt.imshow(union[sample_frame])\n",
    "\n",
    "ax = plt.subplot(3,2,3)\n",
    "ax.set_title(\"Same intersection with respect to exclusion mask\")\n",
    "plt.imshow(intersection_mask[sample_frame])\n",
    "\n",
    "ax = plt.subplot(3,2,4)\n",
    "ax.set_title(\"Same union with respect to exclusion mask\")\n",
    "plt.imshow(union_mask[sample_frame])\n",
    "\n",
    "ax = plt.subplot(3,2,5)\n",
    "ax.set_title(\"Exclusion mask\")\n",
    "plt.imshow(exclusion_mask[sample_frame])\n",
    "\n",
    "ax = plt.subplot(3,2,6)\n",
    "ax.set_title(\"Exclusion mask with ignore mask\")\n",
    "plt.imshow(exclusion_mask_ignore_roi[sample_frame])\n",
    "\n",
    "\n",
    "plt.show()"
   ]
  },
  {
   "cell_type": "code",
   "execution_count": 28,
   "metadata": {
    "tags": []
   },
   "outputs": [
    {
     "name": "stdout",
     "output_type": "stream",
     "text": [
      "Pixels in intersection: 16943\n",
      "Pixels in union: 136282\n",
      "IoU wrt to wave class: 0.12432309475939596\n"
     ]
    }
   ],
   "source": [
    "# Compute Jaccard index\n",
    "\n",
    "print(f\"Pixels in intersection: {np.count_nonzero(intersection_mask)}\")\n",
    "print(f\"Pixels in union: {np.count_nonzero(union_mask)}\")\n",
    "\n",
    "new_iou_puffs = np.count_nonzero(intersection_mask)/np.count_nonzero(union_mask)\n",
    "\n",
    "print(f\"IoU wrt to wave class: {new_iou_puffs}\")"
   ]
  },
  {
   "cell_type": "code",
   "execution_count": 29,
   "metadata": {
    "tags": []
   },
   "outputs": [],
   "source": [
    "new_iou_puffs = jaccard_score_exclusion_zone(ys_puffs_sample, puffs_binary, exclusion_radius, ignore_mask)\n",
    "new_iou_waves = jaccard_score_exclusion_zone(ys_waves_sample, waves_binary, exclusion_radius, ignore_mask)"
   ]
  },
  {
   "cell_type": "code",
   "execution_count": 30,
   "metadata": {
    "tags": []
   },
   "outputs": [
    {
     "name": "stdout",
     "output_type": "stream",
     "text": [
      "0.12432309475939596\n",
      "1.0\n"
     ]
    }
   ],
   "source": [
    "print(new_iou_puffs)\n",
    "print(new_iou_waves)"
   ]
  },
  {
   "cell_type": "markdown",
   "metadata": {},
   "source": [
    "### Jaccard index for sparks"
   ]
  },
  {
   "cell_type": "code",
   "execution_count": 73,
   "metadata": {
    "tags": []
   },
   "outputs": [],
   "source": [
    "# get sparks annotations\n",
    "ys_sparks_sample = np.where(ys_sample==1,1,0)\n",
    "\n",
    "# get sparks predictions\n",
    "t_detection_sparks = 0.9\n",
    "min_radius_sparks = 3\n",
    "sparks_binary = (process_spark_prediction(sparks_sample, \n",
    "                                          t_detection=t_detection_sparks,\n",
    "                                          min_radius=min_radius_sparks,\n",
    "                                          ignore_frames=ignore_frames,\n",
    "                                          return_clean_pred=True)) != 0 "
   ]
  },
  {
   "cell_type": "markdown",
   "metadata": {},
   "source": [
    "### Comparison with original implementation (when radius = 0)"
   ]
  },
  {
   "cell_type": "code",
   "execution_count": 76,
   "metadata": {
    "collapsed": true,
    "jupyter": {
     "outputs_hidden": true
    },
    "tags": []
   },
   "outputs": [
    {
     "name": "stdout",
     "output_type": "stream",
     "text": [
      "Jaccard index with new method:\n",
      "Puffs: 0.20890103174317864\n",
      "Waves: 1.0\n",
      "Sparks: 0.04723618090452261\n",
      "\n",
      "Jaccard index with sklearn metrics method\n",
      "Puffs: 0.20890103174317864\n",
      "Waves: 0.0\n",
      "Sparks: 0.04723618090452261\n"
     ]
    }
   ],
   "source": [
    "print(\"Jaccard index with new method:\")\n",
    "print(f\"Puffs: {jaccard_score_exclusion_zone(ys_puffs_sample, puffs_binary, 0)}\") # ! not considering ignore mask\n",
    "print(f\"Waves: {jaccard_score_exclusion_zone(ys_waves_sample, waves_binary, 0)}\") # ! not considering ignore mask\n",
    "print(f\"Sparks: {jaccard_score_exclusion_zone(ys_sparks_sample, sparks_binary, 0, sparks=True)}\") # ! not considering ignore mask\n",
    "print()\n",
    "print(\"Jaccard index with sklearn metrics method\")\n",
    "print(f\"Puffs: {jaccard_score(ys_puffs_sample.ravel(), puffs_binary.ravel())}\")\n",
    "print(f\"Waves: {jaccard_score(ys_waves_sample.ravel(), waves_binary.ravel())}\")\n",
    "print(f\"Sparks: {jaccard_score(ys_sparks_sample.ravel(), sparks_binary.ravel())}\")"
   ]
  },
  {
   "cell_type": "markdown",
   "metadata": {
    "tags": []
   },
   "source": [
    "### Plot IoU with respect to different exclusion radius"
   ]
  },
  {
   "cell_type": "code",
   "execution_count": 77,
   "metadata": {
    "tags": []
   },
   "outputs": [],
   "source": [
    "exclusion_radius_list = [0,1,2,3,4,5,6,7,8,9,10]\n",
    "\n",
    "# puffs\n",
    "ious_puffs = []\n",
    "for radius in exclusion_radius_list:\n",
    "    ious_puffs.append(jaccard_score_exclusion_zone(ys_puffs_sample, puffs_binary, radius)) # ! not considering ignore mask\n",
    "    \n",
    "# waves\n",
    "ious_waves = []\n",
    "for radius in exclusion_radius_list:\n",
    "    ious_waves.append(jaccard_score_exclusion_zone(ys_waves_sample, waves_binary, radius)) # ! not considering ignore mask\n",
    "    \n",
    "# sparks\n",
    "ious_sparks = []\n",
    "for radius in exclusion_radius_list:\n",
    "    ious_sparks.append(jaccard_score_exclusion_zone(ys_sparks_sample, sparks_binary, radius, sparks=True)) # ! not considering ignore mask"
   ]
  },
  {
   "cell_type": "code",
   "execution_count": 78,
   "metadata": {
    "collapsed": true,
    "jupyter": {
     "outputs_hidden": true
    },
    "tags": []
   },
   "outputs": [
    {
     "data": {
      "image/png": "[encoded data removed]",
      "text/plain": [
       "<Figure size 1440x288 with 3 Axes>"
      ]
     },
     "metadata": {
      "needs_background": "light"
     },
     "output_type": "display_data"
    }
   ],
   "source": [
    "# Plot Jaccard index wrt different exclusion radius\n",
    "#plt.rcParams.update({'font.size': 8})\n",
    "\n",
    "plt.figure(figsize=(20,4))\n",
    "plt.suptitle(f\"Jaccard index with respect to different exclusion radius\", fontsize=12)\n",
    "\n",
    "\n",
    "ax = plt.subplot(1,3,1)\n",
    "ax.set_title(\"Puff class\")\n",
    "plt.ylim([0, 1])\n",
    "plt.plot(exclusion_radius_list, ious_puffs)\n",
    "\n",
    "ax = plt.subplot(1,3,2)\n",
    "ax.set_title(\"Waves class\")\n",
    "plt.ylim([0, 1])\n",
    "plt.plot(exclusion_radius_list, ious_waves)\n",
    "\n",
    "ax = plt.subplot(1,3,3)\n",
    "ax.set_title(\"Sparks class\")\n",
    "plt.ylim([0, 1])\n",
    "plt.plot(exclusion_radius_list, ious_sparks)\n",
    "\n",
    "\n",
    "plt.show()"
   ]
  },
  {
   "cell_type": "code",
   "execution_count": 79,
   "metadata": {
    "collapsed": true,
    "jupyter": {
     "outputs_hidden": true
    },
    "tags": []
   },
   "outputs": [
    {
     "name": "stdout",
     "output_type": "stream",
     "text": [
      "IoUs puffs: [0.20890103174317864, 0.14459408432976714, 0.08126801152737752, 0.037353441136730156, 0.013306755737528283, 0.0021321961620469083, 7.474400179385604e-05, 0.0, 0.0, 0.0, 0.0]\n",
      "IoUs puffs: [1.0, 1.0, 1.0, 1.0, 1.0, 1.0, 1.0, 1.0, 1.0, 1.0, 1.0]\n",
      "IoUs puffs: [0.04723618090452261, 0.05264336917562724, 0.05791030064070971, 0.06230116648992577, 0.06536856745479833, 0.06762589928057554, 0.06909732431637754, 0.07004470938897168, 0.07078313253012049, 0.07219662058371736, 0.07413249211356467]\n"
     ]
    }
   ],
   "source": [
    "print(f\"IoUs puffs: {ious_puffs}\")\n",
    "print(f\"IoUs puffs: {ious_waves}\")\n",
    "print(f\"IoUs puffs: {ious_sparks}\")"
   ]
  },
  {
   "cell_type": "markdown",
   "metadata": {
    "tags": []
   },
   "source": [
    "## Evaluate all trainings on all videos"
   ]
  },
  {
   "cell_type": "code",
   "execution_count": 9,
   "metadata": {
    "tags": []
   },
   "outputs": [],
   "source": [
    "# parameters\n",
    "ignore_frames = 6\n",
    "\n",
    "t_detection = 0.5\n",
    "t_detection_sparks = 0.9\n",
    "\n",
    "min_radius_puffs = 4\n",
    "min_radius_waves = 10\n",
    "min_radius_sparks = 3\n",
    "\n",
    "exclusion_radius_list = [0,1,2,3,4,5,6,7,8,9,10]\n",
    "\n",
    "# each dictionary contains, for every training name, a list of IoU scores for all videos for all exclusion radius\n",
    "ious_sparks_all_trainings = {} # num trainings x num video x num exclusion radius\n",
    "ious_puffs_all_trainings = {}\n",
    "ious_waves_all_trainings = {}\n",
    "\n",
    "for training_name in training_names:\n",
    "    # get predictions\n",
    "    sparks_training = sparks[training_name]\n",
    "    puffs_training = puffs[training_name]\n",
    "    waves_training = waves[training_name]\n",
    "    \n",
    "    ious_puffs_all_video = []\n",
    "    ious_waves_all_video = []\n",
    "    ious_sparks_all_video = []\n",
    "    \n",
    "    for sparks_sample, puffs_sample, waves_sample, ys_sample in zip(sparks_training, puffs_training, waves_training, ys_all_trainings):\n",
    "        # get binary predictions and remove ignored frames\n",
    "        puffs_binary = process_puff_prediction(puffs_sample, \n",
    "                                               t_detection, \n",
    "                                               min_radius_puffs, \n",
    "                                               ignore_frames)\n",
    "        waves_binary = process_wave_prediction(waves_sample, \n",
    "                                               t_detection, \n",
    "                                               min_radius_waves, \n",
    "                                               ignore_frames)\n",
    "        sparks_binary = (process_spark_prediction(sparks_sample, \n",
    "                                                  t_detection=t_detection_sparks,\n",
    "                                                  min_radius=min_radius_sparks,\n",
    "                                                  ignore_frames=ignore_frames,\n",
    "                                                  return_clean_pred=True)) != 0 \n",
    "        \n",
    "        # get binary ys and remove ignored frames\n",
    "        ys_sparks_sample = empty_marginal_frames(np.where(ys_sample==1,1,0), ignore_frames)\n",
    "        ys_puffs_sample = empty_marginal_frames(np.where(ys_sample==3,1,0), ignore_frames)\n",
    "        ys_waves_sample = empty_marginal_frames(np.where(ys_sample==2,1,0), ignore_frames)\n",
    "        \n",
    "        # get ignore mask (events labelled with 4)\n",
    "        ignore_mask = empty_marginal_frames(np.where(ys_sample==4,1,0), ignore_frames)\n",
    "        \n",
    "        # compute IoU for some exclusion radius values\n",
    "        # puffs\n",
    "        ious_puffs = []\n",
    "        for radius in exclusion_radius_list:\n",
    "            ious_puffs.append(jaccard_score_exclusion_zone(ys_puffs_sample, puffs_binary, radius, ignore_mask))\n",
    "            \n",
    "        ious_puffs_all_video.append(ious_puffs)\n",
    "\n",
    "        # waves\n",
    "        ious_waves = []\n",
    "        for radius in exclusion_radius_list:\n",
    "            ious_waves.append(jaccard_score_exclusion_zone(ys_waves_sample, waves_binary, radius, ignore_mask))\n",
    "            \n",
    "        ious_waves_all_video.append(ious_waves)\n",
    "\n",
    "        # sparks\n",
    "        ious_sparks = []\n",
    "        for radius in exclusion_radius_list:\n",
    "            ious_sparks.append(jaccard_score_exclusion_zone(ys_sparks_sample, sparks_binary, radius, ignore_mask, sparks=True))\n",
    "            \n",
    "        ious_sparks_all_video.append(ious_sparks)\n",
    "        \n",
    "    ious_sparks_all_trainings[training_name] = ious_sparks_all_video\n",
    "    ious_puffs_all_trainings[training_name] = ious_puffs_all_video\n",
    "    ious_waves_all_trainings[training_name] = ious_waves_all_video"
   ]
  },
  {
   "cell_type": "markdown",
   "metadata": {
    "tags": []
   },
   "source": [
    "### Compute average along videos of IoU for each exclusion radius for each training name"
   ]
  },
  {
   "cell_type": "code",
   "execution_count": 10,
   "metadata": {},
   "outputs": [],
   "source": [
    "ious_sparks_avg = {} # num training x num exclusion radius\n",
    "ious_puffs_avg = {}\n",
    "ious_waves_avg = {}\n",
    "\n",
    "for training_name in training_names:\n",
    "    num_videos = len(ious_sparks_all_trainings[training_name])\n",
    "    \n",
    "    ious_sparks_all_video = ious_sparks_all_trainings[training_name] # num videos x num exclusion radius\n",
    "    ious_puffs_all_video = ious_puffs_all_trainings[training_name] \n",
    "    ious_waves_all_video = ious_waves_all_trainings[training_name] \n",
    "    \n",
    "    ious_sparks_avg[training_name] = np.sum(np.asarray(ious_sparks_all_video),0)/num_videos\n",
    "    ious_puffs_avg[training_name] = np.sum(np.asarray(ious_puffs_all_video),0)/num_videos\n",
    "    ious_waves_avg[training_name] = np.sum(np.asarray(ious_waves_all_video),0)/num_videos"
   ]
  },
  {
   "cell_type": "markdown",
   "metadata": {
    "tags": []
   },
   "source": [
    "### Plot average IoU for all trainings and all classes wrt to exclusion radius"
   ]
  },
  {
   "cell_type": "code",
   "execution_count": 21,
   "metadata": {},
   "outputs": [],
   "source": [
    "cols = pd.Index(exclusion_radius_list, name='Exclusion radius')\n",
    "classes = ['Sparks', 'Puffs', 'Waves']\n",
    "rows = pd.MultiIndex.from_product([classes, training_names], names=['Class', 'Training name'])\n",
    "\n",
    "data = [*ious_sparks_avg.values(),\n",
    "        *ious_puffs_avg.values(),\n",
    "        *ious_waves_avg.values()\n",
    "       ]\n",
    "\n",
    "df = pd.DataFrame(data, rows, cols)"
   ]
  },
  {
   "cell_type": "code",
   "execution_count": 22,
   "metadata": {},
   "outputs": [
    {
     "data": {
      "text/html": [
       "<div>\n",
       "<style scoped>\n",
       "    .dataframe tbody tr th:only-of-type {\n",
       "        vertical-align: middle;\n",
       "    }\n",
       "\n",
       "    .dataframe tbody tr th {\n",
       "        vertical-align: top;\n",
       "    }\n",
       "\n",
       "    .dataframe thead th {\n",
       "        text-align: right;\n",
       "    }\n",
       "</style>\n",
       "<table border=\"1\" class=\"dataframe\">\n",
       "  <thead>\n",
       "    <tr style=\"text-align: right;\">\n",
       "      <th></th>\n",
       "      <th>Exclusion radius</th>\n",
       "      <th>0</th>\n",
       "      <th>1</th>\n",
       "      <th>2</th>\n",
       "      <th>3</th>\n",
       "      <th>4</th>\n",
       "      <th>5</th>\n",
       "      <th>6</th>\n",
       "      <th>7</th>\n",
       "      <th>8</th>\n",
       "      <th>9</th>\n",
       "      <th>10</th>\n",
       "    </tr>\n",
       "    <tr>\n",
       "      <th>Class</th>\n",
       "      <th>Training name</th>\n",
       "      <th></th>\n",
       "      <th></th>\n",
       "      <th></th>\n",
       "      <th></th>\n",
       "      <th></th>\n",
       "      <th></th>\n",
       "      <th></th>\n",
       "      <th></th>\n",
       "      <th></th>\n",
       "      <th></th>\n",
       "      <th></th>\n",
       "    </tr>\n",
       "  </thead>\n",
       "  <tbody>\n",
       "    <tr>\n",
       "      <th rowspan=\"5\" valign=\"top\">Sparks</th>\n",
       "      <th>temporal_reduction</th>\n",
       "      <td>0.103926</td>\n",
       "      <td>0.108681</td>\n",
       "      <td>0.110933</td>\n",
       "      <td>0.112574</td>\n",
       "      <td>0.113627</td>\n",
       "      <td>0.114285</td>\n",
       "      <td>0.114670</td>\n",
       "      <td>0.114889</td>\n",
       "      <td>0.114978</td>\n",
       "      <td>0.115004</td>\n",
       "      <td>0.115034</td>\n",
       "    </tr>\n",
       "    <tr>\n",
       "      <th>normalize_whole_video</th>\n",
       "      <td>0.073475</td>\n",
       "      <td>0.076674</td>\n",
       "      <td>0.078312</td>\n",
       "      <td>0.079579</td>\n",
       "      <td>0.080578</td>\n",
       "      <td>0.081385</td>\n",
       "      <td>0.082029</td>\n",
       "      <td>0.082529</td>\n",
       "      <td>0.082977</td>\n",
       "      <td>0.083449</td>\n",
       "      <td>0.083937</td>\n",
       "    </tr>\n",
       "    <tr>\n",
       "      <th>reduce_first_layer_channels_64</th>\n",
       "      <td>0.090201</td>\n",
       "      <td>0.094335</td>\n",
       "      <td>0.096719</td>\n",
       "      <td>0.098694</td>\n",
       "      <td>0.100256</td>\n",
       "      <td>0.101450</td>\n",
       "      <td>0.102311</td>\n",
       "      <td>0.102939</td>\n",
       "      <td>0.103421</td>\n",
       "      <td>0.103810</td>\n",
       "      <td>0.104158</td>\n",
       "    </tr>\n",
       "    <tr>\n",
       "      <th>256_long_chunks_physio</th>\n",
       "      <td>0.106409</td>\n",
       "      <td>0.112688</td>\n",
       "      <td>0.115627</td>\n",
       "      <td>0.117865</td>\n",
       "      <td>0.119445</td>\n",
       "      <td>0.120536</td>\n",
       "      <td>0.121198</td>\n",
       "      <td>0.121586</td>\n",
       "      <td>0.121818</td>\n",
       "      <td>0.121984</td>\n",
       "      <td>0.122145</td>\n",
       "    </tr>\n",
       "    <tr>\n",
       "      <th>256_long_chunks_64_step_physio</th>\n",
       "      <td>0.127108</td>\n",
       "      <td>0.135629</td>\n",
       "      <td>0.139214</td>\n",
       "      <td>0.141746</td>\n",
       "      <td>0.143411</td>\n",
       "      <td>0.144443</td>\n",
       "      <td>0.145069</td>\n",
       "      <td>0.145486</td>\n",
       "      <td>0.145770</td>\n",
       "      <td>0.145976</td>\n",
       "      <td>0.146137</td>\n",
       "    </tr>\n",
       "    <tr>\n",
       "      <th rowspan=\"5\" valign=\"top\">Puffs</th>\n",
       "      <th>temporal_reduction</th>\n",
       "      <td>0.195353</td>\n",
       "      <td>0.205897</td>\n",
       "      <td>0.210204</td>\n",
       "      <td>0.212282</td>\n",
       "      <td>0.213591</td>\n",
       "      <td>0.215688</td>\n",
       "      <td>0.218741</td>\n",
       "      <td>0.221614</td>\n",
       "      <td>0.223923</td>\n",
       "      <td>0.225162</td>\n",
       "      <td>0.225099</td>\n",
       "    </tr>\n",
       "    <tr>\n",
       "      <th>normalize_whole_video</th>\n",
       "      <td>0.115747</td>\n",
       "      <td>0.112663</td>\n",
       "      <td>0.107470</td>\n",
       "      <td>0.101606</td>\n",
       "      <td>0.095172</td>\n",
       "      <td>0.088351</td>\n",
       "      <td>0.081521</td>\n",
       "      <td>0.074989</td>\n",
       "      <td>0.068416</td>\n",
       "      <td>0.061524</td>\n",
       "      <td>0.054130</td>\n",
       "    </tr>\n",
       "    <tr>\n",
       "      <th>reduce_first_layer_channels_64</th>\n",
       "      <td>0.142423</td>\n",
       "      <td>0.144088</td>\n",
       "      <td>0.141815</td>\n",
       "      <td>0.137660</td>\n",
       "      <td>0.131639</td>\n",
       "      <td>0.124120</td>\n",
       "      <td>0.115735</td>\n",
       "      <td>0.106665</td>\n",
       "      <td>0.097139</td>\n",
       "      <td>0.086995</td>\n",
       "      <td>0.075947</td>\n",
       "    </tr>\n",
       "    <tr>\n",
       "      <th>256_long_chunks_physio</th>\n",
       "      <td>0.179972</td>\n",
       "      <td>0.188423</td>\n",
       "      <td>0.194340</td>\n",
       "      <td>0.200499</td>\n",
       "      <td>0.206051</td>\n",
       "      <td>0.210285</td>\n",
       "      <td>0.212700</td>\n",
       "      <td>0.212762</td>\n",
       "      <td>0.210564</td>\n",
       "      <td>0.207195</td>\n",
       "      <td>0.203584</td>\n",
       "    </tr>\n",
       "    <tr>\n",
       "      <th>256_long_chunks_64_step_physio</th>\n",
       "      <td>0.192659</td>\n",
       "      <td>0.204657</td>\n",
       "      <td>0.210972</td>\n",
       "      <td>0.214296</td>\n",
       "      <td>0.215232</td>\n",
       "      <td>0.215658</td>\n",
       "      <td>0.215800</td>\n",
       "      <td>0.215150</td>\n",
       "      <td>0.213856</td>\n",
       "      <td>0.212328</td>\n",
       "      <td>0.210440</td>\n",
       "    </tr>\n",
       "    <tr>\n",
       "      <th rowspan=\"5\" valign=\"top\">Waves</th>\n",
       "      <th>temporal_reduction</th>\n",
       "      <td>0.787310</td>\n",
       "      <td>0.799431</td>\n",
       "      <td>0.802095</td>\n",
       "      <td>0.804270</td>\n",
       "      <td>0.805998</td>\n",
       "      <td>0.807311</td>\n",
       "      <td>0.808280</td>\n",
       "      <td>0.808958</td>\n",
       "      <td>0.809421</td>\n",
       "      <td>0.809580</td>\n",
       "      <td>0.809389</td>\n",
       "    </tr>\n",
       "    <tr>\n",
       "      <th>normalize_whole_video</th>\n",
       "      <td>0.333218</td>\n",
       "      <td>0.332688</td>\n",
       "      <td>0.332062</td>\n",
       "      <td>0.331332</td>\n",
       "      <td>0.330507</td>\n",
       "      <td>0.329608</td>\n",
       "      <td>0.328644</td>\n",
       "      <td>0.327605</td>\n",
       "      <td>0.326467</td>\n",
       "      <td>0.325219</td>\n",
       "      <td>0.323839</td>\n",
       "    </tr>\n",
       "    <tr>\n",
       "      <th>reduce_first_layer_channels_64</th>\n",
       "      <td>0.346097</td>\n",
       "      <td>0.346764</td>\n",
       "      <td>0.347260</td>\n",
       "      <td>0.347613</td>\n",
       "      <td>0.347826</td>\n",
       "      <td>0.347932</td>\n",
       "      <td>0.347946</td>\n",
       "      <td>0.347905</td>\n",
       "      <td>0.347784</td>\n",
       "      <td>0.347565</td>\n",
       "      <td>0.347174</td>\n",
       "    </tr>\n",
       "    <tr>\n",
       "      <th>256_long_chunks_physio</th>\n",
       "      <td>0.760408</td>\n",
       "      <td>0.769925</td>\n",
       "      <td>0.771023</td>\n",
       "      <td>0.772071</td>\n",
       "      <td>0.773042</td>\n",
       "      <td>0.773934</td>\n",
       "      <td>0.774818</td>\n",
       "      <td>0.775740</td>\n",
       "      <td>0.776635</td>\n",
       "      <td>0.777526</td>\n",
       "      <td>0.778464</td>\n",
       "    </tr>\n",
       "    <tr>\n",
       "      <th>256_long_chunks_64_step_physio</th>\n",
       "      <td>0.724859</td>\n",
       "      <td>0.725238</td>\n",
       "      <td>0.725290</td>\n",
       "      <td>0.725076</td>\n",
       "      <td>0.724649</td>\n",
       "      <td>0.723939</td>\n",
       "      <td>0.722936</td>\n",
       "      <td>0.721703</td>\n",
       "      <td>0.720268</td>\n",
       "      <td>0.718693</td>\n",
       "      <td>0.716936</td>\n",
       "    </tr>\n",
       "  </tbody>\n",
       "</table>\n",
       "</div>"
      ],
      "text/plain": [
       "Exclusion radius                             0         1         2         3   \\\n",
       "Class  Training name                                                            \n",
       "Sparks temporal_reduction              0.103926  0.108681  0.110933  0.112574   \n",
       "       normalize_whole_video           0.073475  0.076674  0.078312  0.079579   \n",
       "       reduce_first_layer_channels_64  0.090201  0.094335  0.096719  0.098694   \n",
       "       256_long_chunks_physio          0.106409  0.112688  0.115627  0.117865   \n",
       "       256_long_chunks_64_step_physio  0.127108  0.135629  0.139214  0.141746   \n",
       "Puffs  temporal_reduction              0.195353  0.205897  0.210204  0.212282   \n",
       "       normalize_whole_video           0.115747  0.112663  0.107470  0.101606   \n",
       "       reduce_first_layer_channels_64  0.142423  0.144088  0.141815  0.137660   \n",
       "       256_long_chunks_physio          0.179972  0.188423  0.194340  0.200499   \n",
       "       256_long_chunks_64_step_physio  0.192659  0.204657  0.210972  0.214296   \n",
       "Waves  temporal_reduction              0.787310  0.799431  0.802095  0.804270   \n",
       "       normalize_whole_video           0.333218  0.332688  0.332062  0.331332   \n",
       "       reduce_first_layer_channels_64  0.346097  0.346764  0.347260  0.347613   \n",
       "       256_long_chunks_physio          0.760408  0.769925  0.771023  0.772071   \n",
       "       256_long_chunks_64_step_physio  0.724859  0.725238  0.725290  0.725076   \n",
       "\n",
       "Exclusion radius                             4         5         6         7   \\\n",
       "Class  Training name                                                            \n",
       "Sparks temporal_reduction              0.113627  0.114285  0.114670  0.114889   \n",
       "       normalize_whole_video           0.080578  0.081385  0.082029  0.082529   \n",
       "       reduce_first_layer_channels_64  0.100256  0.101450  0.102311  0.102939   \n",
       "       256_long_chunks_physio          0.119445  0.120536  0.121198  0.121586   \n",
       "       256_long_chunks_64_step_physio  0.143411  0.144443  0.145069  0.145486   \n",
       "Puffs  temporal_reduction              0.213591  0.215688  0.218741  0.221614   \n",
       "       normalize_whole_video           0.095172  0.088351  0.081521  0.074989   \n",
       "       reduce_first_layer_channels_64  0.131639  0.124120  0.115735  0.106665   \n",
       "       256_long_chunks_physio          0.206051  0.210285  0.212700  0.212762   \n",
       "       256_long_chunks_64_step_physio  0.215232  0.215658  0.215800  0.215150   \n",
       "Waves  temporal_reduction              0.805998  0.807311  0.808280  0.808958   \n",
       "       normalize_whole_video           0.330507  0.329608  0.328644  0.327605   \n",
       "       reduce_first_layer_channels_64  0.347826  0.347932  0.347946  0.347905   \n",
       "       256_long_chunks_physio          0.773042  0.773934  0.774818  0.775740   \n",
       "       256_long_chunks_64_step_physio  0.724649  0.723939  0.722936  0.721703   \n",
       "\n",
       "Exclusion radius                             8         9         10  \n",
       "Class  Training name                                                 \n",
       "Sparks temporal_reduction              0.114978  0.115004  0.115034  \n",
       "       normalize_whole_video           0.082977  0.083449  0.083937  \n",
       "       reduce_first_layer_channels_64  0.103421  0.103810  0.104158  \n",
       "       256_long_chunks_physio          0.121818  0.121984  0.122145  \n",
       "       256_long_chunks_64_step_physio  0.145770  0.145976  0.146137  \n",
       "Puffs  temporal_reduction              0.223923  0.225162  0.225099  \n",
       "       normalize_whole_video           0.068416  0.061524  0.054130  \n",
       "       reduce_first_layer_channels_64  0.097139  0.086995  0.075947  \n",
       "       256_long_chunks_physio          0.210564  0.207195  0.203584  \n",
       "       256_long_chunks_64_step_physio  0.213856  0.212328  0.210440  \n",
       "Waves  temporal_reduction              0.809421  0.809580  0.809389  \n",
       "       normalize_whole_video           0.326467  0.325219  0.323839  \n",
       "       reduce_first_layer_channels_64  0.347784  0.347565  0.347174  \n",
       "       256_long_chunks_physio          0.776635  0.777526  0.778464  \n",
       "       256_long_chunks_64_step_physio  0.720268  0.718693  0.716936  "
      ]
     },
     "metadata": {},
     "output_type": "display_data"
    }
   ],
   "source": [
    "display(df)"
   ]
  },
  {
   "cell_type": "code",
   "execution_count": 23,
   "metadata": {},
   "outputs": [],
   "source": [
    "df.to_csv(\"average_IoU_all_trainings_excl_radius.csv\")"
   ]
  },
  {
   "cell_type": "code",
   "execution_count": 24,
   "metadata": {
    "tags": []
   },
   "outputs": [
    {
     "data": {
      "text/plain": [
       "Text(0.5, 0, 'Exclusion radius')"
      ]
     },
     "execution_count": 24,
     "metadata": {},
     "output_type": "execute_result"
    },
    {
     "data": {
      "image/png": "[encoded data removed]",
      "text/plain": [
       "<Figure size 1440x864 with 4 Axes>"
      ]
     },
     "metadata": {
      "needs_background": "light"
     },
     "output_type": "display_data"
    }
   ],
   "source": [
    "fig, axs = plt.subplots(1, 3, sharex=True, figsize=(20,12))\n",
    "fig.add_subplot(111, frameon=False)\n",
    "\n",
    "for training_name in training_names:\n",
    "    axs[0].plot(exclusion_radius_list, ious_sparks_avg[training_name], label=training_name)\n",
    "           \n",
    "axs[0].set_title('Sparks IoU')\n",
    "axs[0].set_ylim([0,1])\n",
    "axs[0].legend(shadow=True, fancybox=True)\n",
    "\n",
    "for training_name in training_names:\n",
    "    axs[1].plot(exclusion_radius_list, ious_puffs_avg[training_name], label=training_name)\n",
    "\n",
    "axs[1].set_title('Puffs IoU')\n",
    "axs[1].set_ylim([0,1])\n",
    "axs[1].legend(shadow=True, fancybox=True)\n",
    "\n",
    "for training_name in training_names:\n",
    "    axs[2].plot(exclusion_radius_list, ious_waves_avg[training_name], label=training_name)\n",
    "\n",
    "axs[2].set_title('Waves IoU')\n",
    "axs[2].set_ylim([0,1])\n",
    "axs[2].legend(shadow=True, fancybox=True)\n",
    "\n",
    "plt.tick_params(labelcolor='none', which='both', top=False, bottom=False, left=False, right=False)\n",
    "plt.xlabel(\"Exclusion radius\")"
   ]
  },
  {
   "cell_type": "code",
   "execution_count": 25,
   "metadata": {},
   "outputs": [],
   "source": [
    "fig.savefig(\"average_IoU_all_trainings_excl_radius.png\")"
   ]
  },
  {
   "cell_type": "markdown",
   "metadata": {
    "tags": []
   },
   "source": [
    "## Plot average IoU for different minimal event radius (just for one training)"
   ]
  },
  {
   "cell_type": "code",
   "execution_count": 26,
   "metadata": {},
   "outputs": [],
   "source": [
    "# set sample training\n",
    "training_name = training_names[0]\n",
    "\n",
    "# parameters\n",
    "ignore_frames = 6\n",
    "\n",
    "t_detection = 0.5\n",
    "t_detection_sparks = 0.9\n",
    "\n",
    "min_radius = [0,1,2,3,4]#,5,6,7,8,9,10]\n",
    "\n",
    "exclusion_radius_list = [0,1,2,3,4,5,6,7,8,9,10]\n",
    "\n",
    "# each dictionary contains, for every minimal event radius, a list of IoU scores averaged on all videos for all exclusion radius\n",
    "ious_sparks_all_radius = {} # num min event radius x num ious_sparks_avg_radiususion radius\n",
    "ious_puffs_all_radius = {}\n",
    "ious_waves_all_radius = {}\n",
    "\n",
    "for r in min_radius:\n",
    "    # get predictions\n",
    "    sparks_training = sparks[training_name]\n",
    "    puffs_training = puffs[training_name]\n",
    "    waves_training = waves[training_name]\n",
    "    \n",
    "    ious_puffs_all_video = []\n",
    "    ious_waves_all_video = []\n",
    "    ious_sparks_all_video = []\n",
    "    \n",
    "    for sparks_sample, puffs_sample, waves_sample, ys_sample in zip(sparks_training, puffs_training, waves_training, ys_all_trainings):\n",
    "        # get binary predictions and remove ignored frames\n",
    "        puffs_binary = process_puff_prediction(puffs_sample, \n",
    "                                               t_detection, \n",
    "                                               r, \n",
    "                                               ignore_frames)\n",
    "        waves_binary = process_wave_prediction(waves_sample, \n",
    "                                               t_detection, \n",
    "                                               r, \n",
    "                                               ignore_frames)\n",
    "        sparks_binary = (process_spark_prediction(sparks_sample, \n",
    "                                                  t_detection=t_detection_sparks,\n",
    "                                                  min_radius=r,\n",
    "                                                  ignore_frames=ignore_frames,\n",
    "                                                  return_clean_pred=True)) != 0 \n",
    "        \n",
    "        # get binary ys and remove ignored frames\n",
    "        ys_sparks_sample = empty_marginal_frames(np.where(ys_sample==1,1,0), ignore_frames)\n",
    "        ys_puffs_sample = empty_marginal_frames(np.where(ys_sample==3,1,0), ignore_frames)\n",
    "        ys_waves_sample = empty_marginal_frames(np.where(ys_sample==2,1,0), ignore_frames)\n",
    "        \n",
    "        # get ignore regions during training\n",
    "        ignore_mask =  empty_marginal_frames(np.where(ys_sample==4,1,0), ignore_frames)\n",
    "        \n",
    "        \n",
    "        # compute IoU for some exclusion radius values\n",
    "        # puffs\n",
    "        ious_puffs = []\n",
    "        for radius in exclusion_radius_list:\n",
    "            ious_puffs.append(jaccard_score_exclusion_zone(ys_puffs_sample, puffs_binary, radius, ignore_mask))\n",
    "            \n",
    "        ious_puffs_all_video.append(ious_puffs)\n",
    "\n",
    "        # waves\n",
    "        ious_waves = []\n",
    "        for radius in exclusion_radius_list:\n",
    "            ious_waves.append(jaccard_score_exclusion_zone(ys_waves_sample, waves_binary, radius, ignore_mask))\n",
    "            \n",
    "        ious_waves_all_video.append(ious_waves)\n",
    "\n",
    "        # sparks\n",
    "        ious_sparks = []\n",
    "        for radius in exclusion_radius_list:\n",
    "            ious_sparks.append(jaccard_score_exclusion_zone(ys_sparks_sample, sparks_binary, radius, ignore_mask, sparks=True))\n",
    "            \n",
    "        ious_sparks_all_video.append(ious_sparks)\n",
    "        \n",
    "    ious_sparks_all_radius[r] = ious_sparks_all_video\n",
    "    ious_puffs_all_radius[r] = ious_puffs_all_video\n",
    "    ious_waves_all_radius[r] = ious_waves_all_video"
   ]
  },
  {
   "cell_type": "markdown",
   "metadata": {
    "tags": []
   },
   "source": [
    "### Compute average along videos of IoU for each exclusion radius for each minimal event radius"
   ]
  },
  {
   "cell_type": "code",
   "execution_count": 27,
   "metadata": {},
   "outputs": [],
   "source": [
    "ious_sparks_avg_radius = {} # num min event radius x num exclusion radius\n",
    "ious_puffs_avg_radius = {}\n",
    "ious_waves_avg_radius = {}\n",
    "\n",
    "for r in min_radius:\n",
    "    num_videos = len(ious_sparks_all_radius[r])\n",
    "    \n",
    "    ious_sparks_all_video = ious_sparks_all_radius[r] # num videos x num exclusion radius\n",
    "    ious_puffs_all_video = ious_puffs_all_radius[r] \n",
    "    ious_waves_all_video = ious_waves_all_radius[r] \n",
    "    \n",
    "    ious_sparks_avg_radius[r] = np.sum(np.asarray(ious_sparks_all_video),0)/num_videos\n",
    "    ious_puffs_avg_radius[r] = np.sum(np.asarray(ious_puffs_all_video),0)/num_videos\n",
    "    ious_waves_avg_radius[r] = np.sum(np.asarray(ious_waves_all_video),0)/num_videos"
   ]
  },
  {
   "cell_type": "markdown",
   "metadata": {
    "tags": []
   },
   "source": [
    "### Plot average IoU for all minimal event radius and all classes wrt to exclusion radius"
   ]
  },
  {
   "cell_type": "code",
   "execution_count": 28,
   "metadata": {},
   "outputs": [],
   "source": [
    "cols = pd.Index(exclusion_radius_list, name='Exclusion radius')\n",
    "classes = ['Sparks', 'Puffs', 'Waves']\n",
    "rows = pd.MultiIndex.from_product([classes, min_radius], names=['Class', 'Minimal event radius'])\n",
    "\n",
    "data = [*ious_sparks_avg_radius.values(),\n",
    "        *ious_puffs_avg_radius.values(),\n",
    "        *ious_waves_avg_radius.values()\n",
    "       ]\n",
    "\n",
    "df = pd.DataFrame(data, rows, cols)"
   ]
  },
  {
   "cell_type": "code",
   "execution_count": 29,
   "metadata": {},
   "outputs": [
    {
     "data": {
      "text/html": [
       "<div>\n",
       "<style scoped>\n",
       "    .dataframe tbody tr th:only-of-type {\n",
       "        vertical-align: middle;\n",
       "    }\n",
       "\n",
       "    .dataframe tbody tr th {\n",
       "        vertical-align: top;\n",
       "    }\n",
       "\n",
       "    .dataframe thead th {\n",
       "        text-align: right;\n",
       "    }\n",
       "</style>\n",
       "<table border=\"1\" class=\"dataframe\">\n",
       "  <thead>\n",
       "    <tr style=\"text-align: right;\">\n",
       "      <th></th>\n",
       "      <th>Exclusion radius</th>\n",
       "      <th>0</th>\n",
       "      <th>1</th>\n",
       "      <th>2</th>\n",
       "      <th>3</th>\n",
       "      <th>4</th>\n",
       "      <th>5</th>\n",
       "      <th>6</th>\n",
       "      <th>7</th>\n",
       "      <th>8</th>\n",
       "      <th>9</th>\n",
       "      <th>10</th>\n",
       "    </tr>\n",
       "    <tr>\n",
       "      <th>Class</th>\n",
       "      <th>Minimal event radius</th>\n",
       "      <th></th>\n",
       "      <th></th>\n",
       "      <th></th>\n",
       "      <th></th>\n",
       "      <th></th>\n",
       "      <th></th>\n",
       "      <th></th>\n",
       "      <th></th>\n",
       "      <th></th>\n",
       "      <th></th>\n",
       "      <th></th>\n",
       "    </tr>\n",
       "  </thead>\n",
       "  <tbody>\n",
       "    <tr>\n",
       "      <th rowspan=\"5\" valign=\"top\">Sparks</th>\n",
       "      <th>0</th>\n",
       "      <td>0.116289</td>\n",
       "      <td>0.121549</td>\n",
       "      <td>0.124016</td>\n",
       "      <td>0.125769</td>\n",
       "      <td>0.126827</td>\n",
       "      <td>0.127459</td>\n",
       "      <td>0.127829</td>\n",
       "      <td>0.128049</td>\n",
       "      <td>0.128149</td>\n",
       "      <td>0.128194</td>\n",
       "      <td>0.128251</td>\n",
       "    </tr>\n",
       "    <tr>\n",
       "      <th>1</th>\n",
       "      <td>0.116353</td>\n",
       "      <td>0.121615</td>\n",
       "      <td>0.124085</td>\n",
       "      <td>0.125840</td>\n",
       "      <td>0.126898</td>\n",
       "      <td>0.127530</td>\n",
       "      <td>0.127900</td>\n",
       "      <td>0.128119</td>\n",
       "      <td>0.128220</td>\n",
       "      <td>0.128264</td>\n",
       "      <td>0.128320</td>\n",
       "    </tr>\n",
       "    <tr>\n",
       "      <th>2</th>\n",
       "      <td>0.116751</td>\n",
       "      <td>0.122073</td>\n",
       "      <td>0.124606</td>\n",
       "      <td>0.126406</td>\n",
       "      <td>0.127487</td>\n",
       "      <td>0.128136</td>\n",
       "      <td>0.128517</td>\n",
       "      <td>0.128742</td>\n",
       "      <td>0.128843</td>\n",
       "      <td>0.128886</td>\n",
       "      <td>0.128937</td>\n",
       "    </tr>\n",
       "    <tr>\n",
       "      <th>3</th>\n",
       "      <td>0.103926</td>\n",
       "      <td>0.108681</td>\n",
       "      <td>0.110933</td>\n",
       "      <td>0.112574</td>\n",
       "      <td>0.113627</td>\n",
       "      <td>0.114285</td>\n",
       "      <td>0.114670</td>\n",
       "      <td>0.114889</td>\n",
       "      <td>0.114978</td>\n",
       "      <td>0.115004</td>\n",
       "      <td>0.115034</td>\n",
       "    </tr>\n",
       "    <tr>\n",
       "      <th>4</th>\n",
       "      <td>0.076986</td>\n",
       "      <td>0.080729</td>\n",
       "      <td>0.082704</td>\n",
       "      <td>0.084224</td>\n",
       "      <td>0.085273</td>\n",
       "      <td>0.085928</td>\n",
       "      <td>0.086289</td>\n",
       "      <td>0.086464</td>\n",
       "      <td>0.086526</td>\n",
       "      <td>0.086543</td>\n",
       "      <td>0.086592</td>\n",
       "    </tr>\n",
       "    <tr>\n",
       "      <th rowspan=\"5\" valign=\"top\">Puffs</th>\n",
       "      <th>0</th>\n",
       "      <td>0.195051</td>\n",
       "      <td>0.205668</td>\n",
       "      <td>0.210015</td>\n",
       "      <td>0.212122</td>\n",
       "      <td>0.213422</td>\n",
       "      <td>0.215477</td>\n",
       "      <td>0.218401</td>\n",
       "      <td>0.221077</td>\n",
       "      <td>0.223142</td>\n",
       "      <td>0.224177</td>\n",
       "      <td>0.223890</td>\n",
       "    </tr>\n",
       "    <tr>\n",
       "      <th>1</th>\n",
       "      <td>0.195059</td>\n",
       "      <td>0.205676</td>\n",
       "      <td>0.210027</td>\n",
       "      <td>0.212133</td>\n",
       "      <td>0.213432</td>\n",
       "      <td>0.215484</td>\n",
       "      <td>0.218405</td>\n",
       "      <td>0.221079</td>\n",
       "      <td>0.223143</td>\n",
       "      <td>0.224178</td>\n",
       "      <td>0.223891</td>\n",
       "    </tr>\n",
       "    <tr>\n",
       "      <th>2</th>\n",
       "      <td>0.195131</td>\n",
       "      <td>0.205738</td>\n",
       "      <td>0.210082</td>\n",
       "      <td>0.212183</td>\n",
       "      <td>0.213470</td>\n",
       "      <td>0.215500</td>\n",
       "      <td>0.218409</td>\n",
       "      <td>0.221071</td>\n",
       "      <td>0.223128</td>\n",
       "      <td>0.224159</td>\n",
       "      <td>0.223877</td>\n",
       "    </tr>\n",
       "    <tr>\n",
       "      <th>3</th>\n",
       "      <td>0.195202</td>\n",
       "      <td>0.205803</td>\n",
       "      <td>0.210151</td>\n",
       "      <td>0.212229</td>\n",
       "      <td>0.213474</td>\n",
       "      <td>0.215464</td>\n",
       "      <td>0.218364</td>\n",
       "      <td>0.221037</td>\n",
       "      <td>0.223125</td>\n",
       "      <td>0.224159</td>\n",
       "      <td>0.223877</td>\n",
       "    </tr>\n",
       "    <tr>\n",
       "      <th>4</th>\n",
       "      <td>0.195353</td>\n",
       "      <td>0.205897</td>\n",
       "      <td>0.210204</td>\n",
       "      <td>0.212282</td>\n",
       "      <td>0.213591</td>\n",
       "      <td>0.215688</td>\n",
       "      <td>0.218741</td>\n",
       "      <td>0.221614</td>\n",
       "      <td>0.223923</td>\n",
       "      <td>0.225162</td>\n",
       "      <td>0.225099</td>\n",
       "    </tr>\n",
       "    <tr>\n",
       "      <th rowspan=\"5\" valign=\"top\">Waves</th>\n",
       "      <th>0</th>\n",
       "      <td>0.787339</td>\n",
       "      <td>0.799457</td>\n",
       "      <td>0.802117</td>\n",
       "      <td>0.804287</td>\n",
       "      <td>0.806003</td>\n",
       "      <td>0.807289</td>\n",
       "      <td>0.808214</td>\n",
       "      <td>0.808830</td>\n",
       "      <td>0.809212</td>\n",
       "      <td>0.809271</td>\n",
       "      <td>0.808954</td>\n",
       "    </tr>\n",
       "    <tr>\n",
       "      <th>1</th>\n",
       "      <td>0.787339</td>\n",
       "      <td>0.799457</td>\n",
       "      <td>0.802117</td>\n",
       "      <td>0.804288</td>\n",
       "      <td>0.806003</td>\n",
       "      <td>0.807289</td>\n",
       "      <td>0.808214</td>\n",
       "      <td>0.808831</td>\n",
       "      <td>0.809213</td>\n",
       "      <td>0.809273</td>\n",
       "      <td>0.808955</td>\n",
       "    </tr>\n",
       "    <tr>\n",
       "      <th>2</th>\n",
       "      <td>0.787344</td>\n",
       "      <td>0.799462</td>\n",
       "      <td>0.802123</td>\n",
       "      <td>0.804294</td>\n",
       "      <td>0.806010</td>\n",
       "      <td>0.807297</td>\n",
       "      <td>0.808223</td>\n",
       "      <td>0.808841</td>\n",
       "      <td>0.809224</td>\n",
       "      <td>0.809285</td>\n",
       "      <td>0.808968</td>\n",
       "    </tr>\n",
       "    <tr>\n",
       "      <th>3</th>\n",
       "      <td>0.787349</td>\n",
       "      <td>0.799467</td>\n",
       "      <td>0.802127</td>\n",
       "      <td>0.804299</td>\n",
       "      <td>0.806015</td>\n",
       "      <td>0.807302</td>\n",
       "      <td>0.808228</td>\n",
       "      <td>0.808846</td>\n",
       "      <td>0.809229</td>\n",
       "      <td>0.809289</td>\n",
       "      <td>0.808972</td>\n",
       "    </tr>\n",
       "    <tr>\n",
       "      <th>4</th>\n",
       "      <td>0.787358</td>\n",
       "      <td>0.799477</td>\n",
       "      <td>0.802138</td>\n",
       "      <td>0.804309</td>\n",
       "      <td>0.806025</td>\n",
       "      <td>0.807312</td>\n",
       "      <td>0.808238</td>\n",
       "      <td>0.808856</td>\n",
       "      <td>0.809239</td>\n",
       "      <td>0.809299</td>\n",
       "      <td>0.808982</td>\n",
       "    </tr>\n",
       "  </tbody>\n",
       "</table>\n",
       "</div>"
      ],
      "text/plain": [
       "Exclusion radius                   0         1         2         3         4   \\\n",
       "Class  Minimal event radius                                                     \n",
       "Sparks 0                     0.116289  0.121549  0.124016  0.125769  0.126827   \n",
       "       1                     0.116353  0.121615  0.124085  0.125840  0.126898   \n",
       "       2                     0.116751  0.122073  0.124606  0.126406  0.127487   \n",
       "       3                     0.103926  0.108681  0.110933  0.112574  0.113627   \n",
       "       4                     0.076986  0.080729  0.082704  0.084224  0.085273   \n",
       "Puffs  0                     0.195051  0.205668  0.210015  0.212122  0.213422   \n",
       "       1                     0.195059  0.205676  0.210027  0.212133  0.213432   \n",
       "       2                     0.195131  0.205738  0.210082  0.212183  0.213470   \n",
       "       3                     0.195202  0.205803  0.210151  0.212229  0.213474   \n",
       "       4                     0.195353  0.205897  0.210204  0.212282  0.213591   \n",
       "Waves  0                     0.787339  0.799457  0.802117  0.804287  0.806003   \n",
       "       1                     0.787339  0.799457  0.802117  0.804288  0.806003   \n",
       "       2                     0.787344  0.799462  0.802123  0.804294  0.806010   \n",
       "       3                     0.787349  0.799467  0.802127  0.804299  0.806015   \n",
       "       4                     0.787358  0.799477  0.802138  0.804309  0.806025   \n",
       "\n",
       "Exclusion radius                   5         6         7         8         9   \\\n",
       "Class  Minimal event radius                                                     \n",
       "Sparks 0                     0.127459  0.127829  0.128049  0.128149  0.128194   \n",
       "       1                     0.127530  0.127900  0.128119  0.128220  0.128264   \n",
       "       2                     0.128136  0.128517  0.128742  0.128843  0.128886   \n",
       "       3                     0.114285  0.114670  0.114889  0.114978  0.115004   \n",
       "       4                     0.085928  0.086289  0.086464  0.086526  0.086543   \n",
       "Puffs  0                     0.215477  0.218401  0.221077  0.223142  0.224177   \n",
       "       1                     0.215484  0.218405  0.221079  0.223143  0.224178   \n",
       "       2                     0.215500  0.218409  0.221071  0.223128  0.224159   \n",
       "       3                     0.215464  0.218364  0.221037  0.223125  0.224159   \n",
       "       4                     0.215688  0.218741  0.221614  0.223923  0.225162   \n",
       "Waves  0                     0.807289  0.808214  0.808830  0.809212  0.809271   \n",
       "       1                     0.807289  0.808214  0.808831  0.809213  0.809273   \n",
       "       2                     0.807297  0.808223  0.808841  0.809224  0.809285   \n",
       "       3                     0.807302  0.808228  0.808846  0.809229  0.809289   \n",
       "       4                     0.807312  0.808238  0.808856  0.809239  0.809299   \n",
       "\n",
       "Exclusion radius                   10  \n",
       "Class  Minimal event radius            \n",
       "Sparks 0                     0.128251  \n",
       "       1                     0.128320  \n",
       "       2                     0.128937  \n",
       "       3                     0.115034  \n",
       "       4                     0.086592  \n",
       "Puffs  0                     0.223890  \n",
       "       1                     0.223891  \n",
       "       2                     0.223877  \n",
       "       3                     0.223877  \n",
       "       4                     0.225099  \n",
       "Waves  0                     0.808954  \n",
       "       1                     0.808955  \n",
       "       2                     0.808968  \n",
       "       3                     0.808972  \n",
       "       4                     0.808982  "
      ]
     },
     "metadata": {},
     "output_type": "display_data"
    }
   ],
   "source": [
    "display(df)"
   ]
  },
  {
   "cell_type": "code",
   "execution_count": 30,
   "metadata": {},
   "outputs": [],
   "source": [
    "df.to_csv(\"average_IoU_different_min_event_size_excl_radius.csv\")"
   ]
  },
  {
   "cell_type": "code",
   "execution_count": 31,
   "metadata": {
    "tags": []
   },
   "outputs": [
    {
     "data": {
      "text/plain": [
       "Text(0.5, 0, 'Exclusion radius')"
      ]
     },
     "execution_count": 31,
     "metadata": {},
     "output_type": "execute_result"
    },
    {
     "data": {
      "image/png": "[encoded data removed]",
      "text/plain": [
       "<Figure size 1440x864 with 4 Axes>"
      ]
     },
     "metadata": {
      "needs_background": "light"
     },
     "output_type": "display_data"
    }
   ],
   "source": [
    "fig, axs = plt.subplots(1, 3, sharex=True, figsize=(20,12))\n",
    "fig.add_subplot(111, frameon=False)\n",
    "\n",
    "for r in min_radius:\n",
    "    axs[0].plot(exclusion_radius_list, ious_sparks_avg_radius[r], label=r)\n",
    "           \n",
    "axs[0].set_title('Sparks IoU')\n",
    "#axs[0].set_ylim([0,1])\n",
    "axs[0].legend(shadow=True, fancybox=True)\n",
    "\n",
    "for r in min_radius:\n",
    "    axs[1].plot(exclusion_radius_list, ious_puffs_avg_radius[r], label=r)\n",
    "\n",
    "axs[1].set_title('Puffs IoU')\n",
    "#axs[1].set_ylim([0,1])\n",
    "axs[1].legend(shadow=True, fancybox=True)\n",
    "\n",
    "for r in min_radius:\n",
    "    axs[2].plot(exclusion_radius_list, ious_waves_avg_radius[r], label=r)\n",
    "\n",
    "axs[2].set_title('Waves IoU')\n",
    "#axs[2].set_ylim([0,1])\n",
    "axs[2].legend(shadow=True, fancybox=True)\n",
    "\n",
    "plt.tick_params(labelcolor='none', which='both', top=False, bottom=False, left=False, right=False)\n",
    "plt.xlabel(\"Exclusion radius\")"
   ]
  },
  {
   "cell_type": "code",
   "execution_count": 32,
   "metadata": {},
   "outputs": [],
   "source": [
    "fig.savefig(\"average_IoU_different_min_event_size_excl_radius.png\")"
   ]
  },
  {
   "cell_type": "markdown",
   "metadata": {
    "tags": []
   },
   "source": [
    "## Sparks metrics (TODO)"
   ]
  },
  {
   "cell_type": "code",
   "execution_count": 40,
   "metadata": {},
   "outputs": [],
   "source": [
    "from metrics_tools import nonmaxima_suppression\n",
    "\n",
    "def compute_prec_rec(annotations, preds, thresholds, ignore_frames=0,\n",
    "                     min_radius=3, match_distance=6, ignore_mask=None):\n",
    "    # annotations: video of sparks segmentation w/ values in {0,1}\n",
    "    # preds: video of sparks preds w/ values in [0,1]\n",
    "    # thresholds : list of thresholds applied to the preds over which events are kept\n",
    "    # min_radius : minimal \"radius\" of a valid event\n",
    "    # match_distance : maximal distance between annotation and pred\n",
    "    # ignore_mask: binary mask indicating where to ignore the values\n",
    "    # returns a list of Metrics tuples corresponding to thresholds and AUC\n",
    "\n",
    "    if ignore_frames != 0:\n",
    "        annotations = empty_marginal_frames(annotations, ignore_frames)\n",
    "        preds = empty_marginal_frames(preds, ignore_frames)\n",
    "    \n",
    "    # if using an ignore mask, remove predictions inside ignore regions\n",
    "    if ignore_mask is not None:\n",
    "        preds = preds * (1 - ignore_mask)\n",
    "\n",
    "    metrics = {} # list of 'Metrics' tuples: precision, recall, tp, tp_fp, tp_fn\n",
    "                 # indexed by threshold value\n",
    "\n",
    "    coords_true = nonmaxima_suppression(annotations)\n",
    "\n",
    "    # compute prec and rec for every threshold\n",
    "    for t in thresholds:\n",
    "        coords_preds = process_spark_prediction(preds,\n",
    "                                                t_detection=t,\n",
    "                                                min_radius=min_radius)\n",
    "\n",
    "        prec_rec = Metrics(*correspondences_precision_recall(coords_true,\n",
    "                                                             coords_preds,\n",
    "                                                             match_distance))\n",
    "\n",
    "        metrics[t] = prec_rec\n",
    "        #print(\"threshold\", t)\n",
    "        #prec.append(prec_rec.precision)\n",
    "        #rec.append(prec_rec.recall)\n",
    "\n",
    "\n",
    "    # compute AUC for this sample\n",
    "    #area_under_curve = auc(rec, prec)\n",
    "\n",
    "    return metrics#, area_under_curve\n",
    "\n",
    "def reduce_metrics_thresholds(results):\n",
    "    # apply metrics reduction to results corresponding to different thresholds\n",
    "    # results is a list of dicts\n",
    "    # thresholds is the list of used thresholds\n",
    "    # returns dicts of reduced 'Metrics' instances for every threshold\n",
    "\n",
    "    # list of dicts to dict of lists\n",
    "    results_t = {k: [dic[k] for dic in results] for k in results[0]}\n",
    "\n",
    "    reduced_metrics = {}\n",
    "    prec = {}\n",
    "    rec = {}\n",
    "\n",
    "    for t, res in results_t.items():\n",
    "        # res is a list of 'Metrics' of all videos wrt a threshold\n",
    "        reduced_res = reduce_metrics(res)\n",
    "\n",
    "        reduced_metrics[t] = reduced_res\n",
    "        prec[t] = reduced_res.precision\n",
    "        rec[t] = reduced_res.recall\n",
    "\n",
    "    # compute area under the curve for reduced metrics\n",
    "    #print(\"REC\",rec)\n",
    "    #print(\"PREC\",prec)\n",
    "    #area_under_curve = roc_auc_score(rec, prec)\n",
    "    #print(\"AREA UNDER CURVE\", area_under_curve)\n",
    "\n",
    "    return reduced_metrics, prec, rec, None"
   ]
  },
  {
   "cell_type": "code",
   "execution_count": 37,
   "metadata": {},
   "outputs": [],
   "source": [
    "# parameters\n",
    "ignore_frames = 6\n",
    "\n",
    "t_detection_sparks = [0.7,0.8,0.9,0.95,0.99,0.999]\n",
    "\n",
    "min_radius_sparks = 3\n",
    "match_distance = 6\n",
    "\n",
    "# each dictionary contains, for every training name, a list of prec rec scores for all videos for all thresholds\n",
    "prec_rec_sparks_all_trainings = {} # num trainings x num video x num thresholds\n",
    "\n",
    "for training_name in training_names:\n",
    "    # get predictions\n",
    "    sparks_training = sparks[training_name]\n",
    "    \n",
    "    # get annotations\n",
    "    ys_training = ys[training_name]\n",
    "    \n",
    "    prec_rec_sparks_all_video = []\n",
    "    \n",
    "    for sparks_sample, ys_sample, ys_raw in zip(sparks_training, ys_training, ys_all_trainings):\n",
    "        # get binary ys \n",
    "        ys_sparks_sample = np.where(ys_sample==1,1.0,0.0)\n",
    "        \n",
    "        # get ignore mask\n",
    "        ignore_mask =  np.where(ys_raw==4,1,0)\n",
    "            \n",
    "        # compute precision and recall for some thresholds and remove ignored frames\n",
    "        prec_rec_all_t = compute_prec_rec(ys_sparks_sample, sparks_sample, \n",
    "                                          t_detection_sparks, ignore_frames,\n",
    "                                          min_radius_sparks, match_distance,\n",
    "                                          ignore_mask\n",
    "                                         ) # dict indexed by threshold value\n",
    "        prec_rec_sparks_all_video.append(prec_rec_all_t)\n",
    "        \n",
    "    prec_rec_sparks_all_trainings[training_name] = prec_rec_sparks_all_video"
   ]
  },
  {
   "cell_type": "markdown",
   "metadata": {},
   "source": [
    "### Average over all videos"
   ]
  },
  {
   "cell_type": "code",
   "execution_count": 38,
   "metadata": {},
   "outputs": [],
   "source": [
    "prec_rec_sparks_avg = {} # num training x num thresholds\n",
    "prec_avg = {}\n",
    "rec_avg = {}\n",
    "\n",
    "for training_name in training_names:\n",
    "    prec_rec_all_videos = prec_rec_sparks_all_trainings[training_name]\n",
    "    prec_rec_sparks_avg[training_name] = reduce_metrics_thresholds(prec_rec_all_videos)\n",
    "    prec_avg[training_name] = prec_rec_sparks_avg[training_name][1]\n",
    "    rec_avg[training_name] = prec_rec_sparks_avg[training_name][2]"
   ]
  },
  {
   "cell_type": "markdown",
   "metadata": {
    "tags": []
   },
   "source": [
    "### Dataframe and plots of results"
   ]
  },
  {
   "cell_type": "code",
   "execution_count": 39,
   "metadata": {},
   "outputs": [],
   "source": [
    "cols = pd.Index(t_detection_sparks, name='Detection threshold')\n",
    "metrics = ['Precision', 'Recall']\n",
    "rows = pd.MultiIndex.from_product([metrics, training_names], names=['Class', 'Training name'])\n",
    "\n",
    "data = [*prec_avg.values(),\n",
    "        *rec_avg.values()\n",
    "       ]\n",
    "\n",
    "df = pd.DataFrame(data, rows, cols)"
   ]
  },
  {
   "cell_type": "code",
   "execution_count": 41,
   "metadata": {},
   "outputs": [
    {
     "data": {
      "text/html": [
       "<div>\n",
       "<style scoped>\n",
       "    .dataframe tbody tr th:only-of-type {\n",
       "        vertical-align: middle;\n",
       "    }\n",
       "\n",
       "    .dataframe tbody tr th {\n",
       "        vertical-align: top;\n",
       "    }\n",
       "\n",
       "    .dataframe thead th {\n",
       "        text-align: right;\n",
       "    }\n",
       "</style>\n",
       "<table border=\"1\" class=\"dataframe\">\n",
       "  <thead>\n",
       "    <tr style=\"text-align: right;\">\n",
       "      <th></th>\n",
       "      <th>Detection threshold</th>\n",
       "      <th>0.700</th>\n",
       "      <th>0.800</th>\n",
       "      <th>0.900</th>\n",
       "      <th>0.950</th>\n",
       "      <th>0.990</th>\n",
       "      <th>0.999</th>\n",
       "    </tr>\n",
       "    <tr>\n",
       "      <th>Class</th>\n",
       "      <th>Training name</th>\n",
       "      <th></th>\n",
       "      <th></th>\n",
       "      <th></th>\n",
       "      <th></th>\n",
       "      <th></th>\n",
       "      <th></th>\n",
       "    </tr>\n",
       "  </thead>\n",
       "  <tbody>\n",
       "    <tr>\n",
       "      <th rowspan=\"5\" valign=\"top\">Precision</th>\n",
       "      <th>temporal_reduction</th>\n",
       "      <td>0.329412</td>\n",
       "      <td>0.343008</td>\n",
       "      <td>0.368750</td>\n",
       "      <td>0.407942</td>\n",
       "      <td>0.478261</td>\n",
       "      <td>0.633803</td>\n",
       "    </tr>\n",
       "    <tr>\n",
       "      <th>normalize_whole_video</th>\n",
       "      <td>0.197138</td>\n",
       "      <td>0.210332</td>\n",
       "      <td>0.234742</td>\n",
       "      <td>0.241888</td>\n",
       "      <td>0.329032</td>\n",
       "      <td>0.312500</td>\n",
       "    </tr>\n",
       "    <tr>\n",
       "      <th>reduce_first_layer_channels_64</th>\n",
       "      <td>0.148259</td>\n",
       "      <td>0.162286</td>\n",
       "      <td>0.181319</td>\n",
       "      <td>0.200337</td>\n",
       "      <td>0.283582</td>\n",
       "      <td>0.430556</td>\n",
       "    </tr>\n",
       "    <tr>\n",
       "      <th>256_long_chunks_physio</th>\n",
       "      <td>0.250000</td>\n",
       "      <td>0.265060</td>\n",
       "      <td>0.289738</td>\n",
       "      <td>0.320611</td>\n",
       "      <td>0.416309</td>\n",
       "      <td>0.702703</td>\n",
       "    </tr>\n",
       "    <tr>\n",
       "      <th>256_long_chunks_64_step_physio</th>\n",
       "      <td>0.294964</td>\n",
       "      <td>0.306950</td>\n",
       "      <td>0.328228</td>\n",
       "      <td>0.365432</td>\n",
       "      <td>0.468992</td>\n",
       "      <td>0.627660</td>\n",
       "    </tr>\n",
       "    <tr>\n",
       "      <th rowspan=\"5\" valign=\"top\">Recall</th>\n",
       "      <th>temporal_reduction</th>\n",
       "      <td>0.551181</td>\n",
       "      <td>0.511811</td>\n",
       "      <td>0.464567</td>\n",
       "      <td>0.444882</td>\n",
       "      <td>0.346457</td>\n",
       "      <td>0.177165</td>\n",
       "    </tr>\n",
       "    <tr>\n",
       "      <th>normalize_whole_video</th>\n",
       "      <td>0.488189</td>\n",
       "      <td>0.448819</td>\n",
       "      <td>0.393701</td>\n",
       "      <td>0.322835</td>\n",
       "      <td>0.200787</td>\n",
       "      <td>0.019685</td>\n",
       "    </tr>\n",
       "    <tr>\n",
       "      <th>reduce_first_layer_channels_64</th>\n",
       "      <td>0.586614</td>\n",
       "      <td>0.559055</td>\n",
       "      <td>0.519685</td>\n",
       "      <td>0.468504</td>\n",
       "      <td>0.374016</td>\n",
       "      <td>0.122047</td>\n",
       "    </tr>\n",
       "    <tr>\n",
       "      <th>256_long_chunks_physio</th>\n",
       "      <td>0.625984</td>\n",
       "      <td>0.606299</td>\n",
       "      <td>0.566929</td>\n",
       "      <td>0.496063</td>\n",
       "      <td>0.381890</td>\n",
       "      <td>0.102362</td>\n",
       "    </tr>\n",
       "    <tr>\n",
       "      <th>256_long_chunks_64_step_physio</th>\n",
       "      <td>0.645669</td>\n",
       "      <td>0.625984</td>\n",
       "      <td>0.590551</td>\n",
       "      <td>0.582677</td>\n",
       "      <td>0.476378</td>\n",
       "      <td>0.232283</td>\n",
       "    </tr>\n",
       "  </tbody>\n",
       "</table>\n",
       "</div>"
      ],
      "text/plain": [
       "Detection threshold                          0.700     0.800     0.900  \\\n",
       "Class     Training name                                                  \n",
       "Precision temporal_reduction              0.329412  0.343008  0.368750   \n",
       "          normalize_whole_video           0.197138  0.210332  0.234742   \n",
       "          reduce_first_layer_channels_64  0.148259  0.162286  0.181319   \n",
       "          256_long_chunks_physio          0.250000  0.265060  0.289738   \n",
       "          256_long_chunks_64_step_physio  0.294964  0.306950  0.328228   \n",
       "Recall    temporal_reduction              0.551181  0.511811  0.464567   \n",
       "          normalize_whole_video           0.488189  0.448819  0.393701   \n",
       "          reduce_first_layer_channels_64  0.586614  0.559055  0.519685   \n",
       "          256_long_chunks_physio          0.625984  0.606299  0.566929   \n",
       "          256_long_chunks_64_step_physio  0.645669  0.625984  0.590551   \n",
       "\n",
       "Detection threshold                          0.950     0.990     0.999  \n",
       "Class     Training name                                                 \n",
       "Precision temporal_reduction              0.407942  0.478261  0.633803  \n",
       "          normalize_whole_video           0.241888  0.329032  0.312500  \n",
       "          reduce_first_layer_channels_64  0.200337  0.283582  0.430556  \n",
       "          256_long_chunks_physio          0.320611  0.416309  0.702703  \n",
       "          256_long_chunks_64_step_physio  0.365432  0.468992  0.627660  \n",
       "Recall    temporal_reduction              0.444882  0.346457  0.177165  \n",
       "          normalize_whole_video           0.322835  0.200787  0.019685  \n",
       "          reduce_first_layer_channels_64  0.468504  0.374016  0.122047  \n",
       "          256_long_chunks_physio          0.496063  0.381890  0.102362  \n",
       "          256_long_chunks_64_step_physio  0.582677  0.476378  0.232283  "
      ]
     },
     "metadata": {},
     "output_type": "display_data"
    }
   ],
   "source": [
    "display(df)"
   ]
  },
  {
   "cell_type": "code",
   "execution_count": 46,
   "metadata": {},
   "outputs": [],
   "source": [
    "df.to_csv(\"sparks_precision_recall.csv\")"
   ]
  },
  {
   "cell_type": "code",
   "execution_count": 47,
   "metadata": {},
   "outputs": [
    {
     "data": {
      "text/plain": [
       "Text(0.5, 0, 'Detection threshold')"
      ]
     },
     "execution_count": 47,
     "metadata": {},
     "output_type": "execute_result"
    },
    {
     "data": {
      "image/png": "[encoded data removed]",
      "text/plain": [
       "<Figure size 1440x864 with 3 Axes>"
      ]
     },
     "metadata": {
      "needs_background": "light"
     },
     "output_type": "display_data"
    }
   ],
   "source": [
    "fig, axs = plt.subplots(1, 2, sharex=True, figsize=(20,12))\n",
    "fig.add_subplot(111, frameon=False)\n",
    "\n",
    "for training_name in training_names:\n",
    "    axs[0].plot(t_detection_sparks, prec_avg[training_name].values(), label=training_name)\n",
    "           \n",
    "axs[0].set_title('Precision')\n",
    "axs[0].set_ylim([0,1])\n",
    "axs[0].legend(shadow=True, fancybox=True)\n",
    "\n",
    "for training_name in training_names:\n",
    "    axs[1].plot(t_detection_sparks, rec_avg[training_name].values(), label=training_name)\n",
    "\n",
    "axs[1].set_title('Recall')\n",
    "#axs[1].set_ylim([0,1])\n",
    "axs[1].legend(shadow=True, fancybox=True)\n",
    "\n",
    "plt.tick_params(labelcolor='none', which='both', top=False, bottom=False, left=False, right=False)\n",
    "plt.xlabel(\"Detection threshold\")"
   ]
  },
  {
   "cell_type": "code",
   "execution_count": 48,
   "metadata": {},
   "outputs": [],
   "source": [
    "fig.savefig(\"sparks_precision_recall.png\")"
   ]
  },
  {
   "cell_type": "code",
   "execution_count": null,
   "metadata": {},
   "outputs": [],
   "source": []
  },
  {
   "cell_type": "code",
   "execution_count": null,
   "metadata": {},
   "outputs": [],
   "source": []
  }
 ],
 "metadata": {
  "kernelspec": {
   "display_name": "Python 3 (ipykernel)",
   "language": "python",
   "name": "python3"
  },
  "language_info": {
   "codemirror_mode": {
    "name": "ipython",
    "version": 3
   },
   "file_extension": ".py",
   "mimetype": "text/x-python",
   "name": "python",
   "nbconvert_exporter": "python",
   "pygments_lexer": "ipython3",
   "version": "3.8.8"
  }
 },
 "nbformat": 4,
 "nbformat_minor": 4
}
