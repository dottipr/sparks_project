{
 "cells": [
  {
   "cell_type": "markdown",
   "metadata": {},
   "source": [
    "15.12.2021\n",
    "\n",
    "Load a bunch of UNet predictions in folder `trainings_validation` and compute some metrics, plots, etc.\n",
    "\n",
    "Predictions are saved as:\n",
    "`{training_name}_{epoch}_{video_id}_{class}.tif`\n",
    "\n",
    "**Idea**: Use predictions to produce plots and tables to visualize the results."
   ]
  },
  {
   "cell_type": "code",
   "execution_count": 1,
   "metadata": {
    "tags": []
   },
   "outputs": [],
   "source": [
    "%load_ext autoreload\n",
    "%autoreload 2"
   ]
  },
  {
   "cell_type": "code",
   "execution_count": 46,
   "metadata": {
    "tags": []
   },
   "outputs": [],
   "source": [
    "import numpy as np\n",
    "import glob\n",
    "import os\n",
    "import imageio\n",
    "\n",
    "from scipy.ndimage.morphology import binary_dilation, binary_erosion\n",
    "from sklearn.metrics import jaccard_score, f1_score\n",
    "\n",
    "import pandas as pd\n",
    "import matplotlib.pyplot as plt\n",
    "\n",
    "import unet\n",
    "from metrics_tools import (correspondences_precision_recall, \n",
    "                           Metrics, \n",
    "                           reduce_metrics, \n",
    "                           empty_marginal_frames,\n",
    "                           process_spark_prediction,\n",
    "                           process_puff_prediction,\n",
    "                           process_wave_prediction,\n",
    "                           write_videos_on_disk,\n",
    "                           get_sparks_locations_from_mask,\n",
    "                           compute_prec_rec,\n",
    "                           reduce_metrics_thresholds\n",
    "                          )"
   ]
  },
  {
   "cell_type": "code",
   "execution_count": 3,
   "metadata": {},
   "outputs": [
    {
     "data": {
      "text/plain": [
       "'C:\\\\Users\\\\dotti\\\\sparks_project\\\\sparks'"
      ]
     },
     "execution_count": 3,
     "metadata": {},
     "output_type": "execute_result"
    }
   ],
   "source": [
    "BASEDIR = os.path.abspath('')\n",
    "BASEDIR"
   ]
  },
  {
   "cell_type": "markdown",
   "metadata": {},
   "source": [
    "### Select predictions to load"
   ]
  },
  {
   "cell_type": "code",
   "execution_count": 8,
   "metadata": {},
   "outputs": [],
   "source": [
    "training_names = [\"temporal_reduction\",\n",
    "                  \"normalize_whole_video\",\n",
    "                  \"reduce_first_layer_channels_64\",\n",
    "                  \"256_long_chunks_physio\",\n",
    "                  \"256_long_chunks_64_step_physio\"\n",
    "                  ]\n",
    "\n",
    "epoch = 100000"
   ]
  },
  {
   "cell_type": "markdown",
   "metadata": {},
   "source": [
    "### Configure input/output folder"
   ]
  },
  {
   "cell_type": "code",
   "execution_count": 9,
   "metadata": {},
   "outputs": [],
   "source": [
    "metrics_folder = \"trainings_validation\""
   ]
  },
  {
   "cell_type": "markdown",
   "metadata": {},
   "source": [
    "### Load predictions"
   ]
  },
  {
   "cell_type": "code",
   "execution_count": 10,
   "metadata": {},
   "outputs": [],
   "source": [
    "ys = {} # contains annotations for each training\n",
    "sparks = {} # contains sparks for each training\n",
    "puffs = {} # contains puffs for each training\n",
    "waves = {} # contains waves for each training\n",
    "\n",
    "for training_name in training_names:\n",
    "    # Import .tif files as numpy array\n",
    "    base_name = os.path.join(metrics_folder,training_name+\"_\"+str(epoch)+\"_\")\n",
    "    \n",
    "    ys_filenames = sorted(glob.glob(base_name+\"*_ys.tif\"))\n",
    "    sparks_filenames = sorted(glob.glob(base_name+\"*_sparks.tif\"))\n",
    "    puffs_filenames = sorted(glob.glob(base_name+\"*_puffs.tif\"))\n",
    "    waves_filenames = sorted(glob.glob(base_name+\"*_waves.tif\"))\n",
    "    \n",
    "    training_ys = []\n",
    "    training_sparks = []\n",
    "    training_puffs = []\n",
    "    training_waves = []\n",
    "    \n",
    "    for y,s,p,w in zip(ys_filenames,sparks_filenames,puffs_filenames,waves_filenames):\n",
    "        training_ys.append(np.asarray(imageio.volread(y)).astype('int'))\n",
    "        training_sparks.append(np.asarray(imageio.volread(s)))\n",
    "        training_puffs.append(np.asarray(imageio.volread(p)))\n",
    "        training_waves.append(np.asarray(imageio.volread(w)))\n",
    "        \n",
    "    ys[training_name] = training_ys\n",
    "    sparks[training_name] = training_sparks\n",
    "    puffs[training_name] = training_puffs\n",
    "    waves[training_name] = training_waves        "
   ]
  },
  {
   "cell_type": "markdown",
   "metadata": {},
   "source": [
    "## Jaccard index for puffs and waves\n",
    "12.05.2021\n",
    "Seguendo il consiglio di Pablo:\n",
    "erosion & dilation delle annotations -> creazione di una exclusion region che viene ignorata dal supporto del Jaccard index"
   ]
  },
  {
   "cell_type": "code",
   "execution_count": 7,
   "metadata": {
    "tags": []
   },
   "outputs": [],
   "source": [
    "# Define function\n",
    "\n",
    "def jaccard_score_exclusion_zone(ys,preds,exclusion_radius,sparks=False):\n",
    "    \n",
    "    # Compute intersection and union\n",
    "    intersection = np.logical_and(ys, preds)\n",
    "    union = np.logical_or(ys, preds)\n",
    "    \n",
    "    if exclusion_radius != 0:\n",
    "        # Compute exclusion zone: 1 where Jaccard index has to be computed, 0 otherwise\n",
    "        dilated = binary_dilation(ys, iterations=exclusion_radius)\n",
    "        \n",
    "        if not sparks:\n",
    "            eroded = binary_erosion(ys, iterations=exclusion_radius)\n",
    "            exclusion_mask = 1 - np.logical_xor(eroded,dilated)\n",
    "        else:\n",
    "            # Erosion is not computed for spark class\n",
    "            exclusion_mask = 1 - np.logical_xor(ys,dilated)\n",
    "    \n",
    "        # Compute intersecion of exclusion mask with intersection and union\n",
    "        intersection = np.logical_and(intersection, exclusion_mask)\n",
    "        union = np.logical_and(union, exclusion_mask)\n",
    "        \n",
    "    #print(\"Pixels in intersection:\", np.count_nonzero(intersection))\n",
    "    #print(\"Pixels in union:\", np.count_nonzero(union))\n",
    "        \n",
    "    if np.count_nonzero(union) != 0:\n",
    "        iou = np.count_nonzero(intersection)/np.count_nonzero(union)\n",
    "    else:\n",
    "        iou = 1.\n",
    "    \n",
    "    return iou"
   ]
  },
  {
   "cell_type": "markdown",
   "metadata": {
    "jp-MarkdownHeadingCollapsed": true,
    "tags": []
   },
   "source": [
    "## Compute metrics for sample video"
   ]
  },
  {
   "cell_type": "code",
   "execution_count": 8,
   "metadata": {
    "tags": []
   },
   "outputs": [],
   "source": [
    "# results for a sample movie in sample dataset\n",
    "name = \"temporal_reduction\"\n",
    "idx = 0"
   ]
  },
  {
   "cell_type": "code",
   "execution_count": 33,
   "metadata": {
    "tags": []
   },
   "outputs": [],
   "source": [
    "ignore_frames = 6"
   ]
  },
  {
   "cell_type": "markdown",
   "metadata": {},
   "source": [
    "### Get binary preds and remove ignored frames"
   ]
  },
  {
   "cell_type": "code",
   "execution_count": 32,
   "metadata": {
    "tags": []
   },
   "outputs": [],
   "source": [
    "# get predictions\n",
    "sparks_sample = sparks[name][idx]\n",
    "puffs_sample = puffs[name][idx]\n",
    "waves_sample = waves[name][idx]"
   ]
  },
  {
   "cell_type": "code",
   "execution_count": 34,
   "metadata": {
    "tags": []
   },
   "outputs": [],
   "source": [
    "t_detection = 0.5\n",
    "min_radius_puffs = 4\n",
    "min_radius_waves = 10\n",
    "\n",
    "puffs_binary = process_puff_prediction(puffs_sample, \n",
    "                                       t_detection, \n",
    "                                       min_radius_puffs, \n",
    "                                       ignore_frames)\n",
    "\n",
    "waves_binary = process_wave_prediction(waves_sample, \n",
    "                                       t_detection, \n",
    "                                       min_radius_waves, \n",
    "                                       ignore_frames)"
   ]
  },
  {
   "cell_type": "markdown",
   "metadata": {},
   "source": [
    "### Get binary ys and remove ignored frames"
   ]
  },
  {
   "cell_type": "code",
   "execution_count": 35,
   "metadata": {
    "tags": []
   },
   "outputs": [],
   "source": [
    "# get binary ys\n",
    "ys_sample = ys[name][idx]\n",
    "\n",
    "ys_puffs_sample = np.where(ys_sample==3,1,0)\n",
    "ys_waves_sample = np.where(ys_sample==2,1,0)"
   ]
  },
  {
   "cell_type": "code",
   "execution_count": 36,
   "metadata": {
    "tags": []
   },
   "outputs": [],
   "source": [
    "ys_puffs_sample = empty_marginal_frames(ys_puffs_sample, ignore_frames)\n",
    "ys_waves_sample = empty_marginal_frames(ys_waves_sample, ignore_frames)"
   ]
  },
  {
   "cell_type": "markdown",
   "metadata": {},
   "source": [
    "### Plot a sample frame"
   ]
  },
  {
   "cell_type": "code",
   "execution_count": 12,
   "metadata": {
    "collapsed": true,
    "jupyter": {
     "outputs_hidden": true
    },
    "tags": []
   },
   "outputs": [
    {
     "data": {
      "text/plain": [
       "((125, 64, 512), (125, 64, 512), (125, 64, 512), (125, 64, 512))"
      ]
     },
     "execution_count": 12,
     "metadata": {},
     "output_type": "execute_result"
    }
   ],
   "source": [
    "sparks_sample.shape, puffs_sample.shape, waves_sample.shape, ys_sample.shape"
   ]
  },
  {
   "cell_type": "code",
   "execution_count": 23,
   "metadata": {
    "tags": []
   },
   "outputs": [],
   "source": [
    "sample_frame = 59"
   ]
  },
  {
   "cell_type": "code",
   "execution_count": 28,
   "metadata": {
    "collapsed": true,
    "jupyter": {
     "outputs_hidden": true
    },
    "tags": []
   },
   "outputs": [
    {
     "data": {
      "image/png": "[encoded data removed]",
      "text/plain": [
       "<Figure size 1440x432 with 6 Axes>"
      ]
     },
     "metadata": {
      "needs_background": "light"
     },
     "output_type": "display_data"
    }
   ],
   "source": [
    "# Plot annotations and preds of sample frame\n",
    "\n",
    "#plt.rcParams.update({'font.size': 8})\n",
    "\n",
    "plt.figure(figsize=(20,6))\n",
    "plt.suptitle(f\"Annotations and preds of sample frame {sample_frame}\", fontsize=12)\n",
    "\n",
    "\n",
    "ax = plt.subplot(3,2,1)\n",
    "ax.set_title(\"Puffs annotations\")\n",
    "plt.imshow(ys_puffs_sample[sample_frame])\n",
    "\n",
    "ax = plt.subplot(3,2,2)\n",
    "ax.set_title(\"Waves annotations\")\n",
    "plt.imshow(ys_waves_sample[sample_frame])\n",
    "\n",
    "ax = plt.subplot(3,2,3)\n",
    "ax.set_title(\"Puffs binary preds\")\n",
    "plt.imshow(puffs_binary[sample_frame])\n",
    "\n",
    "ax = plt.subplot(3,2,4)\n",
    "ax.set_title(\"Waves binary preds\")\n",
    "plt.imshow(waves_binary[sample_frame])\n",
    "\n",
    "ax = plt.subplot(3,2,5)\n",
    "ax.set_title(\"Puffs original preds\")\n",
    "plt.imshow(puffs_sample[sample_frame])\n",
    "\n",
    "ax = plt.subplot(3,2,6)\n",
    "ax.set_title(\"Waves original preds\")\n",
    "plt.imshow(waves_sample[sample_frame])\n",
    "\n",
    "\n",
    "plt.show()"
   ]
  },
  {
   "cell_type": "markdown",
   "metadata": {
    "tags": []
   },
   "source": [
    "### Save sample binary preds on disk"
   ]
  },
  {
   "cell_type": "code",
   "execution_count": 29,
   "metadata": {
    "tags": []
   },
   "outputs": [],
   "source": [
    "imageio.volwrite(os.path.join(metrics_folder, \"binary_preds_puffs.tif\"), np.uint8(puffs_binary))\n",
    "imageio.volwrite(os.path.join(metrics_folder, \"binary_preds_waves.tif\"), np.uint8(waves_binary))"
   ]
  },
  {
   "cell_type": "markdown",
   "metadata": {},
   "source": [
    "### Save sample annotations on disk"
   ]
  },
  {
   "cell_type": "code",
   "execution_count": 30,
   "metadata": {
    "tags": []
   },
   "outputs": [],
   "source": [
    "imageio.volwrite(os.path.join(metrics_folder, \"annotations_puffs.tif\"), np.uint8(ys_puffs_sample))\n",
    "imageio.volwrite(os.path.join(metrics_folder, \"annotations_waves.tif\"), np.uint8(ys_waves_sample))"
   ]
  },
  {
   "cell_type": "markdown",
   "metadata": {},
   "source": [
    "### Compute Jaccard score (without exclusion zone)"
   ]
  },
  {
   "cell_type": "code",
   "execution_count": 60,
   "metadata": {
    "collapsed": true,
    "jupyter": {
     "outputs_hidden": true
    },
    "tags": []
   },
   "outputs": [
    {
     "name": "stdout",
     "output_type": "stream",
     "text": [
      "Jaccard score puffs: 0.20890103174317864\n",
      "Jaccard score waves: 0.0\n"
     ]
    }
   ],
   "source": [
    "iou_puffs = jaccard_score(ys_puffs_sample.ravel(), puffs_binary.ravel())\n",
    "iou_waves = jaccard_score(ys_waves_sample.ravel(), waves_binary.ravel())\n",
    "\n",
    "print(f\"Jaccard score puffs: {iou_puffs}\")\n",
    "print(f\"Jaccard score waves: {iou_waves}\")"
   ]
  },
  {
   "cell_type": "code",
   "execution_count": 43,
   "metadata": {
    "tags": []
   },
   "outputs": [],
   "source": [
    "# Compute exclusion zone\n",
    "\n",
    "exclusion_radius = 2"
   ]
  },
  {
   "cell_type": "code",
   "execution_count": 44,
   "metadata": {
    "tags": []
   },
   "outputs": [],
   "source": [
    "# Just for puffs\n",
    "puffs_eroded = binary_erosion(ys_puffs_sample, iterations=exclusion_radius)\n",
    "puffs_dilated = binary_dilation(ys_puffs_sample, iterations=exclusion_radius)\n",
    "\n",
    "exclusion_mask = 1 - np.logical_xor(puffs_eroded, puffs_dilated)\n",
    "# 1 where Jaccard index has to be computed, 0 otherwise"
   ]
  },
  {
   "cell_type": "code",
   "execution_count": 47,
   "metadata": {
    "collapsed": true,
    "jupyter": {
     "outputs_hidden": true
    },
    "tags": []
   },
   "outputs": [
    {
     "data": {
      "image/png": "[encoded data removed]",
      "text/plain": [
       "<Figure size 1440x288 with 4 Axes>"
      ]
     },
     "metadata": {
      "needs_background": "light"
     },
     "output_type": "display_data"
    }
   ],
   "source": [
    "# Plot annotations eroded and dilated\n",
    "#plt.rcParams.update({'font.size': 8})\n",
    "\n",
    "plt.figure(figsize=(20,4))\n",
    "plt.suptitle(f\"Plot annotations eroded and dilated of sample frame {sample_frame}\", fontsize=12)\n",
    "\n",
    "\n",
    "ax = plt.subplot(2,2,1)\n",
    "ax.set_title(\"Puffs original annotations\")\n",
    "plt.imshow(ys_puffs_sample[sample_frame])\n",
    "\n",
    "ax = plt.subplot(2,2,2)\n",
    "ax.set_title(\"Difference\")\n",
    "plt.imshow(1 - np.logical_xor(puffs_eroded,puffs_dilated)[sample_frame])\n",
    "\n",
    "ax = plt.subplot(2,2,3)\n",
    "ax.set_title(\"Puffs eroded annotations\")\n",
    "plt.imshow(puffs_eroded[sample_frame])\n",
    "\n",
    "ax = plt.subplot(2,2,4)\n",
    "ax.set_title(\"Puffs dilated annotations\")\n",
    "plt.imshow(puffs_dilated[sample_frame])\n",
    "\n",
    "\n",
    "plt.show()"
   ]
  },
  {
   "cell_type": "code",
   "execution_count": 48,
   "metadata": {
    "tags": []
   },
   "outputs": [],
   "source": [
    "# Compute intersection and union of annotations with preds\n",
    "\n",
    "intersection = np.logical_and(ys_puffs_sample, puffs_binary)\n",
    "union = np.logical_or(ys_puffs_sample, puffs_binary)\n",
    "\n",
    "# Compute intersection and union only in exclusion mask\n",
    "\n",
    "intersection_mask = np.logical_and(intersection, exclusion_mask)\n",
    "union_mask = np.logical_and(union, exclusion_mask)"
   ]
  },
  {
   "cell_type": "code",
   "execution_count": 49,
   "metadata": {
    "collapsed": true,
    "jupyter": {
     "outputs_hidden": true
    },
    "tags": []
   },
   "outputs": [
    {
     "data": {
      "image/png": "[encoded data removed]",
      "text/plain": [
       "<Figure size 1440x288 with 4 Axes>"
      ]
     },
     "metadata": {
      "needs_background": "light"
     },
     "output_type": "display_data"
    }
   ],
   "source": [
    "# Plot intersection and union\n",
    "#plt.rcParams.update({'font.size': 8})\n",
    "\n",
    "plt.figure(figsize=(20,4))\n",
    "plt.suptitle(f\"Intersection and union of annotations with preds of sample frame {sample_frame}\", fontsize=12)\n",
    "\n",
    "\n",
    "ax = plt.subplot(2,2,1)\n",
    "ax.set_title(\"Intersecion of annotations and preds\")\n",
    "plt.imshow(intersection[sample_frame])\n",
    "\n",
    "ax = plt.subplot(2,2,2)\n",
    "ax.set_title(\"Union of annotations and preds\")\n",
    "plt.imshow(union[sample_frame])\n",
    "\n",
    "ax = plt.subplot(2,2,3)\n",
    "ax.set_title(\"Same intersection with respect to exclusion mask\")\n",
    "plt.imshow(intersection_mask[sample_frame])\n",
    "\n",
    "ax = plt.subplot(2,2,4)\n",
    "ax.set_title(\"Same union with respect to exclusion mask\")\n",
    "plt.imshow(union_mask[sample_frame])\n",
    "\n",
    "\n",
    "plt.show()"
   ]
  },
  {
   "cell_type": "code",
   "execution_count": 50,
   "metadata": {
    "collapsed": true,
    "jupyter": {
     "outputs_hidden": true
    },
    "tags": []
   },
   "outputs": [
    {
     "name": "stdout",
     "output_type": "stream",
     "text": [
      "Pixels in intersection: 2397\n",
      "Pixels in union: 29495\n",
      "IoU wrt to wave class: 0.08126801152737752\n"
     ]
    }
   ],
   "source": [
    "# Compute Jaccard index\n",
    "\n",
    "print(f\"Pixels in intersection: {np.count_nonzero(intersection_mask)}\")\n",
    "print(f\"Pixels in union: {np.count_nonzero(union_mask)}\")\n",
    "\n",
    "new_iou_puffs = np.count_nonzero(intersection_mask)/np.count_nonzero(union_mask)\n",
    "\n",
    "print(f\"IoU wrt to wave class: {new_iou_puffs}\")"
   ]
  },
  {
   "cell_type": "code",
   "execution_count": 69,
   "metadata": {
    "collapsed": true,
    "jupyter": {
     "outputs_hidden": true
    },
    "tags": []
   },
   "outputs": [
    {
     "name": "stdout",
     "output_type": "stream",
     "text": [
      "Pixels in intersection: 2397\n",
      "Pixels in union: 29495\n",
      "Pixels in intersection: 0\n",
      "Pixels in union: 0\n"
     ]
    }
   ],
   "source": [
    "new_iou_puffs = jaccard_score_exclusion_zone(ys_puffs_sample, puffs_binary, exclusion_radius)\n",
    "new_iou_waves = jaccard_score_exclusion_zone(ys_waves_sample, waves_binary, exclusion_radius)"
   ]
  },
  {
   "cell_type": "code",
   "execution_count": 70,
   "metadata": {
    "collapsed": true,
    "jupyter": {
     "outputs_hidden": true
    },
    "tags": []
   },
   "outputs": [
    {
     "name": "stdout",
     "output_type": "stream",
     "text": [
      "0.08126801152737752\n",
      "1.0\n"
     ]
    }
   ],
   "source": [
    "print(new_iou_puffs)\n",
    "print(new_iou_waves)"
   ]
  },
  {
   "cell_type": "markdown",
   "metadata": {},
   "source": [
    "### Jaccard index for sparks"
   ]
  },
  {
   "cell_type": "code",
   "execution_count": 73,
   "metadata": {
    "tags": []
   },
   "outputs": [],
   "source": [
    "# get sparks annotations\n",
    "ys_sparks_sample = np.where(ys_sample==1,1,0)\n",
    "\n",
    "# get sparks predictions\n",
    "t_detection_sparks = 0.9\n",
    "min_radius_sparks = 3\n",
    "sparks_binary = (process_spark_prediction(sparks_sample, \n",
    "                                          t_detection=t_detection_sparks,\n",
    "                                          min_radius=min_radius_sparks,\n",
    "                                          ignore_frames=ignore_frames,\n",
    "                                          return_clean_pred=True)) != 0 "
   ]
  },
  {
   "cell_type": "markdown",
   "metadata": {},
   "source": [
    "### Comparison with original implementation (when radius = 0)"
   ]
  },
  {
   "cell_type": "code",
   "execution_count": 76,
   "metadata": {
    "collapsed": true,
    "jupyter": {
     "outputs_hidden": true
    },
    "tags": []
   },
   "outputs": [
    {
     "name": "stdout",
     "output_type": "stream",
     "text": [
      "Jaccard index with new method:\n",
      "Puffs: 0.20890103174317864\n",
      "Waves: 1.0\n",
      "Sparks: 0.04723618090452261\n",
      "\n",
      "Jaccard index with sklearn metrics method\n",
      "Puffs: 0.20890103174317864\n",
      "Waves: 0.0\n",
      "Sparks: 0.04723618090452261\n"
     ]
    }
   ],
   "source": [
    "print(\"Jaccard index with new method:\")\n",
    "print(f\"Puffs: {jaccard_score_exclusion_zone(ys_puffs_sample, puffs_binary, 0)}\")\n",
    "print(f\"Waves: {jaccard_score_exclusion_zone(ys_waves_sample, waves_binary, 0)}\")\n",
    "print(f\"Sparks: {jaccard_score_exclusion_zone(ys_sparks_sample, sparks_binary, 0, sparks=True)}\")\n",
    "print()\n",
    "print(\"Jaccard index with sklearn metrics method\")\n",
    "print(f\"Puffs: {jaccard_score(ys_puffs_sample.ravel(), puffs_binary.ravel())}\")\n",
    "print(f\"Waves: {jaccard_score(ys_waves_sample.ravel(), waves_binary.ravel())}\")\n",
    "print(f\"Sparks: {jaccard_score(ys_sparks_sample.ravel(), sparks_binary.ravel())}\")"
   ]
  },
  {
   "cell_type": "markdown",
   "metadata": {
    "tags": []
   },
   "source": [
    "### Plot IoU with respect to different exclusion radius"
   ]
  },
  {
   "cell_type": "code",
   "execution_count": 77,
   "metadata": {
    "tags": []
   },
   "outputs": [],
   "source": [
    "exclusion_radius_list = [0,1,2,3,4,5,6,7,8,9,10]\n",
    "\n",
    "# puffs\n",
    "ious_puffs = []\n",
    "for radius in exclusion_radius_list:\n",
    "    ious_puffs.append(jaccard_score_exclusion_zone(ys_puffs_sample, puffs_binary, radius))\n",
    "    \n",
    "# waves\n",
    "ious_waves = []\n",
    "for radius in exclusion_radius_list:\n",
    "    ious_waves.append(jaccard_score_exclusion_zone(ys_waves_sample, waves_binary, radius))\n",
    "    \n",
    "# sparks\n",
    "ious_sparks = []\n",
    "for radius in exclusion_radius_list:\n",
    "    ious_sparks.append(jaccard_score_exclusion_zone(ys_sparks_sample, sparks_binary, radius, sparks=True))"
   ]
  },
  {
   "cell_type": "code",
   "execution_count": 78,
   "metadata": {
    "collapsed": true,
    "jupyter": {
     "outputs_hidden": true
    },
    "tags": []
   },
   "outputs": [
    {
     "data": {
      "image/png": "[encoded data removed]",
      "text/plain": [
       "<Figure size 1440x288 with 3 Axes>"
      ]
     },
     "metadata": {
      "needs_background": "light"
     },
     "output_type": "display_data"
    }
   ],
   "source": [
    "# Plot Jaccard index wrt different exclusion radius\n",
    "#plt.rcParams.update({'font.size': 8})\n",
    "\n",
    "plt.figure(figsize=(20,4))\n",
    "plt.suptitle(f\"Jaccard index with respect to different exclusion radius\", fontsize=12)\n",
    "\n",
    "\n",
    "ax = plt.subplot(1,3,1)\n",
    "ax.set_title(\"Puff class\")\n",
    "plt.ylim([0, 1])\n",
    "plt.plot(exclusion_radius_list, ious_puffs)\n",
    "\n",
    "ax = plt.subplot(1,3,2)\n",
    "ax.set_title(\"Waves class\")\n",
    "plt.ylim([0, 1])\n",
    "plt.plot(exclusion_radius_list, ious_waves)\n",
    "\n",
    "ax = plt.subplot(1,3,3)\n",
    "ax.set_title(\"Sparks class\")\n",
    "plt.ylim([0, 1])\n",
    "plt.plot(exclusion_radius_list, ious_sparks)\n",
    "\n",
    "\n",
    "plt.show()"
   ]
  },
  {
   "cell_type": "code",
   "execution_count": 79,
   "metadata": {
    "collapsed": true,
    "jupyter": {
     "outputs_hidden": true
    },
    "tags": []
   },
   "outputs": [
    {
     "name": "stdout",
     "output_type": "stream",
     "text": [
      "IoUs puffs: [0.20890103174317864, 0.14459408432976714, 0.08126801152737752, 0.037353441136730156, 0.013306755737528283, 0.0021321961620469083, 7.474400179385604e-05, 0.0, 0.0, 0.0, 0.0]\n",
      "IoUs puffs: [1.0, 1.0, 1.0, 1.0, 1.0, 1.0, 1.0, 1.0, 1.0, 1.0, 1.0]\n",
      "IoUs puffs: [0.04723618090452261, 0.05264336917562724, 0.05791030064070971, 0.06230116648992577, 0.06536856745479833, 0.06762589928057554, 0.06909732431637754, 0.07004470938897168, 0.07078313253012049, 0.07219662058371736, 0.07413249211356467]\n"
     ]
    }
   ],
   "source": [
    "print(f\"IoUs puffs: {ious_puffs}\")\n",
    "print(f\"IoUs puffs: {ious_waves}\")\n",
    "print(f\"IoUs puffs: {ious_sparks}\")"
   ]
  },
  {
   "cell_type": "markdown",
   "metadata": {
    "tags": []
   },
   "source": [
    "## Evaluate all trainings on all videos"
   ]
  },
  {
   "cell_type": "code",
   "execution_count": 11,
   "metadata": {
    "tags": []
   },
   "outputs": [],
   "source": [
    "# parameters\n",
    "ignore_frames = 6\n",
    "\n",
    "t_detection = 0.5\n",
    "t_detection_sparks = 0.9\n",
    "\n",
    "min_radius_puffs = 4\n",
    "min_radius_waves = 10\n",
    "min_radius_sparks = 3\n",
    "\n",
    "exclusion_radius_list = [0,1,2,3,4,5,6,7,8,9,10]\n",
    "\n",
    "# each dictionary contains, for every training name, a list of IoU scores for all videos for all exclusion radius\n",
    "ious_sparks_all_trainings = {} # num trainings x num video x num exclusion radius\n",
    "ious_puffs_all_trainings = {}\n",
    "ious_waves_all_trainings = {}\n",
    "\n",
    "for training_name in training_names:\n",
    "    # get predictions\n",
    "    sparks_training = sparks[training_name]\n",
    "    puffs_training = puffs[training_name]\n",
    "    waves_training = waves[training_name]\n",
    "    \n",
    "    # get annotations\n",
    "    ys_training = ys[training_name]\n",
    "    \n",
    "    ious_puffs_all_video = []\n",
    "    ious_waves_all_video = []\n",
    "    ious_sparks_all_video = []\n",
    "    \n",
    "    for sparks_sample, puffs_sample, waves_sample, ys_sample in zip(sparks_training, puffs_training, waves_training, ys_training):\n",
    "        # get binary predictions and remove ignored frames\n",
    "        puffs_binary = process_puff_prediction(puffs_sample, \n",
    "                                               t_detection, \n",
    "                                               min_radius_puffs, \n",
    "                                               ignore_frames)\n",
    "        waves_binary = process_wave_prediction(waves_sample, \n",
    "                                               t_detection, \n",
    "                                               min_radius_waves, \n",
    "                                               ignore_frames)\n",
    "        sparks_binary = (process_spark_prediction(sparks_sample, \n",
    "                                                  t_detection=t_detection_sparks,\n",
    "                                                  min_radius=min_radius_sparks,\n",
    "                                                  ignore_frames=ignore_frames,\n",
    "                                                  return_clean_pred=True)) != 0 \n",
    "        \n",
    "        # get binary ys and remove ignored frames\n",
    "        ys_sparks_sample = empty_marginal_frames(np.where(ys_sample==1,1,0), ignore_frames)\n",
    "        ys_puffs_sample = empty_marginal_frames(np.where(ys_sample==3,1,0), ignore_frames)\n",
    "        ys_waves_sample = empty_marginal_frames(np.where(ys_sample==2,1,0), ignore_frames)\n",
    "        \n",
    "        \n",
    "        # compute IoU for some exclusion radius values\n",
    "        # puffs\n",
    "        ious_puffs = []\n",
    "        for radius in exclusion_radius_list:\n",
    "            ious_puffs.append(jaccard_score_exclusion_zone(ys_puffs_sample, puffs_binary, radius))\n",
    "            \n",
    "        ious_puffs_all_video.append(ious_puffs)\n",
    "\n",
    "        # waves\n",
    "        ious_waves = []\n",
    "        for radius in exclusion_radius_list:\n",
    "            ious_waves.append(jaccard_score_exclusion_zone(ys_waves_sample, waves_binary, radius))\n",
    "            \n",
    "        ious_waves_all_video.append(ious_waves)\n",
    "\n",
    "        # sparks\n",
    "        ious_sparks = []\n",
    "        for radius in exclusion_radius_list:\n",
    "            ious_sparks.append(jaccard_score_exclusion_zone(ys_sparks_sample, sparks_binary, radius, sparks=True))\n",
    "            \n",
    "        ious_sparks_all_video.append(ious_sparks)\n",
    "        \n",
    "    ious_sparks_all_trainings[training_name] = ious_sparks_all_video\n",
    "    ious_puffs_all_trainings[training_name] = ious_puffs_all_video\n",
    "    ious_waves_all_trainings[training_name] = ious_waves_all_video"
   ]
  },
  {
   "cell_type": "markdown",
   "metadata": {
    "tags": []
   },
   "source": [
    "### Compute average along videos of IoU for each exclusion radius for each training name"
   ]
  },
  {
   "cell_type": "code",
   "execution_count": 12,
   "metadata": {},
   "outputs": [],
   "source": [
    "ious_sparks_avg = {} # num training x num exclusion radius\n",
    "ious_puffs_avg = {}\n",
    "ious_waves_avg = {}\n",
    "\n",
    "for training_name in training_names:\n",
    "    num_videos = len(ious_sparks_all_trainings[training_name])\n",
    "    \n",
    "    ious_sparks_all_video = ious_sparks_all_trainings[training_name] # num videos x num exclusion radius\n",
    "    ious_puffs_all_video = ious_puffs_all_trainings[training_name] \n",
    "    ious_waves_all_video = ious_waves_all_trainings[training_name] \n",
    "    \n",
    "    ious_sparks_avg[training_name] = np.sum(np.asarray(ious_sparks_all_video),0)/num_videos\n",
    "    ious_puffs_avg[training_name] = np.sum(np.asarray(ious_puffs_all_video),0)/num_videos\n",
    "    ious_waves_avg[training_name] = np.sum(np.asarray(ious_waves_all_video),0)/num_videos"
   ]
  },
  {
   "cell_type": "markdown",
   "metadata": {
    "tags": []
   },
   "source": [
    "### Plot average IoU for all trainings and all classes wrt to exclusion radius"
   ]
  },
  {
   "cell_type": "code",
   "execution_count": 13,
   "metadata": {},
   "outputs": [],
   "source": [
    "cols = pd.Index(exclusion_radius_list, name='Exclusion radius')\n",
    "classes = ['Sparks', 'Puffs', 'Waves']\n",
    "rows = pd.MultiIndex.from_product([classes, training_names], names=['Class', 'Training name'])\n",
    "\n",
    "data = [*ious_sparks_avg.values(),\n",
    "        *ious_puffs_avg.values(),\n",
    "        *ious_waves_avg.values()\n",
    "       ]\n",
    "\n",
    "df = pd.DataFrame(data, rows, cols)"
   ]
  },
  {
   "cell_type": "code",
   "execution_count": 14,
   "metadata": {},
   "outputs": [
    {
     "data": {
      "text/html": [
       "<div>\n",
       "<style scoped>\n",
       "    .dataframe tbody tr th:only-of-type {\n",
       "        vertical-align: middle;\n",
       "    }\n",
       "\n",
       "    .dataframe tbody tr th {\n",
       "        vertical-align: top;\n",
       "    }\n",
       "\n",
       "    .dataframe thead th {\n",
       "        text-align: right;\n",
       "    }\n",
       "</style>\n",
       "<table border=\"1\" class=\"dataframe\">\n",
       "  <thead>\n",
       "    <tr style=\"text-align: right;\">\n",
       "      <th></th>\n",
       "      <th>Exclusion radius</th>\n",
       "      <th>0</th>\n",
       "      <th>1</th>\n",
       "      <th>2</th>\n",
       "      <th>3</th>\n",
       "      <th>4</th>\n",
       "      <th>5</th>\n",
       "      <th>6</th>\n",
       "      <th>7</th>\n",
       "      <th>8</th>\n",
       "      <th>9</th>\n",
       "      <th>10</th>\n",
       "    </tr>\n",
       "    <tr>\n",
       "      <th>Class</th>\n",
       "      <th>Training name</th>\n",
       "      <th></th>\n",
       "      <th></th>\n",
       "      <th></th>\n",
       "      <th></th>\n",
       "      <th></th>\n",
       "      <th></th>\n",
       "      <th></th>\n",
       "      <th></th>\n",
       "      <th></th>\n",
       "      <th></th>\n",
       "      <th></th>\n",
       "    </tr>\n",
       "  </thead>\n",
       "  <tbody>\n",
       "    <tr>\n",
       "      <th rowspan=\"5\" valign=\"top\">Sparks</th>\n",
       "      <th>temporal_reduction</th>\n",
       "      <td>0.013768</td>\n",
       "      <td>0.014983</td>\n",
       "      <td>0.016290</td>\n",
       "      <td>0.017402</td>\n",
       "      <td>0.018239</td>\n",
       "      <td>0.018827</td>\n",
       "      <td>0.019242</td>\n",
       "      <td>0.019531</td>\n",
       "      <td>0.019812</td>\n",
       "      <td>0.020216</td>\n",
       "      <td>0.020705</td>\n",
       "    </tr>\n",
       "    <tr>\n",
       "      <th>normalize_whole_video</th>\n",
       "      <td>0.031568</td>\n",
       "      <td>0.032936</td>\n",
       "      <td>0.034666</td>\n",
       "      <td>0.036527</td>\n",
       "      <td>0.038286</td>\n",
       "      <td>0.039816</td>\n",
       "      <td>0.041089</td>\n",
       "      <td>0.042133</td>\n",
       "      <td>0.042948</td>\n",
       "      <td>0.043593</td>\n",
       "      <td>0.044167</td>\n",
       "    </tr>\n",
       "    <tr>\n",
       "      <th>reduce_first_layer_channels_64</th>\n",
       "      <td>0.029137</td>\n",
       "      <td>0.030524</td>\n",
       "      <td>0.032408</td>\n",
       "      <td>0.034686</td>\n",
       "      <td>0.037098</td>\n",
       "      <td>0.039382</td>\n",
       "      <td>0.041367</td>\n",
       "      <td>0.042917</td>\n",
       "      <td>0.044057</td>\n",
       "      <td>0.044860</td>\n",
       "      <td>0.045416</td>\n",
       "    </tr>\n",
       "    <tr>\n",
       "      <th>256_long_chunks_physio</th>\n",
       "      <td>0.048356</td>\n",
       "      <td>0.051430</td>\n",
       "      <td>0.055309</td>\n",
       "      <td>0.059401</td>\n",
       "      <td>0.063048</td>\n",
       "      <td>0.065982</td>\n",
       "      <td>0.068058</td>\n",
       "      <td>0.069435</td>\n",
       "      <td>0.070255</td>\n",
       "      <td>0.070739</td>\n",
       "      <td>0.071063</td>\n",
       "    </tr>\n",
       "    <tr>\n",
       "      <th>256_long_chunks_64_step_physio</th>\n",
       "      <td>0.050156</td>\n",
       "      <td>0.053397</td>\n",
       "      <td>0.057603</td>\n",
       "      <td>0.062086</td>\n",
       "      <td>0.066058</td>\n",
       "      <td>0.069086</td>\n",
       "      <td>0.071159</td>\n",
       "      <td>0.072490</td>\n",
       "      <td>0.073365</td>\n",
       "      <td>0.073904</td>\n",
       "      <td>0.074222</td>\n",
       "    </tr>\n",
       "    <tr>\n",
       "      <th rowspan=\"5\" valign=\"top\">Puffs</th>\n",
       "      <th>temporal_reduction</th>\n",
       "      <td>0.192403</td>\n",
       "      <td>0.195391</td>\n",
       "      <td>0.193384</td>\n",
       "      <td>0.193276</td>\n",
       "      <td>0.195698</td>\n",
       "      <td>0.198445</td>\n",
       "      <td>0.201277</td>\n",
       "      <td>0.206332</td>\n",
       "      <td>0.212682</td>\n",
       "      <td>0.216564</td>\n",
       "      <td>0.215898</td>\n",
       "    </tr>\n",
       "    <tr>\n",
       "      <th>normalize_whole_video</th>\n",
       "      <td>0.115751</td>\n",
       "      <td>0.111523</td>\n",
       "      <td>0.106251</td>\n",
       "      <td>0.100328</td>\n",
       "      <td>0.093841</td>\n",
       "      <td>0.086939</td>\n",
       "      <td>0.079996</td>\n",
       "      <td>0.073299</td>\n",
       "      <td>0.066526</td>\n",
       "      <td>0.059440</td>\n",
       "      <td>0.051912</td>\n",
       "    </tr>\n",
       "    <tr>\n",
       "      <th>reduce_first_layer_channels_64</th>\n",
       "      <td>0.142396</td>\n",
       "      <td>0.142846</td>\n",
       "      <td>0.140518</td>\n",
       "      <td>0.136384</td>\n",
       "      <td>0.130460</td>\n",
       "      <td>0.123086</td>\n",
       "      <td>0.114860</td>\n",
       "      <td>0.105952</td>\n",
       "      <td>0.096588</td>\n",
       "      <td>0.086594</td>\n",
       "      <td>0.075689</td>\n",
       "    </tr>\n",
       "    <tr>\n",
       "      <th>256_long_chunks_physio</th>\n",
       "      <td>0.179951</td>\n",
       "      <td>0.187673</td>\n",
       "      <td>0.193554</td>\n",
       "      <td>0.199717</td>\n",
       "      <td>0.205327</td>\n",
       "      <td>0.209653</td>\n",
       "      <td>0.212181</td>\n",
       "      <td>0.212361</td>\n",
       "      <td>0.210272</td>\n",
       "      <td>0.206999</td>\n",
       "      <td>0.203451</td>\n",
       "    </tr>\n",
       "    <tr>\n",
       "      <th>256_long_chunks_64_step_physio</th>\n",
       "      <td>0.192656</td>\n",
       "      <td>0.204125</td>\n",
       "      <td>0.210341</td>\n",
       "      <td>0.213665</td>\n",
       "      <td>0.214708</td>\n",
       "      <td>0.215273</td>\n",
       "      <td>0.215547</td>\n",
       "      <td>0.214996</td>\n",
       "      <td>0.213770</td>\n",
       "      <td>0.212277</td>\n",
       "      <td>0.210410</td>\n",
       "    </tr>\n",
       "    <tr>\n",
       "      <th rowspan=\"5\" valign=\"top\">Waves</th>\n",
       "      <th>temporal_reduction</th>\n",
       "      <td>0.789790</td>\n",
       "      <td>0.792825</td>\n",
       "      <td>0.793795</td>\n",
       "      <td>0.793387</td>\n",
       "      <td>0.791436</td>\n",
       "      <td>0.787650</td>\n",
       "      <td>0.782408</td>\n",
       "      <td>0.776009</td>\n",
       "      <td>0.769440</td>\n",
       "      <td>0.764413</td>\n",
       "      <td>0.761052</td>\n",
       "    </tr>\n",
       "    <tr>\n",
       "      <th>normalize_whole_video</th>\n",
       "      <td>0.333218</td>\n",
       "      <td>0.332681</td>\n",
       "      <td>0.332053</td>\n",
       "      <td>0.331322</td>\n",
       "      <td>0.330495</td>\n",
       "      <td>0.329595</td>\n",
       "      <td>0.328629</td>\n",
       "      <td>0.327588</td>\n",
       "      <td>0.326449</td>\n",
       "      <td>0.325202</td>\n",
       "      <td>0.323825</td>\n",
       "    </tr>\n",
       "    <tr>\n",
       "      <th>reduce_first_layer_channels_64</th>\n",
       "      <td>0.346097</td>\n",
       "      <td>0.346763</td>\n",
       "      <td>0.347260</td>\n",
       "      <td>0.347613</td>\n",
       "      <td>0.347826</td>\n",
       "      <td>0.347932</td>\n",
       "      <td>0.347946</td>\n",
       "      <td>0.347905</td>\n",
       "      <td>0.347784</td>\n",
       "      <td>0.347565</td>\n",
       "      <td>0.347174</td>\n",
       "    </tr>\n",
       "    <tr>\n",
       "      <th>256_long_chunks_physio</th>\n",
       "      <td>0.760408</td>\n",
       "      <td>0.760485</td>\n",
       "      <td>0.760356</td>\n",
       "      <td>0.760043</td>\n",
       "      <td>0.759509</td>\n",
       "      <td>0.758743</td>\n",
       "      <td>0.757795</td>\n",
       "      <td>0.756679</td>\n",
       "      <td>0.755320</td>\n",
       "      <td>0.753696</td>\n",
       "      <td>0.751809</td>\n",
       "    </tr>\n",
       "    <tr>\n",
       "      <th>256_long_chunks_64_step_physio</th>\n",
       "      <td>0.724859</td>\n",
       "      <td>0.725226</td>\n",
       "      <td>0.725274</td>\n",
       "      <td>0.725052</td>\n",
       "      <td>0.724616</td>\n",
       "      <td>0.723892</td>\n",
       "      <td>0.722873</td>\n",
       "      <td>0.721618</td>\n",
       "      <td>0.720155</td>\n",
       "      <td>0.718546</td>\n",
       "      <td>0.716747</td>\n",
       "    </tr>\n",
       "  </tbody>\n",
       "</table>\n",
       "</div>"
      ],
      "text/plain": [
       "Exclusion radius                             0         1         2         3   \\\n",
       "Class  Training name                                                            \n",
       "Sparks temporal_reduction              0.013768  0.014983  0.016290  0.017402   \n",
       "       normalize_whole_video           0.031568  0.032936  0.034666  0.036527   \n",
       "       reduce_first_layer_channels_64  0.029137  0.030524  0.032408  0.034686   \n",
       "       256_long_chunks_physio          0.048356  0.051430  0.055309  0.059401   \n",
       "       256_long_chunks_64_step_physio  0.050156  0.053397  0.057603  0.062086   \n",
       "Puffs  temporal_reduction              0.192403  0.195391  0.193384  0.193276   \n",
       "       normalize_whole_video           0.115751  0.111523  0.106251  0.100328   \n",
       "       reduce_first_layer_channels_64  0.142396  0.142846  0.140518  0.136384   \n",
       "       256_long_chunks_physio          0.179951  0.187673  0.193554  0.199717   \n",
       "       256_long_chunks_64_step_physio  0.192656  0.204125  0.210341  0.213665   \n",
       "Waves  temporal_reduction              0.789790  0.792825  0.793795  0.793387   \n",
       "       normalize_whole_video           0.333218  0.332681  0.332053  0.331322   \n",
       "       reduce_first_layer_channels_64  0.346097  0.346763  0.347260  0.347613   \n",
       "       256_long_chunks_physio          0.760408  0.760485  0.760356  0.760043   \n",
       "       256_long_chunks_64_step_physio  0.724859  0.725226  0.725274  0.725052   \n",
       "\n",
       "Exclusion radius                             4         5         6         7   \\\n",
       "Class  Training name                                                            \n",
       "Sparks temporal_reduction              0.018239  0.018827  0.019242  0.019531   \n",
       "       normalize_whole_video           0.038286  0.039816  0.041089  0.042133   \n",
       "       reduce_first_layer_channels_64  0.037098  0.039382  0.041367  0.042917   \n",
       "       256_long_chunks_physio          0.063048  0.065982  0.068058  0.069435   \n",
       "       256_long_chunks_64_step_physio  0.066058  0.069086  0.071159  0.072490   \n",
       "Puffs  temporal_reduction              0.195698  0.198445  0.201277  0.206332   \n",
       "       normalize_whole_video           0.093841  0.086939  0.079996  0.073299   \n",
       "       reduce_first_layer_channels_64  0.130460  0.123086  0.114860  0.105952   \n",
       "       256_long_chunks_physio          0.205327  0.209653  0.212181  0.212361   \n",
       "       256_long_chunks_64_step_physio  0.214708  0.215273  0.215547  0.214996   \n",
       "Waves  temporal_reduction              0.791436  0.787650  0.782408  0.776009   \n",
       "       normalize_whole_video           0.330495  0.329595  0.328629  0.327588   \n",
       "       reduce_first_layer_channels_64  0.347826  0.347932  0.347946  0.347905   \n",
       "       256_long_chunks_physio          0.759509  0.758743  0.757795  0.756679   \n",
       "       256_long_chunks_64_step_physio  0.724616  0.723892  0.722873  0.721618   \n",
       "\n",
       "Exclusion radius                             8         9         10  \n",
       "Class  Training name                                                 \n",
       "Sparks temporal_reduction              0.019812  0.020216  0.020705  \n",
       "       normalize_whole_video           0.042948  0.043593  0.044167  \n",
       "       reduce_first_layer_channels_64  0.044057  0.044860  0.045416  \n",
       "       256_long_chunks_physio          0.070255  0.070739  0.071063  \n",
       "       256_long_chunks_64_step_physio  0.073365  0.073904  0.074222  \n",
       "Puffs  temporal_reduction              0.212682  0.216564  0.215898  \n",
       "       normalize_whole_video           0.066526  0.059440  0.051912  \n",
       "       reduce_first_layer_channels_64  0.096588  0.086594  0.075689  \n",
       "       256_long_chunks_physio          0.210272  0.206999  0.203451  \n",
       "       256_long_chunks_64_step_physio  0.213770  0.212277  0.210410  \n",
       "Waves  temporal_reduction              0.769440  0.764413  0.761052  \n",
       "       normalize_whole_video           0.326449  0.325202  0.323825  \n",
       "       reduce_first_layer_channels_64  0.347784  0.347565  0.347174  \n",
       "       256_long_chunks_physio          0.755320  0.753696  0.751809  \n",
       "       256_long_chunks_64_step_physio  0.720155  0.718546  0.716747  "
      ]
     },
     "metadata": {},
     "output_type": "display_data"
    }
   ],
   "source": [
    "display(df)"
   ]
  },
  {
   "cell_type": "code",
   "execution_count": 15,
   "metadata": {
    "tags": []
   },
   "outputs": [
    {
     "data": {
      "text/plain": [
       "Text(0.5, 0, 'Exclusion radius')"
      ]
     },
     "execution_count": 15,
     "metadata": {},
     "output_type": "execute_result"
    },
    {
     "data": {
      "image/png": "[encoded data removed]",
      "text/plain": [
       "<Figure size 1440x864 with 4 Axes>"
      ]
     },
     "metadata": {
      "needs_background": "light"
     },
     "output_type": "display_data"
    }
   ],
   "source": [
    "fig, axs = plt.subplots(1, 3, sharex=True, figsize=(20,12))\n",
    "fig.add_subplot(111, frameon=False)\n",
    "\n",
    "for training_name in training_names:\n",
    "    axs[0].plot(exclusion_radius_list, ious_sparks_avg[training_name], label=training_name)\n",
    "           \n",
    "axs[0].set_title('Sparks IoU')\n",
    "axs[0].set_ylim([0,1])\n",
    "axs[0].legend(shadow=True, fancybox=True)\n",
    "\n",
    "for training_name in training_names:\n",
    "    axs[1].plot(exclusion_radius_list, ious_puffs_avg[training_name], label=training_name)\n",
    "\n",
    "axs[1].set_title('Puffs IoU')\n",
    "axs[1].set_ylim([0,1])\n",
    "axs[1].legend(shadow=True, fancybox=True)\n",
    "\n",
    "for training_name in training_names:\n",
    "    axs[2].plot(exclusion_radius_list, ious_waves_avg[training_name], label=training_name)\n",
    "\n",
    "axs[2].set_title('Waves IoU')\n",
    "axs[2].set_ylim([0,1])\n",
    "axs[2].legend(shadow=True, fancybox=True)\n",
    "\n",
    "plt.tick_params(labelcolor='none', which='both', top=False, bottom=False, left=False, right=False)\n",
    "plt.xlabel(\"Exclusion radius\")"
   ]
  },
  {
   "cell_type": "markdown",
   "metadata": {
    "jp-MarkdownHeadingCollapsed": true,
    "tags": []
   },
   "source": [
    "## Plot average IoU for different minimal event radius (just for one training)"
   ]
  },
  {
   "cell_type": "code",
   "execution_count": 9,
   "metadata": {},
   "outputs": [],
   "source": [
    "# set sample training\n",
    "training_name = training_names[0]\n",
    "\n",
    "# parameters\n",
    "ignore_frames = 6\n",
    "\n",
    "t_detection = 0.5\n",
    "t_detection_sparks = 0.9\n",
    "\n",
    "min_radius = [0,1,2,3,4]#,5,6,7,8,9,10]\n",
    "\n",
    "exclusion_radius_list = [0,1,2,3,4,5,6,7,8,9,10]\n",
    "\n",
    "# each dictionary contains, for every minimal event radius, a list of IoU scores averaged on all videos for all exclusion radius\n",
    "ious_sparks_all_radius = {} # num min event radius x num ious_sparks_avg_radiususion radius\n",
    "ious_puffs_all_radius = {}\n",
    "ious_waves_all_radius = {}\n",
    "\n",
    "for r in min_radius:\n",
    "    # get predictions\n",
    "    sparks_training = sparks[training_name]\n",
    "    puffs_training = puffs[training_name]\n",
    "    waves_training = waves[training_name]\n",
    "    \n",
    "    # get annotations\n",
    "    ys_training = ys[training_name]\n",
    "    \n",
    "    ious_puffs_all_video = []\n",
    "    ious_waves_all_video = []\n",
    "    ious_sparks_all_video = []\n",
    "    \n",
    "    for sparks_sample, puffs_sample, waves_sample, ys_sample in zip(sparks_training, puffs_training, waves_training, ys_training):\n",
    "        # get binary predictions and remove ignored frames\n",
    "        puffs_binary = process_puff_prediction(puffs_sample, \n",
    "                                               t_detection, \n",
    "                                               r, \n",
    "                                               ignore_frames)\n",
    "        waves_binary = process_wave_prediction(waves_sample, \n",
    "                                               t_detection, \n",
    "                                               r, \n",
    "                                               ignore_frames)\n",
    "        sparks_binary = (process_spark_prediction(sparks_sample, \n",
    "                                                  t_detection=t_detection_sparks,\n",
    "                                                  min_radius=r,\n",
    "                                                  ignore_frames=ignore_frames,\n",
    "                                                  return_clean_pred=True)) != 0 \n",
    "        \n",
    "        # get binary ys and remove ignored frames\n",
    "        ys_sparks_sample = empty_marginal_frames(np.where(ys_sample==1,1,0), ignore_frames)\n",
    "        ys_puffs_sample = empty_marginal_frames(np.where(ys_sample==3,1,0), ignore_frames)\n",
    "        ys_waves_sample = empty_marginal_frames(np.where(ys_sample==2,1,0), ignore_frames)\n",
    "        \n",
    "        \n",
    "        # compute IoU for some exclusion radius values\n",
    "        # puffs\n",
    "        ious_puffs = []\n",
    "        for radius in exclusion_radius_list:\n",
    "            ious_puffs.append(jaccard_score_exclusion_zone(ys_puffs_sample, puffs_binary, radius))\n",
    "            \n",
    "        ious_puffs_all_video.append(ious_puffs)\n",
    "\n",
    "        # waves\n",
    "        ious_waves = []\n",
    "        for radius in exclusion_radius_list:\n",
    "            ious_waves.append(jaccard_score_exclusion_zone(ys_waves_sample, waves_binary, radius))\n",
    "            \n",
    "        ious_waves_all_video.append(ious_waves)\n",
    "\n",
    "        # sparks\n",
    "        ious_sparks = []\n",
    "        for radius in exclusion_radius_list:\n",
    "            ious_sparks.append(jaccard_score_exclusion_zone(ys_sparks_sample, sparks_binary, radius, sparks=True))\n",
    "            \n",
    "        ious_sparks_all_video.append(ious_sparks)\n",
    "        \n",
    "    ious_sparks_all_radius[r] = ious_sparks_all_video\n",
    "    ious_puffs_all_radius[r] = ious_puffs_all_video\n",
    "    ious_waves_all_radius[r] = ious_waves_all_video"
   ]
  },
  {
   "cell_type": "markdown",
   "metadata": {
    "tags": []
   },
   "source": [
    "### Compute average along videos of IoU for each exclusion radius for each minimal event radius"
   ]
  },
  {
   "cell_type": "code",
   "execution_count": 10,
   "metadata": {},
   "outputs": [],
   "source": [
    "ious_sparks_avg_radius = {} # num min event radius x num exclusion radius\n",
    "ious_puffs_avg_radius = {}\n",
    "ious_waves_avg_radius = {}\n",
    "\n",
    "for r in min_radius:\n",
    "    num_videos = len(ious_sparks_all_radius[r])\n",
    "    \n",
    "    ious_sparks_all_video = ious_sparks_all_radius[r] # num videos x num exclusion radius\n",
    "    ious_puffs_all_video = ious_puffs_all_radius[r] \n",
    "    ious_waves_all_video = ious_waves_all_radius[r] \n",
    "    \n",
    "    ious_sparks_avg_radius[r] = np.sum(np.asarray(ious_sparks_all_video),0)/num_videos\n",
    "    ious_puffs_avg_radius[r] = np.sum(np.asarray(ious_puffs_all_video),0)/num_videos\n",
    "    ious_waves_avg_radius[r] = np.sum(np.asarray(ious_waves_all_video),0)/num_videos"
   ]
  },
  {
   "cell_type": "markdown",
   "metadata": {
    "tags": []
   },
   "source": [
    "### Plot average IoU for all minimal event radius and all classes wrt to exclusion radius"
   ]
  },
  {
   "cell_type": "code",
   "execution_count": 11,
   "metadata": {},
   "outputs": [],
   "source": [
    "cols = pd.Index(exclusion_radius_list, name='Exclusion radius')\n",
    "classes = ['Sparks', 'Puffs', 'Waves']\n",
    "rows = pd.MultiIndex.from_product([classes, min_radius], names=['Class', 'Minimal event radius'])\n",
    "\n",
    "data = [*ious_sparks_avg_radius.values(),\n",
    "        *ious_puffs_avg_radius.values(),\n",
    "        *ious_waves_avg_radius.values()\n",
    "       ]\n",
    "\n",
    "df = pd.DataFrame(data, rows, cols)"
   ]
  },
  {
   "cell_type": "code",
   "execution_count": 12,
   "metadata": {},
   "outputs": [
    {
     "data": {
      "text/html": [
       "<div>\n",
       "<style scoped>\n",
       "    .dataframe tbody tr th:only-of-type {\n",
       "        vertical-align: middle;\n",
       "    }\n",
       "\n",
       "    .dataframe tbody tr th {\n",
       "        vertical-align: top;\n",
       "    }\n",
       "\n",
       "    .dataframe thead th {\n",
       "        text-align: right;\n",
       "    }\n",
       "</style>\n",
       "<table border=\"1\" class=\"dataframe\">\n",
       "  <thead>\n",
       "    <tr style=\"text-align: right;\">\n",
       "      <th></th>\n",
       "      <th>Exclusion radius</th>\n",
       "      <th>0</th>\n",
       "      <th>1</th>\n",
       "      <th>2</th>\n",
       "      <th>3</th>\n",
       "      <th>4</th>\n",
       "      <th>5</th>\n",
       "      <th>6</th>\n",
       "      <th>7</th>\n",
       "      <th>8</th>\n",
       "      <th>9</th>\n",
       "      <th>10</th>\n",
       "    </tr>\n",
       "    <tr>\n",
       "      <th>Class</th>\n",
       "      <th>Minimal event radius</th>\n",
       "      <th></th>\n",
       "      <th></th>\n",
       "      <th></th>\n",
       "      <th></th>\n",
       "      <th></th>\n",
       "      <th></th>\n",
       "      <th></th>\n",
       "      <th></th>\n",
       "      <th></th>\n",
       "      <th></th>\n",
       "      <th></th>\n",
       "    </tr>\n",
       "  </thead>\n",
       "  <tbody>\n",
       "    <tr>\n",
       "      <th>Sparks</th>\n",
       "      <th>0</th>\n",
       "      <td>0.078100</td>\n",
       "      <td>0.095190</td>\n",
       "      <td>0.105503</td>\n",
       "      <td>0.111145</td>\n",
       "      <td>0.114678</td>\n",
       "      <td>0.116567</td>\n",
       "      <td>0.117518</td>\n",
       "      <td>0.117985</td>\n",
       "      <td>0.118583</td>\n",
       "      <td>0.119080</td>\n",
       "      <td>0.119624</td>\n",
       "    </tr>\n",
       "    <tr>\n",
       "      <th>Puffs</th>\n",
       "      <th>0</th>\n",
       "      <td>0.192554</td>\n",
       "      <td>0.195037</td>\n",
       "      <td>0.193005</td>\n",
       "      <td>0.192940</td>\n",
       "      <td>0.195281</td>\n",
       "      <td>0.197851</td>\n",
       "      <td>0.200326</td>\n",
       "      <td>0.205071</td>\n",
       "      <td>0.211045</td>\n",
       "      <td>0.214472</td>\n",
       "      <td>0.213222</td>\n",
       "    </tr>\n",
       "    <tr>\n",
       "      <th>Waves</th>\n",
       "      <th>0</th>\n",
       "      <td>0.791240</td>\n",
       "      <td>0.794321</td>\n",
       "      <td>0.795324</td>\n",
       "      <td>0.794920</td>\n",
       "      <td>0.792891</td>\n",
       "      <td>0.788923</td>\n",
       "      <td>0.783481</td>\n",
       "      <td>0.776851</td>\n",
       "      <td>0.769958</td>\n",
       "      <td>0.764430</td>\n",
       "      <td>0.760443</td>\n",
       "    </tr>\n",
       "  </tbody>\n",
       "</table>\n",
       "</div>"
      ],
      "text/plain": [
       "Exclusion radius                   0         1         2         3         4   \\\n",
       "Class  Minimal event radius                                                     \n",
       "Sparks 0                     0.078100  0.095190  0.105503  0.111145  0.114678   \n",
       "Puffs  0                     0.192554  0.195037  0.193005  0.192940  0.195281   \n",
       "Waves  0                     0.791240  0.794321  0.795324  0.794920  0.792891   \n",
       "\n",
       "Exclusion radius                   5         6         7         8         9   \\\n",
       "Class  Minimal event radius                                                     \n",
       "Sparks 0                     0.116567  0.117518  0.117985  0.118583  0.119080   \n",
       "Puffs  0                     0.197851  0.200326  0.205071  0.211045  0.214472   \n",
       "Waves  0                     0.788923  0.783481  0.776851  0.769958  0.764430   \n",
       "\n",
       "Exclusion radius                   10  \n",
       "Class  Minimal event radius            \n",
       "Sparks 0                     0.119624  \n",
       "Puffs  0                     0.213222  \n",
       "Waves  0                     0.760443  "
      ]
     },
     "metadata": {},
     "output_type": "display_data"
    }
   ],
   "source": [
    "display(df)"
   ]
  },
  {
   "cell_type": "code",
   "execution_count": 15,
   "metadata": {
    "tags": []
   },
   "outputs": [
    {
     "data": {
      "text/plain": [
       "Text(0.5, 0, 'Exclusion radius')"
      ]
     },
     "execution_count": 15,
     "metadata": {},
     "output_type": "execute_result"
    },
    {
     "data": {
      "image/png": "[encoded data removed]",
      "text/plain": [
       "<Figure size 1440x864 with 4 Axes>"
      ]
     },
     "metadata": {
      "needs_background": "light"
     },
     "output_type": "display_data"
    }
   ],
   "source": [
    "fig, axs = plt.subplots(1, 3, sharex=True, figsize=(20,12))\n",
    "fig.add_subplot(111, frameon=False)\n",
    "\n",
    "for r in min_radius:\n",
    "    axs[0].plot(exclusion_radius_list, ious_sparks_avg_radius[r], label=r)\n",
    "           \n",
    "axs[0].set_title('Sparks IoU')\n",
    "#axs[0].set_ylim([0,1])\n",
    "axs[0].legend(shadow=True, fancybox=True)\n",
    "\n",
    "for r in min_radius:\n",
    "    axs[1].plot(exclusion_radius_list, ious_puffs_avg_radius[r], label=r)\n",
    "\n",
    "axs[1].set_title('Puffs IoU')\n",
    "#axs[1].set_ylim([0,1])\n",
    "axs[1].legend(shadow=True, fancybox=True)\n",
    "\n",
    "for r in min_radius:\n",
    "    axs[2].plot(exclusion_radius_list, ious_waves_avg_radius[r], label=r)\n",
    "\n",
    "axs[2].set_title('Waves IoU')\n",
    "#axs[2].set_ylim([0,1])\n",
    "axs[2].legend(shadow=True, fancybox=True)\n",
    "\n",
    "plt.tick_params(labelcolor='none', which='both', top=False, bottom=False, left=False, right=False)\n",
    "plt.xlabel(\"Exclusion radius\")"
   ]
  },
  {
   "cell_type": "markdown",
   "metadata": {
    "tags": []
   },
   "source": [
    "## Sparks metrics (TODO)"
   ]
  },
  {
   "cell_type": "code",
   "execution_count": null,
   "metadata": {},
   "outputs": [],
   "source": [
    "def compute_prec_rec(annotations, preds, thresholds, ignore_frames=0,\n",
    "                     min_radius=3, match_distance=6):\n",
    "    # annotations: video of sparks segmentation w/ values in {0,1}\n",
    "    # preds: video of sparks preds w/ values in [0,1]\n",
    "    # thresholds : list of thresholds applied to the preds over which events are kept\n",
    "    # min_radius : minimal \"radius\" of a valid event\n",
    "    # match_distance : maximal distance between annotation and pred\n",
    "    # returns a list of Metrics tuples corresponding to thresholds and AUC\n",
    "\n",
    "    if ignore_frames != 0:\n",
    "        annotations = empty_marginal_frames(annotations, ignore_frames)\n",
    "        preds = empty_marginal_frames(preds, ignore_frames)\n",
    "\n",
    "    metrics = {} # list of 'Metrics' tuples: precision, recall, tp, tp_fp, tp_fn\n",
    "                 # indexed by threshold value\n",
    "\n",
    "    coords_true = nonmaxima_suppression(annotations)\n",
    "\n",
    "    # compute prec and rec for every threshold\n",
    "    for t in thresholds:\n",
    "        coords_preds = process_spark_prediction(preds,\n",
    "                                                t_detection=t,\n",
    "                                                min_radius=min_radius)\n",
    "\n",
    "        prec_rec = Metrics(*correspondences_precision_recall(coords_true,\n",
    "                                                             coords_preds,\n",
    "                                                             match_distance))\n",
    "\n",
    "        metrics[t] = prec_rec\n",
    "        #print(\"threshold\", t)\n",
    "        #prec.append(prec_rec.precision)\n",
    "        #rec.append(prec_rec.recall)\n",
    "\n",
    "\n",
    "    # compute AUC for this sample\n",
    "    #area_under_curve = auc(rec, prec)\n",
    "\n",
    "    return metrics#, area_under_curve\n",
    "\n",
    "def reduce_metrics_thresholds(results):\n",
    "    # apply metrics reduction to results corresponding to different thresholds\n",
    "    # results is a list of dicts\n",
    "    # thresholds is the list of used thresholds\n",
    "    # returns dicts of reduced 'Metrics' instances for every threshold\n",
    "\n",
    "    # list of dicts to dict of lists\n",
    "    results_t = {k: [dic[k] for dic in results] for k in results[0]}\n",
    "\n",
    "    reduced_metrics = {}\n",
    "    prec = {}\n",
    "    rec = {}\n",
    "\n",
    "    for t, res in results_t.items():\n",
    "        # res is a list of 'Metrics' of all videos wrt a threshold\n",
    "        reduced_res = reduce_metrics(res)\n",
    "\n",
    "        reduced_metrics[t] = reduced_res\n",
    "        prec[t] = reduced_res.precision\n",
    "        rec[t] = reduced_res.recall\n",
    "\n",
    "    # compute area under the curve for reduced metrics\n",
    "    #print(\"REC\",rec)\n",
    "    #print(\"PREC\",prec)\n",
    "    #area_under_curve = roc_auc_score(rec, prec)\n",
    "    #print(\"AREA UNDER CURVE\", area_under_curve)\n",
    "\n",
    "    return reduced_metrics, prec, rec, None"
   ]
  },
  {
   "cell_type": "code",
   "execution_count": 90,
   "metadata": {},
   "outputs": [],
   "source": [
    "# parameters\n",
    "ignore_frames = 0\n",
    "\n",
    "t_detection_sparks = [0.7,0.8,0.9,0.95,0.99,0.999]\n",
    "\n",
    "min_radius_sparks = 3\n",
    "match_distance = 6\n",
    "\n",
    "# each dictionary contains, for every training name, a list of prec rec scores for all videos for all thresholds\n",
    "prec_rec_sparks_all_trainings = {} # num trainings x num video x num thresholds\n",
    "\n",
    "for training_name in training_names:\n",
    "    # get predictions\n",
    "    sparks_training = sparks[training_name]\n",
    "    \n",
    "    # get annotations\n",
    "    ys_training = ys[training_name]\n",
    "    \n",
    "    prec_rec_sparks_all_video = []\n",
    "    \n",
    "    for sparks_sample, ys_sample in zip(sparks_training, ys_training):\n",
    "        # get binary ys \n",
    "        ys_sparks_sample = np.where(ys_sample==1,1.0,0.0)\n",
    "        \n",
    "        # compute precision and recall for some thresholds and remove ignored frames\n",
    "        prec_rec_all_t = compute_prec_rec(ys_sparks_sample, sparks_sample, \n",
    "                                          t_detection_sparks, ignore_frames,\n",
    "                                          min_radius_sparks, match_distance\n",
    "                                         ) # dict indexed by threshold value\n",
    "        prec_rec_sparks_all_video.append(prec_rec_all_t)\n",
    "        \n",
    "    prec_rec_sparks_all_trainings[training_name] = prec_rec_sparks_all_video"
   ]
  },
  {
   "cell_type": "markdown",
   "metadata": {},
   "source": [
    "### Average over all videos"
   ]
  },
  {
   "cell_type": "code",
   "execution_count": 92,
   "metadata": {},
   "outputs": [],
   "source": [
    "prec_rec_sparks_avg = {} # num training x num thresholds\n",
    "prec_avg = {}\n",
    "rec_avg = {}\n",
    "\n",
    "for training_name in training_names:\n",
    "    prec_rec_all_videos = prec_rec_sparks_all_trainings[training_name]\n",
    "    prec_rec_sparks_avg[training_name] = reduce_metrics_thresholds(prec_rec_all_videos)\n",
    "    prec_avg[training_name] = prec_rec_sparks_avg[training_name][1]\n",
    "    rec_avg[training_name] = prec_rec_sparks_avg[training_name][2]"
   ]
  },
  {
   "cell_type": "markdown",
   "metadata": {
    "tags": []
   },
   "source": [
    "### Dataframe and plots of results"
   ]
  },
  {
   "cell_type": "code",
   "execution_count": 93,
   "metadata": {},
   "outputs": [],
   "source": [
    "cols = pd.Index(t_detection_sparks, name='Detection threshold')\n",
    "metrics = ['Precision', 'Recall']\n",
    "rows = pd.MultiIndex.from_product([metrics, training_names], names=['Class', 'Training name'])\n",
    "\n",
    "data = [*prec_avg.values(),\n",
    "        *rec_avg.values()\n",
    "       ]\n",
    "\n",
    "df = pd.DataFrame(data, rows, cols)"
   ]
  },
  {
   "cell_type": "code",
   "execution_count": 94,
   "metadata": {},
   "outputs": [
    {
     "data": {
      "text/html": [
       "<div>\n",
       "<style scoped>\n",
       "    .dataframe tbody tr th:only-of-type {\n",
       "        vertical-align: middle;\n",
       "    }\n",
       "\n",
       "    .dataframe tbody tr th {\n",
       "        vertical-align: top;\n",
       "    }\n",
       "\n",
       "    .dataframe thead th {\n",
       "        text-align: right;\n",
       "    }\n",
       "</style>\n",
       "<table border=\"1\" class=\"dataframe\">\n",
       "  <thead>\n",
       "    <tr style=\"text-align: right;\">\n",
       "      <th></th>\n",
       "      <th>Detection threshold</th>\n",
       "      <th>0.700</th>\n",
       "      <th>0.800</th>\n",
       "      <th>0.900</th>\n",
       "      <th>0.950</th>\n",
       "      <th>0.990</th>\n",
       "      <th>0.999</th>\n",
       "    </tr>\n",
       "    <tr>\n",
       "      <th>Class</th>\n",
       "      <th>Training name</th>\n",
       "      <th></th>\n",
       "      <th></th>\n",
       "      <th></th>\n",
       "      <th></th>\n",
       "      <th></th>\n",
       "      <th></th>\n",
       "    </tr>\n",
       "  </thead>\n",
       "  <tbody>\n",
       "    <tr>\n",
       "      <th rowspan=\"5\" valign=\"top\">Precision</th>\n",
       "      <th>temporal_reduction</th>\n",
       "      <td>0.419355</td>\n",
       "      <td>0.488889</td>\n",
       "      <td>0.400000</td>\n",
       "      <td>0.347826</td>\n",
       "      <td>0.000000</td>\n",
       "      <td>1.000000</td>\n",
       "    </tr>\n",
       "    <tr>\n",
       "      <th>normalize_whole_video</th>\n",
       "      <td>0.190769</td>\n",
       "      <td>0.204301</td>\n",
       "      <td>0.226244</td>\n",
       "      <td>0.234286</td>\n",
       "      <td>0.318750</td>\n",
       "      <td>0.263158</td>\n",
       "    </tr>\n",
       "    <tr>\n",
       "      <th>reduce_first_layer_channels_64</th>\n",
       "      <td>0.141232</td>\n",
       "      <td>0.155022</td>\n",
       "      <td>0.173684</td>\n",
       "      <td>0.191626</td>\n",
       "      <td>0.273775</td>\n",
       "      <td>0.430556</td>\n",
       "    </tr>\n",
       "    <tr>\n",
       "      <th>256_long_chunks_physio</th>\n",
       "      <td>0.236256</td>\n",
       "      <td>0.248788</td>\n",
       "      <td>0.272727</td>\n",
       "      <td>0.297872</td>\n",
       "      <td>0.383399</td>\n",
       "      <td>0.650000</td>\n",
       "    </tr>\n",
       "    <tr>\n",
       "      <th>256_long_chunks_64_step_physio</th>\n",
       "      <td>0.277966</td>\n",
       "      <td>0.289091</td>\n",
       "      <td>0.308642</td>\n",
       "      <td>0.344186</td>\n",
       "      <td>0.440000</td>\n",
       "      <td>0.572816</td>\n",
       "    </tr>\n",
       "    <tr>\n",
       "      <th rowspan=\"5\" valign=\"top\">Recall</th>\n",
       "      <th>temporal_reduction</th>\n",
       "      <td>0.108333</td>\n",
       "      <td>0.091667</td>\n",
       "      <td>0.050000</td>\n",
       "      <td>0.033333</td>\n",
       "      <td>0.000000</td>\n",
       "      <td>0.000000</td>\n",
       "    </tr>\n",
       "    <tr>\n",
       "      <th>normalize_whole_video</th>\n",
       "      <td>0.486275</td>\n",
       "      <td>0.447059</td>\n",
       "      <td>0.392157</td>\n",
       "      <td>0.321569</td>\n",
       "      <td>0.200000</td>\n",
       "      <td>0.019608</td>\n",
       "    </tr>\n",
       "    <tr>\n",
       "      <th>reduce_first_layer_channels_64</th>\n",
       "      <td>0.584314</td>\n",
       "      <td>0.556863</td>\n",
       "      <td>0.517647</td>\n",
       "      <td>0.466667</td>\n",
       "      <td>0.372549</td>\n",
       "      <td>0.121569</td>\n",
       "    </tr>\n",
       "    <tr>\n",
       "      <th>256_long_chunks_physio</th>\n",
       "      <td>0.623529</td>\n",
       "      <td>0.603922</td>\n",
       "      <td>0.564706</td>\n",
       "      <td>0.494118</td>\n",
       "      <td>0.380392</td>\n",
       "      <td>0.101961</td>\n",
       "    </tr>\n",
       "    <tr>\n",
       "      <th>256_long_chunks_64_step_physio</th>\n",
       "      <td>0.643137</td>\n",
       "      <td>0.623529</td>\n",
       "      <td>0.588235</td>\n",
       "      <td>0.580392</td>\n",
       "      <td>0.474510</td>\n",
       "      <td>0.231373</td>\n",
       "    </tr>\n",
       "  </tbody>\n",
       "</table>\n",
       "</div>"
      ],
      "text/plain": [
       "Detection threshold                          0.700     0.800     0.900  \\\n",
       "Class     Training name                                                  \n",
       "Precision temporal_reduction              0.419355  0.488889  0.400000   \n",
       "          normalize_whole_video           0.190769  0.204301  0.226244   \n",
       "          reduce_first_layer_channels_64  0.141232  0.155022  0.173684   \n",
       "          256_long_chunks_physio          0.236256  0.248788  0.272727   \n",
       "          256_long_chunks_64_step_physio  0.277966  0.289091  0.308642   \n",
       "Recall    temporal_reduction              0.108333  0.091667  0.050000   \n",
       "          normalize_whole_video           0.486275  0.447059  0.392157   \n",
       "          reduce_first_layer_channels_64  0.584314  0.556863  0.517647   \n",
       "          256_long_chunks_physio          0.623529  0.603922  0.564706   \n",
       "          256_long_chunks_64_step_physio  0.643137  0.623529  0.588235   \n",
       "\n",
       "Detection threshold                          0.950     0.990     0.999  \n",
       "Class     Training name                                                 \n",
       "Precision temporal_reduction              0.347826  0.000000  1.000000  \n",
       "          normalize_whole_video           0.234286  0.318750  0.263158  \n",
       "          reduce_first_layer_channels_64  0.191626  0.273775  0.430556  \n",
       "          256_long_chunks_physio          0.297872  0.383399  0.650000  \n",
       "          256_long_chunks_64_step_physio  0.344186  0.440000  0.572816  \n",
       "Recall    temporal_reduction              0.033333  0.000000  0.000000  \n",
       "          normalize_whole_video           0.321569  0.200000  0.019608  \n",
       "          reduce_first_layer_channels_64  0.466667  0.372549  0.121569  \n",
       "          256_long_chunks_physio          0.494118  0.380392  0.101961  \n",
       "          256_long_chunks_64_step_physio  0.580392  0.474510  0.231373  "
      ]
     },
     "metadata": {},
     "output_type": "display_data"
    }
   ],
   "source": [
    "display(df)"
   ]
  },
  {
   "cell_type": "code",
   "execution_count": 95,
   "metadata": {},
   "outputs": [
    {
     "data": {
      "text/plain": [
       "dict_values([0.41935483870967744, 0.4888888888888889, 0.4, 0.34782608695652173, 0.0, 1.0])"
      ]
     },
     "execution_count": 95,
     "metadata": {},
     "output_type": "execute_result"
    }
   ],
   "source": [
    "prec_avg[training_names[0]].values()"
   ]
  },
  {
   "cell_type": "code",
   "execution_count": 96,
   "metadata": {},
   "outputs": [
    {
     "data": {
      "text/plain": [
       "Text(0.5, 0, 'Detection threshold')"
      ]
     },
     "execution_count": 96,
     "metadata": {},
     "output_type": "execute_result"
    },
    {
     "data": {
      "image/png": "[encoded data removed]",
      "text/plain": [
       "<Figure size 1440x864 with 3 Axes>"
      ]
     },
     "metadata": {
      "needs_background": "light"
     },
     "output_type": "display_data"
    }
   ],
   "source": [
    "fig, axs = plt.subplots(1, 2, sharex=True, figsize=(20,12))\n",
    "fig.add_subplot(111, frameon=False)\n",
    "\n",
    "for training_name in training_names:\n",
    "    axs[0].plot(t_detection_sparks, prec_avg[training_name].values(), label=training_name)\n",
    "           \n",
    "axs[0].set_title('Precision')\n",
    "axs[0].set_ylim([0,1])\n",
    "axs[0].legend(shadow=True, fancybox=True)\n",
    "\n",
    "for training_name in training_names:\n",
    "    axs[1].plot(t_detection_sparks, rec_avg[training_name].values(), label=training_name)\n",
    "\n",
    "axs[1].set_title('Recall')\n",
    "#axs[1].set_ylim([0,1])\n",
    "axs[1].legend(shadow=True, fancybox=True)\n",
    "\n",
    "plt.tick_params(labelcolor='none', which='both', top=False, bottom=False, left=False, right=False)\n",
    "plt.xlabel(\"Detection threshold\")"
   ]
  },
  {
   "cell_type": "code",
   "execution_count": null,
   "metadata": {},
   "outputs": [],
   "source": []
  }
 ],
 "metadata": {
  "kernelspec": {
   "display_name": "Python 3 (ipykernel)",
   "language": "python",
   "name": "python3"
  },
  "language_info": {
   "codemirror_mode": {
    "name": "ipython",
    "version": 3
   },
   "file_extension": ".py",
   "mimetype": "text/x-python",
   "name": "python",
   "nbconvert_exporter": "python",
   "pygments_lexer": "ipython3",
   "version": "3.8.8"
  }
 },
 "nbformat": 4,
 "nbformat_minor": 4
}
