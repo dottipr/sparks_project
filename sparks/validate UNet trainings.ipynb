{
 "cells": [
  {
   "cell_type": "markdown",
   "metadata": {},
   "source": [
    "15.12.2021\n",
    "\n",
    "Load a bunch of UNet predictions in folder `trainings_validation` and compute some metrics, plots, etc.\n",
    "\n",
    "Predictions are saved as:\n",
    "`{training_name}_{epoch}_{video_id}_{class}.tif`\n",
    "\n",
    "**Idea**: Use predictions to produce plots and tables to visualize the results."
   ]
  },
  {
   "cell_type": "code",
   "execution_count": 1,
   "metadata": {
    "tags": []
   },
   "outputs": [],
   "source": [
    "%load_ext autoreload\n",
    "%autoreload 2"
   ]
  },
  {
   "cell_type": "code",
   "execution_count": 1,
   "metadata": {},
   "outputs": [],
   "source": [
    "import pandas"
   ]
  },
  {
   "cell_type": "code",
   "execution_count": 2,
   "metadata": {
    "tags": []
   },
   "outputs": [
    {
     "ename": "ModuleNotFoundError",
     "evalue": "No module named 'torch'",
     "output_type": "error",
     "traceback": [
      "\u001b[0;31m---------------------------------------------------------------------------\u001b[0m",
      "\u001b[0;31mModuleNotFoundError\u001b[0m                       Traceback (most recent call last)",
      "\u001b[0;32m/scratch/local/16218621/ipykernel_11736/2978197917.py\u001b[0m in \u001b[0;36m<module>\u001b[0;34m\u001b[0m\n\u001b[1;32m     10\u001b[0m \u001b[0;32mimport\u001b[0m \u001b[0mmatplotlib\u001b[0m\u001b[0;34m.\u001b[0m\u001b[0mpyplot\u001b[0m \u001b[0;32mas\u001b[0m \u001b[0mplt\u001b[0m\u001b[0;34m\u001b[0m\u001b[0;34m\u001b[0m\u001b[0m\n\u001b[1;32m     11\u001b[0m \u001b[0;34m\u001b[0m\u001b[0m\n\u001b[0;32m---> 12\u001b[0;31m \u001b[0;32mimport\u001b[0m \u001b[0munet\u001b[0m\u001b[0;34m\u001b[0m\u001b[0;34m\u001b[0m\u001b[0m\n\u001b[0m\u001b[1;32m     13\u001b[0m from metrics_tools import (correspondences_precision_recall, \n\u001b[1;32m     14\u001b[0m                            \u001b[0mMetrics\u001b[0m\u001b[0;34m,\u001b[0m\u001b[0;34m\u001b[0m\u001b[0;34m\u001b[0m\u001b[0m\n",
      "\u001b[0;32m~/sparks/unet/__init__.py\u001b[0m in \u001b[0;36m<module>\u001b[0;34m\u001b[0m\n\u001b[1;32m      1\u001b[0m \u001b[0;34m\u001b[0m\u001b[0m\n\u001b[0;32m----> 2\u001b[0;31m \u001b[0;32mfrom\u001b[0m \u001b[0;34m.\u001b[0m\u001b[0mnetwork\u001b[0m \u001b[0;32mimport\u001b[0m \u001b[0;34m*\u001b[0m\u001b[0;34m\u001b[0m\u001b[0;34m\u001b[0m\u001b[0m\n\u001b[0m\u001b[1;32m      3\u001b[0m \u001b[0;32mfrom\u001b[0m \u001b[0;34m.\u001b[0m\u001b[0mtrainer\u001b[0m \u001b[0;32mimport\u001b[0m \u001b[0;34m*\u001b[0m\u001b[0;34m\u001b[0m\u001b[0;34m\u001b[0m\u001b[0m\n\u001b[1;32m      4\u001b[0m \u001b[0;32mfrom\u001b[0m \u001b[0;34m.\u001b[0m\u001b[0mutils\u001b[0m \u001b[0;32mimport\u001b[0m \u001b[0;34m*\u001b[0m\u001b[0;34m\u001b[0m\u001b[0;34m\u001b[0m\u001b[0m\n\u001b[1;32m      5\u001b[0m \u001b[0;32mfrom\u001b[0m \u001b[0;34m.\u001b[0m\u001b[0mvisualizer\u001b[0m \u001b[0;32mimport\u001b[0m \u001b[0;34m*\u001b[0m\u001b[0;34m\u001b[0m\u001b[0;34m\u001b[0m\u001b[0m\n",
      "\u001b[0;32m~/sparks/unet/network.py\u001b[0m in \u001b[0;36m<module>\u001b[0;34m\u001b[0m\n\u001b[1;32m      2\u001b[0m \u001b[0;32mimport\u001b[0m \u001b[0mnumpy\u001b[0m \u001b[0;32mas\u001b[0m \u001b[0mnp\u001b[0m\u001b[0;34m\u001b[0m\u001b[0;34m\u001b[0m\u001b[0m\n\u001b[1;32m      3\u001b[0m \u001b[0;34m\u001b[0m\u001b[0m\n\u001b[0;32m----> 4\u001b[0;31m \u001b[0;32mimport\u001b[0m \u001b[0mtorch\u001b[0m\u001b[0;34m\u001b[0m\u001b[0;34m\u001b[0m\u001b[0m\n\u001b[0m\u001b[1;32m      5\u001b[0m \u001b[0;32mimport\u001b[0m \u001b[0mtorch\u001b[0m\u001b[0;34m.\u001b[0m\u001b[0mnn\u001b[0m \u001b[0;32mas\u001b[0m \u001b[0mnn\u001b[0m\u001b[0;34m\u001b[0m\u001b[0;34m\u001b[0m\u001b[0m\n\u001b[1;32m      6\u001b[0m \u001b[0;34m\u001b[0m\u001b[0m\n",
      "\u001b[0;31mModuleNotFoundError\u001b[0m: No module named 'torch'"
     ]
    }
   ],
   "source": [
    "import numpy as np\n",
    "import glob\n",
    "import os\n",
    "import imageio\n",
    "\n",
    "from scipy.ndimage.morphology import binary_dilation, binary_erosion\n",
    "from sklearn.metrics import jaccard_score, f1_score\n",
    "\n",
    "import pandas as pd\n",
    "import matplotlib.pyplot as plt\n",
    "\n",
    "import unet\n",
    "from metrics_tools import (correspondences_precision_recall, \n",
    "                           Metrics, \n",
    "                           reduce_metrics, \n",
    "                           empty_marginal_frames,\n",
    "                           process_spark_prediction,\n",
    "                           process_puff_prediction,\n",
    "                           process_wave_prediction,\n",
    "                           write_videos_on_disk,\n",
    "                           get_sparks_locations_from_mask\n",
    "                          )"
   ]
  },
  {
   "cell_type": "code",
   "execution_count": 3,
   "metadata": {},
   "outputs": [],
   "source": [
    "from scipy import optimize, spatial"
   ]
  },
  {
   "cell_type": "code",
   "execution_count": null,
   "metadata": {},
   "outputs": [],
   "source": [
    "BASEDIR = os.path.abspath('')\n",
    "BASEDIR"
   ]
  },
  {
   "cell_type": "markdown",
   "metadata": {},
   "source": [
    "### Select predictions to load"
   ]
  },
  {
   "cell_type": "code",
   "execution_count": null,
   "metadata": {},
   "outputs": [],
   "source": [
    "training_names = [\"temporal_reduction\",\n",
    "                  \"normalize_whole_video\",\n",
    "                  \"reduce_first_layer_channels_64\"\n",
    "                  ]\n",
    "\n",
    "epoch = 100000"
   ]
  },
  {
   "cell_type": "markdown",
   "metadata": {},
   "source": [
    "### Configure input/output folder"
   ]
  },
  {
   "cell_type": "code",
   "execution_count": null,
   "metadata": {},
   "outputs": [],
   "source": [
    "metrics_folder = \"trainings_validation\""
   ]
  },
  {
   "cell_type": "markdown",
   "metadata": {},
   "source": [
    "### Load predictions"
   ]
  },
  {
   "cell_type": "code",
   "execution_count": null,
   "metadata": {},
   "outputs": [],
   "source": [
    "ys = {} # contains annotations for each training\n",
    "sparks = {} # contains sparks for each training\n",
    "puffs = {} # contains puffs for each training\n",
    "waves = {} # contains waves for each training\n",
    "\n",
    "for training_name in training_names:\n",
    "    # Import .tif files as numpy array\n",
    "    base_name = os.path.join(metrics_folder,training_name+\"_\"+str(epoch)+\"_\")\n",
    "    \n",
    "    ys_filenames = sorted(glob.glob(base_name+\"*_ys.tif\"))\n",
    "    sparks_filenames = sorted(glob.glob(base_name+\"*_sparks.tif\"))\n",
    "    puffs_filenames = sorted(glob.glob(base_name+\"*_puffs.tif\"))\n",
    "    waves_filenames = sorted(glob.glob(base_name+\"*_waves.tif\"))\n",
    "    \n",
    "    training_ys = []\n",
    "    training_sparks = []\n",
    "    training_puffs = []\n",
    "    training_waves = []\n",
    "    \n",
    "    for y,s,p,w in zip(ys_filenames,sparks_filenames,puffs_filenames,waves_filenames):\n",
    "        training_ys.append(np.asarray(imageio.volread(y)).astype('int'))\n",
    "        training_sparks.append(np.asarray(imageio.volread(s)))\n",
    "        training_puffs.append(np.asarray(imageio.volread(p)))\n",
    "        training_waves.append(np.asarray(imageio.volread(w)))\n",
    "        \n",
    "    ys[training_name] = training_ys\n",
    "    sparks[training_name] = training_sparks\n",
    "    puffs[training_name] = training_puffs\n",
    "    waves[training_name] = training_waves        "
   ]
  },
  {
   "cell_type": "markdown",
   "metadata": {},
   "source": [
    "## Jaccard index for puffs and waves\n",
    "12.05.2021\n",
    "Seguendo il consiglio di Pablo:\n",
    "erosion & dilation delle annotations -> creazione di una exclusion region che viene ignorata dal supporto del Jaccard index"
   ]
  },
  {
   "cell_type": "code",
   "execution_count": 1,
   "metadata": {
    "tags": []
   },
   "outputs": [],
   "source": [
    "# Define function\n",
    "\n",
    "def jaccard_score_exclusion_zone(ys,preds,exclusion_radius,sparks=False):\n",
    "    \n",
    "    # Compute intersection and union\n",
    "    intersection = np.logical_and(ys, preds)\n",
    "    union = np.logical_or(ys, preds)\n",
    "    \n",
    "    if exclusion_radius != 0:\n",
    "        # Compute exclusion zone: 1 where Jaccard index has to be computed, 0 otherwise\n",
    "        dilated = binary_dilation(ys, iterations=exclusion_radius)\n",
    "        \n",
    "        if not sparks:\n",
    "            eroded = binary_erosion(ys, iterations=exclusion_radius)\n",
    "            exclusion_mask = 1 - np.logical_xor(eroded,dilated)\n",
    "        else:\n",
    "            # Erosion is not computed for spark class\n",
    "            exclusion_mask = 1 - np.logical_xor(ys,dilated)\n",
    "    \n",
    "        # Compute intersecion of exclusion mask with intersection and union\n",
    "        intersection = np.logical_and(intersection, exclusion_mask)\n",
    "        union = np.logical_and(union, exclusion_mask)\n",
    "        \n",
    "    #print(\"Pixels in intersection:\", np.count_nonzero(intersection))\n",
    "    #print(\"Pixels in union:\", np.count_nonzero(union))\n",
    "        \n",
    "    if np.count_nonzero(union) != 0:\n",
    "        iou = np.count_nonzero(intersection)/np.count_nonzero(union)\n",
    "    else:\n",
    "        iou = 1.\n",
    "    \n",
    "    return iou"
   ]
  },
  {
   "cell_type": "markdown",
   "metadata": {},
   "source": [
    "### Compute metrics for sample video"
   ]
  },
  {
   "cell_type": "code",
   "execution_count": 8,
   "metadata": {
    "tags": []
   },
   "outputs": [],
   "source": [
    "# results for a sample movie in sample dataset\n",
    "name = \"temporal_reduction\"\n",
    "idx = 0"
   ]
  },
  {
   "cell_type": "code",
   "execution_count": 33,
   "metadata": {
    "tags": []
   },
   "outputs": [],
   "source": [
    "ignore_frames = 6"
   ]
  },
  {
   "cell_type": "markdown",
   "metadata": {},
   "source": [
    "### Get binary preds and remove ignored frames"
   ]
  },
  {
   "cell_type": "code",
   "execution_count": 32,
   "metadata": {
    "tags": []
   },
   "outputs": [],
   "source": [
    "# get predictions\n",
    "sparks_sample = sparks[name][idx]\n",
    "puffs_sample = puffs[name][idx]\n",
    "waves_sample = waves[name][idx]"
   ]
  },
  {
   "cell_type": "code",
   "execution_count": 34,
   "metadata": {
    "tags": []
   },
   "outputs": [],
   "source": [
    "t_detection = 0.5\n",
    "min_radius_puffs = 4\n",
    "min_radius_waves = 10\n",
    "\n",
    "puffs_binary = process_puff_prediction(puffs_sample, \n",
    "                                       t_detection, \n",
    "                                       min_radius_puffs, \n",
    "                                       ignore_frames)\n",
    "\n",
    "waves_binary = process_wave_prediction(waves_sample, \n",
    "                                       t_detection, \n",
    "                                       min_radius_waves, \n",
    "                                       ignore_frames)"
   ]
  },
  {
   "cell_type": "markdown",
   "metadata": {},
   "source": [
    "### Get binary ys and remove ignored frames"
   ]
  },
  {
   "cell_type": "code",
   "execution_count": 35,
   "metadata": {
    "tags": []
   },
   "outputs": [],
   "source": [
    "# get binary ys\n",
    "ys_sample = ys[name][idx]\n",
    "\n",
    "ys_puffs_sample = np.where(ys_sample==3,1,0)\n",
    "ys_waves_sample = np.where(ys_sample==2,1,0)"
   ]
  },
  {
   "cell_type": "code",
   "execution_count": 36,
   "metadata": {
    "tags": []
   },
   "outputs": [],
   "source": [
    "ys_puffs_sample = empty_marginal_frames(ys_puffs_sample, ignore_frames)\n",
    "ys_waves_sample = empty_marginal_frames(ys_waves_sample, ignore_frames)"
   ]
  },
  {
   "cell_type": "markdown",
   "metadata": {},
   "source": [
    "### Plot a sample frame"
   ]
  },
  {
   "cell_type": "code",
   "execution_count": 12,
   "metadata": {
    "collapsed": true,
    "jupyter": {
     "outputs_hidden": true
    },
    "tags": []
   },
   "outputs": [
    {
     "data": {
      "text/plain": [
       "((125, 64, 512), (125, 64, 512), (125, 64, 512), (125, 64, 512))"
      ]
     },
     "execution_count": 12,
     "metadata": {},
     "output_type": "execute_result"
    }
   ],
   "source": [
    "sparks_sample.shape, puffs_sample.shape, waves_sample.shape, ys_sample.shape"
   ]
  },
  {
   "cell_type": "code",
   "execution_count": 23,
   "metadata": {
    "tags": []
   },
   "outputs": [],
   "source": [
    "sample_frame = 59"
   ]
  },
  {
   "cell_type": "code",
   "execution_count": 28,
   "metadata": {
    "collapsed": true,
    "jupyter": {
     "outputs_hidden": true
    },
    "tags": []
   },
   "outputs": [
    {
     "data": {
      "image/png": "[encoded data removed]",
      "text/plain": [
       "<Figure size 1440x432 with 6 Axes>"
      ]
     },
     "metadata": {
      "needs_background": "light"
     },
     "output_type": "display_data"
    }
   ],
   "source": [
    "# Plot annotations and preds of sample frame\n",
    "\n",
    "#plt.rcParams.update({'font.size': 8})\n",
    "\n",
    "plt.figure(figsize=(20,6))\n",
    "plt.suptitle(f\"Annotations and preds of sample frame {sample_frame}\", fontsize=12)\n",
    "\n",
    "\n",
    "ax = plt.subplot(3,2,1)\n",
    "ax.set_title(\"Puffs annotations\")\n",
    "plt.imshow(ys_puffs_sample[sample_frame])\n",
    "\n",
    "ax = plt.subplot(3,2,2)\n",
    "ax.set_title(\"Waves annotations\")\n",
    "plt.imshow(ys_waves_sample[sample_frame])\n",
    "\n",
    "ax = plt.subplot(3,2,3)\n",
    "ax.set_title(\"Puffs binary preds\")\n",
    "plt.imshow(puffs_binary[sample_frame])\n",
    "\n",
    "ax = plt.subplot(3,2,4)\n",
    "ax.set_title(\"Waves binary preds\")\n",
    "plt.imshow(waves_binary[sample_frame])\n",
    "\n",
    "ax = plt.subplot(3,2,5)\n",
    "ax.set_title(\"Puffs original preds\")\n",
    "plt.imshow(puffs_sample[sample_frame])\n",
    "\n",
    "ax = plt.subplot(3,2,6)\n",
    "ax.set_title(\"Waves original preds\")\n",
    "plt.imshow(waves_sample[sample_frame])\n",
    "\n",
    "\n",
    "plt.show()"
   ]
  },
  {
   "cell_type": "markdown",
   "metadata": {
    "tags": []
   },
   "source": [
    "### Save sample binary preds on disk"
   ]
  },
  {
   "cell_type": "code",
   "execution_count": 29,
   "metadata": {
    "tags": []
   },
   "outputs": [],
   "source": [
    "imageio.volwrite(os.path.join(metrics_folder, \"binary_preds_puffs.tif\"), np.uint8(puffs_binary))\n",
    "imageio.volwrite(os.path.join(metrics_folder, \"binary_preds_waves.tif\"), np.uint8(waves_binary))"
   ]
  },
  {
   "cell_type": "markdown",
   "metadata": {},
   "source": [
    "### Save sample annotations on disk"
   ]
  },
  {
   "cell_type": "code",
   "execution_count": 30,
   "metadata": {
    "tags": []
   },
   "outputs": [],
   "source": [
    "imageio.volwrite(os.path.join(metrics_folder, \"annotations_puffs.tif\"), np.uint8(ys_puffs_sample))\n",
    "imageio.volwrite(os.path.join(metrics_folder, \"annotations_waves.tif\"), np.uint8(ys_waves_sample))"
   ]
  },
  {
   "cell_type": "markdown",
   "metadata": {},
   "source": [
    "### Compute Jaccard score (without exclusion zone)"
   ]
  },
  {
   "cell_type": "code",
   "execution_count": 60,
   "metadata": {
    "collapsed": true,
    "jupyter": {
     "outputs_hidden": true
    },
    "tags": []
   },
   "outputs": [
    {
     "name": "stdout",
     "output_type": "stream",
     "text": [
      "Jaccard score puffs: 0.20890103174317864\n",
      "Jaccard score waves: 0.0\n"
     ]
    }
   ],
   "source": [
    "iou_puffs = jaccard_score(ys_puffs_sample.ravel(), puffs_binary.ravel())\n",
    "iou_waves = jaccard_score(ys_waves_sample.ravel(), waves_binary.ravel())\n",
    "\n",
    "print(f\"Jaccard score puffs: {iou_puffs}\")\n",
    "print(f\"Jaccard score waves: {iou_waves}\")"
   ]
  },
  {
   "cell_type": "code",
   "execution_count": 43,
   "metadata": {
    "tags": []
   },
   "outputs": [],
   "source": [
    "# Compute exclusion zone\n",
    "\n",
    "exclusion_radius = 2"
   ]
  },
  {
   "cell_type": "code",
   "execution_count": 44,
   "metadata": {
    "tags": []
   },
   "outputs": [],
   "source": [
    "# Just for puffs\n",
    "puffs_eroded = binary_erosion(ys_puffs_sample, iterations=exclusion_radius)\n",
    "puffs_dilated = binary_dilation(ys_puffs_sample, iterations=exclusion_radius)\n",
    "\n",
    "exclusion_mask = 1 - np.logical_xor(puffs_eroded, puffs_dilated)\n",
    "# 1 where Jaccard index has to be computed, 0 otherwise"
   ]
  },
  {
   "cell_type": "code",
   "execution_count": 47,
   "metadata": {
    "collapsed": true,
    "jupyter": {
     "outputs_hidden": true
    },
    "tags": []
   },
   "outputs": [
    {
     "data": {
      "image/png": "[encoded data removed]",
      "text/plain": [
       "<Figure size 1440x288 with 4 Axes>"
      ]
     },
     "metadata": {
      "needs_background": "light"
     },
     "output_type": "display_data"
    }
   ],
   "source": [
    "# Plot annotations eroded and dilated\n",
    "#plt.rcParams.update({'font.size': 8})\n",
    "\n",
    "plt.figure(figsize=(20,4))\n",
    "plt.suptitle(f\"Plot annotations eroded and dilated of sample frame {sample_frame}\", fontsize=12)\n",
    "\n",
    "\n",
    "ax = plt.subplot(2,2,1)\n",
    "ax.set_title(\"Puffs original annotations\")\n",
    "plt.imshow(ys_puffs_sample[sample_frame])\n",
    "\n",
    "ax = plt.subplot(2,2,2)\n",
    "ax.set_title(\"Difference\")\n",
    "plt.imshow(1 - np.logical_xor(puffs_eroded,puffs_dilated)[sample_frame])\n",
    "\n",
    "ax = plt.subplot(2,2,3)\n",
    "ax.set_title(\"Puffs eroded annotations\")\n",
    "plt.imshow(puffs_eroded[sample_frame])\n",
    "\n",
    "ax = plt.subplot(2,2,4)\n",
    "ax.set_title(\"Puffs dilated annotations\")\n",
    "plt.imshow(puffs_dilated[sample_frame])\n",
    "\n",
    "\n",
    "plt.show()"
   ]
  },
  {
   "cell_type": "code",
   "execution_count": 48,
   "metadata": {
    "tags": []
   },
   "outputs": [],
   "source": [
    "# Compute intersection and union of annotations with preds\n",
    "\n",
    "intersection = np.logical_and(ys_puffs_sample, puffs_binary)\n",
    "union = np.logical_or(ys_puffs_sample, puffs_binary)\n",
    "\n",
    "# Compute intersection and union only in exclusion mask\n",
    "\n",
    "intersection_mask = np.logical_and(intersection, exclusion_mask)\n",
    "union_mask = np.logical_and(union, exclusion_mask)"
   ]
  },
  {
   "cell_type": "code",
   "execution_count": 49,
   "metadata": {
    "collapsed": true,
    "jupyter": {
     "outputs_hidden": true
    },
    "tags": []
   },
   "outputs": [
    {
     "data": {
      "image/png": "[encoded data removed]",
      "text/plain": [
       "<Figure size 1440x288 with 4 Axes>"
      ]
     },
     "metadata": {
      "needs_background": "light"
     },
     "output_type": "display_data"
    }
   ],
   "source": [
    "# Plot intersection and union\n",
    "#plt.rcParams.update({'font.size': 8})\n",
    "\n",
    "plt.figure(figsize=(20,4))\n",
    "plt.suptitle(f\"Intersection and union of annotations with preds of sample frame {sample_frame}\", fontsize=12)\n",
    "\n",
    "\n",
    "ax = plt.subplot(2,2,1)\n",
    "ax.set_title(\"Intersecion of annotations and preds\")\n",
    "plt.imshow(intersection[sample_frame])\n",
    "\n",
    "ax = plt.subplot(2,2,2)\n",
    "ax.set_title(\"Union of annotations and preds\")\n",
    "plt.imshow(union[sample_frame])\n",
    "\n",
    "ax = plt.subplot(2,2,3)\n",
    "ax.set_title(\"Same intersection with respect to exclusion mask\")\n",
    "plt.imshow(intersection_mask[sample_frame])\n",
    "\n",
    "ax = plt.subplot(2,2,4)\n",
    "ax.set_title(\"Same union with respect to exclusion mask\")\n",
    "plt.imshow(union_mask[sample_frame])\n",
    "\n",
    "\n",
    "plt.show()"
   ]
  },
  {
   "cell_type": "code",
   "execution_count": 50,
   "metadata": {
    "collapsed": true,
    "jupyter": {
     "outputs_hidden": true
    },
    "tags": []
   },
   "outputs": [
    {
     "name": "stdout",
     "output_type": "stream",
     "text": [
      "Pixels in intersection: 2397\n",
      "Pixels in union: 29495\n",
      "IoU wrt to wave class: 0.08126801152737752\n"
     ]
    }
   ],
   "source": [
    "# Compute Jaccard index\n",
    "\n",
    "print(f\"Pixels in intersection: {np.count_nonzero(intersection_mask)}\")\n",
    "print(f\"Pixels in union: {np.count_nonzero(union_mask)}\")\n",
    "\n",
    "new_iou_puffs = np.count_nonzero(intersection_mask)/np.count_nonzero(union_mask)\n",
    "\n",
    "print(f\"IoU wrt to wave class: {new_iou_puffs}\")"
   ]
  },
  {
   "cell_type": "code",
   "execution_count": 69,
   "metadata": {
    "collapsed": true,
    "jupyter": {
     "outputs_hidden": true
    },
    "tags": []
   },
   "outputs": [
    {
     "name": "stdout",
     "output_type": "stream",
     "text": [
      "Pixels in intersection: 2397\n",
      "Pixels in union: 29495\n",
      "Pixels in intersection: 0\n",
      "Pixels in union: 0\n"
     ]
    }
   ],
   "source": [
    "new_iou_puffs = jaccard_score_exclusion_zone(ys_puffs_sample, puffs_binary, exclusion_radius)\n",
    "new_iou_waves = jaccard_score_exclusion_zone(ys_waves_sample, waves_binary, exclusion_radius)"
   ]
  },
  {
   "cell_type": "code",
   "execution_count": 70,
   "metadata": {
    "collapsed": true,
    "jupyter": {
     "outputs_hidden": true
    },
    "tags": []
   },
   "outputs": [
    {
     "name": "stdout",
     "output_type": "stream",
     "text": [
      "0.08126801152737752\n",
      "1.0\n"
     ]
    }
   ],
   "source": [
    "print(new_iou_puffs)\n",
    "print(new_iou_waves)"
   ]
  },
  {
   "cell_type": "markdown",
   "metadata": {},
   "source": [
    "### Jaccard index for sparks"
   ]
  },
  {
   "cell_type": "code",
   "execution_count": 73,
   "metadata": {
    "tags": []
   },
   "outputs": [],
   "source": [
    "# get sparks annotations\n",
    "ys_sparks_sample = np.where(ys_sample==1,1,0)\n",
    "\n",
    "# get sparks predictions\n",
    "t_detection_sparks = 0.9\n",
    "min_radius_sparks = 3\n",
    "sparks_binary = (process_spark_prediction(sparks_sample, \n",
    "                                          t_detection=t_detection_sparks,\n",
    "                                          min_radius=min_radius_sparks,\n",
    "                                          ignore_frames=ignore_frames,\n",
    "                                          return_clean_pred=True)) != 0 "
   ]
  },
  {
   "cell_type": "markdown",
   "metadata": {},
   "source": [
    "### Comparison with original implementation (when radius = 0)"
   ]
  },
  {
   "cell_type": "code",
   "execution_count": 76,
   "metadata": {
    "collapsed": true,
    "jupyter": {
     "outputs_hidden": true
    },
    "tags": []
   },
   "outputs": [
    {
     "name": "stdout",
     "output_type": "stream",
     "text": [
      "Jaccard index with new method:\n",
      "Puffs: 0.20890103174317864\n",
      "Waves: 1.0\n",
      "Sparks: 0.04723618090452261\n",
      "\n",
      "Jaccard index with sklearn metrics method\n",
      "Puffs: 0.20890103174317864\n",
      "Waves: 0.0\n",
      "Sparks: 0.04723618090452261\n"
     ]
    }
   ],
   "source": [
    "print(\"Jaccard index with new method:\")\n",
    "print(f\"Puffs: {jaccard_score_exclusion_zone(ys_puffs_sample, puffs_binary, 0)}\")\n",
    "print(f\"Waves: {jaccard_score_exclusion_zone(ys_waves_sample, waves_binary, 0)}\")\n",
    "print(f\"Sparks: {jaccard_score_exclusion_zone(ys_sparks_sample, sparks_binary, 0, sparks=True)}\")\n",
    "print()\n",
    "print(\"Jaccard index with sklearn metrics method\")\n",
    "print(f\"Puffs: {jaccard_score(ys_puffs_sample.ravel(), puffs_binary.ravel())}\")\n",
    "print(f\"Waves: {jaccard_score(ys_waves_sample.ravel(), waves_binary.ravel())}\")\n",
    "print(f\"Sparks: {jaccard_score(ys_sparks_sample.ravel(), sparks_binary.ravel())}\")"
   ]
  },
  {
   "cell_type": "markdown",
   "metadata": {
    "tags": []
   },
   "source": [
    "### Plot IoU with respect to different exclusion radius"
   ]
  },
  {
   "cell_type": "code",
   "execution_count": 77,
   "metadata": {
    "tags": []
   },
   "outputs": [],
   "source": [
    "exclusion_radius_list = [0,1,2,3,4,5,6,7,8,9,10]\n",
    "\n",
    "# puffs\n",
    "ious_puffs = []\n",
    "for radius in exclusion_radius_list:\n",
    "    ious_puffs.append(jaccard_score_exclusion_zone(ys_puffs_sample, puffs_binary, radius))\n",
    "    \n",
    "# waves\n",
    "ious_waves = []\n",
    "for radius in exclusion_radius_list:\n",
    "    ious_waves.append(jaccard_score_exclusion_zone(ys_waves_sample, waves_binary, radius))\n",
    "    \n",
    "# sparks\n",
    "ious_sparks = []\n",
    "for radius in exclusion_radius_list:\n",
    "    ious_sparks.append(jaccard_score_exclusion_zone(ys_sparks_sample, sparks_binary, radius, sparks=True))"
   ]
  },
  {
   "cell_type": "code",
   "execution_count": 78,
   "metadata": {
    "collapsed": true,
    "jupyter": {
     "outputs_hidden": true
    },
    "tags": []
   },
   "outputs": [
    {
     "data": {
      "image/png": "[encoded data removed]",
      "text/plain": [
       "<Figure size 1440x288 with 3 Axes>"
      ]
     },
     "metadata": {
      "needs_background": "light"
     },
     "output_type": "display_data"
    }
   ],
   "source": [
    "# Plot Jaccard index wrt different exclusion radius\n",
    "#plt.rcParams.update({'font.size': 8})\n",
    "\n",
    "plt.figure(figsize=(20,4))\n",
    "plt.suptitle(f\"Jaccard index with respect to different exclusion radius\", fontsize=12)\n",
    "\n",
    "\n",
    "ax = plt.subplot(1,3,1)\n",
    "ax.set_title(\"Puff class\")\n",
    "plt.ylim([0, 1])\n",
    "plt.plot(exclusion_radius_list, ious_puffs)\n",
    "\n",
    "ax = plt.subplot(1,3,2)\n",
    "ax.set_title(\"Waves class\")\n",
    "plt.ylim([0, 1])\n",
    "plt.plot(exclusion_radius_list, ious_waves)\n",
    "\n",
    "ax = plt.subplot(1,3,3)\n",
    "ax.set_title(\"Sparks class\")\n",
    "plt.ylim([0, 1])\n",
    "plt.plot(exclusion_radius_list, ious_sparks)\n",
    "\n",
    "\n",
    "plt.show()"
   ]
  },
  {
   "cell_type": "code",
   "execution_count": 79,
   "metadata": {
    "collapsed": true,
    "jupyter": {
     "outputs_hidden": true
    },
    "tags": []
   },
   "outputs": [
    {
     "name": "stdout",
     "output_type": "stream",
     "text": [
      "IoUs puffs: [0.20890103174317864, 0.14459408432976714, 0.08126801152737752, 0.037353441136730156, 0.013306755737528283, 0.0021321961620469083, 7.474400179385604e-05, 0.0, 0.0, 0.0, 0.0]\n",
      "IoUs puffs: [1.0, 1.0, 1.0, 1.0, 1.0, 1.0, 1.0, 1.0, 1.0, 1.0, 1.0]\n",
      "IoUs puffs: [0.04723618090452261, 0.05264336917562724, 0.05791030064070971, 0.06230116648992577, 0.06536856745479833, 0.06762589928057554, 0.06909732431637754, 0.07004470938897168, 0.07078313253012049, 0.07219662058371736, 0.07413249211356467]\n"
     ]
    }
   ],
   "source": [
    "print(f\"IoUs puffs: {ious_puffs}\")\n",
    "print(f\"IoUs puffs: {ious_waves}\")\n",
    "print(f\"IoUs puffs: {ious_sparks}\")"
   ]
  },
  {
   "cell_type": "markdown",
   "metadata": {},
   "source": [
    "## Evaluate all trainings on all videos"
   ]
  },
  {
   "cell_type": "code",
   "execution_count": 81,
   "metadata": {},
   "outputs": [],
   "source": [
    "# parameters\n",
    "ignore_frames = 6\n",
    "\n",
    "t_detection = 0.5\n",
    "t_detection_sparks = 0.9\n",
    "\n",
    "min_radius_puffs = 4\n",
    "min_radius_waves = 10\n",
    "min_radius_sparks = 3\n",
    "\n",
    "exclusion_radius_list = [0,1,2,3,4,5,6,7,8,9,10]\n",
    "\n",
    "# each dictionary contains, for every training name, a list of IoU scores averaged on all videos for all exclusion radius\n",
    "ious_sparks_all_trainings = {} # num trainings x num video x num exclusion radius\n",
    "ious_puffs_all_trainings = {}\n",
    "ious_waves_all_trainings = {}\n",
    "\n",
    "for training_name in training_names:\n",
    "    # get predictions\n",
    "    sparks_training = sparks[training_name]\n",
    "    puffs_training = puffs[training_name]\n",
    "    waves_training = waves[training_name]\n",
    "    \n",
    "    # get annotations\n",
    "    ys_training = ys[training_name]\n",
    "    \n",
    "    ious_puffs_all_video = []\n",
    "    ious_waves_all_video = []\n",
    "    ious_sparks_all_video = []\n",
    "    \n",
    "    for sparks_sample, puffs_sample, waves_sample, ys_sample in zip(sparks_training, puffs_training, waves_training, ys_training):\n",
    "        # get binary predictions and remove ignored frames\n",
    "        puffs_binary = process_puff_prediction(puffs_sample, \n",
    "                                               t_detection, \n",
    "                                               min_radius_puffs, \n",
    "                                               ignore_frames)\n",
    "        waves_binary = process_wave_prediction(waves_sample, \n",
    "                                               t_detection, \n",
    "                                               min_radius_waves, \n",
    "                                               ignore_frames)\n",
    "        sparks_binary = (process_spark_prediction(sparks_sample, \n",
    "                                                  t_detection=t_detection_sparks,\n",
    "                                                  min_radius=min_radius_sparks,\n",
    "                                                  ignore_frames=ignore_frames,\n",
    "                                                  return_clean_pred=True)) != 0 \n",
    "        \n",
    "        # get binary ys and remove ignored frames\n",
    "        ys_sparks_sample = empty_marginal_frames(np.where(ys_sample==1,1,0), ignore_frames)\n",
    "        ys_puffs_sample = empty_marginal_frames(np.where(ys_sample==3,1,0), ignore_frames)\n",
    "        ys_waves_sample = empty_marginal_frames(np.where(ys_sample==2,1,0), ignore_frames)\n",
    "        \n",
    "        \n",
    "        # compute IoU for some exclusion radius values\n",
    "        # puffs\n",
    "        ious_puffs = []\n",
    "        for radius in exclusion_radius_list:\n",
    "            ious_puffs.append(jaccard_score_exclusion_zone(ys_puffs_sample, puffs_binary, radius))\n",
    "            \n",
    "        ious_puffs_all_video.append(ious_puffs)\n",
    "\n",
    "        # waves\n",
    "        ious_waves = []\n",
    "        for radius in exclusion_radius_list:\n",
    "            ious_waves.append(jaccard_score_exclusion_zone(ys_waves_sample, waves_binary, radius))\n",
    "            \n",
    "        ious_waves_all_video.append(ious_waves)\n",
    "\n",
    "        # sparks\n",
    "        ious_sparks = []\n",
    "        for radius in exclusion_radius_list:\n",
    "            ious_sparks.append(jaccard_score_exclusion_zone(ys_sparks_sample, sparks_binary, radius, sparks=True))\n",
    "            \n",
    "        ious_sparks_all_video.append(ious_sparks)\n",
    "        \n",
    "    ious_sparks_all_trainings[training_name] = ious_sparks_all_video\n",
    "    ious_puffs_all_trainings[training_name] = ious_puffs_all_video\n",
    "    ious_waves_all_trainings[training_name] = ious_waves_all_video"
   ]
  },
  {
   "cell_type": "markdown",
   "metadata": {},
   "source": [
    "### Compute average along videos of IoU for each exclusion radius for each training name"
   ]
  },
  {
   "cell_type": "code",
   "execution_count": 95,
   "metadata": {},
   "outputs": [],
   "source": [
    "ious_sparks_avg = {} # num training x num exclusion radius\n",
    "ious_puffs_avg = {}\n",
    "ious_waves_avg = {}\n",
    "\n",
    "for training_name in training_names:\n",
    "    num_videos = len(ious_sparks_all_trainings[name])\n",
    "    \n",
    "    ious_sparks_all_video = ious_sparks_all_trainings[training_name] # num videos x num exclusion radius\n",
    "    ious_puffs_all_video = ious_puffs_all_trainings[training_name] \n",
    "    ious_waves_all_video = ious_waves_all_trainings[training_name] \n",
    "    \n",
    "    ious_sparks_avg[training_name] = np.sum(np.asarray(ious_sparks_all_video),0)/num_videos\n",
    "    ious_puffs_avg[training_name] = np.sum(np.asarray(ious_puffs_all_video),0)/num_videos\n",
    "    ious_waves_avg[training_name] = np.sum(np.asarray(ious_waves_all_video),0)/num_videos"
   ]
  },
  {
   "cell_type": "markdown",
   "metadata": {},
   "source": [
    "### Plot average IoU for all trainings and all classes wrt to exclusion radius"
   ]
  },
  {
   "cell_type": "code",
   "execution_count": 175,
   "metadata": {},
   "outputs": [],
   "source": [
    "cols = pd.Index(exclusion_radius_list, name='Exclusion radius')\n",
    "classes = ['Sparks', 'Puffs', 'Waves']\n",
    "rows = pd.MultiIndex.from_product([classes, training_names], names=['Class', 'Training name'])\n",
    "\n",
    "data = [*ious_sparks_avg.values(),\n",
    "        *ious_puffs_avg.values(),\n",
    "        *ious_waves_avg.values()\n",
    "       ]\n",
    "\n",
    "df = pd.DataFrame(data, rows, cols)"
   ]
  },
  {
   "cell_type": "code",
   "execution_count": 176,
   "metadata": {},
   "outputs": [
    {
     "data": {
      "text/html": [
       "<div>\n",
       "<style scoped>\n",
       "    .dataframe tbody tr th:only-of-type {\n",
       "        vertical-align: middle;\n",
       "    }\n",
       "\n",
       "    .dataframe tbody tr th {\n",
       "        vertical-align: top;\n",
       "    }\n",
       "\n",
       "    .dataframe thead th {\n",
       "        text-align: right;\n",
       "    }\n",
       "</style>\n",
       "<table border=\"1\" class=\"dataframe\">\n",
       "  <thead>\n",
       "    <tr style=\"text-align: right;\">\n",
       "      <th></th>\n",
       "      <th>Exclusion radius</th>\n",
       "      <th>0</th>\n",
       "      <th>1</th>\n",
       "      <th>2</th>\n",
       "      <th>3</th>\n",
       "      <th>4</th>\n",
       "      <th>5</th>\n",
       "      <th>6</th>\n",
       "      <th>7</th>\n",
       "      <th>8</th>\n",
       "      <th>9</th>\n",
       "      <th>10</th>\n",
       "    </tr>\n",
       "    <tr>\n",
       "      <th>Class</th>\n",
       "      <th>Training name</th>\n",
       "      <th></th>\n",
       "      <th></th>\n",
       "      <th></th>\n",
       "      <th></th>\n",
       "      <th></th>\n",
       "      <th></th>\n",
       "      <th></th>\n",
       "      <th></th>\n",
       "      <th></th>\n",
       "      <th></th>\n",
       "      <th></th>\n",
       "    </tr>\n",
       "  </thead>\n",
       "  <tbody>\n",
       "    <tr>\n",
       "      <th rowspan=\"3\" valign=\"top\">Sparks</th>\n",
       "      <th>temporal_reduction</th>\n",
       "      <td>0.013768</td>\n",
       "      <td>0.014982</td>\n",
       "      <td>0.016290</td>\n",
       "      <td>0.017401</td>\n",
       "      <td>0.018238</td>\n",
       "      <td>0.018829</td>\n",
       "      <td>0.019243</td>\n",
       "      <td>0.019532</td>\n",
       "      <td>0.019814</td>\n",
       "      <td>0.020218</td>\n",
       "      <td>0.020707</td>\n",
       "    </tr>\n",
       "    <tr>\n",
       "      <th>normalize_whole_video</th>\n",
       "      <td>0.031568</td>\n",
       "      <td>0.032936</td>\n",
       "      <td>0.034666</td>\n",
       "      <td>0.036525</td>\n",
       "      <td>0.038287</td>\n",
       "      <td>0.039816</td>\n",
       "      <td>0.041090</td>\n",
       "      <td>0.042134</td>\n",
       "      <td>0.042949</td>\n",
       "      <td>0.043594</td>\n",
       "      <td>0.044167</td>\n",
       "    </tr>\n",
       "    <tr>\n",
       "      <th>reduce_first_layer_channels_64</th>\n",
       "      <td>0.029136</td>\n",
       "      <td>0.030522</td>\n",
       "      <td>0.032408</td>\n",
       "      <td>0.034685</td>\n",
       "      <td>0.037097</td>\n",
       "      <td>0.039381</td>\n",
       "      <td>0.041365</td>\n",
       "      <td>0.042916</td>\n",
       "      <td>0.044056</td>\n",
       "      <td>0.044860</td>\n",
       "      <td>0.045415</td>\n",
       "    </tr>\n",
       "    <tr>\n",
       "      <th rowspan=\"3\" valign=\"top\">Puffs</th>\n",
       "      <th>temporal_reduction</th>\n",
       "      <td>0.192458</td>\n",
       "      <td>0.195439</td>\n",
       "      <td>0.193408</td>\n",
       "      <td>0.193291</td>\n",
       "      <td>0.195703</td>\n",
       "      <td>0.198430</td>\n",
       "      <td>0.201271</td>\n",
       "      <td>0.206326</td>\n",
       "      <td>0.212674</td>\n",
       "      <td>0.216554</td>\n",
       "      <td>0.215885</td>\n",
       "    </tr>\n",
       "    <tr>\n",
       "      <th>normalize_whole_video</th>\n",
       "      <td>0.115739</td>\n",
       "      <td>0.111510</td>\n",
       "      <td>0.106234</td>\n",
       "      <td>0.100310</td>\n",
       "      <td>0.093821</td>\n",
       "      <td>0.086915</td>\n",
       "      <td>0.079970</td>\n",
       "      <td>0.073271</td>\n",
       "      <td>0.066499</td>\n",
       "      <td>0.059417</td>\n",
       "      <td>0.051891</td>\n",
       "    </tr>\n",
       "    <tr>\n",
       "      <th>reduce_first_layer_channels_64</th>\n",
       "      <td>0.142404</td>\n",
       "      <td>0.142853</td>\n",
       "      <td>0.140523</td>\n",
       "      <td>0.136385</td>\n",
       "      <td>0.130458</td>\n",
       "      <td>0.123084</td>\n",
       "      <td>0.114858</td>\n",
       "      <td>0.105948</td>\n",
       "      <td>0.096583</td>\n",
       "      <td>0.086589</td>\n",
       "      <td>0.075681</td>\n",
       "    </tr>\n",
       "    <tr>\n",
       "      <th rowspan=\"3\" valign=\"top\">Waves</th>\n",
       "      <th>temporal_reduction</th>\n",
       "      <td>0.789796</td>\n",
       "      <td>0.792832</td>\n",
       "      <td>0.793802</td>\n",
       "      <td>0.793395</td>\n",
       "      <td>0.791445</td>\n",
       "      <td>0.787661</td>\n",
       "      <td>0.782425</td>\n",
       "      <td>0.776031</td>\n",
       "      <td>0.769463</td>\n",
       "      <td>0.764446</td>\n",
       "      <td>0.761096</td>\n",
       "    </tr>\n",
       "    <tr>\n",
       "      <th>normalize_whole_video</th>\n",
       "      <td>0.333221</td>\n",
       "      <td>0.332684</td>\n",
       "      <td>0.332057</td>\n",
       "      <td>0.331325</td>\n",
       "      <td>0.330498</td>\n",
       "      <td>0.329598</td>\n",
       "      <td>0.328631</td>\n",
       "      <td>0.327590</td>\n",
       "      <td>0.326451</td>\n",
       "      <td>0.325204</td>\n",
       "      <td>0.323827</td>\n",
       "    </tr>\n",
       "    <tr>\n",
       "      <th>reduce_first_layer_channels_64</th>\n",
       "      <td>0.346099</td>\n",
       "      <td>0.346766</td>\n",
       "      <td>0.347263</td>\n",
       "      <td>0.347615</td>\n",
       "      <td>0.347829</td>\n",
       "      <td>0.347935</td>\n",
       "      <td>0.347950</td>\n",
       "      <td>0.347909</td>\n",
       "      <td>0.347788</td>\n",
       "      <td>0.347567</td>\n",
       "      <td>0.347177</td>\n",
       "    </tr>\n",
       "  </tbody>\n",
       "</table>\n",
       "</div>"
      ],
      "text/plain": [
       "Exclusion radius                             0         1         2         3   \\\n",
       "Class  Training name                                                            \n",
       "Sparks temporal_reduction              0.013768  0.014982  0.016290  0.017401   \n",
       "       normalize_whole_video           0.031568  0.032936  0.034666  0.036525   \n",
       "       reduce_first_layer_channels_64  0.029136  0.030522  0.032408  0.034685   \n",
       "Puffs  temporal_reduction              0.192458  0.195439  0.193408  0.193291   \n",
       "       normalize_whole_video           0.115739  0.111510  0.106234  0.100310   \n",
       "       reduce_first_layer_channels_64  0.142404  0.142853  0.140523  0.136385   \n",
       "Waves  temporal_reduction              0.789796  0.792832  0.793802  0.793395   \n",
       "       normalize_whole_video           0.333221  0.332684  0.332057  0.331325   \n",
       "       reduce_first_layer_channels_64  0.346099  0.346766  0.347263  0.347615   \n",
       "\n",
       "Exclusion radius                             4         5         6         7   \\\n",
       "Class  Training name                                                            \n",
       "Sparks temporal_reduction              0.018238  0.018829  0.019243  0.019532   \n",
       "       normalize_whole_video           0.038287  0.039816  0.041090  0.042134   \n",
       "       reduce_first_layer_channels_64  0.037097  0.039381  0.041365  0.042916   \n",
       "Puffs  temporal_reduction              0.195703  0.198430  0.201271  0.206326   \n",
       "       normalize_whole_video           0.093821  0.086915  0.079970  0.073271   \n",
       "       reduce_first_layer_channels_64  0.130458  0.123084  0.114858  0.105948   \n",
       "Waves  temporal_reduction              0.791445  0.787661  0.782425  0.776031   \n",
       "       normalize_whole_video           0.330498  0.329598  0.328631  0.327590   \n",
       "       reduce_first_layer_channels_64  0.347829  0.347935  0.347950  0.347909   \n",
       "\n",
       "Exclusion radius                             8         9         10  \n",
       "Class  Training name                                                 \n",
       "Sparks temporal_reduction              0.019814  0.020218  0.020707  \n",
       "       normalize_whole_video           0.042949  0.043594  0.044167  \n",
       "       reduce_first_layer_channels_64  0.044056  0.044860  0.045415  \n",
       "Puffs  temporal_reduction              0.212674  0.216554  0.215885  \n",
       "       normalize_whole_video           0.066499  0.059417  0.051891  \n",
       "       reduce_first_layer_channels_64  0.096583  0.086589  0.075681  \n",
       "Waves  temporal_reduction              0.769463  0.764446  0.761096  \n",
       "       normalize_whole_video           0.326451  0.325204  0.323827  \n",
       "       reduce_first_layer_channels_64  0.347788  0.347567  0.347177  "
      ]
     },
     "execution_count": 176,
     "metadata": {},
     "output_type": "execute_result"
    }
   ],
   "source": [
    "print(df)"
   ]
  },
  {
   "cell_type": "code",
   "execution_count": 169,
   "metadata": {},
   "outputs": [
    {
     "data": {
      "text/plain": [
       "Text(0.5, 0, 'Exclusion radius')"
      ]
     },
     "execution_count": 169,
     "metadata": {},
     "output_type": "execute_result"
    },
    {
     "data": {
      "image/png": "[encoded data removed]",
      "text/plain": [
       "<Figure size 1080x576 with 4 Axes>"
      ]
     },
     "metadata": {
      "needs_background": "light"
     },
     "output_type": "display_data"
    }
   ],
   "source": [
    "fig, axs = plt.subplots(1, 3, sharex=True, figsize=(15,8))\n",
    "fig.add_subplot(111, frameon=False)\n",
    "axs[0].plot(exclusion_radius_list, ious_sparks_avg[training_names[0]], label=training_names[0])\n",
    "axs[0].plot(exclusion_radius_list, ious_sparks_avg[training_names[1]], label=training_names[1])\n",
    "axs[0].plot(exclusion_radius_list, ious_sparks_avg[training_names[2]], label=training_names[2])\n",
    "           \n",
    "axs[0].set_title('Sparks IoU')\n",
    "axs[0].set_ylim([0,1])\n",
    "axs[0].legend(shadow=True, fancybox=True)\n",
    "\n",
    "axs[1].plot(exclusion_radius_list, ious_puffs_avg[training_names[0]], label=training_names[0])\n",
    "axs[1].plot(exclusion_radius_list, ious_puffs_avg[training_names[1]], label=training_names[1])\n",
    "axs[1].plot(exclusion_radius_list, ious_puffs_avg[training_names[2]], label=training_names[2])\n",
    "\n",
    "axs[1].set_title('Puffs IoU')\n",
    "axs[1].set_ylim([0,1])\n",
    "axs[1].legend(shadow=True, fancybox=True)\n",
    "\n",
    "axs[2].plot(exclusion_radius_list, ious_waves_avg[training_names[0]], label=training_names[0])\n",
    "axs[2].plot(exclusion_radius_list, ious_waves_avg[training_names[1]], label=training_names[1])\n",
    "axs[2].plot(exclusion_radius_list, ious_waves_avg[training_names[2]], label=training_names[2])\n",
    "\n",
    "axs[2].set_title('Waves IoU')\n",
    "axs[2].set_ylim([0,1])\n",
    "axs[2].legend(shadow=True, fancybox=True)\n",
    "\n",
    "plt.tick_params(labelcolor='none', which='both', top=False, bottom=False, left=False, right=False)\n",
    "plt.xlabel(\"Exclusion radius\")"
   ]
  },
  {
   "cell_type": "markdown",
   "metadata": {},
   "source": [
    "### Sparks metrics (TODO)"
   ]
  },
  {
   "cell_type": "code",
   "execution_count": 4,
   "metadata": {},
   "outputs": [],
   "source": [
    "# open sparks predictions\n",
    "sparks_name = training_name+\"_\"+str(epoch)+\"_\"+idx+\"_sparks\"+test_string+\".tif\"\n",
    "sparks = np.asarray(imageio.volread(os.path.join(training_folder,sparks_name)))"
   ]
  },
  {
   "cell_type": "code",
   "execution_count": 5,
   "metadata": {},
   "outputs": [],
   "source": [
    "# get sparks annotated locations\n",
    "annotations_sparks_loc = get_sparks_locations_from_mask(annotations, ignore_frames)"
   ]
  },
  {
   "cell_type": "code",
   "execution_count": 6,
   "metadata": {},
   "outputs": [
    {
     "name": "stdout",
     "output_type": "stream",
     "text": [
      "annotated sparks:\n",
      "[317  35 179] [393  36 226] [473   5 318] [474  36 295] [548  14 205] [954  28 154]\n"
     ]
    }
   ],
   "source": [
    "print(\"annotated sparks:\")\n",
    "print(*annotations_sparks_loc)"
   ]
  },
  {
   "cell_type": "code",
   "execution_count": 7,
   "metadata": {},
   "outputs": [],
   "source": [
    "# get sparks predicted locations\n",
    "min_radius = 3 # minimal 'radius' of a valid spark\n",
    "t_detection = 0.9 # threshold on spark preds to extract events\n",
    "\n",
    "preds_sparks_loc = process_spark_prediction(sparks, \n",
    "                                        t_detection=t_detection, \n",
    "                                        min_radius=min_radius,\n",
    "                                        ignore_frames=ignore_frames)"
   ]
  },
  {
   "cell_type": "code",
   "execution_count": 8,
   "metadata": {},
   "outputs": [
    {
     "name": "stdout",
     "output_type": "stream",
     "text": [
      "predicted sparks:\n",
      "[367  35 221] [393  36 225] [486  26 182] [540  26 143] [548  14 205] [908  18 138] [953  28 153]\n"
     ]
    }
   ],
   "source": [
    "print(\"predicted sparks:\")\n",
    "print(*preds_sparks_loc)"
   ]
  },
  {
   "cell_type": "code",
   "execution_count": 9,
   "metadata": {},
   "outputs": [],
   "source": [
    "# compute precision and recall for sparks\n",
    "match_distance = 5\n",
    "metrics = Metrics(*correspondences_precision_recall(annotations_sparks_loc, \n",
    "                                                    preds_sparks_loc, \n",
    "                                                    match_distance=match_distance))\n"
   ]
  },
  {
   "cell_type": "code",
   "execution_count": 10,
   "metadata": {},
   "outputs": [
    {
     "data": {
      "text/plain": [
       "Metrics(precision=0.42857142857142855, recall=0.5, tp=3, tp_fp=7, tp_fn=6)"
      ]
     },
     "execution_count": 10,
     "metadata": {},
     "output_type": "execute_result"
    }
   ],
   "source": [
    "metrics"
   ]
  },
  {
   "cell_type": "code",
   "execution_count": 1,
   "metadata": {},
   "outputs": [
    {
     "name": "stdout",
     "output_type": "stream",
     "text": [
      "/storage/homefs/pd19x428/anaconda3/envs/sparks\n"
     ]
    }
   ],
   "source": [
    "! echo $CONDA_PREFIX"
   ]
  },
  {
   "cell_type": "code",
   "execution_count": 3,
   "metadata": {},
   "outputs": [
    {
     "name": "stdout",
     "output_type": "stream",
     "text": [
      "# packages in environment at /software.el7/software/Anaconda3/2021.11-foss-2021a:\n",
      "#\n",
      "# Name                    Version                   Build  Channel\n",
      "_ipyw_jlab_nb_ext_conf    0.1.0            py39h06a4308_0  \n",
      "_libgcc_mutex             0.1                        main  \n",
      "_openmp_mutex             4.5                       1_gnu  \n",
      "alabaster                 0.7.12             pyhd3eb1b0_0  \n",
      "anaconda                  2021.11                  py39_0  \n",
      "anaconda-client           1.9.0            py39h06a4308_0  \n",
      "anaconda-navigator        2.1.1                    py39_0  \n",
      "anaconda-project          0.10.1             pyhd3eb1b0_0  \n",
      "anyio                     2.2.0            py39h06a4308_1  \n",
      "appdirs                   1.4.4              pyhd3eb1b0_0  \n",
      "argh                      0.26.2           py39h06a4308_0  \n",
      "argon2-cffi               20.1.0           py39h27cfd23_1  \n",
      "arrow                     0.13.1           py39h06a4308_0  \n",
      "asn1crypto                1.4.0                      py_0  \n",
      "astroid                   2.6.6            py39h06a4308_0  \n",
      "astropy                   4.3.1            py39h09021b7_0  \n",
      "async_generator           1.10               pyhd3eb1b0_0  \n",
      "atomicwrites              1.4.0                      py_0  \n",
      "attrs                     21.2.0             pyhd3eb1b0_0  \n",
      "autopep8                  1.5.7              pyhd3eb1b0_0  \n",
      "babel                     2.9.1              pyhd3eb1b0_0  \n",
      "backcall                  0.2.0              pyhd3eb1b0_0  \n",
      "backports                 1.0                pyhd3eb1b0_2  \n",
      "backports.functools_lru_cache 1.6.4              pyhd3eb1b0_0  \n",
      "backports.shutil_get_terminal_size 1.0.0              pyhd3eb1b0_3  \n",
      "backports.tempfile        1.0                pyhd3eb1b0_1  \n",
      "backports.weakref         1.0.post1                  py_1  \n",
      "beautifulsoup4            4.10.0             pyh06a4308_0  \n",
      "binaryornot               0.4.4              pyhd3eb1b0_1  \n",
      "bitarray                  2.3.0            py39h7f8727e_1  \n",
      "bkcharts                  0.2              py39h06a4308_0  \n",
      "black                     19.10b0                    py_0  \n",
      "blas                      1.0                         mkl  \n",
      "bleach                    4.0.0              pyhd3eb1b0_0  \n",
      "blosc                     1.21.0               h8c45485_0  \n",
      "bokeh                     2.4.1            py39h06a4308_0  \n",
      "boto                      2.49.0           py39h06a4308_0  \n",
      "bottleneck                1.3.2            py39hdd57654_1  \n",
      "brotli                    1.0.9                he6710b0_2  \n",
      "brotlipy                  0.7.0           py39h27cfd23_1003  \n",
      "brunsli                   0.1                  h2531618_0  \n",
      "bzip2                     1.0.8                h7b6447c_0  \n",
      "c-ares                    1.17.1               h27cfd23_0  \n",
      "ca-certificates           2021.10.26           h06a4308_2  \n",
      "cached-property           1.5.2                      py_0  \n",
      "cairo                     1.16.0               hf32fb01_1  \n",
      "certifi                   2021.10.8        py39h06a4308_0  \n",
      "cffi                      1.14.6           py39h400218f_0  \n",
      "cfitsio                   3.470                hf0d0db6_6  \n",
      "chardet                   4.0.0           py39h06a4308_1003  \n",
      "charls                    2.2.0                h2531618_0  \n",
      "charset-normalizer        2.0.4              pyhd3eb1b0_0  \n",
      "click                     8.0.3              pyhd3eb1b0_0  \n",
      "cloudpickle               2.0.0              pyhd3eb1b0_0  \n",
      "clyent                    1.2.2            py39h06a4308_1  \n",
      "colorama                  0.4.4              pyhd3eb1b0_0  \n",
      "conda                     4.10.3           py39h06a4308_0  \n",
      "conda-build               3.21.5           py39h06a4308_0  \n",
      "conda-content-trust       0.1.1              pyhd3eb1b0_0  \n",
      "conda-env                 2.6.0                         1  \n",
      "conda-pack                0.6.0              pyhd3eb1b0_0  \n",
      "conda-package-handling    1.7.3            py39h27cfd23_1  \n",
      "conda-repo-cli            1.0.4              pyhd3eb1b0_0  \n",
      "conda-token               0.3.0              pyhd3eb1b0_0  \n",
      "conda-verify              3.4.2                      py_1  \n",
      "contextlib2               0.6.0.post1        pyhd3eb1b0_0  \n",
      "cookiecutter              1.7.2              pyhd3eb1b0_0  \n",
      "cryptography              3.4.8            py39hd23ed53_0  \n",
      "curl                      7.78.0               h1ccaba5_0  \n",
      "cycler                    0.10.0           py39h06a4308_0  \n",
      "cython                    0.29.24          py39hdbfa776_0  \n",
      "cytoolz                   0.11.0           py39h27cfd23_0  \n",
      "daal4py                   2021.3.0         py39hae6d005_0  \n",
      "dal                       2021.3.0           h06a4308_557  \n",
      "dask                      2021.10.0          pyhd3eb1b0_0  \n",
      "dask-core                 2021.10.0          pyhd3eb1b0_0  \n",
      "dataclasses               0.8                pyh6d0b6a4_7  \n",
      "dbus                      1.13.18              hb2f20db_0  \n",
      "debugpy                   1.4.1            py39h295c915_0  \n",
      "decorator                 5.1.0              pyhd3eb1b0_0  \n",
      "defusedxml                0.7.1              pyhd3eb1b0_0  \n",
      "diff-match-patch          20200713           pyhd3eb1b0_0  \n",
      "distributed               2021.10.0        py39h06a4308_0  \n",
      "docutils                  0.17.1           py39h06a4308_1  \n",
      "entrypoints               0.3              py39h06a4308_0  \n",
      "et_xmlfile                1.1.0            py39h06a4308_0  \n",
      "expat                     2.4.1                h2531618_2  \n",
      "fastcache                 1.1.0            py39he8ac12f_0  \n",
      "filelock                  3.3.1              pyhd3eb1b0_1  \n",
      "flake8                    3.9.2              pyhd3eb1b0_0  \n",
      "flask                     1.1.2              pyhd3eb1b0_0  \n",
      "fontconfig                2.13.1               h6c09931_0  \n",
      "fonttools                 4.25.0             pyhd3eb1b0_0  \n",
      "freetype                  2.10.4               h5ab3b9f_0  \n",
      "fribidi                   1.0.10               h7b6447c_0  \n",
      "fsspec                    2021.8.1           pyhd3eb1b0_0  \n",
      "future                    0.18.2           py39h06a4308_1  \n",
      "get_terminal_size         1.0.0                haa9412d_0  \n",
      "gevent                    21.8.0           py39h7f8727e_1  \n",
      "giflib                    5.2.1                h7b6447c_0  \n",
      "glib                      2.69.1               h5202010_0  \n",
      "glob2                     0.7                pyhd3eb1b0_0  \n",
      "gmp                       6.2.1                h2531618_2  \n",
      "gmpy2                     2.0.8            py39h8083e48_3  \n",
      "graphite2                 1.3.14               h23475e2_0  \n",
      "greenlet                  1.1.1            py39h295c915_0  \n",
      "gst-plugins-base          1.14.0               h8213a91_2  \n",
      "gstreamer                 1.14.0               h28cd5cc_2  \n",
      "h5py                      3.3.0            py39h930cdd6_0  \n",
      "harfbuzz                  2.8.1                h6f93f22_0  \n",
      "hdf5                      1.10.6               hb1b8bf9_0  \n",
      "heapdict                  1.0.1              pyhd3eb1b0_0  \n",
      "html5lib                  1.1                pyhd3eb1b0_0  \n",
      "icu                       58.2                 he6710b0_3  \n",
      "idna                      3.2                pyhd3eb1b0_0  \n",
      "imagecodecs               2021.8.26        py39h4cda21f_0  \n",
      "imageio                   2.9.0              pyhd3eb1b0_0  \n",
      "imagesize                 1.2.0              pyhd3eb1b0_0  \n",
      "importlib-metadata        4.8.1            py39h06a4308_0  \n",
      "importlib_metadata        4.8.1                hd3eb1b0_0  \n",
      "inflection                0.5.1            py39h06a4308_0  \n",
      "iniconfig                 1.1.1              pyhd3eb1b0_0  \n",
      "intel-openmp              2021.4.0          h06a4308_3561  \n",
      "intervaltree              3.1.0              pyhd3eb1b0_0  \n",
      "ipykernel                 6.4.1            py39h06a4308_1  \n",
      "ipython                   7.29.0           py39hb070fc8_0  \n",
      "ipython_genutils          0.2.0              pyhd3eb1b0_1  \n",
      "ipywidgets                7.6.5              pyhd3eb1b0_1  \n",
      "isort                     5.9.3              pyhd3eb1b0_0  \n",
      "itsdangerous              2.0.1              pyhd3eb1b0_0  \n",
      "jbig                      2.1                  hdba287a_0  \n",
      "jdcal                     1.4.1              pyhd3eb1b0_0  \n",
      "jedi                      0.18.0           py39h06a4308_1  \n",
      "jeepney                   0.7.1              pyhd3eb1b0_0  \n",
      "jinja2                    2.11.3             pyhd3eb1b0_0  \n",
      "jinja2-time               0.2.0              pyhd3eb1b0_2  \n",
      "joblib                    1.1.0              pyhd3eb1b0_0  \n",
      "jpeg                      9d                   h7f8727e_0  \n",
      "json5                     0.9.6              pyhd3eb1b0_0  \n",
      "jsonschema                3.2.0              pyhd3eb1b0_2  \n",
      "jupyter                   1.0.0            py39h06a4308_7  \n",
      "jupyter_client            6.1.12             pyhd3eb1b0_0  \n",
      "jupyter_console           6.4.0              pyhd3eb1b0_0  \n",
      "jupyter_core              4.8.1            py39h06a4308_0  \n",
      "jupyter_server            1.4.1            py39h06a4308_0  \n",
      "jupyterlab                3.2.1              pyhd3eb1b0_1  \n",
      "jupyterlab_pygments       0.1.2                      py_0  \n",
      "jupyterlab_server         2.8.2              pyhd3eb1b0_0  \n",
      "jupyterlab_widgets        1.0.0              pyhd3eb1b0_1  \n",
      "jxrlib                    1.1                  h7b6447c_2  \n",
      "keyring                   23.1.0           py39h06a4308_0  \n",
      "kiwisolver                1.3.1            py39h2531618_0  \n",
      "krb5                      1.19.2               hac12032_0  \n",
      "lazy-object-proxy         1.6.0            py39h27cfd23_0  \n",
      "lcms2                     2.12                 h3be6417_0  \n",
      "ld_impl_linux-64          2.35.1               h7274673_9  \n",
      "lerc                      3.0                  h295c915_0  \n",
      "libaec                    1.0.4                he6710b0_1  \n",
      "libarchive                3.4.2                h62408e4_0  \n",
      "libcurl                   7.78.0               h0b77cf5_0  \n",
      "libdeflate                1.8                  h7f8727e_5  \n",
      "libedit                   3.1.20210910         h7f8727e_0  \n",
      "libev                     4.33                 h7f8727e_1  \n",
      "libffi                    3.3                  he6710b0_2  \n",
      "libgcc-ng                 9.3.0               h5101ec6_17  \n",
      "libgfortran-ng            7.5.0               ha8ba4b0_17  \n",
      "libgfortran4              7.5.0               ha8ba4b0_17  \n",
      "libgomp                   9.3.0               h5101ec6_17  \n",
      "liblief                   0.10.1               h2531618_1  \n",
      "libllvm11                 11.1.0               h3826bc1_0  \n",
      "libnghttp2                1.41.0               hf8bcb03_2  \n",
      "libpng                    1.6.37               hbc83047_0  \n",
      "libsodium                 1.0.18               h7b6447c_0  \n",
      "libspatialindex           1.9.3                h2531618_0  \n",
      "libssh2                   1.9.0                h1ba5d50_1  \n",
      "libstdcxx-ng              9.3.0               hd4cf53a_17  \n",
      "libtiff                   4.2.0                h85742a9_0  \n",
      "libtool                   2.4.6             h7b6447c_1005  \n",
      "libuuid                   1.0.3                h7f8727e_2  \n",
      "libuv                     1.40.0               h7b6447c_0  \n",
      "libwebp                   1.2.0                h89dd481_0  \n",
      "libwebp-base              1.2.0                h27cfd23_0  \n",
      "libxcb                    1.14                 h7b6447c_0  \n",
      "libxml2                   2.9.12               h03d6c58_0  \n",
      "libxslt                   1.1.34               hc22bd24_0  \n",
      "libzopfli                 1.0.3                he6710b0_0  \n",
      "llvmlite                  0.37.0           py39h295c915_1  \n",
      "locket                    0.2.1            py39h06a4308_1  \n",
      "lxml                      4.6.3            py39h9120a33_0  \n",
      "lz4-c                     1.9.3                h295c915_1  \n",
      "lzo                       2.10                 h7b6447c_2  \n",
      "markupsafe                1.1.1            py39h27cfd23_0  \n",
      "matplotlib                3.4.3            py39h06a4308_0  \n",
      "matplotlib-base           3.4.3            py39hbbc1b5f_0  \n",
      "matplotlib-inline         0.1.2              pyhd3eb1b0_2  \n",
      "mccabe                    0.6.1            py39h06a4308_1  \n",
      "mistune                   0.8.4           py39h27cfd23_1000  \n",
      "mkl                       2021.4.0           h06a4308_640  \n",
      "mkl-service               2.4.0            py39h7f8727e_0  \n",
      "mkl_fft                   1.3.1            py39hd3c417c_0  \n",
      "mkl_random                1.2.2            py39h51133e4_0  \n",
      "mock                      4.0.3              pyhd3eb1b0_0  \n",
      "more-itertools            8.10.0             pyhd3eb1b0_0  \n",
      "mpc                       1.1.0                h10f8cd9_1  \n",
      "mpfr                      4.0.2                hb69a4c5_1  \n",
      "mpi                       1.0                       mpich  \n",
      "mpich                     3.3.2                hc856adb_0  \n",
      "mpmath                    1.2.1            py39h06a4308_0  \n",
      "msgpack-python            1.0.2            py39hff7bd54_1  \n",
      "multipledispatch          0.6.0            py39h06a4308_0  \n",
      "munkres                   1.1.4                      py_0  \n",
      "mypy_extensions           0.4.3            py39h06a4308_0  \n",
      "navigator-updater         0.2.1            py39h06a4308_0  \n",
      "nbclassic                 0.2.6              pyhd3eb1b0_0  \n",
      "nbclient                  0.5.3              pyhd3eb1b0_0  \n",
      "nbconvert                 6.1.0            py39h06a4308_0  \n",
      "nbformat                  5.1.3              pyhd3eb1b0_0  \n",
      "ncurses                   6.3                  heee7806_1  \n",
      "nest-asyncio              1.5.1              pyhd3eb1b0_0  \n",
      "networkx                  2.6.3              pyhd3eb1b0_0  \n",
      "nltk                      3.6.5              pyhd3eb1b0_0  \n",
      "nose                      1.3.7           pyhd3eb1b0_1006  \n",
      "notebook                  6.4.5            py39h06a4308_0  \n",
      "numba                     0.54.1           py39h51133e4_0  \n",
      "numexpr                   2.7.3            py39h22e1b3c_1  \n",
      "numpy                     1.20.3           py39hf144106_0  \n",
      "numpy-base                1.20.3           py39h74d4b33_0  \n",
      "numpydoc                  1.1.0              pyhd3eb1b0_1  \n",
      "olefile                   0.46               pyhd3eb1b0_0  \n",
      "openjpeg                  2.4.0                h3ad879b_0  \n",
      "openpyxl                  3.0.9              pyhd3eb1b0_0  \n",
      "openssl                   1.1.1l               h7f8727e_0  \n",
      "packaging                 21.0               pyhd3eb1b0_0  \n",
      "pandas                    1.3.4            py39h8c16a72_0  \n",
      "pandocfilters             1.4.3            py39h06a4308_1  \n",
      "pango                     1.45.3               hd140c19_0  \n",
      "parso                     0.8.2              pyhd3eb1b0_0  \n",
      "partd                     1.2.0              pyhd3eb1b0_0  \n",
      "patchelf                  0.13                 h295c915_0  \n",
      "path                      16.0.0           py39h06a4308_0  \n",
      "path.py                   12.5.0               hd3eb1b0_0  \n",
      "pathlib2                  2.3.6            py39h06a4308_2  \n",
      "pathspec                  0.7.0                      py_0  \n",
      "patsy                     0.5.2            py39h06a4308_0  \n",
      "pcre                      8.45                 h295c915_0  \n",
      "pep8                      1.7.1            py39h06a4308_0  \n",
      "pexpect                   4.8.0              pyhd3eb1b0_3  \n",
      "pickleshare               0.7.5           pyhd3eb1b0_1003  \n",
      "pillow                    8.4.0            py39h5aabda8_0  \n",
      "pip                       21.2.4           py39h06a4308_0  \n",
      "pixman                    0.40.0               h7f8727e_1  \n",
      "pkginfo                   1.7.1            py39h06a4308_0  \n",
      "pluggy                    0.13.1           py39h06a4308_0  \n",
      "ply                       3.11             py39h06a4308_0  \n",
      "poyo                      0.5.0              pyhd3eb1b0_0  \n",
      "prometheus_client         0.11.0             pyhd3eb1b0_0  \n",
      "prompt-toolkit            3.0.20             pyhd3eb1b0_0  \n",
      "prompt_toolkit            3.0.20               hd3eb1b0_0  \n",
      "psutil                    5.8.0            py39h27cfd23_1  \n",
      "ptyprocess                0.7.0              pyhd3eb1b0_2  \n",
      "py                        1.10.0             pyhd3eb1b0_0  \n",
      "py-lief                   0.10.1           py39h2531618_1  \n",
      "py4j                      0.10.9.2                 pypi_0    pypi\n",
      "pycodestyle               2.7.0              pyhd3eb1b0_0  \n",
      "pycosat                   0.6.3            py39h27cfd23_0  \n",
      "pycparser                 2.20                       py_2  \n",
      "pycurl                    7.44.1           py39h8f2d780_1  \n",
      "pydocstyle                6.1.1              pyhd3eb1b0_0  \n",
      "pyerfa                    2.0.0            py39h27cfd23_0  \n",
      "pyflakes                  2.3.1              pyhd3eb1b0_0  \n",
      "pygments                  2.10.0             pyhd3eb1b0_0  \n",
      "pyjwt                     2.1.0            py39h06a4308_0  \n",
      "pylint                    2.9.6            py39h06a4308_1  \n",
      "pyls-spyder               0.4.0              pyhd3eb1b0_0  \n",
      "pyodbc                    4.0.31           py39h295c915_0  \n",
      "pyopenssl                 21.0.0             pyhd3eb1b0_1  \n",
      "pyparsing                 3.0.4              pyhd3eb1b0_0  \n",
      "pyqt                      5.9.2            py39h2531618_6  \n",
      "pyrsistent                0.18.0           py39heee7806_0  \n",
      "pysocks                   1.7.1            py39h06a4308_0  \n",
      "pyspark                   3.2.0                    pypi_0    pypi\n",
      "pytables                  3.6.1            py39h77479fe_1  \n",
      "pytest                    6.2.4            py39h06a4308_2  \n",
      "python                    3.9.7                h12debd9_1  \n",
      "python-dateutil           2.8.2              pyhd3eb1b0_0  \n",
      "python-libarchive-c       2.9                pyhd3eb1b0_1  \n",
      "python-lsp-black          1.0.0              pyhd3eb1b0_0  \n",
      "python-lsp-jsonrpc        1.0.0              pyhd3eb1b0_0  \n",
      "python-lsp-server         1.2.4              pyhd3eb1b0_0  \n",
      "python-slugify            5.0.2              pyhd3eb1b0_0  \n",
      "pytz                      2021.3             pyhd3eb1b0_0  \n",
      "pywavelets                1.1.1            py39h6323ea4_4  \n",
      "pyxdg                     0.27               pyhd3eb1b0_0  \n",
      "pyyaml                    6.0              py39h7f8727e_1  \n",
      "pyzmq                     22.2.1           py39h295c915_1  \n",
      "qdarkstyle                3.0.2              pyhd3eb1b0_0  \n",
      "qstylizer                 0.1.10             pyhd3eb1b0_0  \n",
      "qt                        5.9.7                h5867ecd_1  \n",
      "qtawesome                 1.0.2              pyhd3eb1b0_0  \n",
      "qtconsole                 5.1.1              pyhd3eb1b0_0  \n",
      "qtpy                      1.10.0             pyhd3eb1b0_0  \n",
      "readline                  8.1                  h27cfd23_0  \n",
      "regex                     2021.8.3         py39h7f8727e_0  \n",
      "requests                  2.26.0             pyhd3eb1b0_0  \n",
      "ripgrep                   12.1.1                        0  \n",
      "rope                      0.19.0             pyhd3eb1b0_0  \n",
      "rtree                     0.9.7            py39h06a4308_1  \n",
      "ruamel_yaml               0.15.100         py39h27cfd23_0  \n",
      "scikit-image              0.18.3           py39h51133e4_0  \n",
      "scikit-learn              0.24.2           py39ha9443f7_0  \n",
      "scikit-learn-intelex      2021.3.0         py39h06a4308_0  \n",
      "scipy                     1.7.1            py39h292c36d_2  \n",
      "seaborn                   0.11.2             pyhd3eb1b0_0  \n",
      "secretstorage             3.3.1            py39h06a4308_0  \n",
      "send2trash                1.8.0              pyhd3eb1b0_1  \n",
      "setuptools                58.0.4           py39h06a4308_0  \n",
      "simplegeneric             0.8.1            py39h06a4308_2  \n",
      "singledispatch            3.7.0           pyhd3eb1b0_1001  \n",
      "sip                       4.19.13          py39h2531618_0  \n",
      "six                       1.16.0             pyhd3eb1b0_0  \n",
      "snappy                    1.1.8                he6710b0_0  \n",
      "sniffio                   1.2.0            py39h06a4308_1  \n",
      "snowballstemmer           2.1.0              pyhd3eb1b0_0  \n",
      "sortedcollections         2.1.0              pyhd3eb1b0_0  \n",
      "sortedcontainers          2.4.0              pyhd3eb1b0_0  \n",
      "soupsieve                 2.2.1              pyhd3eb1b0_0  \n",
      "sphinx                    4.2.0              pyhd3eb1b0_1  \n",
      "sphinxcontrib             1.0              py39h06a4308_1  \n",
      "sphinxcontrib-applehelp   1.0.2              pyhd3eb1b0_0  \n",
      "sphinxcontrib-devhelp     1.0.2              pyhd3eb1b0_0  \n",
      "sphinxcontrib-htmlhelp    2.0.0              pyhd3eb1b0_0  \n",
      "sphinxcontrib-jsmath      1.0.1              pyhd3eb1b0_0  \n",
      "sphinxcontrib-qthelp      1.0.3              pyhd3eb1b0_0  \n",
      "sphinxcontrib-serializinghtml 1.1.5              pyhd3eb1b0_0  \n",
      "sphinxcontrib-websupport  1.2.4                      py_0  \n",
      "spyder                    5.1.5            py39h06a4308_1  \n",
      "spyder-kernels            2.1.3            py39h06a4308_0  \n",
      "sqlalchemy                1.4.22           py39h7f8727e_0  \n",
      "sqlite                    3.36.0               hc218d9a_0  \n",
      "statsmodels               0.12.2           py39h27cfd23_0  \n",
      "sympy                     1.9              py39h06a4308_0  \n",
      "tbb                       2021.4.0             hd09550d_0  \n",
      "tbb4py                    2021.4.0         py39hd09550d_0  \n",
      "tblib                     1.7.0              pyhd3eb1b0_0  \n",
      "terminado                 0.9.4            py39h06a4308_0  \n",
      "testpath                  0.5.0              pyhd3eb1b0_0  \n",
      "text-unidecode            1.3                pyhd3eb1b0_0  \n",
      "textdistance              4.2.1              pyhd3eb1b0_0  \n",
      "threadpoolctl             2.2.0              pyh0d69192_0  \n",
      "three-merge               0.1.1              pyhd3eb1b0_0  \n",
      "tifffile                  2021.7.2           pyhd3eb1b0_2  \n",
      "tinycss                   0.4             pyhd3eb1b0_1002  \n",
      "tk                        8.6.11               h1ccaba5_0  \n",
      "toml                      0.10.2             pyhd3eb1b0_0  \n",
      "toolz                     0.11.1             pyhd3eb1b0_0  \n",
      "tornado                   6.1              py39h27cfd23_0  \n",
      "tqdm                      4.62.3             pyhd3eb1b0_1  \n",
      "traitlets                 5.1.0              pyhd3eb1b0_0  \n",
      "typed-ast                 1.4.3            py39h7f8727e_1  \n",
      "typing_extensions         3.10.0.2           pyh06a4308_0  \n",
      "tzdata                    2021e                hda174b7_0  \n",
      "ujson                     4.0.2            py39h2531618_0  \n",
      "unicodecsv                0.14.1           py39h06a4308_0  \n",
      "unidecode                 1.2.0              pyhd3eb1b0_0  \n",
      "unixodbc                  2.3.9                h7b6447c_0  \n",
      "urllib3                   1.26.7             pyhd3eb1b0_0  \n",
      "watchdog                  2.1.3            py39h06a4308_0  \n",
      "wcwidth                   0.2.5              pyhd3eb1b0_0  \n",
      "webencodings              0.5.1            py39h06a4308_1  \n",
      "werkzeug                  2.0.2              pyhd3eb1b0_0  \n",
      "wheel                     0.37.0             pyhd3eb1b0_1  \n",
      "whichcraft                0.6.1              pyhd3eb1b0_0  \n",
      "widgetsnbextension        3.5.1            py39h06a4308_0  \n",
      "wrapt                     1.12.1           py39he8ac12f_1  \n",
      "wurlitzer                 2.1.1            py39h06a4308_0  \n",
      "xlrd                      2.0.1              pyhd3eb1b0_0  \n",
      "xlsxwriter                3.0.1              pyhd3eb1b0_0  \n",
      "xlwt                      1.3.0            py39h06a4308_0  \n",
      "xmltodict                 0.12.0             pyhd3eb1b0_0  \n",
      "xz                        5.2.5                h7b6447c_0  \n",
      "yaml                      0.2.5                h7b6447c_0  \n",
      "yapf                      0.31.0             pyhd3eb1b0_0  \n",
      "zeromq                    4.3.4                h2531618_0  \n",
      "zfp                       0.5.5                h2531618_6  \n",
      "zict                      2.0.0              pyhd3eb1b0_0  \n",
      "zipp                      3.6.0              pyhd3eb1b0_0  \n",
      "zlib                      1.2.11               h7b6447c_3  \n",
      "zope                      1.0              py39h06a4308_1  \n",
      "zope.event                4.5.0            py39h06a4308_0  \n",
      "zope.interface            5.4.0            py39h7f8727e_0  \n",
      "zstd                      1.4.9                haebb681_0  \n",
      "\n",
      "Note: you may need to restart the kernel to use updated packages.\n"
     ]
    }
   ],
   "source": [
    "conda list"
   ]
  },
  {
   "cell_type": "code",
   "execution_count": 8,
   "metadata": {},
   "outputs": [
    {
     "name": "stdout",
     "output_type": "stream",
     "text": [
      "Collecting package metadata (current_repodata.json): done\n",
      "Solving environment: done\n",
      "\n",
      "## Package Plan ##\n",
      "\n",
      "  environment location: /software.el7/software/Anaconda3/2021.11-foss-2021a\n",
      "\n",
      "  added / updated specs:\n",
      "    - conda\n",
      "\n",
      "\n",
      "The following packages will be downloaded:\n",
      "\n",
      "    package                    |            build\n",
      "    ---------------------------|-----------------\n",
      "    conda-4.11.0               |   py39h06a4308_0        14.4 MB\n",
      "    ------------------------------------------------------------\n",
      "                                           Total:        14.4 MB\n",
      "\n",
      "The following packages will be UPDATED:\n",
      "\n",
      "  conda                               4.10.3-py39h06a4308_0 --> 4.11.0-py39h06a4308_0\n",
      "\n",
      "\n",
      "\n",
      "Downloading and Extracting Packages\n",
      "conda-4.11.0         | 14.4 MB   | ##################################### | 100% \n",
      "Preparing transaction: done\n",
      "Verifying transaction: failed\n",
      "\n",
      "EnvironmentNotWritableError: The current user does not have write permissions to the target environment.\n",
      "  environment location: /software.el7/software/Anaconda3/2021.11-foss-2021a\n",
      "  uid: 37152\n",
      "  gid: 1015\n",
      "\n",
      "\n",
      "\n",
      "Note: you may need to restart the kernel to use updated packages.\n"
     ]
    }
   ],
   "source": [
    "conda update conda"
   ]
  },
  {
   "cell_type": "code",
   "execution_count": 4,
   "metadata": {},
   "outputs": [
    {
     "name": "stdout",
     "output_type": "stream",
     "text": [
      "Collecting package metadata (current_repodata.json): done\n",
      "Solving environment: done\n",
      "\n",
      "## Package Plan ##\n",
      "\n",
      "  environment location: /software.el7/software/Anaconda3/2021.11-foss-2021a\n",
      "\n",
      "  added / updated specs:\n",
      "    - cudatoolkit=11.3\n",
      "    - pytorch\n",
      "    - torchaudio\n",
      "    - torchvision\n",
      "\n",
      "\n",
      "The following packages will be downloaded:\n",
      "\n",
      "    package                    |            build\n",
      "    ---------------------------|-----------------\n",
      "    nettle-3.7.3               |       hbbd107a_1         809 KB\n",
      "    openh264-2.1.0             |       hd408876_0         722 KB\n",
      "    pytorch-mutex-1.0          |             cuda           3 KB  pytorch\n",
      "    ------------------------------------------------------------\n",
      "                                           Total:         1.5 MB\n",
      "\n",
      "The following NEW packages will be INSTALLED:\n",
      "\n",
      "  cudatoolkit        pkgs/main/linux-64::cudatoolkit-11.3.1-h2bc3f7f_2\n",
      "  ffmpeg             pytorch/linux-64::ffmpeg-4.3-hf484d3e_0\n",
      "  gnutls             pkgs/main/linux-64::gnutls-3.6.15-he1e5248_0\n",
      "  lame               pkgs/main/linux-64::lame-3.100-h7b6447c_0\n",
      "  libiconv           pkgs/main/linux-64::libiconv-1.15-h63c8f33_5\n",
      "  libidn2            pkgs/main/linux-64::libidn2-2.3.2-h7f8727e_0\n",
      "  libtasn1           pkgs/main/linux-64::libtasn1-4.16.0-h27cfd23_0\n",
      "  libunistring       pkgs/main/linux-64::libunistring-0.9.10-h27cfd23_0\n",
      "  nettle             pkgs/main/linux-64::nettle-3.7.3-hbbd107a_1\n",
      "  openh264           pkgs/main/linux-64::openh264-2.1.0-hd408876_0\n",
      "  pytorch            pytorch/linux-64::pytorch-1.10.1-py3.9_cuda11.3_cudnn8.2.0_0\n",
      "  pytorch-mutex      pytorch/noarch::pytorch-mutex-1.0-cuda\n",
      "  torchaudio         pytorch/linux-64::torchaudio-0.10.1-py39_cu113\n",
      "  torchvision        pytorch/linux-64::torchvision-0.11.2-py39_cu113\n",
      "\n",
      "The following packages will be UPDATED:\n",
      "\n",
      "  conda                               4.10.3-py39h06a4308_0 --> 4.11.0-py39h06a4308_0\n",
      "\n",
      "\n",
      "\n",
      "Downloading and Extracting Packages\n",
      "nettle-3.7.3         | 809 KB    | ##################################### | 100% \n",
      "pytorch-mutex-1.0    | 3 KB      | ##################################### | 100% \n",
      "openh264-2.1.0       | 722 KB    | ##################################### | 100% \n",
      "Preparing transaction: done\n",
      "Verifying transaction: failed\n",
      "\n",
      "EnvironmentNotWritableError: The current user does not have write permissions to the target environment.\n",
      "  environment location: /software.el7/software/Anaconda3/2021.11-foss-2021a\n",
      "  uid: 37152\n",
      "  gid: 1015\n",
      "\n",
      "\n",
      "\n",
      "Note: you may need to restart the kernel to use updated packages.\n"
     ]
    }
   ],
   "source": [
    "conda install pytorch torchvision torchaudio cudatoolkit=11.3 -c pytorch"
   ]
  },
  {
   "cell_type": "code",
   "execution_count": null,
   "metadata": {},
   "outputs": [],
   "source": []
  }
 ],
 "metadata": {
  "kernelspec": {
   "display_name": "sparks",
   "language": "python",
   "name": "sparks"
  },
  "language_info": {
   "codemirror_mode": {
    "name": "ipython",
    "version": 3
   },
   "file_extension": ".py",
   "mimetype": "text/x-python",
   "name": "python",
   "nbconvert_exporter": "python",
   "pygments_lexer": "ipython3",
   "version": "3.9.7"
  }
 },
 "nbformat": 4,
 "nbformat_minor": 4
}
