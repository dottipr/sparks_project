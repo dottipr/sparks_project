{
 "cells": [
  {
   "cell_type": "markdown",
   "metadata": {
    "tags": []
   },
   "source": [
    "15.12.2021\n",
    "\n",
    "# Validate U-Net predictions\n",
    "\n",
    "Load a bunch of UNet predictions in folder `trainings_validation` and compute some metrics, plots, etc.\n",
    "\n",
    "Predictions are saved as:\n",
    "`{training_name}_{epoch}_{video_id}_{class}.tif`\n",
    "\n",
    "**Idea**: Use predictions to produce plots and tables to visualize the results."
   ]
  },
  {
   "cell_type": "code",
   "execution_count": 113,
   "metadata": {
    "tags": []
   },
   "outputs": [
    {
     "name": "stdout",
     "output_type": "stream",
     "text": [
      "The autoreload extension is already loaded. To reload it, use:\n",
      "  %reload_ext autoreload\n"
     ]
    }
   ],
   "source": [
    "%load_ext autoreload\n",
    "%autoreload 2"
   ]
  },
  {
   "cell_type": "code",
   "execution_count": 114,
   "metadata": {
    "tags": []
   },
   "outputs": [],
   "source": [
    "import numpy as np\n",
    "import glob\n",
    "import os\n",
    "import imageio\n",
    "from collections import defaultdict\n",
    "import pprint\n",
    "import json\n",
    "\n",
    "from scipy.ndimage.morphology import binary_dilation, binary_erosion\n",
    "from sklearn.metrics import jaccard_score, f1_score\n",
    "\n",
    "import pandas as pd\n",
    "import matplotlib.pyplot as plt\n",
    "\n",
    "import unet\n",
    "from metrics_tools import (correspondences_precision_recall, \n",
    "                           Metrics, \n",
    "                           reduce_metrics, \n",
    "                           empty_marginal_frames,\n",
    "                           process_spark_prediction,\n",
    "                           process_puff_prediction,\n",
    "                           process_wave_prediction,\n",
    "                           compute_puff_wave_metrics,\n",
    "                           write_videos_on_disk,\n",
    "                           get_sparks_locations_from_mask,\n",
    "                           compute_prec_rec,\n",
    "                           reduce_metrics_thresholds\n",
    "                          )\n",
    "from dataset_tools import load_movies_ids"
   ]
  },
  {
   "cell_type": "code",
   "execution_count": 3,
   "metadata": {},
   "outputs": [
    {
     "data": {
      "text/plain": [
       "'C:\\\\Users\\\\dotti\\\\sparks_project\\\\sparks'"
      ]
     },
     "execution_count": 3,
     "metadata": {},
     "output_type": "execute_result"
    }
   ],
   "source": [
    "BASEDIR = os.path.abspath('')\n",
    "BASEDIR"
   ]
  },
  {
   "cell_type": "markdown",
   "metadata": {
    "tags": []
   },
   "source": [
    "# Load data"
   ]
  },
  {
   "cell_type": "markdown",
   "metadata": {
    "tags": []
   },
   "source": [
    "### Select predictions to load"
   ]
  },
  {
   "cell_type": "code",
   "execution_count": 115,
   "metadata": {},
   "outputs": [],
   "source": [
    "training_names = [#\"256_long_chunks_ubelix\",\n",
    "                  \"focal_loss_gamma_5_ubelix\"\n",
    "                  ]\n",
    "\n",
    "epoch = 100000"
   ]
  },
  {
   "cell_type": "markdown",
   "metadata": {},
   "source": [
    "### Configure input/output folder (TODO: aggiungere training name nella path nelle altre sections)"
   ]
  },
  {
   "cell_type": "code",
   "execution_count": 116,
   "metadata": {},
   "outputs": [],
   "source": [
    "metrics_folder = \"trainings_validation\"\n",
    "# TODO: cambiare nelle altre fcts!!\n",
    "os.makedirs(metrics_folder, exist_ok=True)"
   ]
  },
  {
   "cell_type": "markdown",
   "metadata": {},
   "source": [
    "### Load annotations\n",
    "open and process annotations (original version, sparks not processed)\n"
   ]
  },
  {
   "cell_type": "code",
   "execution_count": 117,
   "metadata": {},
   "outputs": [
    {
     "name": "stderr",
     "output_type": "stream",
     "text": [
      "TiffPage 0: TypeError: read_bytes() missing 3 required positional arguments: 'dtype', 'count', and 'offsetsize'\n"
     ]
    }
   ],
   "source": [
    "from dataset_tools import load_annotations\n",
    "\n",
    "ys_all_trainings = load_annotations(metrics_folder, mask_names=\"mask\")\n",
    "\n",
    "#ys_filenames = sorted(glob.glob(os.path.join(metrics_folder, \"[0-9]*_video_mask.tif\")))\n",
    "\n",
    "#for f in ys_filenames:\n",
    "#    video_id = os.path.split(f)[1][:2]\n",
    "#    ys_all_trainings[video_id] = np.asarray(imageio.volread(f)).astype('int')"
   ]
  },
  {
   "cell_type": "code",
   "execution_count": 118,
   "metadata": {},
   "outputs": [
    {
     "data": {
      "text/plain": [
       "dict_keys(['05', '10', '15', '20', '25', '32', '34', '40', '45'])"
      ]
     },
     "execution_count": 118,
     "metadata": {},
     "output_type": "execute_result"
    }
   ],
   "source": [
    "ys_all_trainings.keys()"
   ]
  },
  {
   "cell_type": "markdown",
   "metadata": {
    "tags": []
   },
   "source": [
    "### Load predictions"
   ]
  },
  {
   "cell_type": "code",
   "execution_count": 119,
   "metadata": {},
   "outputs": [
    {
     "name": "stdout",
     "output_type": "stream",
     "text": [
      "Processing training name focal_loss_gamma_5_ubelix...\n",
      "\n"
     ]
    }
   ],
   "source": [
    "ys = {} # contains annotations for each training\n",
    "sparks = {} # contains sparks for each training\n",
    "puffs = {} # contains puffs for each training\n",
    "waves = {} # contains waves for each training\n",
    "\n",
    "for training_name in training_names:\n",
    "    data_folder = os.path.join(metrics_folder, training_name)\n",
    "    print(f\"Processing training name {training_name}...\")\n",
    "    print()\n",
    "    # Import .tif files as numpy array\n",
    "    base_name = os.path.join(data_folder,training_name+\"_\"+str(epoch)+\"_\")\n",
    "    \n",
    "    if training_name == \"temporal_reduction\": # need to use annotations from another training\n",
    "        if training_names[-1] != \"temporal_reduction\":\n",
    "            base_name_ys = os.path.join(data_folder,training_names[-1]+\"_\"+str(epoch)+\"_\")\n",
    "            ys_filenames = sorted(glob.glob(base_name_ys+\"[0-9][0-9]_video_ys.tif\"))\n",
    "        else:\n",
    "            print(\"SELECT TRAINING NAME DIFFERENT FROM temporal_reduction\")\n",
    "            break\n",
    "    else:    \n",
    "        ys_filenames = sorted(glob.glob(base_name+\"*_ys.tif\"))\n",
    "        \n",
    "    sparks_filenames = sorted(glob.glob(base_name+\"[0-9][0-9]_video_sparks.tif\"))\n",
    "    puffs_filenames = sorted(glob.glob(base_name+\"[0-9][0-9]_video_puffs.tif\"))\n",
    "    waves_filenames = sorted(glob.glob(base_name+\"[0-9][0-9]_video_waves.tif\"))\n",
    "        \n",
    "    training_ys = {}\n",
    "    training_sparks = {}\n",
    "    training_puffs = {}\n",
    "    training_waves = {}\n",
    "    \n",
    "    for idx,y,s,p,w in zip(ys_all_trainings.keys(),ys_filenames,sparks_filenames,puffs_filenames,waves_filenames):\n",
    "        #print(f\"\\tProcessing the following files for movie {idx}:\")\n",
    "        #print(f\"\\tAnnotations filename: {y}\")\n",
    "        #print(f\"\\tSparks filename: {s}\")\n",
    "        #print(f\"\\tPuffs filename: {p}\")\n",
    "        #print(f\"\\tWaves filename: {w}\\t\")\n",
    "        #print()\n",
    "        ys_loaded = np.asarray(imageio.volread(y)).astype('int')\n",
    "        training_ys[idx] = ys_loaded\n",
    "        \n",
    "        if training_name == \"temporal_reduction\": # repeat each frame 4 times\n",
    "            s_preds = np.asarray(imageio.volread(s))\n",
    "            p_preds = np.asarray(imageio.volread(p))\n",
    "            w_preds = np.asarray(imageio.volread(w))\n",
    "                        \n",
    "            # repeat predicted frames x4\n",
    "            s_preds = np.repeat(s_preds,4,0)\n",
    "            p_preds = np.repeat(p_preds,4,0)\n",
    "            w_preds = np.repeat(w_preds,4,0)\n",
    "            \n",
    "            # if original length %4 != 0, crop preds\n",
    "            if ys_loaded.shape != s_preds.shape:\n",
    "                duration = ys_loaded.shape[0]\n",
    "                s_preds = s_preds[:duration]\n",
    "                p_preds = p_preds[:duration]\n",
    "                w_preds = w_preds[:duration]\n",
    "            \n",
    "            assert ys_loaded.shape == s_preds.shape\n",
    "            assert ys_loaded.shape == p_preds.shape\n",
    "            assert ys_loaded.shape == w_preds.shape\n",
    "            \n",
    "            training_sparks[idx] = s_preds\n",
    "            training_puffs[idx] = p_preds\n",
    "            training_waves[idx] = w_preds\n",
    "        else:\n",
    "            training_sparks[idx] = np.asarray(imageio.volread(s))\n",
    "            training_puffs[idx] = np.asarray(imageio.volread(p))\n",
    "            training_waves[idx] = np.asarray(imageio.volread(w))\n",
    "\n",
    "    ys[training_name] = training_ys\n",
    "    sparks[training_name] = training_sparks\n",
    "    puffs[training_name] = training_puffs\n",
    "    waves[training_name] = training_waves       "
   ]
  },
  {
   "cell_type": "markdown",
   "metadata": {
    "tags": []
   },
   "source": [
    "### Load original movies"
   ]
  },
  {
   "cell_type": "code",
   "execution_count": 120,
   "metadata": {},
   "outputs": [
    {
     "name": "stderr",
     "output_type": "stream",
     "text": [
      "TiffPage 0: TypeError: read_bytes() missing 3 required positional arguments: 'dtype', 'count', and 'offsetsize'\n"
     ]
    }
   ],
   "source": [
    "# NEW\n",
    "movie_names = ys_all_trainings.keys()\n",
    "movie_path = os.path.join(\"..\",\"data\",\"raw_data_and_processing\",\"original_movies\")\n",
    "movies = load_movies_ids(movie_path, movie_names)"
   ]
  },
  {
   "cell_type": "markdown",
   "metadata": {
    "tags": []
   },
   "source": [
    "# Jaccard index (IoU score) for puffs and waves\n",
    "12.05.2021\n",
    "Seguendo il consiglio di Pablo:\n",
    "erosion & dilation delle annotations -> creazione di una exclusion region che viene ignorata dal supporto del Jaccard index"
   ]
  },
  {
   "cell_type": "markdown",
   "metadata": {
    "tags": []
   },
   "source": [
    "## Compute metrics for sample video"
   ]
  },
  {
   "cell_type": "code",
   "execution_count": 121,
   "metadata": {
    "tags": []
   },
   "outputs": [],
   "source": [
    "# results for a sample movie in sample dataset\n",
    "name = \"focal_loss_gamma_5_ubelix\"\n",
    "idx = '05'"
   ]
  },
  {
   "cell_type": "code",
   "execution_count": 17,
   "metadata": {
    "tags": []
   },
   "outputs": [],
   "source": [
    "# parameters\n",
    "ignore_frames = 6\n",
    "\n",
    "t_detection = 0.5\n",
    "min_radius_puffs = 4\n",
    "min_radius_waves = 10"
   ]
  },
  {
   "cell_type": "markdown",
   "metadata": {
    "tags": []
   },
   "source": [
    "### Get binary preds and remove ignored frames"
   ]
  },
  {
   "cell_type": "code",
   "execution_count": 18,
   "metadata": {
    "tags": []
   },
   "outputs": [],
   "source": [
    "# get predictions\n",
    "sparks_sample = sparks[name][idx]\n",
    "puffs_sample = puffs[name][idx]\n",
    "waves_sample = waves[name][idx]"
   ]
  },
  {
   "cell_type": "code",
   "execution_count": 19,
   "metadata": {
    "tags": []
   },
   "outputs": [],
   "source": [
    "puffs_binary = process_puff_prediction(puffs_sample, \n",
    "                                       t_detection, \n",
    "                                       min_radius_puffs, \n",
    "                                       ignore_frames)\n",
    "\n",
    "waves_binary = process_wave_prediction(waves_sample, \n",
    "                                       t_detection, \n",
    "                                       min_radius_waves, \n",
    "                                       ignore_frames)"
   ]
  },
  {
   "cell_type": "markdown",
   "metadata": {
    "jp-MarkdownHeadingCollapsed": true,
    "tags": []
   },
   "source": [
    "### Get binary ys and remove ignored frames"
   ]
  },
  {
   "cell_type": "code",
   "execution_count": null,
   "metadata": {
    "tags": []
   },
   "outputs": [],
   "source": [
    "# get binary ys\n",
    "ys_sample = ys_all_trainings[idx]\n",
    "\n",
    "ys_puffs_sample = np.where(ys_sample==3,1,0)\n",
    "ys_waves_sample = np.where(ys_sample==2,1,0)\n",
    "ignore_mask = np.where(ys_sample==4,1,0)"
   ]
  },
  {
   "cell_type": "code",
   "execution_count": null,
   "metadata": {
    "tags": []
   },
   "outputs": [],
   "source": [
    "ys_puffs_sample = empty_marginal_frames(ys_puffs_sample, ignore_frames)\n",
    "ys_waves_sample = empty_marginal_frames(ys_waves_sample, ignore_frames)\n",
    "ignore_mask = empty_marginal_frames(ignore_mask, ignore_frames)"
   ]
  },
  {
   "cell_type": "markdown",
   "metadata": {
    "jp-MarkdownHeadingCollapsed": true,
    "tags": []
   },
   "source": [
    "### Plot a sample frame"
   ]
  },
  {
   "cell_type": "code",
   "execution_count": null,
   "metadata": {
    "tags": []
   },
   "outputs": [],
   "source": [
    "sparks_sample.shape, puffs_sample.shape, waves_sample.shape, ys_sample.shape"
   ]
  },
  {
   "cell_type": "code",
   "execution_count": null,
   "metadata": {
    "tags": []
   },
   "outputs": [],
   "source": [
    "sample_frame = 199 # 346"
   ]
  },
  {
   "cell_type": "code",
   "execution_count": null,
   "metadata": {
    "tags": []
   },
   "outputs": [],
   "source": [
    "# Plot annotations and preds of sample frame\n",
    "\n",
    "#plt.rcParams.update({'font.size': 8})\n",
    "\n",
    "plt.figure(figsize=(20,8))\n",
    "plt.suptitle(f\"Annotations and preds of sample frame {sample_frame}\", fontsize=12)\n",
    "\n",
    "\n",
    "ax = plt.subplot(4,2,1)\n",
    "ax.set_title(\"Puffs annotations\")\n",
    "plt.imshow(ys_puffs_sample[sample_frame])\n",
    "\n",
    "ax = plt.subplot(4,2,2)\n",
    "ax.set_title(\"Waves annotations\")\n",
    "plt.imshow(ys_waves_sample[sample_frame])\n",
    "\n",
    "ax = plt.subplot(4,2,3)\n",
    "ax.set_title(\"Puffs binary preds\")\n",
    "plt.imshow(puffs_binary[sample_frame])\n",
    "\n",
    "ax = plt.subplot(4,2,4)\n",
    "ax.set_title(\"Waves binary preds\")\n",
    "plt.imshow(waves_binary[sample_frame])\n",
    "\n",
    "ax = plt.subplot(4,2,5)\n",
    "ax.set_title(\"Puffs original preds\")\n",
    "plt.imshow(puffs_sample[sample_frame])\n",
    "\n",
    "ax = plt.subplot(4,2,6)\n",
    "ax.set_title(\"Waves original preds\")\n",
    "plt.imshow(waves_sample[sample_frame])\n",
    "\n",
    "ax = plt.subplot(4,2,7)\n",
    "ax.set_title(\"Ignore mask (annotations)\")\n",
    "plt.imshow(ignore_mask[sample_frame])\n",
    "\n",
    "\n",
    "plt.show()"
   ]
  },
  {
   "cell_type": "markdown",
   "metadata": {
    "jp-MarkdownHeadingCollapsed": true,
    "tags": []
   },
   "source": [
    "### Save sample binary preds on disk"
   ]
  },
  {
   "cell_type": "code",
   "execution_count": null,
   "metadata": {
    "tags": []
   },
   "outputs": [],
   "source": [
    "imageio.volwrite(os.path.join(metrics_folder, \"binary_preds_puffs.tif\"), np.uint8(puffs_binary))\n",
    "imageio.volwrite(os.path.join(metrics_folder, \"binary_preds_waves.tif\"), np.uint8(waves_binary))"
   ]
  },
  {
   "cell_type": "markdown",
   "metadata": {
    "jp-MarkdownHeadingCollapsed": true,
    "tags": []
   },
   "source": [
    "### Save sample annotations on disk"
   ]
  },
  {
   "cell_type": "code",
   "execution_count": null,
   "metadata": {
    "tags": []
   },
   "outputs": [],
   "source": [
    "imageio.volwrite(os.path.join(metrics_folder, \"annotations_puffs.tif\"), np.uint8(ys_puffs_sample))\n",
    "imageio.volwrite(os.path.join(metrics_folder, \"annotations_waves.tif\"), np.uint8(ys_waves_sample))"
   ]
  },
  {
   "cell_type": "markdown",
   "metadata": {
    "jp-MarkdownHeadingCollapsed": true,
    "tags": []
   },
   "source": [
    "### Save ignore mask on disk"
   ]
  },
  {
   "cell_type": "code",
   "execution_count": null,
   "metadata": {
    "tags": []
   },
   "outputs": [],
   "source": [
    "imageio.volwrite(os.path.join(metrics_folder, \"ignore_mask.tif\"), np.uint8(ignore_mask))"
   ]
  },
  {
   "cell_type": "markdown",
   "metadata": {
    "tags": []
   },
   "source": [
    "### Compute Jaccard score (without exclusion zone)"
   ]
  },
  {
   "cell_type": "code",
   "execution_count": 21,
   "metadata": {
    "tags": []
   },
   "outputs": [
    {
     "name": "stdout",
     "output_type": "stream",
     "text": [
      "Jaccard score puffs: 0.16206809118779245\n",
      "Jaccard score waves: 0.0\n"
     ]
    },
    {
     "name": "stderr",
     "output_type": "stream",
     "text": [
      "C:\\Users\\dotti\\.conda\\envs\\sparks\\lib\\site-packages\\sklearn\\metrics\\_classification.py:1248: UndefinedMetricWarning: Jaccard is ill-defined and being set to 0.0 due to no true or predicted samples. Use `zero_division` parameter to control this behavior.\n",
      "  _warn_prf(average, modifier, msg_start, len(result))\n"
     ]
    }
   ],
   "source": [
    "iou_puffs = jaccard_score(ys_puffs_sample.ravel(), puffs_binary.ravel())\n",
    "iou_waves = jaccard_score(ys_waves_sample.ravel(), waves_binary.ravel())\n",
    "\n",
    "print(f\"Jaccard score puffs: {iou_puffs}\")\n",
    "print(f\"Jaccard score waves: {iou_waves}\")"
   ]
  },
  {
   "cell_type": "code",
   "execution_count": 22,
   "metadata": {
    "tags": []
   },
   "outputs": [],
   "source": [
    "# Compute exclusion zone\n",
    "\n",
    "exclusion_radius = 2"
   ]
  },
  {
   "cell_type": "code",
   "execution_count": 23,
   "metadata": {
    "tags": []
   },
   "outputs": [],
   "source": [
    "# Just for puffs\n",
    "puffs_eroded = binary_erosion(ys_puffs_sample, iterations=exclusion_radius)\n",
    "puffs_dilated = binary_dilation(ys_puffs_sample, iterations=exclusion_radius)\n",
    "\n",
    "exclusion_mask = 1 - np.logical_xor(puffs_eroded, puffs_dilated)\n",
    "# 1 where Jaccard index has to be computed, 0 otherwise"
   ]
  },
  {
   "cell_type": "code",
   "execution_count": 24,
   "metadata": {
    "tags": []
   },
   "outputs": [],
   "source": [
    "# Compute dilation for ignore mask\n",
    "ignore_mask_dilated = binary_dilation(ignore_mask, iterations=exclusion_radius)\n",
    "\n",
    "# Ignore regions in ignore mask too\n",
    "exclusion_mask_ignore_roi = np.logical_and(1 - ignore_mask_dilated, exclusion_mask)"
   ]
  },
  {
   "cell_type": "code",
   "execution_count": 25,
   "metadata": {
    "collapsed": true,
    "jupyter": {
     "outputs_hidden": true
    },
    "tags": []
   },
   "outputs": [
    {
     "data": {
      "image/png": "[encoded data removed]",
      "text/plain": [
       "<Figure size 1440x432 with 6 Axes>"
      ]
     },
     "metadata": {
      "needs_background": "light"
     },
     "output_type": "display_data"
    }
   ],
   "source": [
    "# Plot annotations eroded and dilated\n",
    "#plt.rcParams.update({'font.size': 8})\n",
    "\n",
    "plt.figure(figsize=(20,6))\n",
    "plt.suptitle(f\"Plot annotations eroded and dilated of sample frame {sample_frame}\", fontsize=12)\n",
    "\n",
    "\n",
    "ax = plt.subplot(3,2,1)\n",
    "ax.set_title(\"Puffs original annotations\")\n",
    "plt.imshow(ys_puffs_sample[sample_frame])\n",
    "\n",
    "ax = plt.subplot(3,2,2)\n",
    "ax.set_title(\"Difference\")\n",
    "plt.imshow(exclusion_mask[sample_frame])\n",
    "\n",
    "ax = plt.subplot(3,2,3)\n",
    "ax.set_title(\"Puffs eroded annotations\")\n",
    "plt.imshow(puffs_eroded[sample_frame])\n",
    "\n",
    "ax = plt.subplot(3,2,4)\n",
    "ax.set_title(\"Puffs dilated annotations\")\n",
    "plt.imshow(puffs_dilated[sample_frame])\n",
    "\n",
    "ax = plt.subplot(3,2,5)\n",
    "ax.set_title(\"Dilated ignore mask\")\n",
    "plt.imshow(ignore_mask_dilated[sample_frame])\n",
    "\n",
    "ax = plt.subplot(3,2,6)\n",
    "ax.set_title(\"Region to compute IoU\")\n",
    "plt.imshow(exclusion_mask_ignore_roi[sample_frame])\n",
    "\n",
    "\n",
    "plt.show()"
   ]
  },
  {
   "cell_type": "code",
   "execution_count": 26,
   "metadata": {
    "tags": []
   },
   "outputs": [],
   "source": [
    "# Compute intersection and union of annotations with preds\n",
    "\n",
    "intersection = np.logical_and(ys_puffs_sample, puffs_binary)\n",
    "union = np.logical_or(ys_puffs_sample, puffs_binary)\n",
    "\n",
    "# Compute intersection and union only in exclusion mask\n",
    "\n",
    "intersection_mask = np.logical_and(intersection, exclusion_mask_ignore_roi)\n",
    "union_mask = np.logical_and(union, exclusion_mask_ignore_roi)"
   ]
  },
  {
   "cell_type": "code",
   "execution_count": 27,
   "metadata": {
    "collapsed": true,
    "jupyter": {
     "outputs_hidden": true
    },
    "tags": []
   },
   "outputs": [
    {
     "data": {
      "image/png": "[encoded data removed]",
      "text/plain": [
       "<Figure size 1440x432 with 6 Axes>"
      ]
     },
     "metadata": {
      "needs_background": "light"
     },
     "output_type": "display_data"
    }
   ],
   "source": [
    "# Plot intersection and union\n",
    "#plt.rcParams.update({'font.size': 8})\n",
    "\n",
    "plt.figure(figsize=(20,6))\n",
    "plt.suptitle(f\"Intersection and union of annotations with preds of sample frame {sample_frame}\", fontsize=12)\n",
    "\n",
    "\n",
    "ax = plt.subplot(3,2,1)\n",
    "ax.set_title(\"Intersecion of annotations and preds\")\n",
    "plt.imshow(intersection[sample_frame])\n",
    "\n",
    "ax = plt.subplot(3,2,2)\n",
    "ax.set_title(\"Union of annotations and preds\")\n",
    "plt.imshow(union[sample_frame])\n",
    "\n",
    "ax = plt.subplot(3,2,3)\n",
    "ax.set_title(\"Same intersection with respect to exclusion mask\")\n",
    "plt.imshow(intersection_mask[sample_frame])\n",
    "\n",
    "ax = plt.subplot(3,2,4)\n",
    "ax.set_title(\"Same union with respect to exclusion mask\")\n",
    "plt.imshow(union_mask[sample_frame])\n",
    "\n",
    "ax = plt.subplot(3,2,5)\n",
    "ax.set_title(\"Exclusion mask\")\n",
    "plt.imshow(exclusion_mask[sample_frame])\n",
    "\n",
    "ax = plt.subplot(3,2,6)\n",
    "ax.set_title(\"Exclusion mask with ignore mask\")\n",
    "plt.imshow(exclusion_mask_ignore_roi[sample_frame])\n",
    "\n",
    "\n",
    "plt.show()"
   ]
  },
  {
   "cell_type": "code",
   "execution_count": 28,
   "metadata": {
    "collapsed": true,
    "jupyter": {
     "outputs_hidden": true
    },
    "tags": []
   },
   "outputs": [
    {
     "name": "stdout",
     "output_type": "stream",
     "text": [
      "Pixels in intersection: 16943\n",
      "Pixels in union: 136282\n",
      "IoU wrt to wave class: 0.12432309475939596\n"
     ]
    }
   ],
   "source": [
    "# Compute Jaccard index\n",
    "\n",
    "print(f\"Pixels in intersection: {np.count_nonzero(intersection_mask)}\")\n",
    "print(f\"Pixels in union: {np.count_nonzero(union_mask)}\")\n",
    "\n",
    "new_iou_puffs = np.count_nonzero(intersection_mask)/np.count_nonzero(union_mask)\n",
    "\n",
    "print(f\"IoU wrt to wave class: {new_iou_puffs}\")"
   ]
  },
  {
   "cell_type": "code",
   "execution_count": 29,
   "metadata": {
    "tags": []
   },
   "outputs": [],
   "source": [
    "new_iou_puffs = jaccard_score_exclusion_zone(ys_puffs_sample, puffs_binary, exclusion_radius, ignore_mask)\n",
    "new_iou_waves = jaccard_score_exclusion_zone(ys_waves_sample, waves_binary, exclusion_radius, ignore_mask)"
   ]
  },
  {
   "cell_type": "code",
   "execution_count": 30,
   "metadata": {
    "collapsed": true,
    "jupyter": {
     "outputs_hidden": true
    },
    "tags": []
   },
   "outputs": [
    {
     "name": "stdout",
     "output_type": "stream",
     "text": [
      "0.12432309475939596\n",
      "1.0\n"
     ]
    }
   ],
   "source": [
    "print(new_iou_puffs)\n",
    "print(new_iou_waves)"
   ]
  },
  {
   "cell_type": "markdown",
   "metadata": {
    "jp-MarkdownHeadingCollapsed": true,
    "tags": []
   },
   "source": [
    "### Jaccard index for sparks"
   ]
  },
  {
   "cell_type": "code",
   "execution_count": 73,
   "metadata": {
    "tags": []
   },
   "outputs": [],
   "source": [
    "# get sparks annotations\n",
    "ys_sparks_sample = np.where(ys_sample==1,1,0)\n",
    "\n",
    "# get sparks predictions\n",
    "t_detection_sparks = 0.9\n",
    "min_radius_sparks = 3\n",
    "sparks_binary = (process_spark_prediction(sparks_sample, \n",
    "                                          t_detection=t_detection_sparks,\n",
    "                                          min_radius=min_radius_sparks,\n",
    "                                          ignore_frames=ignore_frames,\n",
    "                                          return_clean_pred=True)) != 0 "
   ]
  },
  {
   "cell_type": "markdown",
   "metadata": {
    "tags": []
   },
   "source": [
    "### Comparison with original implementation (when radius = 0)"
   ]
  },
  {
   "cell_type": "code",
   "execution_count": 76,
   "metadata": {
    "collapsed": true,
    "jupyter": {
     "outputs_hidden": true
    },
    "tags": []
   },
   "outputs": [
    {
     "name": "stdout",
     "output_type": "stream",
     "text": [
      "Jaccard index with new method:\n",
      "Puffs: 0.20890103174317864\n",
      "Waves: 1.0\n",
      "Sparks: 0.04723618090452261\n",
      "\n",
      "Jaccard index with sklearn metrics method\n",
      "Puffs: 0.20890103174317864\n",
      "Waves: 0.0\n",
      "Sparks: 0.04723618090452261\n"
     ]
    }
   ],
   "source": [
    "print(\"Jaccard index with new method:\")\n",
    "print(f\"Puffs: {jaccard_score_exclusion_zone(ys_puffs_sample, puffs_binary, 0)}\") # ! not considering ignore mask\n",
    "print(f\"Waves: {jaccard_score_exclusion_zone(ys_waves_sample, waves_binary, 0)}\") # ! not considering ignore mask\n",
    "print(f\"Sparks: {jaccard_score_exclusion_zone(ys_sparks_sample, sparks_binary, 0, sparks=True)}\") # ! not considering ignore mask\n",
    "print()\n",
    "print(\"Jaccard index with sklearn metrics method\")\n",
    "print(f\"Puffs: {jaccard_score(ys_puffs_sample.ravel(), puffs_binary.ravel())}\")\n",
    "print(f\"Waves: {jaccard_score(ys_waves_sample.ravel(), waves_binary.ravel())}\")\n",
    "print(f\"Sparks: {jaccard_score(ys_sparks_sample.ravel(), sparks_binary.ravel())}\")"
   ]
  },
  {
   "cell_type": "markdown",
   "metadata": {
    "jp-MarkdownHeadingCollapsed": true,
    "tags": []
   },
   "source": [
    "### Plot IoU with respect to different exclusion radius"
   ]
  },
  {
   "cell_type": "code",
   "execution_count": 77,
   "metadata": {
    "tags": []
   },
   "outputs": [],
   "source": [
    "exclusion_radius_list = [0,1,2,3,4,5,6,7,8,9,10]\n",
    "\n",
    "# puffs\n",
    "ious_puffs = []\n",
    "for radius in exclusion_radius_list:\n",
    "    ious_puffs.append(jaccard_score_exclusion_zone(ys_puffs_sample, puffs_binary, radius)) # ! not considering ignore mask\n",
    "    \n",
    "# waves\n",
    "ious_waves = []\n",
    "for radius in exclusion_radius_list:\n",
    "    ious_waves.append(jaccard_score_exclusion_zone(ys_waves_sample, waves_binary, radius)) # ! not considering ignore mask\n",
    "    \n",
    "# sparks\n",
    "ious_sparks = []\n",
    "for radius in exclusion_radius_list:\n",
    "    ious_sparks.append(jaccard_score_exclusion_zone(ys_sparks_sample, sparks_binary, radius, sparks=True)) # ! not considering ignore mask"
   ]
  },
  {
   "cell_type": "code",
   "execution_count": 78,
   "metadata": {
    "collapsed": true,
    "jupyter": {
     "outputs_hidden": true
    },
    "tags": []
   },
   "outputs": [
    {
     "data": {
      "image/png": "[encoded data removed]",
      "text/plain": [
       "<Figure size 1440x288 with 3 Axes>"
      ]
     },
     "metadata": {
      "needs_background": "light"
     },
     "output_type": "display_data"
    }
   ],
   "source": [
    "# Plot Jaccard index wrt different exclusion radius\n",
    "#plt.rcParams.update({'font.size': 8})\n",
    "\n",
    "plt.figure(figsize=(20,4))\n",
    "plt.suptitle(f\"Jaccard index with respect to different exclusion radius\", fontsize=12)\n",
    "\n",
    "\n",
    "ax = plt.subplot(1,3,1)\n",
    "ax.set_title(\"Puff class\")\n",
    "plt.ylim([0, 1])\n",
    "plt.plot(exclusion_radius_list, ious_puffs)\n",
    "\n",
    "ax = plt.subplot(1,3,2)\n",
    "ax.set_title(\"Waves class\")\n",
    "plt.ylim([0, 1])\n",
    "plt.plot(exclusion_radius_list, ious_waves)\n",
    "\n",
    "ax = plt.subplot(1,3,3)\n",
    "ax.set_title(\"Sparks class\")\n",
    "plt.ylim([0, 1])\n",
    "plt.plot(exclusion_radius_list, ious_sparks)\n",
    "\n",
    "\n",
    "plt.show()"
   ]
  },
  {
   "cell_type": "code",
   "execution_count": 79,
   "metadata": {
    "collapsed": true,
    "jupyter": {
     "outputs_hidden": true
    },
    "tags": []
   },
   "outputs": [
    {
     "name": "stdout",
     "output_type": "stream",
     "text": [
      "IoUs puffs: [0.20890103174317864, 0.14459408432976714, 0.08126801152737752, 0.037353441136730156, 0.013306755737528283, 0.0021321961620469083, 7.474400179385604e-05, 0.0, 0.0, 0.0, 0.0]\n",
      "IoUs puffs: [1.0, 1.0, 1.0, 1.0, 1.0, 1.0, 1.0, 1.0, 1.0, 1.0, 1.0]\n",
      "IoUs puffs: [0.04723618090452261, 0.05264336917562724, 0.05791030064070971, 0.06230116648992577, 0.06536856745479833, 0.06762589928057554, 0.06909732431637754, 0.07004470938897168, 0.07078313253012049, 0.07219662058371736, 0.07413249211356467]\n"
     ]
    }
   ],
   "source": [
    "print(f\"IoUs puffs: {ious_puffs}\")\n",
    "print(f\"IoUs puffs: {ious_waves}\")\n",
    "print(f\"IoUs puffs: {ious_sparks}\")"
   ]
  },
  {
   "cell_type": "markdown",
   "metadata": {
    "tags": []
   },
   "source": [
    "## Evaluate all trainings on all videos (plain version using exclusion radius)"
   ]
  },
  {
   "cell_type": "markdown",
   "metadata": {},
   "source": [
    "Remarks: \n",
    "- IoU not computed for sparks (it doesn't make sense)"
   ]
  },
  {
   "cell_type": "code",
   "execution_count": 9,
   "metadata": {
    "tags": []
   },
   "outputs": [],
   "source": [
    "# params best for focal_loss_gamma_5_ubelix\n",
    "\n",
    "# parameters\n",
    "ignore_frames = 6\n",
    "\n",
    "# sparks params\n",
    "#t_detection_sparks = 0.7\n",
    "#min_radius_sparks = 2\n",
    "\n",
    "# puffs and waves params\n",
    "t_detection = [0.5]#,0.55,0.6,0.65,0.7,0.75,0.8,0.85,0.9,0.95]\n",
    "min_radius = [0]#,1,2,3,4,5,6,7,8,9,10]\n",
    "\n",
    "exclusion_radius = [0]#,1,2,3,4,5,6,7,8,9,10]"
   ]
  },
  {
   "cell_type": "code",
   "execution_count": 193,
   "metadata": {
    "tags": []
   },
   "outputs": [
    {
     "name": "stdout",
     "output_type": "stream",
     "text": [
      "focal_loss_gamma_5_ubelix\n",
      "\tVideo name: 05\n",
      "\t\tDetection threshold: 0.5\n",
      "\t\t\tMinimal radius: 0\n",
      "\t\t\t\tExclusion radius: 0\n",
      "\t\t\t\tExclusion radius: 1\n",
      "\t\t\t\tExclusion radius: 2\n",
      "\t\t\t\tExclusion radius: 3\n",
      "\t\t\t\tExclusion radius: 4\n",
      "\t\t\t\tExclusion radius: 5\n",
      "\t\t\t\tExclusion radius: 6\n",
      "\t\t\t\tExclusion radius: 7\n",
      "\t\t\t\tExclusion radius: 8\n",
      "\t\t\t\tExclusion radius: 9\n",
      "\t\t\t\tExclusion radius: 10\n",
      "\t\t\tMinimal radius: 1\n",
      "\t\t\t\tExclusion radius: 0\n",
      "\t\t\t\tExclusion radius: 1\n",
      "\t\t\t\tExclusion radius: 2\n",
      "\t\t\t\tExclusion radius: 3\n",
      "\t\t\t\tExclusion radius: 4\n",
      "\t\t\t\tExclusion radius: 5\n",
      "\t\t\t\tExclusion radius: 6\n",
      "\t\t\t\tExclusion radius: 7\n",
      "\t\t\t\tExclusion radius: 8\n",
      "\t\t\t\tExclusion radius: 9\n",
      "\t\t\t\tExclusion radius: 10\n",
      "\t\t\tMinimal radius: 2\n",
      "\t\t\t\tExclusion radius: 0\n",
      "\t\t\t\tExclusion radius: 1\n",
      "\t\t\t\tExclusion radius: 2\n",
      "\t\t\t\tExclusion radius: 3\n",
      "\t\t\t\tExclusion radius: 4\n",
      "\t\t\t\tExclusion radius: 5\n",
      "\t\t\t\tExclusion radius: 6\n",
      "\t\t\t\tExclusion radius: 7\n",
      "\t\t\t\tExclusion radius: 8\n"
     ]
    },
    {
     "ename": "KeyboardInterrupt",
     "evalue": "",
     "output_type": "error",
     "traceback": [
      "\u001b[1;31m---------------------------------------------------------------------------\u001b[0m",
      "\u001b[1;31mKeyboardInterrupt\u001b[0m                         Traceback (most recent call last)",
      "\u001b[1;32m~\\AppData\\Local\\Temp/ipykernel_15676/1107494804.py\u001b[0m in \u001b[0;36m<module>\u001b[1;34m\u001b[0m\n\u001b[0;32m     45\u001b[0m                     \u001b[0mprint\u001b[0m\u001b[1;33m(\u001b[0m\u001b[1;34m\"\\t\\t\\t\\tExclusion radius:\"\u001b[0m\u001b[1;33m,\u001b[0m \u001b[0mexclusion_r\u001b[0m\u001b[1;33m)\u001b[0m\u001b[1;33m\u001b[0m\u001b[1;33m\u001b[0m\u001b[0m\n\u001b[0;32m     46\u001b[0m                     \u001b[1;31m# puffs\u001b[0m\u001b[1;33m\u001b[0m\u001b[1;33m\u001b[0m\u001b[1;33m\u001b[0m\u001b[0m\n\u001b[1;32m---> 47\u001b[1;33m                     ious_puffs[t][min_r][exclusion_r][video_id] = jaccard_score_exclusion_zone(ys=ys_puffs_sample,\n\u001b[0m\u001b[0;32m     48\u001b[0m                                                                                                \u001b[0mpreds\u001b[0m\u001b[1;33m=\u001b[0m\u001b[0mpuffs_binary\u001b[0m\u001b[1;33m,\u001b[0m\u001b[1;33m\u001b[0m\u001b[1;33m\u001b[0m\u001b[0m\n\u001b[0;32m     49\u001b[0m                                                                                                \u001b[0mexclusion_radius\u001b[0m\u001b[1;33m=\u001b[0m\u001b[0mexclusion_r\u001b[0m\u001b[1;33m,\u001b[0m\u001b[1;33m\u001b[0m\u001b[1;33m\u001b[0m\u001b[0m\n",
      "\u001b[1;32m~\\sparks_project\\sparks\\metrics_tools.py\u001b[0m in \u001b[0;36mjaccard_score_exclusion_zone\u001b[1;34m(ys, preds, exclusion_radius, ignore_mask, sparks)\u001b[0m\n\u001b[0;32m    534\u001b[0m     \u001b[1;32mif\u001b[0m \u001b[0mexclusion_radius\u001b[0m \u001b[1;33m!=\u001b[0m \u001b[1;36m0\u001b[0m\u001b[1;33m:\u001b[0m\u001b[1;33m\u001b[0m\u001b[1;33m\u001b[0m\u001b[0m\n\u001b[0;32m    535\u001b[0m         \u001b[1;31m# Compute exclusion zone: 1 where Jaccard index has to be computed, 0 otherwise\u001b[0m\u001b[1;33m\u001b[0m\u001b[1;33m\u001b[0m\u001b[1;33m\u001b[0m\u001b[0m\n\u001b[1;32m--> 536\u001b[1;33m         \u001b[0mdilated\u001b[0m \u001b[1;33m=\u001b[0m \u001b[0mbinary_dilation\u001b[0m\u001b[1;33m(\u001b[0m\u001b[0mys\u001b[0m\u001b[1;33m,\u001b[0m \u001b[0miterations\u001b[0m\u001b[1;33m=\u001b[0m\u001b[0mexclusion_radius\u001b[0m\u001b[1;33m)\u001b[0m\u001b[1;33m\u001b[0m\u001b[1;33m\u001b[0m\u001b[0m\n\u001b[0m\u001b[0;32m    537\u001b[0m \u001b[1;33m\u001b[0m\u001b[0m\n\u001b[0;32m    538\u001b[0m         \u001b[1;32mif\u001b[0m \u001b[1;32mnot\u001b[0m \u001b[0msparks\u001b[0m\u001b[1;33m:\u001b[0m\u001b[1;33m\u001b[0m\u001b[1;33m\u001b[0m\u001b[0m\n",
      "\u001b[1;32m~\\.conda\\envs\\sparks\\lib\\site-packages\\scipy\\ndimage\\morphology.py\u001b[0m in \u001b[0;36mbinary_dilation\u001b[1;34m(input, structure, iterations, mask, output, border_value, origin, brute_force)\u001b[0m\n\u001b[0;32m    516\u001b[0m             \u001b[0morigin\u001b[0m\u001b[1;33m[\u001b[0m\u001b[0mii\u001b[0m\u001b[1;33m]\u001b[0m \u001b[1;33m-=\u001b[0m \u001b[1;36m1\u001b[0m\u001b[1;33m\u001b[0m\u001b[1;33m\u001b[0m\u001b[0m\n\u001b[0;32m    517\u001b[0m \u001b[1;33m\u001b[0m\u001b[0m\n\u001b[1;32m--> 518\u001b[1;33m     return _binary_erosion(input, structure, iterations, mask,\n\u001b[0m\u001b[0;32m    519\u001b[0m                            output, border_value, origin, 1, brute_force)\n\u001b[0;32m    520\u001b[0m \u001b[1;33m\u001b[0m\u001b[0m\n",
      "\u001b[1;32m~\\.conda\\envs\\sparks\\lib\\site-packages\\scipy\\ndimage\\morphology.py\u001b[0m in \u001b[0;36m_binary_erosion\u001b[1;34m(input, structure, iterations, mask, output, border_value, origin, invert, brute_force)\u001b[0m\n\u001b[0;32m    255\u001b[0m         \u001b[1;32mreturn\u001b[0m \u001b[0moutput\u001b[0m\u001b[1;33m\u001b[0m\u001b[1;33m\u001b[0m\u001b[0m\n\u001b[0;32m    256\u001b[0m     \u001b[1;32melif\u001b[0m \u001b[0mcit\u001b[0m \u001b[1;32mand\u001b[0m \u001b[1;32mnot\u001b[0m \u001b[0mbrute_force\u001b[0m\u001b[1;33m:\u001b[0m\u001b[1;33m\u001b[0m\u001b[1;33m\u001b[0m\u001b[0m\n\u001b[1;32m--> 257\u001b[1;33m         changed, coordinate_list = _nd_image.binary_erosion(\n\u001b[0m\u001b[0;32m    258\u001b[0m             \u001b[0minput\u001b[0m\u001b[1;33m,\u001b[0m \u001b[0mstructure\u001b[0m\u001b[1;33m,\u001b[0m \u001b[0mmask\u001b[0m\u001b[1;33m,\u001b[0m \u001b[0moutput\u001b[0m\u001b[1;33m,\u001b[0m\u001b[1;33m\u001b[0m\u001b[1;33m\u001b[0m\u001b[0m\n\u001b[0;32m    259\u001b[0m             border_value, origin, invert, cit, 1)\n",
      "\u001b[1;31mKeyboardInterrupt\u001b[0m: "
     ]
    }
   ],
   "source": [
    "# each dictionary contains, for every training name, a list of IoU scores for all videos for all exclusion radius\n",
    "ious_puffs_all_models = {}\n",
    "ious_waves_all_models = {}\n",
    "\n",
    "for training_name in training_names:\n",
    "    print(training_name)\n",
    "    # get predictions\n",
    "    puffs_training = puffs[training_name]\n",
    "    waves_training = waves[training_name]\n",
    "    \n",
    "    # init empty dictionaires\n",
    "    ious_puffs = defaultdict(lambda: defaultdict(lambda: defaultdict(lambda: defaultdict(dict))))\n",
    "    ious_waves = defaultdict(lambda: defaultdict(lambda: defaultdict(lambda: defaultdict(dict))))\n",
    "    \n",
    "    for video_id in ys_all_trainings.keys():\n",
    "        print(\"\\tVideo name:\", video_id)\n",
    "        ys_sample = ys_all_trainings[video_id]\n",
    "        puffs_sample = puffs_training[video_id]\n",
    "        waves_sample = waves_training[video_id]\n",
    "        \n",
    "        # get ignore mask (events labelled with 4)\n",
    "        ignore_mask = empty_marginal_frames(np.where(ys_sample==4,1,0), ignore_frames)\n",
    "        \n",
    "        for t in t_detection:\n",
    "            print(\"\\t\\tDetection threshold:\", t)\n",
    "            for min_r in min_radius:\n",
    "                print(\"\\t\\t\\tMinimal radius:\", min_r)\n",
    "                # get binary predictions and remove ignored frames\n",
    "                puffs_binary = process_puff_prediction(pred=puffs_sample, \n",
    "                                                       t_detection=t, \n",
    "                                                       min_radius=min_r, \n",
    "                                                       ignore_frames=ignore_frames)\n",
    "                waves_binary = process_wave_prediction(waves_sample, \n",
    "                                                       t_detection=t, \n",
    "                                                       min_radius=min_r, \n",
    "                                                       ignore_frames=ignore_frames)\n",
    "\n",
    "                # get binary ys and remove ignored frames\n",
    "                ys_puffs_sample = empty_marginal_frames(np.where(ys_sample==3,1,0), ignore_frames)\n",
    "                ys_waves_sample = empty_marginal_frames(np.where(ys_sample==2,1,0), ignore_frames)\n",
    "\n",
    "                # compute IoU for some exclusion radius values\n",
    "                \n",
    "                for exclusion_r in exclusion_radius:\n",
    "                    print(\"\\t\\t\\t\\tExclusion radius:\", exclusion_r)\n",
    "                    # puffs\n",
    "                    ious_puffs[t][min_r][exclusion_r][video_id] = jaccard_score_exclusion_zone(ys=ys_puffs_sample,\n",
    "                                                                                               preds=puffs_binary,\n",
    "                                                                                               exclusion_radius=exclusion_r,\n",
    "                                                                                               ignore_mask=ignore_mask)\n",
    "\n",
    "                    # waves\n",
    "                    ious_waves[t][min_r][exclusion_r][video_id] = jaccard_score_exclusion_zone(ys=ys_waves_sample,\n",
    "                                                                                               preds=waves_binary,\n",
    "                                                                                               exclusion_radius=exclusion_r,\n",
    "                                                                                               ignore_mask=ignore_mask)\n",
    "    \n",
    "    ious_puffs_all_models_average[training_name] = ious_puffs_average\n",
    "    ious_waves_all_models_average[training_name] = ious_waves_average"
   ]
  },
  {
   "cell_type": "code",
   "execution_count": null,
   "metadata": {},
   "outputs": [],
   "source": [
    "# compute average over movies\n",
    "ious_puffs_all_models_average = {}\n",
    "ious_waves_all_models_average = {}\n",
    "\n",
    "for training_name in training_names:\n",
    "    ious_puffs_average = defaultdict(lambda: defaultdict(lambda: defaultdict(dict)))\n",
    "    ious_waves_average = defaultdict(lambda: defaultdict(lambda: defaultdict(dict)))\n",
    "    \n",
    "    for t in t_detection:\n",
    "        for min_r in min_radius:\n",
    "            for exclusion_r in exclusion_radius:\n",
    "                # compute average over all movies\n",
    "                ious_puffs = ious_puffs_all_models[training_name]\n",
    "                ious_waves = ious_waves_all_models[training_name]                \n",
    "                ious_puffs_average[t][min_r][exclusion_r] = sum(ious_puffs[t][min_r][exclusion_r].values()) / len(ious_puffs[t][min_r][exclusion_r])\n",
    "                ious_waves_average[t][min_r][exclusion_r] = sum(ious_waves[t][min_r][exclusion_r].values()) / len(ious_waves[t][min_r][exclusion_r])\n",
    "                \n",
    "    ious_puffs_all_models_average[training_name] = ious_puffs_average\n",
    "    ious_waves_all_models_average[training_name] = ious_waves_average\n"
   ]
  },
  {
   "cell_type": "code",
   "execution_count": null,
   "metadata": {},
   "outputs": [],
   "source": [
    "# save ious dictionaires on disk as json\n",
    "training_name = \"focal_loss_gamma_5_ubelix\"\n",
    "data_folder = os.path.join(metrics_folder, training_name, \"puff_wave_ious\")\n",
    "os.makedirs(data_folder, exist_ok=True)"
   ]
  },
  {
   "cell_type": "code",
   "execution_count": null,
   "metadata": {},
   "outputs": [],
   "source": [
    "with open(os.path.join(data_folder,\"ious_puffs.json\"),\"w\") as f:\n",
    "    json.dump(ious_puffs_all_models[training_name],f)\n",
    "    \n",
    "with open(os.path.join(data_folder,\"ious_puffs_average.json\"),\"w\") as f:\n",
    "    json.dump(ious_puffs_all_models_average[training_name],f)\n",
    "    \n",
    "with open(os.path.join(data_folder,\"ious_waves.json\"),\"w\") as f:\n",
    "    json.dump(ious_waves_all_models[training_name],f)\n",
    "    \n",
    "with open(os.path.join(data_folder,\"ious_waves_average.json\"),\"w\") as f:\n",
    "    json.dump(ious_waves_all_models_average[training_name],f)"
   ]
  },
  {
   "cell_type": "markdown",
   "metadata": {},
   "source": [
    "### Load saved ious dictionaires from .json files"
   ]
  },
  {
   "cell_type": "code",
   "execution_count": null,
   "metadata": {},
   "outputs": [],
   "source": []
  },
  {
   "cell_type": "markdown",
   "metadata": {},
   "source": [
    "### Confusion matrix wrt to varying min size and detection threshold"
   ]
  },
  {
   "cell_type": "code",
   "execution_count": 44,
   "metadata": {},
   "outputs": [],
   "source": [
    "import pandas as pd\n",
    "import seaborn as sns\n",
    "#import matplotlib.pyplot as plt"
   ]
  },
  {
   "cell_type": "code",
   "execution_count": 45,
   "metadata": {},
   "outputs": [],
   "source": [
    "# fix training name\n",
    "training_name = \"focal_loss_gamma_5_ubelix\""
   ]
  },
  {
   "cell_type": "code",
   "execution_count": 47,
   "metadata": {},
   "outputs": [],
   "source": [
    "# fix exclusion radius to zero\n",
    "exclusion_r = 0\n",
    "\n",
    "# get dicts for fixed exclusion radius\n",
    "dict_cmatrix_puffs = {t: {r: iou[0] for (r, iou) in iou_min_radius.items()} for (t, iou_min_radius) in ious_puffs_all_models_average[training_name].items()}\n",
    "dict_cmatrix_waves = {t: {r: iou[0] for (r, iou) in iou_min_radius.items()} for (t, iou_min_radius) in ious_waves_all_models_average[training_name].items()}"
   ]
  },
  {
   "cell_type": "code",
   "execution_count": 49,
   "metadata": {},
   "outputs": [],
   "source": [
    "df_puffs = pd.DataFrame.from_dict(dict_cmatrix_puffs)\n",
    "df_waves = pd.DataFrame.from_dict(dict_cmatrix_waves)"
   ]
  },
  {
   "cell_type": "code",
   "execution_count": 203,
   "metadata": {},
   "outputs": [
    {
     "data": {
      "image/png": "[encoded data removed]",
      "text/plain": [
       "<Figure size 1584x576 with 4 Axes>"
      ]
     },
     "metadata": {
      "needs_background": "light"
     },
     "output_type": "display_data"
    }
   ],
   "source": [
    "plt.figure(figsize=(22,8))\n",
    "plt.suptitle(f\"Puff and wave IoUs wrt diferent detection thresholds and min sizes\", fontsize=15)\n",
    "\n",
    "ax = plt.subplot(1,2,1)\n",
    "ax.set_title(\"Puffs\")\n",
    "sns.heatmap(df_puffs, annot=True, fmt='.5g')\n",
    "ax.set_xlabel(\"detection threshold\")\n",
    "ax.set_ylabel(\"puff minimal radius\")\n",
    "ax = plt.subplot(1,2,2)\n",
    "ax.set_title(\"Waves\")\n",
    "sns.heatmap(df_waves, annot=True, fmt='.5g')\n",
    "ax.set_xlabel(\"detection threshold\")\n",
    "ax.set_ylabel(\"wave minimal radius\")\n",
    "plt.savefig(os.path.join(data_folder,\"confusion_matrix_IoU_all_movies.jpg\"))\n",
    "plt.show()"
   ]
  },
  {
   "cell_type": "markdown",
   "metadata": {
    "tags": []
   },
   "source": [
    "### Plot average IoU wrt to exclusion radius (for average and all single movies)"
   ]
  },
  {
   "cell_type": "code",
   "execution_count": 52,
   "metadata": {},
   "outputs": [],
   "source": [
    "# fix a training name\n",
    "training_name = \"focal_loss_gamma_5_ubelix\""
   ]
  },
  {
   "cell_type": "code",
   "execution_count": 53,
   "metadata": {},
   "outputs": [],
   "source": [
    "# fix best detection threshold and min radius\n",
    "t_puffs = 0.65\n",
    "min_r_puffs = 5\n",
    "\n",
    "t_waves = 0.55\n",
    "min_r_waves = 6"
   ]
  },
  {
   "cell_type": "code",
   "execution_count": 102,
   "metadata": {},
   "outputs": [],
   "source": [
    "dict_puffs_exclusion_r_average_plot = ious_puffs_all_models_average[training_name][t_puffs][min_r_puffs] # exclusion r\n",
    "\n",
    "dict_puffs_exclusion_r_plot = ious_puffs_all_models[training_name][t_puffs][min_r_puffs] # exclusion r x video name\n",
    "# reverse dictionaires\n",
    "res = defaultdict(lambda: defaultdict(dict))\n",
    "for exclusion_r, movies_iou in dict_puffs_exclusion_r_plot.items():\n",
    "    for movie_name, iou in movies_iou.items():\n",
    "        res[movie_name][exclusion_r] = iou\n",
    "dict_puffs_exclusion_r_plot = res # video name x exclusion r\n",
    "            \n",
    "dict_waves_exclusion_r_average_plot = ious_puffs_all_models_average[training_name][t_waves][min_r_waves] # exclusion r\n",
    "\n",
    "dict_waves_exclusion_r_plot = ious_puffs_all_models[training_name][t_waves][min_r_waves] # exclusion r x video name\n",
    "# reverse dictionaires\n",
    "res = defaultdict(lambda: defaultdict(dict))\n",
    "for exclusion_r, movies_iou in dict_waves_exclusion_r_plot.items():\n",
    "    for movie_name, iou in movies_iou.items():\n",
    "        res[movie_name][exclusion_r] = iou\n",
    "dict_waves_exclusion_r_plot = res # video name x exclusion r"
   ]
  },
  {
   "cell_type": "code",
   "execution_count": 103,
   "metadata": {},
   "outputs": [],
   "source": [
    "df_puffs_exclusion_r_average_plot = pd.DataFrame.from_dict([dict_puffs_exclusion_r_average_plot])\n",
    "df_puffs_exclusion_r_average_plot.to_csv(os.path.join(data_folder,\"df_puffs_average_iou_exclusion_r_best_t_min_r.csv\"))\n",
    "\n",
    "df_puffs_exclusion_r_plot = pd.DataFrame.from_dict(dict_puffs_exclusion_r_plot)\n",
    "df_puffs_exclusion_r_plot.to_csv(os.path.join(data_folder,\"df_puffs_iou_exclusion_r_best_t_min_r.csv\"))\n",
    "\n",
    "df_waves_exclusion_r_average_plot = pd.DataFrame.from_dict([dict_waves_exclusion_r_average_plot])\n",
    "df_waves_exclusion_r_average_plot.to_csv(os.path.join(data_folder,\"df_waves_average_iou_exclusion_r_best_t_min_r.csv\"))\n",
    "\n",
    "df_waves_exclusion_r_plot = pd.DataFrame.from_dict(dict_waves_exclusion_r_plot)\n",
    "df_waves_exclusion_r_plot.to_csv(os.path.join(data_folder,\"df_waves_iou_exclusion_r_best_t_min_r.csv\"))"
   ]
  },
  {
   "cell_type": "code",
   "execution_count": 104,
   "metadata": {},
   "outputs": [
    {
     "name": "stdout",
     "output_type": "stream",
     "text": [
      "PUFFS\n"
     ]
    },
    {
     "data": {
      "text/html": [
       "<div>\n",
       "<style scoped>\n",
       "    .dataframe tbody tr th:only-of-type {\n",
       "        vertical-align: middle;\n",
       "    }\n",
       "\n",
       "    .dataframe tbody tr th {\n",
       "        vertical-align: top;\n",
       "    }\n",
       "\n",
       "    .dataframe thead th {\n",
       "        text-align: right;\n",
       "    }\n",
       "</style>\n",
       "<table border=\"1\" class=\"dataframe\">\n",
       "  <thead>\n",
       "    <tr style=\"text-align: right;\">\n",
       "      <th></th>\n",
       "      <th>0</th>\n",
       "      <th>1</th>\n",
       "      <th>2</th>\n",
       "      <th>3</th>\n",
       "      <th>4</th>\n",
       "      <th>5</th>\n",
       "      <th>6</th>\n",
       "      <th>7</th>\n",
       "      <th>8</th>\n",
       "      <th>9</th>\n",
       "      <th>10</th>\n",
       "    </tr>\n",
       "  </thead>\n",
       "  <tbody>\n",
       "    <tr>\n",
       "      <th>0</th>\n",
       "      <td>0.309779</td>\n",
       "      <td>0.321218</td>\n",
       "      <td>0.325457</td>\n",
       "      <td>0.327136</td>\n",
       "      <td>0.326525</td>\n",
       "      <td>0.324336</td>\n",
       "      <td>0.320929</td>\n",
       "      <td>0.31651</td>\n",
       "      <td>0.311337</td>\n",
       "      <td>0.305336</td>\n",
       "      <td>0.299805</td>\n",
       "    </tr>\n",
       "  </tbody>\n",
       "</table>\n",
       "</div>"
      ],
      "text/plain": [
       "         0         1         2         3         4         5         6   \\\n",
       "0  0.309779  0.321218  0.325457  0.327136  0.326525  0.324336  0.320929   \n",
       "\n",
       "        7         8         9         10  \n",
       "0  0.31651  0.311337  0.305336  0.299805  "
      ]
     },
     "metadata": {},
     "output_type": "display_data"
    },
    {
     "data": {
      "text/html": [
       "<div>\n",
       "<style scoped>\n",
       "    .dataframe tbody tr th:only-of-type {\n",
       "        vertical-align: middle;\n",
       "    }\n",
       "\n",
       "    .dataframe tbody tr th {\n",
       "        vertical-align: top;\n",
       "    }\n",
       "\n",
       "    .dataframe thead th {\n",
       "        text-align: right;\n",
       "    }\n",
       "</style>\n",
       "<table border=\"1\" class=\"dataframe\">\n",
       "  <thead>\n",
       "    <tr style=\"text-align: right;\">\n",
       "      <th></th>\n",
       "      <th>05</th>\n",
       "      <th>10</th>\n",
       "      <th>15</th>\n",
       "      <th>20</th>\n",
       "      <th>25</th>\n",
       "      <th>32</th>\n",
       "      <th>34</th>\n",
       "      <th>40</th>\n",
       "      <th>45</th>\n",
       "    </tr>\n",
       "  </thead>\n",
       "  <tbody>\n",
       "    <tr>\n",
       "      <th>0</th>\n",
       "      <td>0.148610</td>\n",
       "      <td>0.566367</td>\n",
       "      <td>0.336932</td>\n",
       "      <td>0.180633</td>\n",
       "      <td>0.051124</td>\n",
       "      <td>0.382342</td>\n",
       "      <td>0.121999</td>\n",
       "      <td>0.0</td>\n",
       "      <td>1.0</td>\n",
       "    </tr>\n",
       "    <tr>\n",
       "      <th>1</th>\n",
       "      <td>0.137579</td>\n",
       "      <td>0.639602</td>\n",
       "      <td>0.367140</td>\n",
       "      <td>0.195523</td>\n",
       "      <td>0.041148</td>\n",
       "      <td>0.394605</td>\n",
       "      <td>0.115369</td>\n",
       "      <td>0.0</td>\n",
       "      <td>1.0</td>\n",
       "    </tr>\n",
       "    <tr>\n",
       "      <th>2</th>\n",
       "      <td>0.106253</td>\n",
       "      <td>0.698254</td>\n",
       "      <td>0.395820</td>\n",
       "      <td>0.199895</td>\n",
       "      <td>0.025405</td>\n",
       "      <td>0.398137</td>\n",
       "      <td>0.105346</td>\n",
       "      <td>0.0</td>\n",
       "      <td>1.0</td>\n",
       "    </tr>\n",
       "    <tr>\n",
       "      <th>3</th>\n",
       "      <td>0.075147</td>\n",
       "      <td>0.758333</td>\n",
       "      <td>0.425702</td>\n",
       "      <td>0.192858</td>\n",
       "      <td>0.011594</td>\n",
       "      <td>0.386658</td>\n",
       "      <td>0.093930</td>\n",
       "      <td>0.0</td>\n",
       "      <td>1.0</td>\n",
       "    </tr>\n",
       "    <tr>\n",
       "      <th>4</th>\n",
       "      <td>0.046018</td>\n",
       "      <td>0.818170</td>\n",
       "      <td>0.455949</td>\n",
       "      <td>0.173844</td>\n",
       "      <td>0.003258</td>\n",
       "      <td>0.359532</td>\n",
       "      <td>0.081954</td>\n",
       "      <td>0.0</td>\n",
       "      <td>1.0</td>\n",
       "    </tr>\n",
       "    <tr>\n",
       "      <th>5</th>\n",
       "      <td>0.023229</td>\n",
       "      <td>0.875573</td>\n",
       "      <td>0.485070</td>\n",
       "      <td>0.147298</td>\n",
       "      <td>0.000413</td>\n",
       "      <td>0.317445</td>\n",
       "      <td>0.069990</td>\n",
       "      <td>0.0</td>\n",
       "      <td>1.0</td>\n",
       "    </tr>\n",
       "    <tr>\n",
       "      <th>6</th>\n",
       "      <td>0.008479</td>\n",
       "      <td>0.926489</td>\n",
       "      <td>0.511195</td>\n",
       "      <td>0.118106</td>\n",
       "      <td>0.000000</td>\n",
       "      <td>0.265816</td>\n",
       "      <td>0.058276</td>\n",
       "      <td>0.0</td>\n",
       "      <td>1.0</td>\n",
       "    </tr>\n",
       "    <tr>\n",
       "      <th>7</th>\n",
       "      <td>0.001958</td>\n",
       "      <td>0.963926</td>\n",
       "      <td>0.535205</td>\n",
       "      <td>0.089985</td>\n",
       "      <td>0.000000</td>\n",
       "      <td>0.210360</td>\n",
       "      <td>0.047153</td>\n",
       "      <td>0.0</td>\n",
       "      <td>1.0</td>\n",
       "    </tr>\n",
       "    <tr>\n",
       "      <th>8</th>\n",
       "      <td>0.000176</td>\n",
       "      <td>0.987822</td>\n",
       "      <td>0.558356</td>\n",
       "      <td>0.063903</td>\n",
       "      <td>0.000000</td>\n",
       "      <td>0.154844</td>\n",
       "      <td>0.036933</td>\n",
       "      <td>0.0</td>\n",
       "      <td>1.0</td>\n",
       "    </tr>\n",
       "    <tr>\n",
       "      <th>9</th>\n",
       "      <td>0.000000</td>\n",
       "      <td>0.997135</td>\n",
       "      <td>0.579414</td>\n",
       "      <td>0.041581</td>\n",
       "      <td>0.000000</td>\n",
       "      <td>0.101953</td>\n",
       "      <td>0.027942</td>\n",
       "      <td>0.0</td>\n",
       "      <td>1.0</td>\n",
       "    </tr>\n",
       "    <tr>\n",
       "      <th>10</th>\n",
       "      <td>0.000000</td>\n",
       "      <td>0.999473</td>\n",
       "      <td>0.598515</td>\n",
       "      <td>0.022682</td>\n",
       "      <td>0.000000</td>\n",
       "      <td>0.057247</td>\n",
       "      <td>0.020323</td>\n",
       "      <td>0.0</td>\n",
       "      <td>1.0</td>\n",
       "    </tr>\n",
       "  </tbody>\n",
       "</table>\n",
       "</div>"
      ],
      "text/plain": [
       "          05        10        15        20        25        32        34   40  \\\n",
       "0   0.148610  0.566367  0.336932  0.180633  0.051124  0.382342  0.121999  0.0   \n",
       "1   0.137579  0.639602  0.367140  0.195523  0.041148  0.394605  0.115369  0.0   \n",
       "2   0.106253  0.698254  0.395820  0.199895  0.025405  0.398137  0.105346  0.0   \n",
       "3   0.075147  0.758333  0.425702  0.192858  0.011594  0.386658  0.093930  0.0   \n",
       "4   0.046018  0.818170  0.455949  0.173844  0.003258  0.359532  0.081954  0.0   \n",
       "5   0.023229  0.875573  0.485070  0.147298  0.000413  0.317445  0.069990  0.0   \n",
       "6   0.008479  0.926489  0.511195  0.118106  0.000000  0.265816  0.058276  0.0   \n",
       "7   0.001958  0.963926  0.535205  0.089985  0.000000  0.210360  0.047153  0.0   \n",
       "8   0.000176  0.987822  0.558356  0.063903  0.000000  0.154844  0.036933  0.0   \n",
       "9   0.000000  0.997135  0.579414  0.041581  0.000000  0.101953  0.027942  0.0   \n",
       "10  0.000000  0.999473  0.598515  0.022682  0.000000  0.057247  0.020323  0.0   \n",
       "\n",
       "     45  \n",
       "0   1.0  \n",
       "1   1.0  \n",
       "2   1.0  \n",
       "3   1.0  \n",
       "4   1.0  \n",
       "5   1.0  \n",
       "6   1.0  \n",
       "7   1.0  \n",
       "8   1.0  \n",
       "9   1.0  \n",
       "10  1.0  "
      ]
     },
     "metadata": {},
     "output_type": "display_data"
    },
    {
     "name": "stdout",
     "output_type": "stream",
     "text": [
      "WAVES\n"
     ]
    },
    {
     "data": {
      "text/html": [
       "<div>\n",
       "<style scoped>\n",
       "    .dataframe tbody tr th:only-of-type {\n",
       "        vertical-align: middle;\n",
       "    }\n",
       "\n",
       "    .dataframe tbody tr th {\n",
       "        vertical-align: top;\n",
       "    }\n",
       "\n",
       "    .dataframe thead th {\n",
       "        text-align: right;\n",
       "    }\n",
       "</style>\n",
       "<table border=\"1\" class=\"dataframe\">\n",
       "  <thead>\n",
       "    <tr style=\"text-align: right;\">\n",
       "      <th></th>\n",
       "      <th>0</th>\n",
       "      <th>1</th>\n",
       "      <th>2</th>\n",
       "      <th>3</th>\n",
       "      <th>4</th>\n",
       "      <th>5</th>\n",
       "      <th>6</th>\n",
       "      <th>7</th>\n",
       "      <th>8</th>\n",
       "      <th>9</th>\n",
       "      <th>10</th>\n",
       "    </tr>\n",
       "  </thead>\n",
       "  <tbody>\n",
       "    <tr>\n",
       "      <th>0</th>\n",
       "      <td>0.185486</td>\n",
       "      <td>0.184721</td>\n",
       "      <td>0.179127</td>\n",
       "      <td>0.172285</td>\n",
       "      <td>0.164791</td>\n",
       "      <td>0.157083</td>\n",
       "      <td>0.1494</td>\n",
       "      <td>0.141716</td>\n",
       "      <td>0.133745</td>\n",
       "      <td>0.125324</td>\n",
       "      <td>0.116387</td>\n",
       "    </tr>\n",
       "  </tbody>\n",
       "</table>\n",
       "</div>"
      ],
      "text/plain": [
       "         0         1         2         3         4         5       6   \\\n",
       "0  0.185486  0.184721  0.179127  0.172285  0.164791  0.157083  0.1494   \n",
       "\n",
       "         7         8         9         10  \n",
       "0  0.141716  0.133745  0.125324  0.116387  "
      ]
     },
     "metadata": {},
     "output_type": "display_data"
    },
    {
     "data": {
      "text/html": [
       "<div>\n",
       "<style scoped>\n",
       "    .dataframe tbody tr th:only-of-type {\n",
       "        vertical-align: middle;\n",
       "    }\n",
       "\n",
       "    .dataframe tbody tr th {\n",
       "        vertical-align: top;\n",
       "    }\n",
       "\n",
       "    .dataframe thead th {\n",
       "        text-align: right;\n",
       "    }\n",
       "</style>\n",
       "<table border=\"1\" class=\"dataframe\">\n",
       "  <thead>\n",
       "    <tr style=\"text-align: right;\">\n",
       "      <th></th>\n",
       "      <th>05</th>\n",
       "      <th>10</th>\n",
       "      <th>15</th>\n",
       "      <th>20</th>\n",
       "      <th>25</th>\n",
       "      <th>32</th>\n",
       "      <th>34</th>\n",
       "      <th>40</th>\n",
       "      <th>45</th>\n",
       "    </tr>\n",
       "  </thead>\n",
       "  <tbody>\n",
       "    <tr>\n",
       "      <th>0</th>\n",
       "      <td>0.097984</td>\n",
       "      <td>0.528423</td>\n",
       "      <td>0.407531</td>\n",
       "      <td>0.225640</td>\n",
       "      <td>0.032177</td>\n",
       "      <td>0.264947</td>\n",
       "      <td>0.100219</td>\n",
       "      <td>0.012452</td>\n",
       "      <td>0.0</td>\n",
       "    </tr>\n",
       "    <tr>\n",
       "      <th>1</th>\n",
       "      <td>0.080698</td>\n",
       "      <td>0.568153</td>\n",
       "      <td>0.427767</td>\n",
       "      <td>0.222077</td>\n",
       "      <td>0.021610</td>\n",
       "      <td>0.244896</td>\n",
       "      <td>0.090344</td>\n",
       "      <td>0.006947</td>\n",
       "      <td>0.0</td>\n",
       "    </tr>\n",
       "    <tr>\n",
       "      <th>2</th>\n",
       "      <td>0.058439</td>\n",
       "      <td>0.594745</td>\n",
       "      <td>0.440775</td>\n",
       "      <td>0.204525</td>\n",
       "      <td>0.012779</td>\n",
       "      <td>0.218437</td>\n",
       "      <td>0.079968</td>\n",
       "      <td>0.002471</td>\n",
       "      <td>0.0</td>\n",
       "    </tr>\n",
       "    <tr>\n",
       "      <th>3</th>\n",
       "      <td>0.039178</td>\n",
       "      <td>0.617907</td>\n",
       "      <td>0.448699</td>\n",
       "      <td>0.180504</td>\n",
       "      <td>0.006183</td>\n",
       "      <td>0.188196</td>\n",
       "      <td>0.069584</td>\n",
       "      <td>0.000317</td>\n",
       "      <td>0.0</td>\n",
       "    </tr>\n",
       "    <tr>\n",
       "      <th>4</th>\n",
       "      <td>0.022910</td>\n",
       "      <td>0.636148</td>\n",
       "      <td>0.452461</td>\n",
       "      <td>0.152775</td>\n",
       "      <td>0.002201</td>\n",
       "      <td>0.157124</td>\n",
       "      <td>0.059500</td>\n",
       "      <td>0.000000</td>\n",
       "      <td>0.0</td>\n",
       "    </tr>\n",
       "    <tr>\n",
       "      <th>5</th>\n",
       "      <td>0.011053</td>\n",
       "      <td>0.648857</td>\n",
       "      <td>0.452732</td>\n",
       "      <td>0.123498</td>\n",
       "      <td>0.000436</td>\n",
       "      <td>0.127256</td>\n",
       "      <td>0.049913</td>\n",
       "      <td>0.000000</td>\n",
       "      <td>0.0</td>\n",
       "    </tr>\n",
       "    <tr>\n",
       "      <th>6</th>\n",
       "      <td>0.003828</td>\n",
       "      <td>0.654913</td>\n",
       "      <td>0.449466</td>\n",
       "      <td>0.095205</td>\n",
       "      <td>0.000025</td>\n",
       "      <td>0.100181</td>\n",
       "      <td>0.040981</td>\n",
       "      <td>0.000000</td>\n",
       "      <td>0.0</td>\n",
       "    </tr>\n",
       "    <tr>\n",
       "      <th>7</th>\n",
       "      <td>0.000934</td>\n",
       "      <td>0.654264</td>\n",
       "      <td>0.441565</td>\n",
       "      <td>0.070249</td>\n",
       "      <td>0.000000</td>\n",
       "      <td>0.075547</td>\n",
       "      <td>0.032883</td>\n",
       "      <td>0.000000</td>\n",
       "      <td>0.0</td>\n",
       "    </tr>\n",
       "    <tr>\n",
       "      <th>8</th>\n",
       "      <td>0.000109</td>\n",
       "      <td>0.647528</td>\n",
       "      <td>0.428130</td>\n",
       "      <td>0.048960</td>\n",
       "      <td>0.000000</td>\n",
       "      <td>0.053297</td>\n",
       "      <td>0.025682</td>\n",
       "      <td>0.000000</td>\n",
       "      <td>0.0</td>\n",
       "    </tr>\n",
       "    <tr>\n",
       "      <th>9</th>\n",
       "      <td>0.000000</td>\n",
       "      <td>0.634216</td>\n",
       "      <td>0.408757</td>\n",
       "      <td>0.031603</td>\n",
       "      <td>0.000000</td>\n",
       "      <td>0.033940</td>\n",
       "      <td>0.019398</td>\n",
       "      <td>0.000000</td>\n",
       "      <td>0.0</td>\n",
       "    </tr>\n",
       "    <tr>\n",
       "      <th>10</th>\n",
       "      <td>0.000000</td>\n",
       "      <td>0.613324</td>\n",
       "      <td>0.383798</td>\n",
       "      <td>0.017654</td>\n",
       "      <td>0.000000</td>\n",
       "      <td>0.018616</td>\n",
       "      <td>0.014095</td>\n",
       "      <td>0.000000</td>\n",
       "      <td>0.0</td>\n",
       "    </tr>\n",
       "  </tbody>\n",
       "</table>\n",
       "</div>"
      ],
      "text/plain": [
       "          05        10        15        20        25        32        34  \\\n",
       "0   0.097984  0.528423  0.407531  0.225640  0.032177  0.264947  0.100219   \n",
       "1   0.080698  0.568153  0.427767  0.222077  0.021610  0.244896  0.090344   \n",
       "2   0.058439  0.594745  0.440775  0.204525  0.012779  0.218437  0.079968   \n",
       "3   0.039178  0.617907  0.448699  0.180504  0.006183  0.188196  0.069584   \n",
       "4   0.022910  0.636148  0.452461  0.152775  0.002201  0.157124  0.059500   \n",
       "5   0.011053  0.648857  0.452732  0.123498  0.000436  0.127256  0.049913   \n",
       "6   0.003828  0.654913  0.449466  0.095205  0.000025  0.100181  0.040981   \n",
       "7   0.000934  0.654264  0.441565  0.070249  0.000000  0.075547  0.032883   \n",
       "8   0.000109  0.647528  0.428130  0.048960  0.000000  0.053297  0.025682   \n",
       "9   0.000000  0.634216  0.408757  0.031603  0.000000  0.033940  0.019398   \n",
       "10  0.000000  0.613324  0.383798  0.017654  0.000000  0.018616  0.014095   \n",
       "\n",
       "          40   45  \n",
       "0   0.012452  0.0  \n",
       "1   0.006947  0.0  \n",
       "2   0.002471  0.0  \n",
       "3   0.000317  0.0  \n",
       "4   0.000000  0.0  \n",
       "5   0.000000  0.0  \n",
       "6   0.000000  0.0  \n",
       "7   0.000000  0.0  \n",
       "8   0.000000  0.0  \n",
       "9   0.000000  0.0  \n",
       "10  0.000000  0.0  "
      ]
     },
     "metadata": {},
     "output_type": "display_data"
    }
   ],
   "source": [
    "print(\"PUFFS\")\n",
    "display(df_puffs_exclusion_r_average_plot)\n",
    "display(df_puffs_exclusion_r_plot)\n",
    "print(\"WAVES\")\n",
    "display(df_waves_exclusion_r_average_plot)\n",
    "display(df_waves_exclusion_r_plot)"
   ]
  },
  {
   "cell_type": "code",
   "execution_count": 105,
   "metadata": {},
   "outputs": [
    {
     "data": {
      "text/plain": [
       "dict_keys([0, 1, 2, 3, 4, 5, 6, 7, 8, 9, 10])"
      ]
     },
     "execution_count": 105,
     "metadata": {},
     "output_type": "execute_result"
    }
   ],
   "source": [
    "dict_ious = dict_puffs_exclusion_r_plot['05']\n",
    "dict_ious.keys()"
   ]
  },
  {
   "cell_type": "code",
   "execution_count": 106,
   "metadata": {},
   "outputs": [
    {
     "data": {
      "text/plain": [
       "dict_keys(['05', '10', '15', '20', '25', '32', '34', '40', '45'])"
      ]
     },
     "execution_count": 106,
     "metadata": {},
     "output_type": "execute_result"
    }
   ],
   "source": [
    "dict_puffs_exclusion_r_plot.keys()"
   ]
  },
  {
   "cell_type": "code",
   "execution_count": 132,
   "metadata": {},
   "outputs": [
    {
     "data": {
      "image/png": "[encoded data removed]",
      "text/plain": [
       "<Figure size 1440x1440 with 5 Axes>"
      ]
     },
     "metadata": {
      "needs_background": "light"
     },
     "output_type": "display_data"
    }
   ],
   "source": [
    "fig, axs = plt.subplots(2, 2, figsize=(20,20))#, sharex=True)\n",
    "fig.add_subplot(111, frameon=False)\n",
    "\n",
    "for movie_id in dict_puffs_exclusion_r_plot.keys():\n",
    "    dict_ious = dict_puffs_exclusion_r_plot[movie_id]\n",
    "    axs[0,0].plot(dict_ious.keys(), dict_ious.values(), label=movie_id)\n",
    "           \n",
    "axs[0,0].set_title('Puffs IoU for all movies for wrt exclusion radius')\n",
    "axs[0,0].set_ylim([0,1])\n",
    "axs[0,0].legend(shadow=True, fancybox=True)\n",
    "\n",
    "axs[0,1].plot(dict_puffs_exclusion_r_average_plot.keys(), dict_puffs_exclusion_r_average_plot.values(), label=\"average\")\n",
    "\n",
    "axs[0,1].set_title('Puffs IoU averaged over all movies for wrt exclusion radius')\n",
    "axs[0,1].set_ylim([0,1])\n",
    "axs[0,1].legend(shadow=True, fancybox=True)\n",
    "\n",
    "for movie_id in dict_waves_exclusion_r_plot.keys():\n",
    "    dict_ious = dict_waves_exclusion_r_plot[movie_id]\n",
    "    axs[1,0].plot(dict_ious.keys(), dict_ious.values(), label=movie_id)\n",
    "           \n",
    "axs[1,0].set_title('Waves IoU for all movies for wrt exclusion radius')\n",
    "axs[1,0].set_ylim([0,1])\n",
    "axs[1,0].legend(shadow=True, fancybox=True)\n",
    "\n",
    "axs[1,1].plot(dict_waves_exclusion_r_average_plot.keys(), dict_waves_exclusion_r_average_plot.values(), label=\"average\")\n",
    "\n",
    "axs[1,1].set_title('Waves IoU averaged over all movies for wrt exclusion radius')\n",
    "axs[1,1].set_ylim([0,1])\n",
    "axs[1,1].legend(shadow=True, fancybox=True)\n",
    "\n",
    "plt.tick_params(labelcolor='none', which='both', top=False, bottom=False, left=False, right=False)\n",
    "plt.xlabel(\"Exclusion radius\")\n",
    "\n",
    "fig.savefig(os.path.join(data_folder,\"IoU_all_movies_excl_radius.jpg\"))"
   ]
  },
  {
   "cell_type": "code",
   "execution_count": 16,
   "metadata": {
    "tags": []
   },
   "outputs": [],
   "source": [
    "''' OLD VERSION\n",
    "cols = pd.Index(exclusion_radius_list, name='Exclusion radius')\n",
    "classes = ['Sparks', 'Puffs', 'Waves']\n",
    "rows = pd.MultiIndex.from_product([classes, training_names], names=['Class', 'Training name'])\n",
    "\n",
    "data = [*ious_sparks_avg.values(),\n",
    "        *ious_puffs_avg.values(),\n",
    "        *ious_waves_avg.values()\n",
    "       ]\n",
    "\n",
    "df = pd.DataFrame(data, rows, cols)\n",
    "\n",
    "display(df)\n",
    "\n",
    "df.to_csv(\"average_IoU_all_trainings_excl_radius.csv\")\n",
    "\n",
    "fig, axs = plt.subplots(1, 3, sharex=True, figsize=(20,12))\n",
    "fig.add_subplot(111, frameon=False)\n",
    "\n",
    "for training_name in training_names:\n",
    "    axs[0].plot(exclusion_radius_list, ious_sparks_avg[training_name], label=training_name)\n",
    "           \n",
    "axs[0].set_title('Sparks IoU')\n",
    "axs[0].set_ylim([0,1])\n",
    "axs[0].legend(shadow=True, fancybox=True)\n",
    "\n",
    "for training_name in training_names:\n",
    "    axs[1].plot(exclusion_radius_list, ious_puffs_avg[training_name], label=training_name)\n",
    "\n",
    "axs[1].set_title('Puffs IoU')\n",
    "axs[1].set_ylim([0,1])\n",
    "axs[1].legend(shadow=True, fancybox=True)\n",
    "\n",
    "for training_name in training_names:\n",
    "    axs[2].plot(exclusion_radius_list, ious_waves_avg[training_name], label=training_name)\n",
    "\n",
    "axs[2].set_title('Waves IoU')\n",
    "axs[2].set_ylim([0,1])\n",
    "axs[2].legend(shadow=True, fancybox=True)\n",
    "\n",
    "plt.tick_params(labelcolor='none', which='both', top=False, bottom=False, left=False, right=False)\n",
    "plt.xlabel(\"Exclusion radius\")\n",
    "\n",
    "fig.savefig(\"average_IoU_all_trainings_excl_radius.png\")''';"
   ]
  },
  {
   "cell_type": "markdown",
   "metadata": {
    "tags": []
   },
   "source": [
    "## Compute joined IoU metric for different classes of events"
   ]
  },
  {
   "cell_type": "markdown",
   "metadata": {},
   "source": [
    "### Join puffs and waves\n",
    "Idea: sum raw preds of puffs and waves and compute IoU wrt to sum of puffs and waves annotations."
   ]
  },
  {
   "cell_type": "code",
   "execution_count": 111,
   "metadata": {
    "tags": []
   },
   "outputs": [
    {
     "name": "stdout",
     "output_type": "stream",
     "text": [
      "focal_loss_gamma_5_ubelix\n",
      "video id: 05\n",
      "video id: 10\n",
      "video id: 15\n",
      "video id: 20\n",
      "video id: 25\n",
      "video id: 32\n",
      "video id: 34\n",
      "video id: 40\n",
      "video id: 45\n"
     ]
    }
   ],
   "source": [
    "from metrics_tools import compute_average_puff_wave_metrics\n",
    "# parameters\n",
    "ignore_frames = 6\n",
    "\n",
    "# for focal_loss_gamma_5_ubelix\n",
    "\n",
    "# puffs and waves params\n",
    "t_detection = [0.5,0.6,0.7,0.8,0.8]#[0.5,0.55,0.6,0.65,0.7,0.75,0.8,0.85,0.9,0.95]\n",
    "min_radius = [0,2,4,6,8]#[0,1,2,3,4,5,6,7,8,9,10]\n",
    "\n",
    "exclusion_radius = [0,1,2,3,4,5,6,7,8,9,10]\n",
    "\n",
    "ious_sum_all_models = {} # training_name x ...\n",
    "ious_sum_average_all_models = {} # training_name x ...\n",
    "\n",
    "for training_name in training_names:\n",
    "    print(training_name)\n",
    "    # get predictions\n",
    "    puffs_training = puffs[training_name]\n",
    "    waves_training = waves[training_name]\n",
    "    \n",
    "    # init empty dictionaires\n",
    "    ious_sum = defaultdict(lambda: defaultdict(lambda: defaultdict(lambda: defaultdict(dict))))\n",
    "            \n",
    "    for video_id in ys_all_trainings.keys():\n",
    "        print(\"video id:\", video_id)\n",
    "        ys_sample = ys_all_trainings[video_id]\n",
    "        puffs_sample = puffs_training[video_id]\n",
    "        waves_sample = waves_training[video_id]\n",
    "        \n",
    "        # sum puff and wave preds\n",
    "        preds_sum_sample = puffs_sample + waves_sample\n",
    "        \n",
    "        # get binary ys and remove ignored frames\n",
    "        ys_puffs_sample = empty_marginal_frames(np.where(ys_sample==3,1,0), ignore_frames)\n",
    "        ys_waves_sample = empty_marginal_frames(np.where(ys_sample==2,1,0), ignore_frames)\n",
    "        ys_sum_sample = np.logical_or(ys_puffs_sample, ys_waves_sample)\n",
    "        \n",
    "        # get ignore mask (events labelled with 4)\n",
    "        ignore_mask = empty_marginal_frames(np.where(ys_sample==4,1,0), ignore_frames)\n",
    "        \n",
    "        for t in t_detection:\n",
    "            #print(\"t_detection:\",t)\n",
    "            for min_r in min_radius:\n",
    "                #print(\"min_radius:\",min_r)\n",
    "                # get binary mask\n",
    "                preds_sum_binary = process_puff_prediction(preds_sum_sample,\n",
    "                                                           t,\n",
    "                                                           min_r,\n",
    "                                                           ignore_frames)\n",
    "    \n",
    "                # compute IoU for some exclusion radius values\n",
    "                for exclusion_r in exclusion_radius:\n",
    "                    #print(\"exclusion_radius:\",exclusion_r)\n",
    "                    #print(\"exclusion radius:\", radius)\n",
    "                    ious_sum[t][min_r][exclusion_r][video_id] = compute_puff_wave_metrics(ys_sum_sample,\n",
    "                                                                                          preds_sum_binary,\n",
    "                                                                                          exclusion_r,\n",
    "                                                                                          ignore_mask)\n",
    "    ious_sum_all_models[training_name] = ious_sum\n",
    "            \n",
    "    # compute average over movies\n",
    "    ious_sum_average = defaultdict(lambda: defaultdict(lambda: defaultdict(dict)))\n",
    "    for t in t_detection:\n",
    "            for min_r in min_radius:\n",
    "                for exclusion_r in exclusion_radius:\n",
    "                    ious_sum_all_movies = ious_sum_all_models[training_name][t][min_r][exclusion_r]\n",
    "                    ious_sum_average[t][min_r][exclusion_r] = compute_average_puff_wave_metrics(ious_sum_all_movies)\n",
    "\n",
    "    ious_sum_average_all_models[training_name] = ious_sum_average"
   ]
  },
  {
   "cell_type": "code",
   "execution_count": 107,
   "metadata": {},
   "outputs": [],
   "source": [
    "'''with open(os.path.join(data_folder,\"ious_joined_puffs_waves.json\"),\"w\") as f:\n",
    "    json.dump(ious_puffs_waves_all_models[training_name],f)\n",
    "\n",
    "# save average ious dictionaires on disk as json\n",
    "with open(os.path.join(data_folder,\"ious_joined_puffs_waves_average.json\"),\"w\") as f:\n",
    "    json.dump(ious_puffs_waves_average_all_models[training_name],f)''';"
   ]
  },
  {
   "cell_type": "markdown",
   "metadata": {},
   "source": [
    "### Plot results for a selected training"
   ]
  },
  {
   "cell_type": "code",
   "execution_count": 120,
   "metadata": {},
   "outputs": [],
   "source": [
    "training_name = \"focal_loss_gamma_5_ubelix\""
   ]
  },
  {
   "cell_type": "code",
   "execution_count": 112,
   "metadata": {},
   "outputs": [
    {
     "data": {
      "text/plain": [
       "defaultdict(<function __main__.<lambda>()>,\n",
       "            {0.5: defaultdict(<function __main__.<lambda>.<locals>.<lambda>()>,\n",
       "                         {0: defaultdict(dict,\n",
       "                                      {0: {'iou': 0.30818333635746775,\n",
       "                                        'prec': 0.34546162306863476,\n",
       "                                        'rec': 0.839799609160655,\n",
       "                                        'accuracy': 0.9650406923163793},\n",
       "                                       1: {'iou': 0.304422930066976,\n",
       "                                        'prec': 0.3359531409194253,\n",
       "                                        'rec': 0.8590687180143197,\n",
       "                                        'accuracy': 0.9676826224581971},\n",
       "                                       2: {'iou': 0.2986302522668567,\n",
       "                                        'prec': 0.3256157700911979,\n",
       "                                        'rec': 0.8715622646065496,\n",
       "                                        'accuracy': 0.9698784608021644},\n",
       "                                       3: {'iou': 0.29152014846237506,\n",
       "                                        'prec': 0.31439760919410425,\n",
       "                                        'rec': 0.8818430688616447,\n",
       "                                        'accuracy': 0.9718345717569767},\n",
       "                                       4: {'iou': 0.2830779040488929,\n",
       "                                        'prec': 0.30243123245183945,\n",
       "                                        'rec': 0.888099738593011,\n",
       "                                        'accuracy': 0.9735661995097371},\n",
       "                                       5: {'iou': 0.2738131139513765,\n",
       "                                        'prec': 0.29015827309878234,\n",
       "                                        'rec': 0.8907199124681787,\n",
       "                                        'accuracy': 0.975103713593609},\n",
       "                                       6: {'iou': 0.26394920005769074,\n",
       "                                        'prec': 0.27781532171819484,\n",
       "                                        'rec': 0.9008463633293962,\n",
       "                                        'accuracy': 0.9764572348973682},\n",
       "                                       7: {'iou': 0.25378799307858935,\n",
       "                                        'prec': 0.2655859622963226,\n",
       "                                        'rec': 0.9164719444951008,\n",
       "                                        'accuracy': 0.9776589413923813},\n",
       "                                       8: {'iou': 0.24304729028130545,\n",
       "                                        'prec': 0.2530823946855593,\n",
       "                                        'rec': 0.9225723754719163,\n",
       "                                        'accuracy': 0.9787243153931162},\n",
       "                                       9: {'iou': 0.23171550800429808,\n",
       "                                        'prec': 0.24021021875696733,\n",
       "                                        'rec': 0.9472675234964688,\n",
       "                                        'accuracy': 0.9796645064818423},\n",
       "                                       10: {'iou': 0.21966030187006388,\n",
       "                                        'prec': 0.22680688750932448,\n",
       "                                        'rec': 0.9454026172537778,\n",
       "                                        'accuracy': 0.9804870742492517}}),\n",
       "                          2: defaultdict(dict,\n",
       "                                      {0: {'iou': 0.3085634157499373,\n",
       "                                        'prec': 0.3460220237411966,\n",
       "                                        'rec': 0.8396335582047685,\n",
       "                                        'accuracy': 0.9651412589668394},\n",
       "                                       1: {'iou': 0.3048353963757574,\n",
       "                                        'prec': 0.3365345739716039,\n",
       "                                        'rec': 0.8589312371006008,\n",
       "                                        'accuracy': 0.9677830132373142},\n",
       "                                       2: {'iou': 0.2990780049116667,\n",
       "                                        'prec': 0.32621974587584585,\n",
       "                                        'rec': 0.8714441102289077,\n",
       "                                        'accuracy': 0.9699789613694052},\n",
       "                                       3: {'iou': 0.2919897375792544,\n",
       "                                        'prec': 0.31501244543680923,\n",
       "                                        'rec': 0.8817322384803828,\n",
       "                                        'accuracy': 0.9719341367127975},\n",
       "                                       4: {'iou': 0.28356965947200186,\n",
       "                                        'prec': 0.303056409922118,\n",
       "                                        'rec': 0.8880021913086208,\n",
       "                                        'accuracy': 0.9736651262180119},\n",
       "                                       5: {'iou': 0.27431667571837937,\n",
       "                                        'prec': 0.2907845780402105,\n",
       "                                        'rec': 0.8906259103702899,\n",
       "                                        'accuracy': 0.9752013762893418},\n",
       "                                       6: {'iou': 0.2644609724691748,\n",
       "                                        'prec': 0.2784380646681515,\n",
       "                                        'rec': 0.9007557784460509,\n",
       "                                        'accuracy': 0.9765536174279634},\n",
       "                                       7: {'iou': 0.2543058131235706,\n",
       "                                        'prec': 0.26620223427831313,\n",
       "                                        'rec': 0.9163869323988862,\n",
       "                                        'accuracy': 0.9777539244097674},\n",
       "                                       8: {'iou': 0.2435631682779565,\n",
       "                                        'prec': 0.2536839480470838,\n",
       "                                        'rec': 0.9224892504627906,\n",
       "                                        'accuracy': 0.9788175795648925},\n",
       "                                       9: {'iou': 0.23222728873800882,\n",
       "                                        'prec': 0.24079436975794236,\n",
       "                                        'rec': 0.9471975312738361,\n",
       "                                        'accuracy': 0.9797559430159148},\n",
       "                                       10: {'iou': 0.22016196542792174,\n",
       "                                        'prec': 0.22736844114071234,\n",
       "                                        'rec': 0.9453402028872548,\n",
       "                                        'accuracy': 0.9805764681505009}}),\n",
       "                          4: defaultdict(dict,\n",
       "                                      {0: {'iou': 0.30878484492919583,\n",
       "                                        'prec': 0.3463270450761748,\n",
       "                                        'rec': 0.8393251852710881,\n",
       "                                        'accuracy': 0.965191887149041},\n",
       "                                       1: {'iou': 0.3050920484960711,\n",
       "                                        'prec': 0.3368682021946719,\n",
       "                                        'rec': 0.8587871120329189,\n",
       "                                        'accuracy': 0.967833244867782},\n",
       "                                       2: {'iou': 0.29935530630162116,\n",
       "                                        'prec': 0.32656548131061564,\n",
       "                                        'rec': 0.8713789337596036,\n",
       "                                        'accuracy': 0.9700279496128132},\n",
       "                                       3: {'iou': 0.29228818061194795,\n",
       "                                        'prec': 0.3153666361487226,\n",
       "                                        'rec': 0.8816871442200033,\n",
       "                                        'accuracy': 0.9719827502837879},\n",
       "                                       4: {'iou': 0.28388786319206777,\n",
       "                                        'prec': 0.30341659913603336,\n",
       "                                        'rec': 0.8879820472234736,\n",
       "                                        'accuracy': 0.973713675120815},\n",
       "                                       5: {'iou': 0.27464526620207935,\n",
       "                                        'prec': 0.29114485159540826,\n",
       "                                        'rec': 0.8906192943492641,\n",
       "                                        'accuracy': 0.9752495657216697},\n",
       "                                       6: {'iou': 0.2647937231046927,\n",
       "                                        'prec': 0.27879499587601564,\n",
       "                                        'rec': 0.9007557784460509,\n",
       "                                        'accuracy': 0.9766013252700421},\n",
       "                                       7: {'iou': 0.2546397916188255,\n",
       "                                        'prec': 0.2665553898551345,\n",
       "                                        'rec': 0.9163869323988862,\n",
       "                                        'accuracy': 0.9778011548050558},\n",
       "                                       8: {'iou': 0.24389675941337177,\n",
       "                                        'prec': 0.254032361678311,\n",
       "                                        'rec': 0.9224892504627906,\n",
       "                                        'accuracy': 0.9788643059009634},\n",
       "                                       9: {'iou': 0.23255735590936263,\n",
       "                                        'prec': 0.24113554168053014,\n",
       "                                        'rec': 0.9471975312738361,\n",
       "                                        'accuracy': 0.9798021304795006},\n",
       "                                       10: {'iou': 0.22048624387775773,\n",
       "                                        'prec': 0.22770083791465412,\n",
       "                                        'rec': 0.9453402028872548,\n",
       "                                        'accuracy': 0.980622128035721}}),\n",
       "                          6: defaultdict(dict,\n",
       "                                      {0: {'iou': 0.30938543412820046,\n",
       "                                        'prec': 0.3472010055940997,\n",
       "                                        'rec': 0.8389145388019157,\n",
       "                                        'accuracy': 0.9653400939038433},\n",
       "                                       1: {'iou': 0.30574951422138563,\n",
       "                                        'prec': 0.337752275359948,\n",
       "                                        'rec': 0.8584452586791914,\n",
       "                                        'accuracy': 0.9679825223509011},\n",
       "                                       2: {'iou': 0.30007766195416363,\n",
       "                                        'prec': 0.32746052615512233,\n",
       "                                        'rec': 0.8711501349340275,\n",
       "                                        'accuracy': 0.9701784243002227},\n",
       "                                       3: {'iou': 0.29306610181445986,\n",
       "                                        'prec': 0.3162704485536333,\n",
       "                                        'rec': 0.8815499251536038,\n",
       "                                        'accuracy': 0.9721338899093196},\n",
       "                                       4: {'iou': 0.28471242656319534,\n",
       "                                        'prec': 0.3043287472856574,\n",
       "                                        'rec': 0.8879147097103167,\n",
       "                                        'accuracy': 0.973865047672983},\n",
       "                                       5: {'iou': 0.275501561066814,\n",
       "                                        'prec': 0.2920594318628975,\n",
       "                                        'rec': 0.8905986075389077,\n",
       "                                        'accuracy': 0.9754004996555667},\n",
       "                                       6: {'iou': 0.26566758829380777,\n",
       "                                        'prec': 0.2797093281288977,\n",
       "                                        'rec': 0.9007557784460509,\n",
       "                                        'accuracy': 0.9767515734875568},\n",
       "                                       7: {'iou': 0.25552259703673214,\n",
       "                                        'prec': 0.2674700808567007,\n",
       "                                        'rec': 0.9163869323988862,\n",
       "                                        'accuracy': 0.9779507729063022},\n",
       "                                       8: {'iou': 0.24478276944113053,\n",
       "                                        'prec': 0.25494482832595305,\n",
       "                                        'rec': 0.9224892504627906,\n",
       "                                        'accuracy': 0.9790133834029313},\n",
       "                                       9: {'iou': 0.23344099583420416,\n",
       "                                        'prec': 0.2420417727876859,\n",
       "                                        'rec': 0.9471975312738361,\n",
       "                                        'accuracy': 0.979950847290369},\n",
       "                                       10: {'iou': 0.22136142201184816,\n",
       "                                        'prec': 0.22859561014860605,\n",
       "                                        'rec': 0.9453402028872548,\n",
       "                                        'accuracy': 0.9807707447316003}}),\n",
       "                          8: defaultdict(dict,\n",
       "                                      {0: {'iou': 0.3107731507838092,\n",
       "                                        'prec': 0.34915428066779947,\n",
       "                                        'rec': 0.8382415814500719,\n",
       "                                        'accuracy': 0.9656812551666546},\n",
       "                                       1: {'iou': 0.3072126722788768,\n",
       "                                        'prec': 0.3397308774072202,\n",
       "                                        'rec': 0.8577024690894688,\n",
       "                                        'accuracy': 0.968322624336089},\n",
       "                                       2: {'iou': 0.3015934095112371,\n",
       "                                        'prec': 0.3294537848549954,\n",
       "                                        'rec': 0.8703168280624287,\n",
       "                                        'accuracy': 0.9705170494129745},\n",
       "                                       3: {'iou': 0.294639410355199,\n",
       "                                        'prec': 0.3182812190816311,\n",
       "                                        'rec': 0.8806024668902763,\n",
       "                                        'accuracy': 0.9724697668105993},\n",
       "                                       4: {'iou': 0.28635736179055604,\n",
       "                                        'prec': 0.30637045435454974,\n",
       "                                        'rec': 0.886845269441286,\n",
       "                                        'accuracy': 0.9741978695753537},\n",
       "                                       5: {'iou': 0.2772473260235382,\n",
       "                                        'prec': 0.29415764963129143,\n",
       "                                        'rec': 0.8894324251324063,\n",
       "                                        'accuracy': 0.9757318914844784},\n",
       "                                       6: {'iou': 0.2675487804001391,\n",
       "                                        'prec': 0.28189544318282883,\n",
       "                                        'rec': 0.8995494544764231,\n",
       "                                        'accuracy': 0.9770839672503029},\n",
       "                                       7: {'iou': 0.2575726077882728,\n",
       "                                        'prec': 0.26977784508806074,\n",
       "                                        'rec': 0.915209752822129,\n",
       "                                        'accuracy': 0.9782854158268104},\n",
       "                                       8: {'iou': 0.2470198369449904,\n",
       "                                        'prec': 0.2573937721654668,\n",
       "                                        'rec': 0.9214119213295022,\n",
       "                                        'accuracy': 0.9793507192389429},\n",
       "                                       9: {'iou': 0.23587464503072889,\n",
       "                                        'prec': 0.24464082877725454,\n",
       "                                        'rec': 0.9463081198999633,\n",
       "                                        'accuracy': 0.9802909039125629},\n",
       "                                       10: {'iou': 0.2239779866405408,\n",
       "                                        'prec': 0.23133092860539867,\n",
       "                                        'rec': 0.9447474530330994,\n",
       "                                        'accuracy': 0.9811132271205695}})}),\n",
       "             0.6: defaultdict(<function __main__.<lambda>.<locals>.<lambda>()>,\n",
       "                         {0: defaultdict(dict,\n",
       "                                      {0: {'iou': 0.34799141330224587,\n",
       "                                        'prec': 0.45083211241215015,\n",
       "                                        'rec': 0.7111558444406724,\n",
       "                                        'accuracy': 0.9768166874116222},\n",
       "                                       1: {'iou': 0.355036088057095,\n",
       "                                        'prec': 0.4461155467551877,\n",
       "                                        'rec': 0.7379906599213468,\n",
       "                                        'accuracy': 0.9794983731091504},\n",
       "                                       2: {'iou': 0.3583120065026273,\n",
       "                                        'prec': 0.4387905594815031,\n",
       "                                        'rec': 0.7528058596793463,\n",
       "                                        'accuracy': 0.9816692685425562},\n",
       "                                       3: {'iou': 0.3588894417690509,\n",
       "                                        'prec': 0.4292272074800859,\n",
       "                                        'rec': 0.7588712727715899,\n",
       "                                        'accuracy': 0.9835106177466587},\n",
       "                                       4: {'iou': 0.35714021619463665,\n",
       "                                        'prec': 0.41818505705495207,\n",
       "                                        'rec': 0.7542855345441707,\n",
       "                                        'accuracy': 0.9850662942348707},\n",
       "                                       5: {'iou': 0.35419035625835327,\n",
       "                                        'prec': 0.4068895868818059,\n",
       "                                        'rec': 0.7444932067275878,\n",
       "                                        'accuracy': 0.986386984776392},\n",
       "                                       6: {'iou': 0.35053123144382103,\n",
       "                                        'prec': 0.3960201052637759,\n",
       "                                        'rec': 0.7305225469267655,\n",
       "                                        'accuracy': 0.987500521687176},\n",
       "                                       7: {'iou': 0.34600955268089717,\n",
       "                                        'prec': 0.38555110544626914,\n",
       "                                        'rec': 0.8247878279266405,\n",
       "                                        'accuracy': 0.9884342708511489},\n",
       "                                       8: {'iou': 0.340320385375351,\n",
       "                                        'prec': 0.37488370279094485,\n",
       "                                        'rec': 0.8348575854687861,\n",
       "                                        'accuracy': 0.9892149709870073},\n",
       "                                       9: {'iou': 0.3334907806373448,\n",
       "                                        'prec': 0.36389402000656074,\n",
       "                                        'rec': 0.8852460006596102,\n",
       "                                        'accuracy': 0.9898710105018189},\n",
       "                                       10: {'iou': 0.3254811656614185,\n",
       "                                        'prec': 0.35222875979515905,\n",
       "                                        'rec': 0.8883900238781307,\n",
       "                                        'accuracy': 0.9904254318892165}}),\n",
       "                          2: defaultdict(dict,\n",
       "                                      {0: {'iou': 0.34810834288418735,\n",
       "                                        'prec': 0.45110369506423226,\n",
       "                                        'rec': 0.7110140693363708,\n",
       "                                        'accuracy': 0.9768494642088967},\n",
       "                                       1: {'iou': 0.3551724069327873,\n",
       "                                        'prec': 0.4463983163286541,\n",
       "                                        'rec': 0.737864179453608,\n",
       "                                        'accuracy': 0.9795317949676031},\n",
       "                                       2: {'iou': 0.35846604292247225,\n",
       "                                        'prec': 0.43908083823409166,\n",
       "                                        'rec': 0.7526977275244731,\n",
       "                                        'accuracy': 0.9817026028967591},\n",
       "                                       3: {'iou': 0.359052195913242,\n",
       "                                        'prec': 0.4295164157228608,\n",
       "                                        'rec': 0.7587672139456951,\n",
       "                                        'accuracy': 0.9835434640915852},\n",
       "                                       4: {'iou': 0.3573042824693421,\n",
       "                                        'prec': 0.41846416096641115,\n",
       "                                        'rec': 0.7541865025560989,\n",
       "                                        'accuracy': 0.9850984511970573},\n",
       "                                       5: {'iou': 0.3543571355152401,\n",
       "                                        'prec': 0.4071616845348362,\n",
       "                                        'rec': 0.744387644884304,\n",
       "                                        'accuracy': 0.9864186793713766},\n",
       "                                       6: {'iou': 0.3506986097540051,\n",
       "                                        'prec': 0.39628549271611924,\n",
       "                                        'rec': 0.7304043197532221,\n",
       "                                        'accuracy': 0.9875316768009945},\n",
       "                                       7: {'iou': 0.34617941152842097,\n",
       "                                        'prec': 0.3858142743364625,\n",
       "                                        'rec': 0.8246552019529507,\n",
       "                                        'accuracy': 0.9884650446812991},\n",
       "                                       8: {'iou': 0.34049615166555736,\n",
       "                                        'prec': 0.3751477745435995,\n",
       "                                        'rec': 0.8347009366277115,\n",
       "                                        'accuracy': 0.9892455426397291},\n",
       "                                       9: {'iou': 0.33367968004566934,\n",
       "                                        'prec': 0.3641673073009986,\n",
       "                                        'rec': 0.8850796325890447,\n",
       "                                        'accuracy': 0.9899015250509167},\n",
       "                                       10: {'iou': 0.32569394714050903,\n",
       "                                        'prec': 0.3525174274604742,\n",
       "                                        'rec': 0.8882521655358656,\n",
       "                                        'accuracy': 0.9904560570313959}}),\n",
       "                          4: defaultdict(dict,\n",
       "                                      {0: {'iou': 0.3482581019492032,\n",
       "                                        'prec': 0.45152183439645227,\n",
       "                                        'rec': 0.7101760608805066,\n",
       "                                        'accuracy': 0.9768999584618024},\n",
       "                                       1: {'iou': 0.3553355353843333,\n",
       "                                        'prec': 0.44681921121022555,\n",
       "                                        'rec': 0.7367958884544867,\n",
       "                                        'accuracy': 0.9795828316903599},\n",
       "                                       2: {'iou': 0.35866559640445367,\n",
       "                                        'prec': 0.43951435244388787,\n",
       "                                        'rec': 0.7513110522332271,\n",
       "                                        'accuracy': 0.9817546002026187},\n",
       "                                       3: {'iou': 0.35931385630892587,\n",
       "                                        'prec': 0.42998278228534154,\n",
       "                                        'rec': 0.7569822259783848,\n",
       "                                        'accuracy': 0.9835966057717491},\n",
       "                                       4: {'iou': 0.35765687622959114,\n",
       "                                        'prec': 0.41899721144509283,\n",
       "                                        'rec': 0.7522664545917692,\n",
       "                                        'accuracy': 0.9851526794071866},\n",
       "                                       5: {'iou': 0.3548195215857468,\n",
       "                                        'prec': 0.4077831526268832,\n",
       "                                        'rec': 0.7427606299138233,\n",
       "                                        'accuracy': 0.9864736330928269},\n",
       "                                       6: {'iou': 0.35128489072734853,\n",
       "                                        'prec': 0.39700985765273245,\n",
       "                                        'rec': 0.7295496281728358,\n",
       "                                        'accuracy': 0.987587088744883},\n",
       "                                       7: {'iou': 0.34690177332650113,\n",
       "                                        'prec': 0.38666003048798137,\n",
       "                                        'rec': 0.8238137888325706,\n",
       "                                        'accuracy': 0.9885206822391743},\n",
       "                                       8: {'iou': 0.3413894511822868,\n",
       "                                        'prec': 0.3761548185558543,\n",
       "                                        'rec': 0.8335747760092608,\n",
       "                                        'accuracy': 0.9893015235607149},\n",
       "                                       9: {'iou': 0.3347801013701466,\n",
       "                                        'prec': 0.3653736843856936,\n",
       "                                        'rec': 0.8834546632080417,\n",
       "                                        'accuracy': 0.9899580538346652},\n",
       "                                       10: {'iou': 0.3270567603746028,\n",
       "                                        'prec': 0.3539752262658318,\n",
       "                                        'rec': 0.886023775443913,\n",
       "                                        'accuracy': 0.9905134857464587}}),\n",
       "                          6: defaultdict(dict,\n",
       "                                      {0: {'iou': 0.34890011692963424,\n",
       "                                        'prec': 0.4532570871220648,\n",
       "                                        'rec': 0.7090211142425272,\n",
       "                                        'accuracy': 0.9770148396744833},\n",
       "                                       1: {'iou': 0.35598015803932564,\n",
       "                                        'prec': 0.44859179202396493,\n",
       "                                        'rec': 0.7355473446942303,\n",
       "                                        'accuracy': 0.9796981650318555},\n",
       "                                       2: {'iou': 0.35935740062511806,\n",
       "                                        'prec': 0.4413315610693121,\n",
       "                                        'rec': 0.7500462313945983,\n",
       "                                        'accuracy': 0.9818718505411028},\n",
       "                                       3: {'iou': 0.3601005703261079,\n",
       "                                        'prec': 0.4318604006189888,\n",
       "                                        'rec': 0.7557176635341317,\n",
       "                                        'accuracy': 0.9837169610559001},\n",
       "                                       4: {'iou': 0.35867950892418415,\n",
       "                                        'prec': 0.4209810188412177,\n",
       "                                        'rec': 0.7511082648030264,\n",
       "                                        'accuracy': 0.9852785421005047},\n",
       "                                       5: {'iou': 0.35626287345058305,\n",
       "                                        'prec': 0.4099512602649499,\n",
       "                                        'rec': 0.7418469285901813,\n",
       "                                        'accuracy': 0.9866065118641237},\n",
       "                                       6: {'iou': 0.3532918634115762,\n",
       "                                        'prec': 0.39945002771420984,\n",
       "                                        'rec': 0.7289533543049402,\n",
       "                                        'accuracy': 0.9877264068791162},\n",
       "                                       7: {'iou': 0.34940510143137377,\n",
       "                                        'prec': 0.3894385555523604,\n",
       "                                        'rec': 0.823363958428926,\n",
       "                                        'accuracy': 0.988662836461804},\n",
       "                                       8: {'iou': 0.3444063832514222,\n",
       "                                        'prec': 0.37937498413197385,\n",
       "                                        'rec': 0.8332046643278823,\n",
       "                                        'accuracy': 0.989444943831215},\n",
       "                                       9: {'iou': 0.3384247187812226,\n",
       "                                        'prec': 0.3691642353974822,\n",
       "                                        'rec': 0.8832051982047274,\n",
       "                                        'accuracy': 0.9901024478495477},\n",
       "                                       10: {'iou': 0.33144227098676554,\n",
       "                                        'prec': 0.35845514759132097,\n",
       "                                        'rec': 0.88593691670205,\n",
       "                                        'accuracy': 0.9906588130638847}}),\n",
       "                          8: defaultdict(dict,\n",
       "                                      {0: {'iou': 0.34849246141639756,\n",
       "                                        'prec': 0.45393536955431935,\n",
       "                                        'rec': 0.7034832695374147,\n",
       "                                        'accuracy': 0.9772195962095539},\n",
       "                                       1: {'iou': 0.3555179010800054,\n",
       "                                        'prec': 0.4492540330845348,\n",
       "                                        'rec': 0.7292289305238673,\n",
       "                                        'accuracy': 0.9799116855571351},\n",
       "                                       2: {'iou': 0.35892667687363633,\n",
       "                                        'prec': 0.44201528352430475,\n",
       "                                        'rec': 0.7429071532259847,\n",
       "                                        'accuracy': 0.9820964473062416},\n",
       "                                       3: {'iou': 0.35983017255699745,\n",
       "                                        'prec': 0.4326409749701145,\n",
       "                                        'rec': 0.7483491678020914,\n",
       "                                        'accuracy': 0.983954217590028},\n",
       "                                       4: {'iou': 0.35869871301930056,\n",
       "                                        'prec': 0.42192178333255564,\n",
       "                                        'rec': 0.7451399337024806,\n",
       "                                        'accuracy': 0.9855290541788515},\n",
       "                                       5: {'iou': 0.3565796989350598,\n",
       "                                        'prec': 0.41100947026940127,\n",
       "                                        'rec': 0.7387242547552471,\n",
       "                                        'accuracy': 0.9868681958831829},\n",
       "                                       6: {'iou': 0.3538296135465179,\n",
       "                                        'prec': 0.4005340116085774,\n",
       "                                        'rec': 0.7270259973228093,\n",
       "                                        'accuracy': 0.9879961374596599},\n",
       "                                       7: {'iou': 0.3501423890933655,\n",
       "                                        'prec': 0.3905650560936856,\n",
       "                                        'rec': 0.8214558520564548,\n",
       "                                        'accuracy': 0.9889385292568266},\n",
       "                                       8: {'iou': 0.3452732838883124,\n",
       "                                        'prec': 0.3805592017087819,\n",
       "                                        'rec': 0.8311779398527127,\n",
       "                                        'accuracy': 0.9897245083184821},\n",
       "                                       9: {'iou': 0.3393847114238006,\n",
       "                                        'prec': 0.370418236328961,\n",
       "                                        'rec': 0.8809134209132362,\n",
       "                                        'accuracy': 0.9903848542299496},\n",
       "                                       10: {'iou': 0.3324877808152765,\n",
       "                                        'prec': 0.3597832931138479,\n",
       "                                        'rec': 0.8830660163659004,\n",
       "                                        'accuracy': 0.9909433999260303}})}),\n",
       "             0.7: defaultdict(<function __main__.<lambda>.<locals>.<lambda>()>,\n",
       "                         {0: defaultdict(dict,\n",
       "                                      {0: {'iou': 0.3236518989385365,\n",
       "                                        'prec': 0.572843743047078,\n",
       "                                        'rec': 0.45930831835251734,\n",
       "                                        'accuracy': 0.9812618356453571},\n",
       "                                       1: {'iou': 0.3436075483497982,\n",
       "                                        'prec': 0.5747832732653384,\n",
       "                                        'rec': 0.49371219864730176,\n",
       "                                        'accuracy': 0.9840181225770591},\n",
       "                                       2: {'iou': 0.35903276013260366,\n",
       "                                        'prec': 0.5717856606911254,\n",
       "                                        'rec': 0.5237668795490736,\n",
       "                                        'accuracy': 0.9862462252617301},\n",
       "                                       3: {'iou': 0.37183754427606347,\n",
       "                                        'prec': 0.5642563541760233,\n",
       "                                        'rec': 0.5464132765059645,\n",
       "                                        'accuracy': 0.9881511335586253},\n",
       "                                       4: {'iou': 0.3815842400868302,\n",
       "                                        'prec': 0.5532248274777539,\n",
       "                                        'rec': 0.5656461329097324,\n",
       "                                        'accuracy': 0.9897611598548139},\n",
       "                                       5: {'iou': 0.3879969061507786,\n",
       "                                        'prec': 0.5399509361279555,\n",
       "                                        'rec': 0.578087275889779,\n",
       "                                        'accuracy': 0.991111225809403},\n",
       "                                       6: {'iou': 0.3915756678848197,\n",
       "                                        'prec': 0.5263270226813204,\n",
       "                                        'rec': 0.5907136799520141,\n",
       "                                        'accuracy': 0.9922248728122608},\n",
       "                                       7: {'iou': 0.39156646315493493,\n",
       "                                        'prec': 0.5125395489698029,\n",
       "                                        'rec': 0.7068106835134396,\n",
       "                                        'accuracy': 0.9931381463614335},\n",
       "                                       8: {'iou': 0.3874727207524252,\n",
       "                                        'prec': 0.497945184583853,\n",
       "                                        'rec': 0.706499622741459,\n",
       "                                        'accuracy': 0.993896599589428},\n",
       "                                       9: {'iou': 0.3802602994065211,\n",
       "                                        'prec': 0.48274242138562684,\n",
       "                                        'rec': 0.8024466195475777,\n",
       "                                        'accuracy': 0.994532640019999},\n",
       "                                       10: {'iou': 0.37268188153219506,\n",
       "                                        'prec': 0.4680548100595306,\n",
       "                                        'rec': 0.8104926421974445,\n",
       "                                        'accuracy': 0.995070683845937}}),\n",
       "                          2: defaultdict(dict,\n",
       "                                      {0: {'iou': 0.32327660892467247,\n",
       "                                        'prec': 0.5730127910449974,\n",
       "                                        'rec': 0.4573295299227189,\n",
       "                                        'accuracy': 0.9812763294692503},\n",
       "                                       1: {'iou': 0.34330678878418286,\n",
       "                                        'prec': 0.5750091044960316,\n",
       "                                        'rec': 0.49136691642873015,\n",
       "                                        'accuracy': 0.9840349811712298},\n",
       "                                       2: {'iou': 0.35879466195832616,\n",
       "                                        'prec': 0.572067902363768,\n",
       "                                        'rec': 0.5208332706933175,\n",
       "                                        'accuracy': 0.98626328081566},\n",
       "                                       3: {'iou': 0.3717472061725157,\n",
       "                                        'prec': 0.5646725828290745,\n",
       "                                        'rec': 0.5439695116624889,\n",
       "                                        'accuracy': 0.988168649066647},\n",
       "                                       4: {'iou': 0.3816099392537547,\n",
       "                                        'prec': 0.5537041638869451,\n",
       "                                        'rec': 0.5632912010743103,\n",
       "                                        'accuracy': 0.9897801094518824},\n",
       "                                       5: {'iou': 0.38810412319196064,\n",
       "                                        'prec': 0.5404793584419502,\n",
       "                                        'rec': 0.5765973687158791,\n",
       "                                        'accuracy': 0.9911308466955074},\n",
       "                                       6: {'iou': 0.3917231943439414,\n",
       "                                        'prec': 0.5268719446287229,\n",
       "                                        'rec': 0.5901859447488697,\n",
       "                                        'accuracy': 0.9922452561457651},\n",
       "                                       7: {'iou': 0.3917383354086975,\n",
       "                                        'prec': 0.5130960371605033,\n",
       "                                        'rec': 0.706379355250117,\n",
       "                                        'accuracy': 0.9931590762757592},\n",
       "                                       8: {'iou': 0.3876431185138296,\n",
       "                                        'prec': 0.49848777593016563,\n",
       "                                        'rec': 0.7060675988881591,\n",
       "                                        'accuracy': 0.9939182770619716},\n",
       "                                       9: {'iou': 0.38039813713104487,\n",
       "                                        'prec': 0.48325382563024605,\n",
       "                                        'rec': 0.8020035157270669,\n",
       "                                        'accuracy': 0.9945545932099962},\n",
       "                                       10: {'iou': 0.3727814319392071,\n",
       "                                        'prec': 0.4685230264990692,\n",
       "                                        'rec': 0.8100515794198858,\n",
       "                                        'accuracy': 0.9950929993985628}}),\n",
       "                          4: defaultdict(dict,\n",
       "                                      {0: {'iou': 0.32265370616122513,\n",
       "                                        'prec': 0.5729587882537143,\n",
       "                                        'rec': 0.45575973682111937,\n",
       "                                        'accuracy': 0.9812784047707273},\n",
       "                                       1: {'iou': 0.342644466894709,\n",
       "                                        'prec': 0.5749317403569169,\n",
       "                                        'rec': 0.48949231910087954,\n",
       "                                        'accuracy': 0.9840381322341786},\n",
       "                                       2: {'iou': 0.35810126544398785,\n",
       "                                        'prec': 0.5719787284509129,\n",
       "                                        'rec': 0.5185834328223403,\n",
       "                                        'accuracy': 0.9862680520630988},\n",
       "                                       3: {'iou': 0.3710563567826737,\n",
       "                                        'prec': 0.5646088272772742,\n",
       "                                        'rec': 0.5412335858399379,\n",
       "                                        'accuracy': 0.9881758261476988},\n",
       "                                       4: {'iou': 0.38111511528330033,\n",
       "                                        'prec': 0.5538564690060895,\n",
       "                                        'rec': 0.5605149550645329,\n",
       "                                        'accuracy': 0.9897912595972304},\n",
       "                                       5: {'iou': 0.3879025578108561,\n",
       "                                        'prec': 0.5409481834751223,\n",
       "                                        'rec': 0.5743885253771662,\n",
       "                                        'accuracy': 0.9911459900151625},\n",
       "                                       6: {'iou': 0.39168652474034854,\n",
       "                                        'prec': 0.5275291398777004,\n",
       "                                        'rec': 0.5885103758415133,\n",
       "                                        'accuracy': 0.9922626812232794},\n",
       "                                       7: {'iou': 0.39182058709962686,\n",
       "                                        'prec': 0.513878019382561,\n",
       "                                        'rec': 0.7057152835090343,\n",
       "                                        'accuracy': 0.9931781370362148},\n",
       "                                       8: {'iou': 0.387841192302417,\n",
       "                                        'prec': 0.49936973101320475,\n",
       "                                        'rec': 0.7058738057976243,\n",
       "                                        'accuracy': 0.9939386929016665},\n",
       "                                       9: {'iou': 0.38069251228585205,\n",
       "                                        'prec': 0.4842296742168333,\n",
       "                                        'rec': 0.8018563641155443,\n",
       "                                        'accuracy': 0.9945759672802664},\n",
       "                                       10: {'iou': 0.3731962786501552,\n",
       "                                        'prec': 0.4696492694804687,\n",
       "                                        'rec': 0.8099306157044952,\n",
       "                                        'accuracy': 0.9951153242491034}}),\n",
       "                          6: defaultdict(dict,\n",
       "                                      {0: {'iou': 0.318574028076634,\n",
       "                                        'prec': 0.5694751281590317,\n",
       "                                        'rec': 0.4390059382874558,\n",
       "                                        'accuracy': 0.9812656035138685},\n",
       "                                       1: {'iou': 0.3386449324550531,\n",
       "                                        'prec': 0.571923922464808,\n",
       "                                        'rec': 0.46885998402638507,\n",
       "                                        'accuracy': 0.9840237601454365},\n",
       "                                       2: {'iou': 0.35441485885946933,\n",
       "                                        'prec': 0.5696316677044262,\n",
       "                                        'rec': 0.49432343316103045,\n",
       "                                        'accuracy': 0.9862525933259987},\n",
       "                                       3: {'iou': 0.36803744227452506,\n",
       "                                        'prec': 0.5632624211098859,\n",
       "                                        'rec': 0.5194232414532283,\n",
       "                                        'accuracy': 0.9881611622856613},\n",
       "                                       4: {'iou': 0.37841132709536945,\n",
       "                                        'prec': 0.5531292066512684,\n",
       "                                        'rec': 0.5431158300108485,\n",
       "                                        'accuracy': 0.9897796910457157},\n",
       "                                       5: {'iou': 0.38522913856993163,\n",
       "                                        'prec': 0.5405150471050987,\n",
       "                                        'rec': 0.565544893854295,\n",
       "                                        'accuracy': 0.9911394111969867},\n",
       "                                       6: {'iou': 0.3889541015199056,\n",
       "                                        'prec': 0.527225530986733,\n",
       "                                        'rec': 0.5844368663787037,\n",
       "                                        'accuracy': 0.9922624198484987},\n",
       "                                       7: {'iou': 0.3893712174412536,\n",
       "                                        'prec': 0.513820474849366,\n",
       "                                        'rec': 0.7019787701790796,\n",
       "                                        'accuracy': 0.99318668625923},\n",
       "                                       8: {'iou': 0.38613187127858445,\n",
       "                                        'prec': 0.4996415187999377,\n",
       "                                        'rec': 0.7031377016440504,\n",
       "                                        'accuracy': 0.9939574852484996},\n",
       "                                       9: {'iou': 0.3797231368563471,\n",
       "                                        'prec': 0.4847925922284231,\n",
       "                                        'rec': 0.8002764170892589,\n",
       "                                        'accuracy': 0.9946022664341664},\n",
       "                                       10: {'iou': 0.37266295482349293,\n",
       "                                        'prec': 0.4703750936696322,\n",
       "                                        'rec': 0.8088931086747864,\n",
       "                                        'accuracy': 0.9951455015570989}}),\n",
       "                          8: defaultdict(dict,\n",
       "                                      {0: {'iou': 0.3141943742740788,\n",
       "                                        'prec': 0.5641794630439713,\n",
       "                                        'rec': 0.42982498677320835,\n",
       "                                        'accuracy': 0.9812908809767167},\n",
       "                                       1: {'iou': 0.33408249193182876,\n",
       "                                        'prec': 0.56695354868413,\n",
       "                                        'rec': 0.4583266784837432,\n",
       "                                        'accuracy': 0.9840537918342565},\n",
       "                                       2: {'iou': 0.35021185313903547,\n",
       "                                        'prec': 0.5655938181914162,\n",
       "                                        'rec': 0.4833484934989062,\n",
       "                                        'accuracy': 0.986296302744867},\n",
       "                                       3: {'iou': 0.3645915359199152,\n",
       "                                        'prec': 0.5605130068985504,\n",
       "                                        'rec': 0.5089928643652147,\n",
       "                                        'accuracy': 0.9882223452343438},\n",
       "                                       4: {'iou': 0.37592845970566724,\n",
       "                                        'prec': 0.5516933429013883,\n",
       "                                        'rec': 0.5344776316091442,\n",
       "                                        'accuracy': 0.9898591765057532},\n",
       "                                       5: {'iou': 0.3836378847163734,\n",
       "                                        'prec': 0.5401076900329589,\n",
       "                                        'rec': 0.5593413816821244,\n",
       "                                        'accuracy': 0.9912358857633955},\n",
       "                                       6: {'iou': 0.38794606768746226,\n",
       "                                        'prec': 0.5273312352812344,\n",
       "                                        'rec': 0.5812022035829165,\n",
       "                                        'accuracy': 0.9923717952033461},\n",
       "                                       7: {'iou': 0.3887139989961543,\n",
       "                                        'prec': 0.5140342798000838,\n",
       "                                        'rec': 0.700548477373887,\n",
       "                                        'accuracy': 0.9933045705729471},\n",
       "                                       8: {'iou': 0.38567240317201545,\n",
       "                                        'prec': 0.49990819164237366,\n",
       "                                        'rec': 0.702332596248265,\n",
       "                                        'accuracy': 0.9940796031244711},\n",
       "                                       9: {'iou': 0.37931257049879835,\n",
       "                                        'prec': 0.48510213081056186,\n",
       "                                        'rec': 0.7995615325790076,\n",
       "                                        'accuracy': 0.9947263590896244},\n",
       "                                       10: {'iou': 0.3722870422871025,\n",
       "                                        'prec': 0.47072493799562576,\n",
       "                                        'rec': 0.8081623185872198,\n",
       "                                        'accuracy': 0.9952713081549484}})}),\n",
       "             0.8: defaultdict(<function __main__.<lambda>.<locals>.<lambda>()>,\n",
       "                         {0: defaultdict(dict,\n",
       "                                      {0: {'iou': 0.19669988705251132,\n",
       "                                        'prec': 0.6985591734962464,\n",
       "                                        'rec': 0.22446992344775227,\n",
       "                                        'accuracy': 0.9798047440978751},\n",
       "                                       1: {'iou': 0.21803463742447893,\n",
       "                                        'prec': 0.7078725068374867,\n",
       "                                        'rec': 0.24658489067590367,\n",
       "                                        'accuracy': 0.9826295879215521},\n",
       "                                       2: {'iou': 0.23637443424528876,\n",
       "                                        'prec': 0.7112311121970629,\n",
       "                                        'rec': 0.26576523264757385,\n",
       "                                        'accuracy': 0.9849349048165352},\n",
       "                                       3: {'iou': 0.25305750640723523,\n",
       "                                        'prec': 0.7065997234207355,\n",
       "                                        'rec': 0.283953631190417,\n",
       "                                        'accuracy': 0.9869444361431741},\n",
       "                                       4: {'iou': 0.2686773912235953,\n",
       "                                        'prec': 0.6934094605818346,\n",
       "                                        'rec': 0.3026413082323817,\n",
       "                                        'accuracy': 0.9886952984356897},\n",
       "                                       5: {'iou': 0.2823960439895909,\n",
       "                                        'prec': 0.6739698059373058,\n",
       "                                        'rec': 0.3213256581344537,\n",
       "                                        'accuracy': 0.9902162108051868},\n",
       "                                       6: {'iou': 0.2945872088079282,\n",
       "                                        'prec': 0.6555155688706091,\n",
       "                                        'rec': 0.3359426490393589,\n",
       "                                        'accuracy': 0.991524661246665},\n",
       "                                       7: {'iou': 0.3110424913994581,\n",
       "                                        'prec': 0.6464452251397538,\n",
       "                                        'rec': 0.45823149586041545,\n",
       "                                        'accuracy': 0.992647293742411},\n",
       "                                       8: {'iou': 0.32876630455719613,\n",
       "                                        'prec': 0.6417222887986098,\n",
       "                                        'rec': 0.4716314834223863,\n",
       "                                        'accuracy': 0.9936167720244143},\n",
       "                                       9: {'iou': 0.34283718519216594,\n",
       "                                        'prec': 0.6370793512659509,\n",
       "                                        'rec': 0.6008448349315089,\n",
       "                                        'accuracy': 0.9944590755462658},\n",
       "                                       10: {'iou': 0.35551441182548604,\n",
       "                                        'prec': 0.6319911474867833,\n",
       "                                        'rec': 0.6175008646316249,\n",
       "                                        'accuracy': 0.9951983879971031}}),\n",
       "                          2: defaultdict(dict,\n",
       "                                      {0: {'iou': 0.1955250176336657,\n",
       "                                        'prec': 0.8094336621816622,\n",
       "                                        'rec': 0.22261491675849912,\n",
       "                                        'accuracy': 0.9797605193372316},\n",
       "                                       1: {'iou': 0.21682543172671756,\n",
       "                                        'prec': 0.818881417751675,\n",
       "                                        'rec': 0.24466294472745678,\n",
       "                                        'accuracy': 0.9825862876743526},\n",
       "                                       2: {'iou': 0.23512435019323905,\n",
       "                                        'prec': 0.8224322569206595,\n",
       "                                        'rec': 0.263753685028483,\n",
       "                                        'accuracy': 0.9848921264087108},\n",
       "                                       3: {'iou': 0.25180019898941236,\n",
       "                                        'prec': 0.817968179005756,\n",
       "                                        'rec': 0.2818741897189374,\n",
       "                                        'accuracy': 0.9869029953758213},\n",
       "                                       4: {'iou': 0.26750484188681833,\n",
       "                                        'prec': 0.804898173429962,\n",
       "                                        'rec': 0.3005663540300581,\n",
       "                                        'accuracy': 0.9886580516632342},\n",
       "                                       5: {'iou': 0.2813270870658481,\n",
       "                                        'prec': 0.7854549577843267,\n",
       "                                        'rec': 0.3192756579629727,\n",
       "                                        'accuracy': 0.9901824784322704},\n",
       "                                       6: {'iou': 0.2936139401348829,\n",
       "                                        'prec': 0.7668751921934714,\n",
       "                                        'rec': 0.33409713068589736,\n",
       "                                        'accuracy': 0.9914950741176747},\n",
       "                                       7: {'iou': 0.4211220781599135,\n",
       "                                        'prec': 0.7576937670519622,\n",
       "                                        'rec': 0.45645046804371664,\n",
       "                                        'accuracy': 0.9926206883877963},\n",
       "                                       8: {'iou': 0.43880671709876384,\n",
       "                                        'prec': 0.752962582139067,\n",
       "                                        'rec': 0.4697996201853121,\n",
       "                                        'accuracy': 0.9935920713855416},\n",
       "                                       9: {'iou': 0.45285945936517485,\n",
       "                                        'prec': 0.7483439793194471,\n",
       "                                        'rec': 0.5989516898316695,\n",
       "                                        'accuracy': 0.9944368688922359},\n",
       "                                       10: {'iou': 0.4655564521187321,\n",
       "                                        'prec': 0.7433060769412801,\n",
       "                                        'rec': 0.6155617988276705,\n",
       "                                        'accuracy': 0.9951791832685459}}),\n",
       "                          4: defaultdict(dict,\n",
       "                                      {0: {'iou': 0.1946689548485556,\n",
       "                                        'prec': 0.8107044696043929,\n",
       "                                        'rec': 0.22141150026420253,\n",
       "                                        'accuracy': 0.9797544379948443},\n",
       "                                       1: {'iou': 0.2159444273867072,\n",
       "                                        'prec': 0.82050570542225,\n",
       "                                        'rec': 0.2433303505704898,\n",
       "                                        'accuracy': 0.982580577146961},\n",
       "                                       2: {'iou': 0.23437679208449577,\n",
       "                                        'prec': 0.824705291938365,\n",
       "                                        'rec': 0.26240737899196115,\n",
       "                                        'accuracy': 0.9848873671485094},\n",
       "                                       3: {'iou': 0.25133585137393116,\n",
       "                                        'prec': 0.8210371296318186,\n",
       "                                        'rec': 0.28061968420833305,\n",
       "                                        'accuracy': 0.9868989955600966},\n",
       "                                       4: {'iou': 0.2674314540807719,\n",
       "                                        'prec': 0.8084921690741975,\n",
       "                                        'rec': 0.2994998055119101,\n",
       "                                        'accuracy': 0.9886545484820274},\n",
       "                                       5: {'iou': 0.2815606252218808,\n",
       "                                        'prec': 0.7886785223330832,\n",
       "                                        'rec': 0.3184647768056593,\n",
       "                                        'accuracy': 0.9901794946784628},\n",
       "                                       6: {'iou': 0.2935031453046104,\n",
       "                                        'prec': 0.7686142476386095,\n",
       "                                        'rec': 0.33331854873467387,\n",
       "                                        'accuracy': 0.9914926743378527},\n",
       "                                       7: {'iou': 0.42046107927881615,\n",
       "                                        'prec': 0.75846580187602,\n",
       "                                        'rec': 0.4556053345121875,\n",
       "                                        'accuracy': 0.9926191952322913},\n",
       "                                       8: {'iou': 0.43793686170868085,\n",
       "                                        'prec': 0.7535568207998442,\n",
       "                                        'rec': 0.46884421791359926,\n",
       "                                        'accuracy': 0.9935913333732179},\n",
       "                                       9: {'iou': 0.451789523714929,\n",
       "                                        'prec': 0.7488813375431054,\n",
       "                                        'rec': 0.5977947294620792,\n",
       "                                        'accuracy': 0.9944366959395943},\n",
       "                                       10: {'iou': 0.4641921970345259,\n",
       "                                        'prec': 0.7437773192465353,\n",
       "                                        'rec': 0.614128000851934,\n",
       "                                        'accuracy': 0.9951795712632282}}),\n",
       "                          6: defaultdict(dict,\n",
       "                                      {0: {'iou': 0.1911111660610135,\n",
       "                                        'prec': 0.8123328094071537,\n",
       "                                        'rec': 0.217094551879151,\n",
       "                                        'accuracy': 0.9797440132612467},\n",
       "                                       1: {'iou': 0.2116559664224747,\n",
       "                                        'prec': 0.8221306630996845,\n",
       "                                        'rec': 0.23805286061330339,\n",
       "                                        'accuracy': 0.9825694822398565},\n",
       "                                       2: {'iou': 0.22965385156968235,\n",
       "                                        'prec': 0.8265660411191046,\n",
       "                                        'rec': 0.25643260278424085,\n",
       "                                        'accuracy': 0.9848780549925615},\n",
       "                                       3: {'iou': 0.24678238313904735,\n",
       "                                        'prec': 0.8235571849385912,\n",
       "                                        'rec': 0.2744032376534362,\n",
       "                                        'accuracy': 0.9868931215958473},\n",
       "                                       4: {'iou': 0.2636878393379345,\n",
       "                                        'prec': 0.8117059465160884,\n",
       "                                        'rec': 0.2933461030057607,\n",
       "                                        'accuracy': 0.9886519815748971},\n",
       "                                       5: {'iou': 0.2788156158268231,\n",
       "                                        'prec': 0.7911349282506291,\n",
       "                                        'rec': 0.31199134521709576,\n",
       "                                        'accuracy': 0.9901792749343858},\n",
       "                                       6: {'iou': 0.2912597632054432,\n",
       "                                        'prec': 0.7684473135262159,\n",
       "                                        'rec': 0.32539330747625067,\n",
       "                                        'accuracy': 0.9914941504823767},\n",
       "                                       7: {'iou': 0.41939725921717336,\n",
       "                                        'prec': 0.7581886004294293,\n",
       "                                        'rec': 0.44820726005480477,\n",
       "                                        'accuracy': 0.9926222208409015},\n",
       "                                       8: {'iou': 0.4377453880533517,\n",
       "                                        'prec': 0.7539749746497937,\n",
       "                                        'rec': 0.4685159399462533,\n",
       "                                        'accuracy': 0.9935954130508239},\n",
       "                                       9: {'iou': 0.4515940051927774,\n",
       "                                        'prec': 0.7491793771939835,\n",
       "                                        'rec': 0.5974597341022553,\n",
       "                                        'accuracy': 0.9944417187480011},\n",
       "                                       10: {'iou': 0.4639585387545856,\n",
       "                                        'prec': 0.7439457173347028,\n",
       "                                        'rec': 0.6137859967020115,\n",
       "                                        'accuracy': 0.9951854175309344}}),\n",
       "                          8: defaultdict(dict,\n",
       "                                      {0: {'iou': 0.18216090625933726,\n",
       "                                        'prec': 0.7898768488485639,\n",
       "                                        'rec': 0.20622585789798667,\n",
       "                                        'accuracy': 0.9796661794954833},\n",
       "                                       1: {'iou': 0.20120616936037242,\n",
       "                                        'prec': 0.8004010389113577,\n",
       "                                        'rec': 0.22529034807679965,\n",
       "                                        'accuracy': 0.9824930277108452},\n",
       "                                       2: {'iou': 0.218053705929953,\n",
       "                                        'prec': 0.8064728490266717,\n",
       "                                        'rec': 0.2420280286657455,\n",
       "                                        'accuracy': 0.9848072638401741},\n",
       "                                       3: {'iou': 0.23471471506121797,\n",
       "                                        'prec': 0.8073005793609982,\n",
       "                                        'rec': 0.2585670194646036,\n",
       "                                        'accuracy': 0.9868303109095033},\n",
       "                                       4: {'iou': 0.2520636924264973,\n",
       "                                        'prec': 0.8010370875268342,\n",
       "                                        'rec': 0.2760941626521284,\n",
       "                                        'accuracy': 0.988596468706279},\n",
       "                                       5: {'iou': 0.26862659030038455,\n",
       "                                        'prec': 0.7841997826253646,\n",
       "                                        'rec': 0.2932290060992294,\n",
       "                                        'accuracy': 0.990130481977394},\n",
       "                                       6: {'iou': 0.282292913742849,\n",
       "                                        'prec': 0.7561472758334803,\n",
       "                                        'rec': 0.3065865938506725,\n",
       "                                        'accuracy': 0.9914525511055774},\n",
       "                                       7: {'iou': 0.40985421819849727,\n",
       "                                        'prec': 0.7412391244542902,\n",
       "                                        'rec': 0.4324136222724477,\n",
       "                                        'accuracy': 0.9925899876815012},\n",
       "                                       8: {'iou': 0.42885027346341087,\n",
       "                                        'prec': 0.7408784413941989,\n",
       "                                        'rec': 0.45216202214221135,\n",
       "                                        'accuracy': 0.9935744287429823},\n",
       "                                       9: {'iou': 0.444263721862163,\n",
       "                                        'prec': 0.740219398125495,\n",
       "                                        'rec': 0.5799513325808487,\n",
       "                                        'accuracy': 0.9944325257714467},\n",
       "                                       10: {'iou': 0.4591732508980741,\n",
       "                                        'prec': 0.7390725915670714,\n",
       "                                        'rec': 0.5963787468436565,\n",
       "                                        'accuracy': 0.9951864310301729}})})})"
      ]
     },
     "execution_count": 112,
     "metadata": {},
     "output_type": "execute_result"
    }
   ],
   "source": [
    "ious_sum_average_all_models[training_name]"
   ]
  },
  {
   "cell_type": "code",
   "execution_count": null,
   "metadata": {},
   "outputs": [],
   "source": [
    "all_metrics_dict = ious_sum_average_all_models[training_name]\n",
    "\n",
    "for t, min_r_metrics in all_metrics_dict.items():\n",
    "    for min_r, exclusion_r_metrics in min_r_metrics.items():\n",
    "        "
   ]
  },
  {
   "cell_type": "code",
   "execution_count": null,
   "metadata": {},
   "outputs": [],
   "source": [
    "# get dict for each metric\n",
    "all_metrics_dict = ious_sum_average_all_models[training_name]\n",
    "\n",
    "iou_dict = "
   ]
  },
  {
   "cell_type": "code",
   "execution_count": 127,
   "metadata": {},
   "outputs": [],
   "source": [
    "# reverse dictionaires\n",
    "dict_puffs_waves_exclusion_r_plot = ious_puffs_waves_all_models[training_name]\n",
    "res = defaultdict(lambda: defaultdict(dict))\n",
    "for exclusion_r, movies_iou in dict_puffs_waves_exclusion_r_plot.items():\n",
    "    for movie_name, iou in movies_iou.items():\n",
    "        res[movie_name][exclusion_r] = iou\n",
    "dict_puffs_waves_exclusion_r_plot = res # video name x exclusion r\n",
    "df_puff_wave_all_movies = pd.DataFrame.from_dict(dict_puffs_waves_exclusion_r_plot)\n",
    "\n",
    "dict_puffs_waves_average_exclusion_r_plot = ious_puffs_waves_average_all_models[training_name]\n",
    "df_puff_wave_average = pd.DataFrame.from_dict([dict_puffs_waves_average_exclusion_r_plot])"
   ]
  },
  {
   "cell_type": "code",
   "execution_count": 126,
   "metadata": {},
   "outputs": [
    {
     "name": "stdout",
     "output_type": "stream",
     "text": [
      "all movies\n"
     ]
    },
    {
     "data": {
      "text/html": [
       "<div>\n",
       "<style scoped>\n",
       "    .dataframe tbody tr th:only-of-type {\n",
       "        vertical-align: middle;\n",
       "    }\n",
       "\n",
       "    .dataframe tbody tr th {\n",
       "        vertical-align: top;\n",
       "    }\n",
       "\n",
       "    .dataframe thead th {\n",
       "        text-align: right;\n",
       "    }\n",
       "</style>\n",
       "<table border=\"1\" class=\"dataframe\">\n",
       "  <thead>\n",
       "    <tr style=\"text-align: right;\">\n",
       "      <th></th>\n",
       "      <th>05</th>\n",
       "      <th>10</th>\n",
       "      <th>15</th>\n",
       "      <th>20</th>\n",
       "      <th>25</th>\n",
       "      <th>32</th>\n",
       "      <th>34</th>\n",
       "      <th>40</th>\n",
       "      <th>45</th>\n",
       "    </tr>\n",
       "  </thead>\n",
       "  <tbody>\n",
       "    <tr>\n",
       "      <th>0</th>\n",
       "      <td>0.147204</td>\n",
       "      <td>0.566367</td>\n",
       "      <td>0.334205</td>\n",
       "      <td>0.181720</td>\n",
       "      <td>0.027498</td>\n",
       "      <td>0.386957</td>\n",
       "      <td>0.513308</td>\n",
       "      <td>0.329887</td>\n",
       "      <td>0.423087</td>\n",
       "    </tr>\n",
       "    <tr>\n",
       "      <th>1</th>\n",
       "      <td>0.136237</td>\n",
       "      <td>0.639602</td>\n",
       "      <td>0.363922</td>\n",
       "      <td>0.196234</td>\n",
       "      <td>0.021057</td>\n",
       "      <td>0.400258</td>\n",
       "      <td>0.547260</td>\n",
       "      <td>0.416508</td>\n",
       "      <td>0.411579</td>\n",
       "    </tr>\n",
       "    <tr>\n",
       "      <th>2</th>\n",
       "      <td>0.104924</td>\n",
       "      <td>0.698254</td>\n",
       "      <td>0.392500</td>\n",
       "      <td>0.200730</td>\n",
       "      <td>0.013143</td>\n",
       "      <td>0.404944</td>\n",
       "      <td>0.579375</td>\n",
       "      <td>0.433870</td>\n",
       "      <td>0.399832</td>\n",
       "    </tr>\n",
       "    <tr>\n",
       "      <th>3</th>\n",
       "      <td>0.074028</td>\n",
       "      <td>0.758333</td>\n",
       "      <td>0.422566</td>\n",
       "      <td>0.193805</td>\n",
       "      <td>0.006224</td>\n",
       "      <td>0.394571</td>\n",
       "      <td>0.609860</td>\n",
       "      <td>0.448030</td>\n",
       "      <td>0.387755</td>\n",
       "    </tr>\n",
       "    <tr>\n",
       "      <th>4</th>\n",
       "      <td>0.045079</td>\n",
       "      <td>0.818170</td>\n",
       "      <td>0.453660</td>\n",
       "      <td>0.174842</td>\n",
       "      <td>0.001868</td>\n",
       "      <td>0.368269</td>\n",
       "      <td>0.638501</td>\n",
       "      <td>0.459531</td>\n",
       "      <td>0.375375</td>\n",
       "    </tr>\n",
       "    <tr>\n",
       "      <th>5</th>\n",
       "      <td>0.022758</td>\n",
       "      <td>0.875573</td>\n",
       "      <td>0.484067</td>\n",
       "      <td>0.148277</td>\n",
       "      <td>0.000184</td>\n",
       "      <td>0.326433</td>\n",
       "      <td>0.666280</td>\n",
       "      <td>0.468746</td>\n",
       "      <td>0.362635</td>\n",
       "    </tr>\n",
       "    <tr>\n",
       "      <th>6</th>\n",
       "      <td>0.008516</td>\n",
       "      <td>0.926489</td>\n",
       "      <td>0.511099</td>\n",
       "      <td>0.118999</td>\n",
       "      <td>0.000000</td>\n",
       "      <td>0.274377</td>\n",
       "      <td>0.692541</td>\n",
       "      <td>0.476195</td>\n",
       "      <td>0.349456</td>\n",
       "    </tr>\n",
       "    <tr>\n",
       "      <th>7</th>\n",
       "      <td>0.002030</td>\n",
       "      <td>0.963926</td>\n",
       "      <td>0.535205</td>\n",
       "      <td>0.090746</td>\n",
       "      <td>0.000000</td>\n",
       "      <td>0.217920</td>\n",
       "      <td>0.717531</td>\n",
       "      <td>0.482293</td>\n",
       "      <td>0.335771</td>\n",
       "    </tr>\n",
       "    <tr>\n",
       "      <th>8</th>\n",
       "      <td>0.000187</td>\n",
       "      <td>0.987822</td>\n",
       "      <td>0.558356</td>\n",
       "      <td>0.064496</td>\n",
       "      <td>0.000000</td>\n",
       "      <td>0.160951</td>\n",
       "      <td>0.740690</td>\n",
       "      <td>0.487062</td>\n",
       "      <td>0.321490</td>\n",
       "    </tr>\n",
       "    <tr>\n",
       "      <th>9</th>\n",
       "      <td>0.000000</td>\n",
       "      <td>0.997135</td>\n",
       "      <td>0.579414</td>\n",
       "      <td>0.041998</td>\n",
       "      <td>0.000000</td>\n",
       "      <td>0.106298</td>\n",
       "      <td>0.761715</td>\n",
       "      <td>0.490796</td>\n",
       "      <td>0.306542</td>\n",
       "    </tr>\n",
       "    <tr>\n",
       "      <th>10</th>\n",
       "      <td>0.000000</td>\n",
       "      <td>0.999473</td>\n",
       "      <td>0.598515</td>\n",
       "      <td>0.022923</td>\n",
       "      <td>0.000000</td>\n",
       "      <td>0.059840</td>\n",
       "      <td>0.779946</td>\n",
       "      <td>0.493293</td>\n",
       "      <td>0.290924</td>\n",
       "    </tr>\n",
       "  </tbody>\n",
       "</table>\n",
       "</div>"
      ],
      "text/plain": [
       "          05        10        15        20        25        32        34  \\\n",
       "0   0.147204  0.566367  0.334205  0.181720  0.027498  0.386957  0.513308   \n",
       "1   0.136237  0.639602  0.363922  0.196234  0.021057  0.400258  0.547260   \n",
       "2   0.104924  0.698254  0.392500  0.200730  0.013143  0.404944  0.579375   \n",
       "3   0.074028  0.758333  0.422566  0.193805  0.006224  0.394571  0.609860   \n",
       "4   0.045079  0.818170  0.453660  0.174842  0.001868  0.368269  0.638501   \n",
       "5   0.022758  0.875573  0.484067  0.148277  0.000184  0.326433  0.666280   \n",
       "6   0.008516  0.926489  0.511099  0.118999  0.000000  0.274377  0.692541   \n",
       "7   0.002030  0.963926  0.535205  0.090746  0.000000  0.217920  0.717531   \n",
       "8   0.000187  0.987822  0.558356  0.064496  0.000000  0.160951  0.740690   \n",
       "9   0.000000  0.997135  0.579414  0.041998  0.000000  0.106298  0.761715   \n",
       "10  0.000000  0.999473  0.598515  0.022923  0.000000  0.059840  0.779946   \n",
       "\n",
       "          40        45  \n",
       "0   0.329887  0.423087  \n",
       "1   0.416508  0.411579  \n",
       "2   0.433870  0.399832  \n",
       "3   0.448030  0.387755  \n",
       "4   0.459531  0.375375  \n",
       "5   0.468746  0.362635  \n",
       "6   0.476195  0.349456  \n",
       "7   0.482293  0.335771  \n",
       "8   0.487062  0.321490  \n",
       "9   0.490796  0.306542  \n",
       "10  0.493293  0.290924  "
      ]
     },
     "metadata": {},
     "output_type": "display_data"
    },
    {
     "name": "stdout",
     "output_type": "stream",
     "text": [
      "average\n"
     ]
    },
    {
     "data": {
      "text/html": [
       "<div>\n",
       "<style scoped>\n",
       "    .dataframe tbody tr th:only-of-type {\n",
       "        vertical-align: middle;\n",
       "    }\n",
       "\n",
       "    .dataframe tbody tr th {\n",
       "        vertical-align: top;\n",
       "    }\n",
       "\n",
       "    .dataframe thead th {\n",
       "        text-align: right;\n",
       "    }\n",
       "</style>\n",
       "<table border=\"1\" class=\"dataframe\">\n",
       "  <thead>\n",
       "    <tr style=\"text-align: right;\">\n",
       "      <th></th>\n",
       "      <th>0</th>\n",
       "      <th>1</th>\n",
       "      <th>2</th>\n",
       "      <th>3</th>\n",
       "      <th>4</th>\n",
       "      <th>5</th>\n",
       "      <th>6</th>\n",
       "      <th>7</th>\n",
       "      <th>8</th>\n",
       "      <th>9</th>\n",
       "      <th>10</th>\n",
       "    </tr>\n",
       "  </thead>\n",
       "  <tbody>\n",
       "    <tr>\n",
       "      <th>0</th>\n",
       "      <td>0.323359</td>\n",
       "      <td>0.348073</td>\n",
       "      <td>0.358619</td>\n",
       "      <td>0.36613</td>\n",
       "      <td>0.370588</td>\n",
       "      <td>0.372773</td>\n",
       "      <td>0.373075</td>\n",
       "      <td>0.371714</td>\n",
       "      <td>0.369006</td>\n",
       "      <td>0.364878</td>\n",
       "      <td>0.360546</td>\n",
       "    </tr>\n",
       "  </tbody>\n",
       "</table>\n",
       "</div>"
      ],
      "text/plain": [
       "         0         1         2        3         4         5         6   \\\n",
       "0  0.323359  0.348073  0.358619  0.36613  0.370588  0.372773  0.373075   \n",
       "\n",
       "         7         8         9         10  \n",
       "0  0.371714  0.369006  0.364878  0.360546  "
      ]
     },
     "metadata": {},
     "output_type": "display_data"
    }
   ],
   "source": [
    "print(\"all movies\")\n",
    "display(df_puff_wave_all_movies)\n",
    "print(\"average\")\n",
    "display(df_puff_wave_average)"
   ]
  },
  {
   "cell_type": "code",
   "execution_count": 205,
   "metadata": {},
   "outputs": [
    {
     "data": {
      "image/png": "[encoded data removed]",
      "text/plain": [
       "<Figure size 1440x720 with 3 Axes>"
      ]
     },
     "metadata": {
      "needs_background": "light"
     },
     "output_type": "display_data"
    }
   ],
   "source": [
    "fig, axs = plt.subplots(1, 2, figsize=(20,10))#, sharex=True)\n",
    "fig.add_subplot(111, frameon=False)\n",
    "\n",
    "for movie_id in dict_puffs_waves_exclusion_r_plot.keys():\n",
    "    dict_ious = dict_puffs_waves_exclusion_r_plot[movie_id]\n",
    "    axs[0].plot(dict_ious.keys(), dict_ious.values(), label=movie_id)\n",
    "           \n",
    "axs[0].set_title('Joined puffs and waves IoU for all movies for wrt exclusion radius')\n",
    "axs[0].set_ylim([0,1])\n",
    "axs[0].legend(shadow=True, fancybox=True)\n",
    "\n",
    "axs[1].plot(dict_puffs_waves_average_exclusion_r_plot.keys(), dict_puffs_waves_average_exclusion_r_plot.values(), label=\"average\")\n",
    "\n",
    "axs[1].set_title('Joined puffs and waves IoU averaged over all movies for wrt exclusion radius')\n",
    "axs[1].set_ylim([0,1])\n",
    "axs[1].legend(shadow=True, fancybox=True)\n",
    "\n",
    "plt.tick_params(labelcolor='none', which='both', top=False, bottom=False, left=False, right=False)\n",
    "plt.xlabel(\"Exclusion radius\")\n",
    "\n",
    "fig.savefig(os.path.join(data_folder,\"IoU_joined_puffs_waves_excl_radius.jpg\"))"
   ]
  },
  {
   "cell_type": "code",
   "execution_count": 24,
   "metadata": {
    "tags": []
   },
   "outputs": [],
   "source": [
    "''' OLD PLOT VERSION\n",
    "### Plot average IoU for all trainings and all classes wrt to exclusion radius\n",
    "\n",
    "cols = pd.Index(exclusion_radius_list, name='Exclusion radius')\n",
    "classes = ['Puffs and Waves']\n",
    "rows = pd.MultiIndex.from_product([classes, training_names], names=['Class', 'Training name'])\n",
    "\n",
    "data = [*ious_puffs_waves_average_all_models.values()\n",
    "       ]\n",
    "\n",
    "df = pd.DataFrame(data, rows, cols)\n",
    "\n",
    "display(df)\n",
    "\n",
    "df.to_csv(\"average_IoU_all_trainings_excl_radius_puffs_waves.csv\")\n",
    "\n",
    "fig, axs = plt.subplots(1, 1, sharex=True, figsize=(20,12))\n",
    "fig.add_subplot(111, frameon=False)\n",
    "\n",
    "for training_name in training_names:\n",
    "    axs.plot(ious_puffs_waves_average_all_models[training_name].keys(), ious_puffs_waves_average_all_models[training_name].values(), label=training_name)\n",
    "           \n",
    "axs.set_title('Joined Puffs and Waves IoU')\n",
    "axs.set_ylim([0,1])\n",
    "axs.legend(shadow=True, fancybox=True)\n",
    "\n",
    "plt.tick_params(labelcolor='none', which='both', top=False, bottom=False, left=False, right=False)\n",
    "plt.xlabel(\"Exclusion radius\")\n",
    "\n",
    "fig.savefig(\"average_IoU_all_trainings_excl_radius_puffs_waves.png\")'''"
   ]
  },
  {
   "cell_type": "markdown",
   "metadata": {
    "jp-MarkdownHeadingCollapsed": true,
    "tags": []
   },
   "source": [
    "## Compute puffs IoU using convex hull"
   ]
  },
  {
   "cell_type": "markdown",
   "metadata": {},
   "source": [
    "Idea: calcolo la convex hull di tutti i predicted puffs e poi calcolo l'IoU per vedere se migliora (in teoria ignora gli sparks on top of puffs)."
   ]
  },
  {
   "cell_type": "code",
   "execution_count": 194,
   "metadata": {},
   "outputs": [],
   "source": [
    "# training parameters\n",
    "training_name = \"focal_loss_gamma_5_ubelix\"\n",
    "ignore_frames = 6\n",
    "\n",
    "# detection parameters\n",
    "t_detection_puffs = [0.5,0.55,0.6,0.65,0.7,0.75,0.8,0.85,0.9,0.95]\n",
    "min_radius_puffs = [0,1,2,3,4,5,6]"
   ]
  },
  {
   "cell_type": "code",
   "execution_count": 195,
   "metadata": {
    "tags": []
   },
   "outputs": [],
   "source": [
    "puffs_ious = defaultdict(lambda: defaultdict(dict))\n",
    "puffs_ious_all_movies = defaultdict(lambda: defaultdict(lambda: defaultdict(dict)))\n",
    "\n",
    "for movie_name in ys_all_trainings.keys():\n",
    "    # get puff binary annotations\n",
    "    puffs_ys = ys[training_name][movie_name]\n",
    "    puffs_ys = np.where(puffs_ys == 3, 1, 0)\n",
    "    puffs_ys = empty_marginal_frames(puffs_ys, ignore_frames)\n",
    "\n",
    "    # get ignore mask\n",
    "    raw_ys = ys_all_trainings[movie_name]\n",
    "    ignore_mask =  np.where(raw_ys==4,1,0)\n",
    "\n",
    "    # get binary puff prediction\n",
    "    puffs_pred = puffs[training_name][movie_name]\n",
    "    \n",
    "    for t in t_detection_puffs:\n",
    "        for r in min_radius_puffs:\n",
    "            # remove holes (convex hull) & small events from puffs\n",
    "            puffs_pred_processed = process_puff_prediction(pred=puffs_pred,\n",
    "                                                 t_detection=t,\n",
    "                                                 min_radius=r,\n",
    "                                                 ignore_frames=ignore_frames,\n",
    "                                                 convex_hull=True # <-- difference\n",
    "                                                )\n",
    "\n",
    "            # compute IoU\n",
    "            puffs_ious_all_movies[t][r][movie_name] = jaccard_score_exclusion_zone(ys=puffs_ys,\n",
    "                                                                       preds=puffs_pred_processed,\n",
    "                                                                       exclusion_radius=0,\n",
    "                                                                       ignore_mask=ignore_mask)\n",
    "        \n",
    "# compute average over movies\n",
    "for t in t_detection_puffs:\n",
    "    for r in min_radius_puffs:\n",
    "        puffs_ious[t][r] = sum(puffs_ious_all_movies[t][r].values()) / len(puffs_ious_all_movies[t][r])\n"
   ]
  },
  {
   "cell_type": "code",
   "execution_count": 196,
   "metadata": {},
   "outputs": [],
   "source": [
    "# save ious dictionaires on disk as json\n",
    "data_folder = os.path.join(metrics_folder, training_name, \"puff_wave_ious\")\n",
    "os.makedirs(data_folder, exist_ok=True)\n",
    "\n",
    "with open(os.path.join(data_folder,\"ious_puffs_no_holes.json\"),\"w\") as f:\n",
    "    json.dump(puffs_ious_all_movies,f)\n",
    "\n",
    "# save average ious dictionaires on disk as json\n",
    "with open(os.path.join(data_folder,\"ious_puffs_no_holes_average.json\"),\"w\") as f:\n",
    "    json.dump(puffs_ious,f)"
   ]
  },
  {
   "cell_type": "markdown",
   "metadata": {},
   "source": [
    "Same but without removing holes"
   ]
  },
  {
   "cell_type": "code",
   "execution_count": 197,
   "metadata": {
    "tags": []
   },
   "outputs": [],
   "source": [
    "puffs_ious_holes = defaultdict(lambda: defaultdict(dict))\n",
    "puffs_ious_all_movies_holes = defaultdict(lambda: defaultdict(lambda: defaultdict(dict)))\n",
    "\n",
    "for t in t_detection_puffs:\n",
    "    for r in min_radius_puffs:\n",
    "        for movie_name in ys_all_trainings.keys():\n",
    "            # get puff binary annotations\n",
    "            puffs_ys = ys[training_name][movie_name]\n",
    "            puffs_ys = np.where(puffs_ys == 3, 1, 0)\n",
    "            puffs_ys = empty_marginal_frames(puffs_ys, ignore_frames)\n",
    "            \n",
    "            # get ignore mask\n",
    "            raw_ys = ys_all_trainings[movie_name]\n",
    "            ignore_mask =  np.where(raw_ys==4,1,0)\n",
    "            \n",
    "            # get binary puff prediction\n",
    "            puffs_pred = puffs[training_name][movie_name]\n",
    "\n",
    "            # remove holes (convex hull) & small events from puffs\n",
    "            puffs_pred = process_puff_prediction(pred=puffs_pred,\n",
    "                                                 t_detection=t,\n",
    "                                                 min_radius=r,\n",
    "                                                 ignore_frames=ignore_frames,\n",
    "                                                 convex_hull=False # <-- difference\n",
    "                                                )\n",
    "\n",
    "            # compute IoU\n",
    "            puffs_ious_all_movies_holes[t][r][movie_name] = jaccard_score_exclusion_zone(ys=puffs_ys,\n",
    "                                                                       preds=puffs_pred,\n",
    "                                                                       exclusion_radius=0,\n",
    "                                                                       ignore_mask=ignore_mask)\n",
    "        \n",
    "        # compute average over movies\n",
    "        puffs_ious_holes[t][r] = sum(puffs_ious_all_movies_holes[t][r].values()) / len(puffs_ious_all_movies_holes[t][r])"
   ]
  },
  {
   "cell_type": "markdown",
   "metadata": {},
   "source": [
    "### Visualize results using confusion matrices"
   ]
  },
  {
   "cell_type": "code",
   "execution_count": 198,
   "metadata": {},
   "outputs": [],
   "source": [
    "import pandas as pd\n",
    "import seaborn as sns\n",
    "#import matplotlib.pyplot as plt"
   ]
  },
  {
   "cell_type": "code",
   "execution_count": 199,
   "metadata": {},
   "outputs": [],
   "source": [
    "df = pd.DataFrame.from_dict(puffs_ious)\n",
    "df_holes = pd.DataFrame.from_dict(puffs_ious_holes)"
   ]
  },
  {
   "cell_type": "code",
   "execution_count": 204,
   "metadata": {},
   "outputs": [
    {
     "data": {
      "image/png": "[encoded data removed]",
      "text/plain": [
       "<Figure size 1584x576 with 4 Axes>"
      ]
     },
     "metadata": {
      "needs_background": "light"
     },
     "output_type": "display_data"
    }
   ],
   "source": [
    "plt.figure(figsize=(22,8))\n",
    "plt.suptitle(f\"Puffs IoUs wrt to diferent detection thresholds and puffs' min size\", fontsize=15)\n",
    "\n",
    "ax = plt.subplot(1,2,1)\n",
    "ax.set_title(\"Original\")\n",
    "sns.heatmap(df_holes, annot=True, fmt='.4g')\n",
    "ax.set_xlabel(\"detection threshold\")\n",
    "ax.set_ylabel(\"puff minimal radius\")\n",
    "ax = plt.subplot(1,2,2)\n",
    "ax.set_title(\"Holes removed\")\n",
    "sns.heatmap(df, annot=True, fmt='.4g')\n",
    "ax.set_xlabel(\"detection threshold\")\n",
    "ax.set_ylabel(\"puff minimal radius\")\n",
    "plt.savefig(os.path.join(data_folder,\"confusion_matrix_IoU_puff_holes_vs_no_holes.jpg\"))\n",
    "plt.show()"
   ]
  },
  {
   "cell_type": "markdown",
   "metadata": {
    "jp-MarkdownHeadingCollapsed": true,
    "tags": []
   },
   "source": [
    "## Separate events in puffs and waves predictions"
   ]
  },
  {
   "cell_type": "markdown",
   "metadata": {
    "tags": []
   },
   "source": [
    "Pipeline:\n",
    "\n",
    "- get puffs and waves predictions\n",
    "    - extract events using `separate_events`\n",
    "- get puffs and waves annotations **with separate events** (from new data folder)\n",
    "    - transform movie from 3 colors to 1 color\n",
    "    - extract puffs and sparks comparing with {0,1,2,3,4}-annotations\n",
    "- get ignore mask\n",
    "- for each event (in puffs/waves/joined)\n",
    "    - find event with max overlap in annotations\n",
    "    - if overlap > t => true positive\n",
    "    - otherwise => false positive\n",
    "    - store which preds are coupled with which annotations\n",
    "    - if there is an annotation with no paired event => false negative"
   ]
  },
  {
   "cell_type": "code",
   "execution_count": 25,
   "metadata": {},
   "outputs": [],
   "source": [
    "from dataset_tools import load_movies_ids"
   ]
  },
  {
   "cell_type": "code",
   "execution_count": 165,
   "metadata": {},
   "outputs": [],
   "source": [
    "# training params\n",
    "training_name = \"focal_loss_gamma_5_ubelix\"\n",
    "ignore_frames = 6\n",
    "\n",
    "# puffs and waves params\n",
    "t_detection = 0.7\n",
    "min_radius_puffs = 6\n",
    "min_radius_waves = 8"
   ]
  },
  {
   "cell_type": "code",
   "execution_count": 173,
   "metadata": {},
   "outputs": [],
   "source": [
    "data_folder = os.path.join(metrics_folder, training_name, \"separated_events\")\n",
    "os.makedirs(data_folder, exist_ok=True)"
   ]
  },
  {
   "cell_type": "code",
   "execution_count": 32,
   "metadata": {},
   "outputs": [
    {
     "name": "stderr",
     "output_type": "stream",
     "text": [
      "TiffPage 0: TypeError: read_bytes() missing 3 required positional arguments: 'dtype', 'count', and 'offsetsize'\n",
      "TiffPage 0: TypeError: read_bytes() missing 3 required positional arguments: 'dtype', 'count', and 'offsetsize'\n",
      "TiffPage 0: TypeError: read_bytes() missing 3 required positional arguments: 'dtype', 'count', and 'offsetsize'\n",
      "TiffPage 0: TypeError: read_bytes() missing 3 required positional arguments: 'dtype', 'count', and 'offsetsize'\n"
     ]
    }
   ],
   "source": [
    "# load all annotations with separated events (!they aren't classified!)\n",
    "separated_annnotations_path = os.path.join(\"..\",\"data\",\"raw_data_and_processing\",\"original_separated_events_masks\")\n",
    "movie_names = ys_all_trainings.keys()\n",
    "\n",
    "separated_annotations = load_movies_ids(data_folder=separated_annnotations_path, ids=movie_names)"
   ]
  },
  {
   "cell_type": "code",
   "execution_count": 166,
   "metadata": {},
   "outputs": [],
   "source": [
    "movie_name = '05'"
   ]
  },
  {
   "cell_type": "code",
   "execution_count": 167,
   "metadata": {},
   "outputs": [],
   "source": [
    "# get puff and wave annotation masks\n",
    "ys_sample = ys[training_name][movie_name]\n",
    "puff_ys = np.where(ys_sample == 3, 1., 0.)\n",
    "wave_ys = np.where(ys_sample == 2, 1., 0.)\n",
    "\n",
    "# get puff and wave annotations with separate events\n",
    "ys_rgb = np.array(separated_annotations[movie_name], dtype=np.int32)\n",
    "\n",
    "# transform RGB to integer by 255*255*r + 255*g + b and set white to 0\n",
    "ys_events = 255*255*ys_rgb[...,0] + 255*ys_rgb[...,1] + ys_rgb[...,2]\n",
    "white_int = 255*255*255+255*255+255\n",
    "ys_events[ys_events == white_int] = 0\n",
    "\n",
    "# get separated annotated puff and wave events\n",
    "puff_ys_events = np.where(puff_ys, ys_separated_events, 0)\n",
    "puff_ys_events = empty_marginal_frames(puff_ys_events, ignore_frames)\n",
    "\n",
    "wave_ys_events = np.where(wave_ys, ys_separated_events, 0)\n",
    "wave_ys_events = empty_marginal_frames(wave_ys_events, ignore_frames)"
   ]
  },
  {
   "cell_type": "code",
   "execution_count": 168,
   "metadata": {},
   "outputs": [],
   "source": [
    "# get puff and wave predictions\n",
    "puff_preds = puffs[training_name][movie_name]\n",
    "wave_preds = waves[training_name][movie_name]\n",
    "\n",
    "# get binary predicted puff and wave events\n",
    "puff_pred_binary = process_puff_prediction(pred=puff_preds,\n",
    "                                           t_detection=t_detection,\n",
    "                                           min_radius=min_radius_puffs,\n",
    "                                           ignore_frames=ignore_frames,\n",
    "                                           convex_hull=True\n",
    "                                          )\n",
    "wave_pred_binary = process_wave_prediction(pred=wave_preds,\n",
    "                                           t_detection=t_detection,\n",
    "                                           min_radius=min_radius_waves,\n",
    "                                           ignore_frames=ignore_frames\n",
    "                                          )"
   ]
  },
  {
   "cell_type": "code",
   "execution_count": 169,
   "metadata": {},
   "outputs": [],
   "source": [
    "import cc3d"
   ]
  },
  {
   "cell_type": "code",
   "execution_count": 170,
   "metadata": {},
   "outputs": [],
   "source": [
    "# identify events in puff and wave preds\n",
    "connectivity = 26\n",
    "puff_labels, puff_n_events = cc3d.connected_components(puff_pred_binary, \n",
    "                                                       connectivity=connectivity,\n",
    "                                                       return_N=True\n",
    "                                                      )"
   ]
  },
  {
   "cell_type": "code",
   "execution_count": 172,
   "metadata": {},
   "outputs": [
    {
     "data": {
      "text/plain": [
       "15"
      ]
     },
     "execution_count": 172,
     "metadata": {},
     "output_type": "execute_result"
    }
   ],
   "source": [
    "puff_n_events"
   ]
  },
  {
   "cell_type": "code",
   "execution_count": null,
   "metadata": {},
   "outputs": [],
   "source": [
    "imageio.volwrite(os.path.join(data_folder, movie_name+\"_separated_events.tif\"), puff_labels)"
   ]
  },
  {
   "cell_type": "code",
   "execution_count": null,
   "metadata": {},
   "outputs": [],
   "source": []
  },
  {
   "cell_type": "code",
   "execution_count": null,
   "metadata": {},
   "outputs": [],
   "source": []
  },
  {
   "cell_type": "code",
   "execution_count": null,
   "metadata": {},
   "outputs": [],
   "source": []
  },
  {
   "cell_type": "code",
   "execution_count": null,
   "metadata": {},
   "outputs": [],
   "source": []
  },
  {
   "cell_type": "markdown",
   "metadata": {
    "jp-MarkdownHeadingCollapsed": true,
    "tags": []
   },
   "source": [
    "# Sparks metrics (TODO)"
   ]
  },
  {
   "cell_type": "code",
   "execution_count": 20,
   "metadata": {},
   "outputs": [],
   "source": [
    "from metrics_tools import compute_prec_rec, reduce_metrics_thresholds"
   ]
  },
  {
   "cell_type": "code",
   "execution_count": 21,
   "metadata": {},
   "outputs": [],
   "source": [
    "# physiological params\n",
    "PIXEL_SIZE = 0.2 # 1 pixel = 0.2 um x 0.2 um\n",
    "MIN_DIST_XY = round(1.8 / PIXEL_SIZE) # min distance in space between sparks\n",
    "TIME_FRAME = 6.8 # 1 frame = 6.8 ms\n",
    "MIN_DIST_T = round(20 / TIME_FRAME) # min distance in time between sparks\n",
    "\n",
    "# parameters\n",
    "ignore_frames = 6"
   ]
  },
  {
   "cell_type": "markdown",
   "metadata": {
    "tags": []
   },
   "source": [
    "## Plain precision and recall"
   ]
  },
  {
   "cell_type": "code",
   "execution_count": 32,
   "metadata": {},
   "outputs": [],
   "source": [
    "from metrics_tools import compute_prec_rec"
   ]
  },
  {
   "cell_type": "code",
   "execution_count": 42,
   "metadata": {
    "tags": []
   },
   "outputs": [
    {
     "name": "stdout",
     "output_type": "stream",
     "text": [
      "focal_loss_gamma_5_ubelix\n",
      "05\n"
     ]
    }
   ],
   "source": [
    "# parameters\n",
    "ignore_frames = 6\n",
    "\n",
    "t_detection_sparks = [0.5,0.55,0.6,0.65,0.7,0.75,0.8,0.85,0.9,0.95]\n",
    "min_radius_sparks = [0]#,1,2]\n",
    "\n",
    "prec_rec_sparks_all_trainings = defaultdict(lambda: defaultdict(lambda: defaultdict(dict)))\n",
    "prec_rec_sparks_avg = defaultdict(lambda: defaultdict(dict))\n",
    "\n",
    "for training_name in training_names:\n",
    "    print(training_name)\n",
    "    for movie_name in ['05']:#ys_all_trainings.keys():\n",
    "        print(movie_name)\n",
    "        sparks_sample = sparks[training_name][movie_name]\n",
    "        ys_sample = ys[training_name][movie_name]\n",
    "        ys_raw = ys_all_trainings[movie_name]\n",
    "        # NEW\n",
    "        movie = movies[video_id] \n",
    "        \n",
    "        # get binary ys \n",
    "        ys_sparks_sample = np.where(ys_sample==1,1.0,0.0)\n",
    "        \n",
    "        # get ignore mask\n",
    "        ignore_mask =  np.where(ys_raw==4,1,0)\n",
    "            \n",
    "        for min_r in min_radius_sparks:\n",
    "            # compute precision and recall for some thresholds and remove ignored frames\n",
    "            prec_rec_all_t = compute_prec_rec(annotations=ys_sparks_sample,\n",
    "                                              preds=sparks_sample,\n",
    "                                              movie=movie,\n",
    "                                              thresholds=t_detection_sparks,\n",
    "                                              ignore_frames=ignore_frames,\n",
    "                                              min_radius=min_r,\n",
    "                                              min_dist_xy=MIN_DIST_XY,\n",
    "                                              min_dist_t=MIN_DIST_T,\n",
    "                                              ignore_mask=ignore_mask\n",
    "                                             ) # dict indexed by threshold value\n",
    "            prec_rec_sparks_all_trainings[training_name][min_r][movie_name] = prec_rec_all_t\n",
    "            \n",
    "    # compute average\n",
    "    for min_r in min_radius_sparks:\n",
    "        prec_rec_all_videos = prec_rec_sparks_all_trainings[training_name][min_r]\n",
    "        prec_rec_sparks_avg[training_name][min_r] = reduce_metrics_thresholds(prec_rec_all_videos)"
   ]
  },
  {
   "cell_type": "code",
   "execution_count": 46,
   "metadata": {},
   "outputs": [
    {
     "data": {
      "text/plain": [
       "array([0.  , 0.05, 0.1 , 0.15, 0.2 , 0.25, 0.3 , 0.35, 0.4 , 0.45, 0.5 ,\n",
       "       0.55, 0.6 , 0.65, 0.7 , 0.75, 0.8 , 0.85, 0.9 , 0.95, 1.  ])"
      ]
     },
     "execution_count": 46,
     "metadata": {},
     "output_type": "execute_result"
    }
   ],
   "source": [
    "np.linspace(0,1,21)"
   ]
  },
  {
   "cell_type": "markdown",
   "metadata": {
    "tags": []
   },
   "source": [
    "### Dataframe and plots of results"
   ]
  },
  {
   "cell_type": "code",
   "execution_count": null,
   "metadata": {},
   "outputs": [],
   "source": [
    "cols = pd.Index(t_detection_sparks, name='Detection threshold')\n",
    "metrics = ['Precision', 'Recall']\n",
    "rows = pd.MultiIndex.from_product([metrics, training_names], names=['Class', 'Training name'])\n",
    "\n",
    "data = [*prec_avg.values(),\n",
    "        *rec_avg.values()\n",
    "       ]\n",
    "\n",
    "df = pd.DataFrame(data, rows, cols)"
   ]
  },
  {
   "cell_type": "code",
   "execution_count": null,
   "metadata": {},
   "outputs": [
    {
     "data": {
      "text/html": [
       "<div>\n",
       "<style scoped>\n",
       "    .dataframe tbody tr th:only-of-type {\n",
       "        vertical-align: middle;\n",
       "    }\n",
       "\n",
       "    .dataframe tbody tr th {\n",
       "        vertical-align: top;\n",
       "    }\n",
       "\n",
       "    .dataframe thead th {\n",
       "        text-align: right;\n",
       "    }\n",
       "</style>\n",
       "<table border=\"1\" class=\"dataframe\">\n",
       "  <thead>\n",
       "    <tr style=\"text-align: right;\">\n",
       "      <th></th>\n",
       "      <th>Detection threshold</th>\n",
       "      <th>0.5</th>\n",
       "    </tr>\n",
       "    <tr>\n",
       "      <th>Class</th>\n",
       "      <th>Training name</th>\n",
       "      <th></th>\n",
       "    </tr>\n",
       "  </thead>\n",
       "  <tbody>\n",
       "    <tr>\n",
       "      <th>Precision</th>\n",
       "      <th>focal_loss_gamma_5_ubelix</th>\n",
       "      <td>0.261307</td>\n",
       "    </tr>\n",
       "    <tr>\n",
       "      <th>Recall</th>\n",
       "      <th>focal_loss_gamma_5_ubelix</th>\n",
       "      <td>0.742857</td>\n",
       "    </tr>\n",
       "  </tbody>\n",
       "</table>\n",
       "</div>"
      ],
      "text/plain": [
       "Detection threshold                       0.5\n",
       "Class     Training name                      \n",
       "Precision focal_loss_gamma_5_ubelix  0.261307\n",
       "Recall    focal_loss_gamma_5_ubelix  0.742857"
      ]
     },
     "metadata": {},
     "output_type": "display_data"
    }
   ],
   "source": [
    "display(df)"
   ]
  },
  {
   "cell_type": "code",
   "execution_count": 220,
   "metadata": {},
   "outputs": [],
   "source": [
    "df.to_csv(\"sparks_precision_recall.csv\")"
   ]
  },
  {
   "cell_type": "code",
   "execution_count": 221,
   "metadata": {},
   "outputs": [
    {
     "data": {
      "text/plain": [
       "Text(0.5, 0, 'Detection threshold')"
      ]
     },
     "execution_count": 221,
     "metadata": {},
     "output_type": "execute_result"
    },
    {
     "data": {
      "image/png": "[encoded data removed]",
      "text/plain": [
       "<Figure size 1440x864 with 3 Axes>"
      ]
     },
     "metadata": {
      "needs_background": "light"
     },
     "output_type": "display_data"
    }
   ],
   "source": [
    "fig, axs = plt.subplots(1, 2, sharex=True, figsize=(20,12))\n",
    "fig.add_subplot(111, frameon=False)\n",
    "\n",
    "for training_name in training_names:\n",
    "    axs[0].plot(t_detection_sparks, prec_avg[training_name].values(), label=training_name)\n",
    "           \n",
    "axs[0].set_title('Precision')\n",
    "axs[0].set_ylim([0,1])\n",
    "axs[0].legend(shadow=True, fancybox=True)\n",
    "\n",
    "for training_name in training_names:\n",
    "    axs[1].plot(t_detection_sparks, rec_avg[training_name].values(), label=training_name)\n",
    "\n",
    "axs[1].set_title('Recall')\n",
    "axs[1].set_ylim([0,1])\n",
    "axs[1].legend(shadow=True, fancybox=True)\n",
    "\n",
    "plt.tick_params(labelcolor='none', which='both', top=False, bottom=False, left=False, right=False)\n",
    "plt.xlabel(\"Detection threshold\")"
   ]
  },
  {
   "cell_type": "code",
   "execution_count": 23,
   "metadata": {},
   "outputs": [],
   "source": [
    "fig.savefig(\"sparks_precision_recall.png\")"
   ]
  },
  {
   "cell_type": "markdown",
   "metadata": {},
   "source": [
    "## Set lower threshold for sparks inside puffs"
   ]
  },
  {
   "cell_type": "markdown",
   "metadata": {},
   "source": [
    "Idee : \n",
    "\n",
    "- rendere i puffs convessi e controllare se lo spark interseca il puff\n",
    "- sommare la probabilità di puff e sparks se e.g. puff > 0 e sparks > 0.7 <-- provo prima con questa possibilità perché non sempre gli sparks sono all'interno dei puffs"
   ]
  },
  {
   "cell_type": "markdown",
   "metadata": {},
   "source": [
    "### Sum puff probabilities to sparks (just for one training)"
   ]
  },
  {
   "cell_type": "code",
   "execution_count": 25,
   "metadata": {},
   "outputs": [],
   "source": [
    "training_name = \"focal_loss_gamma_5_ubelix\"\n",
    "\n",
    "ignore_frames = 6\n",
    "\n",
    "t_puffs_lower = 0.3\n",
    "t_puffs_upper = [0.0,0.5,0.55,0.6,0.65] # = t detection puffs (0 for standard detection) (t included)\n",
    "\n",
    "t_detection_sparks = [0.65, 0.7, 0.75, 0.8, 0.85, 0.9, 0.95] # for sum of puffs and sparks (t not included)\n",
    "\n",
    "min_radius_sparks = [0,1,2] # da vedere come usarlo"
   ]
  },
  {
   "cell_type": "code",
   "execution_count": 39,
   "metadata": {},
   "outputs": [],
   "source": [
    "from metrics_tools import compute_prec_rec, reduce_metrics_thresholds"
   ]
  },
  {
   "cell_type": "code",
   "execution_count": 40,
   "metadata": {
    "tags": []
   },
   "outputs": [
    {
     "name": "stdout",
     "output_type": "stream",
     "text": [
      "sparks' min radius: 0\n",
      "puffs' upper threshold: 0.0\n",
      "movie's name: 05\n",
      "movie's name: 10\n",
      "movie's name: 15\n",
      "movie's name: 20\n",
      "movie's name: 25\n",
      "movie's name: 32\n",
      "movie's name: 34\n",
      "movie's name: 40\n",
      "movie's name: 45\n",
      "puffs' upper threshold: 0.5\n",
      "movie's name: 05\n"
     ]
    },
    {
     "ename": "ValueError",
     "evalue": "x is neither increasing nor decreasing : [0.71428571 0.72857143 0.62857143 0.51428571 0.41428571 0.34285714\n 0.2       ].",
     "output_type": "error",
     "traceback": [
      "\u001b[1;31m---------------------------------------------------------------------------\u001b[0m",
      "\u001b[1;31mValueError\u001b[0m                                Traceback (most recent call last)",
      "\u001b[1;32m~\\AppData\\Local\\Temp/ipykernel_16332/3129209043.py\u001b[0m in \u001b[0;36m<module>\u001b[1;34m\u001b[0m\n\u001b[0;32m     28\u001b[0m \u001b[1;33m\u001b[0m\u001b[0m\n\u001b[0;32m     29\u001b[0m             \u001b[1;31m# compute prec & rec for all t_detection_sparks\u001b[0m\u001b[1;33m\u001b[0m\u001b[1;33m\u001b[0m\u001b[1;33m\u001b[0m\u001b[0m\n\u001b[1;32m---> 30\u001b[1;33m             prec_rec_all_t, auc = compute_prec_rec(annotations=binary_ys_sparks,\n\u001b[0m\u001b[0;32m     31\u001b[0m                                                    \u001b[0mpreds\u001b[0m\u001b[1;33m=\u001b[0m\u001b[0msparks_pred_total\u001b[0m\u001b[1;33m,\u001b[0m\u001b[1;33m\u001b[0m\u001b[1;33m\u001b[0m\u001b[0m\n\u001b[0;32m     32\u001b[0m                                                    \u001b[0mthresholds\u001b[0m\u001b[1;33m=\u001b[0m\u001b[0mt_detection_sparks\u001b[0m\u001b[1;33m,\u001b[0m\u001b[1;33m\u001b[0m\u001b[1;33m\u001b[0m\u001b[0m\n",
      "\u001b[1;32m~\\sparks_project\\sparks\\metrics_tools.py\u001b[0m in \u001b[0;36mcompute_prec_rec\u001b[1;34m(annotations, preds, thresholds, min_dist_xy, min_dist_t, min_radius, ignore_frames, ignore_mask)\u001b[0m\n\u001b[0;32m    394\u001b[0m     \u001b[1;31m#print(\"PREC\", prec)\u001b[0m\u001b[1;33m\u001b[0m\u001b[1;33m\u001b[0m\u001b[1;33m\u001b[0m\u001b[0m\n\u001b[0;32m    395\u001b[0m     \u001b[1;31m#print(\"REC\", rec)\u001b[0m\u001b[1;33m\u001b[0m\u001b[1;33m\u001b[0m\u001b[1;33m\u001b[0m\u001b[0m\n\u001b[1;32m--> 396\u001b[1;33m     \u001b[0marea_under_curve\u001b[0m \u001b[1;33m=\u001b[0m \u001b[0mauc\u001b[0m\u001b[1;33m(\u001b[0m\u001b[0mrec\u001b[0m\u001b[1;33m,\u001b[0m \u001b[0mprec\u001b[0m\u001b[1;33m)\u001b[0m\u001b[1;33m\u001b[0m\u001b[1;33m\u001b[0m\u001b[0m\n\u001b[0m\u001b[0;32m    397\u001b[0m \u001b[1;33m\u001b[0m\u001b[0m\n\u001b[0;32m    398\u001b[0m     \u001b[1;31m# TODO: adattare altri scripts che usano questa funzione!!!!\u001b[0m\u001b[1;33m\u001b[0m\u001b[1;33m\u001b[0m\u001b[1;33m\u001b[0m\u001b[0m\n",
      "\u001b[1;32m~\\.conda\\envs\\sparks\\lib\\site-packages\\sklearn\\metrics\\_ranking.py\u001b[0m in \u001b[0;36mauc\u001b[1;34m(x, y)\u001b[0m\n\u001b[0;32m     95\u001b[0m             \u001b[0mdirection\u001b[0m \u001b[1;33m=\u001b[0m \u001b[1;33m-\u001b[0m\u001b[1;36m1\u001b[0m\u001b[1;33m\u001b[0m\u001b[1;33m\u001b[0m\u001b[0m\n\u001b[0;32m     96\u001b[0m         \u001b[1;32melse\u001b[0m\u001b[1;33m:\u001b[0m\u001b[1;33m\u001b[0m\u001b[1;33m\u001b[0m\u001b[0m\n\u001b[1;32m---> 97\u001b[1;33m             raise ValueError(\"x is neither increasing nor decreasing \"\n\u001b[0m\u001b[0;32m     98\u001b[0m                              \": {}.\".format(x))\n\u001b[0;32m     99\u001b[0m \u001b[1;33m\u001b[0m\u001b[0m\n",
      "\u001b[1;31mValueError\u001b[0m: x is neither increasing nor decreasing : [0.71428571 0.72857143 0.62857143 0.51428571 0.41428571 0.34285714\n 0.2       ]."
     ]
    }
   ],
   "source": [
    "prec_rec_auc = defaultdict(lambda: defaultdict(dict))\n",
    "prec_rec_auc_all_movies = defaultdict(lambda: defaultdict(lambda: defaultdict(dict)))\n",
    "\n",
    "for min_r in min_radius_sparks:\n",
    "    print(f\"sparks' min radius: {min_r}\")\n",
    "    for t_p in t_puffs_upper:\n",
    "        print(f\"puffs' upper threshold: {t_p}\")\n",
    "        for movie_name in ys_all_trainings.keys():\n",
    "            print(f\"movie's name: {movie_name}\")\n",
    "            # open spark preds :\n",
    "            sparks_pred = sparks[training_name][movie_name]\n",
    "            # open puff preds :\n",
    "            puffs_pred = puffs[training_name][movie_name]\n",
    "            \n",
    "            # process spark & puff preds together :\n",
    "            # compute region where 0.3 <= puffs <= 0.65\n",
    "            binary_puffs_sparks = np.logical_and(puffs_pred <= t_p, puffs_pred >= t_puffs_lower)\n",
    "            # sum value of sparks and puffs in this region\n",
    "            sparks_pred_total = sparks_pred + binary_puffs_sparks * puffs_pred\n",
    "            \n",
    "            # get binary annotation mask\n",
    "            ys_sparks = ys[training_name][movie_name]\n",
    "            binary_ys_sparks = np.where(ys_sparks==1,1.0,0.0)\n",
    "            \n",
    "            # get ignore mask\n",
    "            ys_raw = ys_all_trainings[movie_name]\n",
    "            ignore_mask =  np.where(ys_raw==4,1,0)\n",
    "            \n",
    "            # compute prec & rec for all t_detection_sparks\n",
    "            prec_rec_all_t, auc = compute_prec_rec(annotations=binary_ys_sparks,\n",
    "                                                   preds=sparks_pred_total,\n",
    "                                                   thresholds=t_detection_sparks,\n",
    "                                                   ignore_frames=ignore_frames,\n",
    "                                                   min_radius=min_r,\n",
    "                                                   min_dist_xy=MIN_DIST_XY,\n",
    "                                                   min_dist_t=MIN_DIST_T,\n",
    "                                                   ignore_mask=ignore_mask\n",
    "                                                  ) # dict indexed by threshold value\n",
    "            #print(f\"precision and recall for all t_detection_sparks: {prec_rec_all_t}\")\n",
    "            \n",
    "            # get dict of Metrics for each min_r, t_p, movie_name\n",
    "            prec_rec_auc_all_movies[min_r][t_p][movie_name] = (prec_rec_all_t, auc)            \n",
    "            \n",
    "        # get only prec & rec metrics for all movies\n",
    "        metrics_dict = {movie_name: metrics[0] for (movie_name, metrics) in prec_rec_auc_all_movies[min_r][t_p].items()}\n",
    "        #pprint.pprint(metrics_dict)\n",
    "        \n",
    "        # reduce prec & rec over all movies and compute AUC\n",
    "        reduced_prec_rec, _, _, reduced_auc = reduce_metrics_thresholds(metrics_dict)\n",
    "        #pprint.pprint(reduced_prec_rec)\n",
    "        #print(reduced_auc)\n",
    "        prec_rec_auc[min_r][t_p] = (reduced_prec_rec, reduced_auc)\n",
    "\n",
    "# obtain dicts s.t. \n",
    "#prec_rec_auc[min_r][t_p] = (reduced metrics, reduced AUC)\n",
    "#prec_rec_auc_all_movies[min_r][t_p][movie_name] = (movie_name's metrics, movie_name's AUC)"
   ]
  },
  {
   "cell_type": "code",
   "execution_count": null,
   "metadata": {
    "tags": []
   },
   "outputs": [],
   "source": [
    "pprint.pprint(prec_rec_auc_all_movies)"
   ]
  },
  {
   "cell_type": "markdown",
   "metadata": {},
   "source": [
    "#### Average over all movies "
   ]
  },
  {
   "cell_type": "code",
   "execution_count": null,
   "metadata": {},
   "outputs": [],
   "source": [
    "'''ious_sparks_avg = {} # num training x num exclusion radius\n",
    "ious_puffs_avg = {}\n",
    "ious_waves_avg = {}\n",
    "\n",
    "for training_name in training_names:\n",
    "    num_videos = len(ious_sparks_all_trainings[training_name])\n",
    "    \n",
    "    ious_sparks_all_video = ious_sparks_all_trainings[training_name] # num videos x num exclusion radius\n",
    "    ious_puffs_all_video = ious_puffs_all_trainings[training_name] \n",
    "    ious_waves_all_video = ious_waves_all_trainings[training_name]\n",
    "    \n",
    "    ious_sparks_avg[training_name] = np.sum(np.array([list(res.values()) for res in ious_sparks_all_video.values()]),0)/num_videos\n",
    "    ious_puffs_avg[training_name] = np.sum(np.array([list(res.values()) for res in ious_puffs_all_video.values()]),0)/num_videos\n",
    "    ious_waves_avg[training_name] = np.sum(np.array([list(res.values()) for res in ious_waves_all_video.values()]),0)/num_videos''';"
   ]
  },
  {
   "cell_type": "code",
   "execution_count": 14,
   "metadata": {},
   "outputs": [],
   "source": [
    "from metrics_tools import reduce_metrics_thresholds"
   ]
  },
  {
   "cell_type": "code",
   "execution_count": 15,
   "metadata": {},
   "outputs": [],
   "source": [
    "# reverse dictionaires\n",
    "res = defaultdict(lambda: defaultdict(dict)) # t_upper x min_radius x num movies x t\n",
    "for movie_name, prec_rec in all_movies_prec_rec.items():\n",
    "    for t_upper, t_upper_prec_rec in prec_rec.items():\n",
    "        for min_radius, min_r_prec_rec in t_upper_prec_rec.items():\n",
    "            res[t_upper][min_radius][movie_name] = min_r_prec_rec"
   ]
  },
  {
   "cell_type": "code",
   "execution_count": 74,
   "metadata": {},
   "outputs": [],
   "source": [
    "# compute average over movies\n",
    "avg_prec_rec = defaultdict(lambda: defaultdict(dict))\n",
    "for t_upper, t_upper_prec_rec in res.items():\n",
    "    for min_radius, min_r_prec_rec in t_upper_prec_rec.items():\n",
    "        # get Metrics object and transform it to dict\n",
    "        metrics = reduce_metrics_thresholds(min_r_prec_rec)[0]\n",
    "        metrics = metrics[list(metrics)[0]]._asdict()\n",
    "        #print(metrics)\n",
    "        for metric in Metrics._fields:\n",
    "            #print(metric)\n",
    "            #print(metrics[metric])\n",
    "            avg_prec_rec[metric][t_upper][min_radius] = metrics[metric]"
   ]
  },
  {
   "cell_type": "markdown",
   "metadata": {},
   "source": [
    "### Results visualization"
   ]
  },
  {
   "cell_type": "code",
   "execution_count": 134,
   "metadata": {},
   "outputs": [
    {
     "name": "stdout",
     "output_type": "stream",
     "text": [
      "precision defaultdict(<class 'dict'>, {0.0: {0: 0.21079691516709512, 1: 0.22869318181818182, 2: 0.2744360902255639}, 0.5: {0: 0.18319838056680163, 1: 0.20135746606334842, 2: 0.24287856071964017}, 0.55: {0: 0.17829457364341086, 1: 0.19271948608137046, 2: 0.23470839260312945}, 0.6: {0: 0.17481203007518797, 1: 0.19047619047619047, 2: 0.2269021739130435}, 0.65: {0: 0.17088607594936708, 1: 0.18514851485148515, 2: 0.2198952879581152}})\n",
      "recall defaultdict(<class 'dict'>, {0.0: {0: 0.6283524904214559, 1: 0.6168582375478927, 2: 0.5593869731800766}, 0.5: {0: 0.6934865900383141, 1: 0.6819923371647509, 2: 0.6206896551724138}, 0.55: {0: 0.7049808429118773, 1: 0.6896551724137931, 2: 0.632183908045977}, 0.6: {0: 0.7126436781609196, 1: 0.7049808429118773, 2: 0.6398467432950191}, 0.65: {0: 0.7241379310344828, 1: 0.7164750957854407, 2: 0.6436781609195402}})\n",
      "tp defaultdict(<class 'dict'>, {0.0: {0: 164, 1: 161, 2: 146}, 0.5: {0: 181, 1: 178, 2: 162}, 0.55: {0: 184, 1: 180, 2: 165}, 0.6: {0: 186, 1: 184, 2: 167}, 0.65: {0: 189, 1: 187, 2: 168}})\n",
      "tp_fp defaultdict(<class 'dict'>, {0.0: {0: 778, 1: 704, 2: 532}, 0.5: {0: 988, 1: 884, 2: 667}, 0.55: {0: 1032, 1: 934, 2: 703}, 0.6: {0: 1064, 1: 966, 2: 736}, 0.65: {0: 1106, 1: 1010, 2: 764}})\n",
      "tp_fn defaultdict(<class 'dict'>, {0.0: {0: 261, 1: 261, 2: 261}, 0.5: {0: 261, 1: 261, 2: 261}, 0.55: {0: 261, 1: 261, 2: 261}, 0.6: {0: 261, 1: 261, 2: 261}, 0.65: {0: 261, 1: 261, 2: 261}})\n"
     ]
    }
   ],
   "source": [
    "for k,v in avg_prec_rec.items():\n",
    "    print(k,v)"
   ]
  },
  {
   "cell_type": "code",
   "execution_count": 136,
   "metadata": {},
   "outputs": [],
   "source": [
    "# create a dict of dataframes over metric type\n",
    "df_dict = {k: pd.DataFrame(v) for k, v in avg_prec_rec.items()}"
   ]
  },
  {
   "cell_type": "code",
   "execution_count": 120,
   "metadata": {},
   "outputs": [],
   "source": [
    "df_simple = pd.concat({k: pd.DataFrame(v) for k, v in avg_prec_rec.items()})"
   ]
  },
  {
   "cell_type": "code",
   "execution_count": 119,
   "metadata": {},
   "outputs": [
    {
     "name": "stdout",
     "output_type": "stream",
     "text": [
      "num t_upper 5\n",
      "num min size 3\n",
      "num metrics 5\n",
      "[0.0,\n",
      " 0.5,\n",
      " 0.55,\n",
      " 0.6,\n",
      " 0.65,\n",
      " 0.0,\n",
      " 0.5,\n",
      " 0.55,\n",
      " 0.6,\n",
      " 0.65,\n",
      " 0.0,\n",
      " 0.5,\n",
      " 0.55,\n",
      " 0.6,\n",
      " 0.65,\n",
      " 0.0,\n",
      " 0.5,\n",
      " 0.55,\n",
      " 0.6,\n",
      " 0.65,\n",
      " 0.0,\n",
      " 0.5,\n",
      " 0.55,\n",
      " 0.6,\n",
      " 0.65]\n"
     ]
    },
    {
     "ename": "ValueError",
     "evalue": "Shape of passed values is (25, 1), indices imply (15, 5)",
     "output_type": "error",
     "traceback": [
      "\u001b[1;31m---------------------------------------------------------------------------\u001b[0m",
      "\u001b[1;31mValueError\u001b[0m                                Traceback (most recent call last)",
      "\u001b[1;32m~\\.conda\\envs\\sparks\\lib\\site-packages\\pandas\\core\\internals\\managers.py\u001b[0m in \u001b[0;36mcreate_block_manager_from_blocks\u001b[1;34m(blocks, axes)\u001b[0m\n\u001b[0;32m   1674\u001b[0m                 blocks = [\n\u001b[1;32m-> 1675\u001b[1;33m                     make_block(\n\u001b[0m\u001b[0;32m   1676\u001b[0m                         \u001b[0mvalues\u001b[0m\u001b[1;33m=\u001b[0m\u001b[0mblocks\u001b[0m\u001b[1;33m[\u001b[0m\u001b[1;36m0\u001b[0m\u001b[1;33m]\u001b[0m\u001b[1;33m,\u001b[0m \u001b[0mplacement\u001b[0m\u001b[1;33m=\u001b[0m\u001b[0mslice\u001b[0m\u001b[1;33m(\u001b[0m\u001b[1;36m0\u001b[0m\u001b[1;33m,\u001b[0m \u001b[0mlen\u001b[0m\u001b[1;33m(\u001b[0m\u001b[0maxes\u001b[0m\u001b[1;33m[\u001b[0m\u001b[1;36m0\u001b[0m\u001b[1;33m]\u001b[0m\u001b[1;33m)\u001b[0m\u001b[1;33m)\u001b[0m\u001b[1;33m,\u001b[0m \u001b[0mndim\u001b[0m\u001b[1;33m=\u001b[0m\u001b[1;36m2\u001b[0m\u001b[1;33m\u001b[0m\u001b[1;33m\u001b[0m\u001b[0m\n",
      "\u001b[1;32m~\\.conda\\envs\\sparks\\lib\\site-packages\\pandas\\core\\internals\\blocks.py\u001b[0m in \u001b[0;36mmake_block\u001b[1;34m(values, placement, klass, ndim, dtype)\u001b[0m\n\u001b[0;32m   2731\u001b[0m \u001b[1;33m\u001b[0m\u001b[0m\n\u001b[1;32m-> 2732\u001b[1;33m     \u001b[1;32mreturn\u001b[0m \u001b[0mklass\u001b[0m\u001b[1;33m(\u001b[0m\u001b[0mvalues\u001b[0m\u001b[1;33m,\u001b[0m \u001b[0mndim\u001b[0m\u001b[1;33m=\u001b[0m\u001b[0mndim\u001b[0m\u001b[1;33m,\u001b[0m \u001b[0mplacement\u001b[0m\u001b[1;33m=\u001b[0m\u001b[0mplacement\u001b[0m\u001b[1;33m)\u001b[0m\u001b[1;33m\u001b[0m\u001b[1;33m\u001b[0m\u001b[0m\n\u001b[0m\u001b[0;32m   2733\u001b[0m \u001b[1;33m\u001b[0m\u001b[0m\n",
      "\u001b[1;32m~\\.conda\\envs\\sparks\\lib\\site-packages\\pandas\\core\\internals\\blocks.py\u001b[0m in \u001b[0;36m__init__\u001b[1;34m(self, values, placement, ndim)\u001b[0m\n\u001b[0;32m    141\u001b[0m         \u001b[1;32mif\u001b[0m \u001b[0mself\u001b[0m\u001b[1;33m.\u001b[0m\u001b[0m_validate_ndim\u001b[0m \u001b[1;32mand\u001b[0m \u001b[0mself\u001b[0m\u001b[1;33m.\u001b[0m\u001b[0mndim\u001b[0m \u001b[1;32mand\u001b[0m \u001b[0mlen\u001b[0m\u001b[1;33m(\u001b[0m\u001b[0mself\u001b[0m\u001b[1;33m.\u001b[0m\u001b[0mmgr_locs\u001b[0m\u001b[1;33m)\u001b[0m \u001b[1;33m!=\u001b[0m \u001b[0mlen\u001b[0m\u001b[1;33m(\u001b[0m\u001b[0mself\u001b[0m\u001b[1;33m.\u001b[0m\u001b[0mvalues\u001b[0m\u001b[1;33m)\u001b[0m\u001b[1;33m:\u001b[0m\u001b[1;33m\u001b[0m\u001b[1;33m\u001b[0m\u001b[0m\n\u001b[1;32m--> 142\u001b[1;33m             raise ValueError(\n\u001b[0m\u001b[0;32m    143\u001b[0m                 \u001b[1;34mf\"Wrong number of items passed {len(self.values)}, \"\u001b[0m\u001b[1;33m\u001b[0m\u001b[1;33m\u001b[0m\u001b[0m\n",
      "\u001b[1;31mValueError\u001b[0m: Wrong number of items passed 1, placement implies 5",
      "\nDuring handling of the above exception, another exception occurred:\n",
      "\u001b[1;31mValueError\u001b[0m                                Traceback (most recent call last)",
      "\u001b[1;32m~\\AppData\\Local\\Temp/ipykernel_1680/4021408698.py\u001b[0m in \u001b[0;36m<module>\u001b[1;34m\u001b[0m\n\u001b[0;32m     21\u001b[0m \u001b[0mpprint\u001b[0m\u001b[1;33m.\u001b[0m\u001b[0mpprint\u001b[0m\u001b[1;33m(\u001b[0m\u001b[0mdata\u001b[0m\u001b[1;33m)\u001b[0m\u001b[1;33m\u001b[0m\u001b[1;33m\u001b[0m\u001b[0m\n\u001b[0;32m     22\u001b[0m \u001b[1;33m\u001b[0m\u001b[0m\n\u001b[1;32m---> 23\u001b[1;33m \u001b[0mdf\u001b[0m \u001b[1;33m=\u001b[0m \u001b[0mpd\u001b[0m\u001b[1;33m.\u001b[0m\u001b[0mDataFrame\u001b[0m\u001b[1;33m(\u001b[0m\u001b[0mdata\u001b[0m\u001b[1;33m,\u001b[0m \u001b[0mrows\u001b[0m\u001b[1;33m,\u001b[0m \u001b[0mcols\u001b[0m\u001b[1;33m)\u001b[0m\u001b[1;33m\u001b[0m\u001b[1;33m\u001b[0m\u001b[0m\n\u001b[0m",
      "\u001b[1;32m~\\.conda\\envs\\sparks\\lib\\site-packages\\pandas\\core\\frame.py\u001b[0m in \u001b[0;36m__init__\u001b[1;34m(self, data, index, columns, dtype, copy)\u001b[0m\n\u001b[0;32m    582\u001b[0m                     \u001b[0mmgr\u001b[0m \u001b[1;33m=\u001b[0m \u001b[0marrays_to_mgr\u001b[0m\u001b[1;33m(\u001b[0m\u001b[0marrays\u001b[0m\u001b[1;33m,\u001b[0m \u001b[0mcolumns\u001b[0m\u001b[1;33m,\u001b[0m \u001b[0mindex\u001b[0m\u001b[1;33m,\u001b[0m \u001b[0mcolumns\u001b[0m\u001b[1;33m,\u001b[0m \u001b[0mdtype\u001b[0m\u001b[1;33m=\u001b[0m\u001b[0mdtype\u001b[0m\u001b[1;33m)\u001b[0m\u001b[1;33m\u001b[0m\u001b[1;33m\u001b[0m\u001b[0m\n\u001b[0;32m    583\u001b[0m                 \u001b[1;32melse\u001b[0m\u001b[1;33m:\u001b[0m\u001b[1;33m\u001b[0m\u001b[1;33m\u001b[0m\u001b[0m\n\u001b[1;32m--> 584\u001b[1;33m                     \u001b[0mmgr\u001b[0m \u001b[1;33m=\u001b[0m \u001b[0minit_ndarray\u001b[0m\u001b[1;33m(\u001b[0m\u001b[0mdata\u001b[0m\u001b[1;33m,\u001b[0m \u001b[0mindex\u001b[0m\u001b[1;33m,\u001b[0m \u001b[0mcolumns\u001b[0m\u001b[1;33m,\u001b[0m \u001b[0mdtype\u001b[0m\u001b[1;33m=\u001b[0m\u001b[0mdtype\u001b[0m\u001b[1;33m,\u001b[0m \u001b[0mcopy\u001b[0m\u001b[1;33m=\u001b[0m\u001b[0mcopy\u001b[0m\u001b[1;33m)\u001b[0m\u001b[1;33m\u001b[0m\u001b[1;33m\u001b[0m\u001b[0m\n\u001b[0m\u001b[0;32m    585\u001b[0m             \u001b[1;32melse\u001b[0m\u001b[1;33m:\u001b[0m\u001b[1;33m\u001b[0m\u001b[1;33m\u001b[0m\u001b[0m\n\u001b[0;32m    586\u001b[0m                 \u001b[0mmgr\u001b[0m \u001b[1;33m=\u001b[0m \u001b[0minit_dict\u001b[0m\u001b[1;33m(\u001b[0m\u001b[1;33m{\u001b[0m\u001b[1;33m}\u001b[0m\u001b[1;33m,\u001b[0m \u001b[0mindex\u001b[0m\u001b[1;33m,\u001b[0m \u001b[0mcolumns\u001b[0m\u001b[1;33m,\u001b[0m \u001b[0mdtype\u001b[0m\u001b[1;33m=\u001b[0m\u001b[0mdtype\u001b[0m\u001b[1;33m)\u001b[0m\u001b[1;33m\u001b[0m\u001b[1;33m\u001b[0m\u001b[0m\n",
      "\u001b[1;32m~\\.conda\\envs\\sparks\\lib\\site-packages\\pandas\\core\\internals\\construction.py\u001b[0m in \u001b[0;36minit_ndarray\u001b[1;34m(values, index, columns, dtype, copy)\u001b[0m\n\u001b[0;32m    236\u001b[0m         \u001b[0mblock_values\u001b[0m \u001b[1;33m=\u001b[0m \u001b[1;33m[\u001b[0m\u001b[0mvalues\u001b[0m\u001b[1;33m]\u001b[0m\u001b[1;33m\u001b[0m\u001b[1;33m\u001b[0m\u001b[0m\n\u001b[0;32m    237\u001b[0m \u001b[1;33m\u001b[0m\u001b[0m\n\u001b[1;32m--> 238\u001b[1;33m     \u001b[1;32mreturn\u001b[0m \u001b[0mcreate_block_manager_from_blocks\u001b[0m\u001b[1;33m(\u001b[0m\u001b[0mblock_values\u001b[0m\u001b[1;33m,\u001b[0m \u001b[1;33m[\u001b[0m\u001b[0mcolumns\u001b[0m\u001b[1;33m,\u001b[0m \u001b[0mindex\u001b[0m\u001b[1;33m]\u001b[0m\u001b[1;33m)\u001b[0m\u001b[1;33m\u001b[0m\u001b[1;33m\u001b[0m\u001b[0m\n\u001b[0m\u001b[0;32m    239\u001b[0m \u001b[1;33m\u001b[0m\u001b[0m\n\u001b[0;32m    240\u001b[0m \u001b[1;33m\u001b[0m\u001b[0m\n",
      "\u001b[1;32m~\\.conda\\envs\\sparks\\lib\\site-packages\\pandas\\core\\internals\\managers.py\u001b[0m in \u001b[0;36mcreate_block_manager_from_blocks\u001b[1;34m(blocks, axes)\u001b[0m\n\u001b[0;32m   1685\u001b[0m         \u001b[0mblocks\u001b[0m \u001b[1;33m=\u001b[0m \u001b[1;33m[\u001b[0m\u001b[0mgetattr\u001b[0m\u001b[1;33m(\u001b[0m\u001b[0mb\u001b[0m\u001b[1;33m,\u001b[0m \u001b[1;34m\"values\"\u001b[0m\u001b[1;33m,\u001b[0m \u001b[0mb\u001b[0m\u001b[1;33m)\u001b[0m \u001b[1;32mfor\u001b[0m \u001b[0mb\u001b[0m \u001b[1;32min\u001b[0m \u001b[0mblocks\u001b[0m\u001b[1;33m]\u001b[0m\u001b[1;33m\u001b[0m\u001b[1;33m\u001b[0m\u001b[0m\n\u001b[0;32m   1686\u001b[0m         \u001b[0mtot_items\u001b[0m \u001b[1;33m=\u001b[0m \u001b[0msum\u001b[0m\u001b[1;33m(\u001b[0m\u001b[0mb\u001b[0m\u001b[1;33m.\u001b[0m\u001b[0mshape\u001b[0m\u001b[1;33m[\u001b[0m\u001b[1;36m0\u001b[0m\u001b[1;33m]\u001b[0m \u001b[1;32mfor\u001b[0m \u001b[0mb\u001b[0m \u001b[1;32min\u001b[0m \u001b[0mblocks\u001b[0m\u001b[1;33m)\u001b[0m\u001b[1;33m\u001b[0m\u001b[1;33m\u001b[0m\u001b[0m\n\u001b[1;32m-> 1687\u001b[1;33m         \u001b[1;32mraise\u001b[0m \u001b[0mconstruction_error\u001b[0m\u001b[1;33m(\u001b[0m\u001b[0mtot_items\u001b[0m\u001b[1;33m,\u001b[0m \u001b[0mblocks\u001b[0m\u001b[1;33m[\u001b[0m\u001b[1;36m0\u001b[0m\u001b[1;33m]\u001b[0m\u001b[1;33m.\u001b[0m\u001b[0mshape\u001b[0m\u001b[1;33m[\u001b[0m\u001b[1;36m1\u001b[0m\u001b[1;33m:\u001b[0m\u001b[1;33m]\u001b[0m\u001b[1;33m,\u001b[0m \u001b[0maxes\u001b[0m\u001b[1;33m,\u001b[0m \u001b[0me\u001b[0m\u001b[1;33m)\u001b[0m\u001b[1;33m\u001b[0m\u001b[1;33m\u001b[0m\u001b[0m\n\u001b[0m\u001b[0;32m   1688\u001b[0m \u001b[1;33m\u001b[0m\u001b[0m\n\u001b[0;32m   1689\u001b[0m \u001b[1;33m\u001b[0m\u001b[0m\n",
      "\u001b[1;31mValueError\u001b[0m: Shape of passed values is (25, 1), indices imply (15, 5)"
     ]
    }
   ],
   "source": [
    "cols = pd.Index(t_puffs_upper, name='Puffs upper bounds')\n",
    "classes = Metrics._fields\n",
    "rows = pd.MultiIndex.from_product([classes, min_radius_sparks], names=['Metrics', 'Sparks min size'])\n",
    "\n",
    "#data = [*ious_sparks_avg.values(),\n",
    "#       *ious_puffs_avg.values(),\n",
    "#       *ious_waves_avg.values()\n",
    "#      ]\n",
    "\n",
    "#pprint.pprint(list(dict(avg_prec_rec).values()))\n",
    "\n",
    "#data = [[list(radius_dict.values())]  for metric_dict in avg_prec_rec.values() \n",
    "#        for radius_dict in list(dict(metric_dict).values())\n",
    "#       ]\n",
    "\n",
    "data = [metric_res for metric_dict in avg_prec_rec.values() for metric_res in metric_dict]\n",
    "\n",
    "print(\"num t_upper\", len(t_puffs_upper))\n",
    "print(\"num min size\", len(min_radius_sparks))\n",
    "print(\"num metrics\", len(Metrics._fields))\n",
    "pprint.pprint(data)\n",
    "\n",
    "df = pd.DataFrame(data, rows, cols)"
   ]
  },
  {
   "cell_type": "code",
   "execution_count": 116,
   "metadata": {},
   "outputs": [
    {
     "data": {
      "text/html": [
       "<div>\n",
       "<style scoped>\n",
       "    .dataframe tbody tr th:only-of-type {\n",
       "        vertical-align: middle;\n",
       "    }\n",
       "\n",
       "    .dataframe tbody tr th {\n",
       "        vertical-align: top;\n",
       "    }\n",
       "\n",
       "    .dataframe thead th {\n",
       "        text-align: right;\n",
       "    }\n",
       "</style>\n",
       "<table border=\"1\" class=\"dataframe\">\n",
       "  <thead>\n",
       "    <tr style=\"text-align: right;\">\n",
       "      <th></th>\n",
       "      <th>Puffs upper bounds</th>\n",
       "      <th>0.00</th>\n",
       "      <th>0.50</th>\n",
       "      <th>0.55</th>\n",
       "      <th>0.60</th>\n",
       "      <th>0.65</th>\n",
       "    </tr>\n",
       "    <tr>\n",
       "      <th>Metrics</th>\n",
       "      <th>Sparks min size</th>\n",
       "      <th></th>\n",
       "      <th></th>\n",
       "      <th></th>\n",
       "      <th></th>\n",
       "      <th></th>\n",
       "    </tr>\n",
       "  </thead>\n",
       "  <tbody>\n",
       "    <tr>\n",
       "      <th>precision</th>\n",
       "      <th>focal_loss_gamma_5_ubelix</th>\n",
       "      <td>NaN</td>\n",
       "      <td>NaN</td>\n",
       "      <td>NaN</td>\n",
       "      <td>NaN</td>\n",
       "      <td>NaN</td>\n",
       "    </tr>\n",
       "    <tr>\n",
       "      <th>recall</th>\n",
       "      <th>focal_loss_gamma_5_ubelix</th>\n",
       "      <td>NaN</td>\n",
       "      <td>NaN</td>\n",
       "      <td>NaN</td>\n",
       "      <td>NaN</td>\n",
       "      <td>NaN</td>\n",
       "    </tr>\n",
       "    <tr>\n",
       "      <th>tp</th>\n",
       "      <th>focal_loss_gamma_5_ubelix</th>\n",
       "      <td>NaN</td>\n",
       "      <td>NaN</td>\n",
       "      <td>NaN</td>\n",
       "      <td>NaN</td>\n",
       "      <td>NaN</td>\n",
       "    </tr>\n",
       "    <tr>\n",
       "      <th>tp_fp</th>\n",
       "      <th>focal_loss_gamma_5_ubelix</th>\n",
       "      <td>NaN</td>\n",
       "      <td>NaN</td>\n",
       "      <td>NaN</td>\n",
       "      <td>NaN</td>\n",
       "      <td>NaN</td>\n",
       "    </tr>\n",
       "    <tr>\n",
       "      <th>tp_fn</th>\n",
       "      <th>focal_loss_gamma_5_ubelix</th>\n",
       "      <td>NaN</td>\n",
       "      <td>NaN</td>\n",
       "      <td>NaN</td>\n",
       "      <td>NaN</td>\n",
       "      <td>NaN</td>\n",
       "    </tr>\n",
       "  </tbody>\n",
       "</table>\n",
       "</div>"
      ],
      "text/plain": [
       "Puffs upper bounds                  0.00 0.50 0.55 0.60 0.65\n",
       "Metrics   Sparks min size                                   \n",
       "precision focal_loss_gamma_5_ubelix  NaN  NaN  NaN  NaN  NaN\n",
       "recall    focal_loss_gamma_5_ubelix  NaN  NaN  NaN  NaN  NaN\n",
       "tp        focal_loss_gamma_5_ubelix  NaN  NaN  NaN  NaN  NaN\n",
       "tp_fp     focal_loss_gamma_5_ubelix  NaN  NaN  NaN  NaN  NaN\n",
       "tp_fn     focal_loss_gamma_5_ubelix  NaN  NaN  NaN  NaN  NaN"
      ]
     },
     "metadata": {},
     "output_type": "display_data"
    }
   ],
   "source": [
    "display(df)"
   ]
  },
  {
   "cell_type": "code",
   "execution_count": null,
   "metadata": {},
   "outputs": [],
   "source": []
  },
  {
   "cell_type": "code",
   "execution_count": 137,
   "metadata": {},
   "outputs": [
    {
     "name": "stderr",
     "output_type": "stream",
     "text": [
      "PandasGUI INFO — pandasgui.gui — Opening PandasGUI\n",
      "PandasGUI WARNING — pandasgui.utility — In untitled_1, converted column names to string: 0.0, 0.5, 0.55, 0.6, 0.65\n",
      "PandasGUI WARNING — pandasgui.utility — In untitled_2, converted column names to string: 0.0, 0.5, 0.55, 0.6, 0.65\n",
      "PandasGUI WARNING — pandasgui.utility — In untitled_3, converted column names to string: 0.0, 0.5, 0.55, 0.6, 0.65\n",
      "PandasGUI WARNING — pandasgui.utility — In untitled_4, converted column names to string: 0.0, 0.5, 0.55, 0.6, 0.65\n",
      "PandasGUI WARNING — pandasgui.utility — In untitled_5, converted column names to string: 0.0, 0.5, 0.55, 0.6, 0.65\n"
     ]
    },
    {
     "data": {
      "text/plain": [
       "<pandasgui.gui.PandasGui at 0x2315d383430>"
      ]
     },
     "execution_count": 137,
     "metadata": {},
     "output_type": "execute_result"
    }
   ],
   "source": [
    "from pandasgui import show\n",
    "show(*list(df_dict.values()))"
   ]
  },
  {
   "cell_type": "code",
   "execution_count": null,
   "metadata": {},
   "outputs": [],
   "source": []
  }
 ],
 "metadata": {
  "kernelspec": {
   "display_name": "Python 3 (ipykernel)",
   "language": "python",
   "name": "python3"
  },
  "language_info": {
   "codemirror_mode": {
    "name": "ipython",
    "version": 3
   },
   "file_extension": ".py",
   "mimetype": "text/x-python",
   "name": "python",
   "nbconvert_exporter": "python",
   "pygments_lexer": "ipython3",
   "version": "3.8.8"
  }
 },
 "nbformat": 4,
 "nbformat_minor": 4
}
