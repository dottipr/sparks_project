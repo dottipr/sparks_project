{
 "cells": [
  {
   "cell_type": "markdown",
   "metadata": {
    "tags": []
   },
   "source": [
    "15.12.2021\n",
    "\n",
    "# Validate U-Net predictions\n",
    "\n",
    "Load a bunch of UNet predictions in folder `trainings_validation` and compute some metrics, plots, etc.\n",
    "\n",
    "Predictions are saved as:\n",
    "`{training_name}_{epoch}_{video_id}_{class}.tif`\n",
    "\n",
    "**Idea**: Use predictions to produce plots and tables to visualize the results."
   ]
  },
  {
   "cell_type": "code",
   "execution_count": 1,
   "metadata": {
    "tags": []
   },
   "outputs": [],
   "source": [
    "%load_ext autoreload\n",
    "%autoreload 2"
   ]
  },
  {
   "cell_type": "code",
   "execution_count": 2,
   "metadata": {
    "tags": []
   },
   "outputs": [],
   "source": [
    "import numpy as np\n",
    "import glob\n",
    "import os\n",
    "import imageio\n",
    "from collections import defaultdict\n",
    "import pprint\n",
    "\n",
    "from scipy.ndimage.morphology import binary_dilation, binary_erosion\n",
    "from sklearn.metrics import jaccard_score, f1_score\n",
    "\n",
    "import pandas as pd\n",
    "import matplotlib.pyplot as plt\n",
    "\n",
    "import unet\n",
    "from metrics_tools import (correspondences_precision_recall, \n",
    "                           Metrics, \n",
    "                           reduce_metrics, \n",
    "                           empty_marginal_frames,\n",
    "                           process_spark_prediction,\n",
    "                           process_puff_prediction,\n",
    "                           process_wave_prediction,\n",
    "                           jaccard_score_exclusion_zone,\n",
    "                           write_videos_on_disk,\n",
    "                           get_sparks_locations_from_mask,\n",
    "                           compute_prec_rec,\n",
    "                           reduce_metrics_thresholds\n",
    "                          )"
   ]
  },
  {
   "cell_type": "code",
   "execution_count": 3,
   "metadata": {},
   "outputs": [
    {
     "data": {
      "text/plain": [
       "'C:\\\\Users\\\\dotti\\\\sparks_project\\\\sparks'"
      ]
     },
     "execution_count": 3,
     "metadata": {},
     "output_type": "execute_result"
    }
   ],
   "source": [
    "BASEDIR = os.path.abspath('')\n",
    "BASEDIR"
   ]
  },
  {
   "cell_type": "markdown",
   "metadata": {},
   "source": [
    "# Load data"
   ]
  },
  {
   "cell_type": "markdown",
   "metadata": {
    "tags": []
   },
   "source": [
    "### Select predictions to load"
   ]
  },
  {
   "cell_type": "code",
   "execution_count": 4,
   "metadata": {},
   "outputs": [],
   "source": [
    "training_names = [#\"256_long_chunks_ubelix\",\n",
    "                  \"focal_loss_gamma_5_ubelix\"\n",
    "                  ]\n",
    "\n",
    "epoch = 100000"
   ]
  },
  {
   "cell_type": "markdown",
   "metadata": {},
   "source": [
    "### Configure input/output folder (TODO: aggiungere training name nella path nelle altre sections)"
   ]
  },
  {
   "cell_type": "code",
   "execution_count": 5,
   "metadata": {},
   "outputs": [],
   "source": [
    "metrics_folder = \"trainings_validation\"\n",
    "# TODO: cambiare nelle altre fcts!!\n",
    "os.makedirs(metrics_folder, exist_ok=True)"
   ]
  },
  {
   "cell_type": "markdown",
   "metadata": {},
   "source": [
    "### Load annotations\n",
    "open and process annotations (original version, sparks not processed)\n"
   ]
  },
  {
   "cell_type": "code",
   "execution_count": 6,
   "metadata": {},
   "outputs": [
    {
     "name": "stderr",
     "output_type": "stream",
     "text": [
      "TiffPage 0: TypeError: read_bytes() missing 3 required positional arguments: 'dtype', 'count', and 'offsetsize'\n"
     ]
    }
   ],
   "source": [
    "from dataset_tools import load_annotations\n",
    "\n",
    "ys_all_trainings = load_annotations(metrics_folder, mask_names=\"mask\")\n",
    "\n",
    "#ys_filenames = sorted(glob.glob(os.path.join(metrics_folder, \"[0-9]*_video_mask.tif\")))\n",
    "\n",
    "#for f in ys_filenames:\n",
    "#    video_id = os.path.split(f)[1][:2]\n",
    "#    ys_all_trainings[video_id] = np.asarray(imageio.volread(f)).astype('int')"
   ]
  },
  {
   "cell_type": "code",
   "execution_count": 7,
   "metadata": {},
   "outputs": [
    {
     "data": {
      "text/plain": [
       "dict_keys(['05', '10', '15', '20', '25', '32', '34', '40', '45'])"
      ]
     },
     "execution_count": 7,
     "metadata": {},
     "output_type": "execute_result"
    }
   ],
   "source": [
    "ys_all_trainings.keys()"
   ]
  },
  {
   "cell_type": "markdown",
   "metadata": {},
   "source": [
    "### Load predictions"
   ]
  },
  {
   "cell_type": "code",
   "execution_count": 8,
   "metadata": {},
   "outputs": [
    {
     "name": "stdout",
     "output_type": "stream",
     "text": [
      "Processing training name focal_loss_gamma_5_ubelix...\n",
      "\n"
     ]
    }
   ],
   "source": [
    "ys = {} # contains annotations for each training\n",
    "sparks = {} # contains sparks for each training\n",
    "puffs = {} # contains puffs for each training\n",
    "waves = {} # contains waves for each training\n",
    "\n",
    "for training_name in training_names:\n",
    "    data_folder = os.path.join(metrics_folder, training_name)\n",
    "    print(f\"Processing training name {training_name}...\")\n",
    "    print()\n",
    "    # Import .tif files as numpy array\n",
    "    base_name = os.path.join(data_folder,training_name+\"_\"+str(epoch)+\"_\")\n",
    "    \n",
    "    if training_name == \"temporal_reduction\": # need to use annotations from another training\n",
    "        if training_names[-1] != \"temporal_reduction\":\n",
    "            base_name_ys = os.path.join(data_folder,training_names[-1]+\"_\"+str(epoch)+\"_\")\n",
    "            ys_filenames = sorted(glob.glob(base_name_ys+\"[0-9][0-9]_video_ys.tif\"))\n",
    "        else:\n",
    "            print(\"SELECT TRAINING NAME DIFFERENT FROM temporal_reduction\")\n",
    "            break\n",
    "    else:    \n",
    "        ys_filenames = sorted(glob.glob(base_name+\"*_ys.tif\"))\n",
    "        \n",
    "    sparks_filenames = sorted(glob.glob(base_name+\"[0-9][0-9]_video_sparks.tif\"))\n",
    "    puffs_filenames = sorted(glob.glob(base_name+\"[0-9][0-9]_video_puffs.tif\"))\n",
    "    waves_filenames = sorted(glob.glob(base_name+\"[0-9][0-9]_video_waves.tif\"))\n",
    "        \n",
    "    training_ys = {}\n",
    "    training_sparks = {}\n",
    "    training_puffs = {}\n",
    "    training_waves = {}\n",
    "    \n",
    "    for idx,y,s,p,w in zip(ys_all_trainings.keys(),ys_filenames,sparks_filenames,puffs_filenames,waves_filenames):\n",
    "        #print(f\"\\tProcessing the following files for movie {idx}:\")\n",
    "        #print(f\"\\tAnnotations filename: {y}\")\n",
    "        #print(f\"\\tSparks filename: {s}\")\n",
    "        #print(f\"\\tPuffs filename: {p}\")\n",
    "        #print(f\"\\tWaves filename: {w}\\t\")\n",
    "        #print()\n",
    "        ys_loaded = np.asarray(imageio.volread(y)).astype('int')\n",
    "        training_ys[idx] = ys_loaded\n",
    "        \n",
    "        if training_name == \"temporal_reduction\": # repeat each frame 4 times\n",
    "            s_preds = np.asarray(imageio.volread(s))\n",
    "            p_preds = np.asarray(imageio.volread(p))\n",
    "            w_preds = np.asarray(imageio.volread(w))\n",
    "                        \n",
    "            # repeat predicted frames x4\n",
    "            s_preds = np.repeat(s_preds,4,0)\n",
    "            p_preds = np.repeat(p_preds,4,0)\n",
    "            w_preds = np.repeat(w_preds,4,0)\n",
    "            \n",
    "            # if original length %4 != 0, crop preds\n",
    "            if ys_loaded.shape != s_preds.shape:\n",
    "                duration = ys_loaded.shape[0]\n",
    "                s_preds = s_preds[:duration]\n",
    "                p_preds = p_preds[:duration]\n",
    "                w_preds = w_preds[:duration]\n",
    "            \n",
    "            assert ys_loaded.shape == s_preds.shape\n",
    "            assert ys_loaded.shape == p_preds.shape\n",
    "            assert ys_loaded.shape == w_preds.shape\n",
    "            \n",
    "            training_sparks[idx] = s_preds\n",
    "            training_puffs[idx] = p_preds\n",
    "            training_waves[idx] = w_preds\n",
    "        else:\n",
    "            training_sparks[idx] = np.asarray(imageio.volread(s))\n",
    "            training_puffs[idx] = np.asarray(imageio.volread(p))\n",
    "            training_waves[idx] = np.asarray(imageio.volread(w))\n",
    "\n",
    "    ys[training_name] = training_ys\n",
    "    sparks[training_name] = training_sparks\n",
    "    puffs[training_name] = training_puffs\n",
    "    waves[training_name] = training_waves       "
   ]
  },
  {
   "cell_type": "markdown",
   "metadata": {
    "tags": []
   },
   "source": [
    "# Jaccard index (IoU score) for puffs and waves\n",
    "12.05.2021\n",
    "Seguendo il consiglio di Pablo:\n",
    "erosion & dilation delle annotations -> creazione di una exclusion region che viene ignorata dal supporto del Jaccard index"
   ]
  },
  {
   "cell_type": "markdown",
   "metadata": {
    "jp-MarkdownHeadingCollapsed": true,
    "tags": []
   },
   "source": [
    "## Compute metrics for sample video"
   ]
  },
  {
   "cell_type": "code",
   "execution_count": 12,
   "metadata": {
    "tags": []
   },
   "outputs": [],
   "source": [
    "# results for a sample movie in sample dataset\n",
    "name = \"256_long_chunks_64_step_physio\"\n",
    "idx = 0"
   ]
  },
  {
   "cell_type": "code",
   "execution_count": 27,
   "metadata": {
    "tags": []
   },
   "outputs": [],
   "source": [
    "# parameters\n",
    "ignore_frames = 6\n",
    "\n",
    "t_detection = 0.5\n",
    "min_radius_puffs = 4\n",
    "min_radius_waves = 10"
   ]
  },
  {
   "cell_type": "markdown",
   "metadata": {
    "jp-MarkdownHeadingCollapsed": true,
    "tags": []
   },
   "source": [
    "### Get binary preds and remove ignored frames"
   ]
  },
  {
   "cell_type": "code",
   "execution_count": 14,
   "metadata": {
    "collapsed": true,
    "jupyter": {
     "outputs_hidden": true
    },
    "tags": []
   },
   "outputs": [
    {
     "ename": "KeyError",
     "evalue": "'256_long_chunks_64_step_physio'",
     "output_type": "error",
     "traceback": [
      "\u001b[1;31m---------------------------------------------------------------------------\u001b[0m",
      "\u001b[1;31mKeyError\u001b[0m                                  Traceback (most recent call last)",
      "\u001b[1;32m~\\AppData\\Local\\Temp/ipykernel_494564/756685758.py\u001b[0m in \u001b[0;36m<module>\u001b[1;34m\u001b[0m\n\u001b[0;32m      1\u001b[0m \u001b[1;31m# get predictions\u001b[0m\u001b[1;33m\u001b[0m\u001b[1;33m\u001b[0m\u001b[1;33m\u001b[0m\u001b[0m\n\u001b[1;32m----> 2\u001b[1;33m \u001b[0msparks_sample\u001b[0m \u001b[1;33m=\u001b[0m \u001b[0msparks\u001b[0m\u001b[1;33m[\u001b[0m\u001b[0mname\u001b[0m\u001b[1;33m]\u001b[0m\u001b[1;33m[\u001b[0m\u001b[0midx\u001b[0m\u001b[1;33m]\u001b[0m\u001b[1;33m\u001b[0m\u001b[1;33m\u001b[0m\u001b[0m\n\u001b[0m\u001b[0;32m      3\u001b[0m \u001b[0mpuffs_sample\u001b[0m \u001b[1;33m=\u001b[0m \u001b[0mpuffs\u001b[0m\u001b[1;33m[\u001b[0m\u001b[0mname\u001b[0m\u001b[1;33m]\u001b[0m\u001b[1;33m[\u001b[0m\u001b[0midx\u001b[0m\u001b[1;33m]\u001b[0m\u001b[1;33m\u001b[0m\u001b[1;33m\u001b[0m\u001b[0m\n\u001b[0;32m      4\u001b[0m \u001b[0mwaves_sample\u001b[0m \u001b[1;33m=\u001b[0m \u001b[0mwaves\u001b[0m\u001b[1;33m[\u001b[0m\u001b[0mname\u001b[0m\u001b[1;33m]\u001b[0m\u001b[1;33m[\u001b[0m\u001b[0midx\u001b[0m\u001b[1;33m]\u001b[0m\u001b[1;33m\u001b[0m\u001b[1;33m\u001b[0m\u001b[0m\n",
      "\u001b[1;31mKeyError\u001b[0m: '256_long_chunks_64_step_physio'"
     ]
    }
   ],
   "source": [
    "# get predictions\n",
    "sparks_sample = sparks[name][idx]\n",
    "puffs_sample = puffs[name][idx]\n",
    "waves_sample = waves[name][idx]"
   ]
  },
  {
   "cell_type": "code",
   "execution_count": null,
   "metadata": {
    "tags": []
   },
   "outputs": [],
   "source": [
    "puffs_binary = process_puff_prediction(puffs_sample, \n",
    "                                       t_detection, \n",
    "                                       min_radius_puffs, \n",
    "                                       ignore_frames)\n",
    "\n",
    "waves_binary = process_wave_prediction(waves_sample, \n",
    "                                       t_detection, \n",
    "                                       min_radius_waves, \n",
    "                                       ignore_frames)"
   ]
  },
  {
   "cell_type": "markdown",
   "metadata": {
    "jp-MarkdownHeadingCollapsed": true,
    "tags": []
   },
   "source": [
    "### Get binary ys and remove ignored frames"
   ]
  },
  {
   "cell_type": "code",
   "execution_count": null,
   "metadata": {
    "tags": []
   },
   "outputs": [],
   "source": [
    "# get binary ys\n",
    "ys_sample = ys_all_trainings[idx]\n",
    "\n",
    "ys_puffs_sample = np.where(ys_sample==3,1,0)\n",
    "ys_waves_sample = np.where(ys_sample==2,1,0)\n",
    "ignore_mask = np.where(ys_sample==4,1,0)"
   ]
  },
  {
   "cell_type": "code",
   "execution_count": null,
   "metadata": {
    "tags": []
   },
   "outputs": [],
   "source": [
    "ys_puffs_sample = empty_marginal_frames(ys_puffs_sample, ignore_frames)\n",
    "ys_waves_sample = empty_marginal_frames(ys_waves_sample, ignore_frames)\n",
    "ignore_mask = empty_marginal_frames(ignore_mask, ignore_frames)"
   ]
  },
  {
   "cell_type": "markdown",
   "metadata": {
    "jp-MarkdownHeadingCollapsed": true,
    "tags": []
   },
   "source": [
    "### Plot a sample frame"
   ]
  },
  {
   "cell_type": "code",
   "execution_count": null,
   "metadata": {
    "tags": []
   },
   "outputs": [],
   "source": [
    "sparks_sample.shape, puffs_sample.shape, waves_sample.shape, ys_sample.shape"
   ]
  },
  {
   "cell_type": "code",
   "execution_count": null,
   "metadata": {
    "tags": []
   },
   "outputs": [],
   "source": [
    "sample_frame = 199 # 346"
   ]
  },
  {
   "cell_type": "code",
   "execution_count": null,
   "metadata": {
    "tags": []
   },
   "outputs": [],
   "source": [
    "# Plot annotations and preds of sample frame\n",
    "\n",
    "#plt.rcParams.update({'font.size': 8})\n",
    "\n",
    "plt.figure(figsize=(20,8))\n",
    "plt.suptitle(f\"Annotations and preds of sample frame {sample_frame}\", fontsize=12)\n",
    "\n",
    "\n",
    "ax = plt.subplot(4,2,1)\n",
    "ax.set_title(\"Puffs annotations\")\n",
    "plt.imshow(ys_puffs_sample[sample_frame])\n",
    "\n",
    "ax = plt.subplot(4,2,2)\n",
    "ax.set_title(\"Waves annotations\")\n",
    "plt.imshow(ys_waves_sample[sample_frame])\n",
    "\n",
    "ax = plt.subplot(4,2,3)\n",
    "ax.set_title(\"Puffs binary preds\")\n",
    "plt.imshow(puffs_binary[sample_frame])\n",
    "\n",
    "ax = plt.subplot(4,2,4)\n",
    "ax.set_title(\"Waves binary preds\")\n",
    "plt.imshow(waves_binary[sample_frame])\n",
    "\n",
    "ax = plt.subplot(4,2,5)\n",
    "ax.set_title(\"Puffs original preds\")\n",
    "plt.imshow(puffs_sample[sample_frame])\n",
    "\n",
    "ax = plt.subplot(4,2,6)\n",
    "ax.set_title(\"Waves original preds\")\n",
    "plt.imshow(waves_sample[sample_frame])\n",
    "\n",
    "ax = plt.subplot(4,2,7)\n",
    "ax.set_title(\"Ignore mask (annotations)\")\n",
    "plt.imshow(ignore_mask[sample_frame])\n",
    "\n",
    "\n",
    "plt.show()"
   ]
  },
  {
   "cell_type": "markdown",
   "metadata": {
    "jp-MarkdownHeadingCollapsed": true,
    "tags": []
   },
   "source": [
    "### Save sample binary preds on disk"
   ]
  },
  {
   "cell_type": "code",
   "execution_count": null,
   "metadata": {
    "tags": []
   },
   "outputs": [],
   "source": [
    "imageio.volwrite(os.path.join(metrics_folder, \"binary_preds_puffs.tif\"), np.uint8(puffs_binary))\n",
    "imageio.volwrite(os.path.join(metrics_folder, \"binary_preds_waves.tif\"), np.uint8(waves_binary))"
   ]
  },
  {
   "cell_type": "markdown",
   "metadata": {
    "jp-MarkdownHeadingCollapsed": true,
    "tags": []
   },
   "source": [
    "### Save sample annotations on disk"
   ]
  },
  {
   "cell_type": "code",
   "execution_count": null,
   "metadata": {
    "tags": []
   },
   "outputs": [],
   "source": [
    "imageio.volwrite(os.path.join(metrics_folder, \"annotations_puffs.tif\"), np.uint8(ys_puffs_sample))\n",
    "imageio.volwrite(os.path.join(metrics_folder, \"annotations_waves.tif\"), np.uint8(ys_waves_sample))"
   ]
  },
  {
   "cell_type": "markdown",
   "metadata": {
    "jp-MarkdownHeadingCollapsed": true,
    "tags": []
   },
   "source": [
    "### Save ignore mask on disk"
   ]
  },
  {
   "cell_type": "code",
   "execution_count": null,
   "metadata": {
    "tags": []
   },
   "outputs": [],
   "source": [
    "imageio.volwrite(os.path.join(metrics_folder, \"ignore_mask.tif\"), np.uint8(ignore_mask))"
   ]
  },
  {
   "cell_type": "markdown",
   "metadata": {
    "jp-MarkdownHeadingCollapsed": true,
    "tags": []
   },
   "source": [
    "### Compute Jaccard score (without exclusion zone)"
   ]
  },
  {
   "cell_type": "code",
   "execution_count": 21,
   "metadata": {
    "collapsed": true,
    "jupyter": {
     "outputs_hidden": true
    },
    "tags": []
   },
   "outputs": [
    {
     "name": "stdout",
     "output_type": "stream",
     "text": [
      "Jaccard score puffs: 0.16206809118779245\n",
      "Jaccard score waves: 0.0\n"
     ]
    },
    {
     "name": "stderr",
     "output_type": "stream",
     "text": [
      "C:\\Users\\dotti\\.conda\\envs\\sparks\\lib\\site-packages\\sklearn\\metrics\\_classification.py:1248: UndefinedMetricWarning: Jaccard is ill-defined and being set to 0.0 due to no true or predicted samples. Use `zero_division` parameter to control this behavior.\n",
      "  _warn_prf(average, modifier, msg_start, len(result))\n"
     ]
    }
   ],
   "source": [
    "iou_puffs = jaccard_score(ys_puffs_sample.ravel(), puffs_binary.ravel())\n",
    "iou_waves = jaccard_score(ys_waves_sample.ravel(), waves_binary.ravel())\n",
    "\n",
    "print(f\"Jaccard score puffs: {iou_puffs}\")\n",
    "print(f\"Jaccard score waves: {iou_waves}\")"
   ]
  },
  {
   "cell_type": "code",
   "execution_count": 22,
   "metadata": {
    "tags": []
   },
   "outputs": [],
   "source": [
    "# Compute exclusion zone\n",
    "\n",
    "exclusion_radius = 2"
   ]
  },
  {
   "cell_type": "code",
   "execution_count": 23,
   "metadata": {
    "tags": []
   },
   "outputs": [],
   "source": [
    "# Just for puffs\n",
    "puffs_eroded = binary_erosion(ys_puffs_sample, iterations=exclusion_radius)\n",
    "puffs_dilated = binary_dilation(ys_puffs_sample, iterations=exclusion_radius)\n",
    "\n",
    "exclusion_mask = 1 - np.logical_xor(puffs_eroded, puffs_dilated)\n",
    "# 1 where Jaccard index has to be computed, 0 otherwise"
   ]
  },
  {
   "cell_type": "code",
   "execution_count": 24,
   "metadata": {
    "tags": []
   },
   "outputs": [],
   "source": [
    "# Compute dilation for ignore mask\n",
    "ignore_mask_dilated = binary_dilation(ignore_mask, iterations=exclusion_radius)\n",
    "\n",
    "# Ignore regions in ignore mask too\n",
    "exclusion_mask_ignore_roi = np.logical_and(1 - ignore_mask_dilated, exclusion_mask)"
   ]
  },
  {
   "cell_type": "code",
   "execution_count": 25,
   "metadata": {
    "collapsed": true,
    "jupyter": {
     "outputs_hidden": true
    },
    "tags": []
   },
   "outputs": [
    {
     "data": {
      "image/png": "[encoded data removed]",
      "text/plain": [
       "<Figure size 1440x432 with 6 Axes>"
      ]
     },
     "metadata": {
      "needs_background": "light"
     },
     "output_type": "display_data"
    }
   ],
   "source": [
    "# Plot annotations eroded and dilated\n",
    "#plt.rcParams.update({'font.size': 8})\n",
    "\n",
    "plt.figure(figsize=(20,6))\n",
    "plt.suptitle(f\"Plot annotations eroded and dilated of sample frame {sample_frame}\", fontsize=12)\n",
    "\n",
    "\n",
    "ax = plt.subplot(3,2,1)\n",
    "ax.set_title(\"Puffs original annotations\")\n",
    "plt.imshow(ys_puffs_sample[sample_frame])\n",
    "\n",
    "ax = plt.subplot(3,2,2)\n",
    "ax.set_title(\"Difference\")\n",
    "plt.imshow(exclusion_mask[sample_frame])\n",
    "\n",
    "ax = plt.subplot(3,2,3)\n",
    "ax.set_title(\"Puffs eroded annotations\")\n",
    "plt.imshow(puffs_eroded[sample_frame])\n",
    "\n",
    "ax = plt.subplot(3,2,4)\n",
    "ax.set_title(\"Puffs dilated annotations\")\n",
    "plt.imshow(puffs_dilated[sample_frame])\n",
    "\n",
    "ax = plt.subplot(3,2,5)\n",
    "ax.set_title(\"Dilated ignore mask\")\n",
    "plt.imshow(ignore_mask_dilated[sample_frame])\n",
    "\n",
    "ax = plt.subplot(3,2,6)\n",
    "ax.set_title(\"Region to compute IoU\")\n",
    "plt.imshow(exclusion_mask_ignore_roi[sample_frame])\n",
    "\n",
    "\n",
    "plt.show()"
   ]
  },
  {
   "cell_type": "code",
   "execution_count": 26,
   "metadata": {
    "tags": []
   },
   "outputs": [],
   "source": [
    "# Compute intersection and union of annotations with preds\n",
    "\n",
    "intersection = np.logical_and(ys_puffs_sample, puffs_binary)\n",
    "union = np.logical_or(ys_puffs_sample, puffs_binary)\n",
    "\n",
    "# Compute intersection and union only in exclusion mask\n",
    "\n",
    "intersection_mask = np.logical_and(intersection, exclusion_mask_ignore_roi)\n",
    "union_mask = np.logical_and(union, exclusion_mask_ignore_roi)"
   ]
  },
  {
   "cell_type": "code",
   "execution_count": 27,
   "metadata": {
    "collapsed": true,
    "jupyter": {
     "outputs_hidden": true
    },
    "tags": []
   },
   "outputs": [
    {
     "data": {
      "image/png": "[encoded data removed]",
      "text/plain": [
       "<Figure size 1440x432 with 6 Axes>"
      ]
     },
     "metadata": {
      "needs_background": "light"
     },
     "output_type": "display_data"
    }
   ],
   "source": [
    "# Plot intersection and union\n",
    "#plt.rcParams.update({'font.size': 8})\n",
    "\n",
    "plt.figure(figsize=(20,6))\n",
    "plt.suptitle(f\"Intersection and union of annotations with preds of sample frame {sample_frame}\", fontsize=12)\n",
    "\n",
    "\n",
    "ax = plt.subplot(3,2,1)\n",
    "ax.set_title(\"Intersecion of annotations and preds\")\n",
    "plt.imshow(intersection[sample_frame])\n",
    "\n",
    "ax = plt.subplot(3,2,2)\n",
    "ax.set_title(\"Union of annotations and preds\")\n",
    "plt.imshow(union[sample_frame])\n",
    "\n",
    "ax = plt.subplot(3,2,3)\n",
    "ax.set_title(\"Same intersection with respect to exclusion mask\")\n",
    "plt.imshow(intersection_mask[sample_frame])\n",
    "\n",
    "ax = plt.subplot(3,2,4)\n",
    "ax.set_title(\"Same union with respect to exclusion mask\")\n",
    "plt.imshow(union_mask[sample_frame])\n",
    "\n",
    "ax = plt.subplot(3,2,5)\n",
    "ax.set_title(\"Exclusion mask\")\n",
    "plt.imshow(exclusion_mask[sample_frame])\n",
    "\n",
    "ax = plt.subplot(3,2,6)\n",
    "ax.set_title(\"Exclusion mask with ignore mask\")\n",
    "plt.imshow(exclusion_mask_ignore_roi[sample_frame])\n",
    "\n",
    "\n",
    "plt.show()"
   ]
  },
  {
   "cell_type": "code",
   "execution_count": 28,
   "metadata": {
    "collapsed": true,
    "jupyter": {
     "outputs_hidden": true
    },
    "tags": []
   },
   "outputs": [
    {
     "name": "stdout",
     "output_type": "stream",
     "text": [
      "Pixels in intersection: 16943\n",
      "Pixels in union: 136282\n",
      "IoU wrt to wave class: 0.12432309475939596\n"
     ]
    }
   ],
   "source": [
    "# Compute Jaccard index\n",
    "\n",
    "print(f\"Pixels in intersection: {np.count_nonzero(intersection_mask)}\")\n",
    "print(f\"Pixels in union: {np.count_nonzero(union_mask)}\")\n",
    "\n",
    "new_iou_puffs = np.count_nonzero(intersection_mask)/np.count_nonzero(union_mask)\n",
    "\n",
    "print(f\"IoU wrt to wave class: {new_iou_puffs}\")"
   ]
  },
  {
   "cell_type": "code",
   "execution_count": 29,
   "metadata": {
    "tags": []
   },
   "outputs": [],
   "source": [
    "new_iou_puffs = jaccard_score_exclusion_zone(ys_puffs_sample, puffs_binary, exclusion_radius, ignore_mask)\n",
    "new_iou_waves = jaccard_score_exclusion_zone(ys_waves_sample, waves_binary, exclusion_radius, ignore_mask)"
   ]
  },
  {
   "cell_type": "code",
   "execution_count": 30,
   "metadata": {
    "collapsed": true,
    "jupyter": {
     "outputs_hidden": true
    },
    "tags": []
   },
   "outputs": [
    {
     "name": "stdout",
     "output_type": "stream",
     "text": [
      "0.12432309475939596\n",
      "1.0\n"
     ]
    }
   ],
   "source": [
    "print(new_iou_puffs)\n",
    "print(new_iou_waves)"
   ]
  },
  {
   "cell_type": "markdown",
   "metadata": {
    "jp-MarkdownHeadingCollapsed": true,
    "tags": []
   },
   "source": [
    "### Jaccard index for sparks"
   ]
  },
  {
   "cell_type": "code",
   "execution_count": 73,
   "metadata": {
    "tags": []
   },
   "outputs": [],
   "source": [
    "# get sparks annotations\n",
    "ys_sparks_sample = np.where(ys_sample==1,1,0)\n",
    "\n",
    "# get sparks predictions\n",
    "t_detection_sparks = 0.9\n",
    "min_radius_sparks = 3\n",
    "sparks_binary = (process_spark_prediction(sparks_sample, \n",
    "                                          t_detection=t_detection_sparks,\n",
    "                                          min_radius=min_radius_sparks,\n",
    "                                          ignore_frames=ignore_frames,\n",
    "                                          return_clean_pred=True)) != 0 "
   ]
  },
  {
   "cell_type": "markdown",
   "metadata": {
    "jp-MarkdownHeadingCollapsed": true,
    "tags": []
   },
   "source": [
    "### Comparison with original implementation (when radius = 0)"
   ]
  },
  {
   "cell_type": "code",
   "execution_count": 76,
   "metadata": {
    "collapsed": true,
    "jupyter": {
     "outputs_hidden": true
    },
    "tags": []
   },
   "outputs": [
    {
     "name": "stdout",
     "output_type": "stream",
     "text": [
      "Jaccard index with new method:\n",
      "Puffs: 0.20890103174317864\n",
      "Waves: 1.0\n",
      "Sparks: 0.04723618090452261\n",
      "\n",
      "Jaccard index with sklearn metrics method\n",
      "Puffs: 0.20890103174317864\n",
      "Waves: 0.0\n",
      "Sparks: 0.04723618090452261\n"
     ]
    }
   ],
   "source": [
    "print(\"Jaccard index with new method:\")\n",
    "print(f\"Puffs: {jaccard_score_exclusion_zone(ys_puffs_sample, puffs_binary, 0)}\") # ! not considering ignore mask\n",
    "print(f\"Waves: {jaccard_score_exclusion_zone(ys_waves_sample, waves_binary, 0)}\") # ! not considering ignore mask\n",
    "print(f\"Sparks: {jaccard_score_exclusion_zone(ys_sparks_sample, sparks_binary, 0, sparks=True)}\") # ! not considering ignore mask\n",
    "print()\n",
    "print(\"Jaccard index with sklearn metrics method\")\n",
    "print(f\"Puffs: {jaccard_score(ys_puffs_sample.ravel(), puffs_binary.ravel())}\")\n",
    "print(f\"Waves: {jaccard_score(ys_waves_sample.ravel(), waves_binary.ravel())}\")\n",
    "print(f\"Sparks: {jaccard_score(ys_sparks_sample.ravel(), sparks_binary.ravel())}\")"
   ]
  },
  {
   "cell_type": "markdown",
   "metadata": {
    "jp-MarkdownHeadingCollapsed": true,
    "tags": []
   },
   "source": [
    "### Plot IoU with respect to different exclusion radius"
   ]
  },
  {
   "cell_type": "code",
   "execution_count": 77,
   "metadata": {
    "tags": []
   },
   "outputs": [],
   "source": [
    "exclusion_radius_list = [0,1,2,3,4,5,6,7,8,9,10]\n",
    "\n",
    "# puffs\n",
    "ious_puffs = []\n",
    "for radius in exclusion_radius_list:\n",
    "    ious_puffs.append(jaccard_score_exclusion_zone(ys_puffs_sample, puffs_binary, radius)) # ! not considering ignore mask\n",
    "    \n",
    "# waves\n",
    "ious_waves = []\n",
    "for radius in exclusion_radius_list:\n",
    "    ious_waves.append(jaccard_score_exclusion_zone(ys_waves_sample, waves_binary, radius)) # ! not considering ignore mask\n",
    "    \n",
    "# sparks\n",
    "ious_sparks = []\n",
    "for radius in exclusion_radius_list:\n",
    "    ious_sparks.append(jaccard_score_exclusion_zone(ys_sparks_sample, sparks_binary, radius, sparks=True)) # ! not considering ignore mask"
   ]
  },
  {
   "cell_type": "code",
   "execution_count": 78,
   "metadata": {
    "collapsed": true,
    "jupyter": {
     "outputs_hidden": true
    },
    "tags": []
   },
   "outputs": [
    {
     "data": {
      "image/png": "[encoded data removed]",
      "text/plain": [
       "<Figure size 1440x288 with 3 Axes>"
      ]
     },
     "metadata": {
      "needs_background": "light"
     },
     "output_type": "display_data"
    }
   ],
   "source": [
    "# Plot Jaccard index wrt different exclusion radius\n",
    "#plt.rcParams.update({'font.size': 8})\n",
    "\n",
    "plt.figure(figsize=(20,4))\n",
    "plt.suptitle(f\"Jaccard index with respect to different exclusion radius\", fontsize=12)\n",
    "\n",
    "\n",
    "ax = plt.subplot(1,3,1)\n",
    "ax.set_title(\"Puff class\")\n",
    "plt.ylim([0, 1])\n",
    "plt.plot(exclusion_radius_list, ious_puffs)\n",
    "\n",
    "ax = plt.subplot(1,3,2)\n",
    "ax.set_title(\"Waves class\")\n",
    "plt.ylim([0, 1])\n",
    "plt.plot(exclusion_radius_list, ious_waves)\n",
    "\n",
    "ax = plt.subplot(1,3,3)\n",
    "ax.set_title(\"Sparks class\")\n",
    "plt.ylim([0, 1])\n",
    "plt.plot(exclusion_radius_list, ious_sparks)\n",
    "\n",
    "\n",
    "plt.show()"
   ]
  },
  {
   "cell_type": "code",
   "execution_count": 79,
   "metadata": {
    "collapsed": true,
    "jupyter": {
     "outputs_hidden": true
    },
    "tags": []
   },
   "outputs": [
    {
     "name": "stdout",
     "output_type": "stream",
     "text": [
      "IoUs puffs: [0.20890103174317864, 0.14459408432976714, 0.08126801152737752, 0.037353441136730156, 0.013306755737528283, 0.0021321961620469083, 7.474400179385604e-05, 0.0, 0.0, 0.0, 0.0]\n",
      "IoUs puffs: [1.0, 1.0, 1.0, 1.0, 1.0, 1.0, 1.0, 1.0, 1.0, 1.0, 1.0]\n",
      "IoUs puffs: [0.04723618090452261, 0.05264336917562724, 0.05791030064070971, 0.06230116648992577, 0.06536856745479833, 0.06762589928057554, 0.06909732431637754, 0.07004470938897168, 0.07078313253012049, 0.07219662058371736, 0.07413249211356467]\n"
     ]
    }
   ],
   "source": [
    "print(f\"IoUs puffs: {ious_puffs}\")\n",
    "print(f\"IoUs puffs: {ious_waves}\")\n",
    "print(f\"IoUs puffs: {ious_sparks}\")"
   ]
  },
  {
   "cell_type": "markdown",
   "metadata": {
    "tags": []
   },
   "source": [
    "## Evaluate all trainings on all videos (plain version using exclusion radius)"
   ]
  },
  {
   "cell_type": "markdown",
   "metadata": {},
   "source": [
    "Remarks: \n",
    "- IoU not computed for sparks (it doesn't make sense)"
   ]
  },
  {
   "cell_type": "code",
   "execution_count": 31,
   "metadata": {
    "tags": []
   },
   "outputs": [],
   "source": [
    "# params best for focal_loss_gamma_5_ubelix\n",
    "\n",
    "# parameters\n",
    "ignore_frames = 6\n",
    "\n",
    "# sparks params\n",
    "#t_detection_sparks = 0.7\n",
    "#min_radius_sparks = 2\n",
    "\n",
    "# puffs and waves params\n",
    "t_detection = [0.5,0.55,0.65,0.7,0.75,0.8,0.85,0.9,0.95]\n",
    "min_radius = [0,1,2,3,4,5,6,7,8,9,10]\n",
    "\n",
    "exclusion_radius = [0,1,2,3,4,5,6,7,8,9,10]"
   ]
  },
  {
   "cell_type": "code",
   "execution_count": 32,
   "metadata": {
    "tags": []
   },
   "outputs": [
    {
     "name": "stdout",
     "output_type": "stream",
     "text": [
      "focal_loss_gamma_5_ubelix\n"
     ]
    },
    {
     "ename": "KeyError",
     "evalue": "0.5",
     "output_type": "error",
     "traceback": [
      "\u001b[1;31m---------------------------------------------------------------------------\u001b[0m",
      "\u001b[1;31mKeyError\u001b[0m                                  Traceback (most recent call last)",
      "\u001b[1;32m~\\AppData\\Local\\Temp/ipykernel_17856/780241774.py\u001b[0m in \u001b[0;36m<module>\u001b[1;34m\u001b[0m\n\u001b[0;32m     51\u001b[0m                 \u001b[0mious_waves\u001b[0m \u001b[1;33m=\u001b[0m \u001b[1;33m{\u001b[0m\u001b[1;33m}\u001b[0m\u001b[1;33m\u001b[0m\u001b[1;33m\u001b[0m\u001b[0m\n\u001b[0;32m     52\u001b[0m                 \u001b[1;32mfor\u001b[0m \u001b[0mexclusion_r\u001b[0m \u001b[1;32min\u001b[0m \u001b[0mexclusion_radius\u001b[0m\u001b[1;33m:\u001b[0m\u001b[1;33m\u001b[0m\u001b[1;33m\u001b[0m\u001b[0m\n\u001b[1;32m---> 53\u001b[1;33m                     ious_waves[t][min_r][exclusion_r][video_id] = jaccard_score_exclusion_zone(ys=ys_waves_sample,\n\u001b[0m\u001b[0;32m     54\u001b[0m                                                                                                \u001b[0mpreds\u001b[0m\u001b[1;33m=\u001b[0m\u001b[0mwaves_binary\u001b[0m\u001b[1;33m,\u001b[0m\u001b[1;33m\u001b[0m\u001b[1;33m\u001b[0m\u001b[0m\n\u001b[0;32m     55\u001b[0m                                                                                                \u001b[0mexclusion_radius\u001b[0m\u001b[1;33m=\u001b[0m\u001b[0mexclusion_r\u001b[0m\u001b[1;33m,\u001b[0m\u001b[1;33m\u001b[0m\u001b[1;33m\u001b[0m\u001b[0m\n",
      "\u001b[1;31mKeyError\u001b[0m: 0.5"
     ]
    }
   ],
   "source": [
    "# each dictionary contains, for every training name, a list of IoU scores for all videos for all exclusion radius\n",
    "ious_puffs_all_models = {}\n",
    "ious_waves_all_models = {}\n",
    "ious_puffs_all_models_average = {}\n",
    "ious_waves_all_models_average = {}\n",
    "\n",
    "for training_name in training_names:\n",
    "    print(training_name)\n",
    "    # get predictions\n",
    "    puffs_training = puffs[training_name]\n",
    "    waves_training = waves[training_name]\n",
    "        \n",
    "    ious_puffs = defaultdict(lambda: defaultdict(lambda: defaultdict(lambda: defaultdict(dict))))\n",
    "    ious_waves = defaultdict(lambda: defaultdict(lambda: defaultdict(lambda: defaultdict(dict))))\n",
    "    ious_puffs_average = defaultdict(lambda: defaultdict(lambda: defaultdict(dict)))\n",
    "    ious_waves_average = defaultdict(lambda: defaultdict(lambda: defaultdict(dict)))\n",
    "    \n",
    "    for video_id in ys_all_trainings.keys():\n",
    "        ys_sample = ys_all_trainings[video_id]\n",
    "        puffs_sample = puffs_training[video_id]\n",
    "        waves_sample = waves_training[video_id]\n",
    "        \n",
    "        # get ignore mask (events labelled with 4)\n",
    "        ignore_mask = empty_marginal_frames(np.where(ys_sample==4,1,0), ignore_frames)\n",
    "        \n",
    "        for t in t_detection:\n",
    "            for min_r in min_radius:\n",
    "                # get binary predictions and remove ignored frames\n",
    "                puffs_binary = process_puff_prediction(pred=puffs_sample, \n",
    "                                                       t_detection=t, \n",
    "                                                       min_radius=min_r, \n",
    "                                                       ignore_frames=ignore_frames)\n",
    "                waves_binary = process_wave_prediction(waves_sample, \n",
    "                                                       t_detection=t, \n",
    "                                                       min_radius=min_r, \n",
    "                                                       ignore_frames=ignore_frames)\n",
    "\n",
    "                # get binary ys and remove ignored frames\n",
    "                ys_puffs_sample = empty_marginal_frames(np.where(ys_sample==3,1,0), ignore_frames)\n",
    "                ys_waves_sample = empty_marginal_frames(np.where(ys_sample==2,1,0), ignore_frames)\n",
    "\n",
    "                # compute IoU for some exclusion radius values\n",
    "                # puffs\n",
    "                for exclusion_r in exclusion_radius:\n",
    "                    ious_puffs[t][min_r][exclusion_r][video_id] = jaccard_score_exclusion_zone(ys=ys_puffs_sample,\n",
    "                                                                                               preds=puffs_binary,\n",
    "                                                                                               exclusion_radius=exclusion_r,\n",
    "                                                                                               ignore_mask=ignore_mask)\n",
    "\n",
    "                # waves\n",
    "                ious_waves = {}\n",
    "                for exclusion_r in exclusion_radius:\n",
    "                    ious_waves[t][min_r][exclusion_r][video_id] = jaccard_score_exclusion_zone(ys=ys_waves_sample,\n",
    "                                                                                               preds=waves_binary,\n",
    "                                                                                               exclusion_radius=exclusion_r,\n",
    "                                                                                               ignore_mask=ignore_mask)\n",
    "        # compute average over all movies\n",
    "        ious_puffs_average[t][min_r][exclusion_r] = sum(ious_puffs[t][min_r][exclusion_r].values()) / len(ious_puffs[t][min_r][exclusion_r])\n",
    "        ious_waves_average[t][min_r][exclusion_r] = sum(ious_waves[t][min_r][exclusion_r].values()) / len(ious_waves[t][min_r][exclusion_r])\n",
    "    \n",
    "    ious_puffs_all_models[training_name] = ious_puffs\n",
    "    ious_waves_all_models[training_name] = ious_waves\n",
    "    ious_puffs_all_models_average[training_name] = ious_puffs_average\n",
    "    ious_waves_all_models_average[training_name] = ious_waves_average"
   ]
  },
  {
   "cell_type": "code",
   "execution_count": 10,
   "metadata": {
    "tags": []
   },
   "outputs": [
    {
     "name": "stdout",
     "output_type": "stream",
     "text": [
      "{'focal_loss_gamma_5_ubelix': {'05': {0: 0.14720359588217147,\n",
      "                                      1: 0.1362367721747881,\n",
      "                                      2: 0.10492437838939066,\n",
      "                                      3: 0.07402837754472548,\n",
      "                                      4: 0.04507901506798971,\n",
      "                                      5: 0.022757923128792986,\n",
      "                                      6: 0.008515840508233721,\n",
      "                                      7: 0.0020303841008981463,\n",
      "                                      8: 0.00018667911194079605,\n",
      "                                      9: 0.0,\n",
      "                                      10: 0.0},\n",
      "                               '10': {0: 0.5663674907955643,\n",
      "                                      1: 0.6396018813866267,\n",
      "                                      2: 0.6982539775311736,\n",
      "                                      3: 0.7583326657752198,\n",
      "                                      4: 0.8181698381740551,\n",
      "                                      5: 0.8755733041778239,\n",
      "                                      6: 0.9264887556907873,\n",
      "                                      7: 0.9639263631253513,\n",
      "                                      8: 0.9878216123499143,\n",
      "                                      9: 0.9971351463566536,\n",
      "                                      10: 0.9994726334425735},\n",
      "                               '15': {0: 0.33420544517691686,\n",
      "                                      1: 0.36392215905260555,\n",
      "                                      2: 0.3925002512788772,\n",
      "                                      3: 0.42256600283734347,\n",
      "                                      4: 0.45366008694763843,\n",
      "                                      5: 0.4840669634021164,\n",
      "                                      6: 0.5110987759910735,\n",
      "                                      7: 0.5352050919377652,\n",
      "                                      8: 0.5583561052782972,\n",
      "                                      9: 0.5794139919613212,\n",
      "                                      10: 0.5985154156528167},\n",
      "                               '20': {0: 0.18172014496596836,\n",
      "                                      1: 0.19623408242980506,\n",
      "                                      2: 0.2007302879939335,\n",
      "                                      3: 0.19380487237630095,\n",
      "                                      4: 0.1748419693227904,\n",
      "                                      5: 0.14827685690306336,\n",
      "                                      6: 0.11899926834002778,\n",
      "                                      7: 0.09074599465954607,\n",
      "                                      8: 0.06449573479691036,\n",
      "                                      9: 0.04199794311933863,\n",
      "                                      10: 0.022923207778979535},\n",
      "                               '25': {0: 0.027497879207961765,\n",
      "                                      1: 0.0210569157937579,\n",
      "                                      2: 0.013142831983092637,\n",
      "                                      3: 0.006224019773059207,\n",
      "                                      4: 0.001868264564489303,\n",
      "                                      5: 0.0001836715951878042,\n",
      "                                      6: 0.0,\n",
      "                                      7: 0.0,\n",
      "                                      8: 0.0,\n",
      "                                      9: 0.0,\n",
      "                                      10: 0.0},\n",
      "                               '32': {0: 0.3869572881777741,\n",
      "                                      1: 0.40025849335302804,\n",
      "                                      2: 0.4049437476133126,\n",
      "                                      3: 0.3945707403695694,\n",
      "                                      4: 0.3682694114453932,\n",
      "                                      5: 0.32643331468463427,\n",
      "                                      6: 0.27437742114001107,\n",
      "                                      7: 0.21792021736445596,\n",
      "                                      8: 0.1609514773651396,\n",
      "                                      9: 0.1062980593189308,\n",
      "                                      10: 0.05983970119056883},\n",
      "                               '34': {0: 0.12246332556777764,\n",
      "                                      1: 0.11588100091070731,\n",
      "                                      2: 0.10586318246118767,\n",
      "                                      3: 0.09444059260580215,\n",
      "                                      4: 0.08241721781061292,\n",
      "                                      5: 0.07039066511387583,\n",
      "                                      6: 0.05861204220980757,\n",
      "                                      7: 0.047425629676609696,\n",
      "                                      8: 0.03714700064111575,\n",
      "                                      9: 0.028102328071389092,\n",
      "                                      10: 0.020439214444649658},\n",
      "                               '40': {0: 0.0,\n",
      "                                      1: 0.0,\n",
      "                                      2: 0.0,\n",
      "                                      3: 0.0,\n",
      "                                      4: 0.0,\n",
      "                                      5: 0.0,\n",
      "                                      6: 0.0,\n",
      "                                      7: 0.0,\n",
      "                                      8: 0.0,\n",
      "                                      9: 0.0,\n",
      "                                      10: 0.0},\n",
      "                               '45': {0: 1.0,\n",
      "                                      1: 1.0,\n",
      "                                      2: 1.0,\n",
      "                                      3: 1.0,\n",
      "                                      4: 1.0,\n",
      "                                      5: 1.0,\n",
      "                                      6: 1.0,\n",
      "                                      7: 1.0,\n",
      "                                      8: 1.0,\n",
      "                                      9: 1.0,\n",
      "                                      10: 1.0}}}\n"
     ]
    }
   ],
   "source": [
    "pprint.pprint(ious_puffs_all_trainings)"
   ]
  },
  {
   "cell_type": "markdown",
   "metadata": {
    "tags": []
   },
   "source": [
    "### Compute average along videos of IoU for each exclusion radius for each training name"
   ]
  },
  {
   "cell_type": "code",
   "execution_count": 11,
   "metadata": {
    "tags": []
   },
   "outputs": [],
   "source": [
    "ious_sparks_avg = {} # num training x num exclusion radius\n",
    "ious_puffs_avg = {}\n",
    "ious_waves_avg = {}\n",
    "\n",
    "for training_name in training_names:\n",
    "    num_videos = len(ious_sparks_all_trainings[training_name])\n",
    "    \n",
    "    ious_sparks_all_video = ious_sparks_all_trainings[training_name] # num videos x num exclusion radius\n",
    "    ious_puffs_all_video = ious_puffs_all_trainings[training_name] \n",
    "    ious_waves_all_video = ious_waves_all_trainings[training_name]\n",
    "    \n",
    "    ious_sparks_avg[training_name] = np.sum(np.array([list(res.values()) for res in ious_sparks_all_video.values()]),0)/num_videos\n",
    "    ious_puffs_avg[training_name] = np.sum(np.array([list(res.values()) for res in ious_puffs_all_video.values()]),0)/num_videos\n",
    "    ious_waves_avg[training_name] = np.sum(np.array([list(res.values()) for res in ious_waves_all_video.values()]),0)/num_videos"
   ]
  },
  {
   "cell_type": "markdown",
   "metadata": {
    "tags": []
   },
   "source": [
    "### Plot average IoU for all trainings and all classes wrt to exclusion radius"
   ]
  },
  {
   "cell_type": "code",
   "execution_count": 12,
   "metadata": {
    "tags": []
   },
   "outputs": [],
   "source": [
    "cols = pd.Index(exclusion_radius_list, name='Exclusion radius')\n",
    "classes = ['Sparks', 'Puffs', 'Waves']\n",
    "rows = pd.MultiIndex.from_product([classes, training_names], names=['Class', 'Training name'])\n",
    "\n",
    "data = [*ious_sparks_avg.values(),\n",
    "        *ious_puffs_avg.values(),\n",
    "        *ious_waves_avg.values()\n",
    "       ]\n",
    "\n",
    "df = pd.DataFrame(data, rows, cols)"
   ]
  },
  {
   "cell_type": "code",
   "execution_count": 13,
   "metadata": {
    "tags": []
   },
   "outputs": [
    {
     "data": {
      "text/html": [
       "<div>\n",
       "<style scoped>\n",
       "    .dataframe tbody tr th:only-of-type {\n",
       "        vertical-align: middle;\n",
       "    }\n",
       "\n",
       "    .dataframe tbody tr th {\n",
       "        vertical-align: top;\n",
       "    }\n",
       "\n",
       "    .dataframe thead th {\n",
       "        text-align: right;\n",
       "    }\n",
       "</style>\n",
       "<table border=\"1\" class=\"dataframe\">\n",
       "  <thead>\n",
       "    <tr style=\"text-align: right;\">\n",
       "      <th></th>\n",
       "      <th>Exclusion radius</th>\n",
       "      <th>0</th>\n",
       "      <th>1</th>\n",
       "      <th>2</th>\n",
       "      <th>3</th>\n",
       "      <th>4</th>\n",
       "      <th>5</th>\n",
       "      <th>6</th>\n",
       "      <th>7</th>\n",
       "      <th>8</th>\n",
       "      <th>9</th>\n",
       "      <th>10</th>\n",
       "    </tr>\n",
       "    <tr>\n",
       "      <th>Class</th>\n",
       "      <th>Training name</th>\n",
       "      <th></th>\n",
       "      <th></th>\n",
       "      <th></th>\n",
       "      <th></th>\n",
       "      <th></th>\n",
       "      <th></th>\n",
       "      <th></th>\n",
       "      <th></th>\n",
       "      <th></th>\n",
       "      <th></th>\n",
       "      <th></th>\n",
       "    </tr>\n",
       "  </thead>\n",
       "  <tbody>\n",
       "    <tr>\n",
       "      <th>Sparks</th>\n",
       "      <th>focal_loss_gamma_5_ubelix</th>\n",
       "      <td>0.111355</td>\n",
       "      <td>0.116198</td>\n",
       "      <td>0.118321</td>\n",
       "      <td>0.119828</td>\n",
       "      <td>0.120919</td>\n",
       "      <td>0.121744</td>\n",
       "      <td>0.122456</td>\n",
       "      <td>0.123084</td>\n",
       "      <td>0.123650</td>\n",
       "      <td>0.124255</td>\n",
       "      <td>0.125022</td>\n",
       "    </tr>\n",
       "    <tr>\n",
       "      <th>Puffs</th>\n",
       "      <th>focal_loss_gamma_5_ubelix</th>\n",
       "      <td>0.307379</td>\n",
       "      <td>0.319243</td>\n",
       "      <td>0.324484</td>\n",
       "      <td>0.327107</td>\n",
       "      <td>0.327145</td>\n",
       "      <td>0.325298</td>\n",
       "      <td>0.322010</td>\n",
       "      <td>0.317473</td>\n",
       "      <td>0.312107</td>\n",
       "      <td>0.305883</td>\n",
       "      <td>0.300132</td>\n",
       "    </tr>\n",
       "    <tr>\n",
       "      <th>Waves</th>\n",
       "      <th>focal_loss_gamma_5_ubelix</th>\n",
       "      <td>0.788636</td>\n",
       "      <td>0.800115</td>\n",
       "      <td>0.802833</td>\n",
       "      <td>0.805084</td>\n",
       "      <td>0.806882</td>\n",
       "      <td>0.808387</td>\n",
       "      <td>0.809571</td>\n",
       "      <td>0.810544</td>\n",
       "      <td>0.811264</td>\n",
       "      <td>0.811798</td>\n",
       "      <td>0.812080</td>\n",
       "    </tr>\n",
       "  </tbody>\n",
       "</table>\n",
       "</div>"
      ],
      "text/plain": [
       "Exclusion radius                        0         1         2         3   \\\n",
       "Class  Training name                                                       \n",
       "Sparks focal_loss_gamma_5_ubelix  0.111355  0.116198  0.118321  0.119828   \n",
       "Puffs  focal_loss_gamma_5_ubelix  0.307379  0.319243  0.324484  0.327107   \n",
       "Waves  focal_loss_gamma_5_ubelix  0.788636  0.800115  0.802833  0.805084   \n",
       "\n",
       "Exclusion radius                        4         5         6         7   \\\n",
       "Class  Training name                                                       \n",
       "Sparks focal_loss_gamma_5_ubelix  0.120919  0.121744  0.122456  0.123084   \n",
       "Puffs  focal_loss_gamma_5_ubelix  0.327145  0.325298  0.322010  0.317473   \n",
       "Waves  focal_loss_gamma_5_ubelix  0.806882  0.808387  0.809571  0.810544   \n",
       "\n",
       "Exclusion radius                        8         9         10  \n",
       "Class  Training name                                            \n",
       "Sparks focal_loss_gamma_5_ubelix  0.123650  0.124255  0.125022  \n",
       "Puffs  focal_loss_gamma_5_ubelix  0.312107  0.305883  0.300132  \n",
       "Waves  focal_loss_gamma_5_ubelix  0.811264  0.811798  0.812080  "
      ]
     },
     "metadata": {},
     "output_type": "display_data"
    }
   ],
   "source": [
    "display(df)"
   ]
  },
  {
   "cell_type": "code",
   "execution_count": 14,
   "metadata": {
    "tags": []
   },
   "outputs": [],
   "source": [
    "df.to_csv(\"average_IoU_all_trainings_excl_radius.csv\")"
   ]
  },
  {
   "cell_type": "code",
   "execution_count": 15,
   "metadata": {
    "tags": []
   },
   "outputs": [
    {
     "data": {
      "text/plain": [
       "Text(0.5, 0, 'Exclusion radius')"
      ]
     },
     "execution_count": 15,
     "metadata": {},
     "output_type": "execute_result"
    },
    {
     "data": {
      "image/png": "[encoded data removed]",
      "text/plain": [
       "<Figure size 1440x864 with 4 Axes>"
      ]
     },
     "metadata": {
      "needs_background": "light"
     },
     "output_type": "display_data"
    }
   ],
   "source": [
    "fig, axs = plt.subplots(1, 3, sharex=True, figsize=(20,12))\n",
    "fig.add_subplot(111, frameon=False)\n",
    "\n",
    "for training_name in training_names:\n",
    "    axs[0].plot(exclusion_radius_list, ious_sparks_avg[training_name], label=training_name)\n",
    "           \n",
    "axs[0].set_title('Sparks IoU')\n",
    "axs[0].set_ylim([0,1])\n",
    "axs[0].legend(shadow=True, fancybox=True)\n",
    "\n",
    "for training_name in training_names:\n",
    "    axs[1].plot(exclusion_radius_list, ious_puffs_avg[training_name], label=training_name)\n",
    "\n",
    "axs[1].set_title('Puffs IoU')\n",
    "axs[1].set_ylim([0,1])\n",
    "axs[1].legend(shadow=True, fancybox=True)\n",
    "\n",
    "for training_name in training_names:\n",
    "    axs[2].plot(exclusion_radius_list, ious_waves_avg[training_name], label=training_name)\n",
    "\n",
    "axs[2].set_title('Waves IoU')\n",
    "axs[2].set_ylim([0,1])\n",
    "axs[2].legend(shadow=True, fancybox=True)\n",
    "\n",
    "plt.tick_params(labelcolor='none', which='both', top=False, bottom=False, left=False, right=False)\n",
    "plt.xlabel(\"Exclusion radius\")"
   ]
  },
  {
   "cell_type": "code",
   "execution_count": 16,
   "metadata": {
    "tags": []
   },
   "outputs": [],
   "source": [
    "fig.savefig(\"average_IoU_all_trainings_excl_radius.png\")"
   ]
  },
  {
   "cell_type": "markdown",
   "metadata": {
    "jp-MarkdownHeadingCollapsed": true,
    "tags": []
   },
   "source": [
    "## Plot average IoU for different minimal event radius (just for one training)"
   ]
  },
  {
   "cell_type": "code",
   "execution_count": 38,
   "metadata": {
    "collapsed": true,
    "jupyter": {
     "outputs_hidden": true
    },
    "tags": []
   },
   "outputs": [
    {
     "ename": "ValueError",
     "evalue": "operands could not be broadcast together with remapped shapes [original->remapped]: (3,1)  and requested shape (0,2)",
     "output_type": "error",
     "traceback": [
      "\u001b[1;31m---------------------------------------------------------------------------\u001b[0m",
      "\u001b[1;31mValueError\u001b[0m                                Traceback (most recent call last)",
      "\u001b[1;32m~\\AppData\\Local\\Temp/ipykernel_494564/278258154.py\u001b[0m in \u001b[0;36m<module>\u001b[1;34m\u001b[0m\n\u001b[0;32m     29\u001b[0m     \u001b[1;32mfor\u001b[0m \u001b[0msparks_sample\u001b[0m\u001b[1;33m,\u001b[0m \u001b[0mpuffs_sample\u001b[0m\u001b[1;33m,\u001b[0m \u001b[0mwaves_sample\u001b[0m\u001b[1;33m,\u001b[0m \u001b[0mys_sample\u001b[0m \u001b[1;32min\u001b[0m \u001b[0mzip\u001b[0m\u001b[1;33m(\u001b[0m\u001b[0msparks_training\u001b[0m\u001b[1;33m,\u001b[0m \u001b[0mpuffs_training\u001b[0m\u001b[1;33m,\u001b[0m \u001b[0mwaves_training\u001b[0m\u001b[1;33m,\u001b[0m \u001b[0mys_all_trainings\u001b[0m\u001b[1;33m)\u001b[0m\u001b[1;33m:\u001b[0m\u001b[1;33m\u001b[0m\u001b[1;33m\u001b[0m\u001b[0m\n\u001b[0;32m     30\u001b[0m         \u001b[1;31m# get binary predictions and remove ignored frames\u001b[0m\u001b[1;33m\u001b[0m\u001b[1;33m\u001b[0m\u001b[1;33m\u001b[0m\u001b[0m\n\u001b[1;32m---> 31\u001b[1;33m         puffs_binary = process_puff_prediction(puffs_sample, \n\u001b[0m\u001b[0;32m     32\u001b[0m                                                \u001b[0mt_detection\u001b[0m\u001b[1;33m,\u001b[0m\u001b[1;33m\u001b[0m\u001b[1;33m\u001b[0m\u001b[0m\n\u001b[0;32m     33\u001b[0m                                                \u001b[0mr\u001b[0m\u001b[1;33m,\u001b[0m\u001b[1;33m\u001b[0m\u001b[1;33m\u001b[0m\u001b[0m\n",
      "\u001b[1;32m~\\sparks_project\\sparks\\metrics_tools.py\u001b[0m in \u001b[0;36mprocess_puff_prediction\u001b[1;34m(pred, t_detection, min_radius, ignore_frames)\u001b[0m\n\u001b[0;32m    367\u001b[0m     \u001b[1;31m# set first and last frames to 0 according to ignore_frames\u001b[0m\u001b[1;33m\u001b[0m\u001b[1;33m\u001b[0m\u001b[1;33m\u001b[0m\u001b[0m\n\u001b[0;32m    368\u001b[0m     \u001b[1;32mif\u001b[0m \u001b[0mignore_frames\u001b[0m \u001b[1;33m!=\u001b[0m \u001b[1;36m0\u001b[0m\u001b[1;33m:\u001b[0m\u001b[1;33m\u001b[0m\u001b[1;33m\u001b[0m\u001b[0m\n\u001b[1;32m--> 369\u001b[1;33m         \u001b[0mpred_puffs\u001b[0m \u001b[1;33m=\u001b[0m \u001b[0mempty_marginal_frames\u001b[0m\u001b[1;33m(\u001b[0m\u001b[0mpred\u001b[0m\u001b[1;33m,\u001b[0m \u001b[0mignore_frames\u001b[0m\u001b[1;33m)\u001b[0m\u001b[1;33m\u001b[0m\u001b[1;33m\u001b[0m\u001b[0m\n\u001b[0m\u001b[0;32m    370\u001b[0m \u001b[1;33m\u001b[0m\u001b[0m\n\u001b[0;32m    371\u001b[0m     \u001b[1;31m# remove small objects\u001b[0m\u001b[1;33m\u001b[0m\u001b[1;33m\u001b[0m\u001b[1;33m\u001b[0m\u001b[0m\n",
      "\u001b[1;32m~\\sparks_project\\sparks\\metrics_tools.py\u001b[0m in \u001b[0;36mempty_marginal_frames\u001b[1;34m(video, n_frames)\u001b[0m\n\u001b[0;32m     42\u001b[0m     \u001b[1;32mif\u001b[0m \u001b[0mn_frames\u001b[0m \u001b[1;33m!=\u001b[0m \u001b[1;36m0\u001b[0m\u001b[1;33m:\u001b[0m\u001b[1;33m\u001b[0m\u001b[1;33m\u001b[0m\u001b[0m\n\u001b[0;32m     43\u001b[0m         \u001b[0mnew_video\u001b[0m \u001b[1;33m=\u001b[0m \u001b[0mvideo\u001b[0m\u001b[1;33m[\u001b[0m\u001b[0mn_frames\u001b[0m\u001b[1;33m:\u001b[0m\u001b[1;33m-\u001b[0m\u001b[0mn_frames\u001b[0m\u001b[1;33m]\u001b[0m\u001b[1;33m\u001b[0m\u001b[1;33m\u001b[0m\u001b[0m\n\u001b[1;32m---> 44\u001b[1;33m         \u001b[0mnew_video\u001b[0m \u001b[1;33m=\u001b[0m \u001b[0mnp\u001b[0m\u001b[1;33m.\u001b[0m\u001b[0mpad\u001b[0m\u001b[1;33m(\u001b[0m\u001b[0mnew_video\u001b[0m\u001b[1;33m,\u001b[0m\u001b[1;33m(\u001b[0m\u001b[1;33m(\u001b[0m\u001b[0mn_frames\u001b[0m\u001b[1;33m,\u001b[0m\u001b[1;33m)\u001b[0m\u001b[1;33m,\u001b[0m\u001b[1;33m(\u001b[0m\u001b[1;36m0\u001b[0m\u001b[1;33m,\u001b[0m\u001b[1;33m)\u001b[0m\u001b[1;33m,\u001b[0m\u001b[1;33m(\u001b[0m\u001b[1;36m0\u001b[0m\u001b[1;33m,\u001b[0m\u001b[1;33m)\u001b[0m\u001b[1;33m)\u001b[0m\u001b[1;33m,\u001b[0m \u001b[0mmode\u001b[0m\u001b[1;33m=\u001b[0m\u001b[1;34m'constant'\u001b[0m\u001b[1;33m)\u001b[0m\u001b[1;33m\u001b[0m\u001b[1;33m\u001b[0m\u001b[0m\n\u001b[0m\u001b[0;32m     45\u001b[0m     \u001b[1;32melse\u001b[0m\u001b[1;33m:\u001b[0m \u001b[0mnew_video\u001b[0m \u001b[1;33m=\u001b[0m \u001b[0mvideo\u001b[0m\u001b[1;33m\u001b[0m\u001b[1;33m\u001b[0m\u001b[0m\n\u001b[0;32m     46\u001b[0m \u001b[1;33m\u001b[0m\u001b[0m\n",
      "\u001b[1;32m<__array_function__ internals>\u001b[0m in \u001b[0;36mpad\u001b[1;34m(*args, **kwargs)\u001b[0m\n",
      "\u001b[1;32m~\\.conda\\envs\\sparks\\lib\\site-packages\\numpy\\lib\\arraypad.py\u001b[0m in \u001b[0;36mpad\u001b[1;34m(array, pad_width, mode, **kwargs)\u001b[0m\n\u001b[0;32m    741\u001b[0m \u001b[1;33m\u001b[0m\u001b[0m\n\u001b[0;32m    742\u001b[0m     \u001b[1;31m# Broadcast to shape (array.ndim, 2)\u001b[0m\u001b[1;33m\u001b[0m\u001b[1;33m\u001b[0m\u001b[1;33m\u001b[0m\u001b[0m\n\u001b[1;32m--> 743\u001b[1;33m     \u001b[0mpad_width\u001b[0m \u001b[1;33m=\u001b[0m \u001b[0m_as_pairs\u001b[0m\u001b[1;33m(\u001b[0m\u001b[0mpad_width\u001b[0m\u001b[1;33m,\u001b[0m \u001b[0marray\u001b[0m\u001b[1;33m.\u001b[0m\u001b[0mndim\u001b[0m\u001b[1;33m,\u001b[0m \u001b[0mas_index\u001b[0m\u001b[1;33m=\u001b[0m\u001b[1;32mTrue\u001b[0m\u001b[1;33m)\u001b[0m\u001b[1;33m\u001b[0m\u001b[1;33m\u001b[0m\u001b[0m\n\u001b[0m\u001b[0;32m    744\u001b[0m \u001b[1;33m\u001b[0m\u001b[0m\n\u001b[0;32m    745\u001b[0m     \u001b[1;32mif\u001b[0m \u001b[0mcallable\u001b[0m\u001b[1;33m(\u001b[0m\u001b[0mmode\u001b[0m\u001b[1;33m)\u001b[0m\u001b[1;33m:\u001b[0m\u001b[1;33m\u001b[0m\u001b[1;33m\u001b[0m\u001b[0m\n",
      "\u001b[1;32m~\\.conda\\envs\\sparks\\lib\\site-packages\\numpy\\lib\\arraypad.py\u001b[0m in \u001b[0;36m_as_pairs\u001b[1;34m(x, ndim, as_index)\u001b[0m\n\u001b[0;32m    516\u001b[0m     \u001b[1;31m# Converting the array with `tolist` seems to improve performance\u001b[0m\u001b[1;33m\u001b[0m\u001b[1;33m\u001b[0m\u001b[1;33m\u001b[0m\u001b[0m\n\u001b[0;32m    517\u001b[0m     \u001b[1;31m# when iterating and indexing the result (see usage in `pad`)\u001b[0m\u001b[1;33m\u001b[0m\u001b[1;33m\u001b[0m\u001b[1;33m\u001b[0m\u001b[0m\n\u001b[1;32m--> 518\u001b[1;33m     \u001b[1;32mreturn\u001b[0m \u001b[0mnp\u001b[0m\u001b[1;33m.\u001b[0m\u001b[0mbroadcast_to\u001b[0m\u001b[1;33m(\u001b[0m\u001b[0mx\u001b[0m\u001b[1;33m,\u001b[0m \u001b[1;33m(\u001b[0m\u001b[0mndim\u001b[0m\u001b[1;33m,\u001b[0m \u001b[1;36m2\u001b[0m\u001b[1;33m)\u001b[0m\u001b[1;33m)\u001b[0m\u001b[1;33m.\u001b[0m\u001b[0mtolist\u001b[0m\u001b[1;33m(\u001b[0m\u001b[1;33m)\u001b[0m\u001b[1;33m\u001b[0m\u001b[1;33m\u001b[0m\u001b[0m\n\u001b[0m\u001b[0;32m    519\u001b[0m \u001b[1;33m\u001b[0m\u001b[0m\n\u001b[0;32m    520\u001b[0m \u001b[1;33m\u001b[0m\u001b[0m\n",
      "\u001b[1;32m<__array_function__ internals>\u001b[0m in \u001b[0;36mbroadcast_to\u001b[1;34m(*args, **kwargs)\u001b[0m\n",
      "\u001b[1;32m~\\.conda\\envs\\sparks\\lib\\site-packages\\numpy\\lib\\stride_tricks.py\u001b[0m in \u001b[0;36mbroadcast_to\u001b[1;34m(array, shape, subok)\u001b[0m\n\u001b[0;32m    409\u001b[0m            [1, 2, 3]])\n\u001b[0;32m    410\u001b[0m     \"\"\"\n\u001b[1;32m--> 411\u001b[1;33m     \u001b[1;32mreturn\u001b[0m \u001b[0m_broadcast_to\u001b[0m\u001b[1;33m(\u001b[0m\u001b[0marray\u001b[0m\u001b[1;33m,\u001b[0m \u001b[0mshape\u001b[0m\u001b[1;33m,\u001b[0m \u001b[0msubok\u001b[0m\u001b[1;33m=\u001b[0m\u001b[0msubok\u001b[0m\u001b[1;33m,\u001b[0m \u001b[0mreadonly\u001b[0m\u001b[1;33m=\u001b[0m\u001b[1;32mTrue\u001b[0m\u001b[1;33m)\u001b[0m\u001b[1;33m\u001b[0m\u001b[1;33m\u001b[0m\u001b[0m\n\u001b[0m\u001b[0;32m    412\u001b[0m \u001b[1;33m\u001b[0m\u001b[0m\n\u001b[0;32m    413\u001b[0m \u001b[1;33m\u001b[0m\u001b[0m\n",
      "\u001b[1;32m~\\.conda\\envs\\sparks\\lib\\site-packages\\numpy\\lib\\stride_tricks.py\u001b[0m in \u001b[0;36m_broadcast_to\u001b[1;34m(array, shape, subok, readonly)\u001b[0m\n\u001b[0;32m    346\u001b[0m                          'negative')\n\u001b[0;32m    347\u001b[0m     \u001b[0mextras\u001b[0m \u001b[1;33m=\u001b[0m \u001b[1;33m[\u001b[0m\u001b[1;33m]\u001b[0m\u001b[1;33m\u001b[0m\u001b[1;33m\u001b[0m\u001b[0m\n\u001b[1;32m--> 348\u001b[1;33m     it = np.nditer(\n\u001b[0m\u001b[0;32m    349\u001b[0m         \u001b[1;33m(\u001b[0m\u001b[0marray\u001b[0m\u001b[1;33m,\u001b[0m\u001b[1;33m)\u001b[0m\u001b[1;33m,\u001b[0m \u001b[0mflags\u001b[0m\u001b[1;33m=\u001b[0m\u001b[1;33m[\u001b[0m\u001b[1;34m'multi_index'\u001b[0m\u001b[1;33m,\u001b[0m \u001b[1;34m'refs_ok'\u001b[0m\u001b[1;33m,\u001b[0m \u001b[1;34m'zerosize_ok'\u001b[0m\u001b[1;33m]\u001b[0m \u001b[1;33m+\u001b[0m \u001b[0mextras\u001b[0m\u001b[1;33m,\u001b[0m\u001b[1;33m\u001b[0m\u001b[1;33m\u001b[0m\u001b[0m\n\u001b[0;32m    350\u001b[0m         op_flags=['readonly'], itershape=shape, order='C')\n",
      "\u001b[1;31mValueError\u001b[0m: operands could not be broadcast together with remapped shapes [original->remapped]: (3,1)  and requested shape (0,2)"
     ]
    }
   ],
   "source": [
    "# set sample training\n",
    "training_name = training_names[0]\n",
    "\n",
    "# parameters\n",
    "ignore_frames = 6\n",
    "\n",
    "t_detection = 0.5\n",
    "t_detection_sparks = 0.9\n",
    "\n",
    "min_radius = [0,1,2,3,4]#,5,6,7,8,9,10]\n",
    "\n",
    "exclusion_radius_list = [0,1,2,3,4,5,6,7,8,9,10]\n",
    "\n",
    "# each dictionary contains, for every minimal event radius, a list of IoU scores averaged on all videos for all exclusion radius\n",
    "ious_sparks_all_radius = {} # num min event radius x num ious_sparks_avg_radiususion radius\n",
    "ious_puffs_all_radius = {}\n",
    "ious_waves_all_radius = {}\n",
    "\n",
    "for r in min_radius:\n",
    "    # get predictions\n",
    "    sparks_training = sparks[training_name]\n",
    "    puffs_training = puffs[training_name]\n",
    "    waves_training = waves[training_name]\n",
    "    \n",
    "    ious_puffs_all_video = []\n",
    "    ious_waves_all_video = []\n",
    "    ious_sparks_all_video = []\n",
    "    \n",
    "    for sparks_sample, puffs_sample, waves_sample, ys_sample in zip(sparks_training, puffs_training, waves_training, ys_all_trainings):\n",
    "        # get binary predictions and remove ignored frames\n",
    "        puffs_binary = process_puff_prediction(puffs_sample, \n",
    "                                               t_detection, \n",
    "                                               r, \n",
    "                                               ignore_frames)\n",
    "        waves_binary = process_wave_prediction(waves_sample, \n",
    "                                               t_detection, \n",
    "                                               r, \n",
    "                                               ignore_frames)\n",
    "        sparks_binary = (process_spark_prediction(sparks_sample, \n",
    "                                                  t_detection=t_detection_sparks,\n",
    "                                                  min_radius=r,\n",
    "                                                  ignore_frames=ignore_frames,\n",
    "                                                  return_clean_pred=True)) != 0 \n",
    "        \n",
    "        # get binary ys and remove ignored frames\n",
    "        ys_sparks_sample = empty_marginal_frames(np.where(ys_sample==1,1,0), ignore_frames)\n",
    "        ys_puffs_sample = empty_marginal_frames(np.where(ys_sample==3,1,0), ignore_frames)\n",
    "        ys_waves_sample = empty_marginal_frames(np.where(ys_sample==2,1,0), ignore_frames)\n",
    "        \n",
    "        # get ignore regions during training\n",
    "        ignore_mask =  empty_marginal_frames(np.where(ys_sample==4,1,0), ignore_frames)\n",
    "        \n",
    "        \n",
    "        # compute IoU for some exclusion radius values\n",
    "        # puffs\n",
    "        ious_puffs = []\n",
    "        for radius in exclusion_radius_list:\n",
    "            ious_puffs.append(jaccard_score_exclusion_zone(ys_puffs_sample, puffs_binary, radius, ignore_mask))\n",
    "            \n",
    "        ious_puffs_all_video.append(ious_puffs)\n",
    "\n",
    "        # waves\n",
    "        ious_waves = []\n",
    "        for radius in exclusion_radius_list:\n",
    "            ious_waves.append(jaccard_score_exclusion_zone(ys_waves_sample, waves_binary, radius, ignore_mask))\n",
    "            \n",
    "        ious_waves_all_video.append(ious_waves)\n",
    "\n",
    "        # sparks\n",
    "        ious_sparks = []\n",
    "        for radius in exclusion_radius_list:\n",
    "            ious_sparks.append(jaccard_score_exclusion_zone(ys_sparks_sample, sparks_binary, radius, ignore_mask, sparks=True))\n",
    "            \n",
    "        ious_sparks_all_video.append(ious_sparks)\n",
    "        \n",
    "    ious_sparks_all_radius[r] = ious_sparks_all_video\n",
    "    ious_puffs_all_radius[r] = ious_puffs_all_video\n",
    "    ious_waves_all_radius[r] = ious_waves_all_video"
   ]
  },
  {
   "cell_type": "markdown",
   "metadata": {
    "tags": []
   },
   "source": [
    "### Compute average along videos of IoU for each exclusion radius for each minimal event radius"
   ]
  },
  {
   "cell_type": "code",
   "execution_count": 27,
   "metadata": {
    "tags": []
   },
   "outputs": [],
   "source": [
    "ious_sparks_avg_radius = {} # num min event radius x num exclusion radius\n",
    "ious_puffs_avg_radius = {}\n",
    "ious_waves_avg_radius = {}\n",
    "\n",
    "for r in min_radius:\n",
    "    num_videos = len(ious_sparks_all_radius[r])\n",
    "    \n",
    "    ious_sparks_all_video = ious_sparks_all_radius[r] # num videos x num exclusion radius\n",
    "    ious_puffs_all_video = ious_puffs_all_radius[r] \n",
    "    ious_waves_all_video = ious_waves_all_radius[r] \n",
    "    \n",
    "    ious_sparks_avg_radius[r] = np.sum(np.asarray(ious_sparks_all_video),0)/num_videos\n",
    "    ious_puffs_avg_radius[r] = np.sum(np.asarray(ious_puffs_all_video),0)/num_videos\n",
    "    ious_waves_avg_radius[r] = np.sum(np.asarray(ious_waves_all_video),0)/num_videos"
   ]
  },
  {
   "cell_type": "markdown",
   "metadata": {
    "tags": []
   },
   "source": [
    "### Plot average IoU for all minimal event radius and all classes wrt to exclusion radius"
   ]
  },
  {
   "cell_type": "code",
   "execution_count": 28,
   "metadata": {
    "tags": []
   },
   "outputs": [],
   "source": [
    "cols = pd.Index(exclusion_radius_list, name='Exclusion radius')\n",
    "classes = ['Sparks', 'Puffs', 'Waves']\n",
    "rows = pd.MultiIndex.from_product([classes, min_radius], names=['Class', 'Minimal event radius'])\n",
    "\n",
    "data = [*ious_sparks_avg_radius.values(),\n",
    "        *ious_puffs_avg_radius.values(),\n",
    "        *ious_waves_avg_radius.values()\n",
    "       ]\n",
    "\n",
    "df = pd.DataFrame(data, rows, cols)"
   ]
  },
  {
   "cell_type": "code",
   "execution_count": 29,
   "metadata": {
    "tags": []
   },
   "outputs": [
    {
     "data": {
      "text/html": [
       "<div>\n",
       "<style scoped>\n",
       "    .dataframe tbody tr th:only-of-type {\n",
       "        vertical-align: middle;\n",
       "    }\n",
       "\n",
       "    .dataframe tbody tr th {\n",
       "        vertical-align: top;\n",
       "    }\n",
       "\n",
       "    .dataframe thead th {\n",
       "        text-align: right;\n",
       "    }\n",
       "</style>\n",
       "<table border=\"1\" class=\"dataframe\">\n",
       "  <thead>\n",
       "    <tr style=\"text-align: right;\">\n",
       "      <th></th>\n",
       "      <th>Exclusion radius</th>\n",
       "      <th>0</th>\n",
       "      <th>1</th>\n",
       "      <th>2</th>\n",
       "      <th>3</th>\n",
       "      <th>4</th>\n",
       "      <th>5</th>\n",
       "      <th>6</th>\n",
       "      <th>7</th>\n",
       "      <th>8</th>\n",
       "      <th>9</th>\n",
       "      <th>10</th>\n",
       "    </tr>\n",
       "    <tr>\n",
       "      <th>Class</th>\n",
       "      <th>Minimal event radius</th>\n",
       "      <th></th>\n",
       "      <th></th>\n",
       "      <th></th>\n",
       "      <th></th>\n",
       "      <th></th>\n",
       "      <th></th>\n",
       "      <th></th>\n",
       "      <th></th>\n",
       "      <th></th>\n",
       "      <th></th>\n",
       "      <th></th>\n",
       "    </tr>\n",
       "  </thead>\n",
       "  <tbody>\n",
       "    <tr>\n",
       "      <th rowspan=\"5\" valign=\"top\">Sparks</th>\n",
       "      <th>0</th>\n",
       "      <td>0.116289</td>\n",
       "      <td>0.121549</td>\n",
       "      <td>0.124016</td>\n",
       "      <td>0.125769</td>\n",
       "      <td>0.126827</td>\n",
       "      <td>0.127459</td>\n",
       "      <td>0.127829</td>\n",
       "      <td>0.128049</td>\n",
       "      <td>0.128149</td>\n",
       "      <td>0.128194</td>\n",
       "      <td>0.128251</td>\n",
       "    </tr>\n",
       "    <tr>\n",
       "      <th>1</th>\n",
       "      <td>0.116353</td>\n",
       "      <td>0.121615</td>\n",
       "      <td>0.124085</td>\n",
       "      <td>0.125840</td>\n",
       "      <td>0.126898</td>\n",
       "      <td>0.127530</td>\n",
       "      <td>0.127900</td>\n",
       "      <td>0.128119</td>\n",
       "      <td>0.128220</td>\n",
       "      <td>0.128264</td>\n",
       "      <td>0.128320</td>\n",
       "    </tr>\n",
       "    <tr>\n",
       "      <th>2</th>\n",
       "      <td>0.116751</td>\n",
       "      <td>0.122073</td>\n",
       "      <td>0.124606</td>\n",
       "      <td>0.126406</td>\n",
       "      <td>0.127487</td>\n",
       "      <td>0.128136</td>\n",
       "      <td>0.128517</td>\n",
       "      <td>0.128742</td>\n",
       "      <td>0.128843</td>\n",
       "      <td>0.128886</td>\n",
       "      <td>0.128937</td>\n",
       "    </tr>\n",
       "    <tr>\n",
       "      <th>3</th>\n",
       "      <td>0.103926</td>\n",
       "      <td>0.108681</td>\n",
       "      <td>0.110933</td>\n",
       "      <td>0.112574</td>\n",
       "      <td>0.113627</td>\n",
       "      <td>0.114285</td>\n",
       "      <td>0.114670</td>\n",
       "      <td>0.114889</td>\n",
       "      <td>0.114978</td>\n",
       "      <td>0.115004</td>\n",
       "      <td>0.115034</td>\n",
       "    </tr>\n",
       "    <tr>\n",
       "      <th>4</th>\n",
       "      <td>0.076986</td>\n",
       "      <td>0.080729</td>\n",
       "      <td>0.082704</td>\n",
       "      <td>0.084224</td>\n",
       "      <td>0.085273</td>\n",
       "      <td>0.085928</td>\n",
       "      <td>0.086289</td>\n",
       "      <td>0.086464</td>\n",
       "      <td>0.086526</td>\n",
       "      <td>0.086543</td>\n",
       "      <td>0.086592</td>\n",
       "    </tr>\n",
       "    <tr>\n",
       "      <th rowspan=\"5\" valign=\"top\">Puffs</th>\n",
       "      <th>0</th>\n",
       "      <td>0.195051</td>\n",
       "      <td>0.205668</td>\n",
       "      <td>0.210015</td>\n",
       "      <td>0.212122</td>\n",
       "      <td>0.213422</td>\n",
       "      <td>0.215477</td>\n",
       "      <td>0.218401</td>\n",
       "      <td>0.221077</td>\n",
       "      <td>0.223142</td>\n",
       "      <td>0.224177</td>\n",
       "      <td>0.223890</td>\n",
       "    </tr>\n",
       "    <tr>\n",
       "      <th>1</th>\n",
       "      <td>0.195059</td>\n",
       "      <td>0.205676</td>\n",
       "      <td>0.210027</td>\n",
       "      <td>0.212133</td>\n",
       "      <td>0.213432</td>\n",
       "      <td>0.215484</td>\n",
       "      <td>0.218405</td>\n",
       "      <td>0.221079</td>\n",
       "      <td>0.223143</td>\n",
       "      <td>0.224178</td>\n",
       "      <td>0.223891</td>\n",
       "    </tr>\n",
       "    <tr>\n",
       "      <th>2</th>\n",
       "      <td>0.195131</td>\n",
       "      <td>0.205738</td>\n",
       "      <td>0.210082</td>\n",
       "      <td>0.212183</td>\n",
       "      <td>0.213470</td>\n",
       "      <td>0.215500</td>\n",
       "      <td>0.218409</td>\n",
       "      <td>0.221071</td>\n",
       "      <td>0.223128</td>\n",
       "      <td>0.224159</td>\n",
       "      <td>0.223877</td>\n",
       "    </tr>\n",
       "    <tr>\n",
       "      <th>3</th>\n",
       "      <td>0.195202</td>\n",
       "      <td>0.205803</td>\n",
       "      <td>0.210151</td>\n",
       "      <td>0.212229</td>\n",
       "      <td>0.213474</td>\n",
       "      <td>0.215464</td>\n",
       "      <td>0.218364</td>\n",
       "      <td>0.221037</td>\n",
       "      <td>0.223125</td>\n",
       "      <td>0.224159</td>\n",
       "      <td>0.223877</td>\n",
       "    </tr>\n",
       "    <tr>\n",
       "      <th>4</th>\n",
       "      <td>0.195353</td>\n",
       "      <td>0.205897</td>\n",
       "      <td>0.210204</td>\n",
       "      <td>0.212282</td>\n",
       "      <td>0.213591</td>\n",
       "      <td>0.215688</td>\n",
       "      <td>0.218741</td>\n",
       "      <td>0.221614</td>\n",
       "      <td>0.223923</td>\n",
       "      <td>0.225162</td>\n",
       "      <td>0.225099</td>\n",
       "    </tr>\n",
       "    <tr>\n",
       "      <th rowspan=\"5\" valign=\"top\">Waves</th>\n",
       "      <th>0</th>\n",
       "      <td>0.787339</td>\n",
       "      <td>0.799457</td>\n",
       "      <td>0.802117</td>\n",
       "      <td>0.804287</td>\n",
       "      <td>0.806003</td>\n",
       "      <td>0.807289</td>\n",
       "      <td>0.808214</td>\n",
       "      <td>0.808830</td>\n",
       "      <td>0.809212</td>\n",
       "      <td>0.809271</td>\n",
       "      <td>0.808954</td>\n",
       "    </tr>\n",
       "    <tr>\n",
       "      <th>1</th>\n",
       "      <td>0.787339</td>\n",
       "      <td>0.799457</td>\n",
       "      <td>0.802117</td>\n",
       "      <td>0.804288</td>\n",
       "      <td>0.806003</td>\n",
       "      <td>0.807289</td>\n",
       "      <td>0.808214</td>\n",
       "      <td>0.808831</td>\n",
       "      <td>0.809213</td>\n",
       "      <td>0.809273</td>\n",
       "      <td>0.808955</td>\n",
       "    </tr>\n",
       "    <tr>\n",
       "      <th>2</th>\n",
       "      <td>0.787344</td>\n",
       "      <td>0.799462</td>\n",
       "      <td>0.802123</td>\n",
       "      <td>0.804294</td>\n",
       "      <td>0.806010</td>\n",
       "      <td>0.807297</td>\n",
       "      <td>0.808223</td>\n",
       "      <td>0.808841</td>\n",
       "      <td>0.809224</td>\n",
       "      <td>0.809285</td>\n",
       "      <td>0.808968</td>\n",
       "    </tr>\n",
       "    <tr>\n",
       "      <th>3</th>\n",
       "      <td>0.787349</td>\n",
       "      <td>0.799467</td>\n",
       "      <td>0.802127</td>\n",
       "      <td>0.804299</td>\n",
       "      <td>0.806015</td>\n",
       "      <td>0.807302</td>\n",
       "      <td>0.808228</td>\n",
       "      <td>0.808846</td>\n",
       "      <td>0.809229</td>\n",
       "      <td>0.809289</td>\n",
       "      <td>0.808972</td>\n",
       "    </tr>\n",
       "    <tr>\n",
       "      <th>4</th>\n",
       "      <td>0.787358</td>\n",
       "      <td>0.799477</td>\n",
       "      <td>0.802138</td>\n",
       "      <td>0.804309</td>\n",
       "      <td>0.806025</td>\n",
       "      <td>0.807312</td>\n",
       "      <td>0.808238</td>\n",
       "      <td>0.808856</td>\n",
       "      <td>0.809239</td>\n",
       "      <td>0.809299</td>\n",
       "      <td>0.808982</td>\n",
       "    </tr>\n",
       "  </tbody>\n",
       "</table>\n",
       "</div>"
      ],
      "text/plain": [
       "Exclusion radius                   0         1         2         3         4   \\\n",
       "Class  Minimal event radius                                                     \n",
       "Sparks 0                     0.116289  0.121549  0.124016  0.125769  0.126827   \n",
       "       1                     0.116353  0.121615  0.124085  0.125840  0.126898   \n",
       "       2                     0.116751  0.122073  0.124606  0.126406  0.127487   \n",
       "       3                     0.103926  0.108681  0.110933  0.112574  0.113627   \n",
       "       4                     0.076986  0.080729  0.082704  0.084224  0.085273   \n",
       "Puffs  0                     0.195051  0.205668  0.210015  0.212122  0.213422   \n",
       "       1                     0.195059  0.205676  0.210027  0.212133  0.213432   \n",
       "       2                     0.195131  0.205738  0.210082  0.212183  0.213470   \n",
       "       3                     0.195202  0.205803  0.210151  0.212229  0.213474   \n",
       "       4                     0.195353  0.205897  0.210204  0.212282  0.213591   \n",
       "Waves  0                     0.787339  0.799457  0.802117  0.804287  0.806003   \n",
       "       1                     0.787339  0.799457  0.802117  0.804288  0.806003   \n",
       "       2                     0.787344  0.799462  0.802123  0.804294  0.806010   \n",
       "       3                     0.787349  0.799467  0.802127  0.804299  0.806015   \n",
       "       4                     0.787358  0.799477  0.802138  0.804309  0.806025   \n",
       "\n",
       "Exclusion radius                   5         6         7         8         9   \\\n",
       "Class  Minimal event radius                                                     \n",
       "Sparks 0                     0.127459  0.127829  0.128049  0.128149  0.128194   \n",
       "       1                     0.127530  0.127900  0.128119  0.128220  0.128264   \n",
       "       2                     0.128136  0.128517  0.128742  0.128843  0.128886   \n",
       "       3                     0.114285  0.114670  0.114889  0.114978  0.115004   \n",
       "       4                     0.085928  0.086289  0.086464  0.086526  0.086543   \n",
       "Puffs  0                     0.215477  0.218401  0.221077  0.223142  0.224177   \n",
       "       1                     0.215484  0.218405  0.221079  0.223143  0.224178   \n",
       "       2                     0.215500  0.218409  0.221071  0.223128  0.224159   \n",
       "       3                     0.215464  0.218364  0.221037  0.223125  0.224159   \n",
       "       4                     0.215688  0.218741  0.221614  0.223923  0.225162   \n",
       "Waves  0                     0.807289  0.808214  0.808830  0.809212  0.809271   \n",
       "       1                     0.807289  0.808214  0.808831  0.809213  0.809273   \n",
       "       2                     0.807297  0.808223  0.808841  0.809224  0.809285   \n",
       "       3                     0.807302  0.808228  0.808846  0.809229  0.809289   \n",
       "       4                     0.807312  0.808238  0.808856  0.809239  0.809299   \n",
       "\n",
       "Exclusion radius                   10  \n",
       "Class  Minimal event radius            \n",
       "Sparks 0                     0.128251  \n",
       "       1                     0.128320  \n",
       "       2                     0.128937  \n",
       "       3                     0.115034  \n",
       "       4                     0.086592  \n",
       "Puffs  0                     0.223890  \n",
       "       1                     0.223891  \n",
       "       2                     0.223877  \n",
       "       3                     0.223877  \n",
       "       4                     0.225099  \n",
       "Waves  0                     0.808954  \n",
       "       1                     0.808955  \n",
       "       2                     0.808968  \n",
       "       3                     0.808972  \n",
       "       4                     0.808982  "
      ]
     },
     "metadata": {},
     "output_type": "display_data"
    }
   ],
   "source": [
    "display(df)"
   ]
  },
  {
   "cell_type": "code",
   "execution_count": 30,
   "metadata": {
    "tags": []
   },
   "outputs": [],
   "source": [
    "df.to_csv(\"average_IoU_different_min_event_size_excl_radius.csv\")"
   ]
  },
  {
   "cell_type": "code",
   "execution_count": 31,
   "metadata": {
    "collapsed": true,
    "jupyter": {
     "outputs_hidden": true
    },
    "tags": []
   },
   "outputs": [
    {
     "data": {
      "text/plain": [
       "Text(0.5, 0, 'Exclusion radius')"
      ]
     },
     "execution_count": 31,
     "metadata": {},
     "output_type": "execute_result"
    },
    {
     "data": {
      "image/png": "[encoded data removed]",
      "text/plain": [
       "<Figure size 1440x864 with 4 Axes>"
      ]
     },
     "metadata": {
      "needs_background": "light"
     },
     "output_type": "display_data"
    }
   ],
   "source": [
    "fig, axs = plt.subplots(1, 3, sharex=True, figsize=(20,12))\n",
    "fig.add_subplot(111, frameon=False)\n",
    "\n",
    "for r in min_radius:\n",
    "    axs[0].plot(exclusion_radius_list, ious_sparks_avg_radius[r], label=r)\n",
    "           \n",
    "axs[0].set_title('Sparks IoU')\n",
    "#axs[0].set_ylim([0,1])\n",
    "axs[0].legend(shadow=True, fancybox=True)\n",
    "\n",
    "for r in min_radius:\n",
    "    axs[1].plot(exclusion_radius_list, ious_puffs_avg_radius[r], label=r)\n",
    "\n",
    "axs[1].set_title('Puffs IoU')\n",
    "#axs[1].set_ylim([0,1])\n",
    "axs[1].legend(shadow=True, fancybox=True)\n",
    "\n",
    "for r in min_radius:\n",
    "    axs[2].plot(exclusion_radius_list, ious_waves_avg_radius[r], label=r)\n",
    "\n",
    "axs[2].set_title('Waves IoU')\n",
    "#axs[2].set_ylim([0,1])\n",
    "axs[2].legend(shadow=True, fancybox=True)\n",
    "\n",
    "plt.tick_params(labelcolor='none', which='both', top=False, bottom=False, left=False, right=False)\n",
    "plt.xlabel(\"Exclusion radius\")"
   ]
  },
  {
   "cell_type": "code",
   "execution_count": 32,
   "metadata": {
    "tags": []
   },
   "outputs": [],
   "source": [
    "fig.savefig(\"average_IoU_different_min_event_size_excl_radius.png\")"
   ]
  },
  {
   "cell_type": "markdown",
   "metadata": {
    "jp-MarkdownHeadingCollapsed": true,
    "tags": []
   },
   "source": [
    "## Compute joined IoU metric for puffs and waves (-> not worth it)"
   ]
  },
  {
   "cell_type": "code",
   "execution_count": 10,
   "metadata": {},
   "outputs": [
    {
     "name": "stdout",
     "output_type": "stream",
     "text": [
      "focal_loss_gamma_5_ubelix\n"
     ]
    }
   ],
   "source": [
    "# parameters\n",
    "ignore_frames = 6\n",
    "\n",
    "# for focal_loss_gamma_5_ubelix\n",
    "\n",
    "# puffs and waves params\n",
    "t_detection = 0.65\n",
    "min_radius_puffs = 6\n",
    "min_radius_waves = 8\n",
    "\n",
    "exclusion_radius_list = [0,1,2,3,4,5,6,7,8,9,10]\n",
    "\n",
    "# each dictionary contains, for every training name, a list of IoU scores for all videos for all exclusion radius\n",
    "ious_puffs_waves_all_trainings = {}\n",
    "\n",
    "for training_name in training_names:\n",
    "    print(training_name)\n",
    "    # get predictions\n",
    "    puffs_training = puffs[training_name]\n",
    "    waves_training = waves[training_name]\n",
    "        \n",
    "    ious_joined_all_video = {}\n",
    "    \n",
    "    for video_id in ys_all_trainings.keys():\n",
    "        ys_sample = ys_all_trainings[video_id]\n",
    "        puffs_sample = puffs_training[video_id]\n",
    "        waves_sample = waves_training[video_id]\n",
    "        \n",
    "        # get binary predictions and remove ignored frames\n",
    "        puffs_binary = process_puff_prediction(puffs_sample, \n",
    "                                               t_detection, \n",
    "                                               min_radius_puffs, \n",
    "                                               ignore_frames)\n",
    "        waves_binary = process_wave_prediction(waves_sample, \n",
    "                                               t_detection, \n",
    "                                               min_radius_waves, \n",
    "                                               ignore_frames)\n",
    "        joined_binary = np.logical_or(puffs_binary, waves_binary)\n",
    "        \n",
    "        # get binary ys and remove ignored frames\n",
    "        ys_puffs_sample = empty_marginal_frames(np.where(ys_sample==3,1,0), ignore_frames)\n",
    "        ys_waves_sample = empty_marginal_frames(np.where(ys_sample==2,1,0), ignore_frames)\n",
    "        ys_joined_sample = np.logical_or(ys_puffs_sample, ys_waves_sample)\n",
    "        \n",
    "        # get ignore mask (events labelled with 4)\n",
    "        ignore_mask = empty_marginal_frames(np.where(ys_sample==4,1,0), ignore_frames)\n",
    "        \n",
    "        # compute IoU for some exclusion radius values\n",
    "        ious_joined = {}\n",
    "        for radius in exclusion_radius_list:\n",
    "            ious_joined[radius] = jaccard_score_exclusion_zone(ys_joined_sample, joined_binary, radius, ignore_mask)\n",
    "            \n",
    "        ious_joined_all_video[video_id] = ious_joined\n",
    "\n",
    "    ious_puffs_waves_all_trainings[training_name] = ious_joined_all_video"
   ]
  },
  {
   "cell_type": "code",
   "execution_count": 11,
   "metadata": {
    "tags": []
   },
   "outputs": [
    {
     "name": "stdout",
     "output_type": "stream",
     "text": [
      "{'focal_loss_gamma_5_ubelix': {'05': {0: 0.14759088314881752,\n",
      "                                      1: 0.139164530721454,\n",
      "                                      2: 0.10952007091300493,\n",
      "                                      3: 0.07999067768081415,\n",
      "                                      4: 0.05123214434884304,\n",
      "                                      5: 0.027663039375343767,\n",
      "                                      6: 0.011261883705505196,\n",
      "                                      7: 0.0029556478954048367,\n",
      "                                      8: 0.0003009199552918924,\n",
      "                                      9: 0.0,\n",
      "                                      10: 0.0},\n",
      "                               '10': {0: 0.5663674907955643,\n",
      "                                      1: 0.6396018813866267,\n",
      "                                      2: 0.6982539775311736,\n",
      "                                      3: 0.7583326657752198,\n",
      "                                      4: 0.8181698381740551,\n",
      "                                      5: 0.8755733041778239,\n",
      "                                      6: 0.9264887556907873,\n",
      "                                      7: 0.9639263631253513,\n",
      "                                      8: 0.9878216123499143,\n",
      "                                      9: 0.9971351463566536,\n",
      "                                      10: 0.9994726334425735},\n",
      "                               '15': {0: 0.3342710057345936,\n",
      "                                      1: 0.36440037261546354,\n",
      "                                      2: 0.3934118083724383,\n",
      "                                      3: 0.4241684612032763,\n",
      "                                      4: 0.45633979714171535,\n",
      "                                      5: 0.4881790709441425,\n",
      "                                      6: 0.5170319438475863,\n",
      "                                      7: 0.5435037093959394,\n",
      "                                      8: 0.5696781826352523,\n",
      "                                      9: 0.5941935483870968,\n",
      "                                      10: 0.6170651932298117},\n",
      "                               '20': {0: 0.18171370985564386,\n",
      "                                      1: 0.19623800948730705,\n",
      "                                      2: 0.2007435403898229,\n",
      "                                      3: 0.19382459404846705,\n",
      "                                      4: 0.17486772187036176,\n",
      "                                      5: 0.14830894746161766,\n",
      "                                      6: 0.11903570548390228,\n",
      "                                      7: 0.09079069301475193,\n",
      "                                      8: 0.06454186189380255,\n",
      "                                      9: 0.04204284469786965,\n",
      "                                      10: 0.022957439872119803},\n",
      "                               '25': {0: 0.027497879207961765,\n",
      "                                      1: 0.021364456325661255,\n",
      "                                      2: 0.013570957695892342,\n",
      "                                      3: 0.0065841078177366836,\n",
      "                                      4: 0.0020368116446012074,\n",
      "                                      5: 0.00020722704312912835,\n",
      "                                      6: 0.0,\n",
      "                                      7: 0.0,\n",
      "                                      8: 0.0,\n",
      "                                      9: 0.0,\n",
      "                                      10: 0.0},\n",
      "                               '32': {0: 0.3869572881777741,\n",
      "                                      1: 0.4017916718151489,\n",
      "                                      2: 0.40818109140437625,\n",
      "                                      3: 0.40058547382325116,\n",
      "                                      4: 0.3780730897009967,\n",
      "                                      5: 0.3403068340306834,\n",
      "                                      6: 0.29145846805008524,\n",
      "                                      7: 0.23624313830499397,\n",
      "                                      8: 0.17828322636339752,\n",
      "                                      9: 0.12049142904578093,\n",
      "                                      10: 0.06949841843651153},\n",
      "                               '34': {0: 0.5133084105897179,\n",
      "                                      1: 0.5474937921620702,\n",
      "                                      2: 0.5798310371310794,\n",
      "                                      3: 0.6106492553240292,\n",
      "                                      4: 0.6397295800882535,\n",
      "                                      5: 0.6680535775495258,\n",
      "                                      6: 0.6949833489791376,\n",
      "                                      7: 0.7207554852775278,\n",
      "                                      8: 0.7448689141265489,\n",
      "                                      9: 0.7670342435480101,\n",
      "                                      10: 0.7866628849422003},\n",
      "                               '40': {0: 0.32988663057301587,\n",
      "                                      1: 0.41650784199839863,\n",
      "                                      2: 0.43386963064656653,\n",
      "                                      3: 0.44802975000143247,\n",
      "                                      4: 0.45953054914427555,\n",
      "                                      5: 0.4687464071860337,\n",
      "                                      6: 0.47619461235642424,\n",
      "                                      7: 0.48229280876618735,\n",
      "                                      8: 0.487062426226978,\n",
      "                                      9: 0.49079576555244625,\n",
      "                                      10: 0.49329254887370627},\n",
      "                               '45': {0: 0.4230870950012633,\n",
      "                                      1: 0.41157902137547675,\n",
      "                                      2: 0.3998323107333503,\n",
      "                                      3: 0.38775498831820676,\n",
      "                                      4: 0.3753752553032841,\n",
      "                                      5: 0.362634760967103,\n",
      "                                      6: 0.3494556493111938,\n",
      "                                      7: 0.33577118188726446,\n",
      "                                      8: 0.32149004468427733,\n",
      "                                      9: 0.3065421488486811,\n",
      "                                      10: 0.2909237339080785}}}\n"
     ]
    }
   ],
   "source": [
    "pprint.pprint(ious_puffs_waves_all_trainings)"
   ]
  },
  {
   "cell_type": "markdown",
   "metadata": {
    "tags": []
   },
   "source": [
    "### Compute average along videos of IoU for each exclusion radius for each training name"
   ]
  },
  {
   "cell_type": "code",
   "execution_count": 12,
   "metadata": {
    "tags": []
   },
   "outputs": [],
   "source": [
    "ious_puffs_waves_avg = {} # num training x num exclusion radius\n",
    "\n",
    "for training_name in training_names:\n",
    "    num_videos = len(ious_puffs_waves_all_trainings[training_name])\n",
    "    \n",
    "    ious_puffs_waves_all_video = ious_puffs_waves_all_trainings[training_name] # num videos x num exclusion radius\n",
    "    \n",
    "    ious_puffs_waves_avg[training_name] = np.sum(np.array([list(res.values()) for res in ious_puffs_waves_all_video.values()]),0)/num_videos"
   ]
  },
  {
   "cell_type": "markdown",
   "metadata": {
    "tags": []
   },
   "source": [
    "### Plot average IoU for all trainings and all classes wrt to exclusion radius"
   ]
  },
  {
   "cell_type": "code",
   "execution_count": 13,
   "metadata": {
    "tags": []
   },
   "outputs": [],
   "source": [
    "cols = pd.Index(exclusion_radius_list, name='Exclusion radius')\n",
    "classes = ['Puffs and Waves']\n",
    "rows = pd.MultiIndex.from_product([classes, training_names], names=['Class', 'Training name'])\n",
    "\n",
    "data = [*ious_puffs_waves_avg.values()\n",
    "       ]\n",
    "\n",
    "df = pd.DataFrame(data, rows, cols)"
   ]
  },
  {
   "cell_type": "code",
   "execution_count": 14,
   "metadata": {
    "tags": []
   },
   "outputs": [
    {
     "data": {
      "text/html": [
       "<div>\n",
       "<style scoped>\n",
       "    .dataframe tbody tr th:only-of-type {\n",
       "        vertical-align: middle;\n",
       "    }\n",
       "\n",
       "    .dataframe tbody tr th {\n",
       "        vertical-align: top;\n",
       "    }\n",
       "\n",
       "    .dataframe thead th {\n",
       "        text-align: right;\n",
       "    }\n",
       "</style>\n",
       "<table border=\"1\" class=\"dataframe\">\n",
       "  <thead>\n",
       "    <tr style=\"text-align: right;\">\n",
       "      <th></th>\n",
       "      <th>Exclusion radius</th>\n",
       "      <th>0</th>\n",
       "      <th>1</th>\n",
       "      <th>2</th>\n",
       "      <th>3</th>\n",
       "      <th>4</th>\n",
       "      <th>5</th>\n",
       "      <th>6</th>\n",
       "      <th>7</th>\n",
       "      <th>8</th>\n",
       "      <th>9</th>\n",
       "      <th>10</th>\n",
       "    </tr>\n",
       "    <tr>\n",
       "      <th>Class</th>\n",
       "      <th>Training name</th>\n",
       "      <th></th>\n",
       "      <th></th>\n",
       "      <th></th>\n",
       "      <th></th>\n",
       "      <th></th>\n",
       "      <th></th>\n",
       "      <th></th>\n",
       "      <th></th>\n",
       "      <th></th>\n",
       "      <th></th>\n",
       "      <th></th>\n",
       "    </tr>\n",
       "  </thead>\n",
       "  <tbody>\n",
       "    <tr>\n",
       "      <th>Puffs and Waves</th>\n",
       "      <th>focal_loss_gamma_5_ubelix</th>\n",
       "      <td>0.323409</td>\n",
       "      <td>0.348682</td>\n",
       "      <td>0.35969</td>\n",
       "      <td>0.367769</td>\n",
       "      <td>0.372817</td>\n",
       "      <td>0.375519</td>\n",
       "      <td>0.376212</td>\n",
       "      <td>0.375138</td>\n",
       "      <td>0.372672</td>\n",
       "      <td>0.368693</td>\n",
       "      <td>0.36443</td>\n",
       "    </tr>\n",
       "  </tbody>\n",
       "</table>\n",
       "</div>"
      ],
      "text/plain": [
       "Exclusion radius                                 0         1        2   \\\n",
       "Class           Training name                                            \n",
       "Puffs and Waves focal_loss_gamma_5_ubelix  0.323409  0.348682  0.35969   \n",
       "\n",
       "Exclusion radius                                 3         4         5   \\\n",
       "Class           Training name                                             \n",
       "Puffs and Waves focal_loss_gamma_5_ubelix  0.367769  0.372817  0.375519   \n",
       "\n",
       "Exclusion radius                                 6         7         8   \\\n",
       "Class           Training name                                             \n",
       "Puffs and Waves focal_loss_gamma_5_ubelix  0.376212  0.375138  0.372672   \n",
       "\n",
       "Exclusion radius                                 9        10  \n",
       "Class           Training name                                 \n",
       "Puffs and Waves focal_loss_gamma_5_ubelix  0.368693  0.36443  "
      ]
     },
     "metadata": {},
     "output_type": "display_data"
    }
   ],
   "source": [
    "display(df)"
   ]
  },
  {
   "cell_type": "code",
   "execution_count": 17,
   "metadata": {
    "tags": []
   },
   "outputs": [],
   "source": [
    "df.to_csv(\"average_IoU_all_trainings_excl_radius_puffs_waves.csv\")"
   ]
  },
  {
   "cell_type": "code",
   "execution_count": 23,
   "metadata": {
    "tags": []
   },
   "outputs": [
    {
     "data": {
      "text/plain": [
       "Text(0.5, 0, 'Exclusion radius')"
      ]
     },
     "execution_count": 23,
     "metadata": {},
     "output_type": "execute_result"
    },
    {
     "data": {
      "image/png": "[encoded data removed]",
      "text/plain": [
       "<Figure size 1440x864 with 2 Axes>"
      ]
     },
     "metadata": {
      "needs_background": "light"
     },
     "output_type": "display_data"
    }
   ],
   "source": [
    "fig, axs = plt.subplots(1, 1, sharex=True, figsize=(20,12))\n",
    "fig.add_subplot(111, frameon=False)\n",
    "\n",
    "for training_name in training_names:\n",
    "    axs.plot(exclusion_radius_list, ious_puffs_waves_avg[training_name], label=training_name)\n",
    "           \n",
    "axs.set_title('Joined Puffs and Waves IoU')\n",
    "axs.set_ylim([0,1])\n",
    "axs.legend(shadow=True, fancybox=True)\n",
    "\n",
    "plt.tick_params(labelcolor='none', which='both', top=False, bottom=False, left=False, right=False)\n",
    "plt.xlabel(\"Exclusion radius\")"
   ]
  },
  {
   "cell_type": "code",
   "execution_count": 24,
   "metadata": {
    "tags": []
   },
   "outputs": [],
   "source": [
    "fig.savefig(\"average_IoU_all_trainings_excl_radius_puffs_waves.png\")"
   ]
  },
  {
   "cell_type": "markdown",
   "metadata": {
    "jp-MarkdownHeadingCollapsed": true,
    "tags": []
   },
   "source": [
    "## Compute puffs IoU using convex hull"
   ]
  },
  {
   "cell_type": "markdown",
   "metadata": {},
   "source": [
    "Idea: calcolo la convex hull di tutti i predicted puffs e poi calcolo l'IoU per vedere se migliora (in teoria ignora gli sparks on top of puffs)."
   ]
  },
  {
   "cell_type": "code",
   "execution_count": 24,
   "metadata": {},
   "outputs": [],
   "source": [
    "# training parameters\n",
    "training_name = \"focal_loss_gamma_5_ubelix\"\n",
    "ignore_frames = 6\n",
    "\n",
    "# detection parameters\n",
    "t_detection_puffs = [0.5,0.55,0.65,0.7,0.75,0.8,0.85,0.9,0.95]\n",
    "min_radius_puffs = [0,1,2,3,4,5,6]"
   ]
  },
  {
   "cell_type": "code",
   "execution_count": 31,
   "metadata": {
    "tags": []
   },
   "outputs": [],
   "source": [
    "puffs_ious = defaultdict(lambda: defaultdict(dict))\n",
    "puffs_ious_all_movies = defaultdict(lambda: defaultdict(lambda: defaultdict(dict)))\n",
    "\n",
    "for t in t_detection_puffs:\n",
    "    for r in min_radius_puffs:\n",
    "        for movie_name in ys_all_trainings.keys():\n",
    "            # get puff binary annotations\n",
    "            puffs_ys = ys[training_name][movie_name]\n",
    "            puffs_ys = np.where(puffs_ys == 3, 1, 0)\n",
    "            puffs_ys = empty_marginal_frames(puffs_ys, ignore_frames)\n",
    "            \n",
    "            # get ignore mask\n",
    "            raw_ys = ys_all_trainings[movie_name]\n",
    "            ignore_mask =  np.where(raw_ys==4,1,0)\n",
    "            \n",
    "            # get binary puff prediction\n",
    "            puffs_pred = puffs[training_name][movie_name]\n",
    "\n",
    "            # remove holes (convex hull) & small events from puffs\n",
    "            puffs_pred = process_puff_prediction(pred=puffs_pred,\n",
    "                                                 t_detection=t,\n",
    "                                                 min_radius=r,\n",
    "                                                 ignore_frames=ignore_frames,\n",
    "                                                 convex_hull=True\n",
    "                                                )\n",
    "\n",
    "            # compute IoU\n",
    "            puffs_ious_all_movies[t][r][movie_name] = jaccard_score_exclusion_zone(ys=puffs_ys,\n",
    "                                                                       preds=puffs_pred,\n",
    "                                                                       exclusion_radius=0,\n",
    "                                                                       ignore_mask=ignore_mask)\n",
    "        \n",
    "        # compute average over movies\n",
    "        puffs_ious[t][r] = sum(puffs_ious_all_movies[t][r].values()) / len(puffs_ious_all_movies[t][r])"
   ]
  },
  {
   "cell_type": "markdown",
   "metadata": {},
   "source": [
    "Same but without removing holes"
   ]
  },
  {
   "cell_type": "code",
   "execution_count": 32,
   "metadata": {
    "tags": []
   },
   "outputs": [],
   "source": [
    "puffs_ious_holes = defaultdict(lambda: defaultdict(dict))\n",
    "puffs_ious_all_movies_holes = defaultdict(lambda: defaultdict(lambda: defaultdict(dict)))\n",
    "\n",
    "for t in t_detection_puffs:\n",
    "    for r in min_radius_puffs:\n",
    "        for movie_name in ys_all_trainings.keys():\n",
    "            # get puff binary annotations\n",
    "            puffs_ys = ys[training_name][movie_name]\n",
    "            puffs_ys = np.where(puffs_ys == 3, 1, 0)\n",
    "            puffs_ys = empty_marginal_frames(puffs_ys, ignore_frames)\n",
    "            \n",
    "            # get ignore mask\n",
    "            raw_ys = ys_all_trainings[movie_name]\n",
    "            ignore_mask =  np.where(raw_ys==4,1,0)\n",
    "            \n",
    "            # get binary puff prediction\n",
    "            puffs_pred = puffs[training_name][movie_name]\n",
    "\n",
    "            # remove holes (convex hull) & small events from puffs\n",
    "            puffs_pred = process_puff_prediction(pred=puffs_pred,\n",
    "                                                 t_detection=t,\n",
    "                                                 min_radius=r,\n",
    "                                                 ignore_frames=ignore_frames,\n",
    "                                                 convex_hull=False # <-- difference\n",
    "                                                )\n",
    "\n",
    "            # compute IoU\n",
    "            puffs_ious_all_movies_holes[t][r][movie_name] = jaccard_score_exclusion_zone(ys=puffs_ys,\n",
    "                                                                       preds=puffs_pred,\n",
    "                                                                       exclusion_radius=0,\n",
    "                                                                       ignore_mask=ignore_mask)\n",
    "        \n",
    "        # compute average over movies\n",
    "        puffs_ious_holes[t][r] = sum(puffs_ious_all_movies_holes[t][r].values()) / len(puffs_ious_all_movies_holes[t][r])"
   ]
  },
  {
   "cell_type": "markdown",
   "metadata": {},
   "source": [
    "### Visualize results using confusion matrices"
   ]
  },
  {
   "cell_type": "code",
   "execution_count": 36,
   "metadata": {},
   "outputs": [],
   "source": [
    "import pandas as pd\n",
    "import seaborn as sns\n",
    "#import matplotlib.pyplot as plt"
   ]
  },
  {
   "cell_type": "code",
   "execution_count": 34,
   "metadata": {},
   "outputs": [],
   "source": [
    "df = pd.DataFrame.from_dict(puffs_ious)\n",
    "df_holes = pd.DataFrame.from_dict(puffs_ious_holes)"
   ]
  },
  {
   "cell_type": "code",
   "execution_count": 53,
   "metadata": {},
   "outputs": [
    {
     "data": {
      "image/png": "[encoded data removed]",
      "text/plain": [
       "<Figure size 1584x576 with 4 Axes>"
      ]
     },
     "metadata": {
      "needs_background": "light"
     },
     "output_type": "display_data"
    }
   ],
   "source": [
    "plt.figure(figsize=(22,8))\n",
    "plt.suptitle(f\"Puffs IoUs wrt to diferent detection thresholds and puffs' min size\", fontsize=15)\n",
    "\n",
    "ax = plt.subplot(1,2,1)\n",
    "ax.set_title(\"Original\")\n",
    "sns.heatmap(df_holes, annot=True, fmt='.5g')\n",
    "ax.set_xlabel(\"detection threshold\")\n",
    "ax.set_ylabel(\"puff minimal radius\")\n",
    "ax = plt.subplot(1,2,2)\n",
    "ax.set_title(\"Holes removed\")\n",
    "sns.heatmap(df, annot=True, fmt='.5g')\n",
    "ax.set_xlabel(\"detection threshold\")\n",
    "ax.set_ylabel(\"puff minimal radius\")\n",
    "plt.show()"
   ]
  },
  {
   "cell_type": "markdown",
   "metadata": {
    "jp-MarkdownHeadingCollapsed": true,
    "tags": []
   },
   "source": [
    "## Separate events in puffs and waves predictions"
   ]
  },
  {
   "cell_type": "markdown",
   "metadata": {
    "tags": []
   },
   "source": [
    "Pipeline:\n",
    "\n",
    "- get puffs and waves predictions\n",
    "    - extract events using `separate_events`\n",
    "- get puffs and waves annotations **with separate events** (from new data folder)\n",
    "    - transform movie from 3 colors to 1 color\n",
    "    - extract puffs and sparks comparing with {0,1,2,3,4}-annotations\n",
    "- get ignore mask\n",
    "- for each event (in puffs/waves/joined)\n",
    "    - find event with max overlap in annotations\n",
    "    - if overlap > t => true positive\n",
    "    - otherwise => false positive\n",
    "    - store which preds are coupled with which annotations\n",
    "    - if there is an annotation with no paired event => false negative"
   ]
  },
  {
   "cell_type": "code",
   "execution_count": 25,
   "metadata": {},
   "outputs": [],
   "source": [
    "from dataset_tools import load_movies_ids"
   ]
  },
  {
   "cell_type": "code",
   "execution_count": 165,
   "metadata": {},
   "outputs": [],
   "source": [
    "# training params\n",
    "training_name = \"focal_loss_gamma_5_ubelix\"\n",
    "ignore_frames = 6\n",
    "\n",
    "# puffs and waves params\n",
    "t_detection = 0.7\n",
    "min_radius_puffs = 6\n",
    "min_radius_waves = 8"
   ]
  },
  {
   "cell_type": "code",
   "execution_count": 173,
   "metadata": {},
   "outputs": [],
   "source": [
    "data_folder = os.path.join(metrics_folder, training_name, \"separated_events\")\n",
    "os.makedirs(data_folder, exist_ok=True)"
   ]
  },
  {
   "cell_type": "code",
   "execution_count": 32,
   "metadata": {},
   "outputs": [
    {
     "name": "stderr",
     "output_type": "stream",
     "text": [
      "TiffPage 0: TypeError: read_bytes() missing 3 required positional arguments: 'dtype', 'count', and 'offsetsize'\n",
      "TiffPage 0: TypeError: read_bytes() missing 3 required positional arguments: 'dtype', 'count', and 'offsetsize'\n",
      "TiffPage 0: TypeError: read_bytes() missing 3 required positional arguments: 'dtype', 'count', and 'offsetsize'\n",
      "TiffPage 0: TypeError: read_bytes() missing 3 required positional arguments: 'dtype', 'count', and 'offsetsize'\n"
     ]
    }
   ],
   "source": [
    "# load all annotations with separated events (!they aren't classified!)\n",
    "separated_annnotations_path = os.path.join(\"..\",\"data\",\"raw_data_and_processing\",\"original_separated_events_masks\")\n",
    "movie_names = ys_all_trainings.keys()\n",
    "\n",
    "separated_annotations = load_movies_ids(data_folder=separated_annnotations_path, ids=movie_names)"
   ]
  },
  {
   "cell_type": "code",
   "execution_count": 166,
   "metadata": {},
   "outputs": [],
   "source": [
    "movie_name = '05'"
   ]
  },
  {
   "cell_type": "code",
   "execution_count": 167,
   "metadata": {},
   "outputs": [],
   "source": [
    "# get puff and wave annotation masks\n",
    "ys_sample = ys[training_name][movie_name]\n",
    "puff_ys = np.where(ys_sample == 3, 1., 0.)\n",
    "wave_ys = np.where(ys_sample == 2, 1., 0.)\n",
    "\n",
    "# get puff and wave annotations with separate events\n",
    "ys_rgb = np.array(separated_annotations[movie_name], dtype=np.int32)\n",
    "\n",
    "# transform RGB to integer by 255*255*r + 255*g + b and set white to 0\n",
    "ys_events = 255*255*ys_rgb[...,0] + 255*ys_rgb[...,1] + ys_rgb[...,2]\n",
    "white_int = 255*255*255+255*255+255\n",
    "ys_events[ys_events == white_int] = 0\n",
    "\n",
    "# get separated annotated puff and wave events\n",
    "puff_ys_events = np.where(puff_ys, ys_separated_events, 0)\n",
    "puff_ys_events = empty_marginal_frames(puff_ys_events, ignore_frames)\n",
    "\n",
    "wave_ys_events = np.where(wave_ys, ys_separated_events, 0)\n",
    "wave_ys_events = empty_marginal_frames(wave_ys_events, ignore_frames)"
   ]
  },
  {
   "cell_type": "code",
   "execution_count": 168,
   "metadata": {},
   "outputs": [],
   "source": [
    "# get puff and wave predictions\n",
    "puff_preds = puffs[training_name][movie_name]\n",
    "wave_preds = waves[training_name][movie_name]\n",
    "\n",
    "# get binary predicted puff and wave events\n",
    "puff_pred_binary = process_puff_prediction(pred=puff_preds,\n",
    "                                           t_detection=t_detection,\n",
    "                                           min_radius=min_radius_puffs,\n",
    "                                           ignore_frames=ignore_frames,\n",
    "                                           convex_hull=True\n",
    "                                          )\n",
    "wave_pred_binary = process_wave_prediction(pred=wave_preds,\n",
    "                                           t_detection=t_detection,\n",
    "                                           min_radius=min_radius_waves,\n",
    "                                           ignore_frames=ignore_frames\n",
    "                                          )"
   ]
  },
  {
   "cell_type": "code",
   "execution_count": 169,
   "metadata": {},
   "outputs": [],
   "source": [
    "import cc3d"
   ]
  },
  {
   "cell_type": "code",
   "execution_count": 170,
   "metadata": {},
   "outputs": [],
   "source": [
    "# identify events in puff and wave preds\n",
    "connectivity = 26\n",
    "puff_labels, puff_n_events = cc3d.connected_components(puff_pred_binary, \n",
    "                                                       connectivity=connectivity,\n",
    "                                                       return_N=True\n",
    "                                                      )"
   ]
  },
  {
   "cell_type": "code",
   "execution_count": 172,
   "metadata": {},
   "outputs": [
    {
     "data": {
      "text/plain": [
       "15"
      ]
     },
     "execution_count": 172,
     "metadata": {},
     "output_type": "execute_result"
    }
   ],
   "source": [
    "imageiopuff_n_events"
   ]
  },
  {
   "cell_type": "code",
   "execution_count": null,
   "metadata": {},
   "outputs": [],
   "source": []
  },
  {
   "cell_type": "code",
   "execution_count": null,
   "metadata": {},
   "outputs": [],
   "source": []
  },
  {
   "cell_type": "code",
   "execution_count": null,
   "metadata": {},
   "outputs": [],
   "source": []
  },
  {
   "cell_type": "code",
   "execution_count": null,
   "metadata": {},
   "outputs": [],
   "source": []
  },
  {
   "cell_type": "code",
   "execution_count": null,
   "metadata": {},
   "outputs": [],
   "source": []
  },
  {
   "cell_type": "markdown",
   "metadata": {
    "jp-MarkdownHeadingCollapsed": true,
    "tags": []
   },
   "source": [
    "# Sparks metrics (TODO)"
   ]
  },
  {
   "cell_type": "code",
   "execution_count": 9,
   "metadata": {},
   "outputs": [],
   "source": [
    "from metrics_tools import compute_prec_rec, reduce_metrics_thresholds"
   ]
  },
  {
   "cell_type": "code",
   "execution_count": 10,
   "metadata": {},
   "outputs": [],
   "source": [
    "# physiological params\n",
    "PIXEL_SIZE = 0.2 # 1 pixel = 0.2 um x 0.2 um\n",
    "MIN_DIST_XY = round(1.8 / PIXEL_SIZE) # min distance in space between sparks\n",
    "TIME_FRAME = 6.8 # 1 frame = 6.8 ms\n",
    "MIN_DIST_T = round(20 / TIME_FRAME) # min distance in time between sparks\n",
    "\n",
    "# parameters\n",
    "ignore_frames = 6"
   ]
  },
  {
   "cell_type": "markdown",
   "metadata": {
    "jp-MarkdownHeadingCollapsed": true,
    "tags": []
   },
   "source": [
    "## Plain precision and recall"
   ]
  },
  {
   "cell_type": "code",
   "execution_count": 10,
   "metadata": {},
   "outputs": [],
   "source": [
    "t_detection_sparks = 0.7\n",
    "min_radius_sparks = 2 # min radius of a detected spark"
   ]
  },
  {
   "cell_type": "code",
   "execution_count": 17,
   "metadata": {},
   "outputs": [
    {
     "name": "stdout",
     "output_type": "stream",
     "text": [
      "focal_loss_gamma_5_ubelix\n",
      "05\n",
      "{0.5: Metrics(precision=0.1326530612244898, recall=0.37142857142857144, tp=26, tp_fp=196, tp_fn=70),\n",
      " 0.55: Metrics(precision=0.13068181818181818, recall=0.32857142857142857, tp=23, tp_fp=176, tp_fn=70),\n",
      " 0.6: Metrics(precision=0.13664596273291926, recall=0.3142857142857143, tp=22, tp_fp=161, tp_fn=70),\n",
      " 0.65: Metrics(precision=0.14583333333333334, recall=0.3, tp=21, tp_fp=144, tp_fn=70),\n",
      " 0.7: Metrics(precision=0.15748031496062992, recall=0.2857142857142857, tp=20, tp_fp=127, tp_fn=70),\n",
      " 0.75: Metrics(precision=0.21052631578947367, recall=0.2857142857142857, tp=20, tp_fp=95, tp_fn=70),\n",
      " 0.8: Metrics(precision=0.35555555555555557, recall=0.22857142857142856, tp=16, tp_fp=45, tp_fn=70),\n",
      " 0.85: Metrics(precision=0.5555555555555556, recall=0.07142857142857142, tp=5, tp_fp=9, tp_fn=70),\n",
      " 0.9: Metrics(precision=1.0, recall=0.014285714285714285, tp=1, tp_fp=1, tp_fn=70),\n",
      " 0.95: Metrics(precision=1.0, recall=0.0, tp=0, tp_fp=0, tp_fn=70)}\n",
      "10\n",
      "{0.5: Metrics(precision=0.06666666666666667, recall=0.3, tp=6, tp_fp=90, tp_fn=20),\n",
      " 0.55: Metrics(precision=0.09333333333333334, recall=0.35, tp=7, tp_fp=75, tp_fn=20),\n",
      " 0.6: Metrics(precision=0.14705882352941177, recall=0.5, tp=10, tp_fp=68, tp_fn=20),\n",
      " 0.65: Metrics(precision=0.16666666666666666, recall=0.5, tp=10, tp_fp=60, tp_fn=20),\n",
      " 0.7: Metrics(precision=0.19047619047619047, recall=0.4, tp=8, tp_fp=42, tp_fn=20),\n",
      " 0.75: Metrics(precision=0.23076923076923078, recall=0.3, tp=6, tp_fp=26, tp_fn=20),\n",
      " 0.8: Metrics(precision=0.2727272727272727, recall=0.15, tp=3, tp_fp=11, tp_fn=20),\n",
      " 0.85: Metrics(precision=1.0, recall=0.05, tp=1, tp_fp=1, tp_fn=20),\n",
      " 0.9: Metrics(precision=1.0, recall=0.0, tp=0, tp_fp=0, tp_fn=20),\n",
      " 0.95: Metrics(precision=1.0, recall=0.0, tp=0, tp_fp=0, tp_fn=20)}\n",
      "15\n",
      "{0.5: Metrics(precision=0.16842105263157894, recall=0.36363636363636365, tp=16, tp_fp=95, tp_fn=44),\n",
      " 0.55: Metrics(precision=0.21621621621621623, recall=0.36363636363636365, tp=16, tp_fp=74, tp_fn=44),\n",
      " 0.6: Metrics(precision=0.24074074074074073, recall=0.29545454545454547, tp=13, tp_fp=54, tp_fn=44),\n",
      " 0.65: Metrics(precision=0.2608695652173913, recall=0.2727272727272727, tp=12, tp_fp=46, tp_fn=44),\n",
      " 0.7: Metrics(precision=0.2894736842105263, recall=0.25, tp=11, tp_fp=38, tp_fn=44),\n",
      " 0.75: Metrics(precision=0.36363636363636365, recall=0.18181818181818182, tp=8, tp_fp=22, tp_fn=44),\n",
      " 0.8: Metrics(precision=0.5, recall=0.09090909090909091, tp=4, tp_fp=8, tp_fn=44),\n",
      " 0.85: Metrics(precision=1.0, recall=0.0, tp=0, tp_fp=0, tp_fn=44),\n",
      " 0.9: Metrics(precision=1.0, recall=0.0, tp=0, tp_fp=0, tp_fn=44),\n",
      " 0.95: Metrics(precision=1.0, recall=0.0, tp=0, tp_fp=0, tp_fn=44)}\n",
      "20\n",
      "{0.5: Metrics(precision=0.23577235772357724, recall=0.43283582089552236, tp=29, tp_fp=123, tp_fn=67),\n",
      " 0.55: Metrics(precision=0.2897196261682243, recall=0.4626865671641791, tp=31, tp_fp=107, tp_fn=67),\n",
      " 0.6: Metrics(precision=0.35, recall=0.5223880597014925, tp=35, tp_fp=100, tp_fn=67),\n",
      " 0.65: Metrics(precision=0.42168674698795183, recall=0.5223880597014925, tp=35, tp_fp=83, tp_fn=67),\n",
      " 0.7: Metrics(precision=0.4520547945205479, recall=0.4925373134328358, tp=33, tp_fp=73, tp_fn=67),\n",
      " 0.75: Metrics(precision=0.6, recall=0.44776119402985076, tp=30, tp_fp=50, tp_fn=67),\n",
      " 0.8: Metrics(precision=0.7894736842105263, recall=0.22388059701492538, tp=15, tp_fp=19, tp_fn=67),\n",
      " 0.85: Metrics(precision=1.0, recall=0.0, tp=0, tp_fp=0, tp_fn=67),\n",
      " 0.9: Metrics(precision=1.0, recall=0.0, tp=0, tp_fp=0, tp_fn=67),\n",
      " 0.95: Metrics(precision=1.0, recall=0.0, tp=0, tp_fp=0, tp_fn=67)}\n",
      "25\n",
      "{0.5: Metrics(precision=0.08560311284046693, recall=0.7096774193548387, tp=22, tp_fp=257, tp_fn=31),\n",
      " 0.55: Metrics(precision=0.0958904109589041, recall=0.6774193548387096, tp=21, tp_fp=219, tp_fn=31),\n",
      " 0.6: Metrics(precision=0.11229946524064172, recall=0.6774193548387096, tp=21, tp_fp=187, tp_fn=31),\n",
      " 0.65: Metrics(precision=0.1464968152866242, recall=0.7419354838709677, tp=23, tp_fp=157, tp_fn=31),\n",
      " 0.7: Metrics(precision=0.16153846153846155, recall=0.6774193548387096, tp=21, tp_fp=130, tp_fn=31),\n",
      " 0.75: Metrics(precision=0.20618556701030927, recall=0.6451612903225806, tp=20, tp_fp=97, tp_fn=31),\n",
      " 0.8: Metrics(precision=0.24, recall=0.3870967741935484, tp=12, tp_fp=50, tp_fn=31),\n",
      " 0.85: Metrics(precision=0.0, recall=0.0, tp=0, tp_fp=1, tp_fn=31),\n",
      " 0.9: Metrics(precision=1.0, recall=0.0, tp=0, tp_fp=0, tp_fn=31),\n",
      " 0.95: Metrics(precision=1.0, recall=0.0, tp=0, tp_fp=0, tp_fn=31)}\n",
      "32\n",
      "{0.5: Metrics(precision=0.018867924528301886, recall=0.42857142857142855, tp=3, tp_fp=159, tp_fn=7),\n",
      " 0.55: Metrics(precision=0.028846153846153848, recall=0.42857142857142855, tp=3, tp_fp=104, tp_fn=7),\n",
      " 0.6: Metrics(precision=0.047619047619047616, recall=0.42857142857142855, tp=3, tp_fp=63, tp_fn=7),\n",
      " 0.65: Metrics(precision=0.046511627906976744, recall=0.2857142857142857, tp=2, tp_fp=43, tp_fn=7),\n",
      " 0.7: Metrics(precision=0.10526315789473684, recall=0.2857142857142857, tp=2, tp_fp=19, tp_fn=7),\n",
      " 0.75: Metrics(precision=0.5, recall=0.5714285714285714, tp=4, tp_fp=8, tp_fn=7),\n",
      " 0.8: Metrics(precision=1.0, recall=0.14285714285714285, tp=1, tp_fp=1, tp_fn=7),\n",
      " 0.85: Metrics(precision=1.0, recall=0.0, tp=0, tp_fp=0, tp_fn=7),\n",
      " 0.9: Metrics(precision=1.0, recall=0.0, tp=0, tp_fp=0, tp_fn=7),\n",
      " 0.95: Metrics(precision=1.0, recall=0.0, tp=0, tp_fp=0, tp_fn=7)}\n",
      "34\n",
      "{0.5: Metrics(precision=0.04819277108433735, recall=0.25, tp=4, tp_fp=83, tp_fn=16),\n",
      " 0.55: Metrics(precision=0.0625, recall=0.25, tp=4, tp_fp=64, tp_fn=16),\n",
      " 0.6: Metrics(precision=0.07407407407407407, recall=0.25, tp=4, tp_fp=54, tp_fn=16),\n",
      " 0.65: Metrics(precision=0.13636363636363635, recall=0.375, tp=6, tp_fp=44, tp_fn=16),\n",
      " 0.7: Metrics(precision=0.25, recall=0.4375, tp=7, tp_fp=28, tp_fn=16),\n",
      " 0.75: Metrics(precision=0.3125, recall=0.3125, tp=5, tp_fp=16, tp_fn=16),\n",
      " 0.8: Metrics(precision=0.2857142857142857, recall=0.125, tp=2, tp_fp=7, tp_fn=16),\n",
      " 0.85: Metrics(precision=0.0, recall=0.0, tp=0, tp_fp=1, tp_fn=16),\n",
      " 0.9: Metrics(precision=1.0, recall=0.0, tp=0, tp_fp=0, tp_fn=16),\n",
      " 0.95: Metrics(precision=1.0, recall=0.0, tp=0, tp_fp=0, tp_fn=16)}\n",
      "40\n",
      "{0.5: Metrics(precision=0.05454545454545454, recall=0.5, tp=3, tp_fp=55, tp_fn=6),\n",
      " 0.55: Metrics(precision=0.08571428571428572, recall=0.5, tp=3, tp_fp=35, tp_fn=6),\n",
      " 0.6: Metrics(precision=0.13043478260869565, recall=0.5, tp=3, tp_fp=23, tp_fn=6),\n",
      " 0.65: Metrics(precision=0.2857142857142857, recall=0.6666666666666666, tp=4, tp_fp=14, tp_fn=6),\n",
      " 0.7: Metrics(precision=0.42857142857142855, recall=0.5, tp=3, tp_fp=7, tp_fn=6),\n",
      " 0.75: Metrics(precision=0.25, recall=0.16666666666666666, tp=1, tp_fp=4, tp_fn=6),\n",
      " 0.8: Metrics(precision=0.0, recall=0.0, tp=0, tp_fp=2, tp_fn=6),\n",
      " 0.85: Metrics(precision=1.0, recall=0.0, tp=0, tp_fp=0, tp_fn=6),\n",
      " 0.9: Metrics(precision=1.0, recall=0.0, tp=0, tp_fp=0, tp_fn=6),\n",
      " 0.95: Metrics(precision=1.0, recall=0.0, tp=0, tp_fp=0, tp_fn=6)}\n",
      "45\n",
      "{0.5: Metrics(precision=0.0, recall=1.0, tp=0, tp_fp=228, tp_fn=0),\n",
      " 0.55: Metrics(precision=0.0, recall=1.0, tp=0, tp_fp=177, tp_fn=0),\n",
      " 0.6: Metrics(precision=0.0, recall=1.0, tp=0, tp_fp=127, tp_fn=0),\n",
      " 0.65: Metrics(precision=0.0, recall=1.0, tp=0, tp_fp=82, tp_fn=0),\n",
      " 0.7: Metrics(precision=0.0, recall=1.0, tp=0, tp_fp=43, tp_fn=0),\n",
      " 0.75: Metrics(precision=0.0, recall=1.0, tp=0, tp_fp=20, tp_fn=0),\n",
      " 0.8: Metrics(precision=0.0, recall=1.0, tp=0, tp_fp=2, tp_fn=0),\n",
      " 0.85: Metrics(precision=1.0, recall=1.0, tp=0, tp_fp=0, tp_fn=0),\n",
      " 0.9: Metrics(precision=1.0, recall=1.0, tp=0, tp_fp=0, tp_fn=0),\n",
      " 0.95: Metrics(precision=1.0, recall=1.0, tp=0, tp_fp=0, tp_fn=0)}\n"
     ]
    }
   ],
   "source": [
    "# parameters\n",
    "ignore_frames = 6\n",
    "\n",
    "t_detection_sparks = [0.5,0.55,0.6,0.65,0.7,0.75,0.8,0.85,0.9,0.95]\n",
    "\n",
    "min_radius_sparks = 2\n",
    "\n",
    "# each dictionary contains, for every training name, a list of prec rec scores for all videos for all thresholds\n",
    "prec_rec_sparks_all_trainings = {} # num trainings x num video x num thresholds\n",
    "\n",
    "for training_name in training_names:\n",
    "    print(training_name)\n",
    "    # get predictions\n",
    "    sparks_training = sparks[training_name]\n",
    "    \n",
    "    # get annotations\n",
    "    ys_training = ys[training_name]\n",
    "    \n",
    "    prec_rec_sparks_all_video = {}\n",
    "    \n",
    "    for video_id in ys_all_trainings.keys():\n",
    "        print(video_id)\n",
    "        sparks_sample = sparks_training[video_id]\n",
    "        ys_sample = ys_training[video_id]\n",
    "        ys_raw = ys_all_trainings[video_id]\n",
    "        \n",
    "        # get binary ys \n",
    "        ys_sparks_sample = np.where(ys_sample==1,1.0,0.0)\n",
    "        \n",
    "        # get ignore mask\n",
    "        ignore_mask =  np.where(ys_raw==4,1,0)\n",
    "            \n",
    "        # compute precision and recall for some thresholds and remove ignored frames\n",
    "        prec_rec_all_t = compute_prec_rec(annotations=ys_sparks_sample, \n",
    "                                          preds=sparks_sample, \n",
    "                                          thresholds=t_detection_sparks, \n",
    "                                          ignore_frames=ignore_frames,\n",
    "                                          min_radius=min_radius_sparks, \n",
    "                                          min_dist_xy=MIN_DIST_XY,\n",
    "                                          min_dist_t=MIN_DIST_T,\n",
    "                                          ignore_mask=ignore_mask\n",
    "                                         ) # dict indexed by threshold value\n",
    "        \n",
    "        pprint.pprint(dict(prec_rec_all_t))\n",
    "        prec_rec_sparks_all_video[video_id] = prec_rec_all_t\n",
    "        \n",
    "    prec_rec_sparks_all_trainings[training_name] = prec_rec_sparks_all_video"
   ]
  },
  {
   "cell_type": "markdown",
   "metadata": {},
   "source": [
    "### Average over all videos"
   ]
  },
  {
   "cell_type": "code",
   "execution_count": 18,
   "metadata": {},
   "outputs": [],
   "source": [
    "prec_rec_sparks_avg = {} # num training x num thresholds\n",
    "prec_avg = {}\n",
    "rec_avg = {}\n",
    "\n",
    "for training_name in training_names:\n",
    "    prec_rec_all_videos = prec_rec_sparks_all_trainings[training_name]\n",
    "    prec_rec_sparks_avg[training_name] = reduce_metrics_thresholds(prec_rec_all_videos)\n",
    "    prec_avg[training_name] = prec_rec_sparks_avg[training_name][1]\n",
    "    rec_avg[training_name] = prec_rec_sparks_avg[training_name][2]"
   ]
  },
  {
   "cell_type": "markdown",
   "metadata": {
    "tags": []
   },
   "source": [
    "### Dataframe and plots of results"
   ]
  },
  {
   "cell_type": "code",
   "execution_count": 19,
   "metadata": {},
   "outputs": [],
   "source": [
    "cols = pd.Index(t_detection_sparks, name='Detection threshold')\n",
    "metrics = ['Precision', 'Recall']\n",
    "rows = pd.MultiIndex.from_product([metrics, training_names], names=['Class', 'Training name'])\n",
    "\n",
    "data = [*prec_avg.values(),\n",
    "        *rec_avg.values()\n",
    "       ]\n",
    "\n",
    "df = pd.DataFrame(data, rows, cols)"
   ]
  },
  {
   "cell_type": "code",
   "execution_count": 20,
   "metadata": {},
   "outputs": [
    {
     "data": {
      "text/html": [
       "<div>\n",
       "<style scoped>\n",
       "    .dataframe tbody tr th:only-of-type {\n",
       "        vertical-align: middle;\n",
       "    }\n",
       "\n",
       "    .dataframe tbody tr th {\n",
       "        vertical-align: top;\n",
       "    }\n",
       "\n",
       "    .dataframe thead th {\n",
       "        text-align: right;\n",
       "    }\n",
       "</style>\n",
       "<table border=\"1\" class=\"dataframe\">\n",
       "  <thead>\n",
       "    <tr style=\"text-align: right;\">\n",
       "      <th></th>\n",
       "      <th>Detection threshold</th>\n",
       "      <th>0.50</th>\n",
       "      <th>0.55</th>\n",
       "      <th>0.60</th>\n",
       "      <th>0.65</th>\n",
       "      <th>0.70</th>\n",
       "      <th>0.75</th>\n",
       "      <th>0.80</th>\n",
       "      <th>0.85</th>\n",
       "      <th>0.90</th>\n",
       "      <th>0.95</th>\n",
       "    </tr>\n",
       "    <tr>\n",
       "      <th>Class</th>\n",
       "      <th>Training name</th>\n",
       "      <th></th>\n",
       "      <th></th>\n",
       "      <th></th>\n",
       "      <th></th>\n",
       "      <th></th>\n",
       "      <th></th>\n",
       "      <th></th>\n",
       "      <th></th>\n",
       "      <th></th>\n",
       "      <th></th>\n",
       "    </tr>\n",
       "  </thead>\n",
       "  <tbody>\n",
       "    <tr>\n",
       "      <th>Precision</th>\n",
       "      <th>focal_loss_gamma_5_ubelix</th>\n",
       "      <td>0.084759</td>\n",
       "      <td>0.104753</td>\n",
       "      <td>0.132616</td>\n",
       "      <td>0.167905</td>\n",
       "      <td>0.207101</td>\n",
       "      <td>0.278107</td>\n",
       "      <td>0.365517</td>\n",
       "      <td>0.500000</td>\n",
       "      <td>1.000000</td>\n",
       "      <td>1.0</td>\n",
       "    </tr>\n",
       "    <tr>\n",
       "      <th>Recall</th>\n",
       "      <th>focal_loss_gamma_5_ubelix</th>\n",
       "      <td>0.417625</td>\n",
       "      <td>0.413793</td>\n",
       "      <td>0.425287</td>\n",
       "      <td>0.432950</td>\n",
       "      <td>0.402299</td>\n",
       "      <td>0.360153</td>\n",
       "      <td>0.203065</td>\n",
       "      <td>0.022989</td>\n",
       "      <td>0.003831</td>\n",
       "      <td>0.0</td>\n",
       "    </tr>\n",
       "  </tbody>\n",
       "</table>\n",
       "</div>"
      ],
      "text/plain": [
       "Detection threshold                      0.50      0.55      0.60      0.65  \\\n",
       "Class     Training name                                                       \n",
       "Precision focal_loss_gamma_5_ubelix  0.084759  0.104753  0.132616  0.167905   \n",
       "Recall    focal_loss_gamma_5_ubelix  0.417625  0.413793  0.425287  0.432950   \n",
       "\n",
       "Detection threshold                      0.70      0.75      0.80      0.85  \\\n",
       "Class     Training name                                                       \n",
       "Precision focal_loss_gamma_5_ubelix  0.207101  0.278107  0.365517  0.500000   \n",
       "Recall    focal_loss_gamma_5_ubelix  0.402299  0.360153  0.203065  0.022989   \n",
       "\n",
       "Detection threshold                      0.90  0.95  \n",
       "Class     Training name                              \n",
       "Precision focal_loss_gamma_5_ubelix  1.000000   1.0  \n",
       "Recall    focal_loss_gamma_5_ubelix  0.003831   0.0  "
      ]
     },
     "metadata": {},
     "output_type": "display_data"
    }
   ],
   "source": [
    "display(df)"
   ]
  },
  {
   "cell_type": "code",
   "execution_count": 21,
   "metadata": {},
   "outputs": [],
   "source": [
    "df.to_csv(\"sparks_precision_recall.csv\")"
   ]
  },
  {
   "cell_type": "code",
   "execution_count": 22,
   "metadata": {},
   "outputs": [
    {
     "data": {
      "text/plain": [
       "Text(0.5, 0, 'Detection threshold')"
      ]
     },
     "execution_count": 22,
     "metadata": {},
     "output_type": "execute_result"
    },
    {
     "data": {
      "image/png": "[encoded data removed]",
      "text/plain": [
       "<Figure size 1440x864 with 3 Axes>"
      ]
     },
     "metadata": {
      "needs_background": "light"
     },
     "output_type": "display_data"
    }
   ],
   "source": [
    "fig, axs = plt.subplots(1, 2, sharex=True, figsize=(20,12))\n",
    "fig.add_subplot(111, frameon=False)\n",
    "\n",
    "for training_name in training_names:\n",
    "    axs[0].plot(t_detection_sparks, prec_avg[training_name].values(), label=training_name)\n",
    "           \n",
    "axs[0].set_title('Precision')\n",
    "axs[0].set_ylim([0,1])\n",
    "axs[0].legend(shadow=True, fancybox=True)\n",
    "\n",
    "for training_name in training_names:\n",
    "    axs[1].plot(t_detection_sparks, rec_avg[training_name].values(), label=training_name)\n",
    "\n",
    "axs[1].set_title('Recall')\n",
    "axs[1].set_ylim([0,1])\n",
    "axs[1].legend(shadow=True, fancybox=True)\n",
    "\n",
    "plt.tick_params(labelcolor='none', which='both', top=False, bottom=False, left=False, right=False)\n",
    "plt.xlabel(\"Detection threshold\")"
   ]
  },
  {
   "cell_type": "code",
   "execution_count": 23,
   "metadata": {},
   "outputs": [],
   "source": [
    "fig.savefig(\"sparks_precision_recall.png\")"
   ]
  },
  {
   "cell_type": "markdown",
   "metadata": {},
   "source": [
    "## Set lower threshold for sparks inside puffs"
   ]
  },
  {
   "cell_type": "markdown",
   "metadata": {},
   "source": [
    "Idee : \n",
    "\n",
    "- rendere i puffs convessi e controllare se lo spark interseca il puff\n",
    "- sommare la probabilità di puff e sparks se e.g. puff > 0 e sparks > 0.7 <-- provo prima con questa possibilità perché non sempre gli sparks sono all'interno dei puffs"
   ]
  },
  {
   "cell_type": "markdown",
   "metadata": {},
   "source": [
    "### Sum puff probabilities to sparks (just for one training)"
   ]
  },
  {
   "cell_type": "code",
   "execution_count": 25,
   "metadata": {},
   "outputs": [],
   "source": [
    "training_name = \"focal_loss_gamma_5_ubelix\"\n",
    "\n",
    "ignore_frames = 6\n",
    "\n",
    "t_puffs_lower = 0.3\n",
    "t_puffs_upper = [0.0,0.5,0.55,0.6,0.65] # = t detection puffs (0 for standard detection) (t included)\n",
    "\n",
    "t_detection_sparks = [0.65, 0.7, 0.75, 0.8, 0.85, 0.9, 0.95] # for sum of puffs and sparks (t not included)\n",
    "\n",
    "min_radius_sparks = [0,1,2] # da vedere come usarlo"
   ]
  },
  {
   "cell_type": "code",
   "execution_count": 39,
   "metadata": {},
   "outputs": [],
   "source": [
    "from metrics_tools import compute_prec_rec, reduce_metrics_thresholds"
   ]
  },
  {
   "cell_type": "code",
   "execution_count": 40,
   "metadata": {
    "tags": []
   },
   "outputs": [
    {
     "name": "stdout",
     "output_type": "stream",
     "text": [
      "sparks' min radius: 0\n",
      "puffs' upper threshold: 0.0\n",
      "movie's name: 05\n",
      "movie's name: 10\n",
      "movie's name: 15\n",
      "movie's name: 20\n",
      "movie's name: 25\n",
      "movie's name: 32\n",
      "movie's name: 34\n",
      "movie's name: 40\n",
      "movie's name: 45\n",
      "puffs' upper threshold: 0.5\n",
      "movie's name: 05\n"
     ]
    },
    {
     "ename": "ValueError",
     "evalue": "x is neither increasing nor decreasing : [0.71428571 0.72857143 0.62857143 0.51428571 0.41428571 0.34285714\n 0.2       ].",
     "output_type": "error",
     "traceback": [
      "\u001b[1;31m---------------------------------------------------------------------------\u001b[0m",
      "\u001b[1;31mValueError\u001b[0m                                Traceback (most recent call last)",
      "\u001b[1;32m~\\AppData\\Local\\Temp/ipykernel_16332/3129209043.py\u001b[0m in \u001b[0;36m<module>\u001b[1;34m\u001b[0m\n\u001b[0;32m     28\u001b[0m \u001b[1;33m\u001b[0m\u001b[0m\n\u001b[0;32m     29\u001b[0m             \u001b[1;31m# compute prec & rec for all t_detection_sparks\u001b[0m\u001b[1;33m\u001b[0m\u001b[1;33m\u001b[0m\u001b[1;33m\u001b[0m\u001b[0m\n\u001b[1;32m---> 30\u001b[1;33m             prec_rec_all_t, auc = compute_prec_rec(annotations=binary_ys_sparks,\n\u001b[0m\u001b[0;32m     31\u001b[0m                                                    \u001b[0mpreds\u001b[0m\u001b[1;33m=\u001b[0m\u001b[0msparks_pred_total\u001b[0m\u001b[1;33m,\u001b[0m\u001b[1;33m\u001b[0m\u001b[1;33m\u001b[0m\u001b[0m\n\u001b[0;32m     32\u001b[0m                                                    \u001b[0mthresholds\u001b[0m\u001b[1;33m=\u001b[0m\u001b[0mt_detection_sparks\u001b[0m\u001b[1;33m,\u001b[0m\u001b[1;33m\u001b[0m\u001b[1;33m\u001b[0m\u001b[0m\n",
      "\u001b[1;32m~\\sparks_project\\sparks\\metrics_tools.py\u001b[0m in \u001b[0;36mcompute_prec_rec\u001b[1;34m(annotations, preds, thresholds, min_dist_xy, min_dist_t, min_radius, ignore_frames, ignore_mask)\u001b[0m\n\u001b[0;32m    394\u001b[0m     \u001b[1;31m#print(\"PREC\", prec)\u001b[0m\u001b[1;33m\u001b[0m\u001b[1;33m\u001b[0m\u001b[1;33m\u001b[0m\u001b[0m\n\u001b[0;32m    395\u001b[0m     \u001b[1;31m#print(\"REC\", rec)\u001b[0m\u001b[1;33m\u001b[0m\u001b[1;33m\u001b[0m\u001b[1;33m\u001b[0m\u001b[0m\n\u001b[1;32m--> 396\u001b[1;33m     \u001b[0marea_under_curve\u001b[0m \u001b[1;33m=\u001b[0m \u001b[0mauc\u001b[0m\u001b[1;33m(\u001b[0m\u001b[0mrec\u001b[0m\u001b[1;33m,\u001b[0m \u001b[0mprec\u001b[0m\u001b[1;33m)\u001b[0m\u001b[1;33m\u001b[0m\u001b[1;33m\u001b[0m\u001b[0m\n\u001b[0m\u001b[0;32m    397\u001b[0m \u001b[1;33m\u001b[0m\u001b[0m\n\u001b[0;32m    398\u001b[0m     \u001b[1;31m# TODO: adattare altri scripts che usano questa funzione!!!!\u001b[0m\u001b[1;33m\u001b[0m\u001b[1;33m\u001b[0m\u001b[1;33m\u001b[0m\u001b[0m\n",
      "\u001b[1;32m~\\.conda\\envs\\sparks\\lib\\site-packages\\sklearn\\metrics\\_ranking.py\u001b[0m in \u001b[0;36mauc\u001b[1;34m(x, y)\u001b[0m\n\u001b[0;32m     95\u001b[0m             \u001b[0mdirection\u001b[0m \u001b[1;33m=\u001b[0m \u001b[1;33m-\u001b[0m\u001b[1;36m1\u001b[0m\u001b[1;33m\u001b[0m\u001b[1;33m\u001b[0m\u001b[0m\n\u001b[0;32m     96\u001b[0m         \u001b[1;32melse\u001b[0m\u001b[1;33m:\u001b[0m\u001b[1;33m\u001b[0m\u001b[1;33m\u001b[0m\u001b[0m\n\u001b[1;32m---> 97\u001b[1;33m             raise ValueError(\"x is neither increasing nor decreasing \"\n\u001b[0m\u001b[0;32m     98\u001b[0m                              \": {}.\".format(x))\n\u001b[0;32m     99\u001b[0m \u001b[1;33m\u001b[0m\u001b[0m\n",
      "\u001b[1;31mValueError\u001b[0m: x is neither increasing nor decreasing : [0.71428571 0.72857143 0.62857143 0.51428571 0.41428571 0.34285714\n 0.2       ]."
     ]
    }
   ],
   "source": [
    "prec_rec_auc = defaultdict(lambda: defaultdict(dict))\n",
    "prec_rec_auc_all_movies = defaultdict(lambda: defaultdict(lambda: defaultdict(dict)))\n",
    "\n",
    "for min_r in min_radius_sparks:\n",
    "    print(f\"sparks' min radius: {min_r}\")\n",
    "    for t_p in t_puffs_upper:\n",
    "        print(f\"puffs' upper threshold: {t_p}\")\n",
    "        for movie_name in ys_all_trainings.keys():\n",
    "            print(f\"movie's name: {movie_name}\")\n",
    "            # open spark preds :\n",
    "            sparks_pred = sparks[training_name][movie_name]\n",
    "            # open puff preds :\n",
    "            puffs_pred = puffs[training_name][movie_name]\n",
    "            \n",
    "            # process spark & puff preds together :\n",
    "            # compute region where 0.3 <= puffs <= 0.65\n",
    "            binary_puffs_sparks = np.logical_and(puffs_pred <= t_p, puffs_pred >= t_puffs_lower)\n",
    "            # sum value of sparks and puffs in this region\n",
    "            sparks_pred_total = sparks_pred + binary_puffs_sparks * puffs_pred\n",
    "            \n",
    "            # get binary annotation mask\n",
    "            ys_sparks = ys[training_name][movie_name]\n",
    "            binary_ys_sparks = np.where(ys_sparks==1,1.0,0.0)\n",
    "            \n",
    "            # get ignore mask\n",
    "            ys_raw = ys_all_trainings[movie_name]\n",
    "            ignore_mask =  np.where(ys_raw==4,1,0)\n",
    "            \n",
    "            # compute prec & rec for all t_detection_sparks\n",
    "            prec_rec_all_t, auc = compute_prec_rec(annotations=binary_ys_sparks,\n",
    "                                                   preds=sparks_pred_total,\n",
    "                                                   thresholds=t_detection_sparks,\n",
    "                                                   ignore_frames=ignore_frames,\n",
    "                                                   min_radius=min_r,\n",
    "                                                   min_dist_xy=MIN_DIST_XY,\n",
    "                                                   min_dist_t=MIN_DIST_T,\n",
    "                                                   ignore_mask=ignore_mask\n",
    "                                                  ) # dict indexed by threshold value\n",
    "            #print(f\"precision and recall for all t_detection_sparks: {prec_rec_all_t}\")\n",
    "            \n",
    "            # get dict of Metrics for each min_r, t_p, movie_name\n",
    "            prec_rec_auc_all_movies[min_r][t_p][movie_name] = (prec_rec_all_t, auc)            \n",
    "            \n",
    "        # get only prec & rec metrics for all movies\n",
    "        metrics_dict = {movie_name: metrics[0] for (movie_name, metrics) in prec_rec_auc_all_movies[min_r][t_p].items()}\n",
    "        #pprint.pprint(metrics_dict)\n",
    "        \n",
    "        # reduce prec & rec over all movies and compute AUC\n",
    "        reduced_prec_rec, _, _, reduced_auc = reduce_metrics_thresholds(metrics_dict)\n",
    "        #pprint.pprint(reduced_prec_rec)\n",
    "        #print(reduced_auc)\n",
    "        prec_rec_auc[min_r][t_p] = (reduced_prec_rec, reduced_auc)\n",
    "\n",
    "# obtain dicts s.t. \n",
    "#prec_rec_auc[min_r][t_p] = (reduced metrics, reduced AUC)\n",
    "#prec_rec_auc_all_movies[min_r][t_p][movie_name] = (movie_name's metrics, movie_name's AUC)"
   ]
  },
  {
   "cell_type": "code",
   "execution_count": null,
   "metadata": {
    "tags": []
   },
   "outputs": [],
   "source": [
    "pprint.pprint(prec_rec_auc_all_movies)"
   ]
  },
  {
   "cell_type": "markdown",
   "metadata": {},
   "source": [
    "#### Average over all movies "
   ]
  },
  {
   "cell_type": "code",
   "execution_count": null,
   "metadata": {},
   "outputs": [],
   "source": [
    "'''ious_sparks_avg = {} # num training x num exclusion radius\n",
    "ious_puffs_avg = {}\n",
    "ious_waves_avg = {}\n",
    "\n",
    "for training_name in training_names:\n",
    "    num_videos = len(ious_sparks_all_trainings[training_name])\n",
    "    \n",
    "    ious_sparks_all_video = ious_sparks_all_trainings[training_name] # num videos x num exclusion radius\n",
    "    ious_puffs_all_video = ious_puffs_all_trainings[training_name] \n",
    "    ious_waves_all_video = ious_waves_all_trainings[training_name]\n",
    "    \n",
    "    ious_sparks_avg[training_name] = np.sum(np.array([list(res.values()) for res in ious_sparks_all_video.values()]),0)/num_videos\n",
    "    ious_puffs_avg[training_name] = np.sum(np.array([list(res.values()) for res in ious_puffs_all_video.values()]),0)/num_videos\n",
    "    ious_waves_avg[training_name] = np.sum(np.array([list(res.values()) for res in ious_waves_all_video.values()]),0)/num_videos''';"
   ]
  },
  {
   "cell_type": "code",
   "execution_count": 14,
   "metadata": {},
   "outputs": [],
   "source": [
    "from metrics_tools import reduce_metrics_thresholds"
   ]
  },
  {
   "cell_type": "code",
   "execution_count": 15,
   "metadata": {},
   "outputs": [],
   "source": [
    "# reverse dictionaires\n",
    "res = defaultdict(lambda: defaultdict(dict)) # t_upper x min_radius x num movies x t\n",
    "for movie_name, prec_rec in all_movies_prec_rec.items():\n",
    "    for t_upper, t_upper_prec_rec in prec_rec.items():\n",
    "        for min_radius, min_r_prec_rec in t_upper_prec_rec.items():\n",
    "            res[t_upper][min_radius][movie_name] = min_r_prec_rec"
   ]
  },
  {
   "cell_type": "code",
   "execution_count": 74,
   "metadata": {},
   "outputs": [],
   "source": [
    "# compute average over movies\n",
    "avg_prec_rec = defaultdict(lambda: defaultdict(dict))\n",
    "for t_upper, t_upper_prec_rec in res.items():\n",
    "    for min_radius, min_r_prec_rec in t_upper_prec_rec.items():\n",
    "        # get Metrics object and transform it to dict\n",
    "        metrics = reduce_metrics_thresholds(min_r_prec_rec)[0]\n",
    "        metrics = metrics[list(metrics)[0]]._asdict()\n",
    "        #print(metrics)\n",
    "        for metric in Metrics._fields:\n",
    "            #print(metric)\n",
    "            #print(metrics[metric])\n",
    "            avg_prec_rec[metric][t_upper][min_radius] = metrics[metric]"
   ]
  },
  {
   "cell_type": "markdown",
   "metadata": {},
   "source": [
    "### Results visualization"
   ]
  },
  {
   "cell_type": "code",
   "execution_count": 134,
   "metadata": {},
   "outputs": [
    {
     "name": "stdout",
     "output_type": "stream",
     "text": [
      "precision defaultdict(<class 'dict'>, {0.0: {0: 0.21079691516709512, 1: 0.22869318181818182, 2: 0.2744360902255639}, 0.5: {0: 0.18319838056680163, 1: 0.20135746606334842, 2: 0.24287856071964017}, 0.55: {0: 0.17829457364341086, 1: 0.19271948608137046, 2: 0.23470839260312945}, 0.6: {0: 0.17481203007518797, 1: 0.19047619047619047, 2: 0.2269021739130435}, 0.65: {0: 0.17088607594936708, 1: 0.18514851485148515, 2: 0.2198952879581152}})\n",
      "recall defaultdict(<class 'dict'>, {0.0: {0: 0.6283524904214559, 1: 0.6168582375478927, 2: 0.5593869731800766}, 0.5: {0: 0.6934865900383141, 1: 0.6819923371647509, 2: 0.6206896551724138}, 0.55: {0: 0.7049808429118773, 1: 0.6896551724137931, 2: 0.632183908045977}, 0.6: {0: 0.7126436781609196, 1: 0.7049808429118773, 2: 0.6398467432950191}, 0.65: {0: 0.7241379310344828, 1: 0.7164750957854407, 2: 0.6436781609195402}})\n",
      "tp defaultdict(<class 'dict'>, {0.0: {0: 164, 1: 161, 2: 146}, 0.5: {0: 181, 1: 178, 2: 162}, 0.55: {0: 184, 1: 180, 2: 165}, 0.6: {0: 186, 1: 184, 2: 167}, 0.65: {0: 189, 1: 187, 2: 168}})\n",
      "tp_fp defaultdict(<class 'dict'>, {0.0: {0: 778, 1: 704, 2: 532}, 0.5: {0: 988, 1: 884, 2: 667}, 0.55: {0: 1032, 1: 934, 2: 703}, 0.6: {0: 1064, 1: 966, 2: 736}, 0.65: {0: 1106, 1: 1010, 2: 764}})\n",
      "tp_fn defaultdict(<class 'dict'>, {0.0: {0: 261, 1: 261, 2: 261}, 0.5: {0: 261, 1: 261, 2: 261}, 0.55: {0: 261, 1: 261, 2: 261}, 0.6: {0: 261, 1: 261, 2: 261}, 0.65: {0: 261, 1: 261, 2: 261}})\n"
     ]
    }
   ],
   "source": [
    "for k,v in avg_prec_rec.items():\n",
    "    print(k,v)"
   ]
  },
  {
   "cell_type": "code",
   "execution_count": 136,
   "metadata": {},
   "outputs": [],
   "source": [
    "# create a dict of dataframes over metric type\n",
    "df_dict = {k: pd.DataFrame(v) for k, v in avg_prec_rec.items()}"
   ]
  },
  {
   "cell_type": "code",
   "execution_count": 120,
   "metadata": {},
   "outputs": [],
   "source": [
    "df_simple = pd.concat({k: pd.DataFrame(v) for k, v in avg_prec_rec.items()})"
   ]
  },
  {
   "cell_type": "code",
   "execution_count": 119,
   "metadata": {},
   "outputs": [
    {
     "name": "stdout",
     "output_type": "stream",
     "text": [
      "num t_upper 5\n",
      "num min size 3\n",
      "num metrics 5\n",
      "[0.0,\n",
      " 0.5,\n",
      " 0.55,\n",
      " 0.6,\n",
      " 0.65,\n",
      " 0.0,\n",
      " 0.5,\n",
      " 0.55,\n",
      " 0.6,\n",
      " 0.65,\n",
      " 0.0,\n",
      " 0.5,\n",
      " 0.55,\n",
      " 0.6,\n",
      " 0.65,\n",
      " 0.0,\n",
      " 0.5,\n",
      " 0.55,\n",
      " 0.6,\n",
      " 0.65,\n",
      " 0.0,\n",
      " 0.5,\n",
      " 0.55,\n",
      " 0.6,\n",
      " 0.65]\n"
     ]
    },
    {
     "ename": "ValueError",
     "evalue": "Shape of passed values is (25, 1), indices imply (15, 5)",
     "output_type": "error",
     "traceback": [
      "\u001b[1;31m---------------------------------------------------------------------------\u001b[0m",
      "\u001b[1;31mValueError\u001b[0m                                Traceback (most recent call last)",
      "\u001b[1;32m~\\.conda\\envs\\sparks\\lib\\site-packages\\pandas\\core\\internals\\managers.py\u001b[0m in \u001b[0;36mcreate_block_manager_from_blocks\u001b[1;34m(blocks, axes)\u001b[0m\n\u001b[0;32m   1674\u001b[0m                 blocks = [\n\u001b[1;32m-> 1675\u001b[1;33m                     make_block(\n\u001b[0m\u001b[0;32m   1676\u001b[0m                         \u001b[0mvalues\u001b[0m\u001b[1;33m=\u001b[0m\u001b[0mblocks\u001b[0m\u001b[1;33m[\u001b[0m\u001b[1;36m0\u001b[0m\u001b[1;33m]\u001b[0m\u001b[1;33m,\u001b[0m \u001b[0mplacement\u001b[0m\u001b[1;33m=\u001b[0m\u001b[0mslice\u001b[0m\u001b[1;33m(\u001b[0m\u001b[1;36m0\u001b[0m\u001b[1;33m,\u001b[0m \u001b[0mlen\u001b[0m\u001b[1;33m(\u001b[0m\u001b[0maxes\u001b[0m\u001b[1;33m[\u001b[0m\u001b[1;36m0\u001b[0m\u001b[1;33m]\u001b[0m\u001b[1;33m)\u001b[0m\u001b[1;33m)\u001b[0m\u001b[1;33m,\u001b[0m \u001b[0mndim\u001b[0m\u001b[1;33m=\u001b[0m\u001b[1;36m2\u001b[0m\u001b[1;33m\u001b[0m\u001b[1;33m\u001b[0m\u001b[0m\n",
      "\u001b[1;32m~\\.conda\\envs\\sparks\\lib\\site-packages\\pandas\\core\\internals\\blocks.py\u001b[0m in \u001b[0;36mmake_block\u001b[1;34m(values, placement, klass, ndim, dtype)\u001b[0m\n\u001b[0;32m   2731\u001b[0m \u001b[1;33m\u001b[0m\u001b[0m\n\u001b[1;32m-> 2732\u001b[1;33m     \u001b[1;32mreturn\u001b[0m \u001b[0mklass\u001b[0m\u001b[1;33m(\u001b[0m\u001b[0mvalues\u001b[0m\u001b[1;33m,\u001b[0m \u001b[0mndim\u001b[0m\u001b[1;33m=\u001b[0m\u001b[0mndim\u001b[0m\u001b[1;33m,\u001b[0m \u001b[0mplacement\u001b[0m\u001b[1;33m=\u001b[0m\u001b[0mplacement\u001b[0m\u001b[1;33m)\u001b[0m\u001b[1;33m\u001b[0m\u001b[1;33m\u001b[0m\u001b[0m\n\u001b[0m\u001b[0;32m   2733\u001b[0m \u001b[1;33m\u001b[0m\u001b[0m\n",
      "\u001b[1;32m~\\.conda\\envs\\sparks\\lib\\site-packages\\pandas\\core\\internals\\blocks.py\u001b[0m in \u001b[0;36m__init__\u001b[1;34m(self, values, placement, ndim)\u001b[0m\n\u001b[0;32m    141\u001b[0m         \u001b[1;32mif\u001b[0m \u001b[0mself\u001b[0m\u001b[1;33m.\u001b[0m\u001b[0m_validate_ndim\u001b[0m \u001b[1;32mand\u001b[0m \u001b[0mself\u001b[0m\u001b[1;33m.\u001b[0m\u001b[0mndim\u001b[0m \u001b[1;32mand\u001b[0m \u001b[0mlen\u001b[0m\u001b[1;33m(\u001b[0m\u001b[0mself\u001b[0m\u001b[1;33m.\u001b[0m\u001b[0mmgr_locs\u001b[0m\u001b[1;33m)\u001b[0m \u001b[1;33m!=\u001b[0m \u001b[0mlen\u001b[0m\u001b[1;33m(\u001b[0m\u001b[0mself\u001b[0m\u001b[1;33m.\u001b[0m\u001b[0mvalues\u001b[0m\u001b[1;33m)\u001b[0m\u001b[1;33m:\u001b[0m\u001b[1;33m\u001b[0m\u001b[1;33m\u001b[0m\u001b[0m\n\u001b[1;32m--> 142\u001b[1;33m             raise ValueError(\n\u001b[0m\u001b[0;32m    143\u001b[0m                 \u001b[1;34mf\"Wrong number of items passed {len(self.values)}, \"\u001b[0m\u001b[1;33m\u001b[0m\u001b[1;33m\u001b[0m\u001b[0m\n",
      "\u001b[1;31mValueError\u001b[0m: Wrong number of items passed 1, placement implies 5",
      "\nDuring handling of the above exception, another exception occurred:\n",
      "\u001b[1;31mValueError\u001b[0m                                Traceback (most recent call last)",
      "\u001b[1;32m~\\AppData\\Local\\Temp/ipykernel_1680/4021408698.py\u001b[0m in \u001b[0;36m<module>\u001b[1;34m\u001b[0m\n\u001b[0;32m     21\u001b[0m \u001b[0mpprint\u001b[0m\u001b[1;33m.\u001b[0m\u001b[0mpprint\u001b[0m\u001b[1;33m(\u001b[0m\u001b[0mdata\u001b[0m\u001b[1;33m)\u001b[0m\u001b[1;33m\u001b[0m\u001b[1;33m\u001b[0m\u001b[0m\n\u001b[0;32m     22\u001b[0m \u001b[1;33m\u001b[0m\u001b[0m\n\u001b[1;32m---> 23\u001b[1;33m \u001b[0mdf\u001b[0m \u001b[1;33m=\u001b[0m \u001b[0mpd\u001b[0m\u001b[1;33m.\u001b[0m\u001b[0mDataFrame\u001b[0m\u001b[1;33m(\u001b[0m\u001b[0mdata\u001b[0m\u001b[1;33m,\u001b[0m \u001b[0mrows\u001b[0m\u001b[1;33m,\u001b[0m \u001b[0mcols\u001b[0m\u001b[1;33m)\u001b[0m\u001b[1;33m\u001b[0m\u001b[1;33m\u001b[0m\u001b[0m\n\u001b[0m",
      "\u001b[1;32m~\\.conda\\envs\\sparks\\lib\\site-packages\\pandas\\core\\frame.py\u001b[0m in \u001b[0;36m__init__\u001b[1;34m(self, data, index, columns, dtype, copy)\u001b[0m\n\u001b[0;32m    582\u001b[0m                     \u001b[0mmgr\u001b[0m \u001b[1;33m=\u001b[0m \u001b[0marrays_to_mgr\u001b[0m\u001b[1;33m(\u001b[0m\u001b[0marrays\u001b[0m\u001b[1;33m,\u001b[0m \u001b[0mcolumns\u001b[0m\u001b[1;33m,\u001b[0m \u001b[0mindex\u001b[0m\u001b[1;33m,\u001b[0m \u001b[0mcolumns\u001b[0m\u001b[1;33m,\u001b[0m \u001b[0mdtype\u001b[0m\u001b[1;33m=\u001b[0m\u001b[0mdtype\u001b[0m\u001b[1;33m)\u001b[0m\u001b[1;33m\u001b[0m\u001b[1;33m\u001b[0m\u001b[0m\n\u001b[0;32m    583\u001b[0m                 \u001b[1;32melse\u001b[0m\u001b[1;33m:\u001b[0m\u001b[1;33m\u001b[0m\u001b[1;33m\u001b[0m\u001b[0m\n\u001b[1;32m--> 584\u001b[1;33m                     \u001b[0mmgr\u001b[0m \u001b[1;33m=\u001b[0m \u001b[0minit_ndarray\u001b[0m\u001b[1;33m(\u001b[0m\u001b[0mdata\u001b[0m\u001b[1;33m,\u001b[0m \u001b[0mindex\u001b[0m\u001b[1;33m,\u001b[0m \u001b[0mcolumns\u001b[0m\u001b[1;33m,\u001b[0m \u001b[0mdtype\u001b[0m\u001b[1;33m=\u001b[0m\u001b[0mdtype\u001b[0m\u001b[1;33m,\u001b[0m \u001b[0mcopy\u001b[0m\u001b[1;33m=\u001b[0m\u001b[0mcopy\u001b[0m\u001b[1;33m)\u001b[0m\u001b[1;33m\u001b[0m\u001b[1;33m\u001b[0m\u001b[0m\n\u001b[0m\u001b[0;32m    585\u001b[0m             \u001b[1;32melse\u001b[0m\u001b[1;33m:\u001b[0m\u001b[1;33m\u001b[0m\u001b[1;33m\u001b[0m\u001b[0m\n\u001b[0;32m    586\u001b[0m                 \u001b[0mmgr\u001b[0m \u001b[1;33m=\u001b[0m \u001b[0minit_dict\u001b[0m\u001b[1;33m(\u001b[0m\u001b[1;33m{\u001b[0m\u001b[1;33m}\u001b[0m\u001b[1;33m,\u001b[0m \u001b[0mindex\u001b[0m\u001b[1;33m,\u001b[0m \u001b[0mcolumns\u001b[0m\u001b[1;33m,\u001b[0m \u001b[0mdtype\u001b[0m\u001b[1;33m=\u001b[0m\u001b[0mdtype\u001b[0m\u001b[1;33m)\u001b[0m\u001b[1;33m\u001b[0m\u001b[1;33m\u001b[0m\u001b[0m\n",
      "\u001b[1;32m~\\.conda\\envs\\sparks\\lib\\site-packages\\pandas\\core\\internals\\construction.py\u001b[0m in \u001b[0;36minit_ndarray\u001b[1;34m(values, index, columns, dtype, copy)\u001b[0m\n\u001b[0;32m    236\u001b[0m         \u001b[0mblock_values\u001b[0m \u001b[1;33m=\u001b[0m \u001b[1;33m[\u001b[0m\u001b[0mvalues\u001b[0m\u001b[1;33m]\u001b[0m\u001b[1;33m\u001b[0m\u001b[1;33m\u001b[0m\u001b[0m\n\u001b[0;32m    237\u001b[0m \u001b[1;33m\u001b[0m\u001b[0m\n\u001b[1;32m--> 238\u001b[1;33m     \u001b[1;32mreturn\u001b[0m \u001b[0mcreate_block_manager_from_blocks\u001b[0m\u001b[1;33m(\u001b[0m\u001b[0mblock_values\u001b[0m\u001b[1;33m,\u001b[0m \u001b[1;33m[\u001b[0m\u001b[0mcolumns\u001b[0m\u001b[1;33m,\u001b[0m \u001b[0mindex\u001b[0m\u001b[1;33m]\u001b[0m\u001b[1;33m)\u001b[0m\u001b[1;33m\u001b[0m\u001b[1;33m\u001b[0m\u001b[0m\n\u001b[0m\u001b[0;32m    239\u001b[0m \u001b[1;33m\u001b[0m\u001b[0m\n\u001b[0;32m    240\u001b[0m \u001b[1;33m\u001b[0m\u001b[0m\n",
      "\u001b[1;32m~\\.conda\\envs\\sparks\\lib\\site-packages\\pandas\\core\\internals\\managers.py\u001b[0m in \u001b[0;36mcreate_block_manager_from_blocks\u001b[1;34m(blocks, axes)\u001b[0m\n\u001b[0;32m   1685\u001b[0m         \u001b[0mblocks\u001b[0m \u001b[1;33m=\u001b[0m \u001b[1;33m[\u001b[0m\u001b[0mgetattr\u001b[0m\u001b[1;33m(\u001b[0m\u001b[0mb\u001b[0m\u001b[1;33m,\u001b[0m \u001b[1;34m\"values\"\u001b[0m\u001b[1;33m,\u001b[0m \u001b[0mb\u001b[0m\u001b[1;33m)\u001b[0m \u001b[1;32mfor\u001b[0m \u001b[0mb\u001b[0m \u001b[1;32min\u001b[0m \u001b[0mblocks\u001b[0m\u001b[1;33m]\u001b[0m\u001b[1;33m\u001b[0m\u001b[1;33m\u001b[0m\u001b[0m\n\u001b[0;32m   1686\u001b[0m         \u001b[0mtot_items\u001b[0m \u001b[1;33m=\u001b[0m \u001b[0msum\u001b[0m\u001b[1;33m(\u001b[0m\u001b[0mb\u001b[0m\u001b[1;33m.\u001b[0m\u001b[0mshape\u001b[0m\u001b[1;33m[\u001b[0m\u001b[1;36m0\u001b[0m\u001b[1;33m]\u001b[0m \u001b[1;32mfor\u001b[0m \u001b[0mb\u001b[0m \u001b[1;32min\u001b[0m \u001b[0mblocks\u001b[0m\u001b[1;33m)\u001b[0m\u001b[1;33m\u001b[0m\u001b[1;33m\u001b[0m\u001b[0m\n\u001b[1;32m-> 1687\u001b[1;33m         \u001b[1;32mraise\u001b[0m \u001b[0mconstruction_error\u001b[0m\u001b[1;33m(\u001b[0m\u001b[0mtot_items\u001b[0m\u001b[1;33m,\u001b[0m \u001b[0mblocks\u001b[0m\u001b[1;33m[\u001b[0m\u001b[1;36m0\u001b[0m\u001b[1;33m]\u001b[0m\u001b[1;33m.\u001b[0m\u001b[0mshape\u001b[0m\u001b[1;33m[\u001b[0m\u001b[1;36m1\u001b[0m\u001b[1;33m:\u001b[0m\u001b[1;33m]\u001b[0m\u001b[1;33m,\u001b[0m \u001b[0maxes\u001b[0m\u001b[1;33m,\u001b[0m \u001b[0me\u001b[0m\u001b[1;33m)\u001b[0m\u001b[1;33m\u001b[0m\u001b[1;33m\u001b[0m\u001b[0m\n\u001b[0m\u001b[0;32m   1688\u001b[0m \u001b[1;33m\u001b[0m\u001b[0m\n\u001b[0;32m   1689\u001b[0m \u001b[1;33m\u001b[0m\u001b[0m\n",
      "\u001b[1;31mValueError\u001b[0m: Shape of passed values is (25, 1), indices imply (15, 5)"
     ]
    }
   ],
   "source": [
    "cols = pd.Index(t_puffs_upper, name='Puffs upper bounds')\n",
    "classes = Metrics._fields\n",
    "rows = pd.MultiIndex.from_product([classes, min_radius_sparks], names=['Metrics', 'Sparks min size'])\n",
    "\n",
    "#data = [*ious_sparks_avg.values(),\n",
    "#       *ious_puffs_avg.values(),\n",
    "#       *ious_waves_avg.values()\n",
    "#      ]\n",
    "\n",
    "#pprint.pprint(list(dict(avg_prec_rec).values()))\n",
    "\n",
    "#data = [[list(radius_dict.values())]  for metric_dict in avg_prec_rec.values() \n",
    "#        for radius_dict in list(dict(metric_dict).values())\n",
    "#       ]\n",
    "\n",
    "data = [metric_res for metric_dict in avg_prec_rec.values() for metric_res in metric_dict]\n",
    "\n",
    "print(\"num t_upper\", len(t_puffs_upper))\n",
    "print(\"num min size\", len(min_radius_sparks))\n",
    "print(\"num metrics\", len(Metrics._fields))\n",
    "pprint.pprint(data)\n",
    "\n",
    "df = pd.DataFrame(data, rows, cols)"
   ]
  },
  {
   "cell_type": "code",
   "execution_count": 116,
   "metadata": {},
   "outputs": [
    {
     "data": {
      "text/html": [
       "<div>\n",
       "<style scoped>\n",
       "    .dataframe tbody tr th:only-of-type {\n",
       "        vertical-align: middle;\n",
       "    }\n",
       "\n",
       "    .dataframe tbody tr th {\n",
       "        vertical-align: top;\n",
       "    }\n",
       "\n",
       "    .dataframe thead th {\n",
       "        text-align: right;\n",
       "    }\n",
       "</style>\n",
       "<table border=\"1\" class=\"dataframe\">\n",
       "  <thead>\n",
       "    <tr style=\"text-align: right;\">\n",
       "      <th></th>\n",
       "      <th>Puffs upper bounds</th>\n",
       "      <th>0.00</th>\n",
       "      <th>0.50</th>\n",
       "      <th>0.55</th>\n",
       "      <th>0.60</th>\n",
       "      <th>0.65</th>\n",
       "    </tr>\n",
       "    <tr>\n",
       "      <th>Metrics</th>\n",
       "      <th>Sparks min size</th>\n",
       "      <th></th>\n",
       "      <th></th>\n",
       "      <th></th>\n",
       "      <th></th>\n",
       "      <th></th>\n",
       "    </tr>\n",
       "  </thead>\n",
       "  <tbody>\n",
       "    <tr>\n",
       "      <th>precision</th>\n",
       "      <th>focal_loss_gamma_5_ubelix</th>\n",
       "      <td>NaN</td>\n",
       "      <td>NaN</td>\n",
       "      <td>NaN</td>\n",
       "      <td>NaN</td>\n",
       "      <td>NaN</td>\n",
       "    </tr>\n",
       "    <tr>\n",
       "      <th>recall</th>\n",
       "      <th>focal_loss_gamma_5_ubelix</th>\n",
       "      <td>NaN</td>\n",
       "      <td>NaN</td>\n",
       "      <td>NaN</td>\n",
       "      <td>NaN</td>\n",
       "      <td>NaN</td>\n",
       "    </tr>\n",
       "    <tr>\n",
       "      <th>tp</th>\n",
       "      <th>focal_loss_gamma_5_ubelix</th>\n",
       "      <td>NaN</td>\n",
       "      <td>NaN</td>\n",
       "      <td>NaN</td>\n",
       "      <td>NaN</td>\n",
       "      <td>NaN</td>\n",
       "    </tr>\n",
       "    <tr>\n",
       "      <th>tp_fp</th>\n",
       "      <th>focal_loss_gamma_5_ubelix</th>\n",
       "      <td>NaN</td>\n",
       "      <td>NaN</td>\n",
       "      <td>NaN</td>\n",
       "      <td>NaN</td>\n",
       "      <td>NaN</td>\n",
       "    </tr>\n",
       "    <tr>\n",
       "      <th>tp_fn</th>\n",
       "      <th>focal_loss_gamma_5_ubelix</th>\n",
       "      <td>NaN</td>\n",
       "      <td>NaN</td>\n",
       "      <td>NaN</td>\n",
       "      <td>NaN</td>\n",
       "      <td>NaN</td>\n",
       "    </tr>\n",
       "  </tbody>\n",
       "</table>\n",
       "</div>"
      ],
      "text/plain": [
       "Puffs upper bounds                  0.00 0.50 0.55 0.60 0.65\n",
       "Metrics   Sparks min size                                   \n",
       "precision focal_loss_gamma_5_ubelix  NaN  NaN  NaN  NaN  NaN\n",
       "recall    focal_loss_gamma_5_ubelix  NaN  NaN  NaN  NaN  NaN\n",
       "tp        focal_loss_gamma_5_ubelix  NaN  NaN  NaN  NaN  NaN\n",
       "tp_fp     focal_loss_gamma_5_ubelix  NaN  NaN  NaN  NaN  NaN\n",
       "tp_fn     focal_loss_gamma_5_ubelix  NaN  NaN  NaN  NaN  NaN"
      ]
     },
     "metadata": {},
     "output_type": "display_data"
    }
   ],
   "source": [
    "display(df)"
   ]
  },
  {
   "cell_type": "code",
   "execution_count": null,
   "metadata": {},
   "outputs": [],
   "source": []
  },
  {
   "cell_type": "code",
   "execution_count": 137,
   "metadata": {},
   "outputs": [
    {
     "name": "stderr",
     "output_type": "stream",
     "text": [
      "PandasGUI INFO — pandasgui.gui — Opening PandasGUI\n",
      "PandasGUI WARNING — pandasgui.utility — In untitled_1, converted column names to string: 0.0, 0.5, 0.55, 0.6, 0.65\n",
      "PandasGUI WARNING — pandasgui.utility — In untitled_2, converted column names to string: 0.0, 0.5, 0.55, 0.6, 0.65\n",
      "PandasGUI WARNING — pandasgui.utility — In untitled_3, converted column names to string: 0.0, 0.5, 0.55, 0.6, 0.65\n",
      "PandasGUI WARNING — pandasgui.utility — In untitled_4, converted column names to string: 0.0, 0.5, 0.55, 0.6, 0.65\n",
      "PandasGUI WARNING — pandasgui.utility — In untitled_5, converted column names to string: 0.0, 0.5, 0.55, 0.6, 0.65\n"
     ]
    },
    {
     "data": {
      "text/plain": [
       "<pandasgui.gui.PandasGui at 0x2315d383430>"
      ]
     },
     "execution_count": 137,
     "metadata": {},
     "output_type": "execute_result"
    }
   ],
   "source": [
    "from pandasgui import show\n",
    "show(*list(df_dict.values()))"
   ]
  },
  {
   "cell_type": "code",
   "execution_count": null,
   "metadata": {},
   "outputs": [],
   "source": []
  }
 ],
 "metadata": {
  "kernelspec": {
   "display_name": "Python 3 (ipykernel)",
   "language": "python",
   "name": "python3"
  },
  "language_info": {
   "codemirror_mode": {
    "name": "ipython",
    "version": 3
   },
   "file_extension": ".py",
   "mimetype": "text/x-python",
   "name": "python",
   "nbconvert_exporter": "python",
   "pygments_lexer": "ipython3",
   "version": "3.8.8"
  }
 },
 "nbformat": 4,
 "nbformat_minor": 4
}
