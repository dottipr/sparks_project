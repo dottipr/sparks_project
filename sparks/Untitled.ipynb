{
 "cells": [
  {
   "cell_type": "code",
   "execution_count": 13,
   "id": "b88779db-5934-442d-b9d7-91901d1dbc0c",
   "metadata": {},
   "outputs": [],
   "source": [
    "import torch"
   ]
  },
  {
   "cell_type": "code",
   "execution_count": 296,
   "id": "7c117dfe-beba-49bc-99e5-489712f29443",
   "metadata": {},
   "outputs": [],
   "source": [
    "chunk_duration = 500\n",
    "num_channels = 4"
   ]
  },
  {
   "cell_type": "code",
   "execution_count": 297,
   "id": "2a0f84b3-eecd-44ed-be4c-aa48cb28a3ff",
   "metadata": {},
   "outputs": [],
   "source": [
    "import matplotlib.pyplot as plt"
   ]
  },
  {
   "cell_type": "code",
   "execution_count": 1,
   "id": "45b1faf2-9ee6-4b53-86ce-36798ec32162",
   "metadata": {},
   "outputs": [],
   "source": [
    "import imageio\n",
    "import numpy as np"
   ]
  },
  {
   "cell_type": "code",
   "execution_count": 299,
   "id": "3a8df28a-d7de-4dc3-967b-0d0bdc75f982",
   "metadata": {},
   "outputs": [],
   "source": [
    "mask_path = \"../data/temp_annotation_masks_new/videos/01_video_mask.tif\""
   ]
  },
  {
   "cell_type": "code",
   "execution_count": 300,
   "id": "5f842569-4f3a-4d5e-ab75-ed512dceec11",
   "metadata": {
    "tags": []
   },
   "outputs": [],
   "source": [
    "mask = np.asarray(imageio.volread(mask_path))"
   ]
  },
  {
   "cell_type": "code",
   "execution_count": 301,
   "id": "40227a27-c011-478a-ad34-b99ce771745e",
   "metadata": {
    "tags": []
   },
   "outputs": [
    {
     "data": {
      "text/plain": [
       "(500, 64, 512)"
      ]
     },
     "execution_count": 301,
     "metadata": {},
     "output_type": "execute_result"
    }
   ],
   "source": [
    "mask.shape"
   ]
  },
  {
   "cell_type": "code",
   "execution_count": 302,
   "id": "982700aa-6843-4b60-bc9e-40e9b2f39043",
   "metadata": {},
   "outputs": [],
   "source": [
    "mask_chunk = mask[:chunk_duration]"
   ]
  },
  {
   "cell_type": "code",
   "execution_count": 303,
   "id": "7bddba9a-0287-4d77-8cc4-65ca3a8f30ae",
   "metadata": {},
   "outputs": [
    {
     "data": {
      "text/plain": [
       "(500, 64, 512)"
      ]
     },
     "execution_count": 303,
     "metadata": {},
     "output_type": "execute_result"
    }
   ],
   "source": [
    "mask_chunk.shape"
   ]
  },
  {
   "cell_type": "code",
   "execution_count": 304,
   "id": "94b7e924-6e46-4429-948d-0808961194fb",
   "metadata": {},
   "outputs": [],
   "source": [
    "def get_new_voxel_label(voxel_seq):\n",
    "    # voxel_seq is a vector of 'num_channels' elements\n",
    "    # {0} -> 0\n",
    "    # {0, i}, {i} -> i, i = 1,2,3\n",
    "    # {0, 1, i}, {1, i} -> 1, i = 2,3\n",
    "    # {0, 2 ,3}, {2, 3} -> 3\n",
    "    #print(voxel_seq)\n",
    "\n",
    "    if np.max(voxel_seq == 0):\n",
    "        return 0\n",
    "    elif 1 in voxel_seq:\n",
    "        return 1\n",
    "    elif 3 in voxel_seq:\n",
    "        return 3\n",
    "    else:\n",
    "        return np.max(voxel_seq)"
   ]
  },
  {
   "cell_type": "code",
   "execution_count": 305,
   "id": "8c4fdd9e-7e35-434c-b7bc-295ea85451e7",
   "metadata": {},
   "outputs": [],
   "source": [
    "def shrink_mask(mask, num_channels):\n",
    "    # input is an annotation mask with the number of channels of the unet\n",
    "    # output is a shrinked mask where :\n",
    "    # {0} -> 0\n",
    "    # {0, i}, {i} -> i, i = 1,2,3\n",
    "    # {0, 1, i}, {1, i} -> 1, i = 2,3\n",
    "    # {0, 2 ,3}, {2, 3} -> 2\n",
    "    # and each voxel in the output corresponds to 'num_channels' voxels in\n",
    "    # the input\n",
    "\n",
    "    assert mask.shape[0] % num_channels == 0, \\\n",
    "    \"in shrink_mask the duration of the mask is not a multiple of num_channels\"\n",
    "\n",
    "    # get subtensor of duration 'num_channels'\n",
    "    sub_masks = np.split(mask, mask.shape[0]//num_channels)\n",
    "    \n",
    "    #print(sub_masks[0].shape)\n",
    "    #print(len(sub_masks))\n",
    "\n",
    "    new_mask = []\n",
    "    # for each subtensor get a single frame\n",
    "    for sub_mask in sub_masks:\n",
    "        new_frame = np.array([[get_new_voxel_label(sub_mask[:,y,x]) for x in range(sub_mask.shape[2])] for y in range(sub_mask.shape[1])])\n",
    "        #print(new_frame.shape)\n",
    "        new_mask.append(new_frame)\n",
    "\n",
    "    new_mask = np.stack(new_mask)\n",
    "    return new_mask"
   ]
  },
  {
   "cell_type": "code",
   "execution_count": 306,
   "id": "32e5eafb-093d-49ae-8022-b338c7339cba",
   "metadata": {},
   "outputs": [],
   "source": [
    "new_mask = shrink_mask(mask_chunk, num_channels)"
   ]
  },
  {
   "cell_type": "code",
   "execution_count": 307,
   "id": "d1796f23-e7a3-4230-8624-70f8e09254f4",
   "metadata": {},
   "outputs": [
    {
     "data": {
      "text/plain": [
       "(125, 64, 512)"
      ]
     },
     "execution_count": 307,
     "metadata": {},
     "output_type": "execute_result"
    }
   ],
   "source": [
    "new_mask.shape"
   ]
  },
  {
   "cell_type": "code",
   "execution_count": 308,
   "id": "fa65ec4d-cc02-462f-b327-9857cb4cebe8",
   "metadata": {},
   "outputs": [
    {
     "data": {
      "text/plain": [
       "array([0, 1, 3, 4])"
      ]
     },
     "execution_count": 308,
     "metadata": {},
     "output_type": "execute_result"
    }
   ],
   "source": [
    "np.unique(new_mask)"
   ]
  },
  {
   "cell_type": "code",
   "execution_count": 310,
   "id": "0f4dcb2f-2e9a-4fd3-8b3c-ff6dc2c7b7c4",
   "metadata": {},
   "outputs": [],
   "source": [
    "imageio.volwrite(\"test_new_mask.tif\", np.uint8(new_mask))"
   ]
  },
  {
   "cell_type": "code",
   "execution_count": 6,
   "id": "f85911d6-e9ee-4091-8a8c-025e7da69fce",
   "metadata": {},
   "outputs": [],
   "source": [
    "a = np.array([[[1,2],[1,2],[1,2]],[[1,2],[1,2],[1,2]],[[1,2],[1,2],[1,2]]])"
   ]
  },
  {
   "cell_type": "code",
   "execution_count": 9,
   "id": "e4c359d3-0957-4365-aeb9-27fefce7ee94",
   "metadata": {},
   "outputs": [
    {
     "data": {
      "text/plain": [
       "(3, 3, 2)"
      ]
     },
     "execution_count": 9,
     "metadata": {},
     "output_type": "execute_result"
    }
   ],
   "source": [
    "np.pad(a,((0,),(0,),(0,)), mode='constant').shape"
   ]
  },
  {
   "cell_type": "code",
   "execution_count": 8,
   "id": "c3f4a38f-9300-457b-8dd3-ad8d9b123b82",
   "metadata": {},
   "outputs": [
    {
     "data": {
      "text/plain": [
       "(3, 3, 2)"
      ]
     },
     "execution_count": 8,
     "metadata": {},
     "output_type": "execute_result"
    }
   ],
   "source": [
    "a.shape"
   ]
  },
  {
   "cell_type": "code",
   "execution_count": null,
   "id": "a01f288e-4a53-428b-b728-55f4f1038fcd",
   "metadata": {},
   "outputs": [],
   "source": []
  }
 ],
 "metadata": {
  "kernelspec": {
   "display_name": "Python 3 (ipykernel)",
   "language": "python",
   "name": "python3"
  },
  "language_info": {
   "codemirror_mode": {
    "name": "ipython",
    "version": 3
   },
   "file_extension": ".py",
   "mimetype": "text/x-python",
   "name": "python",
   "nbconvert_exporter": "python",
   "pygments_lexer": "ipython3",
   "version": "3.8.8"
  }
 },
 "nbformat": 4,
 "nbformat_minor": 5
}
