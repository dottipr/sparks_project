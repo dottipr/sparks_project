{
 "cells": [
  {
   "cell_type": "code",
   "execution_count": 1,
   "metadata": {},
   "outputs": [],
   "source": [
    "%load_ext autoreload\n",
    "%autoreload 2"
   ]
  },
  {
   "cell_type": "code",
   "execution_count": 2,
   "metadata": {},
   "outputs": [
    {
     "name": "stdout",
     "output_type": "stream",
     "text": [
      "\n",
      "\n",
      "Please cite the following paper when using nnUNet:\n",
      "\n",
      "Isensee, F., Jaeger, P.F., Kohl, S.A.A. et al. \"nnU-Net: a self-configuring method for deep learning-based biomedical image segmentation.\" Nat Methods (2020). https://doi.org/10.1038/s41592-020-01008-z\n",
      "\n",
      "\n",
      "If you have questions or suggestions, feel free to open an issue at https://github.com/MIC-DKFZ/nnUNet\n",
      "\n"
     ]
    }
   ],
   "source": [
    "import os\n",
    "\n",
    "import numpy as np\n",
    "import torch\n",
    "from torch import nn\n",
    "import imageio\n",
    "import napari\n",
    "\n",
    "\n",
    "from utils.in_out_tools import write_videos_on_disk\n",
    "from utils.training_inference_tools import get_preds_from_path\n",
    "from utils.training_script_utils import init_model\n",
    "from utils.visualization_tools import (\n",
    "    get_annotations_contour,\n",
    "    get_discrete_cmap,\n",
    "    get_labels_cmap,\n",
    ")\n",
    "\n",
    "from config import TrainingConfig"
   ]
  },
  {
   "cell_type": "markdown",
   "metadata": {},
   "source": [
    "Parameters that are necessary to configure the dataset and the UNet model (can be eventually hard-coded in the function)"
   ]
  },
  {
   "cell_type": "code",
   "execution_count": 3,
   "metadata": {},
   "outputs": [],
   "source": [
    "### Set training-specific parameters ###\n",
    "\n",
    "# Initialize training-specific parameters\n",
    "config_path = os.path.join(\"config_files\", \"config_final_model.ini\")\n",
    "params = TrainingConfig(training_config_file=config_path)\n",
    "params.training_name = \"final_model\"\n",
    "model_name = f\"network_100000.pth\"\n",
    "\n",
    "assert params.nn_architecture in [\n",
    "    \"pablos_unet\",\n",
    "    \"github_unet\",\n",
    "    \"openai_unet\",\n",
    "], f\"nn_architecture must be one of 'pablos_unet', 'github_unet', 'openai_unet'\""
   ]
  },
  {
   "cell_type": "markdown",
   "metadata": {},
   "source": [
    "Load UNet model"
   ]
  },
  {
   "cell_type": "code",
   "execution_count": 4,
   "metadata": {},
   "outputs": [],
   "source": [
    "### Configure UNet ###\n",
    "params.set_device(device=torch.device(\"cuda\" if torch.cuda.is_available() else \"cpu\"))\n",
    "\n",
    "network = init_model(params=params)\n",
    "network = nn.DataParallel(network).to(params.device)\n",
    "\n",
    "### Load UNet model ###\n",
    "\n",
    "# Path to the saved model checkpoint\n",
    "models_relative_path = \"runs/\"\n",
    "model_path = os.path.join(models_relative_path, params.training_name, model_name)\n",
    "\n",
    "# Load the model state dictionary\n",
    "network.load_state_dict(torch.load(model_path, map_location=params.device))\n",
    "network.eval()"
   ]
  },
  {
   "cell_type": "markdown",
   "metadata": {},
   "source": [
    "Define movie path"
   ]
  },
  {
   "cell_type": "code",
   "execution_count": 5,
   "metadata": {},
   "outputs": [],
   "source": [
    "# movie_path = os.path.join(\n",
    "#     r\"C:\\Users\\dotti\\sparks_project\\data\\sparks_dataset\",\n",
    "#     \"34_video.tif\"\n",
    "# )\n",
    "movie_path = r\"C:\\Users\\dotti\\Desktop\\cropped 34_video.tif\""
   ]
  },
  {
   "cell_type": "markdown",
   "metadata": {},
   "source": [
    "Function definition"
   ]
  },
  {
   "cell_type": "code",
   "execution_count": 6,
   "metadata": {},
   "outputs": [],
   "source": []
  },
  {
   "cell_type": "code",
   "execution_count": 7,
   "metadata": {},
   "outputs": [],
   "source": [
    "segmentation, instances = get_preds_from_path(\n",
    "    model=network,\n",
    "    params=params,\n",
    "    movie_path=movie_path,\n",
    "    return_dict=False,\n",
    ")"
   ]
  },
  {
   "cell_type": "markdown",
   "metadata": {},
   "source": [
    "### Visualize preds with Napari"
   ]
  },
  {
   "cell_type": "code",
   "execution_count": 9,
   "metadata": {},
   "outputs": [],
   "source": [
    "# open original movie\n",
    "sample = np.asarray(imageio.volread(movie_path))"
   ]
  },
  {
   "cell_type": "code",
   "execution_count": 10,
   "metadata": {},
   "outputs": [],
   "source": [
    "# set up napari parameters\n",
    "cmap = get_discrete_cmap(name=\"gray\", lut=16)\n",
    "labels_cmap = get_labels_cmap()"
   ]
  },
  {
   "cell_type": "code",
   "execution_count": 11,
   "metadata": {},
   "outputs": [],
   "source": [
    "# visualize only border of classes (segmentation array)\n",
    "segmentation_border = get_annotations_contour(segmentation)"
   ]
  },
  {
   "cell_type": "code",
   "execution_count": 12,
   "metadata": {},
   "outputs": [
    {
     "data": {
      "text/plain": [
       "<Labels layer 'instances' at 0x21662e24400>"
      ]
     },
     "execution_count": 12,
     "metadata": {},
     "output_type": "execute_result"
    }
   ],
   "source": [
    "viewer = napari.Viewer()\n",
    "viewer.add_image(\n",
    "    sample,\n",
    "    name=\"input movie\",\n",
    "    # colormap=('colors',cmap)\n",
    ")\n",
    "\n",
    "viewer.add_labels(\n",
    "    segmentation_border,\n",
    "    name=\"segmentation\",\n",
    "    opacity=0.9,\n",
    "    color=labels_cmap,\n",
    ")  # only visualize border\n",
    "\n",
    "viewer.add_labels(\n",
    "    segmentation,\n",
    "    name=\"segmentation\",\n",
    "    opacity=0.5,\n",
    "    color=labels_cmap,\n",
    "    visible=False,\n",
    ")  # to visualize whole roi instead\n",
    "\n",
    "viewer.add_labels(\n",
    "    instances,\n",
    "    name=\"instances\",\n",
    "    opacity=0.5,\n",
    ")"
   ]
  },
  {
   "cell_type": "code",
   "execution_count": null,
   "metadata": {},
   "outputs": [],
   "source": []
  }
 ],
 "metadata": {
  "kernelspec": {
   "display_name": "sparks",
   "language": "python",
   "name": "python3"
  },
  "language_info": {
   "codemirror_mode": {
    "name": "ipython",
    "version": 3
   },
   "file_extension": ".py",
   "mimetype": "text/x-python",
   "name": "python",
   "nbconvert_exporter": "python",
   "pygments_lexer": "ipython3",
   "version": "3.10.12"
  },
  "orig_nbformat": 4
 },
 "nbformat": 4,
 "nbformat_minor": 2
}
