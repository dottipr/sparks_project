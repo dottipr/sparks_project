{
 "cells": [
  {
   "cell_type": "markdown",
   "metadata": {},
   "source": [
    "# Inference Script\n",
    "\n",
    "**Author:** Prisca Dotti\n",
    "\n",
    "**Last modified:** 12.02.2024\n",
    "\n",
    "Use this script to load a sample movie and run preprocessing suggested in \"A New Approach to the Detection and Statistical Classification of Ca2+ Sparks\", by Bányász et al.\n",
    "\n",
    "Two ideas:\n",
    "1. only apply filtering to movies + cell mask to annotations and train U-Net again\n",
    "2. Apply whole algorithm to cell to detect sparks and then find a way to compare them automatically with our annotations & re-train U-Net\n",
    "\n",
    "\n",
    "### Conclusions\n",
    "\n",
    "After implementing and running the script, it appears that the script is not working as expected. The ground truth contains 69 true sparks, but the script is not able to detect all of them accurately.\n",
    "\n",
    "Possible reasons for the discrepancy between the expected and actual results could be:\n",
    "\n",
    "1. Noisy sample: preprocess and better denoise sample (but then again it is not fully automatic)\n",
    "2. Find better thresholds\n",
    "not be capturing all the relevant characteristics of sparks. Exploring alternative feature extraction techniques or incorporating additional features could potentially enhance the accuracy of spark detection.\n",
    "3. Find better statistical tests"
   ]
  },
  {
   "cell_type": "code",
   "execution_count": 1,
   "metadata": {},
   "outputs": [],
   "source": [
    "# autoreload is used to reload modules automatically before entering the\n",
    "# execution of code typed at the IPython prompt.\n",
    "%load_ext autoreload\n",
    "%autoreload 2\n",
    "# To import modules from parent directory in Jupyter Notebook\n",
    "import sys\n",
    "\n",
    "sys.path.append(\"..\")"
   ]
  },
  {
   "cell_type": "code",
   "execution_count": 2,
   "metadata": {},
   "outputs": [],
   "source": [
    "# Required imports\n",
    "import numpy as np\n",
    "import imageio\n",
    "import matplotlib.pyplot as plt\n",
    "import napari\n",
    "from scipy.ndimage import uniform_filter, convolve, median_filter, label, center_of_mass\n",
    "from scipy.stats import t, wilcoxon"
   ]
  },
  {
   "cell_type": "markdown",
   "metadata": {},
   "source": [
    "### Function Definitions"
   ]
  },
  {
   "cell_type": "code",
   "execution_count": 3,
   "metadata": {},
   "outputs": [],
   "source": [
    "def load_movie(movie_path):\n",
    "    return np.asarray(imageio.volread(movie_path))"
   ]
  },
  {
   "cell_type": "code",
   "execution_count": 4,
   "metadata": {},
   "outputs": [],
   "source": [
    "def preprocess_frames(frames):\n",
    "    # Assuming the first few frames can serve as a baseline for normalization\n",
    "    normalizing_frame = np.median(frames[:10], axis=0)\n",
    "    return frames / (normalizing_frame + 1e-6)  # Prevent division by zero"
   ]
  },
  {
   "cell_type": "code",
   "execution_count": 5,
   "metadata": {},
   "outputs": [],
   "source": [
    "def apply_boxcar_filter(frames, filter_size=5):\n",
    "    \"\"\"\n",
    "    Apply a 5x5 boxcar filter to each 2D frame in a 3D numpy array of frames.\n",
    "    Attenuates objects having spatial size of <~1.um (5x pixel size of 0.2 um).\n",
    "\n",
    "    Parameters:\n",
    "    - frames: A 3D numpy array with shape (num_frames, height, width).\n",
    "    - filter_size: Size of the boxcar filter, default is 5.\n",
    "\n",
    "    Returns:\n",
    "    - A 3D numpy array with the filtered frames.\n",
    "    \"\"\"\n",
    "    # Apply the boxcar filter to each frame\n",
    "    filtered_frames = np.array(\n",
    "        [uniform_filter(frame, size=filter_size) for frame in frames]\n",
    "    )\n",
    "    return filtered_frames"
   ]
  },
  {
   "cell_type": "code",
   "execution_count": 29,
   "metadata": {},
   "outputs": [],
   "source": [
    "def difference_and_threshold(frames, threshold=0.1):\n",
    "    # Remark: Custom threshold based on expected Ca²⁺ event intensities\n",
    "    diff_frames = np.diff(frames, axis=0)\n",
    "\n",
    "    # flattened_data = diff_frames.flatten()\n",
    "    # median_intensity = np.median(flattened_data)\n",
    "    # std_intensity = np.std(flattened_data)\n",
    "\n",
    "    # dynamic_threshold = median_intensity + (2 * std_intensity)\n",
    "    # print(\"Dynamic threshold: \", dynamic_threshold)\n",
    "\n",
    "    thresholded_frames = np.append(\n",
    "        (diff_frames > threshold).astype(np.uint8),\n",
    "        # (diff_frames > dynamic_threshold).astype(np.uint8),\n",
    "        np.zeros_like(frames[:1]),  # Add missing frame at the end\n",
    "        axis=0,\n",
    "    ).astype(np.uint8)\n",
    "\n",
    "    # Repeat the last frame to match the number of frames\n",
    "    diff_frames = np.concatenate([diff_frames, diff_frames[-1:]], axis=0)\n",
    "\n",
    "    return diff_frames, thresholded_frames"
   ]
  },
  {
   "cell_type": "code",
   "execution_count": 13,
   "metadata": {},
   "outputs": [],
   "source": [
    "def live_or_die_filter_frame(binary_image, n_size=7, n_live=12, n_generation=3):\n",
    "    \"\"\"\n",
    "    Applies the \"live-or-die\" algorithm to a binary image.\n",
    "\n",
    "    From: \"Theoretical analysis of the Ca2+ spark amplitude distribution\" by\n",
    "    Izu, L.T., et al. (1998)\n",
    "\n",
    "    Parameters:\n",
    "    - binary_image: A 2D numpy array where potential spark pixels are marked as\n",
    "                    1 and all others as 0.\n",
    "    - n_size: Size of the square neighborhood.\n",
    "    - n_live: Minimum number of live neighbors required for a pixel to survive.\n",
    "    - n_generation: Number of iterations the algorithm runs for.\n",
    "\n",
    "    Returns:\n",
    "    - A 2D numpy array after applying the \"live-or-die\" filtering.\n",
    "    \"\"\"\n",
    "    # Create a square kernel of size Nsize x n_size for boxcar averaging\n",
    "    kernel = np.ones((n_size, n_size), dtype=np.float32)\n",
    "    for _ in range(n_generation):\n",
    "        # Perform boxcar averaging\n",
    "        neighbor_count = convolve(\n",
    "            binary_image.astype(np.float32), kernel, mode=\"constant\", cval=0\n",
    "        )\n",
    "        # Apply thresholding based on n_live\n",
    "        binary_image = neighbor_count >= n_live\n",
    "    return binary_image\n",
    "\n",
    "\n",
    "def live_or_die_filter(binary_movie, n_size=4, n_live=7, n_generation=3):\n",
    "    \"\"\"\n",
    "    Applies the \"live-or-die\" algorithm to a 3D binary movie.\n",
    "\n",
    "    Parameters:\n",
    "    - binary_movie: A 3D numpy array where potential spark pixels are marked as\n",
    "                    1 and all others as 0.\n",
    "    - n_size: Size of the square neighborhood.\n",
    "    - n_live: Minimum number of live neighbors required for a pixel to survive.\n",
    "    - n_generation: Number of iterations the algorithm runs for.\n",
    "\n",
    "    Returns:\n",
    "    - A 3D numpy array after applying the \"live-or-die\" filtering.\n",
    "    \"\"\"\n",
    "    filtered_movie = np.zeros_like(binary_movie)\n",
    "\n",
    "    for i, frame in enumerate(binary_movie):\n",
    "        filtered_movie[i] = live_or_die_filter_frame(\n",
    "            frame, n_size, n_live, n_generation\n",
    "        )\n",
    "\n",
    "    return filtered_movie"
   ]
  },
  {
   "cell_type": "code",
   "execution_count": 14,
   "metadata": {},
   "outputs": [],
   "source": [
    "def detect_inside_cell(normalizing_frame, n_size=7, n_live=3, n_generation=1):\n",
    "    \"\"\"\n",
    "    Detects the inside of the cell by creating a binary image based on the median\n",
    "    threshold and refining it using the live-or-die algorithm.\n",
    "\n",
    "    Parameters:\n",
    "    - normalizing_frame: A 2D numpy array representing the normalizing frame.\n",
    "    - Nsize: Size of the neighborhood for the live-or-die algorithm.\n",
    "    - Nlive: Minimum number of \"live\" neighbors for a pixel to be considered inside the cell.\n",
    "    - Ngeneration: Number of iterations for the live-or-die algorithm.\n",
    "\n",
    "    Returns:\n",
    "    - A binary 2D numpy array representing the inside of the cell.\n",
    "    \"\"\"\n",
    "    # Step 1: Create a binary image based on the median value\n",
    "    median_value = np.median(normalizing_frame)\n",
    "    binary_image = normalizing_frame >= median_value\n",
    "    # Apply median filter to smooth the binary image before live-or-die to reduce noise\n",
    "    binary_image_smoothed = median_filter(binary_image, size=3)\n",
    "    # Step 2: Refine the binary image using the live-or-die filter\n",
    "    return live_or_die_filter_frame(\n",
    "        binary_image_smoothed, n_size=n_size, n_live=n_live, n_generation=n_generation\n",
    "    )"
   ]
  },
  {
   "cell_type": "code",
   "execution_count": 15,
   "metadata": {},
   "outputs": [],
   "source": [
    "def find_sparks(movie, threshold_movie, inside_cell):\n",
    "    \"\"\"\n",
    "    Finds the coordinates of sparks within the cell interior for a sequence of images.\n",
    "\n",
    "    Parameters:\n",
    "    - movie: A 3D numpy array representing the sequence of images.\n",
    "    - threshold_movie: A binary 3D numpy array where potential sparks are marked.\n",
    "    - inside_cell: A binary 2D numpy array representing the cell interior.\n",
    "\n",
    "    Returns:\n",
    "    - spark_info: A list of dictionaries, each containing the center of mass coordinates,\n",
    "      spark area, and blob number for each identified spark within the cell.\n",
    "    \"\"\"\n",
    "    spark_info = []\n",
    "    for i, (frame, threshold_frame) in enumerate(zip(movie, threshold_movie)):\n",
    "        # Multiply the binary images to isolate sparks within the cell interior\n",
    "        binary_spark_image = np.logical_and(inside_cell, threshold_frame)\n",
    "\n",
    "        # Label and identify each isolated spark\n",
    "        labeled_image, num_features = label(binary_spark_image)\n",
    "\n",
    "        for blob_number in range(1, num_features + 1):\n",
    "            # Isolate each spark based on its label\n",
    "            blob_mask = labeled_image == blob_number\n",
    "            isolated_spark = frame * blob_mask\n",
    "\n",
    "            # Calculate the center of mass for the isolated spark\n",
    "            center = center_of_mass(isolated_spark, labels=blob_mask)  # y, x\n",
    "\n",
    "            # Record spark information\n",
    "            spark_area = np.sum(blob_mask)\n",
    "            spark_info.append(\n",
    "                {\n",
    "                    \"center_of_mass\": center,\n",
    "                    \"spark_area\": spark_area,\n",
    "                    \"blob_number\": blob_number,\n",
    "                    \"frame_number\": i,\n",
    "                }\n",
    "            )\n",
    "    return spark_info"
   ]
  },
  {
   "cell_type": "code",
   "execution_count": 46,
   "metadata": {},
   "outputs": [],
   "source": [
    "def classify_sparks(\n",
    "    candidate_sparks,\n",
    "    fluorescence_frames,\n",
    "    threshold_a=0.01,\n",
    "    threshold_b=0.025,\n",
    "    n_size=3,\n",
    "    pre_frames=6,\n",
    "):\n",
    "    \"\"\"\n",
    "    Classifies candidate sparks based on statistical tests.\n",
    "\n",
    "    Parameters:\n",
    "    - candidate_sparks: List of dictionaries containing spark information including 'center_of_mass' and 'frame_index'.\n",
    "    - fluorescence_frames: 3D numpy array of fluorescence values with shape (num_frames, height, width).\n",
    "    - threshold_a: Threshold for the probability that the fluorescence increase is due to chance (for frame k).\n",
    "    - threshold_b: Threshold for the subsequent frame (k + 1).\n",
    "    - n_size: Size of the neighborhood for calculating local fluorescence statistics.\n",
    "    - pre_frames: Number of frames before the spark to use for calculating local fluorescence statistics.\n",
    "\n",
    "    Returns:\n",
    "    - A list of classified sparks (only those considered true sparks).\n",
    "    \"\"\"\n",
    "    true_sparks = []\n",
    "    half_n_size = n_size // 2\n",
    "\n",
    "    for spark in candidate_sparks:\n",
    "        y, x = spark[\"center_of_mass\"]\n",
    "        frame_number = spark[\"frame_number\"]\n",
    "\n",
    "        # Cast to int to avoid numpy indexing errors\n",
    "        x, y = int(x), int(y)\n",
    "\n",
    "        # Ensure coordinates and frame index are within bounds\n",
    "        if not (\n",
    "            half_n_size <= x < fluorescence_frames.shape[2] - half_n_size\n",
    "            and half_n_size <= y < fluorescence_frames.shape[1] - half_n_size\n",
    "        ):\n",
    "            continue  # Coordinates out of bounds\n",
    "        if not (pre_frames <= frame_number < fluorescence_frames.shape[0] - 1):\n",
    "            continue  # Not enough frames for analysis\n",
    "\n",
    "        # Calculate local fluorescence statistics in the neighborhood around the spark\n",
    "        local_frames = fluorescence_frames[\n",
    "            frame_number - pre_frames : frame_number - 1,\n",
    "            y - half_n_size : y + half_n_size + 1,\n",
    "            x - half_n_size : x + half_n_size + 1,\n",
    "        ]\n",
    "        m = np.mean(local_frames)\n",
    "        s = np.std(local_frames)\n",
    "\n",
    "        f_k = np.mean(\n",
    "            fluorescence_frames[\n",
    "                frame_number,\n",
    "                y - half_n_size : y + half_n_size + 1,\n",
    "                x - half_n_size : x + half_n_size + 1,\n",
    "            ]\n",
    "        )\n",
    "        f_k_plus_1 = np.mean(\n",
    "            fluorescence_frames[\n",
    "                frame_number + 1,\n",
    "                y - half_n_size : y + half_n_size + 1,\n",
    "                x - half_n_size : x + half_n_size + 1,\n",
    "            ]\n",
    "        )\n",
    "\n",
    "        # Calculate t-scores and p-values for frames k and k+1\n",
    "        t_score_k = (f_k - m) / s if s > 0 else np.inf\n",
    "        p_value_k = t.sf(\n",
    "            np.abs(t_score_k), df=pre_frames - 2\n",
    "        )  # df=4 because sample size is 5 (k-6 to k-2)\n",
    "\n",
    "        t_score_k_plus_1 = (f_k_plus_1 - m) / s if s > 0 else np.inf\n",
    "        p_value_k_plus_1 = t.sf(np.abs(t_score_k_plus_1), df=pre_frames - 2)\n",
    "\n",
    "        # Apply thresholds to classify the spark\n",
    "        if p_value_k < threshold_a and p_value_k_plus_1 < threshold_b:\n",
    "            true_sparks.append(spark)\n",
    "\n",
    "    return true_sparks"
   ]
  },
  {
   "cell_type": "code",
   "execution_count": 62,
   "metadata": {},
   "outputs": [],
   "source": [
    "def classify_sparks_wilcoxon(\n",
    "    candidate_sparks,\n",
    "    fluorescence_frames,\n",
    "    significance_level=0.05,\n",
    "    n_size=3,\n",
    "    pre_frames=6,\n",
    "):\n",
    "    true_sparks = []\n",
    "\n",
    "    for spark in candidate_sparks:\n",
    "        y, x = spark[\"center_of_mass\"]\n",
    "        frame_number = spark[\"frame_number\"]\n",
    "        x, y = int(x), int(y)\n",
    "\n",
    "        # Collect pre-spark and during-spark fluorescence intensities\n",
    "        pre_spark_intensities = fluorescence_frames[\n",
    "            frame_number - pre_frames : frame_number - 1,\n",
    "            y - n_size : y + n_size + 1,\n",
    "            x - n_size : x + n_size + 1,\n",
    "        ]\n",
    "        pre_spark_intensities = np.mean(pre_spark_intensities, axis=0)\n",
    "\n",
    "        during_spark_intensities = fluorescence_frames[\n",
    "            frame_number : frame_number + 2,\n",
    "            y - n_size : y + n_size + 1,\n",
    "            x - n_size : x + n_size + 1,\n",
    "        ]\n",
    "        during_spark_intensities = np.mean(during_spark_intensities, axis=0)\n",
    "\n",
    "        # Perform the Wilcoxon signed-rank test\n",
    "        _, p_value = wilcoxon(\n",
    "            pre_spark_intensities.flatten(),\n",
    "            during_spark_intensities.flatten(),\n",
    "            alternative=\"greater\",\n",
    "        )\n",
    "\n",
    "        # Check if the p-value is less than the significance level\n",
    "        if p_value < significance_level:\n",
    "            true_sparks.append(spark)\n",
    "\n",
    "    return true_sparks"
   ]
  },
  {
   "cell_type": "code",
   "execution_count": 17,
   "metadata": {},
   "outputs": [],
   "source": [
    "def analyze_fluorescence_distribution(movie_data):\n",
    "    \"\"\"\n",
    "    Analyzes the distribution of fluorescence intensity in the movie data.\n",
    "\n",
    "    Parameters:\n",
    "    - movie_data: A 3D numpy array with shape (num_frames, height, width), representing the fluorescence movie.\n",
    "\n",
    "    Outputs:\n",
    "    - Histograms of fluorescence intensity\n",
    "    - Statistical summary (mean, median, standard deviation, min, and max values)\n",
    "    \"\"\"\n",
    "    # Flatten the movie data to analyze the distribution of all pixels across all frames\n",
    "    flattened_data = movie_data.flatten()\n",
    "\n",
    "    # Calculate basic statistics\n",
    "    mean_intensity = np.mean(flattened_data)\n",
    "    median_intensity = np.median(flattened_data)\n",
    "    std_intensity = np.std(flattened_data)\n",
    "    min_intensity = np.min(flattened_data)\n",
    "    max_intensity = np.max(flattened_data)\n",
    "\n",
    "    print(f\"Mean fluorescence intensity: {mean_intensity}\")\n",
    "    print(f\"Median fluorescence intensity: {median_intensity}\")\n",
    "    print(f\"Standard deviation of fluorescence intensity: {std_intensity}\")\n",
    "    print(f\"Minimum fluorescence intensity: {min_intensity}\")\n",
    "    print(f\"Maximum fluorescence intensity: {max_intensity}\")\n",
    "\n",
    "    # Plotting the histogram of fluorescence intensity\n",
    "    plt.figure(figsize=(10, 6))\n",
    "    plt.hist(flattened_data, bins=50, color=\"blue\", alpha=0.7)\n",
    "    plt.title(\"Distribution of Fluorescence Intensity\")\n",
    "    plt.xlabel(\"Fluorescence Intensity\")\n",
    "    plt.ylabel(\"Frequency\")\n",
    "    plt.axvline(\n",
    "        mean_intensity,\n",
    "        color=\"r\",\n",
    "        linestyle=\"dashed\",\n",
    "        linewidth=1,\n",
    "        label=f\"Mean: {mean_intensity:.2f}\",\n",
    "    )\n",
    "    plt.axvline(\n",
    "        median_intensity,\n",
    "        color=\"g\",\n",
    "        linestyle=\"dashed\",\n",
    "        linewidth=1,\n",
    "        label=f\"Median: {median_intensity:.2f}\",\n",
    "    )\n",
    "    plt.legend()\n",
    "    plt.show()"
   ]
  },
  {
   "cell_type": "markdown",
   "metadata": {},
   "source": [
    "### Script Execution Flow"
   ]
  },
  {
   "cell_type": "code",
   "execution_count": 18,
   "metadata": {},
   "outputs": [
    {
     "name": "stdout",
     "output_type": "stream",
     "text": [
      "Movie shape:  (500, 64, 512)\n"
     ]
    }
   ],
   "source": [
    "# Define the path to your movie file\n",
    "# movie_path = r\"C:\\Users\\prisc\\Code\\sparks_project\\data\\sparks_dataset\\05_video.tif\"\n",
    "movie_path = r\"C:\\Users\\dotti\\Code\\sparks_project\\data\\sparks_dataset\\20_video.tif\"\n",
    "# movie_path = r\"C:\\Users\\dotti\\Desktop\\cropped 34_video.tif\"\n",
    "# shape is (904, 53, 284)\n",
    "\n",
    "# Load the movie\n",
    "movie_data = load_movie(movie_path)\n",
    "print(\"Movie shape: \", movie_data.shape)"
   ]
  },
  {
   "cell_type": "code",
   "execution_count": 19,
   "metadata": {},
   "outputs": [
    {
     "name": "stdout",
     "output_type": "stream",
     "text": [
      "Normalized movie shape:  (500, 64, 512)\n",
      "Max value in normalized movie:  5.022815531542323\n",
      "Min value in normalized movie:  0.377459342616006\n",
      "Filtered movie shape:  (500, 64, 512)\n",
      "Max value in filtered movie:  3.067690480471482\n",
      "Min value in filtered movie:  0.7066578265137713\n"
     ]
    }
   ],
   "source": [
    "# Filter the movie\n",
    "normalized_movie = preprocess_frames(movie_data)\n",
    "filtered_movie = apply_boxcar_filter(normalized_movie)\n",
    "print(\"Normalized movie shape: \", normalized_movie.shape)\n",
    "print(\"Max value in normalized movie: \", np.max(normalized_movie))\n",
    "print(\"Min value in normalized movie: \", np.min(normalized_movie))\n",
    "print(\"Filtered movie shape: \", filtered_movie.shape)\n",
    "print(\"Max value in filtered movie: \", np.max(filtered_movie))\n",
    "print(\"Min value in filtered movie: \", np.min(filtered_movie))"
   ]
  },
  {
   "cell_type": "code",
   "execution_count": 30,
   "metadata": {},
   "outputs": [
    {
     "name": "stdout",
     "output_type": "stream",
     "text": [
      "Thresholded movie shape:  (500, 64, 512)\n",
      "Number of nonzero values in thresholded movie:  28151\n",
      "Difference movie max:  0.864963773234166\n",
      "Difference movie min:  -0.5180579952096034\n"
     ]
    }
   ],
   "source": [
    "# Get the difference and thresholded movies\n",
    "threshold = 0.25\n",
    "diff_movie, threshold_movie = difference_and_threshold(\n",
    "    filtered_movie, threshold=threshold\n",
    ")\n",
    "print(\"Thresholded movie shape: \", threshold_movie.shape)\n",
    "print(\n",
    "    \"Number of nonzero values in thresholded movie: \", np.count_nonzero(threshold_movie)\n",
    ")\n",
    "print(\"Difference movie max: \", diff_movie.max())\n",
    "print(\"Difference movie min: \", diff_movie.min())"
   ]
  },
  {
   "cell_type": "code",
   "execution_count": 31,
   "metadata": {},
   "outputs": [
    {
     "name": "stdout",
     "output_type": "stream",
     "text": [
      "Filtered thresholded movie shape:  (500, 64, 512)\n",
      "Number of nonzero values in filtered thresholded movie:  14543\n"
     ]
    }
   ],
   "source": [
    "# Run the live-or-die filter on the thresholded movie\n",
    "n_size = 4\n",
    "n_live = 7\n",
    "n_generation = 3\n",
    "filtered_threshold_movie = live_or_die_filter(\n",
    "    threshold_movie, n_size, n_live, n_generation\n",
    ").astype(np.uint8)\n",
    "print(\"Filtered thresholded movie shape: \", filtered_threshold_movie.shape)\n",
    "print(\n",
    "    \"Number of nonzero values in filtered thresholded movie: \",\n",
    "    np.count_nonzero(filtered_threshold_movie),\n",
    ")"
   ]
  },
  {
   "cell_type": "code",
   "execution_count": 32,
   "metadata": {},
   "outputs": [
    {
     "name": "stdout",
     "output_type": "stream",
     "text": [
      "Inside cell shape:  (64, 512)\n",
      "Normalizing frame:\n"
     ]
    },
    {
     "data": {
      "image/png": "[encoded data removed]",
      "text/plain": [
       "<Figure size 640x480 with 1 Axes>"
      ]
     },
     "metadata": {},
     "output_type": "display_data"
    },
    {
     "name": "stdout",
     "output_type": "stream",
     "text": [
      "Inside cell:\n"
     ]
    },
    {
     "data": {
      "image/png": "[encoded data removed]",
      "text/plain": [
       "<Figure size 640x480 with 1 Axes>"
      ]
     },
     "metadata": {},
     "output_type": "display_data"
    }
   ],
   "source": [
    "# Compute cell mask\n",
    "normalizing_frame = np.median(movie_data[:10], axis=0)\n",
    "inside_cell = detect_inside_cell(normalizing_frame, n_size=7, n_live=3, n_generation=1)\n",
    "print(\"Inside cell shape: \", inside_cell.shape)\n",
    "print(\"Normalizing frame:\")\n",
    "plt.imshow(normalizing_frame, cmap=\"gray\")\n",
    "plt.show()\n",
    "print(\"Inside cell:\")\n",
    "plt.imshow(inside_cell)\n",
    "plt.show()"
   ]
  },
  {
   "cell_type": "code",
   "execution_count": 33,
   "metadata": {},
   "outputs": [
    {
     "name": "stdout",
     "output_type": "stream",
     "text": [
      "Number of sparks: 472\n",
      "Example of spark coordinates:\n",
      " {'center_of_mass': (10.488842597624009, 435.5018756710095), 'spark_area': 4, 'blob_number': 1, 'frame_number': 3}\n"
     ]
    }
   ],
   "source": [
    "# Get sparks candidates\n",
    "spark_coordinates = find_sparks(filtered_movie, filtered_threshold_movie, inside_cell)\n",
    "print(f\"Number of sparks: {len(spark_coordinates)}\")\n",
    "print(\"Example of spark coordinates:\\n\", spark_coordinates[0])"
   ]
  },
  {
   "cell_type": "code",
   "execution_count": 47,
   "metadata": {},
   "outputs": [
    {
     "name": "stdout",
     "output_type": "stream",
     "text": [
      "Detected 14 true Ca²⁺ sparks.\n",
      "Example of true spark:\n",
      " {'center_of_mass': (15.404361822051289, 431.5110502281297), 'spark_area': 27, 'blob_number': 1, 'frame_number': 169}\n"
     ]
    }
   ],
   "source": [
    "# Filter sparks according to statistical tests\n",
    "pre_frames = 19  # adapted to our dataset\n",
    "threshold_a = 0.05\n",
    "threshold_b = 0.1\n",
    "true_sparks = classify_sparks(\n",
    "    candidate_sparks=spark_coordinates,\n",
    "    fluorescence_frames=normalized_movie,\n",
    "    pre_frames=pre_frames,\n",
    "    threshold_a=threshold_a,\n",
    "    threshold_b=threshold_b,\n",
    ")\n",
    "print(f\"Detected {len(true_sparks)} true Ca²⁺ sparks.\")\n",
    "print(\"Example of true spark:\\n\", true_sparks[0])"
   ]
  },
  {
   "cell_type": "code",
   "execution_count": 70,
   "metadata": {},
   "outputs": [
    {
     "name": "stdout",
     "output_type": "stream",
     "text": [
      "Detected 41 true Ca²⁺ sparks using the Wilcoxon signed-rank test.\n",
      "Example of true spark using the Wilcoxon signed-rank test:\n",
      " {'center_of_mass': (5.812725007559121, 434.81052791212), 'spark_area': 11, 'blob_number': 1, 'frame_number': 37}\n"
     ]
    }
   ],
   "source": [
    "# Filter sparks according to the Wilcoxon signed-rank test\n",
    "pre_frames = 10\n",
    "significance_level = 0.15\n",
    "n_size = 3\n",
    "true_sparks_wilcoxon = classify_sparks_wilcoxon(\n",
    "    candidate_sparks=spark_coordinates,\n",
    "    fluorescence_frames=normalized_movie,\n",
    "    pre_frames=pre_frames,\n",
    "    significance_level=significance_level,\n",
    "    n_size=n_size,\n",
    ")\n",
    "\n",
    "print(\n",
    "    f\"Detected {len(true_sparks_wilcoxon)} true Ca²⁺ sparks using the Wilcoxon signed-rank test.\"\n",
    ")\n",
    "if len(true_sparks_wilcoxon) > 0:\n",
    "    print(\n",
    "        \"Example of true spark using the Wilcoxon signed-rank test:\\n\",\n",
    "        true_sparks_wilcoxon[0],\n",
    "    )"
   ]
  },
  {
   "cell_type": "markdown",
   "metadata": {},
   "source": [
    "### Analyze sample fluorescence data\n",
    "\n",
    "From ChatGPT:  \n",
    "The skewness could be affecting the performance of the statistical classification. Since your classification is based on the assumption that the data follows a normal distribution (as implied by the use of the t-test), the skewness could lead to many false negatives. You might consider using a non-parametric test instead or transforming the data to better meet the assumptions of the tests you're using."
   ]
  },
  {
   "cell_type": "code",
   "execution_count": 37,
   "metadata": {},
   "outputs": [
    {
     "name": "stdout",
     "output_type": "stream",
     "text": [
      "Mean fluorescence intensity: 1.0625913591758378\n",
      "Median fluorescence intensity: 1.0299409771870969\n",
      "Standard deviation of fluorescence intensity: 0.20059904899097608\n",
      "Minimum fluorescence intensity: 0.377459342616006\n",
      "Maximum fluorescence intensity: 5.022815531542323\n"
     ]
    },
    {
     "data": {
      "image/png": "[encoded data removed]",
      "text/plain": [
       "<Figure size 1000x600 with 1 Axes>"
      ]
     },
     "metadata": {},
     "output_type": "display_data"
    }
   ],
   "source": [
    "analyze_fluorescence_distribution(normalized_movie)"
   ]
  },
  {
   "cell_type": "markdown",
   "metadata": {},
   "source": [
    "### Optionally, visualize the process and results with Napari"
   ]
  },
  {
   "cell_type": "code",
   "execution_count": 71,
   "metadata": {},
   "outputs": [
    {
     "data": {
      "text/plain": [
       "<Points layer 'true sparks wilcoxon' at 0x226602d0f10>"
      ]
     },
     "execution_count": 71,
     "metadata": {},
     "output_type": "execute_result"
    }
   ],
   "source": [
    "viewer = napari.Viewer()\n",
    "viewer.add_image(movie_data, name=\"input movie\", visible=False)\n",
    "viewer.add_image(normalized_movie, name=\"normalized movie\")\n",
    "viewer.add_image(filtered_movie, name=\"filtered movie\")\n",
    "viewer.add_image(diff_movie, name=\"diff movie\")\n",
    "viewer.add_labels(threshold_movie, name=\"thresholded movie\", opacity=0.5, visible=False)\n",
    "viewer.add_labels(\n",
    "    filtered_threshold_movie, name=\"filtered thresholded movie\", opacity=0.7\n",
    ")\n",
    "viewer.add_points(\n",
    "    [\n",
    "        (\n",
    "            int(spark[\"frame_number\"]),\n",
    "            int(spark[\"center_of_mass\"][0]),\n",
    "            int(spark[\"center_of_mass\"][1]),\n",
    "        )\n",
    "        for spark in spark_coordinates\n",
    "    ],\n",
    "    name=\"candidate sparks\",\n",
    "    face_color=\"white\",\n",
    "    size=5,\n",
    ")\n",
    "viewer.add_points(\n",
    "    [\n",
    "        (\n",
    "            int(spark[\"frame_number\"]),\n",
    "            int(spark[\"center_of_mass\"][0]),\n",
    "            int(spark[\"center_of_mass\"][1]),\n",
    "        )\n",
    "        for spark in true_sparks\n",
    "    ],\n",
    "    name=\"true sparks\",\n",
    "    face_color=\"red\",\n",
    "    size=5,\n",
    "    visible=False,\n",
    ")\n",
    "\n",
    "viewer.add_points(\n",
    "    [\n",
    "        (\n",
    "            int(spark[\"frame_number\"]),\n",
    "            int(spark[\"center_of_mass\"][0]),\n",
    "            int(spark[\"center_of_mass\"][1]),\n",
    "        )\n",
    "        for spark in true_sparks_wilcoxon\n",
    "    ],\n",
    "    name=\"true sparks wilcoxon\",\n",
    "    face_color=\"green\",\n",
    "    size=5,\n",
    ")"
   ]
  },
  {
   "cell_type": "code",
   "execution_count": null,
   "metadata": {},
   "outputs": [],
   "source": []
  },
  {
   "cell_type": "code",
   "execution_count": null,
   "metadata": {},
   "outputs": [],
   "source": []
  },
  {
   "cell_type": "code",
   "execution_count": null,
   "metadata": {},
   "outputs": [],
   "source": []
  }
 ],
 "metadata": {
  "kernelspec": {
   "display_name": "sparks",
   "language": "python",
   "name": "python3"
  },
  "language_info": {
   "codemirror_mode": {
    "name": "ipython",
    "version": 3
   },
   "file_extension": ".py",
   "mimetype": "text/x-python",
   "name": "python",
   "nbconvert_exporter": "python",
   "pygments_lexer": "ipython3",
   "version": "3.10.12"
  }
 },
 "nbformat": 4,
 "nbformat_minor": 2
}
